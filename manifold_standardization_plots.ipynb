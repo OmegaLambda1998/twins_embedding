{
 "cells": [
  {
   "cell_type": "markdown",
   "metadata": {},
   "source": [
    "# Setup"
   ]
  },
  {
   "cell_type": "code",
   "execution_count": 1,
   "metadata": {},
   "outputs": [
    {
     "name": "stderr",
     "output_type": "stream",
     "text": [
      "/home/kyle/supernova/snfactory/manifold_twins/analysis/manifold_twins.py:15: TqdmExperimentalWarning: Using `tqdm.autonotebook.tqdm` in notebook mode. Use `tqdm.tqdm` instead to force console mode (e.g. in jupyter console)\n",
      "  from tqdm.autonotebook import tqdm\n"
     ]
    }
   ],
   "source": [
    "from manifold_twins import ManifoldTwinsAnalysis\n",
    "from matplotlib import pyplot as plt\n",
    "import numpy as np\n",
    "from tqdm.notebook import tqdm\n",
    "from idrtools import math\n",
    "from utils import frac_to_mag\n",
    "import utils"
   ]
  },
  {
   "cell_type": "code",
   "execution_count": 2,
   "metadata": {},
   "outputs": [],
   "source": [
    "%matplotlib widget"
   ]
  },
  {
   "cell_type": "code",
   "execution_count": 3,
   "metadata": {},
   "outputs": [
    {
     "name": "stdout",
     "output_type": "stream",
     "text": [
      "Loading dataset...\n",
      "    IDR:          BLACKSTON\n",
      "    Phase range: [-5.0, 5.0] days\n",
      "    Bin velocity: 1000.0\n"
     ]
    },
    {
     "data": {
      "application/vnd.jupyter.widget-view+json": {
       "model_id": "7498cfbf2d2d4ec5814f96f0cb9f2a00",
       "version_major": 2,
       "version_minor": 0
      },
      "text/plain": [
       "HBox(children=(FloatProgress(value=0.0, max=415.0), HTML(value='')))"
      ]
     },
     "metadata": {},
     "output_type": "display_data"
    },
    {
     "name": "stdout",
     "output_type": "stream",
     "text": [
      "\n",
      "Estimating the spectra at maximum light...\n",
      "    Loaded cached stan model\n",
      "    Using saved stan result\n",
      "Reading between the lines...\n",
      "    Loaded cached stan model\n",
      "    Using saved stan result\n",
      "Building masks...\n",
      "    Masking 30/203 targets whose uncertainty power is \n",
      "    more than 0.100 of the intrinsic power.\n",
      "Generating the manifold learning embedding...\n",
      "Loading other indicators of diversity...\n"
     ]
    },
    {
     "name": "stderr",
     "output_type": "stream",
     "text": [
      "/home/kyle/packages/conda/lib/python3.8/site-packages/numpy/ma/core.py:2794: UserWarning: Warning: converting a masked element to nan.\n",
      "  _data = np.array(data, dtype=dtype, copy=copy,\n",
      "/home/kyle/packages/conda/lib/python3.8/site-packages/george/kernels.py:95: RuntimeWarning: divide by zero encountered in log\n",
      "  log_constant = np.log(float(b)/self.ndim)\n"
     ]
    },
    {
     "name": "stdout",
     "output_type": "stream",
     "text": [
      "Fitting RBTL Twins Manifold GP...\n",
      "GP magnitude residuals fit:\n",
      "    Fit result:           b'CONVERGENCE: REL_REDUCTION_OF_F_<=_FACTR*EPSMCH'\n",
      "    intrinsic_dispersion      0.073 ± 0.008\n",
      "    gp_kernel_amplitude       0.164 ± 0.082\n",
      "    gp_length_scale           5.541 ± 3.315\n",
      "    offset                    -0.101 ± 0.124\n",
      "    covariate_slope_0         -0.122 ± 0.051\n",
      "    Fit NMAD                  0.083 mag\n",
      "    Fit std                   0.101 mag\n",
      "Fitting SALT2 Twins Manifold GP...\n",
      "GP magnitude residuals fit:\n",
      "    Fit result:           b'CONVERGENCE: REL_REDUCTION_OF_F_<=_FACTR*EPSMCH'\n",
      "    intrinsic_dispersion      0.085 ± 0.010\n",
      "    gp_kernel_amplitude       0.380 ± 0.230\n",
      "    gp_length_scale           8.630 ± 5.327\n",
      "    offset                    6.956 ± 0.299\n",
      "    covariate_slope_0         2.810 ± 0.153\n",
      "    Fit NMAD                  0.105 mag\n",
      "    Fit std                   0.118 mag\n",
      "Calculating SALT2 magnitude residuals...\n",
      "SALT2 magnitude residuals fit: \n",
      "    ref_mag: 7.052\n",
      "    alpha:   0.142\n",
      "    beta:    2.677\n",
      "    σ_int:   0.138\n",
      "    RMS:     0.156\n",
      "    NMAD:    0.109\n",
      "    WRMS:    0.156\n",
      "Done!\n"
     ]
    }
   ],
   "source": [
    "a = ManifoldTwinsAnalysis()\n",
    "a.settings['figure_directory'] = './output_standardization/figures/'\n",
    "a.settings['latex_directory'] = './output_standardization/latex/'\n",
    "a.run_analysis()"
   ]
  },
  {
   "cell_type": "markdown",
   "metadata": {},
   "source": [
    "# Sample selection and attrition"
   ]
  },
  {
   "cell_type": "markdown",
   "metadata": {},
   "source": [
    "## Look at which SNe~Ia are included or rejected"
   ]
  },
  {
   "cell_type": "code",
   "execution_count": 4,
   "metadata": {},
   "outputs": [
    {
     "data": {
      "application/vnd.jupyter.widget-view+json": {
       "model_id": "bdb938425aba4bc88ef55bb3395564f2",
       "version_major": 2,
       "version_minor": 0
      },
      "text/plain": [
       "Canvas(toolbar=Toolbar(toolitems=[('Home', 'Reset original view', 'home', 'home'), ('Back', 'Back to previous …"
      ]
     },
     "metadata": {},
     "output_type": "display_data"
    }
   ],
   "source": [
    "# Raw RBTL magnitude\n",
    "plt.figure()\n",
    "\n",
    "plt.scatter(a.redshifts[a.uncertainty_mask], a.rbtl_mags[a.uncertainty_mask], s=15, c='C3', label='Supernovae rejected by cuts')\n",
    "plt.scatter(a.redshifts[a.uncertainty_mask & a.redshift_color_mask], a.rbtl_mags[a.uncertainty_mask & a.redshift_color_mask], s=15, c='C0', label='Supernovae passing cuts')\n",
    "\n",
    "z_range = np.linspace(0.001, 0.09, 100)\n",
    "pec_vel_disp = a.calculate_peculiar_velocity_uncertainties(z_range)\n",
    "plt.fill_between(z_range, -pec_vel_disp, pec_vel_disp, alpha=0.2, label='Peculiar velocity dispersion')\n",
    "plt.axvline(0.02, lw=1, ls='--', c='k', label='Redshift cutoff')\n",
    "\n",
    "plt.xlim(0.001, 0.09)\n",
    "plt.ylim(-1, 1.5)\n",
    "plt.xlabel('Redshift')\n",
    "plt.ylabel('RBTL measured magnitude')\n",
    "plt.legend()\n",
    "a.savefig('rbtl_magnitude.pdf')"
   ]
  },
  {
   "cell_type": "code",
   "execution_count": 21,
   "metadata": {},
   "outputs": [
    {
     "data": {
      "application/vnd.jupyter.widget-view+json": {
       "model_id": "1420496e19b8444db4cb09b50647bf1b",
       "version_major": 2,
       "version_minor": 0
      },
      "text/plain": [
       "Canvas(toolbar=Toolbar(toolitems=[('Home', 'Reset original view', 'home', 'home'), ('Back', 'Back to previous …"
      ]
     },
     "metadata": {},
     "output_type": "display_data"
    }
   ],
   "source": [
    "# Corrected RBTL magnitude\n",
    "plt.figure()\n",
    "\n",
    "plt.scatter(\n",
    "    a.redshifts[a.uncertainty_mask & a.redshift_color_mask],\n",
    "    a.residuals_rbtl_gp.residuals[a.uncertainty_mask & a.redshift_color_mask],\n",
    "    s=15, c='C0', label='Supernovae passing cuts'\n",
    ")\n",
    "# plt.scatter(\n",
    "    # a.redshifts[a.uncertainty_mask & ~a.redshift_color_mask],\n",
    "    # a.residuals_rbtl_gp.residuals[a.uncertainty_mask & ~a.redshift_color_mask],\n",
    "    # s=15, c='C3', label='Supernovae rejected by cuts'\n",
    "# )\n",
    "plt.xlabel('Redshift')\n",
    "plt.ylabel('RBTL corrected magnitude')\n",
    "\n",
    "z_range = np.linspace(0.001, 0.09, 100)\n",
    "pec_vel_disp = a.calculate_peculiar_velocity_uncertainties(z_range)\n",
    "plt.fill_between(z_range, -pec_vel_disp, pec_vel_disp, alpha=0.2, label='Peculiar velocity dispersion')\n",
    "# plt.fill_between(z_range, -2*pec_vel_disp, 2*pec_vel_disp, alpha=0.1, facecolor='C0')\n",
    "# plt.fill_between(z_range, -3*pec_vel_disp, 3*pec_vel_disp, alpha=0.1, facecolor='C0')\n",
    "\n",
    "plt.legend()\n",
    "plt.xlim(0.01, 0.09)\n",
    "plt.ylim(-0.5, 0.5)\n",
    "a.savefig('rbtl_corr_magnitude_cut.pdf')"
   ]
  },
  {
   "cell_type": "code",
   "execution_count": 7,
   "metadata": {},
   "outputs": [
    {
     "data": {
      "application/vnd.jupyter.widget-view+json": {
       "model_id": "edc04b04ac584c3a9529de6d38eb8e76",
       "version_major": 2,
       "version_minor": 0
      },
      "text/plain": [
       "Canvas(toolbar=Toolbar(toolitems=[('Home', 'Reset original view', 'home', 'home'), ('Back', 'Back to previous …"
      ]
     },
     "metadata": {},
     "output_type": "display_data"
    },
    {
     "name": "stderr",
     "output_type": "stream",
     "text": [
      "<ipython-input-7-fd75dc86ab1b>:20: UserWarning: This figure was using constrained_layout==True, but that is incompatible with subplots_adjust and or tight_layout: setting constrained_layout==False. \n",
      "  plt.tight_layout()\n"
     ]
    }
   ],
   "source": [
    "plt.figure()\n",
    "\n",
    "base_mask = a.uncertainty_mask & a.salt_mask\n",
    "salt_hr = a.residuals_salt['residuals']\n",
    "\n",
    "plt.scatter(a.redshifts[base_mask], salt_hr[base_mask], s=15, c='C3', label='Supernovae rejected by cuts')\n",
    "plt.scatter(a.redshifts[base_mask & a.redshift_color_mask], salt_hr[base_mask & a.redshift_color_mask], s=15, c='C0', label='Supernovae passing cuts')\n",
    "\n",
    "z_range = np.linspace(0.001, 0.09, 100)\n",
    "pec_vel_disp = 0.00217 / z_range\n",
    "plt.fill_between(z_range, -pec_vel_disp, pec_vel_disp, alpha=0.2, label='Peculiar velocity dispersion')\n",
    "plt.axvline(0.02, lw=1, ls='--', c='k', label='Redshift cutoff')\n",
    "\n",
    "plt.xlim(0.001, 0.09)\n",
    "# plt.ylim(-1, 1.5)\n",
    "plt.ylim(-1, 2.)\n",
    "plt.xlabel('Redshift')\n",
    "plt.ylabel('SALT2 measured magnitude')\n",
    "plt.legend()\n",
    "plt.tight_layout()\n",
    "a.savefig('salt_magnitude_redshift.pdf')"
   ]
  },
  {
   "cell_type": "code",
   "execution_count": 28,
   "metadata": {},
   "outputs": [
    {
     "name": "stdout",
     "output_type": "stream",
     "text": [
      "\\textbf{General selection requirements} & \\\\\n",
      "All SNe~Ia with at least 5 SNfactory spectra          & 280 \\\\\n",
      "Included in Twins manifold                            & 173 \\\\\n",
      "\\hline\n",
      "\\textbf{Standardization of near-maximum spectra} & \\\\\n",
      "Host galaxy redshift available                        & 168 \\\\\n",
      "Host galaxy redshift above 0.02                       & 144 \\\\\n",
      "Measured $A_V$ < 0.5 mag                              & 134 \\\\\n",
      "Blinded training subsample                            & 72 \\\\\n",
      "Validation subsample                                  & 62 \\\\\n",
      "\\hline\n",
      "\\textbf{Comparisons to SALT2 standardization} & \\\\\n",
      "\\textbf{(Section~\\ref{sec:salt2_standardization})} & \\\\\n",
      "SNfactory SALT2 selection requirements                & 183 \\\\\n",
      "Passes host galaxy redshift and color requirements    & 151 \\\\\n",
      "Included in the Twins manifold                        & 127 \\\\\n",
      "Blinded training subsample                            & 66 \\\\\n",
      "Validation subsample                                  & 61 \\\\\n"
     ]
    }
   ],
   "source": [
    "with a.latex_open('attrition_standardization.tex') as f:\n",
    "    utils.latex_print(f, \"\\\\textbf{General selection requirements} & \\\\\\\\\")\n",
    "    utils.latex_print(f, \"All SNe~Ia with at least 5 SNfactory spectra          & %d \\\\\\\\\" % a.attrition_enough_spectra)\n",
    "    utils.latex_print(f, \"Included in Twins manifold                            & %d \\\\\\\\\" % np.sum(a.uncertainty_mask))\n",
    "    utils.latex_print(f, \"\\hline\")\n",
    "    \n",
    "    utils.latex_print(f, \"\\\\textbf{Standardization of near-maximum spectra} & \\\\\\\\\")\n",
    "    utils.latex_print(f, \"Host galaxy redshift available                        & %d \\\\\\\\\" % np.sum(a.uncertainty_mask & (a.redshift_errs < 0.004)))\n",
    "    utils.latex_print(f, \"Host galaxy redshift above 0.02                       & %d \\\\\\\\\" % np.sum(a.uncertainty_mask & (a.redshift_errs < 0.004) & (a.redshifts > 0.02)))\n",
    "    utils.latex_print(f, \"Measured $A_V$ < 0.5 mag                              & %d \\\\\\\\\" % np.sum(a.uncertainty_mask & a.redshift_color_mask))\n",
    "    utils.latex_print(f, \"Blinded training subsample                            & %d \\\\\\\\\" % np.sum(a.uncertainty_mask & a.redshift_color_mask & a.train_mask))\n",
    "    utils.latex_print(f, \"Validation subsample                                  & %d \\\\\\\\\" % np.sum(a.uncertainty_mask & a.redshift_color_mask & ~a.train_mask))\n",
    "    utils.latex_print(f, \"\\hline\")\n",
    "    \n",
    "    utils.latex_print(f, \"\\\\textbf{Comparisons to SALT2 standardization} & \\\\\\\\\")\n",
    "    utils.latex_print(f, r\"\\textbf{(Section~\\ref{sec:salt2_standardization})} & \\\\\")\n",
    "    utils.latex_print(f, \"SNfactory SALT2 selection requirements                & %d \\\\\\\\\" % np.sum(a.salt_mask))\n",
    "    utils.latex_print(f, \"Passes host galaxy redshift and color requirements    & %d \\\\\\\\\" % np.sum(a.salt_mask & a.redshift_color_mask))\n",
    "    utils.latex_print(f, \"Included in the Twins manifold                        & %d \\\\\\\\\" % np.sum(a.salt_mask & a.uncertainty_mask & a.redshift_color_mask))\n",
    "    utils.latex_print(f, \"Blinded training subsample                            & %d \\\\\\\\\" % np.sum(a.salt_mask & a.uncertainty_mask & a.redshift_color_mask & a.train_mask))\n",
    "    utils.latex_print(f, \"Validation subsample                                  & %d \\\\\\\\\" % np.sum(a.salt_mask & a.uncertainty_mask & a.redshift_color_mask & ~a.train_mask))"
   ]
  },
  {
   "cell_type": "markdown",
   "metadata": {},
   "source": [
    "# Standardization"
   ]
  },
  {
   "cell_type": "markdown",
   "metadata": {},
   "source": [
    "## Raw magnitudes"
   ]
  },
  {
   "cell_type": "code",
   "execution_count": 4,
   "metadata": {},
   "outputs": [
    {
     "name": "stdout",
     "output_type": "stream",
     "text": [
      "Raw RBTL mag std:  0.130 mag\n",
      "Raw RBTL mag NMAD: 0.108 mag\n"
     ]
    }
   ],
   "source": [
    "print(\"Raw RBTL mag std:  %.3f mag\" % np.std(a.rbtl_mags[a.uncertainty_mask & a.redshift_color_mask]))\n",
    "print(\"Raw RBTL mag NMAD: %.3f mag\" % math.nmad(a.rbtl_mags[a.uncertainty_mask & a.redshift_color_mask]))"
   ]
  },
  {
   "cell_type": "code",
   "execution_count": 5,
   "metadata": {},
   "outputs": [
    {
     "data": {
      "application/vnd.jupyter.widget-view+json": {
       "model_id": "e7445607ad8f4906be11ffad81fe513d",
       "version_major": 2,
       "version_minor": 0
      },
      "text/plain": [
       "Canvas(toolbar=Toolbar(toolitems=[('Home', 'Reset original view', 'home', 'home'), ('Back', 'Back to previous …"
      ]
     },
     "metadata": {},
     "output_type": "display_data"
    }
   ],
   "source": [
    "a.scatter_combined(a.rbtl_mags, a.uncertainty_mask & a.redshift_color_mask, vmin=-0.3, vmax=0.3, label='Magnitude residuals', invert_colorbar=True)\n",
    "a.savefig('embedding_residual_magnitudes.pdf')"
   ]
  },
  {
   "cell_type": "markdown",
   "metadata": {},
   "source": [
    "## GP standardization"
   ]
  },
  {
   "cell_type": "code",
   "execution_count": 6,
   "metadata": {},
   "outputs": [
    {
     "data": {
      "application/vnd.jupyter.widget-view+json": {
       "model_id": "47daa8aa462a45398b349a451f373b74",
       "version_major": 2,
       "version_minor": 0
      },
      "text/plain": [
       "Canvas(toolbar=Toolbar(toolitems=[('Home', 'Reset original view', 'home', 'home'), ('Back', 'Back to previous …"
      ]
     },
     "metadata": {},
     "output_type": "display_data"
    }
   ],
   "source": [
    "a.residuals_rbtl_gp.plot()\n",
    "a.savefig('rbtl_gp_predictions.pdf')"
   ]
  },
  {
   "cell_type": "markdown",
   "metadata": {},
   "source": [
    "## Standardization summary"
   ]
  },
  {
   "cell_type": "code",
   "execution_count": 24,
   "metadata": {},
   "outputs": [
    {
     "name": "stdout",
     "output_type": "stream",
     "text": [
      "\\newcommand{\\rawrbtlmagstd}{0.131 $\\pm$ 0.010}\n",
      "\\newcommand{\\rawrbtlmagnmad}{0.108 $\\pm$ 0.013}\n",
      "\n",
      "\\newcommand{\\rbtlgprms}{0.101 $\\pm$ 0.007}\n",
      "\\newcommand{\\rbtlgpnmad}{0.083 $\\pm$ 0.010}\n",
      "\\newcommand{\\rbtlgpintdisp}{0.073 $\\pm$ 0.008}\n",
      "\\newcommand{\\rbtlgpkernelamp}{0.164 $\\pm$ 0.082}\n",
      "\\newcommand{\\rbtlgpkernellengthscale}{5.54 $\\pm$ 3.32}\n",
      "\\newcommand{\\rbtlgpoffset}{-0.101 $\\pm$ 0.124}\n",
      "\\newcommand{\\rbtlgprv}{2.46 $\\pm$ 0.14}\n",
      "\n",
      "\\newcommand{\\saltgprms}{0.118 $\\pm$ 0.008}\n",
      "\\newcommand{\\saltgpnmad}{0.105 $\\pm$ 0.013}\n",
      "\\newcommand{\\saltgpintdisp}{0.085 $\\pm$ 0.010}\n",
      "\\newcommand{\\saltgpkernelamp}{0.380 $\\pm$ 0.230}\n",
      "\\newcommand{\\saltgpkernellengthscale}{8.63 $\\pm$ 5.33}\n",
      "\\newcommand{\\saltgpoffset}{6.956 $\\pm$ 0.299}\n",
      "\\newcommand{\\saltgpcolor}{2.81 $\\pm$ 0.15}\n",
      "\\newcommand{\\rbtlgpsaltcomprms}{0.100 $\\pm$ 0.008}\n",
      "\\newcommand{\\rbtlgpsaltcompnmad}{0.083 $\\pm$ 0.011}\n",
      "\n",
      "\\newcommand{\\pecvelcontribution}{0.055}\n"
     ]
    }
   ],
   "source": [
    "with a.latex_open('standardization_summary.tex') as f:\n",
    "    # Raw RBTL magnitudes\n",
    "    raw_rbtl_mags = a.rbtl_mags[a.uncertainty_mask & a.redshift_color_mask]\n",
    "    utils.latex_std(f, 'rawrbtlmagstd', raw_rbtl_mags)\n",
    "    utils.latex_nmad(f, 'rawrbtlmagnmad', raw_rbtl_mags)\n",
    "\n",
    "    # RBTL GP\n",
    "    rbtl_gp = a.residuals_rbtl_gp\n",
    "    rbtl_gp_mags = rbtl_gp.residuals[rbtl_gp.mask]\n",
    "    utils.latex_print(f, '')\n",
    "    utils.latex_std(f, 'rbtlgprms', rbtl_gp_mags)\n",
    "    utils.latex_nmad(f, 'rbtlgpnmad', rbtl_gp_mags)\n",
    "    fiducial_rv = a.settings['rbtl_fiducial_rv']\n",
    "    utils.latex_command(f, 'rbtlgpintdisp', '%.3f $\\\\pm$ %.3f', (rbtl_gp.parameters[0], rbtl_gp.parameter_uncertainties[0]))\n",
    "    utils.latex_command(f, 'rbtlgpkernelamp', '%.3f $\\\\pm$ %.3f', (np.abs(rbtl_gp.parameters[1]), rbtl_gp.parameter_uncertainties[1]))\n",
    "    utils.latex_command(f, 'rbtlgpkernellengthscale', '%.2f $\\\\pm$ %.2f', (rbtl_gp.parameters[2], rbtl_gp.parameter_uncertainties[2]))\n",
    "    utils.latex_command(f, 'rbtlgpoffset', '%.3f $\\\\pm$ %.3f', (rbtl_gp.parameters[3], rbtl_gp.parameter_uncertainties[3]))\n",
    "    utils.latex_command(f, 'rbtlgprv', '%.2f $\\\\pm$ %.2f', (fiducial_rv * (1 + rbtl_gp.parameters[4]), fiducial_rv * rbtl_gp.parameter_uncertainties[4]))\n",
    "\n",
    "    # SALT GP\n",
    "    salt_gp = a.residuals_salt_gp\n",
    "    salt_gp_mags = salt_gp.residuals[salt_gp.mask]\n",
    "    utils.latex_print(f, '')\n",
    "    utils.latex_std(f, 'saltgprms', salt_gp_mags)\n",
    "    utils.latex_nmad(f, 'saltgpnmad', salt_gp_mags)\n",
    "    utils.latex_command(f, 'saltgpintdisp', '%.3f $\\\\pm$ %.3f', (salt_gp.parameters[0], salt_gp.parameter_uncertainties[0]))\n",
    "    utils.latex_command(f, 'saltgpkernelamp', '%.3f $\\\\pm$ %.3f', (np.abs(salt_gp.parameters[1]), salt_gp.parameter_uncertainties[1]))\n",
    "    utils.latex_command(f, 'saltgpkernellengthscale', '%.2f $\\\\pm$ %.2f', (salt_gp.parameters[2], salt_gp.parameter_uncertainties[2]))\n",
    "    utils.latex_command(f, 'saltgpoffset', '%.3f $\\\\pm$ %.3f', (salt_gp.parameters[3], salt_gp.parameter_uncertainties[3]))\n",
    "    utils.latex_command(f, 'saltgpcolor', '%.2f $\\\\pm$ %.2f', (salt_gp.parameters[4], salt_gp.parameter_uncertainties[4]))\n",
    "    rbtl_gp_mags_salt_comp = rbtl_gp.residuals[salt_gp.mask]\n",
    "    utils.latex_std(f, 'rbtlgpsaltcomprms', rbtl_gp_mags_salt_comp)\n",
    "    utils.latex_nmad(f, 'rbtlgpsaltcompnmad', rbtl_gp_mags_salt_comp)\n",
    "\n",
    "    # Peculiar velocity contribution\n",
    "    utils.latex_print(f, \"\")\n",
    "    utils.latex_command(f, 'pecvelcontribution', '%.3f', np.sqrt(np.mean(a.calculate_peculiar_velocity_uncertainties(a.redshifts)[rbtl_gp.mask]**2)))"
   ]
  },
  {
   "cell_type": "markdown",
   "metadata": {},
   "source": [
    "# SALT2 comparison"
   ]
  },
  {
   "cell_type": "markdown",
   "metadata": {},
   "source": [
    "## SALT2 fit"
   ]
  },
  {
   "cell_type": "markdown",
   "metadata": {},
   "source": [
    "## SALT2 magnitudes vs components"
   ]
  },
  {
   "cell_type": "code",
   "execution_count": 5,
   "metadata": {},
   "outputs": [
    {
     "data": {
      "application/vnd.jupyter.widget-view+json": {
       "model_id": "9405fc60039f4a3b9fc980f2f18b870e",
       "version_major": 2,
       "version_minor": 0
      },
      "text/plain": [
       "Canvas(toolbar=Toolbar(toolitems=[('Home', 'Reset original view', 'home', 'home'), ('Back', 'Back to previous …"
      ]
     },
     "metadata": {},
     "output_type": "display_data"
    }
   ],
   "source": [
    "a.scatter_combined(a.residuals_salt['residuals'], mask=a.salt_mask & a.redshift_color_mask & a.uncertainty_mask, vmin=-0.3, vmax=0.3, label='SALT2-corrected magnitude residuals', invert_colorbar=True)\n",
    "a.savefig('salt2_hr_embedding.pdf')"
   ]
  },
  {
   "cell_type": "code",
   "execution_count": 60,
   "metadata": {},
   "outputs": [
    {
     "data": {
      "application/vnd.jupyter.widget-view+json": {
       "model_id": "3c047e8c9b3a4ff4a9bb598454a5603f",
       "version_major": 2,
       "version_minor": 0
      },
      "text/plain": [
       "Canvas(toolbar=Toolbar(toolitems=[('Home', 'Reset original view', 'home', 'home'), ('Back', 'Back to previous …"
      ]
     },
     "metadata": {},
     "output_type": "display_data"
    },
    {
     "name": "stderr",
     "output_type": "stream",
     "text": [
      "<ipython-input-60-c09598adb027>:33: UserWarning: This figure was using constrained_layout==True, but that is incompatible with subplots_adjust and or tight_layout: setting constrained_layout==False. \n",
      "  plt.tight_layout()\n"
     ]
    },
    {
     "data": {
      "application/vnd.jupyter.widget-view+json": {
       "model_id": "810c8938495542329c7876a8baab7bf8",
       "version_major": 2,
       "version_minor": 0
      },
      "text/plain": [
       "Canvas(toolbar=Toolbar(toolitems=[('Home', 'Reset original view', 'home', 'home'), ('Back', 'Back to previous …"
      ]
     },
     "metadata": {},
     "output_type": "display_data"
    },
    {
     "name": "stderr",
     "output_type": "stream",
     "text": [
      "<ipython-input-60-c09598adb027>:48: UserWarning: This figure was using constrained_layout==True, but that is incompatible with subplots_adjust and or tight_layout: setting constrained_layout==False. \n",
      "  plt.tight_layout()\n"
     ]
    }
   ],
   "source": [
    "plt.figure()\n",
    "\n",
    "use_x = a.embedding[:, 0]\n",
    "\n",
    "mask = a.salt_mask & a.redshift_color_mask & a.uncertainty_mask\n",
    "residuals = a.residuals_salt['residuals']\n",
    "residual_uncertainties = a.residuals_salt['residual_uncertainties']\n",
    "\n",
    "plt.errorbar(use_x[mask], residuals[mask], residual_uncertainties[mask], label='Individual SNe Ia', fmt='.', alpha=0.25, c='k')\n",
    "\n",
    "mask_91t = a.indicators['peculiar_type'] == '91T-like'\n",
    "plt.scatter(use_x[mask_91t & mask], residuals[mask_91t & mask], label='91T-like SNe Ia', s=15, marker='s', zorder=10)\n",
    "\n",
    "from scipy.stats import binned_statistic\n",
    "binned_mean, bin_edges, binnumber = binned_statistic(use_x[mask], residuals[mask], 'mean', bins=10)\n",
    "binned_var_num, bin_edges, binnumber = binned_statistic(use_x[mask], residual_uncertainties[mask]**2, 'sum', bins=10)\n",
    "binned_var_denom, bin_edges, binnumber = binned_statistic(use_x[mask], residual_uncertainties[mask]**2, 'count', bins=10)\n",
    "binned_yerr = np.sqrt(binned_var_num / binned_var_denom**2)\n",
    "\n",
    "bin_centers = (bin_edges[:-1] + bin_edges[1:]) / 2.\n",
    "plt.step(bin_edges, np.hstack([binned_mean, binned_mean[-1]]), where='post', c='C3', lw=2, label='Binned mean')\n",
    "plt.errorbar(bin_centers, binned_mean, yerr=binned_yerr, fmt='none', c='C3', lw=2)\n",
    "\n",
    "plt.legend()\n",
    "\n",
    "plt.gca().invert_yaxis()\n",
    "\n",
    "plt.axhline(0, c='k', ls='--', lw=1)\n",
    "\n",
    "plt.xlabel('Twins Manifold Component 1')\n",
    "plt.ylabel('SALT2 Hubble residuals')\n",
    "\n",
    "plt.tight_layout()\n",
    "a.savefig('salt2_hr_component_1.pdf')\n",
    "\n",
    "plt.figure()\n",
    "plt.hist(residuals[(use_x < 3) & mask], 10, (-0.6, 0.4), alpha=0.3, color='C0', label='Component 1 < 2', density=True)\n",
    "plt.hist(residuals[(use_x < 3) & mask], 10, (-0.6, 0.4), histtype='step', lw=2, color='C0', density=True)\n",
    "plt.hist(residuals[(use_x > 3) & mask], 10, (-0.6, 0.4), alpha=0.3, color='C1', label='Component 1 > 2', density=True)\n",
    "plt.hist(residuals[(use_x > 3) & mask], 10, (-0.6, 0.4), histtype='step', lw=2, color='C1', density=True)\n",
    "\n",
    "plt.gca().invert_xaxis()\n",
    "\n",
    "plt.xlabel('SALT2 residual magnitude')\n",
    "plt.ylabel('Normalized counts')\n",
    "plt.legend()\n",
    "\n",
    "plt.tight_layout()\n",
    "a.savefig('salt2_hr_hist.pdf')"
   ]
  },
  {
   "cell_type": "markdown",
   "metadata": {},
   "source": [
    "## SALT2 + Isomap standardization"
   ]
  },
  {
   "cell_type": "code",
   "execution_count": 7,
   "metadata": {},
   "outputs": [
    {
     "name": "stderr",
     "output_type": "stream",
     "text": [
      "/home/kyle/packages/conda/lib/python3.8/site-packages/george/kernels.py:95: RuntimeWarning: divide by zero encountered in log\n",
      "  log_constant = np.log(float(b)/self.ndim)\n"
     ]
    },
    {
     "name": "stdout",
     "output_type": "stream",
     "text": [
      "GP magnitude residuals fit:\n",
      "    Fit result:           b'CONVERGENCE: REL_REDUCTION_OF_F_<=_FACTR*EPSMCH'\n",
      "    intrinsic_dispersion      0.085 ± 0.010\n",
      "    gp_kernel_amplitude       0.380 ± 0.230\n",
      "    gp_length_scale           8.630 ± 5.327\n",
      "    offset                    6.956 ± 0.299\n",
      "    covariate_slope_0         2.810 ± 0.153\n",
      "    Fit NMAD                  0.105 mag\n",
      "    Fit std                   0.117 mag\n"
     ]
    },
    {
     "data": {
      "application/vnd.jupyter.widget-view+json": {
       "model_id": "cc3a009d6873471da38bdc7a6dc6c4b9",
       "version_major": 2,
       "version_minor": 0
      },
      "text/plain": [
       "Canvas(toolbar=Toolbar(toolitems=[('Home', 'Reset original view', 'home', 'home'), ('Back', 'Back to previous …"
      ]
     },
     "metadata": {},
     "output_type": "display_data"
    }
   ],
   "source": [
    "residuals_salt_gp = a.fit_gp_magnitude_residuals(kind='salt_raw', verbosity=2)\n",
    "residuals_salt_gp.plot(vmin=-0.5, vmax=0.5)\n",
    "a.savefig('salt_gp_standardization.pdf')"
   ]
  },
  {
   "cell_type": "code",
   "execution_count": 16,
   "metadata": {},
   "outputs": [
    {
     "data": {
      "application/vnd.jupyter.widget-view+json": {
       "model_id": "43d4a99da95148b489103daa1e67f396",
       "version_major": 2,
       "version_minor": 0
      },
      "text/plain": [
       "Canvas(toolbar=Toolbar(toolitems=[('Home', 'Reset original view', 'home', 'home'), ('Back', 'Back to previous …"
      ]
     },
     "metadata": {},
     "output_type": "display_data"
    }
   ],
   "source": [
    "plt.figure()\n",
    "m = a.salt_mask & a.uncertainty_mask & a.redshift_color_mask\n",
    "gp_residuals = residuals_salt_gp.residuals\n",
    "salt_residuals = a.residuals_salt['residuals']\n",
    "plt.scatter(a.salt_x1[m], (gp_residuals - salt_residuals)[m], c=a.embedding[m, 0], cmap=plt.cm.coolwarm, s=a.settings['scatter_plot_marker_size'], edgecolors='gray')\n",
    "plt.gca().invert_yaxis()\n",
    "plt.colorbar(label='Value of Twins Manifold Component 1', aspect=30)\n",
    "plt.xlabel('SALT2 $x_1$')\n",
    "# plt.ylabel('Difference between SALT2 + twins manifold\\n and SALT2 standardization (mag)')\n",
    "# plt.ylabel('Difference between SALT2 + Twins Manifold\\n and SALT2 + $x_1$ standardization (mag)')\n",
    "plt.ylabel('Magnitudes')\n",
    "a.savefig('salt_x1_manifold_difference.pdf')"
   ]
  },
  {
   "cell_type": "markdown",
   "metadata": {},
   "source": [
    "# Host galaxy correlations"
   ]
  },
  {
   "cell_type": "markdown",
   "metadata": {},
   "source": [
    "## Simultaneous fits"
   ]
  },
  {
   "cell_type": "code",
   "execution_count": 7,
   "metadata": {},
   "outputs": [
    {
     "name": "stdout",
     "output_type": "stream",
     "text": [
      "Both:\n"
     ]
    },
    {
     "name": "stderr",
     "output_type": "stream",
     "text": [
      "/home/kyle/packages/conda/lib/python3.8/site-packages/george/kernels.py:95: RuntimeWarning: divide by zero encountered in log\n",
      "  log_constant = np.log(float(b)/self.ndim)\n"
     ]
    },
    {
     "name": "stdout",
     "output_type": "stream",
     "text": [
      "GP magnitude residuals fit:\n",
      "    Fit result:           b'CONVERGENCE: REL_REDUCTION_OF_F_<=_FACTR*EPSMCH'\n",
      "    intrinsic_dispersion      0.067 ± 0.008\n",
      "    gp_kernel_amplitude       0.097 ± 0.049\n",
      "    gp_length_scale           4.610 ± 3.202\n",
      "    offset                    -0.076 ± 0.076\n",
      "    covariate_slope_0         -0.122 ± 0.056\n",
      "    covariate_slope_1         -0.013 ± 0.023\n",
      "    covariate_slope_2         0.058 ± 0.025\n",
      "    Fit NMAD                  0.066 mag\n",
      "    Fit std                   0.097 mag\n",
      "\n",
      "Global mass:\n",
      "GP magnitude residuals fit:\n",
      "    Fit result:           b'CONVERGENCE: REL_REDUCTION_OF_F_<=_FACTR*EPSMCH'\n",
      "    intrinsic_dispersion      0.068 ± 0.010\n",
      "    gp_kernel_amplitude       0.087 ± 0.036\n",
      "    gp_length_scale           3.423 ± 2.393\n",
      "    offset                    -0.025 ± 0.060\n",
      "    covariate_slope_0         -0.123 ± 0.058\n",
      "    covariate_slope_1         -0.040 ± 0.020\n",
      "    Fit NMAD                  0.074 mag\n",
      "    Fit std                   0.099 mag\n",
      "\n",
      "LSSFR:\n",
      "GP magnitude residuals fit:\n",
      "    Fit result:           b'CONVERGENCE: REL_REDUCTION_OF_F_<=_FACTR*EPSMCH'\n",
      "    intrinsic_dispersion      0.068 ± 0.008\n",
      "    gp_kernel_amplitude       0.097 ± 0.048\n",
      "    gp_length_scale           4.543 ± 3.120\n",
      "    offset                    -0.089 ± 0.073\n",
      "    covariate_slope_0         -0.126 ± 0.056\n",
      "    covariate_slope_1         0.066 ± 0.022\n",
      "    Fit NMAD                  0.077 mag\n",
      "    Fit std                   0.097 mag\n"
     ]
    }
   ],
   "source": [
    "# RBTL with SALT and Rigault cuts\n",
    "print(\"Both:\")\n",
    "a.fit_gp_magnitude_residuals(\n",
    "    kind='rbtl', mask=a.host_mask & a.salt_mask & a.peculiar_mask,\n",
    "    additional_covariates=[a.indicators['host_p(highgmass)'], a.indicators['host_p(prompt)']],\n",
    ")\n",
    "print(\"\\nGlobal mass:\")\n",
    "a.fit_gp_magnitude_residuals(\n",
    "    kind='rbtl', mask=a.host_mask & a.salt_mask & a.peculiar_mask,\n",
    "    additional_covariates=[a.indicators['host_p(highgmass)']]\n",
    ")\n",
    "print(\"\\nLSSFR:\")\n",
    "gp = a.fit_gp_magnitude_residuals(\n",
    "    kind='rbtl', mask=a.host_mask & a.salt_mask & a.peculiar_mask,\n",
    "    additional_covariates=[a.indicators['host_p(prompt)']]\n",
    ")"
   ]
  },
  {
   "cell_type": "code",
   "execution_count": 8,
   "metadata": {},
   "outputs": [
    {
     "name": "stdout",
     "output_type": "stream",
     "text": [
      "Both:\n",
      "GP magnitude residuals fit:\n",
      "    Fit result:           b'CONVERGENCE: REL_REDUCTION_OF_F_<=_FACTR*EPSMCH'\n",
      "    intrinsic_dispersion      0.072 ± 0.008\n",
      "    gp_kernel_amplitude       0.221 ± 0.148\n",
      "    gp_length_scale           9.399 ± 6.412\n",
      "    offset                    -0.184 ± 0.199\n",
      "    covariate_slope_0         -0.124 ± 0.058\n",
      "    covariate_slope_1         -0.008 ± 0.023\n",
      "    covariate_slope_2         0.053 ± 0.024\n",
      "    Fit NMAD                  0.076 mag\n",
      "    Fit std                   0.100 mag\n",
      "\n",
      "Global mass:\n",
      "GP magnitude residuals fit:\n",
      "    Fit result:           b'CONVERGENCE: REL_REDUCTION_OF_F_<=_FACTR*EPSMCH'\n",
      "    intrinsic_dispersion      0.073 ± 0.008\n",
      "    gp_kernel_amplitude       0.191 ± 0.118\n",
      "    gp_length_scale           7.582 ± 5.090\n",
      "    offset                    -0.121 ± 0.163\n",
      "    covariate_slope_0         -0.122 ± 0.059\n",
      "    covariate_slope_1         -0.032 ± 0.020\n",
      "    Fit NMAD                  0.077 mag\n",
      "    Fit std                   0.102 mag\n",
      "\n",
      "LSSFR:\n",
      "GP magnitude residuals fit:\n",
      "    Fit result:           b'CONVERGENCE: REL_REDUCTION_OF_F_<=_FACTR*EPSMCH'\n",
      "    intrinsic_dispersion      0.072 ± 0.008\n",
      "    gp_kernel_amplitude       0.218 ± 0.145\n",
      "    gp_length_scale           9.273 ± 6.316\n",
      "    offset                    -0.190 ± 0.196\n",
      "    covariate_slope_0         -0.127 ± 0.057\n",
      "    covariate_slope_1         0.057 ± 0.021\n",
      "    Fit NMAD                  0.079 mag\n",
      "    Fit std                   0.100 mag\n"
     ]
    }
   ],
   "source": [
    "# RBTL No SALT mask\n",
    "print(\"Both:\")\n",
    "a.fit_gp_magnitude_residuals(\n",
    "    kind='rbtl', mask=a.host_mask,\n",
    "    additional_covariates=[a.indicators['host_p(highgmass)'], a.indicators['host_p(prompt)']],\n",
    ")\n",
    "print(\"\\nGlobal mass:\")\n",
    "a.fit_gp_magnitude_residuals(\n",
    "    kind='rbtl', mask=a.host_mask,\n",
    "    additional_covariates=[a.indicators['host_p(highgmass)']]\n",
    ")\n",
    "print(\"\\nLSSFR:\")\n",
    "gp = a.fit_gp_magnitude_residuals(\n",
    "    kind='rbtl', mask=a.host_mask,\n",
    "    additional_covariates=[a.indicators['host_p(prompt)']]\n",
    ")"
   ]
  },
  {
   "cell_type": "code",
   "execution_count": 9,
   "metadata": {},
   "outputs": [
    {
     "name": "stdout",
     "output_type": "stream",
     "text": [
      "Both:\n",
      "GP magnitude residuals fit:\n",
      "    Fit result:           b'CONVERGENCE: REL_REDUCTION_OF_F_<=_FACTR*EPSMCH'\n",
      "    intrinsic_dispersion      0.081 ± 0.011\n",
      "    gp_kernel_amplitude       0.360 ± 0.247\n",
      "    gp_length_scale           9.214 ± 6.406\n",
      "    offset                    7.029 ± 0.292\n",
      "    covariate_slope_0         2.794 ± 0.166\n",
      "    covariate_slope_1         -0.014 ± 0.029\n",
      "    covariate_slope_2         0.045 ± 0.031\n",
      "    Fit NMAD                  0.117 mag\n",
      "    Fit std                   0.116 mag\n",
      "\n",
      "Global mass:\n",
      "GP magnitude residuals fit:\n",
      "    Fit result:           b'CONVERGENCE: REL_REDUCTION_OF_F_<=_FACTR*EPSMCH'\n",
      "    intrinsic_dispersion      0.082 ± 0.011\n",
      "    gp_kernel_amplitude       0.329 ± 0.220\n",
      "    gp_length_scale           8.353 ± 5.918\n",
      "    offset                    7.057 ± 0.261\n",
      "    covariate_slope_0         2.793 ± 0.167\n",
      "    covariate_slope_1         -0.036 ± 0.025\n",
      "    Fit NMAD                  0.121 mag\n",
      "    Fit std                   0.117 mag\n",
      "\n",
      "LSSFR:\n",
      "GP magnitude residuals fit:\n",
      "    Fit result:           b'CONVERGENCE: REL_REDUCTION_OF_F_<=_FACTR*EPSMCH'\n",
      "    intrinsic_dispersion      0.081 ± 0.011\n",
      "    gp_kernel_amplitude       0.359 ± 0.245\n",
      "    gp_length_scale           9.191 ± 6.381\n",
      "    offset                    7.012 ± 0.289\n",
      "    covariate_slope_0         2.781 ± 0.164\n",
      "    covariate_slope_1         0.053 ± 0.027\n",
      "    Fit NMAD                  0.124 mag\n",
      "    Fit std                   0.116 mag\n"
     ]
    }
   ],
   "source": [
    "# SALT + manifold with Rigault cuts\n",
    "print(\"Both:\")\n",
    "a.fit_gp_magnitude_residuals(\n",
    "    kind='salt_raw', mask=a.host_mask & a.salt_mask & a.peculiar_mask,\n",
    "    additional_covariates=[a.indicators['host_p(highgmass)'], a.indicators['host_p(prompt)']],\n",
    ")\n",
    "print(\"\\nGlobal mass:\")\n",
    "a.fit_gp_magnitude_residuals(\n",
    "    kind='salt_raw', mask=a.host_mask & a.salt_mask & a.peculiar_mask,\n",
    "    additional_covariates=[a.indicators['host_p(highgmass)']]\n",
    ")\n",
    "print(\"\\nLSSFR:\")\n",
    "gp = a.fit_gp_magnitude_residuals(\n",
    "    kind='salt_raw', mask=a.host_mask & a.salt_mask & a.peculiar_mask,\n",
    "    additional_covariates=[a.indicators['host_p(prompt)']]\n",
    ")"
   ]
  },
  {
   "cell_type": "code",
   "execution_count": 10,
   "metadata": {},
   "outputs": [
    {
     "data": {
      "application/vnd.jupyter.widget-view+json": {
       "model_id": "e716f6138f92449c84958f159054bbf0",
       "version_major": 2,
       "version_minor": 0
      },
      "text/plain": [
       "HBox(children=(FloatProgress(value=0.0), HTML(value='')))"
      ]
     },
     "metadata": {},
     "output_type": "display_data"
    },
    {
     "name": "stdout",
     "output_type": "stream",
     "text": [
      "\n"
     ]
    }
   ],
   "source": [
    "ref, bootstrap = a.bootstrap_salt_magnitude_residuals(\n",
    "    mask=a.host_mask & a.salt_mask & a.peculiar_mask,\n",
    "    num_samples=100,\n",
    "    additional_covariates=[a.indicators['host_p(prompt)'], a.indicators['host_p(highgmass)']]\n",
    ")"
   ]
  },
  {
   "cell_type": "code",
   "execution_count": 11,
   "metadata": {},
   "outputs": [
    {
     "name": "stdout",
     "output_type": "stream",
     "text": [
      "0.103, 0.102, 0.033\n",
      "-0.060, -0.063, 0.027\n"
     ]
    }
   ],
   "source": [
    "var = 'covariate_amplitude_0'\n",
    "print(f'{ref[var]:.3f}, {np.mean(bootstrap[var]):.3f}, {np.std(bootstrap[var]):.3f}')\n",
    "var = 'covariate_amplitude_1'\n",
    "print(f'{ref[var]:.3f}, {np.mean(bootstrap[var]):.3f}, {np.std(bootstrap[var]):.3f}')"
   ]
  },
  {
   "cell_type": "code",
   "execution_count": 12,
   "metadata": {},
   "outputs": [
    {
     "name": "stdout",
     "output_type": "stream",
     "text": [
      "SALT2 magnitude residuals fit: \n",
      "    ref_mag: 7.049\n",
      "    alpha:   0.165\n",
      "    beta:    2.755\n",
      "    σ_int:   0.081\n",
      "    RMS:     0.113\n",
      "    NMAD:    0.116\n",
      "    WRMS:    0.112\n",
      "    amp[0]:  -0.060\n",
      "    amp[1]:  0.103\n",
      "SALT2 magnitude residuals fit: \n",
      "    ref_mag: 7.127\n",
      "    alpha:   0.152\n",
      "    beta:    2.753\n",
      "    σ_int:   0.089\n",
      "    RMS:     0.118\n",
      "    NMAD:    0.106\n",
      "    WRMS:    0.117\n",
      "    amp[0]:  -0.108\n",
      "SALT2 magnitude residuals fit: \n",
      "    ref_mag: 6.998\n",
      "    alpha:   0.162\n",
      "    beta:    2.692\n",
      "    σ_int:   0.085\n",
      "    RMS:     0.115\n",
      "    NMAD:    0.124\n",
      "    WRMS:    0.114\n",
      "    amp[0]:  0.138\n",
      "Done!\n"
     ]
    }
   ],
   "source": [
    "a.fit_salt_magnitude_residuals(\n",
    "    mask=a.host_mask & a.salt_mask & a.peculiar_mask,\n",
    "    additional_covariates=[a.indicators['host_p(highgmass)'], a.indicators['host_p(prompt)']]\n",
    ")\n",
    "\n",
    "a.fit_salt_magnitude_residuals(\n",
    "    mask=a.host_mask & a.salt_mask & a.peculiar_mask,\n",
    "    additional_covariates=[a.indicators['host_p(highgmass)']]\n",
    ")\n",
    "\n",
    "a.fit_salt_magnitude_residuals(\n",
    "    mask=a.host_mask & a.salt_mask & a.peculiar_mask,\n",
    "    additional_covariates=[a.indicators['host_p(prompt)']]\n",
    ")\n",
    "\n",
    "print(\"Done!\")"
   ]
  },
  {
   "cell_type": "markdown",
   "metadata": {},
   "source": [
    "## Residuals fits"
   ]
  },
  {
   "cell_type": "code",
   "execution_count": 13,
   "metadata": {},
   "outputs": [],
   "source": [
    "import importlib\n",
    "import hoststep\n",
    "importlib.reload(hoststep)\n",
    "from hoststep import fit_step, plot_step"
   ]
  },
  {
   "cell_type": "code",
   "execution_count": 14,
   "metadata": {},
   "outputs": [
    {
     "name": "stdout",
     "output_type": "stream",
     "text": [
      "SALT2 magnitude residuals fit: \n",
      "    ref_mag: 7.067\n",
      "    alpha:   0.137\n",
      "    beta:    2.730\n",
      "    σ_int:   0.091\n",
      "    RMS:     0.118\n",
      "    NMAD:    0.096\n",
      "    WRMS:    0.118\n",
      "\n",
      "GP magnitude residuals fit:\n",
      "    Fit result:           b'CONVERGENCE: REL_REDUCTION_OF_F_<=_FACTR*EPSMCH'\n",
      "    intrinsic_dispersion      0.068 ± 0.010\n",
      "    gp_kernel_amplitude       0.085 ± 0.030\n",
      "    gp_length_scale           2.813 ± 1.749\n",
      "    offset                    -0.047 ± 0.053\n",
      "    covariate_slope_0         -0.140 ± 0.058\n",
      "    Fit NMAD                  0.087 mag\n",
      "    Fit std                   0.100 mag\n",
      "\n",
      "GP magnitude residuals fit:\n",
      "    Fit result:           b'CONVERGENCE: REL_REDUCTION_OF_F_<=_FACTR*EPSMCH'\n",
      "    intrinsic_dispersion      0.083 ± 0.011\n",
      "    gp_kernel_amplitude       0.304 ± 0.196\n",
      "    gp_length_scale           7.597 ± 5.351\n",
      "    offset                    7.021 ± 0.236\n",
      "    covariate_slope_0         2.749 ± 0.167\n",
      "    Fit NMAD                  0.119 mag\n",
      "    Fit std                   0.118 mag\n",
      "\n",
      "SALT2:\n",
      "  Global mass:\n",
      "    Step: -0.082 ± 0.021 mag, σ1: 0.068 ± 0.018 mag, σ2: 0.084 ± 0.014 mag\n",
      "  LSSFR:\n",
      "    Step: +0.093 ± 0.022 mag, σ1: 0.091 ± 0.016 mag, σ2: 0.054 ± 0.017 mag\n",
      "\n",
      "RBTL GP:\n",
      "  Global mass:\n",
      "    Step: -0.032 ± 0.018 mag, σ1: 0.078 ± 0.016 mag, σ2: 0.057 ± 0.012 mag\n",
      "  LSSFR:\n",
      "    Step: +0.047 ± 0.018 mag, σ1: 0.070 ± 0.013 mag, σ2: 0.058 ± 0.012 mag\n",
      "\n",
      "SALT2 GP:\n",
      "  Global mass:\n",
      "    Step: -0.030 ± 0.023 mag, σ1: 0.093 ± 0.017 mag, σ2: 0.071 ± 0.015 mag\n",
      "  LSSFR:\n",
      "    Step: +0.042 ± 0.022 mag, σ1: 0.081 ± 0.016 mag, σ2: 0.080 ± 0.015 mag\n",
      "\n",
      "Base SALT2:\n",
      "  Global mass:\n",
      "    Step: -0.083 ± 0.021 mag, σ1: 0.069 ± 0.018 mag, σ2: 0.084 ± 0.014 mag\n",
      "  LSSFR:\n",
      "    Step: +0.097 ± 0.022 mag, σ1: 0.091 ± 0.016 mag, σ2: 0.055 ± 0.016 mag\n",
      "\n",
      "Base RBTL GP:\n",
      "  Global mass:\n",
      "    Step: -0.037 ± 0.018 mag, σ1: 0.076 ± 0.016 mag, σ2: 0.061 ± 0.011 mag\n",
      "  LSSFR:\n",
      "    Step: +0.049 ± 0.018 mag, σ1: 0.070 ± 0.013 mag, σ2: 0.061 ± 0.012 mag\n",
      "Done!\n"
     ]
    }
   ],
   "source": [
    "mask = a.uncertainty_mask & a.redshift_color_mask & a.host_mask & a.salt_mask & a.peculiar_mask\n",
    "\n",
    "salt_fit = a.fit_salt_magnitude_residuals(\n",
    "    mask=mask,\n",
    "    # additional_covariates=[a.indicators['host_p(prompt)']]\n",
    ")\n",
    "\n",
    "print(\"\")\n",
    "gp_fit = a.fit_gp_magnitude_residuals(\n",
    "    kind='rbtl', mask=mask,\n",
    "    # additional_covariates=[a.indicators['host_p(prompt)']]\n",
    ")\n",
    "\n",
    "print(\"\")\n",
    "salt_gp_fit = a.fit_gp_magnitude_residuals(\n",
    "    kind='salt_raw', mask=mask,\n",
    "    # additional_covariates=[a.indicators['host_p(prompt)']]\n",
    ")\n",
    "\n",
    "print(\"\\nSALT2:\")\n",
    "print(\"  Global mass:\")\n",
    "fit_step(a.indicators['host_p(highgmass)'], salt_fit['residuals'], salt_fit['raw_residual_uncertainties'], mask)\n",
    "print(\"  LSSFR:\")\n",
    "fit_step(a.indicators['host_p(prompt)'], salt_fit['residuals'], salt_fit['raw_residual_uncertainties'], mask)\n",
    "print(\"\\nRBTL GP:\")\n",
    "print(\"  Global mass:\")\n",
    "fit_step(a.indicators['host_p(highgmass)'], gp_fit.residuals, gp_fit.raw_residual_uncertainties, mask)\n",
    "print(\"  LSSFR:\")\n",
    "fit_step(a.indicators['host_p(prompt)'], gp_fit.residuals, gp_fit.raw_residual_uncertainties, mask)\n",
    "print(\"\\nSALT2 GP:\")\n",
    "print(\"  Global mass:\")\n",
    "fit_step(a.indicators['host_p(highgmass)'], salt_gp_fit.residuals, salt_gp_fit.raw_residual_uncertainties, mask)\n",
    "print(\"  LSSFR:\")\n",
    "fit_step(a.indicators['host_p(prompt)'], salt_gp_fit.residuals, salt_gp_fit.raw_residual_uncertainties, mask)\n",
    "\n",
    "print(\"\\nBase SALT2:\")\n",
    "print(\"  Global mass:\")\n",
    "fit_step(a.indicators['host_p(highgmass)'], a.residuals_salt['residuals'], a.residuals_salt['raw_residual_uncertainties'], mask)\n",
    "print(\"  LSSFR:\")\n",
    "fit_step(a.indicators['host_p(prompt)'], a.residuals_salt['residuals'], a.residuals_salt['raw_residual_uncertainties'], mask)\n",
    "print(\"\\nBase RBTL GP:\")\n",
    "print(\"  Global mass:\")\n",
    "fit_step(a.indicators['host_p(highgmass)'], a.residuals_rbtl_gp.residuals, a.residuals_rbtl_gp.raw_residual_uncertainties, mask)\n",
    "print(\"  LSSFR:\")\n",
    "step = fit_step(a.indicators['host_p(prompt)'], a.residuals_rbtl_gp.residuals, a.residuals_rbtl_gp.raw_residual_uncertainties, mask)\n",
    "\n",
    "print(\"Done!\")"
   ]
  },
  {
   "cell_type": "code",
   "execution_count": 15,
   "metadata": {},
   "outputs": [
    {
     "name": "stdout",
     "output_type": "stream",
     "text": [
      "Names:         ['PTF10hmv', 'SNF20080612-003']\n",
      "P(prompt):     ['0.965', '0.001']\n",
      "P(highgmass):  ['0.000', '0.196']\n",
      "SALT2 + x1:    [ 0.39292337 -0.23631362]\n",
      "GP + manifold: [ 0.31895559 -0.31883272]\n"
     ]
    }
   ],
   "source": [
    "# residuals = salt_fit['residuals']\n",
    "residuals = gp_fit.residuals\n",
    "chauvenet_mask = np.sum(mask) * np.exp(-(residuals[mask] / np.std(residuals[mask]))**2 / 2) / np.sqrt(2 * np.pi) < 0.5\n",
    "print(\"Names:        \", [i.name for i in a.targets[mask][chauvenet_mask]])\n",
    "print(\"P(prompt):    \", ['%.3f' % i for i in a.indicators['host_p(prompt)'][mask][chauvenet_mask]])\n",
    "print(\"P(highgmass): \", ['%.3f' % i for i in a.indicators['host_p(highgmass)'][mask][chauvenet_mask]])\n",
    "print(\"SALT2 + x1:   \", salt_fit['residuals'][mask][chauvenet_mask])\n",
    "print(\"GP + manifold:\", gp_fit.residuals[mask][chauvenet_mask])\n",
    "\n",
    "mm = np.zeros(len(a.targets), dtype=bool)\n",
    "mm[mask] = chauvenet_mask"
   ]
  },
  {
   "cell_type": "code",
   "execution_count": 16,
   "metadata": {},
   "outputs": [
    {
     "name": "stdout",
     "output_type": "stream",
     "text": [
      "    Step: +0.046 ± 0.017 mag, σ1: 0.080 ± 0.012 mag, σ2: 0.067 ± 0.010 mag\n"
     ]
    },
    {
     "data": {
      "application/vnd.jupyter.widget-view+json": {
       "model_id": "ae1809e998a0439cb63b148d1d0fdd4f",
       "version_major": 2,
       "version_minor": 0
      },
      "text/plain": [
       "Canvas(toolbar=Toolbar(toolitems=[('Home', 'Reset original view', 'home', 'home'), ('Back', 'Back to previous …"
      ]
     },
     "metadata": {},
     "output_type": "display_data"
    }
   ],
   "source": [
    "ax1, ax2 = plot_step(\n",
    "    'host_lssfr',\n",
    "    gp_fit.residuals,\n",
    "    gp_fit.target_value_uncertainties,\n",
    "    a.indicators,\n",
    "    mask,\n",
    ")"
   ]
  },
  {
   "cell_type": "code",
   "execution_count": 17,
   "metadata": {},
   "outputs": [
    {
     "name": "stdout",
     "output_type": "stream",
     "text": [
      "    Step: -0.031 ± 0.018 mag, σ1: 0.086 ± 0.014 mag, σ2: 0.067 ± 0.010 mag\n"
     ]
    },
    {
     "data": {
      "application/vnd.jupyter.widget-view+json": {
       "model_id": "565315ccdb6c49f9bafd066cf3b0064a",
       "version_major": 2,
       "version_minor": 0
      },
      "text/plain": [
       "Canvas(toolbar=Toolbar(toolitems=[('Home', 'Reset original view', 'home', 'home'), ('Back', 'Back to previous …"
      ]
     },
     "metadata": {},
     "output_type": "display_data"
    },
    {
     "name": "stderr",
     "output_type": "stream",
     "text": [
      "/home/kyle/packages/conda/lib/python3.8/site-packages/numpy/core/_asarray.py:85: UserWarning: Warning: converting a masked element to nan.\n",
      "  return array(a, dtype, copy=False, order=order)\n"
     ]
    }
   ],
   "source": [
    "ax1, ax2 = plot_step(\n",
    "    'host_gmass',\n",
    "    gp_fit.residuals,\n",
    "    gp_fit.target_value_uncertainties,\n",
    "    a.indicators,\n",
    "    mask\n",
    ")"
   ]
  },
  {
   "cell_type": "markdown",
   "metadata": {},
   "source": [
    "## Step difference"
   ]
  },
  {
   "cell_type": "code",
   "execution_count": 18,
   "metadata": {},
   "outputs": [],
   "source": [
    "def bootstrap_step_difference(side_probabilities, residuals_1, uncertainties_1, residuals_2, uncertainties_2,\n",
    "                              mask, num_resamples=100):\n",
    "    mask_indices = np.where(mask)[0]\n",
    "    \n",
    "    ref_step_result_1 = fit_step(side_probabilities, residuals_1, uncertainties_1, mask, verbosity=0)\n",
    "    ref_step_result_2 = fit_step(side_probabilities, residuals_2, uncertainties_2, mask, verbosity=0)\n",
    "\n",
    "    step_diffs = []\n",
    "    for bootstrap_iter in tqdm(range(num_resamples)):\n",
    "        bootstrap_idx = np.random.choice(len(mask_indices), len(mask_indices))\n",
    "        bootstrap_mask = mask_indices[bootstrap_idx]\n",
    "        \n",
    "        step_result_1 = fit_step(side_probabilities, residuals_1, uncertainties_1, bootstrap_mask, verbosity=0, calculate_covariance=False)\n",
    "        step_result_2 = fit_step(side_probabilities, residuals_2, uncertainties_2, bootstrap_mask, verbosity=0, calculate_covariance=False)\n",
    "        \n",
    "        step_diffs.append(step_result_1['step_size'] - step_result_2['step_size'])\n",
    "        \n",
    "    plt.figure()\n",
    "    plt.hist(step_diffs, 30)\n",
    "\n",
    "    return np.mean(step_diffs), np.std(step_diffs)"
   ]
  },
  {
   "cell_type": "code",
   "execution_count": 19,
   "metadata": {},
   "outputs": [
    {
     "data": {
      "application/vnd.jupyter.widget-view+json": {
       "model_id": "119f2506a55042d6a34c9544b011742c",
       "version_major": 2,
       "version_minor": 0
      },
      "text/plain": [
       "HBox(children=(FloatProgress(value=0.0), HTML(value='')))"
      ]
     },
     "metadata": {},
     "output_type": "display_data"
    },
    {
     "name": "stdout",
     "output_type": "stream",
     "text": [
      "\n"
     ]
    },
    {
     "data": {
      "application/vnd.jupyter.widget-view+json": {
       "model_id": "9fdba263bccc43af8e79f46011a88b7b",
       "version_major": 2,
       "version_minor": 0
      },
      "text/plain": [
       "Canvas(toolbar=Toolbar(toolitems=[('Home', 'Reset original view', 'home', 'home'), ('Back', 'Back to previous …"
      ]
     },
     "metadata": {},
     "output_type": "display_data"
    },
    {
     "data": {
      "text/plain": [
       "(0.05176040703098535, 0.014633940261161075)"
      ]
     },
     "execution_count": 19,
     "metadata": {},
     "output_type": "execute_result"
    }
   ],
   "source": [
    "bootstrap_step_difference(\n",
    "    a.indicators['host_p(highgmass)'],\n",
    "    gp_fit.residuals,\n",
    "    gp_fit.target_value_uncertainties,\n",
    "    salt_fit['residuals'],\n",
    "    salt_fit['raw_residual_uncertainties'],\n",
    "    mask,\n",
    ")"
   ]
  },
  {
   "cell_type": "markdown",
   "metadata": {},
   "source": [
    "## Summary plot"
   ]
  },
  {
   "cell_type": "code",
   "execution_count": 27,
   "metadata": {},
   "outputs": [
    {
     "data": {
      "application/vnd.jupyter.widget-view+json": {
       "model_id": "3d613a2b550b42319c1bfb9618eb1959",
       "version_major": 2,
       "version_minor": 0
      },
      "text/plain": [
       "HBox(children=(FloatProgress(value=0.0), HTML(value='')))"
      ]
     },
     "metadata": {},
     "output_type": "display_data"
    },
    {
     "name": "stdout",
     "output_type": "stream",
     "text": [
      "\n",
      "GP magnitude residuals fit:\n",
      "    Fit result:           b'CONVERGENCE: REL_REDUCTION_OF_F_<=_FACTR*EPSMCH'\n",
      "    intrinsic_dispersion      0.082 ± 0.011\n",
      "    gp_kernel_amplitude       0.329 ± 0.220\n",
      "    gp_length_scale           8.353 ± 5.918\n",
      "    offset                    7.057 ± 0.261\n",
      "    covariate_slope_0         2.793 ± 0.167\n",
      "    covariate_slope_1         -0.036 ± 0.025\n",
      "    Fit NMAD                  0.121 mag\n",
      "    Fit std                   0.117 mag\n",
      "GP magnitude residuals fit:\n",
      "    Fit result:           b'CONVERGENCE: REL_REDUCTION_OF_F_<=_FACTR*EPSMCH'\n",
      "    intrinsic_dispersion      0.068 ± 0.010\n",
      "    gp_kernel_amplitude       0.087 ± 0.036\n",
      "    gp_length_scale           3.423 ± 2.393\n",
      "    offset                    -0.025 ± 0.060\n",
      "    covariate_slope_0         -0.123 ± 0.058\n",
      "    covariate_slope_1         -0.040 ± 0.020\n",
      "    Fit NMAD                  0.074 mag\n",
      "    Fit std                   0.099 mag\n"
     ]
    },
    {
     "data": {
      "application/vnd.jupyter.widget-view+json": {
       "model_id": "cb018072195e40ddb4395c6db1df455d",
       "version_major": 2,
       "version_minor": 0
      },
      "text/plain": [
       "HBox(children=(FloatProgress(value=0.0), HTML(value='')))"
      ]
     },
     "metadata": {},
     "output_type": "display_data"
    },
    {
     "name": "stdout",
     "output_type": "stream",
     "text": [
      "\n",
      "GP magnitude residuals fit:\n",
      "    Fit result:           b'CONVERGENCE: REL_REDUCTION_OF_F_<=_FACTR*EPSMCH'\n",
      "    intrinsic_dispersion      0.081 ± 0.011\n",
      "    gp_kernel_amplitude       0.359 ± 0.245\n",
      "    gp_length_scale           9.191 ± 6.381\n",
      "    offset                    7.012 ± 0.289\n",
      "    covariate_slope_0         2.781 ± 0.164\n",
      "    covariate_slope_1         0.053 ± 0.027\n",
      "    Fit NMAD                  0.124 mag\n",
      "    Fit std                   0.116 mag\n",
      "GP magnitude residuals fit:\n",
      "    Fit result:           b'CONVERGENCE: REL_REDUCTION_OF_F_<=_FACTR*EPSMCH'\n",
      "    intrinsic_dispersion      0.068 ± 0.008\n",
      "    gp_kernel_amplitude       0.097 ± 0.048\n",
      "    gp_length_scale           4.543 ± 3.120\n",
      "    offset                    -0.089 ± 0.073\n",
      "    covariate_slope_0         -0.126 ± 0.056\n",
      "    covariate_slope_1         0.066 ± 0.022\n",
      "    Fit NMAD                  0.077 mag\n",
      "    Fit std                   0.097 mag\n",
      "SALT2 magnitude residuals fit: \n",
      "    ref_mag: 7.067\n",
      "    alpha:   0.137\n",
      "    beta:    2.730\n",
      "    σ_int:   0.091\n",
      "    RMS:     0.118\n",
      "    NMAD:    0.096\n",
      "    WRMS:    0.118\n",
      "    Step: -0.082 ± 0.021 mag, σ1: 0.068 ± 0.018 mag, σ2: 0.084 ± 0.014 mag\n"
     ]
    },
    {
     "name": "stderr",
     "output_type": "stream",
     "text": [
      "/home/kyle/packages/conda/lib/python3.8/site-packages/george/kernels.py:95: RuntimeWarning: divide by zero encountered in log\n",
      "  log_constant = np.log(float(b)/self.ndim)\n"
     ]
    },
    {
     "name": "stdout",
     "output_type": "stream",
     "text": [
      "GP magnitude residuals fit:\n",
      "    Fit result:           b'CONVERGENCE: REL_REDUCTION_OF_F_<=_FACTR*EPSMCH'\n",
      "    intrinsic_dispersion      0.083 ± 0.011\n",
      "    gp_kernel_amplitude       0.304 ± 0.196\n",
      "    gp_length_scale           7.597 ± 5.351\n",
      "    offset                    7.021 ± 0.236\n",
      "    covariate_slope_0         2.749 ± 0.167\n",
      "    Fit NMAD                  0.119 mag\n",
      "    Fit std                   0.118 mag\n",
      "    Step: -0.030 ± 0.023 mag, σ1: 0.093 ± 0.017 mag, σ2: 0.071 ± 0.015 mag\n",
      "GP magnitude residuals fit:\n",
      "    Fit result:           b'CONVERGENCE: REL_REDUCTION_OF_F_<=_FACTR*EPSMCH'\n",
      "    intrinsic_dispersion      0.068 ± 0.010\n",
      "    gp_kernel_amplitude       0.085 ± 0.030\n",
      "    gp_length_scale           2.813 ± 1.749\n",
      "    offset                    -0.047 ± 0.053\n",
      "    covariate_slope_0         -0.140 ± 0.058\n",
      "    Fit NMAD                  0.087 mag\n",
      "    Fit std                   0.100 mag\n",
      "    Step: -0.032 ± 0.018 mag, σ1: 0.078 ± 0.016 mag, σ2: 0.057 ± 0.012 mag\n",
      "SALT2 magnitude residuals fit: \n",
      "    ref_mag: 7.067\n",
      "    alpha:   0.137\n",
      "    beta:    2.730\n",
      "    σ_int:   0.091\n",
      "    RMS:     0.118\n",
      "    NMAD:    0.096\n",
      "    WRMS:    0.118\n",
      "    Step: +0.093 ± 0.022 mag, σ1: 0.091 ± 0.016 mag, σ2: 0.054 ± 0.017 mag\n",
      "GP magnitude residuals fit:\n",
      "    Fit result:           b'CONVERGENCE: REL_REDUCTION_OF_F_<=_FACTR*EPSMCH'\n",
      "    intrinsic_dispersion      0.083 ± 0.011\n",
      "    gp_kernel_amplitude       0.304 ± 0.196\n",
      "    gp_length_scale           7.597 ± 5.351\n",
      "    offset                    7.021 ± 0.236\n",
      "    covariate_slope_0         2.749 ± 0.167\n",
      "    Fit NMAD                  0.119 mag\n",
      "    Fit std                   0.118 mag\n",
      "    Step: +0.042 ± 0.022 mag, σ1: 0.081 ± 0.016 mag, σ2: 0.080 ± 0.015 mag\n",
      "GP magnitude residuals fit:\n",
      "    Fit result:           b'CONVERGENCE: REL_REDUCTION_OF_F_<=_FACTR*EPSMCH'\n",
      "    intrinsic_dispersion      0.068 ± 0.010\n",
      "    gp_kernel_amplitude       0.085 ± 0.030\n",
      "    gp_length_scale           2.813 ± 1.749\n",
      "    offset                    -0.047 ± 0.053\n",
      "    covariate_slope_0         -0.140 ± 0.058\n",
      "    Fit NMAD                  0.087 mag\n",
      "    Fit std                   0.100 mag\n",
      "    Step: +0.047 ± 0.018 mag, σ1: 0.070 ± 0.013 mag, σ2: 0.058 ± 0.012 mag\n"
     ]
    }
   ],
   "source": [
    "mask = a.redshift_color_mask & a.uncertainty_mask & a.host_mask & a.salt_mask & a.peculiar_mask\n",
    "# mask = a.uncertainty_mask & a.host_mask & a.salt_mask & a.peculiar_mask\n",
    "\n",
    "step_vars = [\n",
    "    ('host_gmass', 'host_p(highgmass)', 'Global Mass', -1),\n",
    "    ('host_lssfr', 'host_p(prompt)', 'Local SSFR', +1),\n",
    "]\n",
    "\n",
    "mag_vars = [\n",
    "    (False, 'salt', 'SALT2 + $x_1$'),\n",
    "    (True, 'salt_raw', 'SALT2 + Manifold'),\n",
    "    (True, 'rbtl', 'RBTL + Manifold'),\n",
    "]\n",
    "\n",
    "host_results = {}\n",
    "\n",
    "for var_name, side_probability, var_label, var_sign in step_vars:\n",
    "    steps = {}\n",
    "    for use_gp, mag_kind, mag_label in mag_vars:\n",
    "        if use_gp:\n",
    "            result = a.fit_gp_magnitude_residuals(\n",
    "                kind=mag_kind,\n",
    "                mask=mask,\n",
    "                additional_covariates=[a.indicators[side_probability]],\n",
    "            )\n",
    "            step = result.parameters[-1]\n",
    "            step_uncertainty = result.parameter_uncertainties[-1]\n",
    "        else:\n",
    "            ref, bootstrap = a.bootstrap_salt_magnitude_residuals(\n",
    "                mask=mask,\n",
    "                num_samples=100,\n",
    "                additional_covariates=[a.indicators[side_probability]],\n",
    "            )\n",
    "            step = ref['covariate_amplitude_0']\n",
    "            step_uncertainty = np.std(bootstrap['covariate_amplitude_0'])\n",
    "        \n",
    "        steps[mag_label] = (step * var_sign, step_uncertainty)\n",
    "\n",
    "    host_results[var_label + '\\nSimultaneous Fit'] = steps\n",
    "    \n",
    "\n",
    "for var_name, side_probability, var_label, var_sign in step_vars:\n",
    "    steps = {}\n",
    "    for use_gp, mag_kind, mag_label in mag_vars:\n",
    "        if use_gp:\n",
    "            gp_fit = a.fit_gp_magnitude_residuals(kind=mag_kind, mask=mask)\n",
    "            residuals = gp_fit.residuals\n",
    "            residual_uncertainties = gp_fit.raw_residual_uncertainties\n",
    "        else:\n",
    "            salt_fit = a.fit_salt_magnitude_residuals(mask=mask)\n",
    "            residuals = salt_fit['residuals']\n",
    "            residual_uncertainties = salt_fit['raw_residual_uncertainties']\n",
    "\n",
    "        step_result = fit_step(\n",
    "            a.indicators[side_probability],\n",
    "            residuals,\n",
    "            residual_uncertainties,\n",
    "            mask\n",
    "        )\n",
    "\n",
    "        steps[mag_label] = (step_result['step_size'] * var_sign, step_result['step_size_uncertainty'])\n",
    "\n",
    "    host_results[var_label + '\\nAfter Correction'] = steps"
   ]
  },
  {
   "cell_type": "code",
   "execution_count": 28,
   "metadata": {},
   "outputs": [
    {
     "data": {
      "application/vnd.jupyter.widget-view+json": {
       "model_id": "5cd3fef3ea80411c84c818567a81bcea",
       "version_major": 2,
       "version_minor": 0
      },
      "text/plain": [
       "Canvas(toolbar=Toolbar(toolitems=[('Home', 'Reset original view', 'home', 'home'), ('Back', 'Back to previous …"
      ]
     },
     "metadata": {},
     "output_type": "display_data"
    },
    {
     "name": "stderr",
     "output_type": "stream",
     "text": [
      "<ipython-input-28-de64287b860d>:29: UserWarning: This figure was using constrained_layout==True, but that is incompatible with subplots_adjust and or tight_layout: setting constrained_layout==False. \n",
      "  plt.tight_layout()\n"
     ]
    }
   ],
   "source": [
    "plt.figure(figsize=(6, 4))\n",
    "labels = []\n",
    "for prop_idx, (prop_label, prop_values) in enumerate(host_results.items()):\n",
    "    for mag_idx, (mag_label, mag_values) in enumerate(prop_values.items()):\n",
    "        step_value, step_err = mag_values\n",
    "        \n",
    "        marker = 'oooo'[mag_idx]\n",
    "        color = 'C%d' % (mag_idx)\n",
    "        if prop_idx == 0:\n",
    "            label = mag_label\n",
    "        else:\n",
    "            label = None\n",
    "            \n",
    "            \n",
    "        gap = 0.1\n",
    "        xpos = prop_idx - 0.5*gap + gap * mag_idx\n",
    "        plt.errorbar(xpos, step_value, step_err, c=color, alpha=1.)\n",
    "        plt.plot(xpos, step_value, marker=marker, c=color, label=label)\n",
    "        \n",
    "    labels.append(prop_label)\n",
    "\n",
    "plt.xticks(np.arange(len(labels)), labels=labels)\n",
    "plt.axhline(0., c='k')\n",
    "plt.xlim(-0.5, len(labels) - 0.5)\n",
    "plt.ylim(-0.02, 0.17)\n",
    "\n",
    "plt.ylabel('Step size (mag)')\n",
    "plt.legend()\n",
    "plt.tight_layout()\n",
    "\n",
    "plt.savefig('/home/kyle/Desktop/unblinded_host_steps_peculiars_removed.png')\n",
    "# plt.savefig('./figures/host_correlations_summary.pdf')"
   ]
  },
  {
   "cell_type": "markdown",
   "metadata": {},
   "source": [
    "## Summary table"
   ]
  },
  {
   "cell_type": "code",
   "execution_count": 29,
   "metadata": {},
   "outputs": [
    {
     "ename": "AttributeError",
     "evalue": "'ManifoldTwinsAnalysis' object has no attribute 'salt_hr'",
     "output_type": "error",
     "traceback": [
      "\u001b[0;31m---------------------------------------------------------------------------\u001b[0m",
      "\u001b[0;31mAttributeError\u001b[0m                            Traceback (most recent call last)",
      "\u001b[0;32m<ipython-input-29-82dcb0f27ce4>\u001b[0m in \u001b[0;36m<module>\u001b[0;34m\u001b[0m\n\u001b[1;32m     15\u001b[0m \u001b[0;34m\u001b[0m\u001b[0m\n\u001b[1;32m     16\u001b[0m \u001b[0;32mwith\u001b[0m \u001b[0mopen\u001b[0m\u001b[0;34m(\u001b[0m\u001b[0;34m'./latex/host_steps.tex'\u001b[0m\u001b[0;34m,\u001b[0m \u001b[0;34m'w'\u001b[0m\u001b[0;34m)\u001b[0m \u001b[0;32mas\u001b[0m \u001b[0mf\u001b[0m\u001b[0;34m:\u001b[0m\u001b[0;34m\u001b[0m\u001b[0;34m\u001b[0m\u001b[0m\n\u001b[0;32m---> 17\u001b[0;31m     \u001b[0mprint_row\u001b[0m\u001b[0;34m(\u001b[0m\u001b[0mf\u001b[0m\u001b[0;34m,\u001b[0m \u001b[0ma\u001b[0m\u001b[0;34m.\u001b[0m\u001b[0msalt_hr\u001b[0m\u001b[0;34m,\u001b[0m \u001b[0ma\u001b[0m\u001b[0;34m.\u001b[0m\u001b[0mgood_salt_mask\u001b[0m\u001b[0;34m,\u001b[0m \u001b[0;34m'SALT2 + $x_1$'\u001b[0m\u001b[0;34m,\u001b[0m \u001b[0;34m'SALT2'\u001b[0m\u001b[0;34m)\u001b[0m\u001b[0;34m\u001b[0m\u001b[0;34m\u001b[0m\u001b[0m\n\u001b[0m\u001b[1;32m     18\u001b[0m     \u001b[0mprint_row\u001b[0m\u001b[0;34m(\u001b[0m\u001b[0mf\u001b[0m\u001b[0;34m,\u001b[0m \u001b[0ma\u001b[0m\u001b[0;34m.\u001b[0m\u001b[0msalt_hr\u001b[0m\u001b[0;34m,\u001b[0m \u001b[0ma\u001b[0m\u001b[0;34m.\u001b[0m\u001b[0mgood_salt_mask\u001b[0m \u001b[0;34m&\u001b[0m \u001b[0ma\u001b[0m\u001b[0;34m.\u001b[0m\u001b[0mgood_mag_mask\u001b[0m\u001b[0;34m,\u001b[0m \u001b[0;34m'SALT2 + $x_1$'\u001b[0m\u001b[0;34m,\u001b[0m \u001b[0;34m'SALT2 + max + train'\u001b[0m\u001b[0;34m)\u001b[0m\u001b[0;34m\u001b[0m\u001b[0;34m\u001b[0m\u001b[0m\n\u001b[1;32m     19\u001b[0m     \u001b[0mprint_row\u001b[0m\u001b[0;34m(\u001b[0m\u001b[0mf\u001b[0m\u001b[0;34m,\u001b[0m \u001b[0mrbtl_isomap_mags\u001b[0m\u001b[0;34m,\u001b[0m \u001b[0ma\u001b[0m\u001b[0;34m.\u001b[0m\u001b[0mgood_salt_mask\u001b[0m \u001b[0;34m&\u001b[0m \u001b[0ma\u001b[0m\u001b[0;34m.\u001b[0m\u001b[0mgood_mag_mask\u001b[0m\u001b[0;34m,\u001b[0m \u001b[0;34m'RBTL + Isomap'\u001b[0m\u001b[0;34m,\u001b[0m \u001b[0;34m'SALT2 + max + train'\u001b[0m\u001b[0;34m)\u001b[0m\u001b[0;34m\u001b[0m\u001b[0;34m\u001b[0m\u001b[0m\n",
      "\u001b[0;31mAttributeError\u001b[0m: 'ManifoldTwinsAnalysis' object has no attribute 'salt_hr'"
     ]
    }
   ],
   "source": [
    "# All of these functions are defined in the Host galaxy correlations section. Make\n",
    "# sure to run that first.\n",
    "def print_row(f, mags, cut, label, cut_label):\n",
    "    step_vars = [\n",
    "        ('lssfr', '$\\\\Delta_{lsSFR}$', +1),\n",
    "        ('gmass', '$\\\\Delta_{mass}$', -1),\n",
    "    ]\n",
    "    stat_str = \"%20s & %20s\" % (label, cut_label)\n",
    "    for i, (var_name, var_label, var_sign) in enumerate(step_vars):\n",
    "        var, var_err = analyze_host_variable(var_name, mags, cut, plot=False)\n",
    "        stat_str += \" & %.3f $\\pm$ %.3f\" % (var_sign * var, var_err)\n",
    "        \n",
    "    stat_str += \" \\\\\\\\\"\n",
    "    latex_print(f, stat_str)\n",
    "    \n",
    "with open('./latex/host_steps.tex', 'w') as f:\n",
    "    print_row(f, a.salt_hr, a.good_salt_mask, 'SALT2 + $x_1$', 'SALT2')\n",
    "    print_row(f, a.salt_hr, a.good_salt_mask & a.good_mag_mask, 'SALT2 + $x_1$', 'SALT2 + max + train')\n",
    "    print_row(f, rbtl_isomap_mags, a.good_salt_mask & a.good_mag_mask, 'RBTL + Isomap', 'SALT2 + max + train')\n",
    "    print_row(f, salt_isomap_mags, a.good_salt_mask & a.good_mag_mask, 'SALT2 + Isomap', 'SALT2 + max + train')"
   ]
  },
  {
   "cell_type": "markdown",
   "metadata": {},
   "source": [
    "# Attrition and LaTeX variables for things"
   ]
  },
  {
   "cell_type": "markdown",
   "metadata": {},
   "source": [
    "## General variables"
   ]
  },
  {
   "cell_type": "code",
   "execution_count": null,
   "metadata": {},
   "outputs": [],
   "source": [
    "# Define a bunch of functions to make things easier.\n",
    "def latex_host_step(file, name, var, mags, mask):\n",
    "    step, step_err = analyze_host_variable(var, mags, mask, plot=False)\n",
    "    latex_command(file, name, '%.3f $\\\\pm$ %.3f', (np.abs(step), step_err))\n",
    "\n",
    "a.fit_gp(kind='salt_raw', verbose=False)\n",
    "salt_isomap_mags = a.corr_mags.copy()\n",
    "\n",
    "a.fit_gp(verbose=False)\n",
    "rbtl_isomap_mags = a.corr_mags.copy()\n",
    "\n",
    "with open('latex/commands.tex', 'w') as f:\n",
    "    latex_print(f, \"\")\n",
    "    latex_command(f, 'numdatasetsne', '%d', len(a.dataset.targets))\n",
    "    latex_command(f, 'numdatasetspectra', '%d', np.sum([len(i.spectra) for i in a.dataset.targets]))\n",
    "    latex_print(f, \"\")\n",
    "    latex_command(f, 'nummanifoldsne', '%d', len(a.targets))\n",
    "    latex_command(f, 'nummanifoldspectra', '%d', len(a.spectra))\n",
    "    latex_command(f, 'numinterpsne', '%d', np.sum(a.interp_mask))\n",
    "    latex_print(f, \"\")\n",
    "    latex_command(f, 'numsnftrain', '%d', np.sum([i.subset == 'training' for i in a.targets[a.interp_mask]]))\n",
    "    latex_command(f, 'numsnfvalid', '%d', np.sum([i.subset == 'validation' for i in a.targets[a.interp_mask]]))\n",
    "    latex_command(f, 'numsnfother', '%d', np.sum([i.subset not in ['training', 'validation'] for i in a.targets[a.interp_mask]]))\n",
    "    latex_print(f, \"\")\n",
    "    latex_command(f, 'numsnredshift', '%d', np.sum(a.interp_mask & (a.redshift_errs >= 0.004)))\n",
    "    latex_command(f, 'numlowredshift', '%d', np.sum(a.interp_mask & (a.redshifts <= 0.02)))\n",
    "    latex_command(f, 'numhighav', '%d', np.sum(a.interp_mask & (a.colors - np.nanmedian(a.colors) >= 0.5)))\n",
    "    latex_print(f, \"\")\n",
    "    latex_command(f, 'nummagsne', '%d', np.sum(a.interp_mask & a.redshift_color_mask))\n",
    "    latex_command(f, 'nummagsnetrain', '%d', np.sum(a.good_mag_mask))\n",
    "    latex_command(f, 'nummagsnevalidation', '%d', np.sum(a.interp_mask & a.redshift_color_mask & ~a.good_mag_mask))\n",
    "    latex_print(f, \"\")\n",
    "    latex_command(f, 'saltparammb', '%.2f', a.salt_MB)\n",
    "    latex_command(f, 'saltparamalpha', '%.3f', a.salt_alpha)\n",
    "    latex_command(f, 'saltparambeta', '%.2f', a.salt_beta)\n",
    "    latex_command(f, 'saltparamsigmaint', '%.3f', a.salt_intrinsic_dispersion)\n",
    "    # latex_command(f, 'saltparamrms', '%.3f', np.std(a.salt_hr[a.good_salt_mask]))\n",
    "    latex_std(f, 'saltparamrms', a.salt_hr[a.good_salt_mask])\n",
    "    latex_nmad(f, 'saltparamnmad', a.salt_hr[a.good_salt_mask])\n",
    "    latex_command(f, 'saltparamwrms', '%.3f', a.salt_wrms)\n",
    "    latex_command(f, 'saltparammindisp', '%.2f', np.min(a.salt_hr_uncertainties[a.good_salt_mask]))\n",
    "    latex_command(f, 'saltparammaxdisp', '%.2f', np.max(a.salt_hr_uncertainties[a.good_salt_mask]))\n",
    "    latex_print(f, \"\")\n",
    "    latex_std(f, 'rawrbtlmagstd', a.mags[a.good_mag_mask])\n",
    "    latex_nmad(f, 'rawrbtlmagnmad', a.mags[a.good_mag_mask])\n",
    "    # latex_print(f, \"\")\n",
    "    # latex_command(f, 'twinrbtlmagstd', '%.3f', a.twins_rms)\n",
    "    # latex_command(f, 'twinrbtlmagnmad', '%.3f', a.twins_nmad)\n",
    "    latex_print(f, \"\")\n",
    "    latex_std(f, 'saltcomprawrbtlmagstd', a.mags[a.good_mag_mask & a.good_salt_mask])\n",
    "    latex_std(f, 'saltcompsaltmagstd', a.salt_hr[a.good_mag_mask & a.good_salt_mask])\n",
    "\n",
    "    a.fit_gp(verbose=False, kind='salt_raw')\n",
    "    gp_uncertainties = np.sqrt(np.diag(a.gp_hyperparameter_covariance))\n",
    "    latex_print(f, \"\")\n",
    "    latex_command(f, 'saltgpcolor', '%.2f $\\\\pm$ %.2f', (a.gp_hyperparameters[0], gp_uncertainties[0]))\n",
    "    latex_command(f, 'saltgpintdisp', '%.3f $\\\\pm$ %.3f', (a.gp_hyperparameters[1], gp_uncertainties[1]))\n",
    "    latex_command(f, 'saltgpkernelamp', '%.3f $\\\\pm$ %.3f', (np.abs(a.gp_hyperparameters[2]), gp_uncertainties[2]))\n",
    "    latex_command(f, 'saltgpkernellengthscale', '%.2f $\\\\pm$ %.2f', (a.gp_hyperparameters[3], gp_uncertainties[3]))\n",
    "    latex_std(f, 'saltgprms', a.corr_mags[a.good_salt_mask & a.interp_mask])\n",
    "    latex_std(f, 'saltgpcompsaltrms', a.salt_hr[a.good_salt_mask & a.interp_mask])\n",
    "\n",
    "    a.fit_gp(verbose=False)\n",
    "    gp_uncertainties = np.sqrt(np.diag(a.gp_hyperparameter_covariance))\n",
    "    latex_print(f, \"\")\n",
    "    latex_command(f, 'rbtlgpcolor', '%.2f $\\\\pm$ %.2f', (a.fiducial_rv * (1 + a.gp_hyperparameters[0]), a.fiducial_rv * gp_uncertainties[0]))\n",
    "    latex_command(f, 'rbtlgpintdisp', '%.3f $\\\\pm$ %.3f', (a.gp_hyperparameters[1], gp_uncertainties[1]))\n",
    "    latex_command(f, 'rbtlgpkernelamp', '%.3f $\\\\pm$ %.3f', (np.abs(a.gp_hyperparameters[2]), gp_uncertainties[2]))\n",
    "    latex_command(f, 'rbtlgpkernellengthscale', '%.2f $\\\\pm$ %.2f', (a.gp_hyperparameters[3], gp_uncertainties[3]))\n",
    "\n",
    "    latex_print(f, \"\")\n",
    "    latex_std(f, 'rbtlgprms', a.corr_mags[a.good_mag_mask])\n",
    "    latex_command(f, 'rbtlgpnmad', '%.3f', math.nmad(a.corr_mags[a.good_mag_mask]))\n",
    "\n",
    "    latex_print(f, \"\")\n",
    "    x1 = a.salt_hr[(a.embedding[:, 0] < 3) & a.good_salt_mask & a.interp_mask]\n",
    "    x2 = a.salt_hr[(a.embedding[:, 0] > 3) & a.good_salt_mask & a.interp_mask]\n",
    "    m1 = np.mean(x1)\n",
    "    m2 = np.mean(x2)\n",
    "    err1 = np.std(x1) / np.sqrt(len(x1))\n",
    "    err2 = np.std(x2) / np.sqrt(len(x2))\n",
    "    latex_command(f, 'saltisomapdiff', '%.3f $\\\\pm$ %.3f', (np.abs(m1-m2), np.sqrt(err1**2 + err2**2)))\n",
    "\n",
    "    latex_print(f, \"\")\n",
    "    latex_command(f, 'pecvelcontribution', '%.3f', np.sqrt(np.mean(a.get_peculiar_velocity_uncertainty()[a.good_mag_mask & a.good_salt_mask]**2)))\n",
    "\n",
    "    latex_print(f, \"\")\n",
    "    latex_host_step(f, 'lssfrsaltxifull', 'lssfr', a.salt_hr, a.good_salt_mask)\n",
    "    latex_host_step(f, 'gmasssaltxifull', 'gmass', a.salt_hr, a.good_salt_mask)\n",
    "    latex_host_step(f, 'lssfrsaltxicut', 'lssfr', a.salt_hr, a.good_salt_mask & a.good_mag_mask)\n",
    "    latex_host_step(f, 'gmasssaltxicut', 'gmass', a.salt_hr, a.good_salt_mask & a.good_mag_mask)\n",
    "    latex_host_step(f, 'lssfrsaltisomapcut', 'lssfr', salt_isomap_mags, a.good_salt_mask & a.good_mag_mask)\n",
    "    latex_host_step(f, 'gmasssaltisomapcut', 'gmass', salt_isomap_mags, a.good_salt_mask & a.good_mag_mask)\n",
    "    latex_host_step(f, 'lssfrrbtlisomapcut', 'lssfr', a.corr_mags, a.good_salt_mask & a.good_mag_mask)\n",
    "    latex_host_step(f, 'gmassrbtlisomapcut', 'gmass', a.corr_mags, a.good_salt_mask & a.good_mag_mask)\n",
    "    latex_command(f, 'hostcutsnsnetrain', '%d', np.sum(a.good_mag_mask & a.good_salt_mask & a.host_mask))\n",
    "    latex_command(f, 'hostcutsnsnefull', '%d', np.sum(a.redshift_color_mask & a.interp_mask & a.good_salt_mask & a.host_mask))"
   ]
  },
  {
   "cell_type": "markdown",
   "metadata": {},
   "source": [
    "## Standardization comparison"
   ]
  },
  {
   "cell_type": "code",
   "execution_count": 20,
   "metadata": {},
   "outputs": [
    {
     "name": "stdout",
     "output_type": "stream",
     "text": [
      "Fitting GP hyperparameters...\n",
      "    Fit result:           Optimization terminated successfully.\n",
      "    Color scale:          -0.127 ± 0.051\n",
      "    Intrinsic dispersion: 0.064 ± 0.009 mag\n",
      "    GP kernel amplitude:  0.177 ± 0.089 mag\n",
      "    GP length scale:      5.553 ± 3.271\n",
      "    Fit NMAD:             0.081 mag\n",
      "    Fit std:              0.100 mag\n",
      "Fitting GP hyperparameters...\n",
      "    Fit result:           Desired error not necessarily achieved due to precision loss.\n",
      "    Color scale:          2.799 ± 0.151\n",
      "    Intrinsic dispersion: -0.087 ± 0.009 mag\n",
      "    GP kernel amplitude:  0.424 ± 0.250 mag\n",
      "    GP length scale:      9.365 ± 5.524\n",
      "    Fit NMAD:             0.103 mag\n",
      "    Fit std:              0.117 mag\n",
      "    Maximum spectrum &   134 &                 NMAD &   0.108 $\\pm$  0.013 &  0.081 $\\pm$  0.011 &                  -- &                  -- \\\\\n",
      "     + training cuts &       &   Standard deviation &   0.130 $\\pm$  0.010 &  0.100 $\\pm$  0.008 &                  -- &                  -- \\\\\n",
      "                     &       &    Pec. vel. removed &   0.113 $\\pm$  0.012 &  0.076 $\\pm$  0.010 &                  -- &                  -- \\\\\n",
      "\\hline\n",
      "      SALT2 fit cuts &   151 &                 NMAD &                   -- &                  -- &  0.110 $\\pm$  0.014 &                  -- \\\\\n",
      "                     &       &   Standard deviation &                   -- &                  -- &  0.156 $\\pm$  0.012 &                  -- \\\\\n",
      "                     &       &    Pec. vel. removed &                   -- &                  -- &  0.143 $\\pm$  0.013 &                  -- \\\\\n",
      "\\hline\n",
      "    Maximum spectrum &   127 &                 NMAD &   0.110 $\\pm$  0.012 &  0.081 $\\pm$  0.012 &  0.100 $\\pm$  0.013 &  0.103 $\\pm$  0.013 \\\\\n",
      "    + SALT2 fit cuts &       &   Standard deviation &   0.131 $\\pm$  0.011 &  0.100 $\\pm$  0.008 &  0.140 $\\pm$  0.013 &  0.117 $\\pm$  0.008 \\\\\n",
      "                     &       &    Pec. vel. removed &   0.114 $\\pm$  0.012 &  0.076 $\\pm$  0.010 &  0.125 $\\pm$  0.014 &  0.098 $\\pm$  0.009 \\\\\n",
      "\\hline\n",
      "            All cuts &   127 &                 NMAD &   0.110 $\\pm$  0.012 &  0.081 $\\pm$  0.012 &  0.100 $\\pm$  0.013 &  0.103 $\\pm$  0.013 \\\\\n",
      "                     &       &   Standard deviation &   0.131 $\\pm$  0.011 &  0.100 $\\pm$  0.008 &  0.140 $\\pm$  0.013 &  0.117 $\\pm$  0.008 \\\\\n",
      "                     &       &    Pec. vel. removed &   0.114 $\\pm$  0.012 &  0.076 $\\pm$  0.010 &  0.125 $\\pm$  0.015 &  0.098 $\\pm$  0.009 \\\\\n"
     ]
    }
   ],
   "source": [
    "def int_disp(vals, pec_vel_disps, axis=None):\n",
    "    std = np.std(vals, ddof=1, axis=axis)\n",
    "    corr = np.mean(pec_vel_disps**2, axis=axis)\n",
    "    corr_std = np.sqrt(np.clip(std**2 - corr, 0, None))\n",
    "\n",
    "    return corr_std\n",
    "\n",
    "def get_stat_str(all_mags, cut, function, *args):\n",
    "    line_str = \"\"\n",
    "    for mags in all_mags:\n",
    "        if line_str:\n",
    "            line_str += \" &\"\n",
    "            \n",
    "        use_mags = mags[cut]\n",
    "        if np.any(np.isnan(use_mags)):\n",
    "            line_str += \"%20s\" % \"--\"\n",
    "        else:\n",
    "            res, res_err = math.bootstrap_statistic(function, use_mags, *args)\n",
    "            line_str += \"%7.3f $\\pm$ %6.3f\" % (res, res_err)\n",
    "    \n",
    "    line_str += \" \\\\\\\\\"\n",
    "    \n",
    "    return line_str\n",
    "\n",
    "def make_table(f, all_mags, cut, label):\n",
    "    stats = {\n",
    "        'NMAD': (math.nmad,),\n",
    "        'Standard deviation': (np.std,),\n",
    "        'Pec. vel. removed': (int_disp, a.get_peculiar_velocity_uncertainty()[cut]),\n",
    "    }\n",
    "    for i, (stat_name, stat_args) in enumerate(stats.items()):\n",
    "        if len(label) > i:\n",
    "            prefix = label[i]\n",
    "        else:\n",
    "            prefix = \"\"\n",
    "            \n",
    "        if i == 0:\n",
    "            num_sne = \"%d\" % np.sum(cut)\n",
    "        else:\n",
    "            num_sne = \"\"\n",
    "            \n",
    "        stat_str = get_stat_str(all_mags, cut, *stat_args)\n",
    "        utils.latex_print(f, \"%20s & %5s & %20s & %s\" % (prefix, num_sne, stat_name, stat_str))\n",
    "        \n",
    "good_mag_mask = a.uncertainty_mask & a.redshift_color_mask\n",
    "good_salt_mask = a.redshift_color_mask & a.salt_mask\n",
    "good_salt_isomap_mask = a.uncertainty_mask & a.redshift_color_mask & a.salt_mask\n",
    "\n",
    "# RBTL only\n",
    "rbtl_mags = a.rbtl_mags.copy()\n",
    "rbtl_mags[~good_mag_mask] = np.nan\n",
    "        \n",
    "# RBTL + Isomap\n",
    "a.fit_gp()\n",
    "rbtl_isomap_mags = a.corr_mags.copy()\n",
    "rbtl_isomap_mags[~good_mag_mask] = np.nan\n",
    "\n",
    "# SALT2\n",
    "salt_mags = a.salt_hr.copy()\n",
    "salt_mags[~good_salt_mask] = np.nan\n",
    "\n",
    "# SALT2 + Isomap\n",
    "a.fit_gp(kind='salt_raw')\n",
    "salt_isomap_mags = a.corr_mags.copy()\n",
    "salt_isomap_mags[~good_salt_isomap_mask] = np.nan\n",
    "\n",
    "all_mags = [rbtl_mags, rbtl_isomap_mags, salt_mags, salt_isomap_mags]\n",
    "\n",
    "with open('./latex/dispersions.tex', 'w') as f:\n",
    "    # RBTL only\n",
    "    make_table(f, all_mags, good_mag_mask, ['Maximum spectrum', '+ training cuts'])\n",
    "    utils.latex_print(f, \"\\hline\")\n",
    "\n",
    "    # SALT2 only\n",
    "    make_table(f, all_mags, good_salt_mask, ['SALT2 fit cuts'])\n",
    "    utils.latex_print(f, \"\\hline\")\n",
    "\n",
    "    # SALT2 + Isomap\n",
    "    make_table(f, all_mags, good_salt_isomap_mask, ['Maximum spectrum', '+ SALT2 fit cuts'])\n",
    "    utils.latex_print(f, \"\\hline\")\n",
    "\n",
    "    # All\n",
    "    make_table(f, all_mags, good_salt_isomap_mask, ['All cuts'])"
   ]
  }
 ],
 "metadata": {
  "kernelspec": {
   "display_name": "Python 3",
   "language": "python",
   "name": "python3"
  },
  "language_info": {
   "codemirror_mode": {
    "name": "ipython",
    "version": 3
   },
   "file_extension": ".py",
   "mimetype": "text/x-python",
   "name": "python",
   "nbconvert_exporter": "python",
   "pygments_lexer": "ipython3",
   "version": "3.8.2"
  },
  "toc-autonumbering": true,
  "toc-showmarkdowntxt": false
 },
 "nbformat": 4,
 "nbformat_minor": 4
}
