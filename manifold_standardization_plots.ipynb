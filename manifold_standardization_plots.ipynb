{
 "cells": [
  {
   "cell_type": "markdown",
   "metadata": {},
   "source": [
    "# Setup"
   ]
  },
  {
   "cell_type": "code",
   "execution_count": 1,
   "metadata": {},
   "outputs": [],
   "source": [
    "from manifold_twins import ManifoldTwinsAnalysis\n",
    "from matplotlib import pyplot as plt\n",
    "import numpy as np\n",
    "from idrtools import math\n",
    "from utils import frac_to_mag"
   ]
  },
  {
   "cell_type": "code",
   "execution_count": 2,
   "metadata": {},
   "outputs": [],
   "source": [
    "%matplotlib ipympl"
   ]
  },
  {
   "cell_type": "code",
   "execution_count": 3,
   "metadata": {},
   "outputs": [
    {
     "name": "stdout",
     "output_type": "stream",
     "text": [
      "Loading dataset...\n",
      "    IDR:          BLACKSTON\n",
      "    Phase range: [-5.0, 5.0] days\n",
      "    Bin velocity: 1000.0\n"
     ]
    },
    {
     "name": "stderr",
     "output_type": "stream",
     "text": [
      "100%|██████████| 415/415 [00:17<00:00, 23.55it/s]\n"
     ]
    },
    {
     "name": "stdout",
     "output_type": "stream",
     "text": [
      "Estimating the spectra at maximum light...\n",
      "    Loaded cached stan model\n",
      "    Using saved stan result\n",
      "Reading between the lines...\n",
      "    Loaded cached stan model\n",
      "    Using saved stan result\n",
      "Building masks...\n",
      "    Masking 30/203 targets whose uncertainty power is \n",
      "    more than 0.100 of the intrinsic power.\n",
      "Generating the manifold learning embedding...\n",
      "Calculating spectral indicators...\n",
      "Fitting GP hyperparameters...\n",
      "    Fit result:           Optimization terminated successfully.\n",
      "    Color scale:          -0.007 ± 0.070\n",
      "    Intrinsic dispersion: 0.065 ± 0.013 mag\n",
      "    GP kernel amplitude:  0.111 ± 0.042 mag\n",
      "    GP length scale:      3.348 ± 2.272\n",
      "    Fit NMAD:             0.072 mag\n",
      "    Fit std:              0.098 mag\n",
      "Calculating SALT2 Hubble residuals...\n",
      "SALT2 Hubble fit: \n",
      "    ref_mag: -10.449\n",
      "    alpha:   0.142\n",
      "    beta:    2.665\n",
      "    σ_int:   0.134\n",
      "    RMS:     0.156\n",
      "    NMAD:    0.110\n",
      "    WRMS:    0.156\n",
      "Loading host galaxy data...\n",
      "Done!\n"
     ]
    }
   ],
   "source": [
    "a = ManifoldTwinsAnalysis()\n",
    "a.run_analysis()"
   ]
  },
  {
   "cell_type": "markdown",
   "metadata": {},
   "source": [
    "# Cuts"
   ]
  },
  {
   "cell_type": "code",
   "execution_count": 4,
   "metadata": {},
   "outputs": [
    {
     "data": {
      "application/vnd.jupyter.widget-view+json": {
       "model_id": "306ff601f98048e79aa3512653da9c4b",
       "version_major": 2,
       "version_minor": 0
      },
      "text/plain": [
       "Canvas(toolbar=Toolbar(toolitems=[('Home', 'Reset original view', 'home', 'home'), ('Back', 'Back to previous …"
      ]
     },
     "metadata": {},
     "output_type": "display_data"
    }
   ],
   "source": [
    "plt.figure()\n",
    "\n",
    "plt.scatter(a.redshifts[a.uncertainty_mask], a.rbtl_mags[a.uncertainty_mask], s=15, c='C3', label='Supernovae rejected by cuts')\n",
    "plt.scatter(a.redshifts[a.uncertainty_mask & a.redshift_color_mask], a.rbtl_mags[a.uncertainty_mask & a.redshift_color_mask], s=15, c='C0', label='Supernovae passing cuts')\n",
    "\n",
    "z_range = np.linspace(0.001, 0.09, 100)\n",
    "pec_vel_disp = a.calculate_peculiar_velocity_uncertainties(z_range)\n",
    "plt.fill_between(z_range, -pec_vel_disp, pec_vel_disp, alpha=0.2, label='Peculiar velocity dispersion')\n",
    "plt.axvline(0.02, lw=1, ls='--', c='k', label='Redshift cutoff')\n",
    "\n",
    "plt.xlim(0.001, 0.09)\n",
    "plt.ylim(-1, 1.5)\n",
    "plt.xlabel('Redshift')\n",
    "plt.ylabel('RBTL measured magnitude')\n",
    "plt.legend()\n",
    "plt.savefig('./figures/rbtl_magnitude.pdf')"
   ]
  },
  {
   "cell_type": "code",
   "execution_count": 12,
   "metadata": {},
   "outputs": [
    {
     "data": {
      "application/vnd.jupyter.widget-view+json": {
       "model_id": "9df2b58ae53048fd9c1d7ec8b45074b3",
       "version_major": 2,
       "version_minor": 0
      },
      "text/plain": [
       "Canvas(toolbar=Toolbar(toolitems=[('Home', 'Reset original view', 'home', 'home'), ('Back', 'Back to previous …"
      ]
     },
     "metadata": {},
     "output_type": "display_data"
    }
   ],
   "source": [
    "plt.figure()\n",
    "\n",
    "base_mask = a.uncertainty_mask & a.salt_mask\n",
    "salt_hr = a.salt_residuals['corr_mags']\n",
    "\n",
    "plt.scatter(a.redshifts[base_mask], salt_hr[base_mask], s=15, c='C3', label='Supernovae rejected by cuts')\n",
    "plt.scatter(a.redshifts[base_mask & a.redshift_color_mask], salt_hr[base_mask & a.redshift_color_mask], s=15, c='C0', label='Supernovae passing cuts')\n",
    "\n",
    "z_range = np.linspace(0.001, 0.09, 100)\n",
    "pec_vel_disp = 0.00217 / z_range\n",
    "plt.fill_between(z_range, -pec_vel_disp, pec_vel_disp, alpha=0.2, label='Peculiar velocity dispersion')\n",
    "plt.axvline(0.02, lw=1, ls='--', c='k', label='Redshift cutoff')\n",
    "\n",
    "plt.xlim(0.001, 0.09)\n",
    "# plt.ylim(-1, 1.5)\n",
    "plt.ylim(-1, 2.)\n",
    "plt.xlabel('Redshift')\n",
    "plt.ylabel('SALT2 measured magnitude')\n",
    "plt.legend()\n",
    "plt.tight_layout()\n",
    "plt.savefig('./figures/salt_magnitude_redshift.pdf')"
   ]
  },
  {
   "cell_type": "code",
   "execution_count": 11,
   "metadata": {},
   "outputs": [
    {
     "data": {
      "application/vnd.jupyter.widget-view+json": {
       "model_id": "53804d8d3a2d48be928adf23cf99d3ef",
       "version_major": 2,
       "version_minor": 0
      },
      "text/plain": [
       "Canvas(toolbar=Toolbar(toolitems=[('Home', 'Reset original view', 'home', 'home'), ('Back', 'Back to previous …"
      ]
     },
     "metadata": {},
     "output_type": "display_data"
    }
   ],
   "source": [
    "plt.figure()\n",
    "\n",
    "plt.scatter(a.redshifts[a.uncertainty_mask & a.redshift_color_mask], a.rbtl_mags[a.uncertainty_mask & a.redshift_color_mask], s=15, c='C0', label='Supernovae passing cuts')\n",
    "plt.xlabel('Redshift')\n",
    "plt.ylabel('RBTL measured magnitude')\n",
    "\n",
    "z_range = np.linspace(0.001, 0.09, 100)\n",
    "pec_vel_disp = a.calculate_peculiar_velocity_uncertainties(z_range)\n",
    "plt.fill_between(z_range, -pec_vel_disp, pec_vel_disp, alpha=0.2, label='Peculiar velocity dispersion')\n",
    "plt.fill_between(z_range, -2*pec_vel_disp, 2*pec_vel_disp, alpha=0.1, facecolor='C0')\n",
    "plt.fill_between(z_range, -3*pec_vel_disp, 3*pec_vel_disp, alpha=0.1, facecolor='C0')\n",
    "\n",
    "plt.legend()\n",
    "plt.tight_layout()\n",
    "plt.xlim(0.01, 0.09)\n",
    "plt.ylim(-0.5, 0.5)\n",
    "plt.savefig('./figures/rbtl_magnitude_cut.pdf')"
   ]
  },
  {
   "cell_type": "code",
   "execution_count": 14,
   "metadata": {},
   "outputs": [
    {
     "name": "stdout",
     "output_type": "stream",
     "text": [
      "Raw RBTL mag std:  0.125 mag\n",
      "Raw RBTL mag NMAD: 0.100 mag\n"
     ]
    }
   ],
   "source": [
    "print(\"Raw RBTL mag std:  %.3f mag\" % np.std(a.rbtl_mags[a.uncertainty_mask & a.redshift_color_mask & a.train_mask]))\n",
    "print(\"Raw RBTL mag NMAD: %.3f mag\" % math.nmad(a.rbtl_mags[a.uncertainty_mask & a.redshift_color_mask & a.train_mask]))"
   ]
  },
  {
   "cell_type": "code",
   "execution_count": 21,
   "metadata": {},
   "outputs": [
    {
     "data": {
      "application/vnd.jupyter.widget-view+json": {
       "model_id": "0379ddc5821b4af186dc7e1eb8dcda11",
       "version_major": 2,
       "version_minor": 0
      },
      "text/plain": [
       "Canvas(toolbar=Toolbar(toolitems=[('Home', 'Reset original view', 'home', 'home'), ('Back', 'Back to previous …"
      ]
     },
     "metadata": {},
     "output_type": "display_data"
    }
   ],
   "source": [
    "plt.figure()\n",
    "\n",
    "plt.scatter(a.redshifts[a.uncertainty_mask & a.redshift_color_mask], a.corr_mags[a.uncertainty_mask & a.redshift_color_mask], s=15, c='C0', label='Supernovae passing cuts')\n",
    "plt.xlabel('Redshift')\n",
    "plt.ylabel('RBTL corrected magnitude')\n",
    "\n",
    "z_range = np.linspace(0.001, 0.09, 100)\n",
    "pec_vel_disp = a.calculate_peculiar_velocity_uncertainties(z_range)\n",
    "plt.fill_between(z_range, -pec_vel_disp, pec_vel_disp, alpha=0.2, label='Peculiar velocity dispersion')\n",
    "plt.fill_between(z_range, -2*pec_vel_disp, 2*pec_vel_disp, alpha=0.1, facecolor='C0')\n",
    "plt.fill_between(z_range, -3*pec_vel_disp, 3*pec_vel_disp, alpha=0.1, facecolor='C0')\n",
    "\n",
    "plt.legend()\n",
    "plt.tight_layout()\n",
    "plt.xlim(0.01, 0.09)\n",
    "plt.ylim(-0.5, 0.5)\n",
    "plt.savefig('./figures/rbtl_corr_magnitude_cut.pdf')"
   ]
  },
  {
   "cell_type": "markdown",
   "metadata": {},
   "source": [
    "# Standardization "
   ]
  },
  {
   "cell_type": "markdown",
   "metadata": {},
   "source": [
    "## Raw magnitudes"
   ]
  },
  {
   "cell_type": "code",
   "execution_count": 22,
   "metadata": {},
   "outputs": [
    {
     "ename": "AttributeError",
     "evalue": "'ManifoldTwinsAnalysis' object has no attribute 'mags'",
     "output_type": "error",
     "traceback": [
      "\u001b[0;31m---------------------------------------------------------------------------\u001b[0m",
      "\u001b[0;31mAttributeError\u001b[0m                            Traceback (most recent call last)",
      "\u001b[0;32m<ipython-input-22-e82a09bf6f8e>\u001b[0m in \u001b[0;36m<module>\u001b[0;34m\u001b[0m\n\u001b[0;32m----> 1\u001b[0;31m \u001b[0ma\u001b[0m\u001b[0;34m.\u001b[0m\u001b[0mscatter\u001b[0m\u001b[0;34m(\u001b[0m\u001b[0ma\u001b[0m\u001b[0;34m.\u001b[0m\u001b[0mmags\u001b[0m\u001b[0;34m,\u001b[0m \u001b[0ma\u001b[0m\u001b[0;34m.\u001b[0m\u001b[0mgood_mag_mask\u001b[0m\u001b[0;34m,\u001b[0m \u001b[0mvmin\u001b[0m\u001b[0;34m=\u001b[0m\u001b[0;34m-\u001b[0m\u001b[0;36m0.2\u001b[0m\u001b[0;34m,\u001b[0m \u001b[0mvmax\u001b[0m\u001b[0;34m=\u001b[0m\u001b[0;36m0.2\u001b[0m\u001b[0;34m,\u001b[0m \u001b[0mlabel\u001b[0m\u001b[0;34m=\u001b[0m\u001b[0;34m'Residual magnitude'\u001b[0m\u001b[0;34m,\u001b[0m \u001b[0minvert_colorbar\u001b[0m\u001b[0;34m=\u001b[0m\u001b[0;32mTrue\u001b[0m\u001b[0;34m)\u001b[0m\u001b[0;34m\u001b[0m\u001b[0;34m\u001b[0m\u001b[0m\n\u001b[0m\u001b[1;32m      2\u001b[0m \u001b[0mplt\u001b[0m\u001b[0;34m.\u001b[0m\u001b[0msavefig\u001b[0m\u001b[0;34m(\u001b[0m\u001b[0;34m'./figures/components_12_residual_magnitude.pdf'\u001b[0m\u001b[0;34m)\u001b[0m\u001b[0;34m\u001b[0m\u001b[0;34m\u001b[0m\u001b[0m\n",
      "\u001b[0;31mAttributeError\u001b[0m: 'ManifoldTwinsAnalysis' object has no attribute 'mags'"
     ]
    }
   ],
   "source": [
    "a.scatter(a.mags, a.good_mag_mask, vmin=-0.2, vmax=0.2, label='Residual magnitude', invert_colorbar=True)\n",
    "plt.savefig('./figures/components_12_residual_magnitude.pdf')"
   ]
  },
  {
   "cell_type": "code",
   "execution_count": null,
   "metadata": {},
   "outputs": [],
   "source": [
    "a.scatter(a.mags, a.good_mag_mask, vmin=-0.2, vmax=0.2, axis_1=0, axis_2=2, label='Residual magnitude', invert_colorbar=True)\n",
    "plt.savefig('./figures/components_13_residual_magnitude.pdf')"
   ]
  },
  {
   "cell_type": "code",
   "execution_count": null,
   "metadata": {},
   "outputs": [],
   "source": [
    "a.scatter(a.mags, a.good_mag_mask, vmin=-0.2, vmax=0.2, axis_1=1, axis_2=2, label='Residual magnitude', invert_colorbar=True)\n",
    "plt.savefig('./figures/components_23_residual_magnitude.pdf')"
   ]
  },
  {
   "cell_type": "markdown",
   "metadata": {},
   "source": [
    "## GP standardization"
   ]
  },
  {
   "cell_type": "code",
   "execution_count": null,
   "metadata": {},
   "outputs": [],
   "source": [
    "# Reset to defaults in case things got messed up\n",
    "a.do_embedding()\n",
    "a.fit_gp()"
   ]
  },
  {
   "cell_type": "code",
   "execution_count": null,
   "metadata": {},
   "outputs": [],
   "source": [
    "a.plot_gp(axis_1=0, axis_2=1)\n",
    "plt.savefig('./figures/gp_mag_components_12.pdf')\n",
    "\n",
    "a.plot_gp(axis_1=0, axis_2=2)\n",
    "plt.savefig('./figures/gp_mag_components_13.pdf')\n",
    "\n",
    "a.plot_gp(axis_1=1, axis_2=2)\n",
    "plt.savefig('./figures/gp_mag_components_23.pdf')"
   ]
  },
  {
   "cell_type": "markdown",
   "metadata": {},
   "source": [
    "## Check vs phases of original spectra"
   ]
  },
  {
   "cell_type": "code",
   "execution_count": null,
   "metadata": {},
   "outputs": [],
   "source": [
    "plt.figure()\n",
    "\n",
    "# Get the mean phase for every target.\n",
    "mean_phases = []\n",
    "for i in range(len(a.targets)):\n",
    "    mean_phases.append(np.mean(a.salt_phases[a.target_map == i]))\n",
    "mean_phases = np.array(mean_phases)\n",
    "\n",
    "# plt.scatter(a.salt_phases[a.center_mask][a.good_mag_mask], a.corr_mags[a.good_mag_mask], label='Individual observations')\n",
    "# math.plot_binned_mean(a.salt_phases[a.center_mask][a.good_mag_mask], a.corr_mags[a.good_mag_mask], c='C2', label='Binned mean')\n",
    "plt.scatter(mean_phases[a.good_mag_mask], a.corr_mags[a.good_mag_mask], label='Individual observations')\n",
    "math.plot_binned_mean(mean_phases[a.good_mag_mask], a.corr_mags[a.good_mag_mask], c='C2', label='Binned mean')\n",
    "# plt.xlabel('Phase of closest spectrum to maximum (days)')\n",
    "plt.xlabel('Mean phase of observed spectra (days)')\n",
    "plt.ylabel('Residual magnitude')\n",
    "plt.gca().invert_yaxis()\n",
    "plt.legend()"
   ]
  },
  {
   "cell_type": "markdown",
   "metadata": {},
   "source": [
    "# SALT2 comparison"
   ]
  },
  {
   "cell_type": "code",
   "execution_count": null,
   "metadata": {},
   "outputs": [],
   "source": [
    "# Load SALT2 Hubble residuals\n",
    "a.calculate_salt_hubble_residuals()"
   ]
  },
  {
   "cell_type": "markdown",
   "metadata": {},
   "source": [
    "## SALT2 colors"
   ]
  },
  {
   "cell_type": "code",
   "execution_count": null,
   "metadata": {},
   "outputs": [],
   "source": [
    "plt.figure()\n",
    "plt.scatter(a.salt_color, a.colors, s=5)\n",
    "plt.xlabel('SALT2 Color ($c$)')\n",
    "plt.ylabel('RBTL Color ($A_V$)')\n",
    "plt.tight_layout()\n",
    "\n",
    "plt.savefig('./figures/salt2_color_comparison.pdf')"
   ]
  },
  {
   "cell_type": "markdown",
   "metadata": {},
   "source": [
    "## SALT2 X1"
   ]
  },
  {
   "cell_type": "code",
   "execution_count": null,
   "metadata": {},
   "outputs": [],
   "source": [
    "a.scatter(a.salt_x1, a.interp_mask, label='SALT $x_1$')\n",
    "plt.savefig('./figures/salt2_x1_components_full.pdf')"
   ]
  },
  {
   "cell_type": "code",
   "execution_count": null,
   "metadata": {},
   "outputs": [],
   "source": [
    "a.scatter(a.salt_x1, a.interp_mask & a.good_salt_mask, axis_1=0, axis_2=1, label='SALT $x_1$', vmin=-2., vmax=1.5)\n",
    "plt.savefig('./figures/salt2_x1_components.pdf')"
   ]
  },
  {
   "cell_type": "code",
   "execution_count": null,
   "metadata": {},
   "outputs": [],
   "source": [
    "a.plot_gp(kind='salt_raw', vmin=-0.5, vmax=0.5)"
   ]
  },
  {
   "cell_type": "code",
   "execution_count": null,
   "metadata": {},
   "outputs": [],
   "source": [
    "# Find the best predictor of x1\n",
    "def to_min(x):\n",
    "    diff = a.salt_x1 - a.embedding.dot(x)\n",
    "    return np.nanstd(diff[a.salt_mask])\n",
    "\n",
    "res = minimize(to_min, [0, 0, 0])\n",
    "\n",
    "norm_x = res.x / np.sqrt(np.sum(res.x**2))\n",
    "print(norm_x)\n",
    "\n",
    "plt.figure()\n",
    "# plt.scatter(a.embedding.dot(res.x), a.salt_x1, c=a.salt_mask)\n",
    "plt.scatter(a.embedding.dot(res.x)[~a.salt_mask], a.salt_x1[~a.salt_mask], c='C3', s=30, label='\"Bad\" SALT2 fits', alpha=0.8)\n",
    "plt.scatter(a.embedding.dot(res.x)[a.salt_mask], a.salt_x1[a.salt_mask], c='C0', s=30, label='\"Good\" SALT2 fits', alpha=0.8)\n",
    "plt.plot([-3, 3], [-3, 3], ls='--', c='k', label='One-to-one line')\n",
    "plt.xlim(-3, 3)\n",
    "plt.ylim(-3, 3)\n",
    "plt.xlabel('Rotated Isomap components')\n",
    "plt.ylabel('SALT2 $x_1$')\n",
    "plt.legend()\n",
    "plt.savefig('./figures/rotated_isomap_salt_x1.pdf')\n",
    "\n",
    "\n",
    "print(np.corrcoef(a.embedding.dot(res.x)[a.interp_mask & a.salt_mask], a.salt_x1[a.interp_mask & a.salt_mask]))"
   ]
  },
  {
   "cell_type": "markdown",
   "metadata": {},
   "source": [
    "## SALT2 outliers (Type Iax)"
   ]
  },
  {
   "cell_type": "code",
   "execution_count": null,
   "metadata": {},
   "outputs": [],
   "source": [
    "a.scatter(a.salt_x1)"
   ]
  },
  {
   "cell_type": "code",
   "execution_count": null,
   "metadata": {},
   "outputs": [],
   "source": [
    "iax_mask = (a.embedding[:, 0] > 4.) & (a.embedding[:, 1] < -3)\n",
    "a.targets[iax_mask]"
   ]
  },
  {
   "cell_type": "code",
   "execution_count": null,
   "metadata": {},
   "outputs": [],
   "source": [
    "# Outlier spectra\n",
    "mask = (a.embedding[:, 0] > 4) & (a.embedding[:, 1] < -2)\n",
    "print(a.targets[mask])\n",
    "print(a.colors[mask])\n",
    "print(a.redshifts[mask])\n",
    "print(a.mags[mask])\n",
    "\n",
    "# Ref spectrum\n",
    "ref_target = 'SNF20070803-005'\n",
    "for idx2, target in enumerate(a.targets):\n",
    "    if target.name == ref_target:\n",
    "        break\n",
    "        \n",
    "# idx2 = np.where((a.embedding[:, 0] > 4.8) & (a.embedding[:, 1] < 2))[0][0]\n",
    "\n",
    "plt.figure()\n",
    "for i in np.where(mask)[0]:\n",
    "    plt.plot(a.wave, a.scale_flux[i] * spectrum_plot_scale, label=a.targets[i].name)\n",
    "    \n",
    "plt.plot(a.wave, a.scale_flux[idx2] * spectrum_plot_scale, c='k', ls='--', label=a.targets[idx2].name)\n",
    "print(a.embedding[idx2])\n",
    "\n",
    "plt.legend()\n",
    "\n",
    "plt.xlabel('Wavelength ($\\AA$)')\n",
    "plt.ylabel(spectrum_plot_ylabel)\n",
    "plt.tight_layout()\n",
    "\n",
    "plt.savefig('./figures/type_iax_comparison.pdf')"
   ]
  },
  {
   "cell_type": "markdown",
   "metadata": {},
   "source": [
    "## Other outliers"
   ]
  },
  {
   "cell_type": "code",
   "execution_count": null,
   "metadata": {},
   "outputs": [],
   "source": [
    "a.targets[(a.embedding[:, 1] > 4.)]"
   ]
  },
  {
   "cell_type": "code",
   "execution_count": null,
   "metadata": {},
   "outputs": [],
   "source": [
    "# Outlier spectra\n",
    "mask = (a.embedding[:, 0] < -4)\n",
    "print(a.targets[mask])\n",
    "print(a.colors[mask])\n",
    "print(a.redshifts[mask])\n",
    "print(a.mags[mask])\n",
    "\n",
    "# Ref spectrum\n",
    "# ref_target = 'SNF20070803-005'\n",
    "# for idx2, target in enumerate(a.targets):\n",
    "    # if target.name == ref_target:\n",
    "        # break\n",
    "        \n",
    "# idx2 = np.where((a.embedding[:, 0] > 4.8) & (a.embedding[:, 1] < 2))[0][0]\n",
    "\n",
    "plt.figure()\n",
    "for i in np.where(mask)[0]:\n",
    "    plt.plot(a.wave, a.scale_flux[i] * spectrum_plot_scale, label=a.targets[i].name)\n",
    "    \n",
    "# plt.plot(a.wave, a.scale_flux[idx2] * spectrum_plot_scale, c='k', ls='--', label=a.targets[idx2].name)\n",
    "print(a.embedding[idx2])\n",
    "\n",
    "plt.legend()\n",
    "\n",
    "plt.xlabel('Wavelength ($\\AA$)')\n",
    "plt.ylabel(spectrum_plot_ylabel)\n",
    "plt.tight_layout()\n",
    "\n",
    "# plt.savefig('./figures/type_iax_comparison.pdf')"
   ]
  },
  {
   "cell_type": "markdown",
   "metadata": {},
   "source": [
    "## SALT2 magnitudes vs components"
   ]
  },
  {
   "cell_type": "code",
   "execution_count": null,
   "metadata": {},
   "outputs": [],
   "source": [
    "a.scatter(a.salt_hr, mask=a.salt_mask & a.redshift_color_mask & a.uncertainty_mask, vmin=-0.3, vmax=0.3, label='SALT2-corrected residual magnitude', invert_colorbar=True)\n",
    "# a.scatter(a.salt_hr, mask=a.good_salt_mask & a.interp_mask, vmin=-0.3, vmax=0.3, label='SALT2 Hubble residuals', invert_colorbar=True)\n",
    "plt.savefig('./figures/salt2_hr_components.pdf')"
   ]
  },
  {
   "cell_type": "code",
   "execution_count": null,
   "metadata": {},
   "outputs": [],
   "source": [
    "plt.figure()\n",
    "\n",
    "use_x = a.embedding[:, 0]\n",
    "\n",
    "mask = a.salt_mask & a.redshift_color_mask & a.uncertainty_mask\n",
    "plt.errorbar(use_x[mask], a.salt_hr[mask], a.salt_hr_uncertainties[mask], label='Individual supernovae', fmt='.', alpha=0.2, c='k')\n",
    "math.plot_binned_mean(use_x[mask], a.salt_hr[mask], c='C3', lw=2, label='Binned mean')\n",
    "plt.legend()\n",
    "\n",
    "plt.gca().invert_yaxis()\n",
    "\n",
    "plt.xlabel('Component 1')\n",
    "plt.ylabel('SALT2 Hubble residuals')\n",
    "\n",
    "plt.tight_layout()\n",
    "plt.savefig('./figures/salt2_hr_component_1.pdf')\n",
    "\n",
    "plt.figure()\n",
    "plt.hist(a.salt_hr[(use_x < 2) & mask], 10, (-0.6, 0.4), alpha=0.3, color='C0', label='Component 1 < 2', density=True)\n",
    "plt.hist(a.salt_hr[(use_x < 2) & mask], 10, (-0.6, 0.4), histtype='step', lw=2, color='C0', density=True)\n",
    "plt.hist(a.salt_hr[(use_x > 2) & mask], 10, (-0.6, 0.4), alpha=0.3, color='C1', label='Component 1 > 2', density=True)\n",
    "plt.hist(a.salt_hr[(use_x > 2) & mask], 10, (-0.6, 0.4), histtype='step', lw=2, color='C1', density=True)\n",
    "\n",
    "plt.gca().invert_xaxis()\n",
    "\n",
    "plt.xlabel('SALT2 residual magnitude')\n",
    "plt.ylabel('Normalized counts')\n",
    "plt.legend()\n",
    "\n",
    "plt.tight_layout()\n",
    "plt.savefig('./figures/salt2_hr_hist.pdf')"
   ]
  },
  {
   "cell_type": "markdown",
   "metadata": {},
   "source": [
    "## SALT2 + Isomap standardization"
   ]
  },
  {
   "cell_type": "code",
   "execution_count": 155,
   "metadata": {},
   "outputs": [
    {
     "name": "stdout",
     "output_type": "stream",
     "text": [
      "Fitting GP hyperparameters...\n",
      "    Fit result:           Desired error not necessarily achieved due to precision loss.\n",
      "    Color scale:          3.108 ± 0.211\n",
      "    Intrinsic dispersion: 0.090 ± 0.014 mag\n",
      "    GP kernel amplitude:  0.358 ± 0.203 mag\n",
      "    GP length scale:      7.316 ± 4.765\n",
      "    Fit NMAD:             0.095 mag\n",
      "    Fit std:              0.119 mag\n"
     ]
    },
    {
     "data": {
      "application/vnd.jupyter.widget-view+json": {
       "model_id": "f6cf5e93fb7c49a5b9b2e1afff760587",
       "version_major": 2,
       "version_minor": 0
      },
      "text/plain": [
       "Canvas(toolbar=Toolbar(toolitems=[('Home', 'Reset original view', 'home', 'home'), ('Back', 'Back to previous …"
      ]
     },
     "metadata": {},
     "output_type": "display_data"
    }
   ],
   "source": [
    "a.fit_gp(kind='salt_raw')\n",
    "a.plot_gp(kind='salt_raw', vmin=-0.5, vmax=0.5)\n",
    "\n",
    "plt.savefig('./figures/salt_gp_component_12.pdf')"
   ]
  },
  {
   "cell_type": "code",
   "execution_count": 157,
   "metadata": {},
   "outputs": [
    {
     "name": "stderr",
     "output_type": "stream",
     "text": [
      "/home/kyle/packages/conda/lib/python3.7/site-packages/ipykernel_launcher.py:1: RuntimeWarning: More than 20 figures have been opened. Figures created through the pyplot interface (`matplotlib.pyplot.figure`) are retained until explicitly closed and may consume too much memory. (To control this warning, see the rcParam `figure.max_open_warning`).\n",
      "  \"\"\"Entry point for launching an IPython kernel.\n"
     ]
    },
    {
     "data": {
      "application/vnd.jupyter.widget-view+json": {
       "model_id": "a8b10757c1d54400b26f8e35ef6504ec",
       "version_major": 2,
       "version_minor": 0
      },
      "text/plain": [
       "Canvas(toolbar=Toolbar(toolitems=[('Home', 'Reset original view', 'home', 'home'), ('Back', 'Back to previous …"
      ]
     },
     "metadata": {},
     "output_type": "display_data"
    },
    {
     "ename": "AttributeError",
     "evalue": "'ManifoldTwinsAnalysis' object has no attribute 'good_salt_mask'",
     "output_type": "error",
     "traceback": [
      "\u001b[0;31m---------------------------------------------------------------------------\u001b[0m",
      "\u001b[0;31mAttributeError\u001b[0m                            Traceback (most recent call last)",
      "\u001b[0;32m<ipython-input-157-4c0895442f82>\u001b[0m in \u001b[0;36m<module>\u001b[0;34m\u001b[0m\n\u001b[1;32m      1\u001b[0m \u001b[0mplt\u001b[0m\u001b[0;34m.\u001b[0m\u001b[0mfigure\u001b[0m\u001b[0;34m(\u001b[0m\u001b[0;34m)\u001b[0m\u001b[0;34m\u001b[0m\u001b[0;34m\u001b[0m\u001b[0m\n\u001b[0;32m----> 2\u001b[0;31m \u001b[0mm\u001b[0m \u001b[0;34m=\u001b[0m \u001b[0ma\u001b[0m\u001b[0;34m.\u001b[0m\u001b[0mgood_salt_mask\u001b[0m \u001b[0;34m&\u001b[0m \u001b[0ma\u001b[0m\u001b[0;34m.\u001b[0m\u001b[0minterp_mask\u001b[0m\u001b[0;34m\u001b[0m\u001b[0;34m\u001b[0m\u001b[0m\n\u001b[0m\u001b[1;32m      3\u001b[0m \u001b[0mplt\u001b[0m\u001b[0;34m.\u001b[0m\u001b[0mscatter\u001b[0m\u001b[0;34m(\u001b[0m\u001b[0ma\u001b[0m\u001b[0;34m.\u001b[0m\u001b[0msalt_x1\u001b[0m\u001b[0;34m[\u001b[0m\u001b[0mm\u001b[0m\u001b[0;34m]\u001b[0m\u001b[0;34m,\u001b[0m \u001b[0;34m(\u001b[0m\u001b[0ma\u001b[0m\u001b[0;34m.\u001b[0m\u001b[0mcorr_mags\u001b[0m \u001b[0;34m-\u001b[0m \u001b[0ma\u001b[0m\u001b[0;34m.\u001b[0m\u001b[0msalt_hr\u001b[0m\u001b[0;34m)\u001b[0m\u001b[0;34m[\u001b[0m\u001b[0mm\u001b[0m\u001b[0;34m]\u001b[0m\u001b[0;34m,\u001b[0m \u001b[0mc\u001b[0m\u001b[0;34m=\u001b[0m\u001b[0ma\u001b[0m\u001b[0;34m.\u001b[0m\u001b[0membedding\u001b[0m\u001b[0;34m[\u001b[0m\u001b[0mm\u001b[0m\u001b[0;34m,\u001b[0m \u001b[0;36m0\u001b[0m\u001b[0;34m]\u001b[0m\u001b[0;34m,\u001b[0m \u001b[0mcmap\u001b[0m\u001b[0;34m=\u001b[0m\u001b[0mplt\u001b[0m\u001b[0;34m.\u001b[0m\u001b[0mcm\u001b[0m\u001b[0;34m.\u001b[0m\u001b[0mcoolwarm\u001b[0m\u001b[0;34m,\u001b[0m \u001b[0mvmin\u001b[0m\u001b[0;34m=\u001b[0m\u001b[0;34m-\u001b[0m\u001b[0;36m3\u001b[0m\u001b[0;34m,\u001b[0m \u001b[0mvmax\u001b[0m\u001b[0;34m=\u001b[0m\u001b[0;36m3\u001b[0m\u001b[0;34m)\u001b[0m\u001b[0;34m\u001b[0m\u001b[0;34m\u001b[0m\u001b[0m\n\u001b[1;32m      4\u001b[0m \u001b[0mplt\u001b[0m\u001b[0;34m.\u001b[0m\u001b[0mgca\u001b[0m\u001b[0;34m(\u001b[0m\u001b[0;34m)\u001b[0m\u001b[0;34m.\u001b[0m\u001b[0minvert_yaxis\u001b[0m\u001b[0;34m(\u001b[0m\u001b[0;34m)\u001b[0m\u001b[0;34m\u001b[0m\u001b[0;34m\u001b[0m\u001b[0m\n\u001b[1;32m      5\u001b[0m \u001b[0mplt\u001b[0m\u001b[0;34m.\u001b[0m\u001b[0mcolorbar\u001b[0m\u001b[0;34m(\u001b[0m\u001b[0mlabel\u001b[0m\u001b[0;34m=\u001b[0m\u001b[0;34m'Value of Isomap component 1'\u001b[0m\u001b[0;34m)\u001b[0m\u001b[0;34m\u001b[0m\u001b[0;34m\u001b[0m\u001b[0m\n",
      "\u001b[0;31mAttributeError\u001b[0m: 'ManifoldTwinsAnalysis' object has no attribute 'good_salt_mask'"
     ]
    }
   ],
   "source": [
    "plt.figure()\n",
    "m = a.good_salt_mask & a.interp_mask\n",
    "plt.scatter(a.salt_x1[m], (a.corr_mags - a.salt_hr)[m], c=a.embedding[m, 0], cmap=plt.cm.coolwarm, vmin=-3, vmax=3)\n",
    "plt.gca().invert_yaxis()\n",
    "plt.colorbar(label='Value of Isomap component 1')\n",
    "plt.xlabel('SALT2 $x_1$')\n",
    "plt.ylabel('Difference between SALT2 and\\nSALT2 + Isomap standardization (mag)')\n",
    "plt.tight_layout()\n",
    "plt.savefig('./figures/salt_isomap_difference.pdf')"
   ]
  },
  {
   "cell_type": "code",
   "execution_count": null,
   "metadata": {},
   "outputs": [],
   "source": [
    "# Redo the original GP fit to put the analysis back in the original state\n",
    "a.fit_gp(verbose=True)"
   ]
  },
  {
   "cell_type": "code",
   "execution_count": null,
   "metadata": {},
   "outputs": [],
   "source": [
    "target = 'BOSS38'\n",
    "\n",
    "for j, i in enumerate(a.targets):\n",
    "    if target in i.name:\n",
    "        idx = j\n",
    "        break\n",
    "else:\n",
    "    raise Exception(f\"No target {target} found!\")\n",
    "    \n",
    "print(f\"target:        {a.targets[idx].name}\")\n",
    "print(f\"isomap coord:  {a.embedding[idx]}\")\n",
    "print(f\"SALT x1:       {a.salt_x1[idx]}\")\n",
    "\n",
    "gp_pred = a.predict_gp(a.embedding[idx], a.salt_color[idx], kind='salt_raw')[0]\n",
    "# salt_pred = a.salt_alpha * a.salt_x1[idx] - a.salt_beta * a.salt_color[idx]\n",
    "salt_pred = a.salt_hr_raw[idx] - a.salt_hr[idx]\n",
    "\n",
    "print(f\"GP prediction: {gp_pred}\")\n",
    "print(f\"SALT2 pred:    {salt_pred}\")\n",
    "print(f\"pred diff:     {salt_pred - gp_pred}\")\n",
    "\n",
    "# print(f\"HR difference: {(a.corr_mags - a.salt_hr)[idx]}\")"
   ]
  },
  {
   "cell_type": "markdown",
   "metadata": {},
   "source": [
    "## Same SALT2 parameters but not at the same location in the manifold"
   ]
  },
  {
   "cell_type": "code",
   "execution_count": null,
   "metadata": {},
   "outputs": [],
   "source": [
    "def outer_diff(x):\n",
    "    return (x - x[:, None])\n",
    "\n",
    "count = np.array([len(i.spectra) for i in a.targets])\n",
    "first_phase = np.array([i.spectra[0].phase for i in a.targets])\n",
    "mask = (count > 8) & (a.redshifts > 0.03) & (first_phase < -2)\n",
    "\n",
    "salt_x1_diff = outer_diff(a.salt_x1)\n",
    "salt_c_diff = outer_diff(a.salt_color)\n",
    "salt_diff = outer_diff(a.salt_x1)**2 + 100 * outer_diff(a.salt_color)**2\n",
    "manif_diff = outer_diff(a.embedding[:, 0])**2 + outer_diff(a.embedding[:, 1])**2 + outer_diff(a.embedding[:, 2])**2\n",
    "\n",
    "phase_diff = outer_diff(a.salt_phases[a.center_mask])\n",
    "\n",
    "np.fill_diagonal(salt_diff, np.nan)\n",
    "np.fill_diagonal(manif_diff, np.nan)\n",
    "\n",
    "salt_diff[~mask] = np.nan\n",
    "salt_diff[:, ~mask] = np.nan\n",
    "manif_diff[~mask] = np.nan\n",
    "manif_diff[:, ~mask] = np.nan"
   ]
  },
  {
   "cell_type": "code",
   "execution_count": null,
   "metadata": {},
   "outputs": [],
   "source": [
    "cut = (salt_x1_diff > 0) & (salt_x1_diff < 0.2) & (np.abs(salt_c_diff) < 0.02) & (manif_diff > 30) & (np.abs(phase_diff) < 1.0)\n",
    "print(\"Num objects:  %s\" % np.sum(cut))\n",
    "salt_diff_idx = [i[2] for i in np.where(cut)]\n",
    "\n",
    "t1 = a.targets[salt_diff_idx[0]]\n",
    "t2 = a.targets[salt_diff_idx[1]]\n",
    "\n",
    "print(\"target 1:     %s\" % t1)\n",
    "print(\"target 2:     %s\" % t2)\n",
    "print(\"redshifts:    %.4f, %.4f\" % (a.redshifts[salt_diff_idx[0]], a.redshifts[salt_diff_idx[1]]))\n",
    "print(\"x_1 values:   %+.3f, %+.3f\" % (a.salt_x1[salt_diff_idx[0]], a.salt_x1[salt_diff_idx[1]]))\n",
    "print(\"c values:     %+.3f, %+.3f\" % (a.salt_color[salt_diff_idx[0]], a.salt_color[salt_diff_idx[1]]))\n",
    "print(\"mags:         %.3f, %.3f\" % (a.mags[salt_diff_idx[0]], a.mags[salt_diff_idx[1]]))\n",
    "print(\"salt HRs:     %.3f, %.3f\" % (a.salt_hr[salt_diff_idx[0]], a.salt_hr[salt_diff_idx[1]]))\n",
    "print(\"corr mags:    %.3f, %.3f\" % (a.corr_mags[salt_diff_idx[0]], a.corr_mags[salt_diff_idx[1]]))\n",
    "print(\"embedding 1:  %s\" % a.embedding[salt_diff_idx[0]])\n",
    "print(\"embedding 2:  %s\" % a.embedding[salt_diff_idx[1]])\n",
    "\n",
    "salt_comparision_mb_diff = np.abs(\n",
    "    a.salt_hr[salt_diff_idx[0]]\n",
    "    - a.salt_hr[salt_diff_idx[1]]\n",
    ")\n",
    "dm_1 = frac_to_mag(t1.salt_fit['x0_err'] / t1.salt_fit['x0'])\n",
    "dm_2 = frac_to_mag(t2.salt_fit['x0_err'] / t2.salt_fit['x0'])\n",
    "\n",
    "salt_comparison_mb_diff_err = np.sqrt(dm_1**2 + dm_2**2)\n",
    "print(\"mag_diff:     %.3f +/- %.3f\" % (salt_comparision_mb_diff, salt_comparison_mb_diff_err))"
   ]
  },
  {
   "cell_type": "code",
   "execution_count": null,
   "metadata": {},
   "outputs": [],
   "source": [
    "bands = ['U', 'B', 'V', 'R', 'I']\n",
    "\n",
    "band_colors = {\n",
    "    'U': 'C4',\n",
    "    'B': 'C0',\n",
    "    'V': 'C2',\n",
    "    'R': 'C3',\n",
    "    'I': 'C1',\n",
    "}\n",
    "\n",
    "gap = 1.\n",
    "\n",
    "def plot_lightcurve(target, marker='o', ls='--', mfc='none', label_bands=True):\n",
    "    photometry = target.get_photometry(bands, clip_filter=True)\n",
    "    \n",
    "    # Cut late phases\n",
    "    photometry = photometry[photometry['time'] < 30]\n",
    "        \n",
    "    ref_mag = target.salt_fit['fitted_model'].source_peakmag('snfb', 'ab')\n",
    "    \n",
    "    for offset, band in enumerate(bands):\n",
    "        band_photometry = photometry[photometry['band'] == 'snf%s' % band.lower()]\n",
    "        \n",
    "        if band == 'B':\n",
    "            label = target.name\n",
    "        else:\n",
    "            label = ''\n",
    "            \n",
    "        color = band_colors[band]\n",
    "        \n",
    "        phases = band_photometry['time']\n",
    "        mags = -2.5*np.log10(band_photometry['flux']) - ref_mag - (offset - 1) * gap\n",
    "        magerrs = band_photometry['magerr']\n",
    "    \n",
    "        plt.errorbar(phases, mags, magerrs, fmt='none', c=color)\n",
    "        plt.plot(phases, mags, label=label, marker=marker, c=color, mfc=mfc, ls=ls)\n",
    "        \n",
    "        if label_bands:\n",
    "            plt.text(phases[-1] + 2, mags[-1] + 0.2, '%s%+d' % (band, offset - 1), c=color)\n",
    "            plt.xlim(None, phases[-1] + 9)\n",
    "            \n",
    "def plot_salt_lightcurve(target, phase_min=-6, phase_max=50):\n",
    "    model = target.salt_fit['fitted_model']\n",
    "    phases = np.linspace(phase_min, phase_max, 200)\n",
    "    \n",
    "    # Compute the reference magnitude for B-band at max.\n",
    "    ref_mag = model.source_peakmag('snfb', 'ab')\n",
    "\n",
    "    # Plot each light curve\n",
    "    for offset, band in enumerate(bands):\n",
    "        mags = model.bandmag('snf%s' % band.lower(), 'ab', phases) - ref_mag - (offset - 1) * gap\n",
    "        plt.plot(phases, mags, c='k')\n",
    "\n",
    "\n",
    "plt.figure(figsize=(5, 5))\n",
    "plot_lightcurve(t1, marker='^', ls='', mfc=None, label_bands=False)\n",
    "plot_lightcurve(t2, marker='o', ls='', mfc='none', label_bands=True)\n",
    "# plot_salt_lightcurve(t1)\n",
    "plt.legend()\n",
    "plt.xlabel('Phase (days)')\n",
    "plt.ylabel('Normalized magnitude + offset')\n",
    "plt.ylim(4.8, -2.5)\n",
    "plt.tight_layout()\n",
    "\n",
    "plt.savefig('./figures/same_salt_comparison.pdf')\n",
    "\n",
    "# plt.gca().invert_yaxis()"
   ]
  },
  {
   "cell_type": "code",
   "execution_count": null,
   "metadata": {},
   "outputs": [],
   "source": [
    "plt.figure()\n",
    "\n",
    "def plot_spec(idx):\n",
    "    spec = a.spectra[a.center_mask][idx]\n",
    "\n",
    "    ref_mag = spec.target.salt_fit['fitted_model'].source_peakmag('snfb', 'ab')\n",
    "    \n",
    "    label = '%s, %.2f days' % (spec.target.name, spec.phase)\n",
    "    \n",
    "    scale = 10**(+0.4*ref_mag)\n",
    "    \n",
    "    plt.plot(a.wave, spec.flux * scale * spectrum_plot_scale, label=label)\n",
    "\n",
    "plot_spec(salt_diff_idx[0])\n",
    "plot_spec(salt_diff_idx[1])\n",
    "\n",
    "plt.legend()\n",
    "\n",
    "plt.xlabel('Restframe wavelength ($\\AA$)')\n",
    "plt.ylabel(spectrum_plot_ylabel)\n",
    "plt.tight_layout()\n",
    "\n",
    "plt.savefig('./figures/same_salt_spectra.pdf')"
   ]
  },
  {
   "cell_type": "code",
   "execution_count": null,
   "metadata": {},
   "outputs": [],
   "source": [
    "# Dump details to latex\n",
    "with open('latex/salt_comparison.tex', 'w') as f:\n",
    "    latex_print(f, \"\")\n",
    "    t1 = a.targets[salt_diff_idx[0]]\n",
    "    t2 = a.targets[salt_diff_idx[1]]\n",
    "    latex_command(f, 'saltcompnamea', '%s', t1.name)\n",
    "    latex_command(f, 'saltcompnameb', '%s', t2.name)\n",
    "    latex_command(f, 'saltcompxonea', '%.3f $\\\\pm$ %.3f', (t1['salt2.X1'], t1['salt2.X1.err']))\n",
    "    latex_command(f, 'saltcompxoneb', '%.3f $\\\\pm$ %.3f', (t2['salt2.X1'], t2['salt2.X1.err']))\n",
    "    latex_command(f, 'saltcompca', '%.3f $\\\\pm$ %.3f', (t1['salt2.Color'], t1['salt2.Color.err']))\n",
    "    latex_command(f, 'saltcompcb', '%.3f $\\\\pm$ %.3f', (t2['salt2.Color'], t2['salt2.Color.err']))\n",
    "    latex_command(f, 'saltcompcoorda', '%.2f', a.embedding[salt_diff_idx[0], 0])\n",
    "    latex_command(f, 'saltcompcoordb', '%.2f', a.embedding[salt_diff_idx[1], 0])\n",
    "    latex_command(f, 'saltcompmagbdiff', '%.3f $\\\\pm$ %.3f', (salt_comparision_mb_diff, salt_comparison_mb_diff_err))"
   ]
  },
  {
   "cell_type": "markdown",
   "metadata": {},
   "source": [
    "# Host galaxy correlations"
   ]
  },
  {
   "cell_type": "code",
   "execution_count": 165,
   "metadata": {},
   "outputs": [
    {
     "name": "stdout",
     "output_type": "stream",
     "text": [
      "Fitting GP hyperparameters...\n",
      "    Fit result:           Optimization terminated successfully.\n",
      "    Color scale:          -0.007 ± 0.070\n",
      "    Intrinsic dispersion: 0.065 ± 0.013 mag\n",
      "    GP kernel amplitude:  0.111 ± 0.042 mag\n",
      "    GP length scale:      3.348 ± 2.272\n",
      "    Fit NMAD:             0.072 mag\n",
      "    Fit std:              0.098 mag\n",
      "Fitting GP hyperparameters...\n",
      "    Fit result:           Desired error not necessarily achieved due to precision loss.\n",
      "    Color scale:          3.108 ± 0.211\n",
      "    Intrinsic dispersion: 0.090 ± 0.014 mag\n",
      "    GP kernel amplitude:  0.358 ± 0.203 mag\n",
      "    GP length scale:      7.316 ± 4.765\n",
      "    Fit NMAD:             0.095 mag\n",
      "    Fit std:              0.119 mag\n"
     ]
    }
   ],
   "source": [
    "a.fit_gp(kind='rbtl')\n",
    "rbtl_isomap_mags = a.corr_mags\n",
    "a.fit_gp(kind='salt_raw')\n",
    "salt_isomap_mags = a.corr_mags"
   ]
  },
  {
   "cell_type": "code",
   "execution_count": 166,
   "metadata": {},
   "outputs": [],
   "source": [
    "def calc_step(sample, sides, errs, axis=None):\n",
    "    vals_1 = np.average(sample, weights=sides / errs**2, axis=axis)\n",
    "    vals_2 = np.average(sample, weights=(1-sides) / errs**2, axis=axis)\n",
    "    \n",
    "    return vals_1, vals_2, vals_2 - vals_1\n",
    "\n",
    "def bootstrap_step(sample, sides, errs=1):\n",
    "    return math.bootstrap_statistic(calc_step, sample, sides, errs)\n",
    "\n",
    "def likelihood_step(residuals, prob, errs=0.):\n",
    "    def calc_likelihood(x):\n",
    "        s1, s2, err1, err2 = x\n",
    "\n",
    "        var1 = errs**2 + err1**2\n",
    "        var2 = errs**2 + err2**2\n",
    "\n",
    "        likelihood = np.sum(-np.log(\n",
    "            prob * 1 / np.sqrt(2 * np.pi * var1) * np.exp(-(residuals - s1)**2 / var1)\n",
    "            + (1 - prob) * 1 / np.sqrt(2 * np.pi * var2) * np.exp(-(residuals - s2)**2 / var2)\n",
    "        ))\n",
    "\n",
    "        return likelihood\n",
    "\n",
    "    res = minimize(calc_likelihood, [0., 0., 0.1, 0.1], method='BFGS')\n",
    "    param_errs = np.sqrt(np.diag(res.hess_inv))\n",
    "\n",
    "    # Estimate the variances with the intrinsic components.\n",
    "    total_vars = errs**2 + prob * res.x[2]**2 + (1 - prob) * res.x[3]**2\n",
    "\n",
    "    step_means = (res.x[0], res.x[1], res.x[1] - res.x[0])\n",
    "    step_errs = (param_errs[0], param_errs[1], np.sqrt(param_errs[0]**2 + param_errs[1]**2))\n",
    "\n",
    "    return step_means, step_errs, total_vars\n",
    "\n",
    "def int_disp(vals, pec_vel_disps, axis=None):\n",
    "    std = np.std(vals, ddof=1, axis=axis)\n",
    "    corr = np.mean(pec_vel_disps**2, axis=axis)\n",
    "    corr_std = np.sqrt(np.clip(std**2 - corr, 0, None))\n",
    "\n",
    "    return corr_std\n",
    "\n",
    "def analyze_host_variable(variable, mags, mask, uncertainties=None, threshold=None,\n",
    "                          use_probability=True, plot=True, bootstrap=None,\n",
    "                          y_label='Residual magnitudes'):\n",
    "    use_mask = np.where(mask & a.host_mask)[0]\n",
    "\n",
    "    if isinstance(bootstrap, int):\n",
    "        np.random.seed(bootstrap)\n",
    "        bootstrap_idx = np.random.choice(len(use_mask), len(use_mask))\n",
    "        use_mask = use_mask[bootstrap_idx]\n",
    "        \n",
    "    host_data = a.host_data[use_mask]\n",
    "    use_mags = mags[use_mask]\n",
    "    \n",
    "    use_var = host_data[variable]\n",
    "    # use_var_low = -host_data[variable + '_low']\n",
    "    # use_var_high = host_data[variable + '_up']\n",
    "    use_var_low = host_data[variable + '.err_down']\n",
    "    use_var_high = host_data[variable + '.err_up']\n",
    "    \n",
    "    # Default thresholds from Rigault et al. 2019\n",
    "    if threshold is None:\n",
    "        if variable == 'lssfr':\n",
    "            threshold = -10.8\n",
    "        elif variable == 'gmass':\n",
    "            threshold = 10\n",
    "        else:\n",
    "            # Default, use the median of the variable\n",
    "            threshold = np.median(use_var)\n",
    "\n",
    "    # Figure out labels.\n",
    "    if variable == 'lssfr':\n",
    "        x_label = 'log(lsSFR)'\n",
    "    elif variable == 'gmass':\n",
    "        x_label = 'log($M_* / M_\\odot$) (global)'\n",
    "\n",
    "    # Figure out which weights to use for the step. We want to actually use\n",
    "    # the probabilities if they are available rather than hard cuts as is done\n",
    "    # in Rigault et al. 2018.\n",
    "    label = variable\n",
    "    use_weights = None\n",
    "\n",
    "    if use_probability:\n",
    "        if variable == 'lssfr':\n",
    "            # plot_color = host_data['p_young']\n",
    "            # use_weights = 1 - host_data['p_young'] / 100\n",
    "            plot_color = host_data['p(prompt)']\n",
    "            use_weights = 1 - host_data['p(prompt)']\n",
    "            label = '$P_{Young}$'\n",
    "        elif variable == 'gmass':\n",
    "            # plot_color = host_data['p_highmass']\n",
    "            # use_weights = 1 - host_data['p_highmass'] / 100\n",
    "            plot_color = host_data['p(highgmass)']\n",
    "            use_weights = 1 - host_data['p(highgmass)']\n",
    "            label = '$P_{high\\ mass}$'\n",
    "\n",
    "    if use_weights is None:\n",
    "        # Backup: do hard cuts.\n",
    "        use_weights = use_var < threshold\n",
    "        plot_color = use_weights\n",
    "\n",
    "    if uncertainties is None:\n",
    "        # If we don't have explicit uncertainties, just use the peculiar velocity contributions.\n",
    "        uncertainties = a.get_peculiar_velocity_uncertainty()\n",
    "\n",
    "    use_uncertainties = uncertainties[use_mask]\n",
    "\n",
    "    step_means, step_errs, total_var = likelihood_step(use_mags, use_weights, use_uncertainties)\n",
    "\n",
    "    if plot:\n",
    "        print(\"Step size: %.3f ± %.3f mag\" % (step_means[2], step_errs[2]))\n",
    "        print(\"Median step: %.3f\" % (np.median(use_mags[use_weights < 0.5]) - np.median(use_mags[use_weights > 0.5])))\n",
    "        plt.figure()\n",
    "        plt.errorbar(use_var, use_mags, xerr=(use_var_low, use_var_high), yerr=np.sqrt(total_var), fmt='.', c='gray', alpha=0.5, zorder=-2)\n",
    "        plt.scatter(use_var, use_mags, s=100, c=plot_color, edgecolors='gray', cmap=plt.cm.viridis_r)\n",
    "\n",
    "        # Threshold\n",
    "        plt.axvline(threshold, c='k', lw=2, ls='--')\n",
    "\n",
    "        # Show means of each side\n",
    "        plot_min, plot_max = plt.xlim()\n",
    "        mean_low, mean_high, mean_diff = step_means\n",
    "        mean_low_err, mean_high_err, mean_diff_err = step_errs\n",
    "        plt.plot([plot_min, threshold], [mean_low, mean_low], c='k', zorder=-1)\n",
    "        plt.fill_between([plot_min, threshold], [mean_low - mean_low_err, mean_low - mean_low_err], [mean_low + mean_low_err, mean_low + mean_low_err], color=plt.cm.viridis(1000), alpha=0.5, zorder=-3)\n",
    "        plt.plot([threshold, plot_max], [mean_high, mean_high], c='k', zorder=-1)\n",
    "        plt.fill_between([threshold, plot_max], [mean_high - mean_high_err, mean_high - mean_high_err], [mean_high + mean_high_err, mean_high + mean_high_err], color=plt.cm.viridis(0), alpha=0.5, zorder=-3)\n",
    "        \n",
    "        # plt.axhline(np.median(use_mags[use_weights > 0.5]))\n",
    "        # plt.axhline(np.median(use_mags[use_weights < 0.5]))\n",
    "\n",
    "        plt.xlabel(x_label)\n",
    "        plt.ylabel(y_label)\n",
    "\n",
    "        plt.xlim(plot_min, plot_max)\n",
    "        plt.ylim(-0.6, 0.6)\n",
    "        \n",
    "        print(step_means, step_errs)\n",
    "\n",
    "\n",
    "        plt.colorbar(label=label)\n",
    "        plt.tight_layout()\n",
    "\n",
    "    return step_means[-1], step_errs[-1]\n",
    "\n",
    "def bootstrap_step_difference(variable, mags_1, uncertainties_1, mags_2, uncertainties_2, mask,\n",
    "                              num_resamples=100, **kwargs):\n",
    "    step_diffs = []\n",
    "    for bootstrap_iter in range(num_resamples):\n",
    "        step_size_1, step_err_1 = analyze_host_variable(variable, mags_1, mask, uncertainties_1, bootstrap=bootstrap_iter, plot=False, **kwargs)\n",
    "        step_size_2, step_err_2 = analyze_host_variable(variable, mags_2, mask, uncertainties_2, bootstrap=bootstrap_iter, plot=False, **kwargs)\n",
    "        \n",
    "        step_diffs.append(step_size_2 - step_size_1)\n",
    "    \n",
    "    return np.mean(step_diffs), np.std(step_diffs)"
   ]
  },
  {
   "cell_type": "code",
   "execution_count": 167,
   "metadata": {},
   "outputs": [
    {
     "name": "stdout",
     "output_type": "stream",
     "text": [
      "(-0.021615132882580122, 0.02875388947906787)\n",
      "(0.013833119908810608, 0.03035360492703955)\n",
      "(-0.026182550161478635, 0.031862275023164625)\n",
      "(0.03366179290776711, 0.03522787030751771)\n",
      "(0.0045674172788985066, 0.020624949152699183)\n",
      "(-0.019828672998956506, 0.025629890358623418)\n"
     ]
    }
   ],
   "source": [
    "print(bootstrap_step_difference('lssfr', a.salt_hr, a.salt_hr_raw_uncertainties, rbtl_isomap_mags, None,\n",
    "                          a.salt_mask & a.uncertainty_mask & a.redshift_color_mask & a.train_mask))\n",
    "print(bootstrap_step_difference('gmass', a.salt_hr, a.salt_hr_raw_uncertainties, rbtl_isomap_mags, None,\n",
    "                          a.salt_mask & a.uncertainty_mask & a.redshift_color_mask & a.train_mask))\n",
    "print(bootstrap_step_difference('lssfr', a.salt_hr, a.salt_hr_raw_uncertainties, salt_isomap_mags, a.salt_hr_raw_uncertainties,\n",
    "                          a.salt_mask & a.uncertainty_mask & a.redshift_color_mask & a.train_mask))\n",
    "print(bootstrap_step_difference('gmass', a.salt_hr, a.salt_hr_raw_uncertainties, salt_isomap_mags, a.salt_hr_raw_uncertainties,\n",
    "                          a.salt_mask & a.uncertainty_mask & a.redshift_color_mask & a.train_mask))\n",
    "print(bootstrap_step_difference('lssfr', salt_isomap_mags, a.salt_hr_raw_uncertainties, rbtl_isomap_mags, None,\n",
    "                          a.salt_mask & a.uncertainty_mask & a.redshift_color_mask & a.train_mask))\n",
    "print(bootstrap_step_difference('gmass', salt_isomap_mags, a.salt_hr_raw_uncertainties, rbtl_isomap_mags, None,\n",
    "                          a.salt_mask & a.uncertainty_mask & a.redshift_color_mask & a.train_mask))"
   ]
  },
  {
   "cell_type": "markdown",
   "metadata": {},
   "source": [
    "## lsSFR plots"
   ]
  },
  {
   "cell_type": "code",
   "execution_count": 168,
   "metadata": {},
   "outputs": [
    {
     "name": "stdout",
     "output_type": "stream",
     "text": [
      "Reading between the lines...\n",
      "Loaded cached stan model\n",
      "Using saved stan result\n",
      "Fitting GP hyperparameters...\n",
      "    Fit result:           Optimization terminated successfully.\n",
      "    Color scale:          -0.007 ± 0.070\n",
      "    Intrinsic dispersion: 0.065 ± 0.013 mag\n",
      "    GP kernel amplitude:  0.111 ± 0.042 mag\n",
      "    GP length scale:      3.348 ± 2.272\n",
      "    Fit NMAD:             0.072 mag\n",
      "    Fit std:              0.098 mag\n"
     ]
    }
   ],
   "source": [
    "a.settings['blinded'] = True\n",
    "a.read_between_the_lines()\n",
    "a.fit_gp()"
   ]
  },
  {
   "cell_type": "code",
   "execution_count": 169,
   "metadata": {},
   "outputs": [
    {
     "name": "stdout",
     "output_type": "stream",
     "text": [
      "Step size: 0.063 ± 0.025 mag\n",
      "Median step: 0.047\n"
     ]
    },
    {
     "name": "stderr",
     "output_type": "stream",
     "text": [
      "/home/kyle/packages/conda/lib/python3.7/site-packages/ipykernel_launcher.py:113: RuntimeWarning: More than 20 figures have been opened. Figures created through the pyplot interface (`matplotlib.pyplot.figure`) are retained until explicitly closed and may consume too much memory. (To control this warning, see the rcParam `figure.max_open_warning`).\n"
     ]
    },
    {
     "data": {
      "application/vnd.jupyter.widget-view+json": {
       "model_id": "98a378388f7143c98646124a12c7df3e",
       "version_major": 2,
       "version_minor": 0
      },
      "text/plain": [
       "Canvas(toolbar=Toolbar(toolitems=[('Home', 'Reset original view', 'home', 'home'), ('Back', 'Back to previous …"
      ]
     },
     "metadata": {},
     "output_type": "display_data"
    },
    {
     "name": "stdout",
     "output_type": "stream",
     "text": [
      "(-0.02839692635279487, 0.034701827754462705, 0.06309875410725757) (0.01719251437000813, 0.01842279386612423, 0.025198846882280957)\n"
     ]
    }
   ],
   "source": [
    "analyze_host_variable('lssfr', a.salt_hr, a.salt_mask & a.uncertainty_mask & a.redshift_color_mask,# & ~np.array([i.name == 'PTF11mkx' for i in a.targets]),\n",
    "                      a.salt_hr_raw_uncertainties, y_label='SALT2 + $x_1$ residual magnitudes')\n",
    "plt.savefig('./figures/lssfr_salt_x1.pdf')"
   ]
  },
  {
   "cell_type": "code",
   "execution_count": 170,
   "metadata": {},
   "outputs": [
    {
     "name": "stdout",
     "output_type": "stream",
     "text": [
      "Step size: 0.060 ± 0.030 mag\n",
      "Median step: 0.019\n"
     ]
    },
    {
     "name": "stderr",
     "output_type": "stream",
     "text": [
      "/home/kyle/packages/conda/lib/python3.7/site-packages/ipykernel_launcher.py:113: RuntimeWarning: More than 20 figures have been opened. Figures created through the pyplot interface (`matplotlib.pyplot.figure`) are retained until explicitly closed and may consume too much memory. (To control this warning, see the rcParam `figure.max_open_warning`).\n"
     ]
    },
    {
     "data": {
      "application/vnd.jupyter.widget-view+json": {
       "model_id": "18a5a5ca36e94b47a661ce489fa28ffd",
       "version_major": 2,
       "version_minor": 0
      },
      "text/plain": [
       "Canvas(toolbar=Toolbar(toolitems=[('Home', 'Reset original view', 'home', 'home'), ('Back', 'Back to previous …"
      ]
     },
     "metadata": {},
     "output_type": "display_data"
    },
    {
     "name": "stdout",
     "output_type": "stream",
     "text": [
      "(-0.012016793525258923, 0.04795269471070949, 0.05996948823596841) (0.022060544362963404, 0.02057447394983037, 0.030165818336364173)\n",
      "Step size: 0.041 ± 0.023 mag\n",
      "Median step: 0.030\n"
     ]
    },
    {
     "name": "stderr",
     "output_type": "stream",
     "text": [
      "/home/kyle/packages/conda/lib/python3.7/site-packages/ipykernel_launcher.py:113: RuntimeWarning: More than 20 figures have been opened. Figures created through the pyplot interface (`matplotlib.pyplot.figure`) are retained until explicitly closed and may consume too much memory. (To control this warning, see the rcParam `figure.max_open_warning`).\n"
     ]
    },
    {
     "data": {
      "application/vnd.jupyter.widget-view+json": {
       "model_id": "3db8efb261194afb991b9927b22d6c11",
       "version_major": 2,
       "version_minor": 0
      },
      "text/plain": [
       "Canvas(toolbar=Toolbar(toolitems=[('Home', 'Reset original view', 'home', 'home'), ('Back', 'Back to previous …"
      ]
     },
     "metadata": {},
     "output_type": "display_data"
    },
    {
     "name": "stdout",
     "output_type": "stream",
     "text": [
      "(-0.017535596937315604, 0.023856737963441014, 0.04139233490075662) (0.01919004920439598, 0.012484562825303228, 0.022893717422168076)\n",
      "Step size: 0.037 ± 0.029 mag\n",
      "Median step: 0.016\n"
     ]
    },
    {
     "name": "stderr",
     "output_type": "stream",
     "text": [
      "/home/kyle/packages/conda/lib/python3.7/site-packages/ipykernel_launcher.py:113: RuntimeWarning: More than 20 figures have been opened. Figures created through the pyplot interface (`matplotlib.pyplot.figure`) are retained until explicitly closed and may consume too much memory. (To control this warning, see the rcParam `figure.max_open_warning`).\n"
     ]
    },
    {
     "data": {
      "application/vnd.jupyter.widget-view+json": {
       "model_id": "eba6b98f95b549e1b75c941f2d26bab5",
       "version_major": 2,
       "version_minor": 0
      },
      "text/plain": [
       "Canvas(toolbar=Toolbar(toolitems=[('Home', 'Reset original view', 'home', 'home'), ('Back', 'Back to previous …"
      ]
     },
     "metadata": {},
     "output_type": "display_data"
    },
    {
     "name": "stdout",
     "output_type": "stream",
     "text": [
      "(-0.007739005480027818, 0.029434319670545855, 0.03717332515057367) (0.022261155371062765, 0.019308111272019295, 0.029467986007653716)\n"
     ]
    }
   ],
   "source": [
    "analyze_host_variable('lssfr', a.salt_hr, a.salt_mask & a.uncertainty_mask & a.redshift_color_mask & a.train_mask, a.salt_hr_raw_uncertainties, y_label='SALT2 + $x_1$ residual magnitudes')\n",
    "plt.savefig('./figures/lssfr_salt_x1_cuts.pdf')\n",
    "analyze_host_variable('lssfr', rbtl_isomap_mags, a.salt_mask & a.uncertainty_mask & a.redshift_color_mask & a.train_mask, y_label='RBTL + Isomap residual magnitudes')\n",
    "plt.savefig('./figures/lssfr_rbtl_isomap_cuts.pdf')\n",
    "analyze_host_variable('lssfr', salt_isomap_mags, a.salt_mask & a.uncertainty_mask & a.redshift_color_mask & a.train_mask, a.salt_hr_raw_uncertainties, y_label='SALT2 + Isomap residual magnitudes')\n",
    "plt.savefig('./figures/lssfr_salt_isomap_cuts.pdf')"
   ]
  },
  {
   "cell_type": "markdown",
   "metadata": {},
   "source": [
    "## Global mass plots"
   ]
  },
  {
   "cell_type": "code",
   "execution_count": 43,
   "metadata": {},
   "outputs": [
    {
     "name": "stdout",
     "output_type": "stream",
     "text": [
      "Step size: -0.040 ± 0.026 mag\n",
      "Median step: -0.045\n"
     ]
    },
    {
     "name": "stderr",
     "output_type": "stream",
     "text": [
      "/home/kyle/packages/conda/lib/python3.7/site-packages/ipykernel_launcher.py:114: RuntimeWarning: More than 20 figures have been opened. Figures created through the pyplot interface (`matplotlib.pyplot.figure`) are retained until explicitly closed and may consume too much memory. (To control this warning, see the rcParam `figure.max_open_warning`).\n"
     ]
    },
    {
     "data": {
      "application/vnd.jupyter.widget-view+json": {
       "model_id": "a3f6e8e2a1d44580b3790d88c55f2904",
       "version_major": 2,
       "version_minor": 0
      },
      "text/plain": [
       "Canvas(toolbar=Toolbar(toolitems=[('Home', 'Reset original view', 'home', 'home'), ('Back', 'Back to previous …"
      ]
     },
     "metadata": {},
     "output_type": "display_data"
    },
    {
     "name": "stdout",
     "output_type": "stream",
     "text": [
      "(0.025187826614678905, -0.015221528209334442, -0.040409354824013345) (0.02073988398205367, 0.015164576050075866, 0.025692550561740284)\n"
     ]
    }
   ],
   "source": [
    "analyze_host_variable('gmass', a.salt_hr, a.salt_mask & a.uncertainty_mask & a.redshift_color_mask, a.salt_hr_raw_uncertainties, y_label='SALT2 + $x_1$ residual magnitudes')\n",
    "plt.savefig('./figures/gmass_salt_x1.pdf')"
   ]
  },
  {
   "cell_type": "code",
   "execution_count": 64,
   "metadata": {},
   "outputs": [],
   "source": [
    "m = a.salt_mask & a.uncertainty_mask & a.redshift_color_mask & a.host_mask & a.train_mask\n",
    "zz = a.host_data[m]"
   ]
  },
  {
   "cell_type": "code",
   "execution_count": 76,
   "metadata": {},
   "outputs": [
    {
     "data": {
      "text/plain": [
       "0.009203790391174835"
      ]
     },
     "execution_count": 76,
     "metadata": {},
     "output_type": "execute_result"
    }
   ],
   "source": [
    "np.mean(zz['HR'][zz['p(prompt)'] > 0.5])"
   ]
  },
  {
   "cell_type": "code",
   "execution_count": 74,
   "metadata": {},
   "outputs": [
    {
     "name": "stderr",
     "output_type": "stream",
     "text": [
      "/home/kyle/packages/conda/lib/python3.7/site-packages/ipykernel_launcher.py:1: RuntimeWarning: More than 20 figures have been opened. Figures created through the pyplot interface (`matplotlib.pyplot.figure`) are retained until explicitly closed and may consume too much memory. (To control this warning, see the rcParam `figure.max_open_warning`).\n",
      "  \"\"\"Entry point for launching an IPython kernel.\n"
     ]
    },
    {
     "data": {
      "application/vnd.jupyter.widget-view+json": {
       "model_id": "c20080300a3841158cfd647cd499ebff",
       "version_major": 2,
       "version_minor": 0
      },
      "text/plain": [
       "Canvas(toolbar=Toolbar(toolitems=[('Home', 'Reset original view', 'home', 'home'), ('Back', 'Back to previous …"
      ]
     },
     "metadata": {},
     "output_type": "display_data"
    },
    {
     "data": {
      "text/plain": [
       "<matplotlib.collections.PathCollection at 0x7f84abdf57d0>"
      ]
     },
     "execution_count": 74,
     "metadata": {},
     "output_type": "execute_result"
    }
   ],
   "source": [
    "plt.figure()\n",
    "plt.scatter(a.salt_colors[m], zz['HR_o'])"
   ]
  },
  {
   "cell_type": "code",
   "execution_count": 47,
   "metadata": {},
   "outputs": [
    {
     "data": {
      "text/plain": [
       "array([Target(name=\"PTF11mkx\")], dtype=object)"
      ]
     },
     "execution_count": 47,
     "metadata": {},
     "output_type": "execute_result"
    }
   ],
   "source": [
    "a.targets[(a.salt_hr < -0.4) & (a.salt_mask & a.uncertainty_mask & a.redshift_color_mask & a.host_mask)]"
   ]
  },
  {
   "cell_type": "code",
   "execution_count": 39,
   "metadata": {},
   "outputs": [
    {
     "name": "stdout",
     "output_type": "stream",
     "text": [
      "Step size: -0.037 ± 0.032 mag\n",
      "Median step: 0.000\n"
     ]
    },
    {
     "data": {
      "application/vnd.jupyter.widget-view+json": {
       "model_id": "c4af1d40c93447dbb6628bed34c5a499",
       "version_major": 2,
       "version_minor": 0
      },
      "text/plain": [
       "Canvas(toolbar=Toolbar(toolitems=[('Home', 'Reset original view', 'home', 'home'), ('Back', 'Back to previous …"
      ]
     },
     "metadata": {},
     "output_type": "display_data"
    },
    {
     "name": "stdout",
     "output_type": "stream",
     "text": [
      "(0.03632344398195818, -0.00021574776434418226, -0.03653919174630236) (0.022685671770290454, 0.02221739851361818, 0.03175299199102782)\n",
      "Step size: -0.031 ± 0.022 mag\n",
      "Median step: -0.016\n"
     ]
    },
    {
     "data": {
      "application/vnd.jupyter.widget-view+json": {
       "model_id": "6a3e9fe115ba4cadafb76b9cba087243",
       "version_major": 2,
       "version_minor": 0
      },
      "text/plain": [
       "Canvas(toolbar=Toolbar(toolitems=[('Home', 'Reset original view', 'home', 'home'), ('Back', 'Back to previous …"
      ]
     },
     "metadata": {},
     "output_type": "display_data"
    },
    {
     "name": "stdout",
     "output_type": "stream",
     "text": [
      "(0.01920695685338997, -0.011999867262688303, -0.031206824116078273) (0.011602038954744636, 0.01831127382123058, 0.021677408905667123)\n",
      "Step size: -0.009 ± 0.030 mag\n",
      "Median step: 0.034\n"
     ]
    },
    {
     "data": {
      "application/vnd.jupyter.widget-view+json": {
       "model_id": "4ed66e0cae4340798b14be151defc365",
       "version_major": 2,
       "version_minor": 0
      },
      "text/plain": [
       "Canvas(toolbar=Toolbar(toolitems=[('Home', 'Reset original view', 'home', 'home'), ('Back', 'Back to previous …"
      ]
     },
     "metadata": {},
     "output_type": "display_data"
    },
    {
     "name": "stdout",
     "output_type": "stream",
     "text": [
      "(0.014017260024520525, 0.005269200270353779, -0.008748059754166745) (0.0199407252103083, 0.022625971803562277, 0.030159030521033334)\n"
     ]
    }
   ],
   "source": [
    "analyze_host_variable('gmass', a.salt_hr, a.train_mask & a.salt_mask & a.uncertainty_mask & a.redshift_color_mask & a.train_mask, y_label='SALT2 + $x_1$ residual magnitudes')\n",
    "plt.savefig('./figures/gmass_salt_x1_cuts.pdf')\n",
    "analyze_host_variable('gmass', rbtl_isomap_mags, a.train_mask & a.salt_mask & a.uncertainty_mask & a.redshift_color_mask & a.train_mask, y_label='RBTL + Isomap residual magnitudes')\n",
    "plt.savefig('./figures/gmass_rbtl_isomap_cuts.pdf')\n",
    "analyze_host_variable('gmass', salt_isomap_mags, a.train_mask & a.salt_mask & a.uncertainty_mask & a.redshift_color_mask & a.train_mask, y_label='SALT2 + Isomap residual magnitudes')\n",
    "plt.savefig('./figures/gmass_salt_isomap_cuts.pdf')"
   ]
  },
  {
   "cell_type": "markdown",
   "metadata": {},
   "source": [
    "## Summary plot"
   ]
  },
  {
   "cell_type": "code",
   "execution_count": 40,
   "metadata": {},
   "outputs": [
    {
     "ename": "KeyError",
     "evalue": "'lmass'",
     "output_type": "error",
     "traceback": [
      "\u001b[0;31m---------------------------------------------------------------------------\u001b[0m",
      "\u001b[0;31mKeyError\u001b[0m                                  Traceback (most recent call last)",
      "\u001b[0;32m<ipython-input-40-bf940aaac8d8>\u001b[0m in \u001b[0;36m<module>\u001b[0;34m\u001b[0m\n\u001b[1;32m     18\u001b[0m     \u001b[0msteps\u001b[0m \u001b[0;34m=\u001b[0m \u001b[0;34m{\u001b[0m\u001b[0;34m}\u001b[0m\u001b[0;34m\u001b[0m\u001b[0;34m\u001b[0m\u001b[0m\n\u001b[1;32m     19\u001b[0m     \u001b[0;32mfor\u001b[0m \u001b[0mmag_label\u001b[0m\u001b[0;34m,\u001b[0m \u001b[0mmags\u001b[0m \u001b[0;32min\u001b[0m \u001b[0mmag_vars\u001b[0m\u001b[0;34m:\u001b[0m\u001b[0;34m\u001b[0m\u001b[0;34m\u001b[0m\u001b[0m\n\u001b[0;32m---> 20\u001b[0;31m         \u001b[0mvar\u001b[0m\u001b[0;34m,\u001b[0m \u001b[0mvar_err\u001b[0m \u001b[0;34m=\u001b[0m \u001b[0manalyze_host_variable\u001b[0m\u001b[0;34m(\u001b[0m\u001b[0mvar_name\u001b[0m\u001b[0;34m,\u001b[0m \u001b[0mmags\u001b[0m\u001b[0;34m,\u001b[0m \u001b[0ma\u001b[0m\u001b[0;34m.\u001b[0m\u001b[0msalt_mask\u001b[0m \u001b[0;34m&\u001b[0m \u001b[0ma\u001b[0m\u001b[0;34m.\u001b[0m\u001b[0muncertainty_mask\u001b[0m \u001b[0;34m&\u001b[0m \u001b[0ma\u001b[0m\u001b[0;34m.\u001b[0m\u001b[0mredshift_color_mask\u001b[0m \u001b[0;34m&\u001b[0m \u001b[0ma\u001b[0m\u001b[0;34m.\u001b[0m\u001b[0mtrain_mask\u001b[0m\u001b[0;34m,\u001b[0m \u001b[0mplot\u001b[0m\u001b[0;34m=\u001b[0m\u001b[0;32mFalse\u001b[0m\u001b[0;34m)\u001b[0m\u001b[0;34m\u001b[0m\u001b[0;34m\u001b[0m\u001b[0m\n\u001b[0m\u001b[1;32m     21\u001b[0m         \u001b[0msteps\u001b[0m\u001b[0;34m[\u001b[0m\u001b[0mmag_label\u001b[0m\u001b[0;34m]\u001b[0m \u001b[0;34m=\u001b[0m \u001b[0;34m(\u001b[0m\u001b[0mvar\u001b[0m \u001b[0;34m*\u001b[0m \u001b[0mvar_sign\u001b[0m\u001b[0;34m,\u001b[0m \u001b[0mvar_err\u001b[0m\u001b[0;34m)\u001b[0m\u001b[0;34m\u001b[0m\u001b[0;34m\u001b[0m\u001b[0m\n\u001b[1;32m     22\u001b[0m \u001b[0;34m\u001b[0m\u001b[0m\n",
      "\u001b[0;32m<ipython-input-35-40fc4607d358>\u001b[0m in \u001b[0;36manalyze_host_variable\u001b[0;34m(variable, mags, mask, uncertainties, threshold, use_probability, plot, bootstrap, y_label)\u001b[0m\n\u001b[1;32m     54\u001b[0m     \u001b[0muse_mags\u001b[0m \u001b[0;34m=\u001b[0m \u001b[0mmags\u001b[0m\u001b[0;34m[\u001b[0m\u001b[0muse_mask\u001b[0m\u001b[0;34m]\u001b[0m\u001b[0;34m\u001b[0m\u001b[0;34m\u001b[0m\u001b[0m\n\u001b[1;32m     55\u001b[0m \u001b[0;34m\u001b[0m\u001b[0m\n\u001b[0;32m---> 56\u001b[0;31m     \u001b[0muse_var\u001b[0m \u001b[0;34m=\u001b[0m \u001b[0mhost_data\u001b[0m\u001b[0;34m[\u001b[0m\u001b[0mvariable\u001b[0m\u001b[0;34m]\u001b[0m\u001b[0;34m\u001b[0m\u001b[0;34m\u001b[0m\u001b[0m\n\u001b[0m\u001b[1;32m     57\u001b[0m     \u001b[0;31m# use_var_low = -host_data[variable + '_low']\u001b[0m\u001b[0;34m\u001b[0m\u001b[0;34m\u001b[0m\u001b[0;34m\u001b[0m\u001b[0m\n\u001b[1;32m     58\u001b[0m     \u001b[0;31m# use_var_high = host_data[variable + '_up']\u001b[0m\u001b[0;34m\u001b[0m\u001b[0;34m\u001b[0m\u001b[0;34m\u001b[0m\u001b[0m\n",
      "\u001b[0;32m~/packages/conda/lib/python3.7/site-packages/astropy/table/table.py\u001b[0m in \u001b[0;36m__getitem__\u001b[0;34m(self, item)\u001b[0m\n\u001b[1;32m   1347\u001b[0m     \u001b[0;32mdef\u001b[0m \u001b[0m__getitem__\u001b[0m\u001b[0;34m(\u001b[0m\u001b[0mself\u001b[0m\u001b[0;34m,\u001b[0m \u001b[0mitem\u001b[0m\u001b[0;34m)\u001b[0m\u001b[0;34m:\u001b[0m\u001b[0;34m\u001b[0m\u001b[0;34m\u001b[0m\u001b[0m\n\u001b[1;32m   1348\u001b[0m         \u001b[0;32mif\u001b[0m \u001b[0misinstance\u001b[0m\u001b[0;34m(\u001b[0m\u001b[0mitem\u001b[0m\u001b[0;34m,\u001b[0m \u001b[0mstr\u001b[0m\u001b[0;34m)\u001b[0m\u001b[0;34m:\u001b[0m\u001b[0;34m\u001b[0m\u001b[0;34m\u001b[0m\u001b[0m\n\u001b[0;32m-> 1349\u001b[0;31m             \u001b[0;32mreturn\u001b[0m \u001b[0mself\u001b[0m\u001b[0;34m.\u001b[0m\u001b[0mcolumns\u001b[0m\u001b[0;34m[\u001b[0m\u001b[0mitem\u001b[0m\u001b[0;34m]\u001b[0m\u001b[0;34m\u001b[0m\u001b[0;34m\u001b[0m\u001b[0m\n\u001b[0m\u001b[1;32m   1350\u001b[0m         \u001b[0;32melif\u001b[0m \u001b[0misinstance\u001b[0m\u001b[0;34m(\u001b[0m\u001b[0mitem\u001b[0m\u001b[0;34m,\u001b[0m \u001b[0;34m(\u001b[0m\u001b[0mint\u001b[0m\u001b[0;34m,\u001b[0m \u001b[0mnp\u001b[0m\u001b[0;34m.\u001b[0m\u001b[0minteger\u001b[0m\u001b[0;34m)\u001b[0m\u001b[0;34m)\u001b[0m\u001b[0;34m:\u001b[0m\u001b[0;34m\u001b[0m\u001b[0;34m\u001b[0m\u001b[0m\n\u001b[1;32m   1351\u001b[0m             \u001b[0;32mreturn\u001b[0m \u001b[0mself\u001b[0m\u001b[0;34m.\u001b[0m\u001b[0mRow\u001b[0m\u001b[0;34m(\u001b[0m\u001b[0mself\u001b[0m\u001b[0;34m,\u001b[0m \u001b[0mitem\u001b[0m\u001b[0;34m)\u001b[0m\u001b[0;34m\u001b[0m\u001b[0;34m\u001b[0m\u001b[0m\n",
      "\u001b[0;32m~/packages/conda/lib/python3.7/site-packages/astropy/table/table.py\u001b[0m in \u001b[0;36m__getitem__\u001b[0;34m(self, item)\u001b[0m\n\u001b[1;32m    189\u001b[0m         \"\"\"\n\u001b[1;32m    190\u001b[0m         \u001b[0;32mif\u001b[0m \u001b[0misinstance\u001b[0m\u001b[0;34m(\u001b[0m\u001b[0mitem\u001b[0m\u001b[0;34m,\u001b[0m \u001b[0mstr\u001b[0m\u001b[0;34m)\u001b[0m\u001b[0;34m:\u001b[0m\u001b[0;34m\u001b[0m\u001b[0;34m\u001b[0m\u001b[0m\n\u001b[0;32m--> 191\u001b[0;31m             \u001b[0;32mreturn\u001b[0m \u001b[0mOrderedDict\u001b[0m\u001b[0;34m.\u001b[0m\u001b[0m__getitem__\u001b[0m\u001b[0;34m(\u001b[0m\u001b[0mself\u001b[0m\u001b[0;34m,\u001b[0m \u001b[0mitem\u001b[0m\u001b[0;34m)\u001b[0m\u001b[0;34m\u001b[0m\u001b[0;34m\u001b[0m\u001b[0m\n\u001b[0m\u001b[1;32m    192\u001b[0m         \u001b[0;32melif\u001b[0m \u001b[0misinstance\u001b[0m\u001b[0;34m(\u001b[0m\u001b[0mitem\u001b[0m\u001b[0;34m,\u001b[0m \u001b[0;34m(\u001b[0m\u001b[0mint\u001b[0m\u001b[0;34m,\u001b[0m \u001b[0mnp\u001b[0m\u001b[0;34m.\u001b[0m\u001b[0minteger\u001b[0m\u001b[0;34m)\u001b[0m\u001b[0;34m)\u001b[0m\u001b[0;34m:\u001b[0m\u001b[0;34m\u001b[0m\u001b[0;34m\u001b[0m\u001b[0m\n\u001b[1;32m    193\u001b[0m             \u001b[0;32mreturn\u001b[0m \u001b[0mself\u001b[0m\u001b[0;34m.\u001b[0m\u001b[0mvalues\u001b[0m\u001b[0;34m(\u001b[0m\u001b[0;34m)\u001b[0m\u001b[0;34m[\u001b[0m\u001b[0mitem\u001b[0m\u001b[0;34m]\u001b[0m\u001b[0;34m\u001b[0m\u001b[0;34m\u001b[0m\u001b[0m\n",
      "\u001b[0;31mKeyError\u001b[0m: 'lmass'"
     ]
    }
   ],
   "source": [
    "host_results = {}\n",
    "\n",
    "step_vars = [\n",
    "    ('gmass', 'Global Mass', -1),\n",
    "    ('lmass', 'Local Mass', -1),\n",
    "    ('lssfr', 'Local SSFR', +1),\n",
    "]\n",
    "\n",
    "mag_vars = [\n",
    "    ('SALT2 + $x_1$', a.salt_hr),\n",
    "    ('SALT2 + Manifold', salt_isomap_mags),\n",
    "    ('Spectrum + Manifold', rbtl_isomap_mags),\n",
    "]\n",
    "\n",
    "host_results = {}\n",
    "\n",
    "for var_name, var_label, var_sign in step_vars:\n",
    "    steps = {}\n",
    "    for mag_label, mags in mag_vars:\n",
    "        var, var_err = analyze_host_variable(var_name, mags, a.salt_mask & a.uncertainty_mask & a.redshift_color_mask & a.train_mask, plot=False)\n",
    "        steps[mag_label] = (var * var_sign, var_err)\n",
    "        \n",
    "    host_results[var_label] = steps"
   ]
  },
  {
   "cell_type": "code",
   "execution_count": 28,
   "metadata": {},
   "outputs": [
    {
     "data": {
      "application/vnd.jupyter.widget-view+json": {
       "model_id": "8e7bbe9f2c794f04aa30858c70c039bc",
       "version_major": 2,
       "version_minor": 0
      },
      "text/plain": [
       "Canvas(toolbar=Toolbar(toolitems=[('Home', 'Reset original view', 'home', 'home'), ('Back', 'Back to previous …"
      ]
     },
     "metadata": {},
     "output_type": "display_data"
    }
   ],
   "source": [
    "plt.figure()\n",
    "labels = []\n",
    "for prop_idx, (prop_label, prop_values) in enumerate(host_results.items()):\n",
    "    for mag_idx, (mag_label, mag_values) in enumerate(prop_values.items()):\n",
    "        step_value, step_err = mag_values\n",
    "        \n",
    "        marker = 'oooo'[mag_idx]\n",
    "        color = 'C%d' % (mag_idx)\n",
    "        if prop_idx == 0:\n",
    "            label = mag_label\n",
    "        else:\n",
    "            label = None\n",
    "            \n",
    "            \n",
    "        gap = 0.1\n",
    "        xpos = prop_idx - 0.5*gap + gap * mag_idx\n",
    "        plt.errorbar(xpos, step_value, step_err, c=color, alpha=1.)\n",
    "        plt.plot(xpos, step_value, marker=marker, c=color, label=label)\n",
    "        \n",
    "    labels.append(prop_label)\n",
    "\n",
    "plt.xticks(np.arange(len(labels)), labels=labels)\n",
    "plt.axhline(0., c='k')\n",
    "plt.xlim(-0.5, len(labels) - 0.5)\n",
    "plt.ylim(-0.045, 0.155)\n",
    "\n",
    "plt.ylabel('Step size (mag)')\n",
    "plt.legend(loc=2)\n",
    "plt.tight_layout()\n",
    "\n",
    "plt.savefig('./figures/host_correlations_summary.pdf')"
   ]
  },
  {
   "cell_type": "markdown",
   "metadata": {},
   "source": [
    "## Summary table"
   ]
  },
  {
   "cell_type": "code",
   "execution_count": null,
   "metadata": {},
   "outputs": [],
   "source": [
    "# All of these functions are defined in the Host galaxy correlations section. Make\n",
    "# sure to run that first.\n",
    "def print_row(f, mags, cut, label, cut_label):\n",
    "    step_vars = [\n",
    "        ('lssfr', '$\\\\Delta_{lsSFR}$', +1),\n",
    "        ('gmass', '$\\\\Delta_{mass}$', -1),\n",
    "    ]\n",
    "    stat_str = \"%20s & %20s\" % (label, cut_label)\n",
    "    for i, (var_name, var_label, var_sign) in enumerate(step_vars):\n",
    "        var, var_err = analyze_host_variable(var_name, mags, cut, plot=False)\n",
    "        stat_str += \" & %.3f $\\pm$ %.3f\" % (var_sign * var, var_err)\n",
    "        \n",
    "    stat_str += \" \\\\\\\\\"\n",
    "    latex_print(f, stat_str)\n",
    "    \n",
    "with open('./latex/host_steps.tex', 'w') as f:\n",
    "    print_row(f, a.salt_hr, a.good_salt_mask, 'SALT2 + $x_1$', 'SALT2')\n",
    "    print_row(f, a.salt_hr, a.good_salt_mask & a.good_mag_mask, 'SALT2 + $x_1$', 'SALT2 + max + train')\n",
    "    print_row(f, rbtl_isomap_mags, a.good_salt_mask & a.good_mag_mask, 'RBTL + Isomap', 'SALT2 + max + train')\n",
    "    print_row(f, salt_isomap_mags, a.good_salt_mask & a.good_mag_mask, 'SALT2 + Isomap', 'SALT2 + max + train')"
   ]
  },
  {
   "cell_type": "markdown",
   "metadata": {},
   "source": [
    "# Attrition and LaTeX variables for things"
   ]
  },
  {
   "cell_type": "markdown",
   "metadata": {},
   "source": [
    "## Attrition"
   ]
  },
  {
   "cell_type": "code",
   "execution_count": null,
   "metadata": {},
   "outputs": [],
   "source": [
    "with open('./latex/attrition_parametrization.tex', 'w') as f:\n",
    "    latex_print(f, \"\\\\textbf{General selection requirements} & \\\\\\\\\")\n",
    "    latex_print(f, \"Initial sample                                        & %d \\\\\\\\\" % len(a.dataset.targets))\n",
    "    latex_print(f, \"More than 5 spectra                                   & %d \\\\\\\\\" % a.attrition_enough_spectra)\n",
    "    latex_print(f, \"SALT2 date of maximum light uncertainty < 1 day       & %d \\\\\\\\\" % a.attrition_salt_daymax)\n",
    "    latex_print(f, \"At least one spectrum within 5 days of maximum light  & %d \\\\\\\\\" % a.attrition_range)\n",
    "    latex_print(f, \"At least one spectrum with S/N 3300-3800~\\AA\\ > 100   & %d \\\\\\\\\" % a.attrition_usable)\n",
    "    latex_print(f, \"\\hline\")\n",
    "    latex_print(f, \"\\\\textbf{Manifold learning selection requirements} & \\\\\\\\\")\n",
    "    latex_print(f, r\"\\textbf{(Section~\\ref{sec:isomap_sample})} & \\\\\")\n",
    "    latex_print(f, \"Spectrum at max. uncertainty < 10\\\\%% of intrinsic power        & %d \\\\\\\\\" % np.sum(a.interp_mask))"
   ]
  },
  {
   "cell_type": "code",
   "execution_count": null,
   "metadata": {},
   "outputs": [],
   "source": [
    "with open('./latex/attrition_standardization.tex', 'w') as f:\n",
    "    latex_print(f, \"\\\\textbf{General selection requirements} & \\\\\\\\\")\n",
    "    latex_print(f, \"Full SNfactory dataset                                & %d \\\\\\\\\" % len(a.dataset.targets))\n",
    "    latex_print(f, \"Included in Isomap latent space                       & %d \\\\\\\\\" % np.sum(a.interp_mask))\n",
    "    latex_print(f, \"\\hline\")\n",
    "    \n",
    "    latex_print(f, \"\\\\textbf{Standardization of near-maximum spectra} & \\\\\\\\\")\n",
    "    latex_print(f, \"Host galaxy redshift available                        & %d \\\\\\\\\" % np.sum(a.interp_mask & (a.redshift_errs < 0.004)))\n",
    "    latex_print(f, \"Host galaxy redshift above 0.02                       & %d \\\\\\\\\" % np.sum(a.interp_mask & (a.redshift_errs < 0.004) & (a.redshifts > 0.02)))\n",
    "    latex_print(f, \"Measured $A_V$ < 0.5 mag                              & %d \\\\\\\\\" % np.sum(a.interp_mask & a.redshift_color_mask))\n",
    "    latex_print(f, \"Blinded training subsample                            & %d \\\\\\\\\" % np.sum(a.good_mag_mask))\n",
    "    # latex_print(f, \"Validation subsample                                  & %d \\\\\\\\\" % np.sum(a.good_mag_mask))\n",
    "    latex_print(f, \"Validation subsample                                  & TODO \\\\\\\\\")\n",
    "    latex_print(f, \"\\hline\")\n",
    "    \n",
    "    latex_print(f, \"\\\\textbf{Comparisons to SALT2 standardization} & \\\\\\\\\")\n",
    "    latex_print(f, r\"\\textbf{(Section~\\ref{sec:salt2_standardization})} & \\\\\")\n",
    "    latex_print(f, \"SNfactory SALT2 selection requirements                & %d \\\\\\\\\"% np.sum(a.salt_mask & a.interp_mask))\n",
    "    latex_print(f, \"Passes host galaxy redshift and color requirements    & %d \\\\\\\\\"% np.sum(a.good_salt_mask & a.interp_mask))\n",
    "    latex_print(f, \"Has a valid interpolation to maximum light            & %d \\\\\\\\\"% np.sum(a.good_salt_mask & a.interp_mask))\n",
    "    latex_print(f, \"Blinded training subsample                            & %d \\\\\\\\\"% np.sum(a.good_salt_mask & a.good_mag_mask))\n",
    "    # latex_print(f, \"Validation subsample                                  & %d \\\\\\\\\"% np.sum(a.good_salt_mask & a.good_mag_mask))\n",
    "    latex_print(f, \"Validation subsample                                  & TODO \\\\\\\\\")"
   ]
  },
  {
   "cell_type": "code",
   "execution_count": null,
   "metadata": {},
   "outputs": [],
   "source": [
    "with open('./latex/attrition.tex', 'w') as f:\n",
    "    latex_print(f, \"\\\\textbf{General selection requirements} & \\\\\\\\\")\n",
    "    latex_print(f, \"Initial sample                                        & %d \\\\\\\\\" % len(a.dataset.targets))\n",
    "    latex_print(f, \"More than 5 spectra                                   & %d \\\\\\\\\" % a.attrition_enough_spectra)\n",
    "    latex_print(f, \"SALT2 date of maximum light uncertainty < 1 day       & %d \\\\\\\\\" % a.attrition_salt_daymax)\n",
    "    latex_print(f, \"At least one spectrum within 5 days of maximum light  & %d \\\\\\\\\" % a.attrition_range)\n",
    "    latex_print(f, \"At least one spectrum with S/N 3300-3800~\\AA\\ > 100   & %d \\\\\\\\\" % a.attrition_usable)\n",
    "    latex_print(f, \"\\hline\")\n",
    "    latex_print(f, \"\\\\textbf{Estimation of the spectra at maximum light} & \\\\\\\\\")\n",
    "    latex_print(f, r\"\\textbf{(Section~\\ref{sec:int_disp_uncertainty})} & \\\\\")\n",
    "    latex_print(f, \"Spectrum uncertainty < 10\\\\%% of intrinsic power        & %d \\\\\\\\\" % np.sum(a.interp_mask))\n",
    "    latex_print(f, \"\\hline\")\n",
    "    latex_print(f, \"\\\\textbf{Valid supernova brightness requirements} & \\\\\\\\\")\n",
    "    latex_print(f, r\"\\textbf{(Section~\\ref{sec:magnitude_requirements})} & \\\\\")\n",
    "    latex_print(f, \"Host galaxy redshift available                        & %d \\\\\\\\\" % np.sum(a.interp_mask & (a.redshift_errs < 0.004)))\n",
    "    latex_print(f, \"Host galaxy redshift above 0.02                       & %d \\\\\\\\\" % np.sum(a.interp_mask & (a.redshift_errs < 0.004) & (a.redshifts > 0.02)))\n",
    "    latex_print(f, \"Measured $A_V$ < 0.5 mag                              & %d \\\\\\\\\" % np.sum(a.interp_mask & a.redshift_color_mask))\n",
    "    latex_print(f, \"Blinded training subsample                            & %d \\\\\\\\\" % np.sum(a.good_mag_mask))\n",
    "    latex_print(f, \"\\hline\")\n",
    "    latex_print(f, \"\\\\textbf{Comparisons to SALT2 fits} & \\\\\\\\\")\n",
    "    latex_print(f, r\"\\textbf{(Section~\\ref{sec:salt2_standardization})} & \\\\\")\n",
    "    latex_print(f, \"SNfactory SALT2 selection requirements                & %d \\\\\\\\\"% np.sum(a.salt_mask))\n",
    "    latex_print(f, \"Passes host galaxy redshift and color requirements    & %d \\\\\\\\\"% np.sum(a.good_salt_mask))\n",
    "    latex_print(f, \"Has a valid interpolation to maximum light            & %d \\\\\\\\\"% np.sum(a.good_salt_mask & a.interp_mask))\n",
    "    latex_print(f, \"Blinded training subsample                            & %d \\\\\\\\\"% np.sum(a.good_salt_mask & a.good_mag_mask))"
   ]
  },
  {
   "cell_type": "markdown",
   "metadata": {},
   "source": [
    "## General variables"
   ]
  },
  {
   "cell_type": "code",
   "execution_count": null,
   "metadata": {},
   "outputs": [],
   "source": [
    "# Define a bunch of functions to make things easier.\n",
    "def latex_host_step(file, name, var, mags, mask):\n",
    "    step, step_err = analyze_host_variable(var, mags, mask, plot=False)\n",
    "    latex_command(file, name, '%.3f $\\\\pm$ %.3f', (np.abs(step), step_err))\n",
    "\n",
    "a.fit_gp(kind='salt_raw', verbose=False)\n",
    "salt_isomap_mags = a.corr_mags.copy()\n",
    "\n",
    "a.fit_gp(verbose=False)\n",
    "rbtl_isomap_mags = a.corr_mags.copy()\n",
    "\n",
    "with open('latex/commands.tex', 'w') as f:\n",
    "    latex_print(f, \"\")\n",
    "    latex_command(f, 'numdatasetsne', '%d', len(a.dataset.targets))\n",
    "    latex_command(f, 'numdatasetspectra', '%d', np.sum([len(i.spectra) for i in a.dataset.targets]))\n",
    "    latex_print(f, \"\")\n",
    "    latex_command(f, 'nummanifoldsne', '%d', len(a.targets))\n",
    "    latex_command(f, 'nummanifoldspectra', '%d', len(a.spectra))\n",
    "    latex_command(f, 'numinterpsne', '%d', np.sum(a.interp_mask))\n",
    "    latex_print(f, \"\")\n",
    "    latex_command(f, 'numsnftrain', '%d', np.sum([i.subset == 'training' for i in a.targets[a.interp_mask]]))\n",
    "    latex_command(f, 'numsnfvalid', '%d', np.sum([i.subset == 'validation' for i in a.targets[a.interp_mask]]))\n",
    "    latex_command(f, 'numsnfother', '%d', np.sum([i.subset not in ['training', 'validation'] for i in a.targets[a.interp_mask]]))\n",
    "    latex_print(f, \"\")\n",
    "    latex_command(f, 'numsnredshift', '%d', np.sum(a.interp_mask & (a.redshift_errs >= 0.004)))\n",
    "    latex_command(f, 'numlowredshift', '%d', np.sum(a.interp_mask & (a.redshifts <= 0.02)))\n",
    "    latex_command(f, 'numhighav', '%d', np.sum(a.interp_mask & (a.colors - np.nanmedian(a.colors) >= 0.5)))\n",
    "    latex_print(f, \"\")\n",
    "    latex_command(f, 'nummagsne', '%d', np.sum(a.interp_mask & a.redshift_color_mask))\n",
    "    latex_command(f, 'nummagsnetrain', '%d', np.sum(a.good_mag_mask))\n",
    "    latex_command(f, 'nummagsnevalidation', '%d', np.sum(a.interp_mask & a.redshift_color_mask & ~a.good_mag_mask))\n",
    "    latex_print(f, \"\")\n",
    "    latex_command(f, 'saltparammb', '%.2f', a.salt_MB)\n",
    "    latex_command(f, 'saltparamalpha', '%.3f', a.salt_alpha)\n",
    "    latex_command(f, 'saltparambeta', '%.2f', a.salt_beta)\n",
    "    latex_command(f, 'saltparamsigmaint', '%.3f', a.salt_intrinsic_dispersion)\n",
    "    # latex_command(f, 'saltparamrms', '%.3f', np.std(a.salt_hr[a.good_salt_mask]))\n",
    "    latex_std(f, 'saltparamrms', a.salt_hr[a.good_salt_mask])\n",
    "    latex_nmad(f, 'saltparamnmad', a.salt_hr[a.good_salt_mask])\n",
    "    latex_command(f, 'saltparamwrms', '%.3f', a.salt_wrms)\n",
    "    latex_command(f, 'saltparammindisp', '%.2f', np.min(a.salt_hr_uncertainties[a.good_salt_mask]))\n",
    "    latex_command(f, 'saltparammaxdisp', '%.2f', np.max(a.salt_hr_uncertainties[a.good_salt_mask]))\n",
    "    latex_print(f, \"\")\n",
    "    latex_std(f, 'rawrbtlmagstd', a.mags[a.good_mag_mask])\n",
    "    latex_nmad(f, 'rawrbtlmagnmad', a.mags[a.good_mag_mask])\n",
    "    # latex_print(f, \"\")\n",
    "    # latex_command(f, 'twinrbtlmagstd', '%.3f', a.twins_rms)\n",
    "    # latex_command(f, 'twinrbtlmagnmad', '%.3f', a.twins_nmad)\n",
    "    latex_print(f, \"\")\n",
    "    latex_std(f, 'saltcomprawrbtlmagstd', a.mags[a.good_mag_mask & a.good_salt_mask])\n",
    "    latex_std(f, 'saltcompsaltmagstd', a.salt_hr[a.good_mag_mask & a.good_salt_mask])\n",
    "\n",
    "    a.fit_gp(verbose=False, kind='salt_raw')\n",
    "    gp_uncertainties = np.sqrt(np.diag(a.gp_hyperparameter_covariance))\n",
    "    latex_print(f, \"\")\n",
    "    latex_command(f, 'saltgpcolor', '%.2f $\\\\pm$ %.2f', (a.gp_hyperparameters[0], gp_uncertainties[0]))\n",
    "    latex_command(f, 'saltgpintdisp', '%.3f $\\\\pm$ %.3f', (a.gp_hyperparameters[1], gp_uncertainties[1]))\n",
    "    latex_command(f, 'saltgpkernelamp', '%.3f $\\\\pm$ %.3f', (np.abs(a.gp_hyperparameters[2]), gp_uncertainties[2]))\n",
    "    latex_command(f, 'saltgpkernellengthscale', '%.2f $\\\\pm$ %.2f', (a.gp_hyperparameters[3], gp_uncertainties[3]))\n",
    "    latex_std(f, 'saltgprms', a.corr_mags[a.good_salt_mask & a.interp_mask])\n",
    "    latex_std(f, 'saltgpcompsaltrms', a.salt_hr[a.good_salt_mask & a.interp_mask])\n",
    "\n",
    "    a.fit_gp(verbose=False)\n",
    "    gp_uncertainties = np.sqrt(np.diag(a.gp_hyperparameter_covariance))\n",
    "    latex_print(f, \"\")\n",
    "    latex_command(f, 'rbtlgpcolor', '%.2f $\\\\pm$ %.2f', (a.fiducial_rv * (1 + a.gp_hyperparameters[0]), a.fiducial_rv * gp_uncertainties[0]))\n",
    "    latex_command(f, 'rbtlgpintdisp', '%.3f $\\\\pm$ %.3f', (a.gp_hyperparameters[1], gp_uncertainties[1]))\n",
    "    latex_command(f, 'rbtlgpkernelamp', '%.3f $\\\\pm$ %.3f', (np.abs(a.gp_hyperparameters[2]), gp_uncertainties[2]))\n",
    "    latex_command(f, 'rbtlgpkernellengthscale', '%.2f $\\\\pm$ %.2f', (a.gp_hyperparameters[3], gp_uncertainties[3]))\n",
    "\n",
    "    latex_print(f, \"\")\n",
    "    latex_std(f, 'rbtlgprms', a.corr_mags[a.good_mag_mask])\n",
    "    latex_command(f, 'rbtlgpnmad', '%.3f', math.nmad(a.corr_mags[a.good_mag_mask]))\n",
    "\n",
    "    latex_print(f, \"\")\n",
    "    x1 = a.salt_hr[(a.embedding[:, 0] < 3) & a.good_salt_mask & a.interp_mask]\n",
    "    x2 = a.salt_hr[(a.embedding[:, 0] > 3) & a.good_salt_mask & a.interp_mask]\n",
    "    m1 = np.mean(x1)\n",
    "    m2 = np.mean(x2)\n",
    "    err1 = np.std(x1) / np.sqrt(len(x1))\n",
    "    err2 = np.std(x2) / np.sqrt(len(x2))\n",
    "    latex_command(f, 'saltisomapdiff', '%.3f $\\\\pm$ %.3f', (np.abs(m1-m2), np.sqrt(err1**2 + err2**2)))\n",
    "\n",
    "    latex_print(f, \"\")\n",
    "    latex_command(f, 'pecvelcontribution', '%.3f', np.sqrt(np.mean(a.get_peculiar_velocity_uncertainty()[a.good_mag_mask & a.good_salt_mask]**2)))\n",
    "\n",
    "    latex_print(f, \"\")\n",
    "    latex_host_step(f, 'lssfrsaltxifull', 'lssfr', a.salt_hr, a.good_salt_mask)\n",
    "    latex_host_step(f, 'gmasssaltxifull', 'gmass', a.salt_hr, a.good_salt_mask)\n",
    "    latex_host_step(f, 'lssfrsaltxicut', 'lssfr', a.salt_hr, a.good_salt_mask & a.good_mag_mask)\n",
    "    latex_host_step(f, 'gmasssaltxicut', 'gmass', a.salt_hr, a.good_salt_mask & a.good_mag_mask)\n",
    "    latex_host_step(f, 'lssfrsaltisomapcut', 'lssfr', salt_isomap_mags, a.good_salt_mask & a.good_mag_mask)\n",
    "    latex_host_step(f, 'gmasssaltisomapcut', 'gmass', salt_isomap_mags, a.good_salt_mask & a.good_mag_mask)\n",
    "    latex_host_step(f, 'lssfrrbtlisomapcut', 'lssfr', a.corr_mags, a.good_salt_mask & a.good_mag_mask)\n",
    "    latex_host_step(f, 'gmassrbtlisomapcut', 'gmass', a.corr_mags, a.good_salt_mask & a.good_mag_mask)\n",
    "    latex_command(f, 'hostcutsnsnetrain', '%d', np.sum(a.good_mag_mask & a.good_salt_mask & a.host_mask))\n",
    "    latex_command(f, 'hostcutsnsnefull', '%d', np.sum(a.redshift_color_mask & a.interp_mask & a.good_salt_mask & a.host_mask))"
   ]
  },
  {
   "cell_type": "markdown",
   "metadata": {},
   "source": [
    "## Standardization comparison"
   ]
  },
  {
   "cell_type": "code",
   "execution_count": 20,
   "metadata": {},
   "outputs": [
    {
     "name": "stdout",
     "output_type": "stream",
     "text": [
      "Fitting GP hyperparameters...\n",
      "    Fit result:           Optimization terminated successfully.\n",
      "    Color scale:          -0.127 ± 0.051\n",
      "    Intrinsic dispersion: 0.064 ± 0.009 mag\n",
      "    GP kernel amplitude:  0.177 ± 0.089 mag\n",
      "    GP length scale:      5.553 ± 3.271\n",
      "    Fit NMAD:             0.081 mag\n",
      "    Fit std:              0.100 mag\n",
      "Fitting GP hyperparameters...\n",
      "    Fit result:           Desired error not necessarily achieved due to precision loss.\n",
      "    Color scale:          2.799 ± 0.151\n",
      "    Intrinsic dispersion: -0.087 ± 0.009 mag\n",
      "    GP kernel amplitude:  0.424 ± 0.250 mag\n",
      "    GP length scale:      9.365 ± 5.524\n",
      "    Fit NMAD:             0.103 mag\n",
      "    Fit std:              0.117 mag\n",
      "    Maximum spectrum &   134 &                 NMAD &   0.108 $\\pm$  0.013 &  0.081 $\\pm$  0.011 &                  -- &                  -- \\\\\n",
      "     + training cuts &       &   Standard deviation &   0.130 $\\pm$  0.010 &  0.100 $\\pm$  0.008 &                  -- &                  -- \\\\\n",
      "                     &       &    Pec. vel. removed &   0.113 $\\pm$  0.012 &  0.076 $\\pm$  0.010 &                  -- &                  -- \\\\\n",
      "\\hline\n",
      "      SALT2 fit cuts &   151 &                 NMAD &                   -- &                  -- &  0.110 $\\pm$  0.014 &                  -- \\\\\n",
      "                     &       &   Standard deviation &                   -- &                  -- &  0.156 $\\pm$  0.012 &                  -- \\\\\n",
      "                     &       &    Pec. vel. removed &                   -- &                  -- &  0.143 $\\pm$  0.013 &                  -- \\\\\n",
      "\\hline\n",
      "    Maximum spectrum &   127 &                 NMAD &   0.110 $\\pm$  0.012 &  0.081 $\\pm$  0.012 &  0.100 $\\pm$  0.013 &  0.103 $\\pm$  0.013 \\\\\n",
      "    + SALT2 fit cuts &       &   Standard deviation &   0.131 $\\pm$  0.011 &  0.100 $\\pm$  0.008 &  0.140 $\\pm$  0.013 &  0.117 $\\pm$  0.008 \\\\\n",
      "                     &       &    Pec. vel. removed &   0.114 $\\pm$  0.012 &  0.076 $\\pm$  0.010 &  0.125 $\\pm$  0.014 &  0.098 $\\pm$  0.009 \\\\\n",
      "\\hline\n",
      "            All cuts &   127 &                 NMAD &   0.110 $\\pm$  0.012 &  0.081 $\\pm$  0.012 &  0.100 $\\pm$  0.013 &  0.103 $\\pm$  0.013 \\\\\n",
      "                     &       &   Standard deviation &   0.131 $\\pm$  0.011 &  0.100 $\\pm$  0.008 &  0.140 $\\pm$  0.013 &  0.117 $\\pm$  0.008 \\\\\n",
      "                     &       &    Pec. vel. removed &   0.114 $\\pm$  0.012 &  0.076 $\\pm$  0.010 &  0.125 $\\pm$  0.015 &  0.098 $\\pm$  0.009 \\\\\n"
     ]
    }
   ],
   "source": [
    "def int_disp(vals, pec_vel_disps, axis=None):\n",
    "    std = np.std(vals, ddof=1, axis=axis)\n",
    "    corr = np.mean(pec_vel_disps**2, axis=axis)\n",
    "    corr_std = np.sqrt(np.clip(std**2 - corr, 0, None))\n",
    "\n",
    "    return corr_std\n",
    "\n",
    "def get_stat_str(all_mags, cut, function, *args):\n",
    "    line_str = \"\"\n",
    "    for mags in all_mags:\n",
    "        if line_str:\n",
    "            line_str += \" &\"\n",
    "            \n",
    "        use_mags = mags[cut]\n",
    "        if np.any(np.isnan(use_mags)):\n",
    "            line_str += \"%20s\" % \"--\"\n",
    "        else:\n",
    "            res, res_err = math.bootstrap_statistic(function, use_mags, *args)\n",
    "            line_str += \"%7.3f $\\pm$ %6.3f\" % (res, res_err)\n",
    "    \n",
    "    line_str += \" \\\\\\\\\"\n",
    "    \n",
    "    return line_str\n",
    "\n",
    "def make_table(f, all_mags, cut, label):\n",
    "    stats = {\n",
    "        'NMAD': (math.nmad,),\n",
    "        'Standard deviation': (np.std,),\n",
    "        'Pec. vel. removed': (int_disp, a.get_peculiar_velocity_uncertainty()[cut]),\n",
    "    }\n",
    "    for i, (stat_name, stat_args) in enumerate(stats.items()):\n",
    "        if len(label) > i:\n",
    "            prefix = label[i]\n",
    "        else:\n",
    "            prefix = \"\"\n",
    "            \n",
    "        if i == 0:\n",
    "            num_sne = \"%d\" % np.sum(cut)\n",
    "        else:\n",
    "            num_sne = \"\"\n",
    "            \n",
    "        stat_str = get_stat_str(all_mags, cut, *stat_args)\n",
    "        utils.latex_print(f, \"%20s & %5s & %20s & %s\" % (prefix, num_sne, stat_name, stat_str))\n",
    "        \n",
    "good_mag_mask = a.uncertainty_mask & a.redshift_color_mask\n",
    "good_salt_mask = a.redshift_color_mask & a.salt_mask\n",
    "good_salt_isomap_mask = a.uncertainty_mask & a.redshift_color_mask & a.salt_mask\n",
    "\n",
    "# RBTL only\n",
    "rbtl_mags = a.rbtl_mags.copy()\n",
    "rbtl_mags[~good_mag_mask] = np.nan\n",
    "        \n",
    "# RBTL + Isomap\n",
    "a.fit_gp()\n",
    "rbtl_isomap_mags = a.corr_mags.copy()\n",
    "rbtl_isomap_mags[~good_mag_mask] = np.nan\n",
    "\n",
    "# SALT2\n",
    "salt_mags = a.salt_hr.copy()\n",
    "salt_mags[~good_salt_mask] = np.nan\n",
    "\n",
    "# SALT2 + Isomap\n",
    "a.fit_gp(kind='salt_raw')\n",
    "salt_isomap_mags = a.corr_mags.copy()\n",
    "salt_isomap_mags[~good_salt_isomap_mask] = np.nan\n",
    "\n",
    "all_mags = [rbtl_mags, rbtl_isomap_mags, salt_mags, salt_isomap_mags]\n",
    "\n",
    "with open('./latex/dispersions.tex', 'w') as f:\n",
    "    # RBTL only\n",
    "    make_table(f, all_mags, good_mag_mask, ['Maximum spectrum', '+ training cuts'])\n",
    "    utils.latex_print(f, \"\\hline\")\n",
    "\n",
    "    # SALT2 only\n",
    "    make_table(f, all_mags, good_salt_mask, ['SALT2 fit cuts'])\n",
    "    utils.latex_print(f, \"\\hline\")\n",
    "\n",
    "    # SALT2 + Isomap\n",
    "    make_table(f, all_mags, good_salt_isomap_mask, ['Maximum spectrum', '+ SALT2 fit cuts'])\n",
    "    utils.latex_print(f, \"\\hline\")\n",
    "\n",
    "    # All\n",
    "    make_table(f, all_mags, good_salt_isomap_mask, ['All cuts'])"
   ]
  },
  {
   "cell_type": "code",
   "execution_count": 22,
   "metadata": {},
   "outputs": [
    {
     "name": "stdout",
     "output_type": "stream",
     "text": [
      "Fitting GP hyperparameters...\n",
      "    Fit result:           Optimization terminated successfully.\n",
      "    Color scale:          -0.127 ± 0.051\n",
      "    Intrinsic dispersion: 0.064 ± 0.009 mag\n",
      "    GP kernel amplitude:  0.177 ± 0.089 mag\n",
      "    GP length scale:      5.553 ± 3.271\n",
      "    Fit NMAD:             0.081 mag\n",
      "    Fit std:              0.100 mag\n"
     ]
    }
   ],
   "source": [
    "a.fit_gp()"
   ]
  },
  {
   "cell_type": "code",
   "execution_count": 26,
   "metadata": {},
   "outputs": [
    {
     "data": {
      "text/plain": [
       "0.09975133114394495"
      ]
     },
     "execution_count": 26,
     "metadata": {},
     "output_type": "execute_result"
    }
   ],
   "source": [
    "np.std(a.corr_mags[a.uncertainty_mask & a.redshift_color_mask & a.salt_mask])"
   ]
  },
  {
   "cell_type": "markdown",
   "metadata": {},
   "source": [
    "# Dump parameters"
   ]
  },
  {
   "cell_type": "code",
   "execution_count": null,
   "metadata": {},
   "outputs": [],
   "source": [
    "import pandas as pd"
   ]
  },
  {
   "cell_type": "code",
   "execution_count": null,
   "metadata": {},
   "outputs": [],
   "source": [
    "pd.DataFrame({\n",
    "    'name': [i.name for i in a.targets],\n",
    "    't1': a.embedding[:, 0],\n",
    "    't2': a.embedding[:, 1],\n",
    "    't3': a.embedding[:, 2],\n",
    "    # 'salt_x1': a.salt_x1,\n",
    "    # 'salt_mag': a.salt_hr,\n",
    "}).to_csv('./manifold_parameters.csv')"
   ]
  },
  {
   "cell_type": "code",
   "execution_count": null,
   "metadata": {},
   "outputs": [],
   "source": []
  },
  {
   "cell_type": "code",
   "execution_count": null,
   "metadata": {},
   "outputs": [],
   "source": []
  },
  {
   "cell_type": "markdown",
   "metadata": {},
   "source": [
    "# Plots for people after Dec. 12 VC"
   ]
  },
  {
   "cell_type": "markdown",
   "metadata": {},
   "source": [
    "## SN2006X comparison"
   ]
  },
  {
   "cell_type": "code",
   "execution_count": null,
   "metadata": {},
   "outputs": [],
   "source": [
    "# Note: SN2006X fails the interpolation cut, so first have to add it back in.\n",
    "mask = np.array([i.name == 'SN2006X' for i in a.targets])\n",
    "a.interp_mask[mask] = True\n",
    "a.do_embedding()"
   ]
  },
  {
   "cell_type": "code",
   "execution_count": null,
   "metadata": {},
   "outputs": [],
   "source": [
    "plt.figure()\n",
    "plt.scatter(-a.embedding[:, 0], a.embedding[:, 1])\n",
    "\n",
    "plt.scatter(-a.embedding[mask, 0], a.embedding[mask, 1], label='SN2006X')\n",
    "plt.legend()\n",
    "plt.xlabel('Isomap Component 1')\n",
    "plt.ylabel('Isomap Component 2')"
   ]
  },
  {
   "cell_type": "code",
   "execution_count": null,
   "metadata": {},
   "outputs": [],
   "source": [
    "plt.figure()\n",
    "m2 = a.embedding[:, 0] > 4\n",
    "plt.plot(a.wave, a.scale_flux[mask].T * spectrum_plot_scale[:, None], c='C1', label='SN2006X')\n",
    "plt.plot(a.wave, a.scale_flux[m2].T * spectrum_plot_scale[:, None], c='C0', label='Nearby SNe Ia')\n",
    "plt.plot(a.wave, a.scale_flux[mask].T * spectrum_plot_scale[:, None], c='C1', label='SN2006X')\n",
    "plt.xlabel('Wavelength ($\\AA$)')\n",
    "plt.ylabel(spectrum_plot_ylabel)\n",
    "plt.legend(['SN2006X', 'Nearby SNe Ia'])\n",
    "plt.tight_layout()"
   ]
  },
  {
   "cell_type": "code",
   "execution_count": null,
   "metadata": {},
   "outputs": [],
   "source": [
    "a.interp_mask[mask] = False\n",
    "a.do_embedding()"
   ]
  },
  {
   "cell_type": "code",
   "execution_count": null,
   "metadata": {},
   "outputs": [],
   "source": [
    "plt.figure()\n",
    "plt.scatter(a.embedding[:, 0], a.embedding[:, 1])"
   ]
  },
  {
   "cell_type": "markdown",
   "metadata": {},
   "source": [
    "## Interpolations for unusual SNe"
   ]
  },
  {
   "cell_type": "code",
   "execution_count": null,
   "metadata": {},
   "outputs": [],
   "source": [
    "spec_counts = np.array([np.sum(a.target_map == i) for i in range(len(a.targets))])\n",
    "\n",
    "found = np.where((a.embedding[:, 1] > 4) & (spec_counts >= 3))[0]\n",
    "print(found)\n",
    "a.targets[found]"
   ]
  },
  {
   "cell_type": "code",
   "execution_count": null,
   "metadata": {},
   "outputs": [],
   "source": [
    "import matplotlib.backends.backend_pdf\n",
    "\n",
    "pdf = matplotlib.backends.backend_pdf.PdfPages(\"unusual_sne_interpolations.pdf\")\n",
    "\n",
    "plot_targets = ['PTF11mkx', 'SNF20071021-000', 'PTF11kjn']\n",
    "\n",
    "for plot_target in plot_targets:\n",
    "    target_names = np.array([i.name for i in a.targets])\n",
    "    plot_idx = np.where(target_names == plot_target)[0][0]\n",
    "\n",
    "    fig1, fig2, fig3 = plot_same_night(plot_idx, figsize=(8, 5))\n",
    "    \n",
    "    # pdf.savefig(fig1)\n",
    "    fig2.gca().set_title(f'{plot_target} - Model')\n",
    "    pdf.savefig(fig2)\n",
    "    fig3.gca().set_title(f'{plot_target} - Residuals')\n",
    "    pdf.savefig(fig3)\n",
    "    \n",
    "pdf.close()"
   ]
  },
  {
   "cell_type": "markdown",
   "metadata": {},
   "source": [
    "## Intrinsic dispersion"
   ]
  },
  {
   "cell_type": "code",
   "execution_count": null,
   "metadata": {},
   "outputs": [],
   "source": [
    "# Ran with only wavelengths bluer than 6000 AA and saved the results to this file.\n",
    "# np.savetxt('./test_blue_6000_intrinsic_dispersion.txt',\n",
    "           #np.vstack([a.wave, frac_to_mag(a.rbtl_result['fractional_dispersion'])]))"
   ]
  },
  {
   "cell_type": "code",
   "execution_count": null,
   "metadata": {},
   "outputs": [],
   "source": [
    "wave, int_disp = np.genfromtxt('./test_blue_6000_intrinsic_dispersion.txt')"
   ]
  },
  {
   "cell_type": "code",
   "execution_count": null,
   "metadata": {},
   "outputs": [],
   "source": [
    "plt.figure(figsize=(8, 5))\n",
    "\n",
    "intrinsic_dispersion = frac_to_mag(a.rbtl_result['fractional_dispersion'])\n",
    "\n",
    "plt.plot(a.wave, intrinsic_dispersion, label='Full fit')\n",
    "plt.plot(wave, int_disp, label='Fit to $\\lambda$<6000$\\AA$ only')\n",
    "\n",
    "plt.legend()\n",
    "plt.xlabel('Wavelength ($\\AA$)')\n",
    "plt.ylabel('Intrinsic dispersion (mag)')\n",
    "plt.ylim(0, None)\n",
    "plt.tight_layout()\n",
    "plt.savefig('./figures/rbtl_intrinsic_dispersion.pdf')"
   ]
  },
  {
   "cell_type": "markdown",
   "metadata": {},
   "source": [
    "## K-folding the embedding"
   ]
  },
  {
   "cell_type": "code",
   "execution_count": null,
   "metadata": {},
   "outputs": [],
   "source": [
    "orig_interp_mask = a.interp_mask.copy()"
   ]
  },
  {
   "cell_type": "code",
   "execution_count": null,
   "metadata": {},
   "outputs": [],
   "source": [
    "import matplotlib.backends.backend_pdf\n",
    "\n",
    "mpl.rcParams['figure.figsize'] = (6., 5.)\n",
    "\n",
    "pdf = matplotlib.backends.backend_pdf.PdfPages(\"k_fold_manifold.pdf\")\n",
    "\n",
    "folds = np.random.randint(0, 5, size=len(a.interp_mask))\n",
    "\n",
    "for i in range(5):\n",
    "    a.interp_mask = orig_interp_mask & (folds != i)\n",
    "    a.do_embedding()\n",
    "    a.do_component_blondin_plot()\n",
    "    pdf.savefig(plt.gcf())\n",
    "pdf.close()\n",
    "\n",
    "a.interp_mask = orig_interp_mask\n",
    "a.do_embedding()"
   ]
  },
  {
   "cell_type": "markdown",
   "metadata": {},
   "source": [
    "## Test of the size of the phase differences vs the components"
   ]
  },
  {
   "cell_type": "code",
   "execution_count": null,
   "metadata": {},
   "outputs": [],
   "source": [
    "phase_diff = evaluate_phase_difference(2.5) - evaluate_phase_difference(-2.5)"
   ]
  },
  {
   "cell_type": "code",
   "execution_count": null,
   "metadata": {},
   "outputs": [],
   "source": [
    "t1_max = np.median(a.scale_flux[a.embedding[:, 0] > np.nanpercentile(a.embedding[:, 0], 90)], axis=0)\n",
    "t1_min = np.median(a.scale_flux[a.embedding[:, 0] > np.nanpercentile(a.embedding[:, 0], 10)], axis=0)\n",
    "t2_max = np.median(a.scale_flux[a.embedding[:, 1] > np.nanpercentile(a.embedding[:, 1], 90)], axis=0)\n",
    "t2_min = np.median(a.scale_flux[a.embedding[:, 1] > np.nanpercentile(a.embedding[:, 1], 10)], axis=0)\n",
    "t3_max = np.median(a.scale_flux[a.embedding[:, 2] > np.nanpercentile(a.embedding[:, 2], 90)], axis=0)\n",
    "t3_min = np.median(a.scale_flux[a.embedding[:, 2] > np.nanpercentile(a.embedding[:, 2], 10)], axis=0)\n",
    "\n",
    "t1_diff = -2.5*np.log10(t1_max / t1_min)\n",
    "t2_diff = -2.5*np.log10(t2_max / t2_min)\n",
    "t3_diff = -2.5*np.log10(t3_max / t3_min)"
   ]
  },
  {
   "cell_type": "code",
   "execution_count": null,
   "metadata": {},
   "outputs": [],
   "source": [
    "print(np.sum(phase_diff**2))\n",
    "print(np.sum(t1_diff**2))\n",
    "print(np.sum(t2_diff**2))\n",
    "print(np.sum(t3_diff**2))"
   ]
  },
  {
   "cell_type": "code",
   "execution_count": null,
   "metadata": {},
   "outputs": [],
   "source": [
    "plt.figure()\n",
    "plt.plot(a.wave, t1_diff)\n",
    "plt.plot(a.wave, t2_diff)\n",
    "plt.plot(a.wave, t3_diff)\n",
    "plt.plot(a.wave, phase_diff)"
   ]
  },
  {
   "cell_type": "code",
   "execution_count": null,
   "metadata": {},
   "outputs": [],
   "source": [
    "a.interpolation_result['phase_slope']"
   ]
  },
  {
   "cell_type": "code",
   "execution_count": null,
   "metadata": {},
   "outputs": [],
   "source": [
    "med_phase = a.interpolation_result"
   ]
  },
  {
   "cell_type": "markdown",
   "metadata": {},
   "source": [
    "## SNe Ia missing host galaxy properties"
   ]
  },
  {
   "cell_type": "code",
   "execution_count": null,
   "metadata": {},
   "outputs": [],
   "source": [
    "[i for i in a.targets[0].meta.keys() if 'salt2' not in i]"
   ]
  },
  {
   "cell_type": "code",
   "execution_count": null,
   "metadata": {},
   "outputs": [],
   "source": [
    "a.host_data['name'][-30:]"
   ]
  },
  {
   "cell_type": "code",
   "execution_count": null,
   "metadata": {},
   "outputs": [],
   "source": [
    "np.sum(a.host_mask)"
   ]
  },
  {
   "cell_type": "code",
   "execution_count": null,
   "metadata": {},
   "outputs": [],
   "source": [
    "len(a.host_mask)"
   ]
  },
  {
   "cell_type": "code",
   "execution_count": null,
   "metadata": {},
   "outputs": [],
   "source": [
    "mm = a.interp_mask & a.redshift_color_mask"
   ]
  },
  {
   "cell_type": "code",
   "execution_count": null,
   "metadata": {},
   "outputs": [],
   "source": [
    "a.redshifts[np.array([i.name == 'SN2005ki' for i in a.targets])]"
   ]
  },
  {
   "cell_type": "code",
   "execution_count": null,
   "metadata": {},
   "outputs": [],
   "source": [
    "for i in a.targets[mm & ~a.good_mag_mask & ~a.host_mask]:\n",
    "    print(i.name)"
   ]
  },
  {
   "cell_type": "code",
   "execution_count": null,
   "metadata": {},
   "outputs": [],
   "source": [
    "plt.figure()\n",
    "plt.scatter(a.redshifts, a.mags, c=a.good_mag_mask & ~a.host_mask)"
   ]
  },
  {
   "cell_type": "markdown",
   "metadata": {},
   "source": [
    "## SNfactory timeseries example"
   ]
  },
  {
   "cell_type": "code",
   "execution_count": null,
   "metadata": {},
   "outputs": [],
   "source": [
    "plt.figure(figsize=(6, 7))\n",
    "a.targets[101].plot(f_nu=True, offset_factor=0.4)"
   ]
  },
  {
   "cell_type": "markdown",
   "metadata": {},
   "source": [
    "## Stretch example"
   ]
  },
  {
   "cell_type": "code",
   "execution_count": null,
   "metadata": {},
   "outputs": [],
   "source": [
    "salt_model = sncosmo.Model(source='salt2')\n",
    "\n",
    "salt_model.set(z=0.001)\n",
    "salt_model.set(t0=0)\n",
    "salt_model.set(x0=1.7e4)\n",
    "salt_model.set_source_peakmag(0, 'snfb', 'ab')\n",
    "\n",
    "times = np.linspace(-15, 30, 100)\n",
    "\n",
    "plt.figure(figsize=(4, 3))\n",
    "\n",
    "for x1 in np.arange(-2, 2, 0.5):\n",
    "    salt_model.set(x1=x1)\n",
    "    mag = salt_model.bandmag('snfb', 'ab', times) - 0.05 * x1\n",
    "    plt.plot(times, mag, c=plt.cm.coolwarm(x1 / 4 + 0.5))\n",
    "    \n",
    "plt.ylim(3, -0.5)\n",
    "plt.ylabel('Relative brightness (mag)')\n",
    "plt.xlabel('Phase (days)')\n",
    "plt.tight_layout()"
   ]
  },
  {
   "cell_type": "code",
   "execution_count": null,
   "metadata": {},
   "outputs": [],
   "source": [
    "salt_model = sncosmo.Model(source='salt2')\n",
    "\n",
    "salt_model.set(z=0.001)\n",
    "salt_model.set(t0=0)\n",
    "salt_model.set(x0=1.7e4)\n",
    "salt_model.set_source_peakmag(0, 'snfb', 'ab')\n",
    "\n",
    "times = np.linspace(-15, 30, 100)\n",
    "\n",
    "plt.figure(figsize=(4, 3))\n",
    "\n",
    "for c in np.arange(0, 0.3, 0.04):\n",
    "    salt_model.set(c=c)\n",
    "    flux = salt_model.flux(0, a.wave)\n",
    "    # mag = salt_model.bandmag('snfb', 'ab', times) - 0.05 * x1\n",
    "    # plt.plot(times, mag, c=plt.cm.coolwarm(x1 / 4 + 0.5))\n",
    "    plt.plot(a.wave, flux*1e9 * 10**(0.4 * 3.1 * c), c=plt.cm.coolwarm_r(c / 0.3))\n",
    "    \n",
    "# plt.ylim(3, -0.5)\n",
    "plt.ylabel('Flux')\n",
    "plt.xlabel('Wavelength ($\\AA$)')\n",
    "plt.tight_layout()"
   ]
  },
  {
   "cell_type": "code",
   "execution_count": null,
   "metadata": {},
   "outputs": [],
   "source": [
    "salt_model = sncosmo.Model(source='salt2')\n",
    "\n",
    "salt_model.set(z=0.001)\n",
    "salt_model.set(t0=0)\n",
    "salt_model.set(x0=1e14)\n",
    "# salt_model.set_source_peakmag(0, 'snfb', 'ab')\n",
    "\n",
    "times = np.linspace(-15, 30, 100)\n",
    "\n",
    "wave = a.wave\n",
    "\n",
    "ref_spec = salt_model.flux(0, wave)\n",
    "salt_model.set(x1=1)\n",
    "x1_spec = salt_model.flux(0, wave) - ref_spec\n",
    "\n",
    "plt.figure(figsize=(4, 3))\n",
    "plt.plot(a.wave, ref_spec * spectrum_plot_scale)\n",
    "plt.xlabel('Wavelength ($\\AA$)')\n",
    "plt.ylabel('Flux')\n",
    "plt.tight_layout()\n",
    "\n",
    "plt.figure(figsize=(4, 3))\n",
    "plt.plot(a.wave, x1_spec * spectrum_plot_scale)\n",
    "plt.xlabel('Wavelength ($\\AA$)')\n",
    "plt.ylabel('Flux')\n",
    "plt.tight_layout()"
   ]
  },
  {
   "cell_type": "code",
   "execution_count": null,
   "metadata": {},
   "outputs": [],
   "source": [
    "plt.figure(figsize=(1, 2), dpi=300)\n",
    "plt.title(\"$+ x_2 \\cdot$ ...\")\n",
    "plt.tight_layout()"
   ]
  },
  {
   "cell_type": "code",
   "execution_count": null,
   "metadata": {},
   "outputs": [],
   "source": [
    "def plot_steps_values(values, num_steps=10, xlim=None, figsize=spectrum_plot_figsize, colorbar=True, label=''):\n",
    "    mask = a.uncertainty_mask\n",
    "\n",
    "    use_embedding = values[mask]\n",
    "    use_flux = a.scale_flux[mask]\n",
    "\n",
    "    # min_embedding = np.percentile(use_embedding, 5)\n",
    "    # max_embedding = np.percentile(use_embedding, 95)\n",
    "    min_embedding = np.min(use_embedding)\n",
    "    max_embedding = np.max(use_embedding)\n",
    "    \n",
    "    bin_edges = np.linspace(min_embedding, max_embedding, num_steps+1)\n",
    "    \n",
    "    bin_edges[0] = -1e20\n",
    "    bin_edges[-1] = 1e20\n",
    "    \n",
    "    plt.figure(figsize=figsize, dpi=250)\n",
    "    \n",
    "    cmap = plot_cmap\n",
    "    sm = plt.cm.ScalarMappable(cmap=cmap, norm=plt.Normalize(vmin=min_embedding, vmax=max_embedding))\n",
    "    sm._A = []\n",
    "\n",
    "    if xlim is not None:\n",
    "        wave_mask = (a.wave > xlim[0] - 50) & (a.wave < xlim[1] + 50)\n",
    "    else:\n",
    "        wave_mask = np.ones(len(a.wave), dtype=bool)\n",
    "        \n",
    "    all_step_flux = []\n",
    "    all_mean_vals = []\n",
    "    \n",
    "    for step in range(num_steps):\n",
    "        step_mask = (use_embedding >= bin_edges[step]) & (use_embedding < bin_edges[step+1])\n",
    "        step_embedding = use_embedding[step_mask]\n",
    "\n",
    "        mean_val = np.mean(step_embedding)\n",
    "        step_flux = np.median(use_flux[step_mask], axis=0)\n",
    "        \n",
    "        # if step == 0:\n",
    "            # label = 'Median spectra in each component bin'\n",
    "        # else:\n",
    "            # label = ''\n",
    "            \n",
    "        # Make the extreme values of components get plotted on top if everything overlaps.\n",
    "        zorder = np.abs(mean_val - np.mean(values))\n",
    "        \n",
    "        # plt.plot(a.wave[wave_mask], step_flux[wave_mask], c=sm.to_rgba(mean_val), label=label)\n",
    "        plt.plot(a.wave[wave_mask], step_flux[wave_mask] * spectrum_plot_scale[wave_mask], c=sm.to_rgba(mean_val), zorder=zorder)\n",
    "        \n",
    "        all_step_flux.append(step_flux)\n",
    "        all_mean_vals.append(mean_val)\n",
    "        \n",
    "    if xlim is not None:\n",
    "        plt.xlim(*xlim)\n",
    "        \n",
    "    if colorbar:\n",
    "        plt.colorbar(sm, label=label)\n",
    "        # plt.title('Component %d' % (component + 1))\n",
    "    \n",
    "    plt.xlabel('Wavelength ($\\AA$)')\n",
    "    plt.ylabel('Flux')\n",
    "    plt.ylim(0, None)\n",
    "    \n",
    "    # plt.legend()\n",
    "    \n",
    "    plt.tight_layout()\n",
    "    \n",
    "    # if xlim is None:\n",
    "        # plt.savefig('./figures/component_%d_steps.pdf' % (component + 1))\n",
    "    # else:\n",
    "        # plt.savefig('./figures/component_%d_steps_zoom_%d_%d.pdf' % (component + 1, xlim[0], xlim[1]))\n",
    "        \n",
    "    return np.array(all_mean_vals), np.array(all_step_flux)"
   ]
  },
  {
   "cell_type": "code",
   "execution_count": null,
   "metadata": {},
   "outputs": [],
   "source": [
    "# step_vel, step_flux = plot_steps_values(-a.spectral_indicators['vSiII6355'] - 11000, 15, figsize=(4, 3), colorbar=False)\n",
    "# step_vel, step_flux = plot_steps_values(-a.spectral_indicators['vSiII6355'] / 1000, 20, xlim=(5800, 6400), figsize=(5, 3), label='Si II line velocity ($10^3$ km/s)')\n",
    "step_vel, step_flux = plot_steps_values(a.spectral_indicators['EWSiII6355'], 30, xlim=(5800, 6400), figsize=(4, 3), label='Si II line velocity ($10^3$ km/s)', colorbar=False)\n",
    "plt.ylim(0.1, 0.5)\n",
    "# plt.tight_layout()\n",
    "# plt.ylabel('Flux')"
   ]
  },
  {
   "cell_type": "code",
   "execution_count": null,
   "metadata": {},
   "outputs": [],
   "source": [
    "idx1 = 182\n",
    "idx2 = 188\n",
    "plt.axvline(a.wave[idx1], ls='--', c='k', lw=2, zorder=1000)\n",
    "plt.axvline(a.wave[idx2], ls='--', c='k', lw=2, zorder=1000)\n",
    "\n",
    "plt.figure(figsize=(4, 3), dpi=250)\n",
    "plt.scatter(step_flux[:, 182], step_flux[:, 188], c=step_vel, cmap=plt.cm.coolwarm, s=50)\n",
    "plt.xlabel('Flux at %d $\\AA$' % a.wave[idx1])\n",
    "plt.ylabel('Flux at %d $\\AA$' % a.wave[idx2])\n",
    "plt.colorbar(label='Si II line velocity ($10^3$ km/s)')\n",
    "plt.tight_layout()"
   ]
  },
  {
   "cell_type": "code",
   "execution_count": null,
   "metadata": {},
   "outputs": [],
   "source": [
    "plt.figure()\n",
    "idx = 180\n",
    "plt.scatter(step_vel, step_flux[:, idx], label='%d $\\AA$' % a.wave[idx])\n",
    "idx = 183\n",
    "plt.scatter(step_vel, step_flux[:, idx], label='%d $\\AA$' % a.wave[idx])\n",
    "idx = 190\n",
    "plt.scatter(step_vel, step_flux[:, idx], label='%d $\\AA$' % a.wave[idx])\n",
    "plt.legend()"
   ]
  },
  {
   "cell_type": "code",
   "execution_count": null,
   "metadata": {},
   "outputs": [],
   "source": [
    "plt.figure()\n",
    "\n",
    "wave = np.linspace(0, 100, 100)\n",
    "\n",
    "def sim_line(vel, depth):\n",
    "    val = 1 / np.sqrt(np.pi * )\n",
    "    \n",
    "\n",
    "\n",
    "plt.plot(a.wave, )"
   ]
  },
  {
   "cell_type": "markdown",
   "metadata": {},
   "source": []
  },
  {
   "cell_type": "markdown",
   "metadata": {},
   "source": [
    "## Outliers"
   ]
  },
  {
   "cell_type": "code",
   "execution_count": 38,
   "metadata": {},
   "outputs": [],
   "source": [
    "outliers_91t = [ \n",
    "    'SNF20070528-003', # Scalzo++ 2014\n",
    "    'SNF20070803-005', # Scalzo++ 2014\n",
    "    'SNF20070825-001', # Scalzo++ 2010\n",
    "    'SNF20070912-000', # Scalzo++ 2014\n",
    "    'SNF20080522-000', # Scalzo++ 2014\n",
    "    'SNF20080723-012', # Scalzo++ 2014\n",
    "    'SNF20080805-007', # Lin++ 2020\n",
    "    'LSQ12cyz', # Lin++ 2020\n",
    "    'LSQ12fhe', # Lin++ 2020\n",
    "    'PTF11bju', # Lin++ 2020\n",
    "    'PTF11mkx', # Lin++ 2020\n",
    "]\n",
    "\n",
    "outliers_91bg = [\n",
    "    'LSQ12cfx', # Lin++ 2020\n",
    "    'PTF10ops', # Maguire++ 2011\n",
    "    'PTF11bkf', # Lin++ 2020\n",
    "    'PTF11kjn', # Lin++ 2020\n",
    "    'PTF11okh', # Lin++ 2020\n",
    "    'PTF11pra', # Lin++ 2020\n",
    "    'PTF12dwm', # Lin++ 2020\n",
    "    'SN2005bl', # Lin++ 2020\n",
    "    'SN2005dh', # Lin++ 2020 \n",
    "    'SN2005dm', # Lin++ 2020\n",
    "    'SN2007ba', # Lin++ 2020\n",
    "    'SN2009hs', # Lin++ 2020\n",
    "    'SNNGC6430', # Lin++ 2020\n",
    "]\n",
    "\n",
    "outliers_02cx = [\n",
    "    'SN2005cc', # Lin++ 2020\n",
    "]\n",
    "\n",
    "mask_91t = np.array([i.name in outliers_91t for i in a.targets])\n",
    "mask_91bg = np.array([i.name in outliers_91bg for i in a.targets])\n",
    "mask_02cx = np.array([i.name in outliers_02cx for i in a.targets])"
   ]
  },
  {
   "cell_type": "code",
   "execution_count": 39,
   "metadata": {},
   "outputs": [
    {
     "data": {
      "application/vnd.jupyter.widget-view+json": {
       "model_id": "09715c03ece242d5a5b5a512dd501f09",
       "version_major": 2,
       "version_minor": 0
      },
      "text/plain": [
       "Canvas(toolbar=Toolbar(toolitems=[('Home', 'Reset original view', 'home', 'home'), ('Back', 'Back to previous …"
      ]
     },
     "metadata": {},
     "output_type": "display_data"
    }
   ],
   "source": [
    "plt.figure()\n",
    "\n",
    "use_x = a.embedding[:, 0]\n",
    "\n",
    "mask = a.salt_mask & a.redshift_color_mask & a.uncertainty_mask\n",
    "plt.errorbar(use_x[mask], a.salt_hr[mask], a.salt_hr_uncertainties[mask], label='Individual supernovae', fmt='.', alpha=0.2, c='k')\n",
    "math.plot_binned_mean(use_x[mask], a.salt_hr[mask], c='C3', lw=2, label='Binned mean')\n",
    "\n",
    "# mask = mask & mask_91t\n",
    "# plt.scatter(use_x[mask], a.salt_hr[mask], label='91T-like SNe IA', c='C2', marker='s', zorder=10)\n",
    "\n",
    "plt.legend()\n",
    "\n",
    "plt.gca().invert_yaxis()\n",
    "\n",
    "plt.xlabel('Component 1')\n",
    "plt.ylabel('SALT2 Hubble residuals')\n",
    "\n",
    "plt.tight_layout()\n",
    "\n",
    "plt.savefig('/home/kyle/supernova/meetings/2020_01_04_aas_hawaii/talk/salt_bias.png')"
   ]
  },
  {
   "cell_type": "code",
   "execution_count": 45,
   "metadata": {},
   "outputs": [
    {
     "data": {
      "application/vnd.jupyter.widget-view+json": {
       "model_id": "556449836c3248d7920913565b8bc327",
       "version_major": 2,
       "version_minor": 0
      },
      "text/plain": [
       "Canvas(toolbar=Toolbar(toolitems=[('Home', 'Reset original view', 'home', 'home'), ('Back', 'Back to previous …"
      ]
     },
     "metadata": {},
     "output_type": "display_data"
    }
   ],
   "source": [
    "def do_plot(label, mask=None, **kwargs):\n",
    "    if mask is None:\n",
    "        mask = a.uncertainty_mask\n",
    "    else:\n",
    "        mask = mask & a.uncertainty_mask\n",
    "\n",
    "    plt.scatter(a.embedding[mask, 0], a.embedding[mask, 1], label=label, s=50, **kwargs)\n",
    "    \n",
    "plt.figure()\n",
    "do_plot('All SNe Ia', c='k', alpha=0.1)\n",
    "do_plot('91T-like', mask_91t)\n",
    "do_plot('91bg-like', mask_91bg)\n",
    "do_plot('02cx-like', mask_02cx)"
   ]
  },
  {
   "cell_type": "markdown",
   "metadata": {},
   "source": [
    "## Manifold learning example"
   ]
  },
  {
   "cell_type": "code",
   "execution_count": null,
   "metadata": {},
   "outputs": [],
   "source": [
    "N = 150\n",
    "loc = -0.5 + np.random.uniform(0, 2 * np.pi - 2, N)\n",
    "x = np.cos(loc) + np.random.normal(0, 0.1, N)\n",
    "y = np.sin(2 * loc) + np.random.normal(0, 0.1, N)\n",
    "\n",
    "plt.figure()\n",
    "plt.scatter(x, y, c='k', s=20)\n",
    "\n",
    "plt.xticks([])\n",
    "plt.yticks([])\n",
    "plt.tight_layout()\n",
    "\n",
    "plt.savefig('/home/kyle/supernova/meetings/2020_01_04_aas_hawaii/talk/manifold_sim.png')\n",
    "\n",
    "for iter_x, iter_y in zip(x, y):\n",
    "    closest = np.argsort((x - iter_x)**2 + (y - iter_y)**2)\n",
    "    for i in closest[:8]:\n",
    "        plt.plot([iter_x, x[i]], [iter_y, y[i]], c='C3', alpha=0.3)\n",
    "        \n",
    "plt.savefig('/home/kyle/supernova/meetings/2020_01_04_aas_hawaii/talk/manifold_sim_neighbors.png')"
   ]
  },
  {
   "cell_type": "code",
   "execution_count": null,
   "metadata": {},
   "outputs": [],
   "source": [
    "a.dataset.targets[100].spectra[0].wave"
   ]
  },
  {
   "cell_type": "markdown",
   "metadata": {},
   "source": [
    "## Redshift comparison"
   ]
  },
  {
   "cell_type": "code",
   "execution_count": 30,
   "metadata": {},
   "outputs": [
    {
     "data": {
      "text/plain": [
       "array([IdrSpectrum(target=\"SNF20080812-003\", name=\"SNF20080812-003_08229081003\", phase=-5.611)],\n",
       "      dtype=object)"
      ]
     },
     "execution_count": 30,
     "metadata": {},
     "output_type": "execute_result"
    }
   ],
   "source": [
    "a.dataset.get_target('SNF20080812-003').spectra"
   ]
  },
  {
   "cell_type": "code",
   "execution_count": 28,
   "metadata": {},
   "outputs": [
    {
     "data": {
      "text/plain": [
       "array([], dtype=bool)"
      ]
     },
     "execution_count": 28,
     "metadata": {},
     "output_type": "execute_result"
    }
   ],
   "source": [
    "a.redshift_color_mask[np.array([i.name == 'SNF20080812-003' for i in a.targets])]"
   ]
  },
  {
   "cell_type": "code",
   "execution_count": null,
   "metadata": {},
   "outputs": [],
   "source": [
    "from astropy.table import "
   ]
  },
  {
   "cell_type": "code",
   "execution_count": 32,
   "metadata": {},
   "outputs": [],
   "source": [
    "upd_redshifts = Table.read('./data/greg_updated_redshifts.txt', format='ascii')"
   ]
  },
  {
   "cell_type": "code",
   "execution_count": 35,
   "metadata": {},
   "outputs": [
    {
     "data": {
      "text/html": [
       "<i>Table length=55</i>\n",
       "<table id=\"table139703370437328\" class=\"table-striped table-bordered table-condensed\">\n",
       "<thead><tr><th>col1</th><th>col2</th><th>col3</th><th>col4</th><th>col5</th><th>col6</th></tr></thead>\n",
       "<thead><tr><th>str15</th><th>float64</th><th>float64</th><th>float64</th><th>float64</th><th>float64</th></tr></thead>\n",
       "<tr><td>PTF11bnb</td><td>0.03</td><td>0.005</td><td>0.0416</td><td>0.0005</td><td>-0.0116</td></tr>\n",
       "<tr><td>SNF20080812-003</td><td>0.052</td><td>0.006</td><td>0.0617</td><td>0.0005</td><td>-0.0097</td></tr>\n",
       "<tr><td>SNF20080918-004</td><td>0.051</td><td>0.005</td><td>0.0574</td><td>0.0025</td><td>-0.0064</td></tr>\n",
       "<tr><td>PTF10qyz</td><td>0.065</td><td>0.005</td><td>0.0683</td><td>0.0025</td><td>-0.0033</td></tr>\n",
       "<tr><td>PTF13asv</td><td>0.034</td><td>0.005</td><td>0.0366</td><td>0.0025</td><td>-0.0026</td></tr>\n",
       "<tr><td>PTF11mkx</td><td>0.05482</td><td>0.001</td><td>0.0566</td><td>0.0005</td><td>-0.00178</td></tr>\n",
       "<tr><td>LSQ13bbz</td><td>0.06</td><td>0.02</td><td>0.0612</td><td>0.0005</td><td>-0.0012</td></tr>\n",
       "<tr><td>PTF10ops</td><td>0.06</td><td>0.01</td><td>0.0612</td><td>0.0025</td><td>-0.0012</td></tr>\n",
       "<tr><td>SNF20080905-005</td><td>0.0579</td><td>0.005</td><td>0.0588</td><td>0.0025</td><td>-0.0009</td></tr>\n",
       "<tr><td>SN2005ak</td><td>0.02671</td><td>0.00181</td><td>0.02744</td><td>6e-05</td><td>-0.00073</td></tr>\n",
       "<tr><td>...</td><td>...</td><td>...</td><td>...</td><td>...</td><td>...</td></tr>\n",
       "<tr><td>SN2006ac</td><td>0.02328</td><td>0.0</td><td>0.02311</td><td>4e-05</td><td>0.00017</td></tr>\n",
       "<tr><td>SNF20060514-003</td><td>0.088</td><td>0.005</td><td>0.0878</td><td>0.0025</td><td>0.0002</td></tr>\n",
       "<tr><td>SN2007qe</td><td>0.02397</td><td>4e-05</td><td>0.02371</td><td>0.00073</td><td>0.00025</td></tr>\n",
       "<tr><td>SN2005ki</td><td>0.01951</td><td>5e-05</td><td>0.01921</td><td>2e-05</td><td>0.0003</td></tr>\n",
       "<tr><td>SN2009hs</td><td>0.02779</td><td>4e-05</td><td>0.02746</td><td>8e-05</td><td>0.00033</td></tr>\n",
       "<tr><td>LSQ12hvj</td><td>0.07217</td><td>0.0005</td><td>0.0713</td><td>0.0005</td><td>0.00087</td></tr>\n",
       "<tr><td>PTF11ppn</td><td>0.07</td><td>0.005</td><td>0.0669</td><td>0.0005</td><td>0.0031</td></tr>\n",
       "<tr><td>SNF20070822-004</td><td>0.089</td><td>0.002</td><td>0.0858</td><td>0.0005</td><td>0.0032</td></tr>\n",
       "<tr><td>LSQ12hzj</td><td>0.037</td><td>0.01</td><td>0.0333</td><td>0.0005</td><td>0.0037</td></tr>\n",
       "<tr><td>LSQ12eks</td><td>0.094</td><td>0.005</td><td>0.0895</td><td>0.0005</td><td>0.0045</td></tr>\n",
       "</table>"
      ],
      "text/plain": [
       "<Table length=55>\n",
       "      col1        col2    col3    col4    col5    col6  \n",
       "     str15      float64 float64 float64 float64 float64 \n",
       "--------------- ------- ------- ------- ------- --------\n",
       "       PTF11bnb    0.03   0.005  0.0416  0.0005  -0.0116\n",
       "SNF20080812-003   0.052   0.006  0.0617  0.0005  -0.0097\n",
       "SNF20080918-004   0.051   0.005  0.0574  0.0025  -0.0064\n",
       "       PTF10qyz   0.065   0.005  0.0683  0.0025  -0.0033\n",
       "       PTF13asv   0.034   0.005  0.0366  0.0025  -0.0026\n",
       "       PTF11mkx 0.05482   0.001  0.0566  0.0005 -0.00178\n",
       "       LSQ13bbz    0.06    0.02  0.0612  0.0005  -0.0012\n",
       "       PTF10ops    0.06    0.01  0.0612  0.0025  -0.0012\n",
       "SNF20080905-005  0.0579   0.005  0.0588  0.0025  -0.0009\n",
       "       SN2005ak 0.02671 0.00181 0.02744   6e-05 -0.00073\n",
       "            ...     ...     ...     ...     ...      ...\n",
       "       SN2006ac 0.02328     0.0 0.02311   4e-05  0.00017\n",
       "SNF20060514-003   0.088   0.005  0.0878  0.0025   0.0002\n",
       "       SN2007qe 0.02397   4e-05 0.02371 0.00073  0.00025\n",
       "       SN2005ki 0.01951   5e-05 0.01921   2e-05   0.0003\n",
       "       SN2009hs 0.02779   4e-05 0.02746   8e-05  0.00033\n",
       "       LSQ12hvj 0.07217  0.0005  0.0713  0.0005  0.00087\n",
       "       PTF11ppn    0.07   0.005  0.0669  0.0005   0.0031\n",
       "SNF20070822-004   0.089   0.002  0.0858  0.0005   0.0032\n",
       "       LSQ12hzj   0.037    0.01  0.0333  0.0005   0.0037\n",
       "       LSQ12eks   0.094   0.005  0.0895  0.0005   0.0045"
      ]
     },
     "execution_count": 35,
     "metadata": {},
     "output_type": "execute_result"
    }
   ],
   "source": [
    "t = upd_redshifts\n",
    "t"
   ]
  },
  {
   "cell_type": "code",
   "execution_count": 44,
   "metadata": {},
   "outputs": [],
   "source": [
    "target_names = [i.name for i in a.targets]\n",
    "\n",
    "use_mask = np.zeros(len(t), dtype=bool)\n",
    "\n",
    "for i, name in enumerate(t['col1']):\n",
    "    use_mask[i] = name in target_names"
   ]
  },
  {
   "cell_type": "code",
   "execution_count": 63,
   "metadata": {},
   "outputs": [
    {
     "name": "stdout",
     "output_type": "stream",
     "text": [
      "PTF11mkx 0.0566 0.07212223217248948 mag\n",
      "SN2007bd 0.03102 0.04191017490165194 mag\n",
      "SN2005cg 0.03176 0.02532730616020018 mag\n",
      "SNF20060521-001 0.06698 0.010542177126986019 mag\n",
      "SNF20080514-002 0.02206 0.018081582166928456 mag\n",
      "SN2004ef 0.03098 0.010778463260528781 mag\n",
      "SN2007qe 0.02371 -0.024101040511794736 mag\n"
     ]
    }
   ],
   "source": [
    "m = (t['col3'] < 0.004)\n",
    "diffs = (t['col4'] - t['col2'])[m & use_mask]\n",
    "from astropy.cosmology import Planck15 as cosmo\n",
    "\n",
    "for row in t[m & use_mask]:\n",
    "    cosmo_diff = cosmo.distmod(row['col4']) - cosmo.distmod(row['col2'])\n",
    "    z = np.array([i.name == row['col1'] for i in a.targets])\n",
    "    if (np.abs(cosmo_diff.value) > 0.01) & a.redshift_color_mask[z]:\n",
    "        print(row['col1'], row['col4'], cosmo_diff)"
   ]
  },
  {
   "cell_type": "code",
   "execution_count": 65,
   "metadata": {},
   "outputs": [
    {
     "data": {
      "text/plain": [
       "array([-0.069283])"
      ]
     },
     "execution_count": 65,
     "metadata": {},
     "output_type": "execute_result"
    }
   ],
   "source": [
    "z = np.array([i.name == 'SN2004ef' for i in a.targets])\n",
    "a.corr_mags[z]"
   ]
  },
  {
   "cell_type": "code",
   "execution_count": 58,
   "metadata": {},
   "outputs": [
    {
     "data": {
      "text/plain": [
       "array([False])"
      ]
     },
     "execution_count": 58,
     "metadata": {},
     "output_type": "execute_result"
    }
   ],
   "source": [
    "a.train_mask[z]"
   ]
  },
  {
   "cell_type": "code",
   "execution_count": 62,
   "metadata": {},
   "outputs": [
    {
     "data": {
      "application/vnd.jupyter.widget-view+json": {
       "model_id": "",
       "version_major": 2,
       "version_minor": 0
      },
      "text/plain": [
       "Canvas(toolbar=Toolbar(toolitems=[('Home', 'Reset original view', 'home', 'home'), ('Back', 'Back to previous …"
      ]
     },
     "metadata": {},
     "output_type": "display_data"
    },
    {
     "data": {
      "text/plain": [
       "<matplotlib.collections.PathCollection at 0x7f0f39c3f710>"
      ]
     },
     "execution_count": 62,
     "metadata": {},
     "output_type": "execute_result"
    }
   ],
   "source": [
    "plt.figure()\n",
    "plt.scatter([i['host.zhelio.err'] for i in a.targets[a.redshift_color_mask]], a.corr_mags[a.redshift_color_mask])"
   ]
  },
  {
   "cell_type": "code",
   "execution_count": 25,
   "metadata": {},
   "outputs": [
    {
     "data": {
      "application/vnd.jupyter.widget-view+json": {
       "model_id": "77a225a965e54a6a8e8c6955bb58a679",
       "version_major": 2,
       "version_minor": 0
      },
      "text/plain": [
       "Canvas(toolbar=Toolbar(toolitems=[('Home', 'Reset original view', 'home', 'home'), ('Back', 'Back to previous …"
      ]
     },
     "metadata": {},
     "output_type": "display_data"
    },
    {
     "data": {
      "text/plain": [
       "Text(0, 0.5, 'Component 2')"
      ]
     },
     "execution_count": 25,
     "metadata": {},
     "output_type": "execute_result"
    }
   ],
   "source": [
    "plt.figure()\n",
    "plt.scatter(np.sqrt(a.embedding[:, 0]**2 + a.embedding[:, 2]**2), a.embedding[:, 1], s=20)\n",
    "\n",
    "plt.xlabel('R = sqrt(C1^2 + C3^2)')\n",
    "plt.ylabel('Component 2')"
   ]
  },
  {
   "cell_type": "markdown",
   "metadata": {},
   "source": [
    "## What is going on with Mickael's sample?"
   ]
  },
  {
   "cell_type": "code",
   "execution_count": 42,
   "metadata": {},
   "outputs": [
    {
     "name": "stdout",
     "output_type": "stream",
     "text": [
      "[ 0.03227949 -0.02095304  0.19496385  0.13502417 -0.01226244 -0.08559092]\n",
      "Step size: -0.053 ± 0.028 mag\n",
      "Median step: -0.052\n"
     ]
    },
    {
     "name": "stderr",
     "output_type": "stream",
     "text": [
      "/home/kyle/packages/conda/lib/python3.7/site-packages/ipykernel_launcher.py:12: RuntimeWarning: divide by zero encountered in log\n",
      "  if sys.path[0] == '':\n",
      "/home/kyle/packages/conda/lib/python3.7/site-packages/scipy/optimize/optimize.py:697: RuntimeWarning: invalid value encountered in double_scalars\n",
      "  grad[k] = (f(*((xk + d,) + args)) - f0) / d[k]\n",
      "/home/kyle/packages/conda/lib/python3.7/site-packages/ipykernel_launcher.py:12: RuntimeWarning: divide by zero encountered in log\n",
      "  if sys.path[0] == '':\n"
     ]
    },
    {
     "data": {
      "application/vnd.jupyter.widget-view+json": {
       "model_id": "809692936e2f4cc3b71d13d4270c343d",
       "version_major": 2,
       "version_minor": 0
      },
      "text/plain": [
       "Canvas(toolbar=Toolbar(toolitems=[('Home', 'Reset original view', 'home', 'home'), ('Back', 'Back to previous …"
      ]
     },
     "metadata": {},
     "output_type": "display_data"
    },
    {
     "name": "stdout",
     "output_type": "stream",
     "text": [
      "(0.03227949291230736, -0.02095303978530645, -0.05323253269761381) (0.02287181031221938, 0.015494234564298468, 0.027625911961266476)\n"
     ]
    },
    {
     "data": {
      "text/plain": [
       "(-0.05323253269761381, 0.027625911961266476)"
      ]
     },
     "execution_count": 42,
     "metadata": {},
     "output_type": "execute_result"
    }
   ],
   "source": [
    "rigault_data = Table.read('./data/host_properties_rigault_2019.txt', format='ascii')\n",
    "rigault_mask = np.array([a.iau_name_map.get(i.name, i.name) in rigault_data['name'] for i in a.targets])\n",
    "\n",
    "remove_list = [\n",
    "    # SNREDSHIFT - most likely wrong host\n",
    "    # \"CSS110918_01\",\n",
    "    # \"PTF10qyz\",\n",
    "    # \"PTF10ufj\",\n",
    "    # \"SNF20060908-004\",\n",
    "    # \"SNF20080918-004\",\n",
    "    # \"SNF20070817-003\",\n",
    "    \n",
    "    \n",
    "    # Photo Optical data are unusable and no SNfactory optical data.\n",
    "    \"PTF09fox\",\n",
    "    \"SN2004gs\",\n",
    "    \"SNF20080919-000\",\n",
    "    \"SNF20080626-002\",\n",
    "    \n",
    "    # Spectral Data are unuable\n",
    "    \"PTF13asv\",\n",
    "    \n",
    "    \n",
    "    # HUBBLIZER - Bad in the zoo, Nico removed it for any reason.\n",
    "    # \"LSQ12gxj\",\n",
    "    \n",
    "    # PECULIARS - JAKOB / GREG\n",
    "    # \"PTF10ygu\",\n",
    "    # \"PTF10ops\",\n",
    "    \n",
    "    # SUPERC_91T\n",
    "    # \"SNF20070528-003\",\"SNF20070803-005\",\"SN2007if\",\n",
    "    # \"SNF20070912-000\",\"SNF20080522-000\",\"SNF20080723-012\", # SCALZO et al 2012\n",
    "    # \"SN2012dn\", # Childress 2016 Super-C\n",
    "    # \"LSQ12cyz\", \"PTF11bju\",\"SNNGC2691\", \"LSQ12gdj\",\"LSQ12fhe\", \"PTF11mkx\",\n",
    "    \n",
    "    \n",
    "    # PTF collaboration\n",
    "    # \"PTF13anh\",\"PTF13ayw\",\"PTF13azs\",\"PTF13asv\",\n",
    "    # \"PTF12jqh\",\"PTF11bgv\",\"PTF11drz\",\"PTF12eer\",\n",
    "    # \"PTF12evo\", \"PTF12fuu\",\"PTF12ghy\",\"PTF12grk\",\n",
    "    # \"PTF12ikt\",\n",
    "]\n",
    "\n",
    "extra_mask = np.array([i.name not in remove_list for i in a.targets])\n",
    "\n",
    "analyze_host_variable(\n",
    "    'gmass',\n",
    "    \n",
    "    # rbtl_isomap_mags,\n",
    "    # salt_isomap_mags,\n",
    "    a.salt_hr,\n",
    "    # rigault_data['HR'],\n",
    "\n",
    "    # extra_mask & a.salt_mask & a.redshift_color_mask & a.uncertainty_mask & a.train_mask,\n",
    "    # extra_mask & a.salt_mask & a.redshift_color_mask & a.uncertainty_mask & a.train_mask,\n",
    "    # extra_mask & a.salt_mask & a.redshift_color_mask & a.uncertainty_mask,\n",
    "    # extra_mask & a.salt_mask & a.redshift_color_mask & a.uncertainty_mask,\n",
    "    # extra_mask & a.salt_mask & a.redshift_color_mask & a.uncertainty_mask,# & a.salt_mask & a.uncertainty_mask & a.redshift_color_mask,\n",
    "    # rigault_mask & a.salt_mask & a.redshift_color_mask & a.uncertainty_mask, #extra_mask & a.salt_mask,# & a.salt_mask & a.uncertainty_mask & a.redshift_color_mask,\n",
    "    # extra_mask & a.salt_mask & a.redshift_color_mask & (a.maximum_uncertainty_fraction > 0.2),\n",
    "    # rigault_mask & a.train_mask,\n",
    "    # extra_mask & a.salt_mask & a.redshift_color_mask & a.uncertainty_mask,#& a.redshift_color_mask & a.uncertainty_mask,\n",
    "    # rigault_mask & a.salt_mask & a.redshift_color_mask & a.uncertainty_mask,\n",
    "    extra_mask & a.salt_mask & a.redshift_color_mask & a.uncertainty_mask,\n",
    "    # extra_mask & a.salt_mask & a.redshift_color_mask & a.uncertainty_mask,\n",
    "    # extra_mask & a.salt_mask & a.redshift_color_mask & a.uncertainty_mask,# & a.salt_mask & a.uncertainty_mask & a.redshift_color_mask,\n",
    "    # extra_mask & a.salt_mask & a.redshift_color_mask & a.uncertainty_mask,# & a.salt_mask & a.uncertainty_mask & a.redshift_color_mask,\n",
    "\n",
    "    a.salt_hr_raw_uncertainties,\n",
    "    # a.host_data['HR.err'],\n",
    "    y_label='SALT2 + $x_1$ residual magnitudes'\n",
    ")"
   ]
  },
  {
   "cell_type": "code",
   "execution_count": 43,
   "metadata": {},
   "outputs": [
    {
     "data": {
      "text/plain": [
       "[0.02660507560282821,\n",
       " 0.026354678600011283,\n",
       " 0.03136053025249885,\n",
       " 0.07040706468939884,\n",
       " 0.03293767593120367,\n",
       " 0.08108187220578844,\n",
       " 0.07214453551620825,\n",
       " 0.033426754770932154,\n",
       " 0.03331427608026649,\n",
       " 0.0573387253533606,\n",
       " 0.05357493286085502,\n",
       " 0.0564835940826256,\n",
       " 0.06567250373061562,\n",
       " 0.04863297118741028,\n",
       " 0.06936814625875565,\n",
       " 0.04408730097152369,\n",
       " 0.047075296617337115,\n",
       " 0.06349718249109948,\n",
       " 0.05418686093515612,\n",
       " 0.02583569279038378,\n",
       " 0.0303070618213106,\n",
       " 0.09327102520605712,\n",
       " 0.08149881202575204,\n",
       " 0.030443252892658368,\n",
       " 0.06917777445666973,\n",
       " 0.08342003469170711,\n",
       " 0.08834381831953686,\n",
       " 0.04627214726196316,\n",
       " 0.07484683494534972,\n",
       " 0.0851775007503206,\n",
       " 0.026714525990187532]"
      ]
     },
     "execution_count": 43,
     "metadata": {},
     "output_type": "execute_result"
    }
   ],
   "source": [
    "[i.redshift_cmb for i in a.targets[\n",
    "    rigault_mask & a.salt_mask & a.redshift_color_mask & a.uncertainty_mask\n",
    "    !=\n",
    "    extra_mask & a.salt_mask & a.redshift_color_mask & a.uncertainty_mask,\n",
    "]]"
   ]
  },
  {
   "cell_type": "code",
   "execution_count": 44,
   "metadata": {},
   "outputs": [
    {
     "ename": "TypeError",
     "evalue": "likelihood_step() missing 1 required positional argument: 'prob'",
     "output_type": "error",
     "traceback": [
      "\u001b[0;31m---------------------------------------------------------------------------\u001b[0m",
      "\u001b[0;31mTypeError\u001b[0m                                 Traceback (most recent call last)",
      "\u001b[0;32m<ipython-input-44-ba27e7fd5b72>\u001b[0m in \u001b[0;36m<module>\u001b[0;34m\u001b[0m\n\u001b[1;32m     44\u001b[0m \u001b[0mrigault_data_cut\u001b[0m \u001b[0;34m=\u001b[0m \u001b[0mrigault_data_full\u001b[0m\u001b[0;34m[\u001b[0m\u001b[0mextra_mask\u001b[0m\u001b[0;34m]\u001b[0m\u001b[0;34m\u001b[0m\u001b[0;34m\u001b[0m\u001b[0m\n\u001b[1;32m     45\u001b[0m \u001b[0;34m\u001b[0m\u001b[0m\n\u001b[0;32m---> 46\u001b[0;31m \u001b[0mres\u001b[0m \u001b[0;34m=\u001b[0m \u001b[0mlikelihood_step\u001b[0m\u001b[0;34m(\u001b[0m\u001b[0mrigault_data_cut\u001b[0m\u001b[0;34m[\u001b[0m\u001b[0;34m'HR'\u001b[0m\u001b[0;34m]\u001b[0m\u001b[0;34m,\u001b[0m \u001b[0mrigault_data_cut\u001b[0m\u001b[0;34m[\u001b[0m\u001b[0;34m'p(highgmass)'\u001b[0m\u001b[0;34m]\u001b[0m\u001b[0;34m,\u001b[0m \u001b[0mrigault_data_cut\u001b[0m\u001b[0;34m[\u001b[0m\u001b[0;34m'HR.err'\u001b[0m\u001b[0;34m]\u001b[0m\u001b[0;34m)\u001b[0m\u001b[0;34m\u001b[0m\u001b[0;34m\u001b[0m\u001b[0m\n\u001b[0m\u001b[1;32m     47\u001b[0m \u001b[0mprint\u001b[0m\u001b[0;34m(\u001b[0m\u001b[0;34m\"Step size: %.3f $\\pm$ %.3f\"\u001b[0m \u001b[0;34m%\u001b[0m \u001b[0;34m(\u001b[0m\u001b[0mres\u001b[0m\u001b[0;34m[\u001b[0m\u001b[0;36m0\u001b[0m\u001b[0;34m]\u001b[0m\u001b[0;34m[\u001b[0m\u001b[0;36m2\u001b[0m\u001b[0;34m]\u001b[0m\u001b[0;34m,\u001b[0m \u001b[0mres\u001b[0m\u001b[0;34m[\u001b[0m\u001b[0;36m1\u001b[0m\u001b[0;34m]\u001b[0m\u001b[0;34m[\u001b[0m\u001b[0;36m2\u001b[0m\u001b[0;34m]\u001b[0m\u001b[0;34m)\u001b[0m\u001b[0;34m)\u001b[0m\u001b[0;34m\u001b[0m\u001b[0;34m\u001b[0m\u001b[0m\n",
      "\u001b[0;31mTypeError\u001b[0m: likelihood_step() missing 1 required positional argument: 'prob'"
     ]
    }
   ],
   "source": [
    "rigault_data_full = Table.read('./data/host_properties_rigault_full.csv', format='csv')\n",
    "# rigault_mask = np.array([a.iau_name_map.get(i.name, i.name) in rigault_data['name'] for i in a.targets])\n",
    "\n",
    "remove_list = [\n",
    "    # HUBBLIZER - Bad in the zoo, Nico removed it for any reason.\n",
    "    \"LSQ12gxj\",\n",
    "    \n",
    "    # SNREDSHIFT - most likely wrong host\n",
    "    \"CSS110918_01\",\n",
    "    \"PTF10qyz\",\n",
    "    \"PTF10ufj\",\n",
    "    \"SNF20060908-004\",\n",
    "    \"SNF20080918-004\",\n",
    "    \"SNF20070817-003\",\n",
    "    \n",
    "    # PECULIARS - JAKOB / GREG\n",
    "    \"PTF10ygu\",\n",
    "    \"PTF10ops\",\n",
    "    \n",
    "    # Photo Optical data are unusable and no SNfactory optical data.\n",
    "    \"PTF09fox\",\n",
    "    \"SN2004gs\",\n",
    "    \"SNF20080919-000\",\n",
    "    \"SNF20080626-002\",\n",
    "    \n",
    "    # Spectral Data are unuable\n",
    "    \"PTF13asv\",\n",
    "    \n",
    "    # SUPERC_91T\n",
    "    \"SNF20070528-003\",\"SNF20070803-005\",\"SN2007if\",\n",
    "    \"SNF20070912-000\",\"SNF20080522-000\",\"SNF20080723-012\", # SCALZO et al 2012\n",
    "    \"SN2012dn\", # Childress 2016 Super-C\n",
    "    \"LSQ12cyz\", \"PTF11bju\",\"SNNGC2691\", \"LSQ12gdj\",\"LSQ12fhe\", \"PTF11mkx\",\n",
    "    \n",
    "    # PTF collaboration\n",
    "    \"PTF13anh\",\"PTF13ayw\",\"PTF13azs\",\"PTF13asv\",\n",
    "    \"PTF12jqh\",\"PTF11bgv\",\"PTF11drz\",\"PTF12eer\",\n",
    "    \"PTF12evo\", \"PTF12fuu\",\"PTF12ghy\",\"PTF12grk\",\n",
    "    \"PTF12ikt\",\n",
    "]\n",
    "\n",
    "extra_mask = np.array([i not in remove_list for i in rigault_data_full['name']])\n",
    "\n",
    "rigault_data_cut = rigault_data_full[extra_mask]\n",
    "\n",
    "res = likelihood_step(rigault_data_cut['HR'], rigault_data_cut['p(highgmass)'], rigault_data_cut['HR.err'])\n",
    "print(\"Step size: %.3f $\\pm$ %.3f\" % (res[0][2], res[1][2]))"
   ]
  },
  {
   "cell_type": "code",
   "execution_count": 45,
   "metadata": {},
   "outputs": [
    {
     "data": {
      "application/vnd.jupyter.widget-view+json": {
       "model_id": "7671e496bad74813a5f926bede0051fb",
       "version_major": 2,
       "version_minor": 0
      },
      "text/plain": [
       "Canvas(toolbar=Toolbar(toolitems=[('Home', 'Reset original view', 'home', 'home'), ('Back', 'Back to previous …"
      ]
     },
     "metadata": {},
     "output_type": "display_data"
    },
    {
     "data": {
      "text/plain": [
       "<matplotlib.collections.PathCollection at 0x7fcc4c630990>"
      ]
     },
     "execution_count": 45,
     "metadata": {},
     "output_type": "execute_result"
    }
   ],
   "source": [
    "plt.figure()\n",
    "plt.scatter(rigault_data_cut['salt2.X1'], rigault_data_cut['HR'])"
   ]
  },
  {
   "cell_type": "markdown",
   "metadata": {},
   "source": [
    "## Simultaneous host properties fit"
   ]
  },
  {
   "cell_type": "code",
   "execution_count": 46,
   "metadata": {},
   "outputs": [],
   "source": [
    "def fit_gp_host(self, step_probabilities_1, step_probabilities_2, kind=\"rbtl\", start_hyperparameters=[0.0, 0.05, 0.2, 5, 0., 0.]):\n",
    "    \"\"\"Fit a Gaussian Process to predict the residual magnitudes.\"\"\"\n",
    "    self.print_verbose(\"Fitting GP hyperparameters...\")\n",
    "\n",
    "    # Fit the hyperparameters on the full conditioning sample.\n",
    "    coordinates, mags, mag_errs, colors, condition_mask = self.get_gp_data(kind)\n",
    "    \n",
    "    condition_mask &= self.host_mask\n",
    "\n",
    "    condition_coordinates = coordinates[condition_mask]\n",
    "    condition_mags = mags[condition_mask]\n",
    "    condition_mag_errs = mag_errs[condition_mask]\n",
    "    condition_colors = colors[condition_mask]\n",
    "    condition_step_probabilities_1 = step_probabilities_1[condition_mask]\n",
    "    condition_step_probabilities_2 = step_probabilities_2[condition_mask]\n",
    "\n",
    "    def negative_log_likelihood(hyperparameters):\n",
    "        gp, color_slope = self._build_gp(\n",
    "            condition_coordinates, condition_mag_errs, hyperparameters[:-2]\n",
    "        )\n",
    "        host_step_1 = hyperparameters[-2]\n",
    "        host_step_2 = hyperparameters[-1]\n",
    "        residuals = (\n",
    "            condition_mags\n",
    "            - condition_colors * color_slope\n",
    "            + host_step_1 * condition_step_probabilities_1\n",
    "            + host_step_2 * condition_step_probabilities_2\n",
    "        )\n",
    "        result = -gp.log_likelihood(residuals)\n",
    "\n",
    "        return result\n",
    "\n",
    "    res = minimize(negative_log_likelihood, start_hyperparameters)\n",
    "\n",
    "    self.gp_hyperparameters = res.x\n",
    "    self.gp_negative_log_likelihood = negative_log_likelihood\n",
    "\n",
    "    pred_mags, pred_vars = self._predict_gp_oos(\n",
    "        coordinates,\n",
    "        mags,\n",
    "        mag_errs,\n",
    "        colors,\n",
    "        condition_mask = condition_mask,\n",
    "        return_var=True,\n",
    "    )\n",
    "\n",
    "    self.corr_mags = mags - pred_mags\n",
    "    self.corr_vars = pred_vars + mag_errs**2\n",
    "    good_corr_mags = self.corr_mags[condition_mask]\n",
    "\n",
    "    # Calculate the parameter covariance using a custom code that numerically\n",
    "    # estimates the Hessian using a finite difference method with adaptive step\n",
    "    # sizes.\n",
    "    param_names = [\"param_%d\" for i in range(len(self.gp_hyperparameters))]\n",
    "    \n",
    "    print(self.gp_hyperparameters)\n",
    "\n",
    "    cov = math.calculate_covariance_finite_difference(\n",
    "        negative_log_likelihood,\n",
    "        param_names,\n",
    "        self.gp_hyperparameters,\n",
    "        [(None, None)] * len(param_names),\n",
    "        verbose=self.settings['verbosity'] > 2,\n",
    "    )\n",
    "    self.gp_hyperparameter_covariance = cov\n",
    "\n",
    "    uncertainties = np.sqrt(np.diag(cov))\n",
    "\n",
    "    self.print_verbose(\"    Fit result:           %s\" % res['message'])\n",
    "    self.print_verbose(\"    Color scale:          %.3f ± %.3f\"\n",
    "                       % (res.x[0], uncertainties[0]))\n",
    "    self.print_verbose(\"    Intrinsic dispersion: %.3f ± %.3f mag\"\n",
    "                       % (res.x[1], uncertainties[1]))\n",
    "    self.print_verbose(\"    GP kernel amplitude:  %.3f ± %.3f mag\"\n",
    "                       % (res.x[2], uncertainties[2]))\n",
    "    self.print_verbose(\"    GP length scale:      %.3f ± %.3f\"\n",
    "                       % (res.x[3], uncertainties[3]))\n",
    "    self.print_verbose(\"    lSSFR step size:      %.3f ± %.3f\"\n",
    "                       % (res.x[4], uncertainties[4]))\n",
    "    self.print_verbose(\"    gmass step size:      %.3f ± %.3f\"\n",
    "                       % (res.x[5], uncertainties[5]))\n",
    "\n",
    "    self.print_verbose(\"    Fit NMAD:             %.3f mag\"\n",
    "                       % math.nmad(good_corr_mags))\n",
    "    self.print_verbose(\"    Fit std:              %.3f mag\"\n",
    "                       % np.std(good_corr_mags))"
   ]
  },
  {
   "cell_type": "code",
   "execution_count": 47,
   "metadata": {},
   "outputs": [
    {
     "name": "stdout",
     "output_type": "stream",
     "text": [
      "Fitting GP hyperparameters...\n",
      "    Fit result:           Desired error not necessarily achieved due to precision loss.\n",
      "    Color scale:          3.108 ± 0.211\n",
      "    Intrinsic dispersion: 0.090 ± 0.014 mag\n",
      "    GP kernel amplitude:  0.358 ± 0.203 mag\n",
      "    GP length scale:      7.316 ± 4.765\n",
      "    Fit NMAD:             0.095 mag\n",
      "    Fit std:              0.119 mag\n"
     ]
    }
   ],
   "source": [
    "a.fit_gp(kind='salt_raw')"
   ]
  },
  {
   "cell_type": "code",
   "execution_count": 48,
   "metadata": {},
   "outputs": [
    {
     "name": "stdout",
     "output_type": "stream",
     "text": [
      "Reading between the lines...\n",
      "Loaded cached stan model\n",
      "Using saved stan result\n"
     ]
    }
   ],
   "source": [
    "a.read_between_the_lines()"
   ]
  },
  {
   "cell_type": "code",
   "execution_count": 49,
   "metadata": {},
   "outputs": [
    {
     "name": "stdout",
     "output_type": "stream",
     "text": [
      "Fitting GP hyperparameters...\n",
      "[ 0.00284523  0.04228175  0.08850327  2.09917564 -0.03908652 -0.00441083]\n",
      "    Fit result:           Optimization terminated successfully.\n",
      "    Color scale:          0.003 ± 0.073\n",
      "    Intrinsic dispersion: 0.042 ± 0.043 mag\n",
      "    GP kernel amplitude:  0.089 ± 0.026 mag\n",
      "    GP length scale:      2.099 ± 3.159\n",
      "    lSSFR step size:      -0.039 ± 0.034\n",
      "    gmass step size:      -0.004 ± 0.026\n",
      "    Fit NMAD:             0.065 mag\n",
      "    Fit std:              0.095 mag\n"
     ]
    }
   ],
   "source": [
    "fit_gp_host(a, a.host_data['p(prompt)'], a.host_data['p(highgmass)'], kind='rbtl')"
   ]
  },
  {
   "cell_type": "markdown",
   "metadata": {},
   "source": [
    "## SALT2 simultaneous host properties fit"
   ]
  },
  {
   "cell_type": "code",
   "execution_count": 62,
   "metadata": {},
   "outputs": [],
   "source": [
    "def likelihood_step(residuals, x1, c, prob, errs=0.):\n",
    "    def calc_likelihood(x):\n",
    "        s1, s2, err1, err2, alpha, beta = x\n",
    "\n",
    "        var1 = errs**2 + err1**2\n",
    "        var2 = errs**2 + err2**2\n",
    "        \n",
    "        model_residuals = residuals - alpha * x1 + beta * c\n",
    "\n",
    "        # likelihood = np.sum(-np.log(\n",
    "            # prob * 1 / np.sqrt(2 * np.pi * var1) * np.exp(-(model_residuals - s1)**2 / var1)\n",
    "            # + (1 - prob) * 1 / np.sqrt(2 * np.pi * var2) * np.exp(-(model_residuals - s2)**2 / var2)\n",
    "        # ))\n",
    "        \n",
    "        likelihood = np.sum(-np.log(\n",
    "            1 / np.sqrt(2 * np.pi * var1) * np.exp(-(model_residuals - (prob * s1 + (1-prob) * s2))**2 / var1)\n",
    "            # prob * 1 / np.sqrt(2 * np.pi * var1) * np.exp(-(model_residuals - s1)**2 / var1)\n",
    "            # + (1 - prob) * 1 / np.sqrt(2 * np.pi * var2) * np.exp(-(model_residuals - s2)**2 / var2)\n",
    "        ))\n",
    "\n",
    "        return likelihood\n",
    "\n",
    "    res = minimize(calc_likelihood, [0., 0., 0.1, 0.1, 0.1, 3], method='BFGS')\n",
    "    param_errs = np.sqrt(np.diag(res.hess_inv))\n",
    "\n",
    "    # Estimate the variances with the intrinsic components.\n",
    "    total_vars = errs**2 + prob * res.x[2]**2 + (1 - prob) * res.x[3]**2\n",
    "\n",
    "    step_means = (res.x[0], res.x[1], res.x[1] - res.x[0])\n",
    "    step_errs = (param_errs[0], param_errs[1], np.sqrt(param_errs[0]**2 + param_errs[1]**2))\n",
    "    \n",
    "    corr_mags = residuals - res.x[4] * x1 + res.x[5] * c\n",
    "    \n",
    "    print(res.x)\n",
    "\n",
    "    return step_means, step_errs, total_vars, corr_mags\n",
    "\n",
    "def int_disp(vals, pec_vel_disps, axis=None):\n",
    "    std = np.std(vals, ddof=1, axis=axis)\n",
    "    corr = np.mean(pec_vel_disps**2, axis=axis)\n",
    "    corr_std = np.sqrt(np.clip(std**2 - corr, 0, None))\n",
    "\n",
    "    return corr_std\n",
    "\n",
    "def analyze_host_variable(variable, mags, mask, uncertainties=None, threshold=None,\n",
    "                          use_probability=True, plot=True, bootstrap=None,\n",
    "                          y_label='Residual magnitudes'):\n",
    "    use_mask = np.where(mask & a.host_mask)[0]\n",
    "\n",
    "    if isinstance(bootstrap, int):\n",
    "        np.random.seed(bootstrap)\n",
    "        bootstrap_idx = np.random.choice(len(use_mask), len(use_mask))\n",
    "        use_mask = use_mask[bootstrap_idx]\n",
    "        \n",
    "    host_data = a.host_data[use_mask]\n",
    "    use_mags = mags[use_mask]\n",
    "    \n",
    "    use_var = host_data[variable]\n",
    "    # use_var_low = -host_data[variable + '_low']\n",
    "    # use_var_high = host_data[variable + '_up']\n",
    "    use_var_low = host_data[variable + '.err_down']\n",
    "    use_var_high = host_data[variable + '.err_up']\n",
    "    \n",
    "    # Default thresholds from Rigault et al. 2019\n",
    "    if threshold is None:\n",
    "        if variable == 'lssfr':\n",
    "            threshold = -10.8\n",
    "        elif variable == 'gmass':\n",
    "            threshold = 10\n",
    "        else:\n",
    "            # Default, use the median of the variable\n",
    "            threshold = np.median(use_var)\n",
    "\n",
    "    # Figure out labels.\n",
    "    if variable == 'lssfr':\n",
    "        x_label = 'log(lsSFR)'\n",
    "    elif variable == 'gmass':\n",
    "        x_label = 'log($M_* / M_\\odot$) (global)'\n",
    "\n",
    "    # Figure out which weights to use for the step. We want to actually use\n",
    "    # the probabilities if they are available rather than hard cuts as is done\n",
    "    # in Rigault et al. 2018.\n",
    "    label = variable\n",
    "    use_weights = None\n",
    "\n",
    "    if use_probability:\n",
    "        if variable == 'lssfr':\n",
    "            # plot_color = host_data['p_young']\n",
    "            # use_weights = 1 - host_data['p_young'] / 100\n",
    "            plot_color = host_data['p(prompt)']\n",
    "            use_weights = 1 - host_data['p(prompt)']\n",
    "            label = '$P_{Young}$'\n",
    "        elif variable == 'gmass':\n",
    "            # plot_color = host_data['p_highmass']\n",
    "            # use_weights = 1 - host_data['p_highmass'] / 100\n",
    "            plot_color = host_data['p(highgmass)']\n",
    "            use_weights = 1 - host_data['p(highgmass)']\n",
    "            label = '$P_{high\\ mass}$'\n",
    "\n",
    "    if use_weights is None:\n",
    "        # Backup: do hard cuts.\n",
    "        use_weights = use_var < threshold\n",
    "        plot_color = use_weights\n",
    "\n",
    "    if uncertainties is None:\n",
    "        # If we don't have explicit uncertainties, just use the peculiar velocity contributions.\n",
    "        uncertainties = a.get_peculiar_velocity_uncertainty()\n",
    "\n",
    "    use_uncertainties = uncertainties[use_mask]\n",
    "\n",
    "    step_means, step_errs, total_var, corr_mags = likelihood_step(use_mags, a.salt_x1[use_mask],\n",
    "                                                       a.salt_colors[use_mask], use_weights,\n",
    "                                                       use_uncertainties)\n",
    "\n",
    "    if plot:\n",
    "        print(\"Step size: %.3f ± %.3f mag\" % (step_means[2], step_errs[2]))\n",
    "        print(\"Median step: %.3f\" % (np.median(corr_mags[use_weights < 0.5]) - np.median(corr_mags[use_weights > 0.5])))\n",
    "        plt.figure()\n",
    "        plt.errorbar(use_var, corr_mags, xerr=(use_var_low, use_var_high), yerr=np.sqrt(total_var), fmt='.', c='gray', alpha=0.5, zorder=-2)\n",
    "        plt.scatter(use_var, corr_mags, s=100, c=plot_color, edgecolors='gray', cmap=plt.cm.viridis_r)\n",
    "\n",
    "        # Threshold\n",
    "        plt.axvline(threshold, c='k', lw=2, ls='--')\n",
    "\n",
    "        # Show means of each side\n",
    "        plot_min, plot_max = plt.xlim()\n",
    "        mean_low, mean_high, mean_diff = step_means\n",
    "        mean_low_err, mean_high_err, mean_diff_err = step_errs\n",
    "        plt.plot([plot_min, threshold], [mean_low, mean_low], c='k', zorder=-1)\n",
    "        plt.fill_between([plot_min, threshold], [mean_low - mean_low_err, mean_low - mean_low_err], [mean_low + mean_low_err, mean_low + mean_low_err], color=plt.cm.viridis(1000), alpha=0.5, zorder=-3)\n",
    "        plt.plot([threshold, plot_max], [mean_high, mean_high], c='k', zorder=-1)\n",
    "        plt.fill_between([threshold, plot_max], [mean_high - mean_high_err, mean_high - mean_high_err], [mean_high + mean_high_err, mean_high + mean_high_err], color=plt.cm.viridis(0), alpha=0.5, zorder=-3)\n",
    "\n",
    "        plt.xlabel(x_label)\n",
    "        plt.ylabel(y_label)\n",
    "\n",
    "        plt.xlim(plot_min, plot_max)\n",
    "        plt.ylim(-0.6, 0.6)\n",
    "        \n",
    "        print(step_means, step_errs)\n",
    "\n",
    "\n",
    "        plt.colorbar(label=label)\n",
    "        plt.tight_layout()\n",
    "\n",
    "    return step_means[-1], step_errs[-1]\n",
    "\n",
    "def bootstrap_step_difference(variable, mags_1, uncertainties_1, mags_2, uncertainties_2, mask,\n",
    "                              num_resamples=100, **kwargs):\n",
    "    step_diffs = []\n",
    "    for bootstrap_iter in range(num_resamples):\n",
    "        step_size_1, step_err_1 = analyze_host_variable(variable, mags_1, mask, uncertainties_1, bootstrap=bootstrap_iter, plot=False, **kwargs)\n",
    "        step_size_2, step_err_2 = analyze_host_variable(variable, mags_2, mask, uncertainties_2, bootstrap=bootstrap_iter, plot=False, **kwargs)\n",
    "        \n",
    "        step_diffs.append(step_size_2 - step_size_1)\n",
    "    \n",
    "    return np.mean(step_diffs), np.std(step_diffs)"
   ]
  },
  {
   "cell_type": "code",
   "execution_count": 63,
   "metadata": {},
   "outputs": [
    {
     "name": "stdout",
     "output_type": "stream",
     "text": [
      "[-0.14880984 -0.01468983  0.11297145  0.1        -0.18819478 -2.9538647 ]\n",
      "Step size: 0.134 ± 0.032 mag\n",
      "Median step: 0.092\n"
     ]
    },
    {
     "name": "stderr",
     "output_type": "stream",
     "text": [
      "/home/kyle/packages/conda/lib/python3.7/site-packages/ipykernel_launcher.py:16: RuntimeWarning: divide by zero encountered in log\n",
      "  app.launch_new_instance()\n",
      "/home/kyle/packages/conda/lib/python3.7/site-packages/scipy/optimize/optimize.py:697: RuntimeWarning: invalid value encountered in double_scalars\n",
      "  grad[k] = (f(*((xk + d,) + args)) - f0) / d[k]\n",
      "/home/kyle/packages/conda/lib/python3.7/site-packages/ipykernel_launcher.py:16: RuntimeWarning: divide by zero encountered in log\n",
      "  app.launch_new_instance()\n"
     ]
    },
    {
     "data": {
      "application/vnd.jupyter.widget-view+json": {
       "model_id": "2041775a7b7b408f8d178a56dde72fbc",
       "version_major": 2,
       "version_minor": 0
      },
      "text/plain": [
       "Canvas(toolbar=Toolbar(toolitems=[('Home', 'Reset original view', 'home', 'home'), ('Back', 'Back to previous …"
      ]
     },
     "metadata": {},
     "output_type": "display_data"
    },
    {
     "name": "stdout",
     "output_type": "stream",
     "text": [
      "(-0.1488098444463924, -0.014689834606313972, 0.1341200098400784) (0.019264453047408373, 0.025495588768845175, 0.03195534693734158)\n"
     ]
    }
   ],
   "source": [
    "analyze_host_variable('lssfr', a.salt_hr_raw, rigault_mask & a.salt_mask & a.uncertainty_mask & a.redshift_color_mask & a.train_mask,\n",
    "                      a.salt_hr_raw_uncertainties, y_label='SALT2 + $x_1$ residual magnitudes')\n",
    "plt.savefig('./figures/lssfr_salt_x1.pdf')"
   ]
  },
  {
   "cell_type": "markdown",
   "metadata": {},
   "source": [
    "## Output for Stella Yu's group"
   ]
  },
  {
   "cell_type": "code",
   "execution_count": 89,
   "metadata": {},
   "outputs": [],
   "source": [
    "import h5py\n",
    "\n",
    "m = a.uncertainty_mask\n",
    "\n",
    "hf = h5py.File('stella_yu_data.h5', 'w')\n",
    "hf.create_dataset('wavelength', data=a.wave)\n",
    "hf.create_dataset('flux', data=a.maximum_flux[m])\n",
    "hf.create_dataset('fluxerr', data=a.maximum_fluxerr[m])\n",
    "hf.create_dataset('color_law', data=a.rbtl_color_law)\n",
    "hf.create_dataset('magnitudes', data=a.rbtl_mags[m])\n",
    "hf.create_dataset('colors', data=a.rbtl_colors[m])\n",
    "hf.create_dataset('magnitude_measurement_errors', data=a.get_peculiar_velocity_uncertainty()[m])\n",
    "hf.create_dataset('mag_mask', data=a.redshift_color_mask[m])\n",
    "hf.close()"
   ]
  },
  {
   "cell_type": "code",
   "execution_count": 75,
   "metadata": {},
   "outputs": [
    {
     "data": {
      "text/plain": [
       "(173, 288)"
      ]
     },
     "execution_count": 75,
     "metadata": {},
     "output_type": "execute_result"
    }
   ],
   "source": [
    "a.maximum_flux[m].shape"
   ]
  },
  {
   "cell_type": "code",
   "execution_count": 57,
   "metadata": {},
   "outputs": [
    {
     "ename": "AttributeError",
     "evalue": "'ManifoldTwinsAnalysis' object has no attribute 'mag_mask'",
     "output_type": "error",
     "traceback": [
      "\u001b[0;31m---------------------------------------------------------------------------\u001b[0m",
      "\u001b[0;31mAttributeError\u001b[0m                            Traceback (most recent call last)",
      "\u001b[0;32m<ipython-input-57-b0749567ac83>\u001b[0m in \u001b[0;36m<module>\u001b[0;34m\u001b[0m\n\u001b[0;32m----> 1\u001b[0;31m \u001b[0ma\u001b[0m\u001b[0;34m.\u001b[0m\u001b[0mrbtl_mags\u001b[0m\u001b[0;34m[\u001b[0m\u001b[0ma\u001b[0m\u001b[0;34m.\u001b[0m\u001b[0muncertainty_mask\u001b[0m \u001b[0;34m&\u001b[0m \u001b[0ma\u001b[0m\u001b[0;34m.\u001b[0m\u001b[0mmag_mask\u001b[0m\u001b[0;34m]\u001b[0m\u001b[0;34m\u001b[0m\u001b[0;34m\u001b[0m\u001b[0m\n\u001b[0m",
      "\u001b[0;31mAttributeError\u001b[0m: 'ManifoldTwinsAnalysis' object has no attribute 'mag_mask'"
     ]
    }
   ],
   "source": [
    "a.rbtl_mags[a.uncertainty_mask & a.mag_mask]"
   ]
  },
  {
   "cell_type": "code",
   "execution_count": 52,
   "metadata": {},
   "outputs": [
    {
     "data": {
      "text/plain": [
       "array([3305.49675906, 3316.50858892, 3327.55710325, 3338.64242427,\n",
       "       3349.76467457, 3360.9239772 , 3372.12045558, 3383.35423357,\n",
       "       3394.62543542, 3405.9341858 , 3417.2806098 , 3428.66483293,\n",
       "       3440.08698111, 3451.54718068, 3463.04555841, 3474.58224148,\n",
       "       3486.15735749, 3497.7710345 , 3509.42340094, 3521.11458572,\n",
       "       3532.84471815, 3544.61392799, 3556.4223454 , 3568.27010101,\n",
       "       3580.15732587, 3592.08415147, 3604.05070972, 3616.057133  ,\n",
       "       3628.1035541 , 3640.19010628, 3652.31692322, 3664.48413907,\n",
       "       3676.69188841, 3688.94030626, 3701.22952812, 3713.55968991,\n",
       "       3725.93092802, 3738.3433793 , 3750.79718102, 3763.29247096,\n",
       "       3775.82938733, 3788.40806879, 3801.02865448, 3813.691284  ,\n",
       "       3826.39609741, 3839.14323524, 3851.9328385 , 3864.76504865,\n",
       "       3877.64000762, 3890.55785784, 3903.51874218, 3916.52280402,\n",
       "       3929.57018718, 3942.661036  , 3955.79549526, 3968.97371025,\n",
       "       3982.19582675, 3995.46199099, 4008.77234973, 4022.12705018,\n",
       "       4035.52624007, 4048.97006761, 4062.4586815 , 4075.99223094,\n",
       "       4089.57086563, 4103.19473576, 4116.86399204, 4130.57878565,\n",
       "       4144.3392683 , 4158.1455922 , 4171.99791006, 4185.89637511,\n",
       "       4199.84114107, 4213.8323622 , 4227.87019325, 4241.95478949,\n",
       "       4256.08630673, 4270.26490126, 4284.49072993, 4298.76395008,\n",
       "       4313.0847196 , 4327.45319689, 4341.86954087, 4356.33391103,\n",
       "       4370.84646734, 4385.40737033, 4400.01678106, 4414.67486113,\n",
       "       4429.38177268, 4444.13767838, 4458.94274145, 4473.79712565,\n",
       "       4488.70099529, 4503.65451521, 4518.65785083, 4533.71116811,\n",
       "       4548.81463353, 4563.96841418, 4579.17267766, 4594.42759216,\n",
       "       4609.73332641, 4625.0900497 , 4640.49793192, 4655.95714347,\n",
       "       4671.46785537, 4687.03023917, 4702.64446702, 4718.31071162,\n",
       "       4734.02914627, 4749.79994483, 4765.62328173, 4781.49933202,\n",
       "       4797.42827128, 4813.41027573, 4829.44552213, 4845.53418785,\n",
       "       4861.67645086, 4877.87248971, 4894.12248354, 4910.42661209,\n",
       "       4926.78505572, 4943.19799536, 4959.66561257, 4976.18808948,\n",
       "       4992.76560886, 5009.39835408, 5026.08650912, 5042.83025855,\n",
       "       5059.6297876 , 5076.48528208, 5093.39692844, 5110.36491373,\n",
       "       5127.38942564, 5144.47065249, 5161.60878321, 5178.80400737,\n",
       "       5196.05651517, 5213.36649744, 5230.73414565, 5248.1596519 ,\n",
       "       5265.64320895, 5283.18501019, 5300.78524963, 5318.44412198,\n",
       "       5336.16182254, 5353.93854731, 5371.7744929 , 5389.66985662,\n",
       "       5407.6248364 , 5425.63963084, 5443.71443922, 5461.84946145,\n",
       "       5480.04489813, 5498.30095053, 5516.61782059, 5534.99571089,\n",
       "       5553.43482473, 5571.93536607, 5590.49753954, 5609.12155046,\n",
       "       5627.80760484, 5646.55590936, 5665.36667141, 5684.24009904,\n",
       "       5703.17640103, 5722.17578683, 5741.2384666 , 5760.3646512 ,\n",
       "       5779.55455217, 5798.80838179, 5818.12635302, 5837.50867954,\n",
       "       5856.95557575, 5876.46725675, 5896.04393835, 5915.68583712,\n",
       "       5935.39317029, 5955.16615587, 5975.00501256, 5994.90995981,\n",
       "       6014.88121779, 6034.91900739, 6055.02355027, 6075.1950688 ,\n",
       "       6095.43378611, 6115.73992606, 6136.11371325, 6156.55537305,\n",
       "       6177.06513156, 6197.64321565, 6218.28985294, 6239.00527179,\n",
       "       6259.78970135, 6280.64337152, 6301.56651296, 6322.55935711,\n",
       "       6343.62213617, 6364.75508312, 6385.95843172, 6407.23241651,\n",
       "       6428.57727278, 6449.99323666, 6471.48054501, 6493.03943552,\n",
       "       6514.67014665, 6536.37291767, 6558.14798862, 6579.99560038,\n",
       "       6601.91599459, 6623.90941373, 6645.97610107, 6668.11630069,\n",
       "       6690.33025748, 6712.61821717, 6734.98042627, 6757.41713215,\n",
       "       6779.92858298, 6802.51502776, 6825.17671633, 6847.91389935,\n",
       "       6870.72682831, 6893.61575556, 6916.58093428, 6939.62261849,\n",
       "       6962.74106305, 6985.93652368, 7009.20925696, 7032.5595203 ,\n",
       "       7055.98757198, 7079.49367116, 7103.07807783, 7126.74105286,\n",
       "       7150.482858  , 7174.30375585, 7198.20400991, 7222.18388453,\n",
       "       7246.24364497, 7270.38355736, 7294.6038887 , 7318.90490691,\n",
       "       7343.28688077, 7367.75008   , 7392.29477517, 7416.92123778,\n",
       "       7441.62974022, 7466.42055581, 7491.29395876, 7516.25022419,\n",
       "       7541.28962816, 7566.41244762, 7591.61896047, 7616.90944552,\n",
       "       7642.28418251, 7667.74345211, 7693.28753594, 7718.91671654,\n",
       "       7744.6312774 , 7770.43150296, 7796.31767859, 7822.29009063,\n",
       "       7848.34902636, 7874.49477402, 7900.72762282, 7927.04786293,\n",
       "       7953.45578546, 7979.95168254, 8006.53584723, 8033.20857358,\n",
       "       8059.97015664, 8086.8208924 , 8113.76107788, 8140.79101106,\n",
       "       8167.91099092, 8195.12131745, 8222.42229161, 8249.81421541,\n",
       "       8277.29739181, 8304.87212481, 8332.53871943, 8360.29748169,\n",
       "       8388.14871864, 8416.09273833, 8444.12984987, 8472.26036338,\n",
       "       8500.48459001, 8528.80284196, 8557.21543245, 8585.72267578])"
      ]
     },
     "execution_count": 52,
     "metadata": {},
     "output_type": "execute_result"
    }
   ],
   "source": [
    "a.wave"
   ]
  },
  {
   "cell_type": "code",
   "execution_count": 78,
   "metadata": {},
   "outputs": [],
   "source": [
    "import pandas as pd"
   ]
  },
  {
   "cell_type": "code",
   "execution_count": 81,
   "metadata": {},
   "outputs": [],
   "source": [
    "f = h5py.File('/home/kyle/Downloads/stella_yu_data.h5', 'r')"
   ]
  },
  {
   "cell_type": "code",
   "execution_count": 83,
   "metadata": {},
   "outputs": [
    {
     "data": {
      "text/plain": [
       "array([ True,  True,  True,  True, False,  True,  True, False,  True,\n",
       "       False,  True,  True,  True,  True,  True,  True,  True, False,\n",
       "        True,  True,  True,  True, False,  True,  True,  True,  True,\n",
       "       False,  True,  True,  True,  True,  True,  True,  True, False,\n",
       "       False,  True,  True,  True,  True, False,  True,  True, False,\n",
       "        True,  True,  True,  True,  True, False,  True,  True,  True,\n",
       "       False, False,  True, False, False,  True,  True,  True, False,\n",
       "        True,  True,  True,  True,  True,  True,  True,  True, False,\n",
       "        True,  True, False, False, False,  True,  True, False, False,\n",
       "       False, False, False,  True,  True,  True,  True,  True,  True,\n",
       "        True, False,  True,  True, False,  True,  True,  True,  True,\n",
       "        True,  True,  True,  True,  True,  True,  True,  True,  True,\n",
       "        True,  True,  True,  True,  True,  True,  True,  True,  True,\n",
       "        True,  True,  True, False,  True,  True,  True,  True,  True,\n",
       "        True,  True,  True,  True,  True,  True,  True,  True,  True,\n",
       "        True,  True,  True,  True, False,  True,  True,  True,  True,\n",
       "        True,  True,  True,  True, False,  True,  True,  True,  True,\n",
       "        True, False,  True,  True,  True,  True,  True, False,  True,\n",
       "       False,  True, False, False, False,  True, False, False, False,\n",
       "        True,  True])"
      ]
     },
     "execution_count": 83,
     "metadata": {},
     "output_type": "execute_result"
    }
   ],
   "source": [
    "np.array(f['mag_mask'])"
   ]
  },
  {
   "cell_type": "code",
   "execution_count": 80,
   "metadata": {},
   "outputs": [
    {
     "ename": "KeyError",
     "evalue": "'No object named mask in the file'",
     "output_type": "error",
     "traceback": [
      "\u001b[0;31m---------------------------------------------------------------------------\u001b[0m",
      "\u001b[0;31mKeyError\u001b[0m                                  Traceback (most recent call last)",
      "\u001b[0;32m<ipython-input-80-5ec9c3bed852>\u001b[0m in \u001b[0;36m<module>\u001b[0;34m\u001b[0m\n\u001b[0;32m----> 1\u001b[0;31m \u001b[0mpd\u001b[0m\u001b[0;34m.\u001b[0m\u001b[0mread_hdf\u001b[0m\u001b[0;34m(\u001b[0m\u001b[0;34m'/home/kyle/Downloads/stella_yu_data.h5'\u001b[0m\u001b[0;34m,\u001b[0m \u001b[0;34m'mask'\u001b[0m\u001b[0;34m)\u001b[0m\u001b[0;34m\u001b[0m\u001b[0;34m\u001b[0m\u001b[0m\n\u001b[0m",
      "\u001b[0;32m~/packages/conda/lib/python3.7/site-packages/pandas/io/pytables.py\u001b[0m in \u001b[0;36mread_hdf\u001b[0;34m(path_or_buf, key, mode, **kwargs)\u001b[0m\n\u001b[1;32m    405\u001b[0m                     )\n\u001b[1;32m    406\u001b[0m             \u001b[0mkey\u001b[0m \u001b[0;34m=\u001b[0m \u001b[0mcandidate_only_group\u001b[0m\u001b[0;34m.\u001b[0m\u001b[0m_v_pathname\u001b[0m\u001b[0;34m\u001b[0m\u001b[0;34m\u001b[0m\u001b[0m\n\u001b[0;32m--> 407\u001b[0;31m         \u001b[0;32mreturn\u001b[0m \u001b[0mstore\u001b[0m\u001b[0;34m.\u001b[0m\u001b[0mselect\u001b[0m\u001b[0;34m(\u001b[0m\u001b[0mkey\u001b[0m\u001b[0;34m,\u001b[0m \u001b[0mauto_close\u001b[0m\u001b[0;34m=\u001b[0m\u001b[0mauto_close\u001b[0m\u001b[0;34m,\u001b[0m \u001b[0;34m**\u001b[0m\u001b[0mkwargs\u001b[0m\u001b[0;34m)\u001b[0m\u001b[0;34m\u001b[0m\u001b[0;34m\u001b[0m\u001b[0m\n\u001b[0m\u001b[1;32m    408\u001b[0m     \u001b[0;32mexcept\u001b[0m \u001b[0;34m(\u001b[0m\u001b[0mValueError\u001b[0m\u001b[0;34m,\u001b[0m \u001b[0mTypeError\u001b[0m\u001b[0;34m,\u001b[0m \u001b[0mKeyError\u001b[0m\u001b[0;34m)\u001b[0m\u001b[0;34m:\u001b[0m\u001b[0;34m\u001b[0m\u001b[0;34m\u001b[0m\u001b[0m\n\u001b[1;32m    409\u001b[0m         \u001b[0;31m# if there is an error, close the store\u001b[0m\u001b[0;34m\u001b[0m\u001b[0;34m\u001b[0m\u001b[0;34m\u001b[0m\u001b[0m\n",
      "\u001b[0;32m~/packages/conda/lib/python3.7/site-packages/pandas/io/pytables.py\u001b[0m in \u001b[0;36mselect\u001b[0;34m(self, key, where, start, stop, columns, iterator, chunksize, auto_close, **kwargs)\u001b[0m\n\u001b[1;32m    755\u001b[0m         \u001b[0mgroup\u001b[0m \u001b[0;34m=\u001b[0m \u001b[0mself\u001b[0m\u001b[0;34m.\u001b[0m\u001b[0mget_node\u001b[0m\u001b[0;34m(\u001b[0m\u001b[0mkey\u001b[0m\u001b[0;34m)\u001b[0m\u001b[0;34m\u001b[0m\u001b[0;34m\u001b[0m\u001b[0m\n\u001b[1;32m    756\u001b[0m         \u001b[0;32mif\u001b[0m \u001b[0mgroup\u001b[0m \u001b[0;32mis\u001b[0m \u001b[0;32mNone\u001b[0m\u001b[0;34m:\u001b[0m\u001b[0;34m\u001b[0m\u001b[0;34m\u001b[0m\u001b[0m\n\u001b[0;32m--> 757\u001b[0;31m             \u001b[0;32mraise\u001b[0m \u001b[0mKeyError\u001b[0m\u001b[0;34m(\u001b[0m\u001b[0;34m\"No object named {key} in the file\"\u001b[0m\u001b[0;34m.\u001b[0m\u001b[0mformat\u001b[0m\u001b[0;34m(\u001b[0m\u001b[0mkey\u001b[0m\u001b[0;34m=\u001b[0m\u001b[0mkey\u001b[0m\u001b[0;34m)\u001b[0m\u001b[0;34m)\u001b[0m\u001b[0;34m\u001b[0m\u001b[0;34m\u001b[0m\u001b[0m\n\u001b[0m\u001b[1;32m    758\u001b[0m \u001b[0;34m\u001b[0m\u001b[0m\n\u001b[1;32m    759\u001b[0m         \u001b[0;31m# create the storer and axes\u001b[0m\u001b[0;34m\u001b[0m\u001b[0;34m\u001b[0m\u001b[0;34m\u001b[0m\u001b[0m\n",
      "\u001b[0;31mKeyError\u001b[0m: 'No object named mask in the file'"
     ]
    }
   ],
   "source": [
    "pd.read_hdf('/home/kyle/Downloads/stella_yu_data.h5', 'mask')"
   ]
  },
  {
   "cell_type": "code",
   "execution_count": null,
   "metadata": {},
   "outputs": [],
   "source": [
    "a = pd.fr"
   ]
  },
  {
   "cell_type": "code",
   "execution_count": 87,
   "metadata": {},
   "outputs": [
    {
     "name": "stderr",
     "output_type": "stream",
     "text": [
      "/home/kyle/packages/conda/lib/python3.7/site-packages/ipykernel_launcher.py:1: RuntimeWarning: More than 20 figures have been opened. Figures created through the pyplot interface (`matplotlib.pyplot.figure`) are retained until explicitly closed and may consume too much memory. (To control this warning, see the rcParam `figure.max_open_warning`).\n",
      "  \"\"\"Entry point for launching an IPython kernel.\n"
     ]
    },
    {
     "data": {
      "application/vnd.jupyter.widget-view+json": {
       "model_id": "3d0f54adab2c4f9b98c4db6f03b081e1",
       "version_major": 2,
       "version_minor": 0
      },
      "text/plain": [
       "Canvas(toolbar=Toolbar(toolitems=[('Home', 'Reset original view', 'home', 'home'), ('Back', 'Back to previous …"
      ]
     },
     "metadata": {},
     "output_type": "display_data"
    },
    {
     "data": {
      "text/plain": [
       "<matplotlib.collections.PathCollection at 0x7fb797cddd10>"
      ]
     },
     "execution_count": 87,
     "metadata": {},
     "output_type": "execute_result"
    }
   ],
   "source": [
    "plt.figure()\n",
    "m = (a.rbtl_colors < 0.5) & (a.redshift_errs < 0.004) & a.uncertainty_mask\n",
    "plt.scatter(a.redshifts[m], a.rbtl_mags[m], c='k', s=20)"
   ]
  },
  {
   "cell_type": "code",
   "execution_count": null,
   "metadata": {},
   "outputs": [],
   "source": []
  },
  {
   "cell_type": "markdown",
   "metadata": {},
   "source": [
    "## Kara exposure list dump"
   ]
  },
  {
   "cell_type": "code",
   "execution_count": 91,
   "metadata": {},
   "outputs": [],
   "source": [
    "all_obs = [i['obs.exp'] for j in a.targets for i in j.spectra]"
   ]
  },
  {
   "cell_type": "code",
   "execution_count": 94,
   "metadata": {},
   "outputs": [
    {
     "data": {
      "text/plain": [
       "2969"
      ]
     },
     "execution_count": 94,
     "metadata": {},
     "output_type": "execute_result"
    }
   ],
   "source": [
    "len(all_obs)"
   ]
  },
  {
   "cell_type": "code",
   "execution_count": 92,
   "metadata": {},
   "outputs": [],
   "source": [
    "with open('./spectra_list.txt', 'w') as outfile:\n",
    "    for line in all_obs:\n",
    "        print(line, file=outfile)"
   ]
  }
 ],
 "metadata": {
  "kernelspec": {
   "display_name": "Python 3",
   "language": "python",
   "name": "python3"
  },
  "language_info": {
   "codemirror_mode": {
    "name": "ipython",
    "version": 3
   },
   "file_extension": ".py",
   "mimetype": "text/x-python",
   "name": "python",
   "nbconvert_exporter": "python",
   "pygments_lexer": "ipython3",
   "version": "3.7.4"
  },
  "toc-autonumbering": true,
  "toc-showmarkdowntxt": false
 },
 "nbformat": 4,
 "nbformat_minor": 4
}
