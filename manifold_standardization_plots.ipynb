{
 "cells": [
  {
   "cell_type": "markdown",
   "metadata": {},
   "source": [
    "# Setup"
   ]
  },
  {
   "cell_type": "code",
   "execution_count": 1,
   "metadata": {},
   "outputs": [
    {
     "name": "stderr",
     "output_type": "stream",
     "text": [
      "/home/kyle/supernova/snfactory/manifold_twins/analysis/manifold_twins.py:15: TqdmExperimentalWarning: Using `tqdm.autonotebook.tqdm` in notebook mode. Use `tqdm.tqdm` instead to force console mode (e.g. in jupyter console)\n",
      "  from tqdm.autonotebook import tqdm\n"
     ]
    }
   ],
   "source": [
    "from manifold_twins import ManifoldTwinsAnalysis\n",
    "from matplotlib import pyplot as plt\n",
    "import numpy as np\n",
    "from tqdm.notebook import tqdm\n",
    "from idrtools import math\n",
    "from utils import frac_to_mag\n",
    "import utils"
   ]
  },
  {
   "cell_type": "code",
   "execution_count": 2,
   "metadata": {},
   "outputs": [],
   "source": [
    "%matplotlib widget"
   ]
  },
  {
   "cell_type": "code",
   "execution_count": 3,
   "metadata": {},
   "outputs": [
    {
     "name": "stdout",
     "output_type": "stream",
     "text": [
      "Loading dataset...\n",
      "    IDR:          BLACKSTON\n",
      "    Phase range: [-5.0, 5.0] days\n",
      "    Bin velocity: 1000.0\n"
     ]
    },
    {
     "data": {
      "application/vnd.jupyter.widget-view+json": {
       "model_id": "f3180e95303b47c585b7883f18ea3761",
       "version_major": 2,
       "version_minor": 0
      },
      "text/plain": [
       "HBox(children=(FloatProgress(value=0.0, max=415.0), HTML(value='')))"
      ]
     },
     "metadata": {},
     "output_type": "display_data"
    },
    {
     "name": "stdout",
     "output_type": "stream",
     "text": [
      "\n",
      "Estimating the spectra at maximum light...\n",
      "    Loaded cached stan model\n",
      "    Using saved stan result\n",
      "Reading between the lines...\n",
      "    Loaded cached stan model\n",
      "    Using saved stan result\n",
      "Building masks...\n",
      "    Masking 30/203 targets whose uncertainty power is \n",
      "    more than 0.100 of the intrinsic power.\n",
      "Generating the manifold learning embedding...\n",
      "Loading other indicators of diversity...\n"
     ]
    },
    {
     "name": "stderr",
     "output_type": "stream",
     "text": [
      "/home/kyle/packages/conda/lib/python3.8/site-packages/numpy/ma/core.py:2794: UserWarning: Warning: converting a masked element to nan.\n",
      "  _data = np.array(data, dtype=dtype, copy=copy,\n",
      "/home/kyle/packages/conda/lib/python3.8/site-packages/george/kernels.py:95: RuntimeWarning: divide by zero encountered in log\n",
      "  log_constant = np.log(float(b)/self.ndim)\n"
     ]
    },
    {
     "name": "stdout",
     "output_type": "stream",
     "text": [
      "Fitting RBTL Twins Manifold GP...\n",
      "GP magnitude residuals fit:\n",
      "    Fit result:           b'CONVERGENCE: REL_REDUCTION_OF_F_<=_FACTR*EPSMCH'\n",
      "    intrinsic_dispersion      0.073 ± 0.008\n",
      "    gp_kernel_amplitude       0.164 ± 0.082\n",
      "    gp_length_scale           5.541 ± 3.315\n",
      "    offset                    -0.101 ± 0.124\n",
      "    covariate_slope_0         -0.122 ± 0.051\n",
      "    Fit NMAD                  0.083 mag\n",
      "    Fit std                   0.101 mag\n",
      "Fitting SALT2 Twins Manifold GP...\n",
      "GP magnitude residuals fit:\n",
      "    Fit result:           b'CONVERGENCE: REL_REDUCTION_OF_F_<=_FACTR*EPSMCH'\n",
      "    intrinsic_dispersion      0.085 ± 0.010\n",
      "    gp_kernel_amplitude       0.380 ± 0.231\n",
      "    gp_length_scale           8.631 ± 5.329\n",
      "    offset                    6.956 ± 0.299\n",
      "    covariate_slope_0         2.810 ± 0.153\n",
      "    Fit NMAD                  0.105 mag\n",
      "    Fit std                   0.118 mag\n",
      "Calculating SALT2 magnitude residuals...\n",
      "SALT2 magnitude residuals fit: \n",
      "    ref_mag: 7.051\n",
      "    alpha:   0.148\n",
      "    beta:    2.706\n",
      "    σ_int:   0.118\n",
      "    RMS:     0.140\n",
      "    NMAD:    0.106\n",
      "    WRMS:    0.140\n",
      "Done!\n"
     ]
    }
   ],
   "source": [
    "a = ManifoldTwinsAnalysis()\n",
    "a.settings['figure_directory'] = './output_standardization/figures/'\n",
    "a.settings['latex_directory'] = './output_standardization/latex/'\n",
    "a.run_analysis()"
   ]
  },
  {
   "cell_type": "markdown",
   "metadata": {},
   "source": [
    "# Sample selection and attrition"
   ]
  },
  {
   "cell_type": "markdown",
   "metadata": {},
   "source": [
    "## Look at which SNe~Ia are included or rejected"
   ]
  },
  {
   "cell_type": "code",
   "execution_count": 4,
   "metadata": {},
   "outputs": [
    {
     "data": {
      "application/vnd.jupyter.widget-view+json": {
       "model_id": "e96ab2b7aedd4bbf87b6c99150278bf5",
       "version_major": 2,
       "version_minor": 0
      },
      "text/plain": [
       "Canvas(toolbar=Toolbar(toolitems=[('Home', 'Reset original view', 'home', 'home'), ('Back', 'Back to previous …"
      ]
     },
     "metadata": {},
     "output_type": "display_data"
    }
   ],
   "source": [
    "# Raw RBTL magnitude\n",
    "plt.figure()\n",
    "\n",
    "plt.scatter(a.redshifts[a.uncertainty_mask], a.rbtl_mags[a.uncertainty_mask], s=15, c='C3', label='Supernovae rejected by cuts')\n",
    "plt.scatter(a.redshifts[a.uncertainty_mask & a.redshift_color_mask], a.rbtl_mags[a.uncertainty_mask & a.redshift_color_mask], s=15, c='C0', label='Supernovae passing cuts')\n",
    "\n",
    "z_range = np.linspace(0.001, 0.09, 100)\n",
    "pec_vel_disp = a.calculate_peculiar_velocity_uncertainties(z_range)\n",
    "plt.fill_between(z_range, -pec_vel_disp, pec_vel_disp, alpha=0.2, label='Peculiar velocity dispersion')\n",
    "plt.axvline(0.02, lw=1, ls='--', c='k', label='Redshift cutoff')\n",
    "\n",
    "plt.xlim(0.001, 0.09)\n",
    "plt.ylim(-1, 1.5)\n",
    "plt.xlabel('Redshift')\n",
    "plt.ylabel('RBTL measured magnitude')\n",
    "plt.legend()\n",
    "a.savefig('rbtl_magnitude.pdf')"
   ]
  },
  {
   "cell_type": "code",
   "execution_count": 5,
   "metadata": {},
   "outputs": [
    {
     "data": {
      "application/vnd.jupyter.widget-view+json": {
       "model_id": "ff146fb672ea49168bac45a71746ea1d",
       "version_major": 2,
       "version_minor": 0
      },
      "text/plain": [
       "Canvas(toolbar=Toolbar(toolitems=[('Home', 'Reset original view', 'home', 'home'), ('Back', 'Back to previous …"
      ]
     },
     "metadata": {},
     "output_type": "display_data"
    }
   ],
   "source": [
    "# Corrected RBTL magnitude\n",
    "plt.figure()\n",
    "\n",
    "plt.scatter(\n",
    "    a.redshifts[a.uncertainty_mask & a.redshift_color_mask],\n",
    "    a.residuals_rbtl_gp.residuals[a.uncertainty_mask & a.redshift_color_mask],\n",
    "    s=15, c='C0', label='Supernovae passing cuts'\n",
    ")\n",
    "# plt.scatter(\n",
    "    # a.redshifts[a.uncertainty_mask & ~a.redshift_color_mask],\n",
    "    # a.residuals_rbtl_gp.residuals[a.uncertainty_mask & ~a.redshift_color_mask],\n",
    "    # s=15, c='C3', label='Supernovae rejected by cuts'\n",
    "# )\n",
    "plt.xlabel('Redshift')\n",
    "plt.ylabel('RBTL corrected magnitude')\n",
    "\n",
    "z_range = np.linspace(0.001, 0.09, 100)\n",
    "pec_vel_disp = a.calculate_peculiar_velocity_uncertainties(z_range)\n",
    "plt.fill_between(z_range, -pec_vel_disp, pec_vel_disp, alpha=0.2, label='Peculiar velocity dispersion')\n",
    "# plt.fill_between(z_range, -2*pec_vel_disp, 2*pec_vel_disp, alpha=0.1, facecolor='C0')\n",
    "# plt.fill_between(z_range, -3*pec_vel_disp, 3*pec_vel_disp, alpha=0.1, facecolor='C0')\n",
    "\n",
    "plt.legend()\n",
    "plt.xlim(0.01, 0.09)\n",
    "plt.ylim(-0.5, 0.5)\n",
    "a.savefig('rbtl_corr_magnitude_cut.pdf')"
   ]
  },
  {
   "cell_type": "code",
   "execution_count": 20,
   "metadata": {},
   "outputs": [
    {
     "data": {
      "application/vnd.jupyter.widget-view+json": {
       "model_id": "4fcf1df15c4942739e5bc45f4592fc6c",
       "version_major": 2,
       "version_minor": 0
      },
      "text/plain": [
       "Canvas(toolbar=Toolbar(toolitems=[('Home', 'Reset original view', 'home', 'home'), ('Back', 'Back to previous …"
      ]
     },
     "metadata": {},
     "output_type": "display_data"
    }
   ],
   "source": [
    "# Corrected RBTL magnitude\n",
    "plt.figure()\n",
    "\n",
    "base_mask = a.uncertainty_mask & (a.redshift_errs < 0.004) & ((a.rbtl_colors - np.median(a.rbtl_colors)) < 0.5)\n",
    "\n",
    "plt.scatter(\n",
    "    a.redshifts[base_mask],\n",
    "    a.residuals_rbtl_gp.residuals[base_mask],\n",
    "    s=15, c='C0', label='Supernovae passing cuts'\n",
    ")\n",
    "# plt.scatter(\n",
    "    # a.redshifts[a.uncertainty_mask & ~a.redshift_color_mask],\n",
    "    # a.residuals_rbtl_gp.residuals[a.uncertainty_mask & ~a.redshift_color_mask],\n",
    "    # s=15, c='C3', label='Supernovae rejected by cuts'\n",
    "# )\n",
    "plt.xlabel('Redshift')\n",
    "plt.ylabel('RBTL corrected magnitude')\n",
    "\n",
    "math.plot_binned_rms(\n",
    "    a.redshifts[base_mask],\n",
    "    a.residuals_rbtl_gp.residuals[base_mask],\n",
    "    c='C3',\n",
    "    label='Binned RMS'\n",
    ")\n",
    "\n",
    "# z_range = np.linspace(0.001, 0.09, 100)\n",
    "# pec_vel_disp = a.calculate_peculiar_velocity_uncertainties(z_range)\n",
    "# plt.fill_between(z_range, -pec_vel_disp, pec_vel_disp, alpha=0.2, label='Peculiar velocity dispersion')\n",
    "# plt.fill_between(z_range, -2*pec_vel_disp, 2*pec_vel_disp, alpha=0.1, facecolor='C0')\n",
    "# plt.fill_between(z_range, -3*pec_vel_disp, 3*pec_vel_disp, alpha=0.1, facecolor='C0')\n",
    "\n",
    "plt.legend()\n",
    "# plt.xlim(0.01, 0.09)\n",
    "# plt.ylim(-0.5, 0.5)\n",
    "a.savefig('rbtl_corr_magnitude_cut.pdf')"
   ]
  },
  {
   "cell_type": "code",
   "execution_count": 6,
   "metadata": {},
   "outputs": [
    {
     "data": {
      "application/vnd.jupyter.widget-view+json": {
       "model_id": "3379c27ce6834d519ea27bf00173e7ab",
       "version_major": 2,
       "version_minor": 0
      },
      "text/plain": [
       "Canvas(toolbar=Toolbar(toolitems=[('Home', 'Reset original view', 'home', 'home'), ('Back', 'Back to previous …"
      ]
     },
     "metadata": {},
     "output_type": "display_data"
    },
    {
     "name": "stderr",
     "output_type": "stream",
     "text": [
      "<ipython-input-6-fd75dc86ab1b>:20: UserWarning: This figure was using constrained_layout==True, but that is incompatible with subplots_adjust and or tight_layout: setting constrained_layout==False. \n",
      "  plt.tight_layout()\n"
     ]
    }
   ],
   "source": [
    "plt.figure()\n",
    "\n",
    "base_mask = a.uncertainty_mask & a.salt_mask\n",
    "salt_hr = a.residuals_salt['residuals']\n",
    "\n",
    "plt.scatter(a.redshifts[base_mask], salt_hr[base_mask], s=15, c='C3', label='Supernovae rejected by cuts')\n",
    "plt.scatter(a.redshifts[base_mask & a.redshift_color_mask], salt_hr[base_mask & a.redshift_color_mask], s=15, c='C0', label='Supernovae passing cuts')\n",
    "\n",
    "z_range = np.linspace(0.001, 0.09, 100)\n",
    "pec_vel_disp = 0.00217 / z_range\n",
    "plt.fill_between(z_range, -pec_vel_disp, pec_vel_disp, alpha=0.2, label='Peculiar velocity dispersion')\n",
    "plt.axvline(0.02, lw=1, ls='--', c='k', label='Redshift cutoff')\n",
    "\n",
    "plt.xlim(0.001, 0.09)\n",
    "# plt.ylim(-1, 1.5)\n",
    "plt.ylim(-1, 2.)\n",
    "plt.xlabel('Redshift')\n",
    "plt.ylabel('SALT2 measured magnitude')\n",
    "plt.legend()\n",
    "plt.tight_layout()\n",
    "a.savefig('salt_magnitude_redshift.pdf')"
   ]
  },
  {
   "cell_type": "markdown",
   "metadata": {},
   "source": [
    "# Standardization"
   ]
  },
  {
   "cell_type": "markdown",
   "metadata": {},
   "source": [
    "## Raw magnitudes"
   ]
  },
  {
   "cell_type": "code",
   "execution_count": 9,
   "metadata": {},
   "outputs": [
    {
     "data": {
      "application/vnd.jupyter.widget-view+json": {
       "model_id": "36114a74e7594c6abb3b304ab20c6128",
       "version_major": 2,
       "version_minor": 0
      },
      "text/plain": [
       "Canvas(toolbar=Toolbar(toolitems=[('Home', 'Reset original view', 'home', 'home'), ('Back', 'Back to previous …"
      ]
     },
     "metadata": {},
     "output_type": "display_data"
    }
   ],
   "source": [
    "a.scatter_combined(a.rbtl_mags, a.uncertainty_mask & a.redshift_color_mask, vmin=-0.3, vmax=0.3, label='Magnitude residuals', invert_colorbar=True)\n",
    "a.savefig('embedding_residual_magnitudes.pdf')"
   ]
  },
  {
   "cell_type": "markdown",
   "metadata": {},
   "source": [
    "## GP standardization"
   ]
  },
  {
   "cell_type": "code",
   "execution_count": 24,
   "metadata": {},
   "outputs": [
    {
     "data": {
      "application/vnd.jupyter.widget-view+json": {
       "model_id": "03c4f4a0908246d4865561fdb110244f",
       "version_major": 2,
       "version_minor": 0
      },
      "text/plain": [
       "Canvas(toolbar=Toolbar(toolitems=[('Home', 'Reset original view', 'home', 'home'), ('Back', 'Back to previous …"
      ]
     },
     "metadata": {},
     "output_type": "display_data"
    }
   ],
   "source": [
    "a.residuals_rbtl_gp.plot()\n",
    "a.savefig('rbtl_gp_predictions.pdf')"
   ]
  },
  {
   "cell_type": "markdown",
   "metadata": {},
   "source": [
    "## Recovering RV"
   ]
  },
  {
   "cell_type": "code",
   "execution_count": 18,
   "metadata": {},
   "outputs": [],
   "source": [
    "def solve_rv(fiducial_rv, delta):\n",
    "    ref_extinction = extinction.fitzpatrick99(a.wave, 1., fiducial_rv)\n",
    "    def to_min(x):\n",
    "        return np.sum((extinction.fitzpatrick99(a.wave, x[0], x[1]) - (ref_extinction + delta))**2)\n",
    "    res = minimize(to_min, [1., fiducial_rv])\n",
    "    return res.x[1]"
   ]
  },
  {
   "cell_type": "code",
   "execution_count": 19,
   "metadata": {},
   "outputs": [
    {
     "data": {
      "text/plain": [
       "{'intrinsic_dispersion': 0.0728274247392525,\n",
       " 'gp_kernel_amplitude': 0.16389563996127055,\n",
       " 'gp_length_scale': 5.540579351001503,\n",
       " 'offset': -0.1007359617056969,\n",
       " 'covariate_slope_0': -0.12204168642070105}"
      ]
     },
     "execution_count": 19,
     "metadata": {},
     "output_type": "execute_result"
    }
   ],
   "source": [
    "a.residuals_rbtl_gp.parameter_dict"
   ]
  },
  {
   "cell_type": "code",
   "execution_count": 20,
   "metadata": {},
   "outputs": [
    {
     "ename": "NameError",
     "evalue": "name 'extinction' is not defined",
     "output_type": "error",
     "traceback": [
      "\u001b[0;31m---------------------------------------------------------------------------\u001b[0m",
      "\u001b[0;31mNameError\u001b[0m                                 Traceback (most recent call last)",
      "\u001b[0;32m<ipython-input-20-5c9a33f7d150>\u001b[0m in \u001b[0;36m<module>\u001b[0;34m\u001b[0m\n\u001b[0;32m----> 1\u001b[0;31m \u001b[0msolve_rv\u001b[0m\u001b[0;34m(\u001b[0m\u001b[0ma\u001b[0m\u001b[0;34m.\u001b[0m\u001b[0msettings\u001b[0m\u001b[0;34m[\u001b[0m\u001b[0;34m'rbtl_fiducial_rv'\u001b[0m\u001b[0;34m]\u001b[0m\u001b[0;34m,\u001b[0m \u001b[0ma\u001b[0m\u001b[0;34m.\u001b[0m\u001b[0mresiduals_rbtl_gp\u001b[0m\u001b[0;34m.\u001b[0m\u001b[0mparameter_dict\u001b[0m\u001b[0;34m[\u001b[0m\u001b[0;34m'covariate_slope_0'\u001b[0m\u001b[0;34m]\u001b[0m\u001b[0;34m)\u001b[0m\u001b[0;34m\u001b[0m\u001b[0;34m\u001b[0m\u001b[0m\n\u001b[0m",
      "\u001b[0;32m<ipython-input-18-d550362ef7dc>\u001b[0m in \u001b[0;36msolve_rv\u001b[0;34m(fiducial_rv, delta)\u001b[0m\n\u001b[1;32m      1\u001b[0m \u001b[0;32mdef\u001b[0m \u001b[0msolve_rv\u001b[0m\u001b[0;34m(\u001b[0m\u001b[0mfiducial_rv\u001b[0m\u001b[0;34m,\u001b[0m \u001b[0mdelta\u001b[0m\u001b[0;34m)\u001b[0m\u001b[0;34m:\u001b[0m\u001b[0;34m\u001b[0m\u001b[0;34m\u001b[0m\u001b[0m\n\u001b[0;32m----> 2\u001b[0;31m     \u001b[0mref_extinction\u001b[0m \u001b[0;34m=\u001b[0m \u001b[0mextinction\u001b[0m\u001b[0;34m.\u001b[0m\u001b[0mfitzpatrick99\u001b[0m\u001b[0;34m(\u001b[0m\u001b[0ma\u001b[0m\u001b[0;34m.\u001b[0m\u001b[0mwave\u001b[0m\u001b[0;34m,\u001b[0m \u001b[0;36m1.\u001b[0m\u001b[0;34m,\u001b[0m \u001b[0mfiducial_rv\u001b[0m\u001b[0;34m)\u001b[0m\u001b[0;34m\u001b[0m\u001b[0;34m\u001b[0m\u001b[0m\n\u001b[0m\u001b[1;32m      3\u001b[0m     \u001b[0;32mdef\u001b[0m \u001b[0mto_min\u001b[0m\u001b[0;34m(\u001b[0m\u001b[0mx\u001b[0m\u001b[0;34m)\u001b[0m\u001b[0;34m:\u001b[0m\u001b[0;34m\u001b[0m\u001b[0;34m\u001b[0m\u001b[0m\n\u001b[1;32m      4\u001b[0m         \u001b[0;32mreturn\u001b[0m \u001b[0mnp\u001b[0m\u001b[0;34m.\u001b[0m\u001b[0msum\u001b[0m\u001b[0;34m(\u001b[0m\u001b[0;34m(\u001b[0m\u001b[0mextinction\u001b[0m\u001b[0;34m.\u001b[0m\u001b[0mfitzpatrick99\u001b[0m\u001b[0;34m(\u001b[0m\u001b[0ma\u001b[0m\u001b[0;34m.\u001b[0m\u001b[0mwave\u001b[0m\u001b[0;34m,\u001b[0m \u001b[0mx\u001b[0m\u001b[0;34m[\u001b[0m\u001b[0;36m0\u001b[0m\u001b[0;34m]\u001b[0m\u001b[0;34m,\u001b[0m \u001b[0mx\u001b[0m\u001b[0;34m[\u001b[0m\u001b[0;36m1\u001b[0m\u001b[0;34m]\u001b[0m\u001b[0;34m)\u001b[0m \u001b[0;34m-\u001b[0m \u001b[0;34m(\u001b[0m\u001b[0mref_extinction\u001b[0m \u001b[0;34m+\u001b[0m \u001b[0mdelta\u001b[0m\u001b[0;34m)\u001b[0m\u001b[0;34m)\u001b[0m\u001b[0;34m**\u001b[0m\u001b[0;36m2\u001b[0m\u001b[0;34m)\u001b[0m\u001b[0;34m\u001b[0m\u001b[0;34m\u001b[0m\u001b[0m\n\u001b[1;32m      5\u001b[0m     \u001b[0mres\u001b[0m \u001b[0;34m=\u001b[0m \u001b[0mminimize\u001b[0m\u001b[0;34m(\u001b[0m\u001b[0mto_min\u001b[0m\u001b[0;34m,\u001b[0m \u001b[0;34m[\u001b[0m\u001b[0;36m1.\u001b[0m\u001b[0;34m,\u001b[0m \u001b[0mfiducial_rv\u001b[0m\u001b[0;34m]\u001b[0m\u001b[0;34m)\u001b[0m\u001b[0;34m\u001b[0m\u001b[0;34m\u001b[0m\u001b[0m\n",
      "\u001b[0;31mNameError\u001b[0m: name 'extinction' is not defined"
     ]
    }
   ],
   "source": [
    "solve_rv(a.settings['rbtl_fiducial_rv'], a.residuals_rbtl_gp.parameter_dict['covariate_slope_0'])"
   ]
  },
  {
   "cell_type": "code",
   "execution_count": 21,
   "metadata": {},
   "outputs": [
    {
     "name": "stdout",
     "output_type": "stream",
     "text": [
      "[-0.10648234]\n"
     ]
    },
    {
     "data": {
      "text/plain": [
       "2.5337939776375853"
      ]
     },
     "execution_count": 21,
     "metadata": {},
     "output_type": "execute_result"
    }
   ],
   "source": [
    "# Simulate my procedure for recovering RV\n",
    "import extinction\n",
    "from astropy.table import Table\n",
    "from scipy.optimize import minimize\n",
    "\n",
    "true_rv = 2.5\n",
    "fiducial_rv = 2.9\n",
    "ref_extinction = extinction.fitzpatrick99(a.wave, 1., fiducial_rv)\n",
    "\n",
    "fits = []\n",
    "\n",
    "# weights = np.ones(len(a.wave))\n",
    "weights = 1 / a.rbtl_result['fractional_dispersion']**2\n",
    "\n",
    "for i in range(100):\n",
    "    av = np.random.normal(0, 0.3)\n",
    "    sim_extinction = extinction.fitzpatrick99(a.wave, av, true_rv)\n",
    "\n",
    "    def to_min(x):\n",
    "        return np.sum(weights * (x[0] + x[1] * ref_extinction - sim_extinction)**2)\n",
    "    \n",
    "    res = minimize(to_min, [0., 0.])\n",
    "    \n",
    "    fits.append({\n",
    "        'true_av': av,\n",
    "        'fit_m': res.x[0],\n",
    "        'fit_av': res.x[1],\n",
    "    })\n",
    "\n",
    "fits = Table(fits)\n",
    "\n",
    "# Recover RV\n",
    "def to_min(x):\n",
    "    return np.sum((fits['fit_m'] - x[0] * fits['fit_av'])**2)\n",
    "\n",
    "res = minimize(to_min, [0.])\n",
    "print(res.x)\n",
    "\n",
    "solve_rv(fiducial_rv, res.x[0])"
   ]
  },
  {
   "cell_type": "code",
   "execution_count": 22,
   "metadata": {},
   "outputs": [
    {
     "data": {
      "text/plain": [
       "odict_keys(['mean_flux', 'fractional_dispersion', 'colors_raw', 'magnitudes_raw', 'model_diffs', 'model_scales', 'model_flux', 'model_fluxerr', 'colors', 'magnitudes'])"
      ]
     },
     "execution_count": 22,
     "metadata": {},
     "output_type": "execute_result"
    }
   ],
   "source": [
    "a.rbtl_result.keys()"
   ]
  },
  {
   "cell_type": "markdown",
   "metadata": {},
   "source": [
    "## Standardization parameter dump"
   ]
  },
  {
   "cell_type": "code",
   "execution_count": 5,
   "metadata": {},
   "outputs": [
    {
     "name": "stdout",
     "output_type": "stream",
     "text": [
      "\\newcommand{\\rawrbtlmagstd}{0.131 $\\pm$ 0.010}\n",
      "\\newcommand{\\rawrbtlmagnmad}{0.108 $\\pm$ 0.013}\n",
      "\\newcommand{\\rawrbtlmagstdsaltcuts}{0.131 $\\pm$ 0.011}\n",
      "\\newcommand{\\rawrbtlmagnmadsaltcuts}{0.111 $\\pm$ 0.012}\n",
      "\n",
      "\\newcommand{\\rbtlgprms}{0.101 $\\pm$ 0.007}\n",
      "\\newcommand{\\rbtlgpnmad}{0.083 $\\pm$ 0.010}\n",
      "\\newcommand{\\rbtlgpintdisp}{0.073 $\\pm$ 0.008}\n",
      "\\newcommand{\\rbtlgpkernelamp}{0.164 $\\pm$ 0.082}\n",
      "\\newcommand{\\rbtlgpkernellengthscale}{5.54 $\\pm$ 3.32}\n",
      "\\newcommand{\\rbtlgpoffset}{-0.101 $\\pm$ 0.124}\n",
      "\\newcommand{\\rbtlgprv}{2.40 $\\pm$ 0.16}\n"
     ]
    },
    {
     "name": "stderr",
     "output_type": "stream",
     "text": [
      "/home/kyle/packages/conda/lib/python3.8/site-packages/george/kernels.py:95: RuntimeWarning: divide by zero encountered in log\n",
      "  log_constant = np.log(float(b)/self.ndim)\n"
     ]
    },
    {
     "name": "stdout",
     "output_type": "stream",
     "text": [
      "GP magnitude residuals fit:\n",
      "    Fit result:           b'CONVERGENCE: REL_REDUCTION_OF_F_<=_FACTR*EPSMCH'\n",
      "    intrinsic_dispersion      0.072 ± 0.008\n",
      "    gp_kernel_amplitude       0.147 ± 0.067\n",
      "    gp_length_scale           4.785 ± 2.673\n",
      "    offset                    -0.113 ± 0.109\n",
      "    covariate_slope_0         -0.143 ± 0.052\n",
      "    Fit NMAD                  0.084 mag\n",
      "    Fit std                   0.100 mag\n",
      "\n",
      "\\newcommand{\\rbtlgprmssaltcut}{0.100 $\\pm$ 0.008}\n",
      "\\newcommand{\\rbtlgpnmadsaltcut}{0.084 $\\pm$ 0.011}\n",
      "\n",
      "\\newcommand{\\saltgprms}{0.118 $\\pm$ 0.008}\n",
      "\\newcommand{\\saltgpnmad}{0.105 $\\pm$ 0.013}\n",
      "\\newcommand{\\saltgpintdisp}{0.085 $\\pm$ 0.010}\n",
      "\\newcommand{\\saltgpkernelamp}{0.380 $\\pm$ 0.230}\n",
      "\\newcommand{\\saltgpkernellengthscale}{8.63 $\\pm$ 5.33}\n",
      "\\newcommand{\\saltgpoffset}{6.956 $\\pm$ 0.299}\n",
      "\\newcommand{\\saltgpcolor}{2.81 $\\pm$ 0.15}\n",
      "\\newcommand{\\rbtlgpsaltcomprms}{0.100 $\\pm$ 0.008}\n",
      "\\newcommand{\\rbtlgpsaltcompnmad}{0.083 $\\pm$ 0.011}\n",
      "\n",
      "\\newcommand{\\pecvelcontribution}{0.055}\n"
     ]
    }
   ],
   "source": [
    "with a.latex_open('standardization_summary.tex') as f:\n",
    "    # Raw RBTL magnitudes\n",
    "    raw_rbtl_mags = a.rbtl_mags[a.uncertainty_mask & a.redshift_color_mask]\n",
    "    utils.latex_std(f, 'rawrbtlmagstd', raw_rbtl_mags)\n",
    "    utils.latex_nmad(f, 'rawrbtlmagnmad', raw_rbtl_mags)\n",
    "    \n",
    "    # Raw RBTL magnitudes with SALT2 cuts\n",
    "    raw_rbtl_mags_salt_cuts = a.rbtl_mags[a.uncertainty_mask & a.redshift_color_mask & a.salt_mask]\n",
    "    utils.latex_std(f, 'rawrbtlmagstdsaltcuts', raw_rbtl_mags_salt_cuts)\n",
    "    utils.latex_nmad(f, 'rawrbtlmagnmadsaltcuts', raw_rbtl_mags_salt_cuts)\n",
    "\n",
    "    # RBTL GP\n",
    "    rbtl_gp = a.residuals_rbtl_gp\n",
    "    rbtl_gp_mags = rbtl_gp.residuals[rbtl_gp.mask]\n",
    "    utils.latex_print(f, '')\n",
    "    utils.latex_std(f, 'rbtlgprms', rbtl_gp_mags)\n",
    "    utils.latex_nmad(f, 'rbtlgpnmad', rbtl_gp_mags)\n",
    "    fiducial_rv = a.settings['rbtl_fiducial_rv']\n",
    "    utils.latex_command(f, 'rbtlgpintdisp', '%.3f $\\\\pm$ %.3f', (rbtl_gp.parameters[0], rbtl_gp.parameter_uncertainties[0]))\n",
    "    utils.latex_command(f, 'rbtlgpkernelamp', '%.3f $\\\\pm$ %.3f', (np.abs(rbtl_gp.parameters[1]), rbtl_gp.parameter_uncertainties[1]))\n",
    "    utils.latex_command(f, 'rbtlgpkernellengthscale', '%.2f $\\\\pm$ %.2f', (rbtl_gp.parameters[2], rbtl_gp.parameter_uncertainties[2]))\n",
    "    utils.latex_command(f, 'rbtlgpoffset', '%.3f $\\\\pm$ %.3f', (rbtl_gp.parameters[3], rbtl_gp.parameter_uncertainties[3]))\n",
    "    utils.latex_command(f, 'rbtlgprv', '%.2f $\\\\pm$ %.2f', a.calculate_fit_rv(rbtl_gp.parameters[4], rbtl_gp.parameter_uncertainties[4]))\n",
    "    \n",
    "    # RBTL GP with SALT2 cuts\n",
    "    rbtl_gp_saltcut = a.fit_gp_magnitude_residuals(mask=a.salt_mask)\n",
    "    rbtl_gp_mags_saltcut = rbtl_gp_saltcut.residuals[rbtl_gp_saltcut.mask]\n",
    "    utils.latex_print(f, '')\n",
    "    utils.latex_std(f, 'rbtlgprmssaltcut', rbtl_gp_mags_saltcut)\n",
    "    utils.latex_nmad(f, 'rbtlgpnmadsaltcut', rbtl_gp_mags_saltcut)\n",
    "\n",
    "    # SALT GP\n",
    "    salt_gp = a.residuals_salt_gp\n",
    "    salt_gp_mags = salt_gp.residuals[salt_gp.mask]\n",
    "    utils.latex_print(f, '')\n",
    "    utils.latex_std(f, 'saltgprms', salt_gp_mags)\n",
    "    utils.latex_nmad(f, 'saltgpnmad', salt_gp_mags)\n",
    "    utils.latex_command(f, 'saltgpintdisp', '%.3f $\\\\pm$ %.3f', (salt_gp.parameters[0], salt_gp.parameter_uncertainties[0]))\n",
    "    utils.latex_command(f, 'saltgpkernelamp', '%.3f $\\\\pm$ %.3f', (np.abs(salt_gp.parameters[1]), salt_gp.parameter_uncertainties[1]))\n",
    "    utils.latex_command(f, 'saltgpkernellengthscale', '%.2f $\\\\pm$ %.2f', (salt_gp.parameters[2], salt_gp.parameter_uncertainties[2]))\n",
    "    utils.latex_command(f, 'saltgpoffset', '%.3f $\\\\pm$ %.3f', (salt_gp.parameters[3], salt_gp.parameter_uncertainties[3]))\n",
    "    utils.latex_command(f, 'saltgpcolor', '%.2f $\\\\pm$ %.2f', (salt_gp.parameters[4], salt_gp.parameter_uncertainties[4]))\n",
    "    rbtl_gp_mags_salt_comp = rbtl_gp.residuals[salt_gp.mask]\n",
    "    utils.latex_std(f, 'rbtlgpsaltcomprms', rbtl_gp_mags_salt_comp)\n",
    "    utils.latex_nmad(f, 'rbtlgpsaltcompnmad', rbtl_gp_mags_salt_comp)\n",
    "\n",
    "    # Peculiar velocity contribution\n",
    "    utils.latex_print(f, \"\")\n",
    "    utils.latex_command(f, 'pecvelcontribution', '%.3f', np.sqrt(np.mean(a.calculate_peculiar_velocity_uncertainties(a.redshifts)[rbtl_gp.mask]**2)))"
   ]
  },
  {
   "cell_type": "markdown",
   "metadata": {},
   "source": [
    "## Standardization table"
   ]
  },
  {
   "cell_type": "code",
   "execution_count": 14,
   "metadata": {},
   "outputs": [
    {
     "name": "stdout",
     "output_type": "stream",
     "text": [
      "              Full sample &   134 &                 NMAD &   0.108 $\\pm$  0.013 &  0.083 $\\pm$  0.010 &                  -- &                  -- \\\\\n",
      "                          &       &                  RMS &   0.131 $\\pm$  0.010 &  0.101 $\\pm$  0.007 &                  -- &                  -- \\\\\n",
      "                          &       &    Pec. vel. removed &   0.119 $\\pm$  0.011 &  0.084 $\\pm$  0.009 &                  -- &                  -- \\\\\n",
      "\\hline\n",
      "                   Sample &   127 &                 NMAD &   0.111 $\\pm$  0.012 &  0.083 $\\pm$  0.011 &  0.106 $\\pm$  0.012 &  0.105 $\\pm$  0.013 \\\\\n",
      "               with valid &       &                  RMS &   0.131 $\\pm$  0.011 &  0.100 $\\pm$  0.008 &  0.140 $\\pm$  0.013 &  0.118 $\\pm$  0.008 \\\\\n",
      "               SALT2 fits &       &    Pec. vel. removed &   0.120 $\\pm$  0.012 &  0.084 $\\pm$  0.009 &  0.129 $\\pm$  0.013 &  0.104 $\\pm$  0.009 \\\\\n",
      "\\hline\n",
      "          Training sample &    72 &                 NMAD &   0.100 $\\pm$  0.019 &  0.072 $\\pm$  0.013 &                  -- &                  -- \\\\\n",
      "                          &       &                  RMS &   0.126 $\\pm$  0.013 &  0.099 $\\pm$  0.011 &                  -- &                  -- \\\\\n",
      "                          &       &    Pec. vel. removed &   0.112 $\\pm$  0.015 &  0.081 $\\pm$  0.014 &                  -- &                  -- \\\\\n",
      "\\hline\n",
      "        Validation sample &    62 &                 NMAD &   0.113 $\\pm$  0.017 &  0.086 $\\pm$  0.014 &                  -- &                  -- \\\\\n",
      "                          &       &                  RMS &   0.137 $\\pm$  0.016 &  0.102 $\\pm$  0.012 &                  -- &                  -- \\\\\n",
      "                          &       &    Pec. vel. removed &   0.127 $\\pm$  0.017 &  0.088 $\\pm$  0.014 &                  -- &                  -- \\\\\n",
      "\\hline\n"
     ]
    }
   ],
   "source": [
    "from functools import partial\n",
    "\n",
    "def int_disp(vals, pec_vel_disps, axis=None):\n",
    "    std = np.std(vals, ddof=1, axis=axis)\n",
    "    corr = np.mean(pec_vel_disps**2, axis=axis)\n",
    "    corr_std = np.sqrt(np.clip(std**2 - corr, 0, None))\n",
    "\n",
    "    return corr_std\n",
    "\n",
    "def get_stat_str(all_mags, cut, function, *args):\n",
    "    line_str = \"\"\n",
    "    for mags in all_mags:\n",
    "        if line_str:\n",
    "            line_str += \" &\"\n",
    "            \n",
    "        use_mags = mags[cut]\n",
    "        if np.any(np.isnan(use_mags)):\n",
    "            line_str += \"%20s\" % \"--\"\n",
    "        else:\n",
    "            res, res_err = math.bootstrap_statistic(function, use_mags, *args)\n",
    "            line_str += \"%7.3f $\\pm$ %6.3f\" % (res, res_err)\n",
    "    \n",
    "    line_str += \" \\\\\\\\\"\n",
    "    \n",
    "    return line_str\n",
    "\n",
    "def make_table(f, all_mags, cut, label):\n",
    "    stats = {\n",
    "        'NMAD': (math.nmad,),\n",
    "        'RMS': (partial(np.std, ddof=1),),\n",
    "        'Pec. vel. removed': (int_disp, a.calculate_peculiar_velocity_uncertainties(a.redshifts)[cut]),\n",
    "    }\n",
    "    for i, (stat_name, stat_args) in enumerate(stats.items()):\n",
    "        if len(label) > i:\n",
    "            prefix = label[i]\n",
    "        else:\n",
    "            prefix = \"\"\n",
    "            \n",
    "        if i == 0:\n",
    "            num_sne = \"%d\" % np.sum(cut)\n",
    "        else:\n",
    "            num_sne = \"\"\n",
    "            \n",
    "        stat_str = get_stat_str(all_mags, cut, *stat_args)\n",
    "        utils.latex_print(f, \"%25s & %5s & %20s & %s\" % (prefix, num_sne, stat_name, stat_str))\n",
    "\n",
    "# Get all of the different residuals. Set things that I shouldn't be using to nan\n",
    "# so that they get masked out in the table.\n",
    "base_mask = a.uncertainty_mask & a.redshift_color_mask\n",
    "rbtl_residuals = a.rbtl_mags.copy()\n",
    "rbtl_gp_residuals = a.residuals_rbtl_gp.residuals.copy()\n",
    "salt_gp_residuals = a.residuals_salt_gp.residuals.copy()\n",
    "salt_residuals = a.residuals_salt['residuals'].copy()\n",
    "\n",
    "rbtl_residuals[~base_mask] = np.nan\n",
    "rbtl_gp_residuals[~base_mask] = np.nan\n",
    "salt_gp_residuals[~(base_mask & a.salt_mask)] = np.nan\n",
    "salt_residuals[~(base_mask & a.salt_mask)] = np.nan\n",
    "\n",
    "# Redo all of the fits conditioning only on the training set.\n",
    "base_train_mask = base_mask & a.train_mask\n",
    "train_rbtl_residuals = a.rbtl_mags.copy()\n",
    "train_rbtl_gp_residuals = a.fit_gp_magnitude_residuals(mask=base_train_mask, verbosity=0).residuals\n",
    "train_salt_gp_residuals = a.fit_gp_magnitude_residuals('salt_raw', mask=base_train_mask, verbosity=0).residuals\n",
    "train_salt_residuals = a.fit_salt_magnitude_residuals(mask=base_train_mask, verbosity=0)['residuals']\n",
    "\n",
    "train_rbtl_residuals[~base_train_mask] = np.nan\n",
    "train_rbtl_gp_residuals[~base_train_mask] = np.nan\n",
    "train_salt_gp_residuals[~(base_train_mask & a.salt_mask)] = np.nan\n",
    "train_salt_residuals[~(base_train_mask & a.salt_mask)] = np.nan\n",
    "\n",
    "# Redo all of the fits conditioning only on the validation set.\n",
    "base_validation_mask = base_mask & ~a.train_mask\n",
    "validation_rbtl_residuals = a.rbtl_mags.copy()\n",
    "validation_rbtl_gp_residuals = a.fit_gp_magnitude_residuals(mask=base_validation_mask, verbosity=0).residuals\n",
    "validation_salt_gp_residuals = a.fit_gp_magnitude_residuals('salt_raw', mask=base_validation_mask, verbosity=0).residuals\n",
    "validation_salt_residuals = a.fit_salt_magnitude_residuals(mask=base_validation_mask, verbosity=0)['residuals']\n",
    "\n",
    "validation_rbtl_residuals[~base_validation_mask] = np.nan\n",
    "validation_rbtl_gp_residuals[~base_validation_mask] = np.nan\n",
    "validation_salt_gp_residuals[~(base_validation_mask & a.salt_mask)] = np.nan\n",
    "validation_salt_residuals[~(base_validation_mask & a.salt_mask)] = np.nan\n",
    "\n",
    "\n",
    "all_residuals = [rbtl_residuals, rbtl_gp_residuals, salt_residuals, salt_gp_residuals]\n",
    "all_train_residuals = [train_rbtl_residuals, train_rbtl_gp_residuals, train_salt_residuals, train_salt_gp_residuals]\n",
    "all_validation_residuals = [validation_rbtl_residuals, validation_rbtl_gp_residuals, validation_salt_residuals, validation_salt_gp_residuals]\n",
    "\n",
    "with a.latex_open('dispersion_table.tex') as f:\n",
    "    # full manifold - all\n",
    "    make_table(f, all_residuals, base_mask, ['Full sample'])\n",
    "    utils.latex_print(f, \"\\hline\")\n",
    "\n",
    "    # SALT2 subsample - all\n",
    "    make_table(f, all_residuals, base_mask & a.salt_mask, ['Sample', 'with valid', 'SALT2 fits'])\n",
    "    utils.latex_print(f, \"\\hline\")\n",
    "    \n",
    "    # full manifold - training\n",
    "    make_table(f, all_train_residuals, base_train_mask, ['Training sample'])\n",
    "    utils.latex_print(f, \"\\hline\")\n",
    "\n",
    "    # full manifold - validation\n",
    "    make_table(f, all_validation_residuals, base_validation_mask, ['Validation sample'])\n",
    "    utils.latex_print(f, \"\\hline\")\n",
    "    \n",
    "    # SALT2 subsample - training\n",
    "    # make_table(f, all_train_residuals, base_train_mask & a.salt_mask, ['Training sample', 'with valid', 'SALT2 fits'])\n",
    "    # utils.latex_print(f, \"\\hline\")\n",
    "\n",
    "    # SALT2 subsample - validation\n",
    "    # make_table(f, all_residuals, base_mask & ~a.train_mask & a.salt_mask, ['Validation sample', 'with valid', 'SALT2 fits'])\n",
    "    # utils.latex_print(f, \"\\hline\")"
   ]
  },
  {
   "cell_type": "markdown",
   "metadata": {},
   "source": [
    "# SALT2 comparison"
   ]
  },
  {
   "cell_type": "markdown",
   "metadata": {},
   "source": [
    "## SALT2 fit"
   ]
  },
  {
   "cell_type": "markdown",
   "metadata": {},
   "source": [
    "## SALT2 magnitudes vs components"
   ]
  },
  {
   "cell_type": "code",
   "execution_count": 41,
   "metadata": {},
   "outputs": [
    {
     "data": {
      "application/vnd.jupyter.widget-view+json": {
       "model_id": "863057229d8342aa8ae477f021517983",
       "version_major": 2,
       "version_minor": 0
      },
      "text/plain": [
       "Canvas(toolbar=Toolbar(toolitems=[('Home', 'Reset original view', 'home', 'home'), ('Back', 'Back to previous …"
      ]
     },
     "metadata": {},
     "output_type": "display_data"
    }
   ],
   "source": [
    "a.scatter_combined(a.residuals_salt['residuals'], mask=a.salt_mask & a.redshift_color_mask & a.uncertainty_mask, vmin=-0.3, vmax=0.3, label='SALT2-corrected magnitude residuals', invert_colorbar=True)\n",
    "a.savefig('salt2_hr_embedding.pdf')"
   ]
  },
  {
   "cell_type": "code",
   "execution_count": 77,
   "metadata": {},
   "outputs": [
    {
     "data": {
      "application/vnd.jupyter.widget-view+json": {
       "model_id": "1ba3a95aeb8948339cb694d4100cbdf4",
       "version_major": 2,
       "version_minor": 0
      },
      "text/plain": [
       "Canvas(toolbar=Toolbar(toolitems=[('Home', 'Reset original view', 'home', 'home'), ('Back', 'Back to previous …"
      ]
     },
     "metadata": {},
     "output_type": "display_data"
    },
    {
     "name": "stdout",
     "output_type": "stream",
     "text": [
      "\n",
      "\\newcommand{\\saltfirstcompdiff}{0.229 $\\pm$ 0.045}\n"
     ]
    }
   ],
   "source": [
    "plt.figure()\n",
    "\n",
    "use_x = a.embedding[:, 0]\n",
    "\n",
    "mask = a.salt_mask & a.redshift_color_mask & a.uncertainty_mask\n",
    "residuals = a.residuals_salt['residuals']\n",
    "residual_uncertainties = a.residuals_salt['residual_uncertainties']\n",
    "\n",
    "plt.errorbar(use_x[mask], residuals[mask], residual_uncertainties[mask], label='Individual SNe Ia', fmt='.', alpha=0.25, c='k')\n",
    "\n",
    "mask_91t = a.indicators['peculiar_type'] == '91T-like'\n",
    "plt.scatter(use_x[mask_91t & mask], residuals[mask_91t & mask], label='91T-like SNe Ia', s=15, marker='s', zorder=10)\n",
    "\n",
    "from scipy.stats import binned_statistic\n",
    "binned_mean, bin_edges, binnumber = binned_statistic(use_x[mask], residuals[mask], 'mean', bins=10)\n",
    "binned_var_num, bin_edges, binnumber = binned_statistic(use_x[mask], residual_uncertainties[mask]**2, 'sum', bins=10)\n",
    "binned_var_denom, bin_edges, binnumber = binned_statistic(use_x[mask], residual_uncertainties[mask]**2, 'count', bins=10)\n",
    "binned_yerr = np.sqrt(binned_var_num / binned_var_denom**2)\n",
    "\n",
    "bin_centers = (bin_edges[:-1] + bin_edges[1:]) / 2.\n",
    "plt.step(bin_edges, np.hstack([binned_mean, binned_mean[-1]]), where='post', c='C3', lw=2, label='Binned mean')\n",
    "plt.errorbar(bin_centers, binned_mean, yerr=binned_yerr, fmt='none', c='C3', lw=2)\n",
    "\n",
    "plt.legend()\n",
    "\n",
    "plt.gca().invert_yaxis()\n",
    "\n",
    "plt.axhline(0, c='k', ls='--', lw=1)\n",
    "\n",
    "plt.xlabel('$\\\\xi_1$')\n",
    "plt.ylabel('SALT2 Hubble residuals')\n",
    "\n",
    "a.savefig('salt2_hr_component_1.pdf')\n",
    "\n",
    "\n",
    "with a.latex_open('salt_bias.tex') as f:\n",
    "    utils.latex_print(f, \"\")\n",
    "    m2 = use_x > 3\n",
    "    r1 = residuals[mask & m2]\n",
    "    r2 = residuals[mask & ~m2]\n",
    "    u1 = residual_uncertainties[mask & m2]\n",
    "    u2 = residual_uncertainties[mask & ~m2]\n",
    "    m1 = np.mean(r1)\n",
    "    m2 = np.mean(r2)\n",
    "    diff = np.abs(m1 - m2)\n",
    "    err1 = np.sqrt(np.sum(u1**2) / len(u1)**2)\n",
    "    err2 = np.sqrt(np.sum(u2**2) / len(u2)**2)\n",
    "    err = np.sqrt(err1**2 + err2**2)\n",
    "    utils.latex_command(f, 'saltfirstcompdiff', '%.3f $\\\\pm$ %.3f', (diff, err))"
   ]
  },
  {
   "cell_type": "markdown",
   "metadata": {},
   "source": [
    "## SALT2 x1 comparison"
   ]
  },
  {
   "cell_type": "code",
   "execution_count": 10,
   "metadata": {},
   "outputs": [
    {
     "data": {
      "application/vnd.jupyter.widget-view+json": {
       "model_id": "31836e7f22a54af59a5b3e195f7d80d6",
       "version_major": 2,
       "version_minor": 0
      },
      "text/plain": [
       "Canvas(toolbar=Toolbar(toolitems=[('Home', 'Reset original view', 'home', 'home'), ('Back', 'Back to previous …"
      ]
     },
     "metadata": {},
     "output_type": "display_data"
    }
   ],
   "source": [
    "a.scatter_combined(a.salt_x1, mask=a.uncertainty_mask & a.redshift_color_mask, label='SALT2 $x_1$', cmap=plt.cm.plasma)\n",
    "a.savefig('salt_x1_components.pdf')"
   ]
  },
  {
   "cell_type": "markdown",
   "metadata": {},
   "source": [
    "## SALT2 + Twins Embedding standardization"
   ]
  },
  {
   "cell_type": "code",
   "execution_count": 42,
   "metadata": {},
   "outputs": [
    {
     "data": {
      "application/vnd.jupyter.widget-view+json": {
       "model_id": "7d89b07d1eac4947b0ad1d781283c804",
       "version_major": 2,
       "version_minor": 0
      },
      "text/plain": [
       "Canvas(toolbar=Toolbar(toolitems=[('Home', 'Reset original view', 'home', 'home'), ('Back', 'Back to previous …"
      ]
     },
     "metadata": {},
     "output_type": "display_data"
    }
   ],
   "source": [
    "a.residuals_salt_gp.plot(vmin=-0.5, vmax=0.5)\n",
    "a.savefig('salt_gp_standardization.pdf')"
   ]
  },
  {
   "cell_type": "code",
   "execution_count": 53,
   "metadata": {},
   "outputs": [
    {
     "data": {
      "application/vnd.jupyter.widget-view+json": {
       "model_id": "75b6070f35054838b862fa7f9c34d4d6",
       "version_major": 2,
       "version_minor": 0
      },
      "text/plain": [
       "Canvas(toolbar=Toolbar(toolitems=[('Home', 'Reset original view', 'home', 'home'), ('Back', 'Back to previous …"
      ]
     },
     "metadata": {},
     "output_type": "display_data"
    }
   ],
   "source": [
    "m = a.salt_mask & a.uncertainty_mask & a.redshift_color_mask\n",
    "gp_residuals = a.residuals_salt_gp.residuals\n",
    "salt_residuals = a.residuals_salt['residuals']\n",
    "\n",
    "plt.figure()\n",
    "# plt.scatter(a.salt_x1[m], (salt_residuals - gp_residuals)[m], c=a.embedding[m, 0], cmap=plt.cm.coolwarm, s=a.settings['scatter_plot_marker_size'], edgecolors='gray')\n",
    "m2 = m & (a.indicators['peculiar_type'] == '91T-like')\n",
    "plt.scatter(a.salt_x1[m], (salt_residuals - gp_residuals)[m], s=a.settings['scatter_plot_marker_size'], edgecolors='gray', c='lightgray', label='Individual SNe Ia')\n",
    "plt.scatter(a.salt_x1[m2], (salt_residuals - gp_residuals)[m2], s=a.settings['scatter_plot_marker_size'], edgecolors='gray', c='C0', label='91T-like SNe Ia')\n",
    "plt.gca().invert_yaxis()\n",
    "plt.legend()\n",
    "# plt.colorbar(label='$\\\\xi_1$', aspect=30)\n",
    "plt.xlabel('SALT2 $x_1$')\n",
    "# plt.ylabel('Difference between SALT2 + Twind Embedding\\n and SALT2 standardization (mag)')\n",
    "# plt.ylabel('Difference between SALT2 + Twins Embedding\\n and SALT2 + $x_1$ standardization (mag)')\n",
    "plt.ylabel('Difference between SALT2 + $x_1$ and \\nSALT2 + Twins Embedding standardization (mag)')\n",
    "a.savefig('salt_x1_manifold_difference.pdf')"
   ]
  },
  {
   "cell_type": "code",
   "execution_count": 50,
   "metadata": {},
   "outputs": [
    {
     "data": {
      "application/vnd.jupyter.widget-view+json": {
       "model_id": "1109286e5007424a91d3d6197dd182a6",
       "version_major": 2,
       "version_minor": 0
      },
      "text/plain": [
       "Canvas(toolbar=Toolbar(toolitems=[('Home', 'Reset original view', 'home', 'home'), ('Back', 'Back to previous …"
      ]
     },
     "metadata": {},
     "output_type": "display_data"
    }
   ],
   "source": [
    "m = a.salt_mask & a.uncertainty_mask & a.redshift_color_mask\n",
    "salt_residuals = a.residuals_salt['residuals']\n",
    "\n",
    "a.scatter_combined(salt_residuals, mask=m, label='SALT2 + $x_1$ corrected magnitude residuals', invert_colorbar=True, vmin=-0.3, vmax=0.3)\n",
    "a.savefig('salt_residuals_manifold.pdf')"
   ]
  },
  {
   "cell_type": "code",
   "execution_count": 52,
   "metadata": {},
   "outputs": [
    {
     "data": {
      "application/vnd.jupyter.widget-view+json": {
       "model_id": "ae02aba7a17245b687505f37dcbfb97e",
       "version_major": 2,
       "version_minor": 0
      },
      "text/plain": [
       "Canvas(toolbar=Toolbar(toolitems=[('Home', 'Reset original view', 'home', 'home'), ('Back', 'Back to previous …"
      ]
     },
     "metadata": {},
     "output_type": "display_data"
    }
   ],
   "source": [
    "m = a.salt_mask & a.uncertainty_mask & a.redshift_color_mask\n",
    "salt_residuals = a.residuals_salt_gp.residuals\n",
    "\n",
    "a.scatter_combined(salt_residuals, mask=m, label='SALT2 + GP corrected magnitude residuals', invert_colorbar=True, vmin=-0.3, vmax=0.3)\n",
    "a.savefig('salt_gp_corrected_residuals_manifold.pdf')"
   ]
  },
  {
   "cell_type": "markdown",
   "metadata": {},
   "source": [
    "## SALT2 parameter dump"
   ]
  },
  {
   "cell_type": "code",
   "execution_count": 21,
   "metadata": {},
   "outputs": [
    {
     "name": "stdout",
     "output_type": "stream",
     "text": [
      "Bootstrapping SALT2 fits...\n"
     ]
    },
    {
     "data": {
      "application/vnd.jupyter.widget-view+json": {
       "model_id": "4ca9224d793848a684e90ca8df623c62",
       "version_major": 2,
       "version_minor": 0
      },
      "text/plain": [
       "HBox(children=(FloatProgress(value=0.0, max=500.0), HTML(value='')))"
      ]
     },
     "metadata": {},
     "output_type": "display_data"
    },
    {
     "name": "stdout",
     "output_type": "stream",
     "text": [
      "\n",
      "\\newcommand{\\saltparamrefmag}{7.051 $\\pm$ 0.013}\n",
      "\\newcommand{\\saltparamalpha}{0.148 $\\pm$ 0.011}\n",
      "\\newcommand{\\saltparambeta}{2.71 $\\pm$ 0.18}\n",
      "\\newcommand{\\saltparamsigmaint}{0.118 $\\pm$ 0.016}\n",
      "\\newcommand{\\saltparamrms}{0.140 $\\pm$ 0.012}\n",
      "\\newcommand{\\saltparamwrms}{0.140 $\\pm$ 0.013}\n",
      "\\newcommand{\\saltparamnmad}{0.106 $\\pm$ 0.014}\n",
      "\n",
      "\\newcommand{\\saltparammindisp}{0.132}\n",
      "\\newcommand{\\saltparammaxdisp}{0.173}\n"
     ]
    }
   ],
   "source": [
    "# Bootstrap the SALT2 fit to get uncertainties on parameters\n",
    "print(\"Bootstrapping SALT2 fits...\")\n",
    "ref, bootstrap = a.bootstrap_salt_magnitude_residuals(num_samples=500)\n",
    "\n",
    "salt_fit = a.residuals_salt\n",
    "\n",
    "with a.latex_open('salt_parameters.tex') as f:\n",
    "    utils.latex_command(f, 'saltparamrefmag', '%.3f $\\\\pm$ %.3f', (ref['ref_mag'], np.std(bootstrap['ref_mag'], ddof=1)))\n",
    "    utils.latex_command(f, 'saltparamalpha', '%.3f $\\\\pm$ %.3f', (ref['alpha'], np.std(bootstrap['alpha'], ddof=1)))\n",
    "    utils.latex_command(f, 'saltparambeta', '%.2f $\\\\pm$ %.2f', (ref['beta'], np.std(bootstrap['beta'], ddof=1)))\n",
    "    utils.latex_command(f, 'saltparamsigmaint', '%.3f $\\\\pm$ %.3f', (ref['intrinsic_dispersion'], np.std(bootstrap['intrinsic_dispersion'], ddof=1)))\n",
    "    utils.latex_command(f, 'saltparamrms', '%.3f $\\\\pm$ %.3f', (ref['rms'], np.std(bootstrap['rms'], ddof=1)))\n",
    "    utils.latex_command(f, 'saltparamwrms', '%.3f $\\\\pm$ %.3f', (ref['wrms'], np.std(bootstrap['wrms'], ddof=1)))\n",
    "    utils.latex_command(f, 'saltparamnmad', '%.3f $\\\\pm$ %.3f', (ref['nmad'], np.std(bootstrap['nmad'], ddof=1)))\n",
    "    utils.latex_print(f, \"\")\n",
    "    utils.latex_command(f, 'saltparammindisp', '%.3f', np.min(ref['residual_uncertainties'][ref['mask']]))\n",
    "    utils.latex_command(f, 'saltparammaxdisp', '%.3f', np.max(ref['residual_uncertainties'][ref['mask']]))\n"
   ]
  },
  {
   "cell_type": "markdown",
   "metadata": {},
   "source": [
    "## Bootstrap standardization improvement"
   ]
  },
  {
   "cell_type": "code",
   "execution_count": 31,
   "metadata": {},
   "outputs": [
    {
     "name": "stdout",
     "output_type": "stream",
     "text": [
      "0.09979179479927072\n",
      "0.13978798801058315\n",
      "-0.039996193211312425\n",
      "\\newcommand{\\saltrbtlrmsdiff}{0.040 $\\pm$ 0.011}\n",
      "\\newcommand{\\saltrbtlrmsdiffsig}{3.7}\n"
     ]
    }
   ],
   "source": [
    "res_1 = a.residuals_rbtl_gp.residuals\n",
    "res_2 = a.residuals_salt['residuals']\n",
    "\n",
    "mask = np.where(a.residuals_salt['mask'] & a.residuals_rbtl_gp.mask)[0]\n",
    "\n",
    "diffs = []\n",
    "\n",
    "for i in range(10000):\n",
    "    choice_mask = np.random.choice(mask, len(mask))\n",
    "    \n",
    "    std_1 = np.std(res_1[choice_mask])\n",
    "    std_2 = np.std(res_2[choice_mask])\n",
    "    \n",
    "    diffs.append(std_1 - std_2)\n",
    "\n",
    "print(np.std(res_1[mask]))\n",
    "print(np.std(res_2[mask]))\n",
    "print(np.std(res_1[mask]) - np.std(res_2[mask]))\n",
    "    \n",
    "with a.latex_open('standardization_improvement_significance.tex') as f:\n",
    "    utils.latex_command(f, 'saltrbtlrmsdiff', '%.3f $\\\\pm$ %.3f', (np.abs(np.mean(diffs)), np.std(diffs)))\n",
    "    utils.latex_command(f, 'saltrbtlrmsdiffsig', '%.1f', (np.abs(np.mean(diffs)) / np.std(diffs)))"
   ]
  },
  {
   "cell_type": "code",
   "execution_count": 132,
   "metadata": {},
   "outputs": [
    {
     "data": {
      "text/plain": [
       "0.13978798801058315"
      ]
     },
     "execution_count": 132,
     "metadata": {},
     "output_type": "execute_result"
    }
   ],
   "source": []
  },
  {
   "cell_type": "markdown",
   "metadata": {},
   "source": [
    "## Same SALT2 parameters, different manifold coordinates"
   ]
  },
  {
   "cell_type": "code",
   "execution_count": 24,
   "metadata": {},
   "outputs": [
    {
     "data": {
      "application/vnd.jupyter.widget-view+json": {
       "model_id": "80c9af599d604b56a7a22b23a8fedaca",
       "version_major": 2,
       "version_minor": 0
      },
      "text/plain": [
       "Canvas(toolbar=Toolbar(toolitems=[('Home', 'Reset original view', 'home', 'home'), ('Back', 'Back to previous …"
      ]
     },
     "metadata": {},
     "output_type": "display_data"
    },
    {
     "name": "stdout",
     "output_type": "stream",
     "text": [
      "WARNING: Filter with edges 7607, 9200 is not contained within the spectrum (bounds: 3094, 9104)\n",
      "WARNING: Filter with edges 7607, 9200 is not contained within the spectrum (bounds: 3094, 9104)\n",
      "WARNING: Filter with edges 7607, 9200 is not contained within the spectrum (bounds: 3094, 9104)\n",
      "WARNING: Filter with edges 7607, 9200 is not contained within the spectrum (bounds: 3094, 9104)\n",
      "WARNING: Filter with edges 7607, 9200 is not contained within the spectrum (bounds: 3094, 9104)\n",
      "WARNING: Filter with edges 7607, 9200 is not contained within the spectrum (bounds: 3094, 9104)\n",
      "WARNING: Filter with edges 7607, 9200 is not contained within the spectrum (bounds: 3094, 9104)\n",
      "WARNING: Filter with edges 7607, 9200 is not contained within the spectrum (bounds: 3094, 9104)\n",
      "WARNING: Filter with edges 7607, 9200 is not contained within the spectrum (bounds: 3094, 9104)\n",
      "WARNING: Filter with edges 7607, 9200 is not contained within the spectrum (bounds: 3094, 9104)\n",
      "WARNING: Filter with edges 7607, 9200 is not contained within the spectrum (bounds: 3094, 9104)\n",
      "WARNING: Filter with edges 7607, 9200 is not contained within the spectrum (bounds: 3126, 9198)\n",
      "WARNING: Filter with edges 7607, 9200 is not contained within the spectrum (bounds: 3126, 9198)\n",
      "WARNING: Filter with edges 7607, 9200 is not contained within the spectrum (bounds: 3126, 9198)\n",
      "WARNING: Filter with edges 7607, 9200 is not contained within the spectrum (bounds: 3126, 9198)\n",
      "WARNING: Filter with edges 7607, 9200 is not contained within the spectrum (bounds: 3126, 9198)\n",
      "WARNING: Filter with edges 7607, 9200 is not contained within the spectrum (bounds: 3126, 9198)\n",
      "WARNING: Filter with edges 7607, 9200 is not contained within the spectrum (bounds: 3126, 9198)\n",
      "WARNING: Filter with edges 7607, 9200 is not contained within the spectrum (bounds: 3126, 9198)\n",
      "WARNING: Filter with edges 7607, 9200 is not contained within the spectrum (bounds: 3126, 9198)\n",
      "WARNING: Filter with edges 7607, 9200 is not contained within the spectrum (bounds: 3126, 9198)\n",
      "WARNING: Filter with edges 7607, 9200 is not contained within the spectrum (bounds: 3126, 9198)\n",
      "WARNING: Filter with edges 7607, 9200 is not contained within the spectrum (bounds: 3126, 9198)\n",
      "WARNING: Filter with edges 7607, 9200 is not contained within the spectrum (bounds: 3126, 9198)\n",
      "WARNING: Filter with edges 7607, 9200 is not contained within the spectrum (bounds: 3126, 9198)\n",
      "WARNING: Filter with edges 7607, 9200 is not contained within the spectrum (bounds: 3126, 9198)\n",
      "WARNING: Filter with edges 7607, 9200 is not contained within the spectrum (bounds: 3126, 9198)\n",
      "WARNING: Filter with edges 7607, 9200 is not contained within the spectrum (bounds: 3126, 9198)\n",
      "WARNING: Filter with edges 7607, 9200 is not contained within the spectrum (bounds: 3126, 9198)\n"
     ]
    }
   ],
   "source": [
    "sn_1 = 'SNIC3573'\n",
    "sn_2 = 'PTF11mkx'\n",
    "\n",
    "target_names = np.array([i.name for i in a.targets])\n",
    "idx_1 = np.where(target_names == sn_1)[0][0]\n",
    "idx_2 = np.where(target_names == sn_2)[0][0]\n",
    "\n",
    "t1 = a.targets[idx_1]\n",
    "t2 = a.targets[idx_2]\n",
    "\n",
    "bands = ['U', 'B', 'V', 'R', 'I']\n",
    "\n",
    "band_colors = {\n",
    "    'U': 'C4',\n",
    "    'B': 'C0',\n",
    "    'V': 'C2',\n",
    "    'R': 'C3',\n",
    "    'I': 'C1',\n",
    "}\n",
    "\n",
    "gap = 1.\n",
    "\n",
    "def plot_lightcurve(target, marker='o', ls='--', mfc='none', label_bands=True):\n",
    "    photometry = target.get_photometry(bands, clip_filter=True)\n",
    "    \n",
    "    # Cut late phases\n",
    "    photometry = photometry[photometry['time'] < 30]\n",
    "        \n",
    "    ref_mag = target.salt_fit['fitted_model'].source_peakmag('snfb', 'ab')\n",
    "    \n",
    "    for offset, band in enumerate(bands):\n",
    "        band_photometry = photometry[photometry['band'] == 'snf%s' % band.lower()]\n",
    "        \n",
    "        if band == 'B':\n",
    "            label = a.iau_name_map.get(target.name, target.name)\n",
    "        else:\n",
    "            label = ''\n",
    "            \n",
    "        color = band_colors[band]\n",
    "        \n",
    "        phases = band_photometry['time']\n",
    "        mags = -2.5*np.log10(band_photometry['flux']) - ref_mag - (offset - 1) * gap\n",
    "        magerrs = band_photometry['magerr']\n",
    "    \n",
    "        plt.errorbar(phases, mags, magerrs, fmt='none', c=color)\n",
    "        plt.plot(phases, mags, label=label, marker=marker, c=color, mfc=mfc, ls=ls)\n",
    "        \n",
    "        if label_bands:\n",
    "            plt.text(phases[-1] + 2, mags[-1] + 0.2, 'SNf%s%+d' % (band, offset - 1), c=color)\n",
    "            plt.xlim(None, phases[-1] + 9)\n",
    "\n",
    "def plot_salt_lightcurve(target, phase_min=-6, phase_max=50):\n",
    "    model = target.salt_fit['fitted_model']\n",
    "    phases = np.linspace(phase_min, phase_max, 200)\n",
    "    \n",
    "    # Compute the reference magnitude for B-band at max.\n",
    "    ref_mag = model.source_peakmag('snfb', 'ab')\n",
    "\n",
    "    # Plot each light curve\n",
    "    for offset, band in enumerate(bands):\n",
    "        mags = model.bandmag('snf%s' % band.lower(), 'ab', phases) - ref_mag - (offset - 1) * gap\n",
    "        plt.plot(phases, mags, c='k')\n",
    "\n",
    "\n",
    "plt.figure(figsize=(5, 6))\n",
    "plot_lightcurve(t1, marker='^', ls='', mfc=None, label_bands=False)\n",
    "plot_lightcurve(t2, marker='o', ls='', mfc='none', label_bands=True)\n",
    "# plot_salt_lightcurve(t1)\n",
    "plt.legend()\n",
    "plt.xlabel('Phase (days)')\n",
    "plt.ylabel('Normalized magnitude + offset')\n",
    "plt.ylim(4.8, -2.5)\n",
    "\n",
    "a.savefig('same_salt_comparison.pdf')\n",
    "\n",
    "# plt.gca().invert_yaxis()"
   ]
  },
  {
   "cell_type": "code",
   "execution_count": 25,
   "metadata": {},
   "outputs": [
    {
     "data": {
      "application/vnd.jupyter.widget-view+json": {
       "model_id": "3c0cabe675b04e22b8ec897d42d61083",
       "version_major": 2,
       "version_minor": 0
      },
      "text/plain": [
       "Canvas(toolbar=Toolbar(toolitems=[('Home', 'Reset original view', 'home', 'home'), ('Back', 'Back to previous …"
      ]
     },
     "metadata": {},
     "output_type": "display_data"
    }
   ],
   "source": [
    "def plot_spec(ax, target):\n",
    "    spec = target.get_nearest_spectrum(0)\n",
    "    spec = spec.bin_by_velocity(500, min_wave=spec.wave[0], max_wave=spec.wave[-1])\n",
    "\n",
    "    ref_mag = target.salt_fit['fitted_model'].source_peakmag('snfb', 'ab')\n",
    "    \n",
    "    label = '%s, %.2f days' % (a.iau_name_map.get(target.name, target.name), spec.phase)\n",
    "    \n",
    "    scale = 10**(+0.4*(ref_mag - 15))\n",
    "\n",
    "    ax.plot(spec.wave, spec.flux * scale * spec.wave**2 / 5000.**2, label=label)\n",
    "    \n",
    "fig, ax = plt.subplots(figsize=a.settings['spectrum_plot_figsize'])\n",
    "\n",
    "plot_spec(ax, t1)\n",
    "plot_spec(ax, t2)\n",
    "\n",
    "ax.set_xlabel('Restframe wavelength ($\\AA$)')\n",
    "ax.set_ylabel('Normalized flux\\n(erg/$cm^2$/s/Hz)')\n",
    "\n",
    "ax.legend()\n",
    "\n",
    "a.savefig('same_salt_spectra.pdf')"
   ]
  },
  {
   "cell_type": "code",
   "execution_count": 26,
   "metadata": {},
   "outputs": [
    {
     "name": "stdout",
     "output_type": "stream",
     "text": [
      "True\n",
      "True\n"
     ]
    }
   ],
   "source": [
    "# Check if these SNe~Ia are actually in the sample\n",
    "all_mask = a.uncertainty_mask & a.redshift_color_mask & a.salt_mask\n",
    "print(all_mask[idx_1])\n",
    "print(all_mask[idx_2])"
   ]
  },
  {
   "cell_type": "code",
   "execution_count": 30,
   "metadata": {},
   "outputs": [
    {
     "name": "stdout",
     "output_type": "stream",
     "text": [
      "\n",
      "\\newcommand{\\saltcompnamea}{SN2013be}\n",
      "\\newcommand{\\saltcompnameb}{PTF11mkx}\n",
      "\\newcommand{\\saltcompxonea}{$0.443 \\pm 0.171$}\n",
      "\\newcommand{\\saltcompxoneb}{$0.558 \\pm 0.132$}\n",
      "\\newcommand{\\saltcompca}{$0.025 \\pm 0.028$}\n",
      "\\newcommand{\\saltcompcb}{$0.042 \\pm 0.027$}\n",
      "\\newcommand{\\saltcompcoorda}{$-0.26$}\n",
      "\\newcommand{\\saltcompcoordb}{$+5.17$}\n",
      "\\newcommand{\\saltcompmagdiff}{$0.311 \\pm 0.096$}\n",
      "\\newcommand{\\saltcompmanifoldmagdiff}{$-0.002 \\pm 0.104$}\n"
     ]
    }
   ],
   "source": [
    "# Dump details to latex\n",
    "with a.latex_open('salt_comparison.tex') as f:\n",
    "    utils.latex_print(f, \"\")\n",
    "    utils.latex_command(f, 'saltcompnamea', '%s', a.iau_name_map.get(t1.name, t1.name))\n",
    "    utils.latex_command(f, 'saltcompnameb', '%s', a.iau_name_map.get(t2.name, t2.name))\n",
    "    utils.latex_command(f, 'saltcompxonea', '$%.3f \\\\pm %.3f$', (t1['salt2.X1'], t1['salt2.X1.err']))\n",
    "    utils.latex_command(f, 'saltcompxoneb', '$%.3f \\\\pm %.3f$', (t2['salt2.X1'], t2['salt2.X1.err']))\n",
    "    utils.latex_command(f, 'saltcompca', '$%.3f \\\\pm %.3f$', (t1['salt2.Color'], t1['salt2.Color.err']))\n",
    "    utils.latex_command(f, 'saltcompcb', '$%.3f \\\\pm %.3f$', (t2['salt2.Color'], t2['salt2.Color.err']))\n",
    "    utils.latex_command(f, 'saltcompcoorda', '$%+.2f$', a.embedding[idx_1, 0])\n",
    "    utils.latex_command(f, 'saltcompcoordb', '$%+.2f$', a.embedding[idx_2, 0])\n",
    "\n",
    "    salt_hr_1 = a.residuals_salt['residuals'][idx_1]\n",
    "    salt_hr_2 = a.residuals_salt['residuals'][idx_2]\n",
    "    mag_diff = salt_hr_1 - salt_hr_2\n",
    "    mag_err_1 = a.residuals_salt['raw_residual_uncertainties'][idx_1]\n",
    "    mag_err_2 = a.residuals_salt['raw_residual_uncertainties'][idx_2]\n",
    "    mag_diff_err = np.sqrt(mag_err_1**2 + mag_err_2**2)\n",
    "    \n",
    "    utils.latex_command(f, 'saltcompmagdiff', '$%.3f \\\\pm %.3f$', (mag_diff, mag_diff_err))\n",
    "\n",
    "    manifold_mag_1 = a.residuals_salt_gp.residuals[idx_1]\n",
    "    manifold_mag_2 = a.residuals_salt_gp.residuals[idx_2]\n",
    "    manifold_mag_diff = manifold_mag_1 - manifold_mag_2\n",
    "    manifold_mag_err_1 = a.residuals_salt_gp.raw_residual_uncertainties[idx_1]\n",
    "    manifold_mag_err_2 = a.residuals_salt_gp.raw_residual_uncertainties[idx_2]\n",
    "    manifold_mag_diff_err = np.sqrt(manifold_mag_err_1**2 + manifold_mag_err_2**2)\n",
    "    \n",
    "    utils.latex_command(f, 'saltcompmanifoldmagdiff', '$%.3f \\\\pm %.3f$', (manifold_mag_diff, manifold_mag_diff_err))"
   ]
  },
  {
   "cell_type": "markdown",
   "metadata": {},
   "source": [
    "# Host galaxy correlations"
   ]
  },
  {
   "cell_type": "markdown",
   "metadata": {},
   "source": [
    "## Consolidated host step calculation"
   ]
  },
  {
   "cell_type": "code",
   "execution_count": 54,
   "metadata": {},
   "outputs": [],
   "source": [
    "import importlib\n",
    "import hoststep\n",
    "importlib.reload(hoststep)\n",
    "from hoststep import fit_step, plot_step\n",
    "\n",
    "masks = {\n",
    "    'base': a.uncertainty_mask & a.redshift_color_mask & a.host_mask & a.peculiar_mask & a.salt_mask,\n",
    "    'peculiar': a.uncertainty_mask & a.redshift_color_mask & a.host_mask & a.salt_mask,\n",
    "    'train': a.uncertainty_mask & a.redshift_color_mask & a.host_mask & a.peculiar_mask & a.salt_mask & a.train_mask,\n",
    "    'validation': a.uncertainty_mask & a.redshift_color_mask & a.host_mask & a.peculiar_mask & a.salt_mask & ~a.train_mask,\n",
    "}\n",
    "\n",
    "mag_vars = {\n",
    "    'salt': (False, 'SALT2 + $x_1$'),\n",
    "    'salt_raw': (True, 'SALT2 + Twins Embedding'),\n",
    "    'rbtl': (True, 'RBTL + Twins Embedding'),\n",
    "}\n",
    "\n",
    "step_vars = {\n",
    "    'host_gmass': ('host_p(highgmass)', 'Host Mass', -1),\n",
    "    'host_lssfr': ('host_p(prompt)', 'Local SSFR', +1),\n",
    "}\n",
    "\n",
    "methods = [\n",
    "    'fit'\n",
    "    'gmm'\n",
    "    'simultaneous'\n",
    "]\n",
    "\n",
    "def calc_step(kind, mask, step_var, method, verbosity=0, num_samples=100, plot=False, plot_title=None, **kwargs):\n",
    "    use_gp, mag_label = mag_vars[kind]\n",
    "    mask = masks[mask]\n",
    "    \n",
    "    if method == 'fit':\n",
    "        # Fit the host step as part of the standardization\n",
    "        side_probability, step_var_label, var_sign = step_vars[step_var]\n",
    "        if use_gp:\n",
    "            result = a.fit_gp_magnitude_residuals(\n",
    "                kind=kind,\n",
    "                mask=mask,\n",
    "                additional_covariates=[a.indicators[side_probability]],\n",
    "                verbosity=verbosity,\n",
    "            )\n",
    "            step = result.parameters[-1] * var_sign\n",
    "            step_uncertainty = result.parameter_uncertainties[-1]\n",
    "        else:\n",
    "            ref, bootstrap = a.bootstrap_salt_magnitude_residuals(\n",
    "                mask=mask,\n",
    "                additional_covariates=[a.indicators[side_probability]],\n",
    "                num_samples=num_samples\n",
    "            )\n",
    "            step = ref['covariate_amplitude_0'] * var_sign\n",
    "            step_uncertainty = np.std(bootstrap['covariate_amplitude_0'])\n",
    "    elif method == 'gmm':\n",
    "        # Gaussian mixture model on the residuals after standardization.\n",
    "        side_probability, step_var_label, var_sign = step_vars[step_var]\n",
    "        if use_gp:\n",
    "            gp_fit = a.fit_gp_magnitude_residuals(kind=kind, mask=mask, verbosity=verbosity)\n",
    "            residuals = gp_fit.residuals\n",
    "            residual_uncertainties = gp_fit.raw_residual_uncertainties\n",
    "        else:\n",
    "            salt_fit = a.fit_salt_magnitude_residuals(mask=mask, verbosity=verbosity)\n",
    "            residuals = salt_fit['residuals']\n",
    "            residual_uncertainties = salt_fit['raw_residual_uncertainties']\n",
    "\n",
    "        step_result = fit_step(\n",
    "            a.indicators[side_probability],\n",
    "            residuals,\n",
    "            residual_uncertainties,\n",
    "            mask,\n",
    "            verbosity=verbosity,\n",
    "        )\n",
    "        \n",
    "        step = step_result['step_size'] * var_sign\n",
    "        step_uncertainty = step_result['step_size_uncertainty']\n",
    "        \n",
    "        if plot:\n",
    "            ax1, ax2 = plot_step(\n",
    "                step_var,\n",
    "                residuals,\n",
    "                residual_uncertainties,\n",
    "                a.indicators,\n",
    "                mask,\n",
    "                verbosity=verbosity,\n",
    "                title=plot_title\n",
    "            )\n",
    "    elif method == 'simultaneous':\n",
    "        # Simultaneous fit of both host properties during standardization.\n",
    "        if use_gp:\n",
    "            result = a.fit_gp_magnitude_residuals(\n",
    "                kind=kind,\n",
    "                mask=mask,\n",
    "                additional_covariates=[a.indicators[step_vars[i][0]] for i in step_var],\n",
    "                verbosity=verbosity,\n",
    "            )\n",
    "            step = result.parameters[-len(step_var):]\n",
    "            step_uncertainty = result.parameter_uncertainties[-len(step_var):]\n",
    "        else:\n",
    "            ref, bootstrap = a.bootstrap_salt_magnitude_residuals(\n",
    "                mask=mask,\n",
    "                additional_covariates=[a.indicators[step_vars[i][0]] for i in step_var],\n",
    "                num_samples=num_samples,\n",
    "            )\n",
    "            step = [ref[f'covariate_amplitude_{i}'] for i in range(len(step_var))]\n",
    "            step_uncertainty = [np.std(bootstrap[f'covariate_amplitude_{i}']) for i in range(len(step_var))]\n",
    "            \n",
    "        # Apply signs\n",
    "        for i, var_name in enumerate(step_var):\n",
    "            step[i] *= step_vars[var_name][2]\n",
    "    \n",
    "    return step, step_uncertainty"
   ]
  },
  {
   "cell_type": "markdown",
   "metadata": {},
   "source": [
    "## Plot steps"
   ]
  },
  {
   "cell_type": "code",
   "execution_count": 55,
   "metadata": {},
   "outputs": [
    {
     "data": {
      "application/vnd.jupyter.widget-view+json": {
       "model_id": "101ac6535a8c41a8bfe11c6bd0fad67b",
       "version_major": 2,
       "version_minor": 0
      },
      "text/plain": [
       "Canvas(toolbar=Toolbar(toolitems=[('Home', 'Reset original view', 'home', 'home'), ('Back', 'Back to previous …"
      ]
     },
     "metadata": {},
     "output_type": "display_data"
    },
    {
     "name": "stderr",
     "output_type": "stream",
     "text": [
      "/home/kyle/packages/conda/lib/python3.8/site-packages/george/kernels.py:95: RuntimeWarning: divide by zero encountered in log\n",
      "  log_constant = np.log(float(b)/self.ndim)\n"
     ]
    },
    {
     "data": {
      "application/vnd.jupyter.widget-view+json": {
       "model_id": "7f28acb515d840efa0784e14ecb21666",
       "version_major": 2,
       "version_minor": 0
      },
      "text/plain": [
       "Canvas(toolbar=Toolbar(toolitems=[('Home', 'Reset original view', 'home', 'home'), ('Back', 'Back to previous …"
      ]
     },
     "metadata": {},
     "output_type": "display_data"
    }
   ],
   "source": [
    "calc_step('salt', 'base', 'host_lssfr', 'gmm', plot=True, plot_title='LsSFR - SALT + $x_1$ Standardization')\n",
    "a.savefig('host_step_lssfr_salt.pdf')\n",
    "calc_step('rbtl', 'base', 'host_lssfr', 'gmm', plot=True, plot_title='LsSFR - RBTL + Twins Embedding Standardization')\n",
    "a.savefig('host_step_lssfr_rbtl.pdf')"
   ]
  },
  {
   "cell_type": "code",
   "execution_count": 6,
   "metadata": {},
   "outputs": [
    {
     "data": {
      "application/vnd.jupyter.widget-view+json": {
       "model_id": "f205e0c723c54ab582312a1d05fc1344",
       "version_major": 2,
       "version_minor": 0
      },
      "text/plain": [
       "Canvas(toolbar=Toolbar(toolitems=[('Home', 'Reset original view', 'home', 'home'), ('Back', 'Back to previous …"
      ]
     },
     "metadata": {},
     "output_type": "display_data"
    },
    {
     "name": "stderr",
     "output_type": "stream",
     "text": [
      "/home/kyle/packages/conda/lib/python3.8/site-packages/numpy/core/_asarray.py:85: UserWarning: Warning: converting a masked element to nan.\n",
      "  return array(a, dtype, copy=False, order=order)\n",
      "/home/kyle/packages/conda/lib/python3.8/site-packages/george/kernels.py:95: RuntimeWarning: divide by zero encountered in log\n",
      "  log_constant = np.log(float(b)/self.ndim)\n"
     ]
    },
    {
     "data": {
      "application/vnd.jupyter.widget-view+json": {
       "model_id": "eacfdaf9896341d6bb14266fa71ae709",
       "version_major": 2,
       "version_minor": 0
      },
      "text/plain": [
       "Canvas(toolbar=Toolbar(toolitems=[('Home', 'Reset original view', 'home', 'home'), ('Back', 'Back to previous …"
      ]
     },
     "metadata": {},
     "output_type": "display_data"
    },
    {
     "name": "stderr",
     "output_type": "stream",
     "text": [
      "/home/kyle/packages/conda/lib/python3.8/site-packages/numpy/core/_asarray.py:85: UserWarning: Warning: converting a masked element to nan.\n",
      "  return array(a, dtype, copy=False, order=order)\n"
     ]
    }
   ],
   "source": [
    "calc_step('salt', 'base', 'host_gmass', 'gmm', plot=True, plot_title='Host Mass - SALT + $x_1$ Standardization')\n",
    "a.savefig('host_step_gmass_salt.pdf')\n",
    "plt.draw()\n",
    "calc_step('rbtl', 'base', 'host_gmass', 'gmm', plot=True, plot_title='Host Mass - RBTL + Twins Manifold Standardization')\n",
    "a.savefig('host_step_gmass_rbtl.pdf')"
   ]
  },
  {
   "cell_type": "markdown",
   "metadata": {},
   "source": [
    "## Host steps table"
   ]
  },
  {
   "cell_type": "code",
   "execution_count": 40,
   "metadata": {},
   "outputs": [
    {
     "data": {
      "application/vnd.jupyter.widget-view+json": {
       "model_id": "",
       "version_major": 2,
       "version_minor": 0
      },
      "text/plain": [
       "HBox(children=(FloatProgress(value=0.0, description='SALT2 bootstrapping', style=ProgressStyle(description_wid…"
      ]
     },
     "metadata": {},
     "output_type": "display_data"
    },
    {
     "name": "stdout",
     "output_type": "stream",
     "text": [
      "Simultaneous fit & Host Mass & 0.092 & 0.025 & 0.036 & 0.025 & 0.040 & 0.020 \\\\\n"
     ]
    },
    {
     "data": {
      "application/vnd.jupyter.widget-view+json": {
       "model_id": "",
       "version_major": 2,
       "version_minor": 0
      },
      "text/plain": [
       "HBox(children=(FloatProgress(value=0.0, description='SALT2 bootstrapping', style=ProgressStyle(description_wid…"
      ]
     },
     "metadata": {},
     "output_type": "display_data"
    },
    {
     "name": "stdout",
     "output_type": "stream",
     "text": [
      " & Local SSFR & 0.121 & 0.031 & 0.053 & 0.027 & 0.066 & 0.022 \\\\\n",
      "\\hline\n",
      "After correction & Host Mass & 0.082 & 0.021 & 0.030 & 0.023 & 0.032 & 0.018 \\\\\n",
      " & Local SSFR & 0.093 & 0.022 & 0.042 & 0.022 & 0.047 & 0.018 \\\\\n",
      "\\hline\n"
     ]
    },
    {
     "data": {
      "application/vnd.jupyter.widget-view+json": {
       "model_id": "",
       "version_major": 2,
       "version_minor": 0
      },
      "text/plain": [
       "HBox(children=(FloatProgress(value=0.0, description='SALT2 bootstrapping', style=ProgressStyle(description_wid…"
      ]
     },
     "metadata": {},
     "output_type": "display_data"
    },
    {
     "name": "stdout",
     "output_type": "stream",
     "text": [
      "Peculiars included & Host Mass & 0.059 & 0.025 & 0.030 & 0.025 & 0.031 & 0.020 \\\\\n"
     ]
    },
    {
     "data": {
      "application/vnd.jupyter.widget-view+json": {
       "model_id": "",
       "version_major": 2,
       "version_minor": 0
      },
      "text/plain": [
       "HBox(children=(FloatProgress(value=0.0, description='SALT2 bootstrapping', style=ProgressStyle(description_wid…"
      ]
     },
     "metadata": {},
     "output_type": "display_data"
    },
    {
     "name": "stdout",
     "output_type": "stream",
     "text": [
      " & Local SSFR & 0.101 & 0.034 & 0.046 & 0.026 & 0.057 & 0.022 \\\\\n",
      "\\hline\n"
     ]
    },
    {
     "data": {
      "application/vnd.jupyter.widget-view+json": {
       "model_id": "",
       "version_major": 2,
       "version_minor": 0
      },
      "text/plain": [
       "HBox(children=(FloatProgress(value=0.0, description='SALT2 bootstrapping', style=ProgressStyle(description_wid…"
      ]
     },
     "metadata": {},
     "output_type": "display_data"
    },
    {
     "name": "stdout",
     "output_type": "stream",
     "text": [
      "Training subset & Host Mass & 0.077 & 0.029 & -0.005 & 0.033 & 0.026 & 0.026 \\\\\n"
     ]
    },
    {
     "data": {
      "application/vnd.jupyter.widget-view+json": {
       "model_id": "",
       "version_major": 2,
       "version_minor": 0
      },
      "text/plain": [
       "HBox(children=(FloatProgress(value=0.0, description='SALT2 bootstrapping', style=ProgressStyle(description_wid…"
      ]
     },
     "metadata": {},
     "output_type": "display_data"
    },
    {
     "name": "stdout",
     "output_type": "stream",
     "text": [
      " & Local SSFR & 0.124 & 0.037 & 0.050 & 0.037 & 0.056 & 0.029 \\\\\n",
      "\\hline\n"
     ]
    },
    {
     "data": {
      "application/vnd.jupyter.widget-view+json": {
       "model_id": "",
       "version_major": 2,
       "version_minor": 0
      },
      "text/plain": [
       "HBox(children=(FloatProgress(value=0.0, description='SALT2 bootstrapping', style=ProgressStyle(description_wid…"
      ]
     },
     "metadata": {},
     "output_type": "display_data"
    },
    {
     "name": "stdout",
     "output_type": "stream",
     "text": [
      "Validation subset & Host Mass & 0.110 & 0.042 & 0.064 & 0.035 & 0.058 & 0.029 \\\\\n"
     ]
    },
    {
     "data": {
      "application/vnd.jupyter.widget-view+json": {
       "model_id": "",
       "version_major": 2,
       "version_minor": 0
      },
      "text/plain": [
       "HBox(children=(FloatProgress(value=0.0, description='SALT2 bootstrapping', style=ProgressStyle(description_wid…"
      ]
     },
     "metadata": {},
     "output_type": "display_data"
    },
    {
     "name": "stdout",
     "output_type": "stream",
     "text": [
      " & Local SSFR & 0.119 & 0.053 & 0.018 & 0.039 & 0.057 & 0.033 \\\\\n"
     ]
    }
   ],
   "source": [
    "def print_row(f, mask, method, label):\n",
    "    for step_var, (side_probability, step_var_label, var_sign) in step_vars.items():\n",
    "        try:\n",
    "            stat_str = f\"{label.pop(0)}\"\n",
    "        except IndexError:\n",
    "            stat_str = \"\"\n",
    "\n",
    "        stat_str += f\" & {step_var_label}\"\n",
    "\n",
    "        for mag_kind in mag_vars.keys():\n",
    "            step, step_err = calc_step(mag_kind, mask, step_var, method)\n",
    "            # stat_str += f\" & {step:.3f} $\\pm$ {step_err:.3f}\"\n",
    "            stat_str += f\" & {step:.3f} & {step_err:.3f}\"\n",
    "        stat_str += \" \\\\\\\\\"\n",
    "        utils.latex_print(f, stat_str)\n",
    "\n",
    "        stat_str = f\"\"\n",
    "\n",
    "with a.latex_open('host_step_table.tex') as f:\n",
    "    print_row(f, 'base', 'fit', ['Simultaneous fit'])\n",
    "    utils.latex_print(f, '\\\\hline')\n",
    "    print_row(f, 'base', 'gmm', ['After correction'])\n",
    "    utils.latex_print(f, '\\\\hline')\n",
    "    print_row(f, 'peculiar', 'fit', ['Peculiars included'])\n",
    "    utils.latex_print(f, '\\\\hline')\n",
    "    print_row(f, 'train', 'fit', ['Training subset'])\n",
    "    utils.latex_print(f, '\\\\hline')\n",
    "    print_row(f, 'validation', 'fit', ['Validation subset'])"
   ]
  },
  {
   "cell_type": "markdown",
   "metadata": {},
   "source": [
    "## Step difference"
   ]
  },
  {
   "cell_type": "code",
   "execution_count": 38,
   "metadata": {},
   "outputs": [],
   "source": [
    "def bootstrap_step_difference(side_probabilities, residuals_1, uncertainties_1, residuals_2, uncertainties_2,\n",
    "                              mask, num_resamples=1000, plot=False):\n",
    "    mask_indices = np.where(mask)[0]\n",
    "    \n",
    "    ref_step_result_1 = fit_step(side_probabilities, residuals_1, uncertainties_1, mask, verbosity=0)\n",
    "    ref_step_result_2 = fit_step(side_probabilities, residuals_2, uncertainties_2, mask, verbosity=0)\n",
    "    print(ref_step_result_1['step_size'])\n",
    "    print(ref_step_result_2['step_size'])\n",
    "    \n",
    "    ref_diff = ref_step_result_1['step_size'] - ref_step_result_2['step_size']\n",
    "\n",
    "    step_diffs = []\n",
    "    for bootstrap_iter in tqdm(range(num_resamples), desc='Bootstrapping', leave=False):\n",
    "        bootstrap_idx = np.random.choice(len(mask_indices), len(mask_indices))\n",
    "        bootstrap_mask = mask_indices[bootstrap_idx]\n",
    "\n",
    "        step_result_1 = fit_step(side_probabilities, residuals_1, uncertainties_1, bootstrap_mask, verbosity=0, calculate_covariance=False)\n",
    "        step_result_2 = fit_step(side_probabilities, residuals_2, uncertainties_2, bootstrap_mask, verbosity=0, calculate_covariance=False)\n",
    "\n",
    "        step_diffs.append(step_result_1['step_size'] - step_result_2['step_size'])\n",
    "        \n",
    "    if plot:\n",
    "        plt.figure()\n",
    "        plt.hist(step_diffs, 30)\n",
    "\n",
    "    return np.abs(ref_diff), np.std(step_diffs)"
   ]
  },
  {
   "cell_type": "code",
   "execution_count": 39,
   "metadata": {},
   "outputs": [
    {
     "name": "stdout",
     "output_type": "stream",
     "text": [
      "-0.0321686929542795\n",
      "-0.0821309676780613\n"
     ]
    },
    {
     "data": {
      "application/vnd.jupyter.widget-view+json": {
       "model_id": "",
       "version_major": 2,
       "version_minor": 0
      },
      "text/plain": [
       "HBox(children=(FloatProgress(value=0.0, description='Bootstrapping', max=1000.0, style=ProgressStyle(descripti…"
      ]
     },
     "metadata": {},
     "output_type": "display_data"
    },
    {
     "name": "stdout",
     "output_type": "stream",
     "text": [
      "0.04662310887646594\n",
      "0.0929957931721629\n"
     ]
    },
    {
     "data": {
      "application/vnd.jupyter.widget-view+json": {
       "model_id": "",
       "version_major": 2,
       "version_minor": 0
      },
      "text/plain": [
       "HBox(children=(FloatProgress(value=0.0, description='Bootstrapping', max=1000.0, style=ProgressStyle(descripti…"
      ]
     },
     "metadata": {},
     "output_type": "display_data"
    },
    {
     "name": "stdout",
     "output_type": "stream",
     "text": [
      "\\newcommand{\\hoststepdiffmass}{0.050 $\\pm$ 0.014}\n",
      "\\newcommand{\\hoststepdiffmasssignificance}{3.7}\n",
      "\\newcommand{\\hoststepdifflssfr}{0.046 $\\pm$ 0.013}\n",
      "\\newcommand{\\hoststepdifflssfrsignificance}{3.7}\n"
     ]
    }
   ],
   "source": [
    "mask = masks['base']\n",
    "\n",
    "gp_fit = a.fit_gp_magnitude_residuals('rbtl', mask=mask, verbosity=0)\n",
    "salt_fit = a.fit_salt_magnitude_residuals(mask=mask, verbosity=0)\n",
    "\n",
    "mass_step_diff, mass_step_diff_err = bootstrap_step_difference(\n",
    "    a.indicators['host_p(highgmass)'],\n",
    "    gp_fit.residuals,\n",
    "    gp_fit.raw_residual_uncertainties,\n",
    "    salt_fit['residuals'],\n",
    "    salt_fit['raw_residual_uncertainties'],\n",
    "    mask,\n",
    ")\n",
    "\n",
    "lssfr_step_diff, lssfr_step_diff_err = bootstrap_step_difference(\n",
    "    a.indicators['host_p(prompt)'],\n",
    "    gp_fit.residuals,\n",
    "    gp_fit.raw_residual_uncertainties,\n",
    "    salt_fit['residuals'],\n",
    "    salt_fit['raw_residual_uncertainties'],\n",
    "    mask,\n",
    ")\n",
    "\n",
    "with a.latex_open('host_step_differences.tex') as f:\n",
    "    utils.latex_command(f, 'hoststepdiffmass', '%.3f $\\\\pm$ %.3f', (mass_step_diff, mass_step_diff_err))\n",
    "    utils.latex_command(f, 'hoststepdiffmasssignificance', '%.1f', (mass_step_diff / mass_step_diff_err))\n",
    "    utils.latex_command(f, 'hoststepdifflssfr', '%.3f $\\\\pm$ %.3f', (np.abs(lssfr_step_diff), lssfr_step_diff_err))\n",
    "    utils.latex_command(f, 'hoststepdifflssfrsignificance', '%.1f', (np.abs(lssfr_step_diff) / lssfr_step_diff_err))"
   ]
  },
  {
   "cell_type": "markdown",
   "metadata": {},
   "source": [
    "## Summary plot"
   ]
  },
  {
   "cell_type": "code",
   "execution_count": 10,
   "metadata": {},
   "outputs": [
    {
     "data": {
      "application/vnd.jupyter.widget-view+json": {
       "model_id": "58ac466e1369440c8134b15f161944c7",
       "version_major": 2,
       "version_minor": 0
      },
      "text/plain": [
       "HBox(children=(FloatProgress(value=1.0, bar_style='info', description='Plot data', max=1.0, style=ProgressStyl…"
      ]
     },
     "metadata": {},
     "output_type": "display_data"
    },
    {
     "data": {
      "application/vnd.jupyter.widget-view+json": {
       "model_id": "",
       "version_major": 2,
       "version_minor": 0
      },
      "text/plain": [
       "HBox(children=(FloatProgress(value=0.0, description='SALT2 bootstrapping', style=ProgressStyle(description_wid…"
      ]
     },
     "metadata": {},
     "output_type": "display_data"
    },
    {
     "data": {
      "application/vnd.jupyter.widget-view+json": {
       "model_id": "",
       "version_major": 2,
       "version_minor": 0
      },
      "text/plain": [
       "HBox(children=(FloatProgress(value=0.0, description='SALT2 bootstrapping', style=ProgressStyle(description_wid…"
      ]
     },
     "metadata": {},
     "output_type": "display_data"
    },
    {
     "data": {
      "application/vnd.jupyter.widget-view+json": {
       "model_id": "",
       "version_major": 2,
       "version_minor": 0
      },
      "text/plain": [
       "HBox(children=(FloatProgress(value=0.0, description='SALT2 bootstrapping', style=ProgressStyle(description_wid…"
      ]
     },
     "metadata": {},
     "output_type": "display_data"
    },
    {
     "data": {
      "application/vnd.jupyter.widget-view+json": {
       "model_id": "",
       "version_major": 2,
       "version_minor": 0
      },
      "text/plain": [
       "HBox(children=(FloatProgress(value=0.0, description='SALT2 bootstrapping', style=ProgressStyle(description_wid…"
      ]
     },
     "metadata": {},
     "output_type": "display_data"
    },
    {
     "name": "stdout",
     "output_type": "stream",
     "text": [
      "\n"
     ]
    }
   ],
   "source": [
    "plot_versions = [\n",
    "    ('host_gmass', 'base', 'fit', 'Host Mass\\nSimultaneous Fit'),\n",
    "    ('host_gmass', 'base', 'gmm', 'Host Mass\\nAfter Correction'),\n",
    "    ('host_gmass', 'peculiar', 'fit', 'Host Mass\\nPeculiars Included'),\n",
    "    ('host_lssfr', 'base', 'fit', 'Local SSFR\\nSimultaneous Fit'),\n",
    "    ('host_lssfr', 'base', 'gmm', 'Local SSFR\\nAfter Correction'),\n",
    "    ('host_lssfr', 'peculiar', 'fit', 'Local SSFR\\nPeculiars Included'),\n",
    "]\n",
    "\n",
    "host_plot_data = {}\n",
    "\n",
    "for idx, (step_var, mask, method, label) in tqdm(enumerate(plot_versions), desc='Plot data'):\n",
    "    steps = {}\n",
    "    for mag_kind, (use_gp, mag_label) in mag_vars.items():\n",
    "        steps[mag_label] = calc_step(mag_kind, mask, step_var, method)\n",
    "\n",
    "    host_plot_data[label] = steps"
   ]
  },
  {
   "cell_type": "code",
   "execution_count": 11,
   "metadata": {},
   "outputs": [
    {
     "data": {
      "application/vnd.jupyter.widget-view+json": {
       "model_id": "f44f91b18c9748408f5bf2000ede5eaa",
       "version_major": 2,
       "version_minor": 0
      },
      "text/plain": [
       "Canvas(toolbar=Toolbar(toolitems=[('Home', 'Reset original view', 'home', 'home'), ('Back', 'Back to previous …"
      ]
     },
     "metadata": {},
     "output_type": "display_data"
    }
   ],
   "source": [
    "plt.figure(figsize=(9, 4))\n",
    "labels = []\n",
    "\n",
    "label_locs = [0, 1, 2, 3.2, 4.2, 5.2]\n",
    "\n",
    "for prop_idx, (prop_label, prop_values) in enumerate(host_plot_data.items()):\n",
    "    for mag_idx, (mag_label, mag_values) in enumerate(prop_values.items()):\n",
    "        step_value, step_err = mag_values\n",
    "        \n",
    "        marker = 'oooo'[mag_idx]\n",
    "        color = 'C%d' % (mag_idx)\n",
    "        if prop_idx == 0:\n",
    "            label = mag_label\n",
    "        else:\n",
    "            label = None\n",
    "            \n",
    "            \n",
    "        gap = 0.1\n",
    "        xpos = label_locs[prop_idx] - 0.5*gap + gap * mag_idx\n",
    "        plt.errorbar(xpos, step_value, step_err, c=color, alpha=1.)\n",
    "        plt.plot(xpos, step_value, marker=marker, c=color, label=label)\n",
    "        \n",
    "    labels.append(prop_label)\n",
    "\n",
    "plt.xticks(label_locs, labels=labels)\n",
    "plt.axhline(0., c='k')\n",
    "plt.xlim(-0.5, label_locs[-1] + 0.5)\n",
    "plt.ylim(-0.01, 0.17)\n",
    "\n",
    "plt.ylabel('Step size (mag)')\n",
    "plt.legend(loc=2)\n",
    "\n",
    "a.savefig('host_step_summary.pdf')"
   ]
  },
  {
   "cell_type": "markdown",
   "metadata": {},
   "source": [
    "## Host galaxy steps dump"
   ]
  },
  {
   "cell_type": "code",
   "execution_count": 12,
   "metadata": {},
   "outputs": [
    {
     "name": "stdout",
     "output_type": "stream",
     "text": [
      "\\newcommand{\\hoststepfitrbtllssfr}{0.066 $\\pm$ 0.022}\n"
     ]
    },
    {
     "data": {
      "application/vnd.jupyter.widget-view+json": {
       "model_id": "",
       "version_major": 2,
       "version_minor": 0
      },
      "text/plain": [
       "HBox(children=(FloatProgress(value=0.0, description='SALT2 bootstrapping', style=ProgressStyle(description_wid…"
      ]
     },
     "metadata": {},
     "output_type": "display_data"
    },
    {
     "name": "stdout",
     "output_type": "stream",
     "text": [
      "\\newcommand{\\hoststepfitsaltlssfr}{0.121 $\\pm$ 0.029}\n"
     ]
    },
    {
     "name": "stderr",
     "output_type": "stream",
     "text": [
      "/home/kyle/packages/conda/lib/python3.8/site-packages/george/kernels.py:95: RuntimeWarning: divide by zero encountered in log\n",
      "  log_constant = np.log(float(b)/self.ndim)\n"
     ]
    },
    {
     "name": "stdout",
     "output_type": "stream",
     "text": [
      "\\newcommand{\\hoststepgmmrbtllssfr}{0.047 $\\pm$ 0.018}\n",
      "\\newcommand{\\hoststepgmmsaltlssfr}{0.093 $\\pm$ 0.022}\n",
      "\\newcommand{\\hoststeppeculiarrbtllssfr}{0.057 $\\pm$ 0.022}\n"
     ]
    },
    {
     "data": {
      "application/vnd.jupyter.widget-view+json": {
       "model_id": "",
       "version_major": 2,
       "version_minor": 0
      },
      "text/plain": [
       "HBox(children=(FloatProgress(value=0.0, description='SALT2 bootstrapping', style=ProgressStyle(description_wid…"
      ]
     },
     "metadata": {},
     "output_type": "display_data"
    },
    {
     "name": "stdout",
     "output_type": "stream",
     "text": [
      "\\newcommand{\\hoststeppeculiarsaltlssfr}{0.101 $\\pm$ 0.031}\n",
      "\\newcommand{\\hoststepfitrbtlmass}{0.040 $\\pm$ 0.020}\n"
     ]
    },
    {
     "data": {
      "application/vnd.jupyter.widget-view+json": {
       "model_id": "",
       "version_major": 2,
       "version_minor": 0
      },
      "text/plain": [
       "HBox(children=(FloatProgress(value=0.0, description='SALT2 bootstrapping', style=ProgressStyle(description_wid…"
      ]
     },
     "metadata": {},
     "output_type": "display_data"
    },
    {
     "name": "stdout",
     "output_type": "stream",
     "text": [
      "\\newcommand{\\hoststepfitsaltmass}{0.092 $\\pm$ 0.025}\n",
      "\\newcommand{\\hoststepgmmrbtlmass}{0.032 $\\pm$ 0.018}\n",
      "\\newcommand{\\hoststepgmmsaltmass}{0.082 $\\pm$ 0.021}\n",
      "\\newcommand{\\hoststeppeculiarrbtlmass}{0.031 $\\pm$ 0.020}\n"
     ]
    },
    {
     "data": {
      "application/vnd.jupyter.widget-view+json": {
       "model_id": "",
       "version_major": 2,
       "version_minor": 0
      },
      "text/plain": [
       "HBox(children=(FloatProgress(value=0.0, description='SALT2 bootstrapping', style=ProgressStyle(description_wid…"
      ]
     },
     "metadata": {},
     "output_type": "display_data"
    },
    {
     "name": "stdout",
     "output_type": "stream",
     "text": [
      "\\newcommand{\\hoststeppeculiarsaltmass}{0.059 $\\pm$ 0.027}\n"
     ]
    }
   ],
   "source": [
    "with a.latex_open('host_galaxy_properties.tex') as f:\n",
    "    utils.latex_command(f, 'hoststepfitrbtllssfr', '%.3f $\\\\pm$ %.3f', calc_step('rbtl', 'base', 'host_lssfr', 'fit'))\n",
    "    utils.latex_command(f, 'hoststepfitsaltlssfr', '%.3f $\\\\pm$ %.3f', calc_step('salt', 'base', 'host_lssfr', 'fit'))\n",
    "    utils.latex_command(f, 'hoststepgmmrbtllssfr', '%.3f $\\\\pm$ %.3f', calc_step('rbtl', 'base', 'host_lssfr', 'gmm'))\n",
    "    utils.latex_command(f, 'hoststepgmmsaltlssfr', '%.3f $\\\\pm$ %.3f', calc_step('salt', 'base', 'host_lssfr', 'gmm'))\n",
    "    utils.latex_command(f, 'hoststeppeculiarrbtllssfr', '%.3f $\\\\pm$ %.3f', calc_step('rbtl', 'peculiar', 'host_lssfr', 'fit'))\n",
    "    utils.latex_command(f, 'hoststeppeculiarsaltlssfr', '%.3f $\\\\pm$ %.3f', calc_step('salt', 'peculiar', 'host_lssfr', 'fit'))\n",
    "\n",
    "    utils.latex_command(f, 'hoststepfitrbtlmass', '%.3f $\\\\pm$ %.3f', calc_step('rbtl', 'base', 'host_gmass', 'fit'))\n",
    "    utils.latex_command(f, 'hoststepfitsaltmass', '%.3f $\\\\pm$ %.3f', calc_step('salt', 'base', 'host_gmass', 'fit'))\n",
    "    utils.latex_command(f, 'hoststepgmmrbtlmass', '%.3f $\\\\pm$ %.3f', calc_step('rbtl', 'base', 'host_gmass', 'gmm'))\n",
    "    utils.latex_command(f, 'hoststepgmmsaltmass', '%.3f $\\\\pm$ %.3f', calc_step('salt', 'base', 'host_gmass', 'gmm'))\n",
    "    utils.latex_command(f, 'hoststeppeculiarrbtlmass', '%.3f $\\\\pm$ %.3f', calc_step('rbtl', 'peculiar', 'host_gmass', 'fit'))\n",
    "    utils.latex_command(f, 'hoststeppeculiarsaltmass', '%.3f $\\\\pm$ %.3f', calc_step('salt', 'peculiar', 'host_gmass', 'fit'))"
   ]
  },
  {
   "cell_type": "markdown",
   "metadata": {},
   "source": [
    "# Attrition"
   ]
  },
  {
   "cell_type": "code",
   "execution_count": 56,
   "metadata": {},
   "outputs": [
    {
     "name": "stdout",
     "output_type": "stream",
     "text": [
      "\\textbf{General selection requirements} & \\\\\n",
      "SNe Ia Included in Twins Embedding (Paper I)                & 173 \\\\\n",
      "\\hline\n",
      "\\textbf{Standardization of near-maximum spectra} & \\\\\n",
      "\\textbf{(Section~\\ref{sec:magnitude_requirements})} & \\\\\n",
      "Host galaxy redshift available                      & 168 \\\\\n",
      "Host galaxy redshift above 0.02                     & 144 \\\\\n",
      "Measured $A_V$ < 0.5 mag                            & 134 \\\\\n",
      "Blinded training subsample                          & 72 \\\\\n",
      "Validation subsample                                & 62 \\\\\n",
      "\\hline\n",
      "\\textbf{Comparisons to SALT2 standardization} & \\\\\n",
      "\\textbf{(Section~\\ref{sec:salt2_standardization})} & \\\\\n",
      "Passes SALT2 selection requirements                 & 155 \\\\\n",
      "Passes host galaxy redshift and color requirements  & 127 \\\\\n",
      "Blinded training subsample                          & 66 \\\\\n",
      "Validation subsample                                & 61 \\\\\n"
     ]
    }
   ],
   "source": [
    "with a.latex_open('attrition_table.tex') as f:\n",
    "    utils.latex_print(f, \"\\\\textbf{General selection requirements} & \\\\\\\\\")\n",
    "    # utils.latex_print(f, \"SNe Ia with at least 5 SNfactory spectra            & %d \\\\\\\\\" % a.attrition_enough_spectra)\n",
    "    utils.latex_print(f, \"SNe Ia Included in Twins Embedding (Paper I)                & %d \\\\\\\\\" % np.sum(a.uncertainty_mask))\n",
    "    utils.latex_print(f, \"\\hline\")\n",
    "\n",
    "    utils.latex_print(f, \"\\\\textbf{Standardization of near-maximum spectra} & \\\\\\\\\")\n",
    "    utils.latex_print(f, r\"\\textbf{(Section~\\ref{sec:magnitude_requirements})} & \\\\\")\n",
    "    utils.latex_print(f, \"Host galaxy redshift available                      & %d \\\\\\\\\" % np.sum(a.uncertainty_mask & (a.redshift_errs < 0.004)))\n",
    "    utils.latex_print(f, \"Host galaxy redshift above 0.02                     & %d \\\\\\\\\" % np.sum(a.uncertainty_mask & (a.redshift_errs < 0.004) & (a.redshifts > 0.02)))\n",
    "    utils.latex_print(f, \"Measured $A_V$ < 0.5 mag                            & %d \\\\\\\\\" % np.sum(a.uncertainty_mask & a.redshift_color_mask))\n",
    "    utils.latex_print(f, \"Blinded training subsample                          & %d \\\\\\\\\" % np.sum(a.uncertainty_mask & a.redshift_color_mask & a.train_mask))\n",
    "    utils.latex_print(f, \"Validation subsample                                & %d \\\\\\\\\" % np.sum(a.uncertainty_mask & a.redshift_color_mask & ~a.train_mask))\n",
    "    utils.latex_print(f, \"\\hline\")\n",
    "    \n",
    "    utils.latex_print(f, \"\\\\textbf{Comparisons to SALT2 standardization} & \\\\\\\\\")\n",
    "    utils.latex_print(f, r\"\\textbf{(Section~\\ref{sec:salt2_standardization})} & \\\\\")\n",
    "    # utils.latex_print(f, \"Included in Twins Embedding (Paper I)                & %d \\\\\\\\\"% np.sum(a.uncertainty_mask))\n",
    "    utils.latex_print(f, \"Passes SALT2 selection requirements                 & %d \\\\\\\\\"% np.sum(a.salt_mask & a.uncertainty_mask))\n",
    "    utils.latex_print(f, \"Passes host galaxy redshift and color requirements  & %d \\\\\\\\\"% np.sum(a.salt_mask & a.uncertainty_mask & a.redshift_color_mask))\n",
    "    utils.latex_print(f, \"Blinded training subsample                          & %d \\\\\\\\\"% np.sum(a.salt_mask & a.uncertainty_mask & a.redshift_color_mask & a.train_mask))\n",
    "    utils.latex_print(f, \"Validation subsample                                & %d \\\\\\\\\"% np.sum(a.salt_mask & a.uncertainty_mask & a.redshift_color_mask & ~a.train_mask))"
   ]
  },
  {
   "cell_type": "code",
   "execution_count": 118,
   "metadata": {},
   "outputs": [
    {
     "name": "stdout",
     "output_type": "stream",
     "text": [
      "\\newcommand{\\nummanifoldsne}{173}\n",
      "\n",
      "\\newcommand{\\numsnftrain}{78}\n",
      "\\newcommand{\\numsnftraincombined}{97}\n",
      "\\newcommand{\\numsnfvalid}{76}\n",
      "\\newcommand{\\numsnfother}{19}\n",
      "\n",
      "\\newcommand{\\numsnredshift}{5}\n",
      "\\newcommand{\\numlowredshift}{24}\n",
      "\\newcommand{\\numhighav}{17}\n",
      "\n",
      "\\newcommand{\\nummagsne}{134}\n",
      "\\newcommand{\\nummagsnetrain}{72}\n",
      "\\newcommand{\\nummagsnevalidation}{62}\n",
      "\n",
      "\\newcommand{\\numbadsalt}{18}\n",
      "\\newcommand{\\numsaltsne}{155}\n",
      "\\newcommand{\\numsaltmagsne}{127}\n",
      "\\newcommand{\\numsaltmagsnetrain}{66}\n",
      "\\newcommand{\\numsaltmagsnevalidation}{61}\n",
      "\n",
      "\\newcommand{\\numhostmagsne}{112}\n",
      "\\newcommand{\\numhostmagsnetrain}{61}\n",
      "\\newcommand{\\numhostmagsnevalidation}{51}\n",
      "\n",
      "\\newcommand{\\numsalthostmagsne}{105}\n",
      "\\newcommand{\\numsalthostmagsnetrain}{57}\n",
      "\\newcommand{\\numsalthostmagsnevalidation}{48}\n",
      "\n"
     ]
    }
   ],
   "source": [
    "with a.latex_open('attrition_parameters.tex') as f:\n",
    "    utils.latex_command(f, 'nummanifoldsne', '%d', np.sum(a.uncertainty_mask))\n",
    "    utils.latex_print(f, \"\")\n",
    "    utils.latex_command(f, 'numsnftrain', '%d', np.sum([i.subset == 'training' for i in a.targets[a.uncertainty_mask]]))\n",
    "    utils.latex_command(f, 'numsnftraincombined', '%d', np.sum([i.subset != 'validation' for i in a.targets[a.uncertainty_mask]]))\n",
    "    utils.latex_command(f, 'numsnfvalid', '%d', np.sum([i.subset == 'validation' for i in a.targets[a.uncertainty_mask]]))\n",
    "    utils.latex_command(f, 'numsnfother', '%d', np.sum([i.subset not in ['training', 'validation'] for i in a.targets[a.uncertainty_mask]]))\n",
    "    utils.latex_print(f, \"\")\n",
    "    utils.latex_command(f, 'numsnredshift', '%d', np.sum(a.uncertainty_mask & (a.redshift_errs >= 0.004)))\n",
    "    utils.latex_command(f, 'numlowredshift', '%d', np.sum(a.uncertainty_mask & (a.redshifts <= 0.02)))\n",
    "    utils.latex_command(f, 'numhighav', '%d', np.sum(a.uncertainty_mask & (a.rbtl_colors - np.median(a.rbtl_colors) >= 0.5)))\n",
    "    utils.latex_print(f, \"\")\n",
    "    utils.latex_command(f, 'nummagsne', '%d', np.sum(a.uncertainty_mask & a.redshift_color_mask))\n",
    "    utils.latex_command(f, 'nummagsnetrain', '%d', np.sum(a.uncertainty_mask & a.redshift_color_mask & a.train_mask))\n",
    "    utils.latex_command(f, 'nummagsnevalidation', '%d', np.sum(a.uncertainty_mask & a.redshift_color_mask & ~a.train_mask))\n",
    "    utils.latex_print(f, \"\")\n",
    "    utils.latex_command(f, 'numbadsalt', '%d', np.sum(a.uncertainty_mask & ~a.salt_mask))\n",
    "    utils.latex_command(f, 'numsaltsne', '%d', np.sum(a.uncertainty_mask & a.salt_mask))\n",
    "    utils.latex_command(f, 'numsaltmagsne', '%d', np.sum(a.uncertainty_mask & a.salt_mask & a.redshift_color_mask))\n",
    "    utils.latex_command(f, 'numsaltmagsnetrain', '%d', np.sum(a.uncertainty_mask & a.salt_mask & a.redshift_color_mask & a.train_mask))\n",
    "    utils.latex_command(f, 'numsaltmagsnevalidation', '%d', np.sum(a.uncertainty_mask & a.salt_mask & a.redshift_color_mask & ~a.train_mask))\n",
    "    utils.latex_print(f, \"\")\n",
    "    utils.latex_command(f, 'numhostmagsne', '%d', np.sum(a.uncertainty_mask & a.host_mask & a.redshift_color_mask))\n",
    "    utils.latex_command(f, 'numhostmagsnetrain', '%d', np.sum(a.uncertainty_mask & a.host_mask & a.redshift_color_mask & a.train_mask))\n",
    "    utils.latex_command(f, 'numhostmagsnevalidation', '%d', np.sum(a.uncertainty_mask & a.host_mask & a.redshift_color_mask & ~a.train_mask))\n",
    "    utils.latex_print(f, \"\")\n",
    "    utils.latex_command(f, 'numsalthostmagsne', '%d', np.sum(a.uncertainty_mask & a.salt_mask & a.host_mask & a.redshift_color_mask & a.peculiar_mask))\n",
    "    utils.latex_command(f, 'numsalthostmagsnetrain', '%d', np.sum(a.uncertainty_mask & a.salt_mask & a.host_mask & a.redshift_color_mask & a.train_mask & a.peculiar_mask))\n",
    "    utils.latex_command(f, 'numsalthostmagsnevalidation', '%d', np.sum(a.uncertainty_mask & a.salt_mask & a.host_mask & a.redshift_color_mask & ~a.train_mask & a.peculiar_mask))\n",
    "    utils.latex_print(f, \"\")"
   ]
  },
  {
   "cell_type": "code",
   "execution_count": 117,
   "metadata": {},
   "outputs": [
    {
     "data": {
      "text/plain": [
       "array([Target(name=\"PTF10nlg\"), Target(name=\"SN2010kg\")], dtype=object)"
      ]
     },
     "execution_count": 117,
     "metadata": {},
     "output_type": "execute_result"
    }
   ],
   "source": [
    "a.targets[~a.salt_mask & a.uncertainty_mask & ~a.train_mask]"
   ]
  },
  {
   "cell_type": "code",
   "execution_count": null,
   "metadata": {},
   "outputs": [],
   "source": []
  }
 ],
 "metadata": {
  "kernelspec": {
   "display_name": "Python 3",
   "language": "python",
   "name": "python3"
  },
  "language_info": {
   "codemirror_mode": {
    "name": "ipython",
    "version": 3
   },
   "file_extension": ".py",
   "mimetype": "text/x-python",
   "name": "python",
   "nbconvert_exporter": "python",
   "pygments_lexer": "ipython3",
   "version": "3.8.2"
  },
  "toc-autonumbering": true,
  "toc-showmarkdowntxt": false
 },
 "nbformat": 4,
 "nbformat_minor": 4
}
