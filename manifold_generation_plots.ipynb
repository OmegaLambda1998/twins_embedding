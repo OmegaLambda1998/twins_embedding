{
 "cells": [
  {
   "cell_type": "markdown",
   "metadata": {},
   "source": [
    "# Setup"
   ]
  },
  {
   "cell_type": "code",
   "execution_count": 1,
   "metadata": {},
   "outputs": [
    {
     "name": "stderr",
     "output_type": "stream",
     "text": [
      "/home/kyle/supernova/snfactory/manifold_twins/analysis/manifold_twins.py:15: TqdmExperimentalWarning: Using `tqdm.autonotebook.tqdm` in notebook mode. Use `tqdm.tqdm` instead to force console mode (e.g. in jupyter console)\n",
      "  from tqdm.autonotebook import tqdm\n"
     ]
    }
   ],
   "source": [
    "from idrtools import math\n",
    "from manifold_twins import ManifoldTwinsAnalysis\n",
    "from matplotlib import pyplot as plt\n",
    "from tqdm.notebook import tqdm\n",
    "from astropy.table import Table\n",
    "import utils\n",
    "import numpy as np"
   ]
  },
  {
   "cell_type": "code",
   "execution_count": 2,
   "metadata": {},
   "outputs": [],
   "source": [
    "%matplotlib widget "
   ]
  },
  {
   "cell_type": "code",
   "execution_count": 3,
   "metadata": {},
   "outputs": [
    {
     "name": "stdout",
     "output_type": "stream",
     "text": [
      "Loading dataset...\n",
      "    IDR:          BLACKSTON\n",
      "    Phase range: [-5.0, 5.0] days\n",
      "    Bin velocity: 1000.0\n"
     ]
    },
    {
     "data": {
      "application/vnd.jupyter.widget-view+json": {
       "model_id": "b64fe3d075824b3f9819eea5a0e5ab7b",
       "version_major": 2,
       "version_minor": 0
      },
      "text/plain": [
       "HBox(children=(FloatProgress(value=0.0, max=415.0), HTML(value='')))"
      ]
     },
     "metadata": {},
     "output_type": "display_data"
    },
    {
     "name": "stdout",
     "output_type": "stream",
     "text": [
      "\n",
      "Estimating the spectra at maximum light...\n",
      "    Loaded cached stan model\n",
      "    Using saved stan result\n",
      "Reading between the lines...\n",
      "    Loaded cached stan model\n",
      "    Using saved stan result\n",
      "Building masks...\n",
      "    Masking 30/203 targets whose uncertainty power is \n",
      "    more than 0.100 of the intrinsic power.\n",
      "Generating the manifold learning embedding...\n",
      "Loading other indicators of diversity...\n"
     ]
    },
    {
     "name": "stderr",
     "output_type": "stream",
     "text": [
      "/home/kyle/packages/conda/lib/python3.8/site-packages/numpy/ma/core.py:2794: UserWarning: Warning: converting a masked element to nan.\n",
      "  _data = np.array(data, dtype=dtype, copy=copy,\n",
      "/home/kyle/packages/conda/lib/python3.8/site-packages/george/kernels.py:95: RuntimeWarning: divide by zero encountered in log\n",
      "  log_constant = np.log(float(b)/self.ndim)\n"
     ]
    },
    {
     "name": "stdout",
     "output_type": "stream",
     "text": [
      "Fitting RBTL GP to magnitude residuals...\n",
      "GP magnitude residuals fit:\n",
      "    Fit result:           b'CONVERGENCE: REL_REDUCTION_OF_F_<=_FACTR*EPSMCH'\n",
      "    intrinsic_dispersion      0.073 ± 0.008\n",
      "    gp_kernel_amplitude       0.164 ± 0.082\n",
      "    gp_length_scale           5.541 ± 3.315\n",
      "    offset                    -0.101 ± 0.124\n",
      "    covariate_slope_0         -0.122 ± 0.051\n",
      "    Fit NMAD                  0.083 mag\n",
      "    Fit std                   0.100 mag\n",
      "Calculating SALT2 magnitude residuals...\n",
      "SALT2 magnitude residuals fit: \n",
      "    ref_mag: 7.052\n",
      "    alpha:   0.142\n",
      "    beta:    2.677\n",
      "    σ_int:   0.138\n",
      "    RMS:     0.156\n",
      "    NMAD:    0.109\n",
      "    WRMS:    0.156\n",
      "Done!\n"
     ]
    }
   ],
   "source": [
    "a = ManifoldTwinsAnalysis()\n",
    "a.settings['figure_directory'] = './output_generation/figures/'\n",
    "a.settings['latex_directory'] = './output_generation/latex/'\n",
    "a.run_analysis()"
   ]
  },
  {
   "cell_type": "markdown",
   "metadata": {},
   "source": [
    "# Estimating the spectra at maximum light"
   ]
  },
  {
   "cell_type": "markdown",
   "metadata": {},
   "source": [
    "## Examples of maximum light models"
   ]
  },
  {
   "cell_type": "code",
   "execution_count": 4,
   "metadata": {},
   "outputs": [
    {
     "data": {
      "application/vnd.jupyter.widget-view+json": {
       "model_id": "b069261569f04aa0afa9324d1218bc3e",
       "version_major": 2,
       "version_minor": 0
      },
      "text/plain": [
       "interactive(children=(IntSlider(value=101, description='idx', max=202), Output()), _dom_classes=('widget-inter…"
      ]
     },
     "metadata": {},
     "output_type": "display_data"
    },
    {
     "data": {
      "text/plain": [
       "<function __main__.plot_same_night(idx)>"
      ]
     },
     "execution_count": 4,
     "metadata": {},
     "output_type": "execute_result"
    }
   ],
   "source": [
    "def get_time_evolution_data(idx):\n",
    "    fluxes = a.flux[a.target_map == idx]\n",
    "    phases = a.salt_phases[a.target_map == idx]\n",
    "    model = a.differential_evolution_result['maximum_flux'][idx]\n",
    "    model_err = a.differential_evolution_result['maximum_fluxerr'][idx]\n",
    "    gray_offsets = a.differential_evolution_result['gray_offsets'][a.target_map == idx]\n",
    "    model_diffs = a.differential_evolution_result['model_diffs'][a.target_map == idx]\n",
    "    \n",
    "    return fluxes, phases, model, model_err, gray_offsets, model_diffs\n",
    "\n",
    "def plot_time_evolution_model(idx, ax=None):\n",
    "    if ax is None:\n",
    "        fig, ax = plt.subplots(figsize=a.settings['spectrum_plot_figsize'])\n",
    "    fluxes, phases, model, model_err, gray_offsets, model_diffs = get_time_evolution_data(idx)\n",
    "\n",
    "    for flux, phase in zip(fluxes, phases):\n",
    "        a.plot_flux(ax, flux, label='Data (%.2f days)' % phase)\n",
    "    a.plot_flux(ax, model, model_err, c='k', ls='--', label='Model (0 days)')\n",
    "    ax.legend()\n",
    "    ax.set_title(a.targets[idx])\n",
    "    \n",
    "def plot_time_evolution_difference(idx, ax=None):\n",
    "    if ax is None:\n",
    "        fig, ax = plt.subplots(figsize=a.settings['spectrum_plot_figsize'])\n",
    "    fluxes, phases, model, model_err, gray_offsets, model_diffs = get_time_evolution_data(idx)\n",
    "\n",
    "    phase_slope = a.differential_evolution_result['phase_slope']\n",
    "    phase_quadratic = a.differential_evolution_result['phase_quadratic']\n",
    "    gray_offsets = a.differential_evolution_result['gray_offsets'][a.target_map == idx]\n",
    "    model_diffs = a.differential_evolution_result['model_diffs'][a.target_map == idx]\n",
    "\n",
    "    for i, (flux, phase, gray_offset, model_diff) in enumerate(zip(fluxes, phases, gray_offsets, model_diffs)):\n",
    "        ax.plot(a.wave, -2.5*np.log10(flux / model), label='Data (%.2f days)' % phase, c='C%d' % i)\n",
    "    for i, (flux, phase, gray_offset, model_diff) in enumerate(zip(fluxes, phases, gray_offsets, model_diffs)):\n",
    "        ax.plot(a.wave, model_diff, label='Model (%.2f days)' % phase, c='C%d' % i, ls='--')\n",
    "    ax.legend(ncol=2, loc=1)\n",
    "    ax.set_title(a.targets[idx])\n",
    "    ax.set_xlabel(a.settings['spectrum_plot_xlabel'])\n",
    "    ax.set_ylabel('Difference from\\nmaximum light (mag)')\n",
    "\n",
    "def plot_time_evolution_residuals(idx, ax=None):\n",
    "    if ax is None:\n",
    "        fig, ax = plt.subplots(figsize=a.settings['spectrum_plot_figsize'])\n",
    "    fluxes, phases, model, model_err, gray_offsets, model_diffs = get_time_evolution_data(idx)\n",
    "    \n",
    "    # Plot the interpolation residuals\n",
    "    for i, (flux, phase, model_diff) in enumerate(zip(fluxes, phases, model_diffs)):\n",
    "        ax.plot(a.wave, -2.5*np.log10(flux / model) - model_diff, label='Residuals (%.2f days)' % phase, c='C%d' % i)\n",
    "    ax.legend()\n",
    "    ax.set_title(a.targets[idx])\n",
    "    ax.set_xlabel(a.settings['spectrum_plot_xlabel'])\n",
    "    ax.set_ylabel('Interpolation residuals (mag)')\n",
    "    \n",
    "def plot_same_night(idx):\n",
    "    plot_time_evolution_model(idx)\n",
    "    plot_time_evolution_difference(idx)\n",
    "    plot_time_evolution_residuals(idx)\n",
    "\n",
    "from ipywidgets import interact\n",
    "interact(plot_same_night, idx=(0, len(a.targets)-1))"
   ]
  },
  {
   "cell_type": "code",
   "execution_count": 5,
   "metadata": {},
   "outputs": [
    {
     "data": {
      "application/vnd.jupyter.widget-view+json": {
       "model_id": "bf83e8e07c71453ab35f10433ece6f65",
       "version_major": 2,
       "version_minor": 0
      },
      "text/plain": [
       "Canvas(toolbar=Toolbar(toolitems=[('Home', 'Reset original view', 'home', 'home'), ('Back', 'Back to previous …"
      ]
     },
     "metadata": {},
     "output_type": "display_data"
    }
   ],
   "source": [
    "plot_targets = ['PTF13ayw', 'SN2004gc']\n",
    "\n",
    "figsize = a.settings['spectrum_plot_figsize_double']\n",
    "fig, axes = plt.subplots(2, 1, figsize=figsize, sharex=True)\n",
    "\n",
    "for ax, plot_target in zip(axes, plot_targets):\n",
    "    target_names = np.array([i.name for i in a.targets])\n",
    "    plot_idx = np.where(target_names == plot_target)[0][0]\n",
    "\n",
    "    plot_time_evolution_model(plot_idx, ax)\n",
    "\n",
    "for ax in axes[:-1]:\n",
    "    ax.set_xlabel(None)\n",
    "\n",
    "a.savefig('time_evolution_model.pdf', fig)"
   ]
  },
  {
   "cell_type": "markdown",
   "metadata": {},
   "source": [
    "## Differential time evolution model"
   ]
  },
  {
   "cell_type": "code",
   "execution_count": 6,
   "metadata": {},
   "outputs": [
    {
     "data": {
      "application/vnd.jupyter.widget-view+json": {
       "model_id": "59f16bf0df04428f8054313d33a81ee8",
       "version_major": 2,
       "version_minor": 0
      },
      "text/plain": [
       "Canvas(toolbar=Toolbar(toolitems=[('Home', 'Reset original view', 'home', 'home'), ('Back', 'Back to previous …"
      ]
     },
     "metadata": {},
     "output_type": "display_data"
    }
   ],
   "source": [
    "cmap = a.settings['colormap']\n",
    "\n",
    "phase_slope = a.differential_evolution_result['phase_slope']\n",
    "phase_quadratic = a.differential_evolution_result['phase_quadratic']\n",
    "phase_slope_x1 = a.differential_evolution_result['phase_slope_x1']\n",
    "phase_quadratic_x1 = a.differential_evolution_result['phase_quadratic_x1']\n",
    "\n",
    "def evaluate_phase_difference(phase, x1=0):\n",
    "    phase_difference = (\n",
    "        phase_slope * phase\n",
    "        + phase_quadratic * phase * phase\n",
    "        + phase_slope_x1 * x1 * phase\n",
    "        + phase_quadratic_x1 * x1 * phase * phase\n",
    "    )\n",
    "    \n",
    "    return phase_difference\n",
    "\n",
    "# Look at change in phase for the same x1\n",
    "max_phase = a.settings['phase_range']\n",
    "min_phase = -a.settings['phase_range']\n",
    "num_phases = 10\n",
    "phases = np.linspace(min_phase, max_phase, num_phases)\n",
    "\n",
    "fig, ax = plt.subplots(figsize=a.settings['spectrum_plot_figsize'])\n",
    "\n",
    "norm = plt.Normalize(vmin=min_phase, vmax=max_phase)\n",
    "sm = plt.cm.ScalarMappable(cmap=cmap, norm=norm)\n",
    "sm.set_array(phases)\n",
    "\n",
    "for phase in phases:\n",
    "    ax.plot(a.wave, evaluate_phase_difference(phase), c=cmap(norm(phase)), zorder=np.abs(phase))\n",
    "\n",
    "fig.colorbar(sm, ax=ax, orientation='vertical', label='Phase (days)', aspect=40)\n",
    "\n",
    "ax.set_xlabel(a.settings['spectrum_plot_xlabel'])\n",
    "ax.set_ylabel('Brightness relative to\\n$t_{max,B}$ (mag)')\n",
    "ax.invert_yaxis()\n",
    "\n",
    "a.savefig('time_evolution_phase_difference.pdf', fig)"
   ]
  },
  {
   "cell_type": "code",
   "execution_count": 7,
   "metadata": {},
   "outputs": [],
   "source": [
    "# SALT2 x1 difference plots. This only makes sense if we are including x1 in the\n",
    "# differential evolution model, so these are blank with the default settings.\n",
    "# I only make them if x1 was actually used.\n",
    "\n",
    "def plot_x1_difference(phase):\n",
    "    # Look at change in phase for the same x1\n",
    "    min_x1 = -2\n",
    "    max_x1 = 2\n",
    "    num_x1s = 10\n",
    "    x1s = np.linspace(min_x1, max_x1, num_x1s)\n",
    "\n",
    "    fig, ax = plt.subplots(figsize=a.settings['spectrum_plot_figsize'])\n",
    "    norm = plt.Normalize(vmin=min_x1, vmax=max_x1)\n",
    "    sm = plt.cm.ScalarMappable(cmap=cmap, norm=norm)\n",
    "    sm.set_array(x1s)\n",
    "\n",
    "    for x1 in x1s:\n",
    "        diff = evaluate_phase_difference(phase, x1) - evaluate_phase_difference(phase, 0)\n",
    "        ax.plot(a.wave, diff, c=cmap(norm(x1)))\n",
    "\n",
    "    fig.colorbar(sm, label='SALT2 $x_1$')\n",
    "\n",
    "    ax.set_xlabel(a.settings['spectrum_plot_xlabel'])\n",
    "    ax.set_ylabel('Difference relative to $x_1=0$ (mag)')\n",
    "    ax.set_title('Difference in interpolation at %+d days' % phase)\n",
    "    ax.set_ylim(0.4, -0.4)\n",
    "    a.savefig('time_evolution_x1_difference_phase_%d.pdf' % phase, fig)\n",
    "\n",
    "if a.settings['differential_evolution_use_salt_x1']:\n",
    "    for phase in [-5, -3, -1, 1, 3, 5]:\n",
    "        plot_x1_difference(phase)"
   ]
  },
  {
   "cell_type": "markdown",
   "metadata": {},
   "source": [
    "## Gray dispersion"
   ]
  },
  {
   "cell_type": "code",
   "execution_count": 8,
   "metadata": {},
   "outputs": [
    {
     "name": "stdout",
     "output_type": "stream",
     "text": [
      "Gray dispersion scale: 0.0296 mag\n"
     ]
    },
    {
     "data": {
      "application/vnd.jupyter.widget-view+json": {
       "model_id": "7a7ff69009bd41d09d61beac67c09164",
       "version_major": 2,
       "version_minor": 0
      },
      "text/plain": [
       "Canvas(toolbar=Toolbar(toolitems=[('Home', 'Reset original view', 'home', 'home'), ('Back', 'Back to previous …"
      ]
     },
     "metadata": {},
     "output_type": "display_data"
    }
   ],
   "source": [
    "# Check if the gray dispersion is phase dependent. This should not be the\n",
    "# case if the model is working properly.\n",
    "gray_scale = a.differential_evolution_result['gray_dispersion_scale']\n",
    "print(f\"Gray dispersion scale: {gray_scale:.4f} mag\")\n",
    "\n",
    "plt.figure()\n",
    "gray_offsets = a.differential_evolution_result['gray_offsets']\n",
    "plt.scatter(a.salt_phases, gray_offsets, s=3, label='Individual spectra')\n",
    "math.plot_binned_mean(a.salt_phases, gray_offsets, c='C2', lw=2, label='Binned mean')\n",
    "math.plot_binned_rms(a.salt_phases, gray_offsets, c='C3', lw=2, label='Binned RMS')\n",
    "plt.xlabel('SALT2 Phase (days)')\n",
    "plt.ylabel('Gray offset (mag)')\n",
    "plt.legend()\n",
    "a.savefig('gray_offset_vs_phase.pdf')"
   ]
  },
  {
   "cell_type": "markdown",
   "metadata": {},
   "source": [
    "## Differential evolution uncertainty"
   ]
  },
  {
   "cell_type": "code",
   "execution_count": 45,
   "metadata": {},
   "outputs": [
    {
     "data": {
      "application/vnd.jupyter.widget-view+json": {
       "model_id": "abcba19c3c624657a10a5cb8298d1c21",
       "version_major": 2,
       "version_minor": 0
      },
      "text/plain": [
       "Canvas(toolbar=Toolbar(toolitems=[('Home', 'Reset original view', 'home', 'home'), ('Back', 'Back to previous …"
      ]
     },
     "metadata": {},
     "output_type": "display_data"
    },
    {
     "data": {
      "application/vnd.jupyter.widget-view+json": {
       "model_id": "9bf3887d42fc47c7b98e551b37804acb",
       "version_major": 2,
       "version_minor": 0
      },
      "text/plain": [
       "Canvas(toolbar=Toolbar(toolitems=[('Home', 'Reset original view', 'home', 'home'), ('Back', 'Back to previous …"
      ]
     },
     "metadata": {},
     "output_type": "display_data"
    }
   ],
   "source": [
    "coefs = a.differential_evolution_result['phase_dispersion_coefficients']\n",
    "num_phase_coefficients = len(coefs)\n",
    "\n",
    "phase_range = a.settings['phase_range']\n",
    "\n",
    "def evaluate_phase_dispersion(phase):\n",
    "    phase_scale = np.abs((num_phase_coefficients / 2) * (phase / phase_range))\n",
    "    full_bins = int(np.floor(phase_scale))\n",
    "    remainder = phase_scale - full_bins\n",
    "\n",
    "    phase_coefficients = np.zeros(num_phase_coefficients)\n",
    "\n",
    "    for j in range(full_bins + 1):\n",
    "        if j == full_bins:\n",
    "            weight = remainder\n",
    "        else:\n",
    "            weight = 1\n",
    "\n",
    "        if weight == 0:\n",
    "            break\n",
    "\n",
    "        if phase > 0:\n",
    "            phase_bin = num_phase_coefficients // 2 + j\n",
    "        else:\n",
    "            phase_bin = num_phase_coefficients // 2 - 1 - j\n",
    "            \n",
    "        phase_coefficients[phase_bin] = weight\n",
    "        \n",
    "    fractional_dispersion = phase_coefficients.dot(coefs)\n",
    "    \n",
    "    # Convert to magnitudes\n",
    "    mag_dispersion = utils.frac_to_mag(fractional_dispersion)\n",
    "\n",
    "    return mag_dispersion\n",
    "\n",
    "phases = np.linspace(-phase_range, phase_range, 1 + num_phase_coefficients)\n",
    "\n",
    "eval_coefs = np.array([evaluate_phase_dispersion(phase) for phase in phases])\n",
    "\n",
    "# Uncertainties for different wavelengths\n",
    "plt.figure()\n",
    "num_wave = 10\n",
    "for i in range(num_wave):\n",
    "    min_wave = a.wave[0]\n",
    "    max_wave = a.wave[-1]\n",
    "    wave_range = max_wave - min_wave\n",
    "    target_wave = min_wave + wave_range * i / (num_wave - 1)\n",
    "    idx = np.argmin(np.abs(a.wave - target_wave))\n",
    "    use_wave = a.wave[idx]\n",
    "    color = plt.cm.rainbow((use_wave - min_wave) / wave_range)\n",
    "    plt.plot(phases, eval_coefs[:, idx], label='%d $\\AA$' % use_wave, c=color)\n",
    "    \n",
    "plt.xlim(-5.2, 5.2)\n",
    "plt.xlabel('Phase (days)')\n",
    "plt.ylabel('Model uncertainty (mag)')\n",
    "plt.legend()\n",
    "a.savefig('time_evolution_uncertainty_phase.pdf')\n",
    "\n",
    "plt.figure(figsize=a.settings['spectrum_plot_figsize'])\n",
    "for i in range(len(phases)):\n",
    "    plt.plot(a.wave, eval_coefs[i], label='%+.2f days' % phases[i])\n",
    "plt.legend()\n",
    "plt.xlabel(a.settings['spectrum_plot_xlabel'])\n",
    "plt.ylabel('Model uncertainty (mag)')\n",
    "a.savefig('time_evolution_uncertainty_wavelength.pdf')"
   ]
  },
  {
   "cell_type": "code",
   "execution_count": 47,
   "metadata": {},
   "outputs": [
    {
     "data": {
      "text/plain": [
       "0.02223002696765615"
      ]
     },
     "execution_count": 47,
     "metadata": {},
     "output_type": "execute_result"
    }
   ],
   "source": [
    "np.median(a.maximum_uncertainty_fraction[a.uncertainty_mask])"
   ]
  },
  {
   "cell_type": "markdown",
   "metadata": {},
   "source": [
    "## Model accuracy"
   ]
  },
  {
   "cell_type": "code",
   "execution_count": 10,
   "metadata": {},
   "outputs": [
    {
     "data": {
      "application/vnd.jupyter.widget-view+json": {
       "model_id": "7dfc2c20189541168c9821cbc7702c56",
       "version_major": 2,
       "version_minor": 0
      },
      "text/plain": [
       "Canvas(toolbar=Toolbar(toolitems=[('Home', 'Reset original view', 'home', 'home'), ('Back', 'Back to previous …"
      ]
     },
     "metadata": {},
     "output_type": "display_data"
    },
    {
     "data": {
      "application/vnd.jupyter.widget-view+json": {
       "model_id": "99f821c84a2a4e17b86d2455782d070e",
       "version_major": 2,
       "version_minor": 0
      },
      "text/plain": [
       "Canvas(toolbar=Toolbar(toolitems=[('Home', 'Reset original view', 'home', 'home'), ('Back', 'Back to previous …"
      ]
     },
     "metadata": {},
     "output_type": "display_data"
    },
    {
     "data": {
      "application/vnd.jupyter.widget-view+json": {
       "model_id": "b5631028e5c548bd8de70c618d06ded9",
       "version_major": 2,
       "version_minor": 0
      },
      "text/plain": [
       "Canvas(toolbar=Toolbar(toolitems=[('Home', 'Reset original view', 'home', 'home'), ('Back', 'Back to previous …"
      ]
     },
     "metadata": {},
     "output_type": "display_data"
    },
    {
     "data": {
      "application/vnd.jupyter.widget-view+json": {
       "model_id": "4028a17c84f44731afb6990a7acdc463",
       "version_major": 2,
       "version_minor": 0
      },
      "text/plain": [
       "Canvas(toolbar=Toolbar(toolitems=[('Home', 'Reset original view', 'home', 'home'), ('Back', 'Back to previous …"
      ]
     },
     "metadata": {},
     "output_type": "display_data"
    }
   ],
   "source": [
    "max_flux = a.differential_evolution_result['maximum_flux']\n",
    "max_fluxerr = a.differential_evolution_result['maximum_fluxerr']\n",
    "\n",
    "max_magerr = utils.frac_to_mag(max_fluxerr / max_flux)\n",
    "\n",
    "rbtl_dispersion = utils.frac_to_mag(a.rbtl_result['fractional_dispersion'])\n",
    "\n",
    "def plot_uncertainties(show_rbtl=False):\n",
    "    plt.figure(figsize=a.settings['spectrum_plot_figsize'])\n",
    "    offset = 29\n",
    "    \n",
    "    # Make sure that we include the worst offender.\n",
    "    max_loc = np.argmax(np.sum(max_magerr**2, axis=1))\n",
    "    start = max_loc % offset\n",
    "    \n",
    "    for idx in range(start, len(a.targets), offset):\n",
    "        plt.plot(a.wave, max_magerr[idx], label=a.targets[idx].name)\n",
    "    plt.legend(ncol=2)\n",
    "    \n",
    "    plt.xlabel('Wavelength ($\\AA$)')\n",
    "    \n",
    "    if show_rbtl:\n",
    "        plt.plot(a.wave, rbtl_dispersion, label='SN intrinsic dispersion', c='k', lw=2, ls='--')\n",
    "        plt.ylabel('Dispersion (mag)')\n",
    "        filename = 'maximum_uncertainty_rbtl.pdf'\n",
    "    else:\n",
    "        plt.ylabel('Uncertainty on $f_{max}$ (mag)')\n",
    "        filename = 'maximum_uncertainty_norbtl.pdf'\n",
    "        \n",
    "    plt.legend(ncol=2)\n",
    "    a.savefig(filename)\n",
    "\n",
    "plot_uncertainties(False)\n",
    "plot_uncertainties(True)\n",
    "\n",
    "\n",
    "plt.figure(figsize=a.settings['spectrum_plot_figsize'])\n",
    "for idx in range(len(a.targets)):\n",
    "    if idx == 0:\n",
    "        label = 'Individual uncertainties of $f_{max}$'\n",
    "    else:\n",
    "        label = ''\n",
    "    plt.plot(a.wave, max_magerr[idx], label=label, alpha=0.02, c='C0')\n",
    "plt.plot(a.wave, rbtl_dispersion, label='Supernova intrinsic dispersion', lw=2, ls='--', c='k')\n",
    "plt.plot(a.wave, np.median(max_magerr, axis=0), label='Median uncertainty on $f_{max}$', lw=2, ls='--', c='C0')\n",
    "plt.plot(a.wave, np.max(max_magerr, axis=0), label='Maximum uncertainty on $f_{max}$', c='C1')\n",
    "plt.legend()\n",
    "plt.ylabel('Dispersion (mag)')\n",
    "plt.xlabel('Wavelength ($\\AA$)')\n",
    "a.savefig('maximum_uncertainty_median.pdf')\n",
    "\n",
    "plt.figure(figsize=a.settings['spectrum_plot_figsize'])\n",
    "plt.plot(a.wave, rbtl_dispersion, label='SN intrinsic dispersion', lw=2, ls='--', c='k')\n",
    "plt.plot(a.wave, np.min(max_magerr, axis=0), label='Minimum $\\sigma_{f,max}$')\n",
    "for percentile in (25, 50, 75):\n",
    "    plt.plot(a.wave, np.percentile(max_magerr, percentile, axis=0), label='%dth percentile $\\sigma_{f,max}$' % percentile)\n",
    "plt.plot(a.wave, np.max(max_magerr, axis=0), label='Maximum $\\sigma_{f,max}$')\n",
    "plt.legend(ncol=2)\n",
    "plt.ylabel('Dispersion (mag)')\n",
    "plt.xlabel('Wavelength ($\\AA$)')\n",
    "a.savefig('maximum_uncertainty_percentile.pdf')"
   ]
  },
  {
   "cell_type": "markdown",
   "metadata": {},
   "source": [
    "## Contribution to the total interpolation uncertainty from various sources"
   ]
  },
  {
   "cell_type": "code",
   "execution_count": 11,
   "metadata": {},
   "outputs": [
    {
     "data": {
      "application/vnd.jupyter.widget-view+json": {
       "model_id": "b9a3e3f7d67d4703a34ec10bf147b8bb",
       "version_major": 2,
       "version_minor": 0
      },
      "text/plain": [
       "Canvas(toolbar=Toolbar(toolitems=[('Home', 'Reset original view', 'home', 'home'), ('Back', 'Back to previous …"
      ]
     },
     "metadata": {},
     "output_type": "display_data"
    },
    {
     "data": {
      "application/vnd.jupyter.widget-view+json": {
       "model_id": "8573a42db94e4f2ca24abb6dbf2b672a",
       "version_major": 2,
       "version_minor": 0
      },
      "text/plain": [
       "Canvas(toolbar=Toolbar(toolitems=[('Home', 'Reset original view', 'home', 'home'), ('Back', 'Back to previous …"
      ]
     },
     "metadata": {},
     "output_type": "display_data"
    },
    {
     "data": {
      "application/vnd.jupyter.widget-view+json": {
       "model_id": "51faa37afbb6480b97c537577bad8ec0",
       "version_major": 2,
       "version_minor": 0
      },
      "text/plain": [
       "Canvas(toolbar=Toolbar(toolitems=[('Home', 'Reset original view', 'home', 'home'), ('Back', 'Back to previous …"
      ]
     },
     "metadata": {},
     "output_type": "display_data"
    },
    {
     "name": "stdout",
     "output_type": "stream",
     "text": [
      "Interpolation of 0.0-1.5 days:\n",
      "                 Raw: std=0.052, NMAD=0.039\n",
      "               Phase: std=0.045, NMAD=0.034\n",
      "          Phase + x1: std=0.045, NMAD=0.034\n",
      "        Phase + gray: std=0.029, NMAD=0.014\n",
      "   Phase + x1 + gray: std=0.029, NMAD=0.014\n",
      "\n",
      "Interpolation of 1.5-2.5 days:\n",
      "                 Raw: std=0.115, NMAD=0.087\n",
      "               Phase: std=0.080, NMAD=0.066\n",
      "          Phase + x1: std=0.080, NMAD=0.066\n",
      "        Phase + gray: std=0.061, NMAD=0.042\n",
      "   Phase + x1 + gray: std=0.061, NMAD=0.042\n",
      "\n",
      "Interpolation of 2.5-5.5 days:\n",
      "                 Raw: std=0.178, NMAD=0.126\n",
      "               Phase: std=0.094, NMAD=0.075\n",
      "          Phase + x1: std=0.094, NMAD=0.075\n",
      "        Phase + gray: std=0.081, NMAD=0.055\n",
      "   Phase + x1 + gray: std=0.081, NMAD=0.055\n",
      "\n",
      "Interpolation of 5.5-10.5 days:\n",
      "                 Raw: std=0.272, NMAD=0.209\n",
      "               Phase: std=0.128, NMAD=0.098\n",
      "          Phase + x1: std=0.128, NMAD=0.098\n",
      "        Phase + gray: std=0.108, NMAD=0.076\n",
      "   Phase + x1 + gray: std=0.108, NMAD=0.076\n",
      "\n"
     ]
    }
   ],
   "source": [
    "targets = []\n",
    "diffs = []\n",
    "phases_1 = []\n",
    "phases_2 = []\n",
    "x1s = []\n",
    "gray_differences = []\n",
    "\n",
    "gray_offsets = a.differential_evolution_result['gray_offsets']\n",
    "\n",
    "center_specs = a.spectra[a.center_mask]\n",
    "center_gray_offsets = gray_offsets[a.center_mask]\n",
    "for target_idx in range(len(a.targets)):\n",
    "    near_max_spec = center_specs[target_idx]\n",
    "    \n",
    "    target_mask = (a.target_map == target_idx) & (~a.center_mask)\n",
    "    target_specs = a.spectra[target_mask]\n",
    "    target_gray_offsets = gray_offsets[target_mask]\n",
    "    \n",
    "    for spec_idx, target_spec in enumerate(target_specs):\n",
    "        phase_diff = target_spec.phase - near_max_spec.phase\n",
    "        # if np.abs(phase_diff) < 1:\n",
    "            # continue\n",
    "\n",
    "        targets.append(a.targets[target_idx])\n",
    "        diff = -2.5*np.log10(target_spec.flux / near_max_spec.flux)\n",
    "        diffs.append(diff)\n",
    "        phases_1.append(near_max_spec.phase)\n",
    "        phases_2.append(target_spec.phase)\n",
    "        x1s.append(a.salt_x1[target_idx])\n",
    "        \n",
    "        gray_differences.append(target_gray_offsets[spec_idx] - center_gray_offsets[target_idx])\n",
    "\n",
    "targets = np.array(targets)\n",
    "diffs = np.array(diffs)\n",
    "phases_1 = np.array(phases_1)\n",
    "phases_2 = np.array(phases_2)\n",
    "x1s = np.array(x1s)\n",
    "gray_differences = np.array(gray_differences)\n",
    "\n",
    "phase_diffs = phases_2 - phases_1\n",
    "\n",
    "def plot_diffs(diffs, model_subtracted=False):\n",
    "    sel_mask = np.zeros(len(diffs), dtype=bool)\n",
    "    sel_mask[4::50] = True\n",
    "    sel_mask[np.abs(phase_diffs) < 1] = False\n",
    "    \n",
    "    plt.figure(figsize=a.settings['spectrum_plot_figsize'])\n",
    "    \n",
    "    for use_idx in np.where(sel_mask)[0]:\n",
    "        target = targets[use_idx]\n",
    "        phase_1 = phases_1[use_idx]\n",
    "        phase_2 = phases_2[use_idx]\n",
    "        \n",
    "        if phase_1 > phase_2:\n",
    "            phase_1, phase_2 = phase_2, phase_1\n",
    "        \n",
    "        label = '%s, %.1f to %.1f days' % (target, phase_1, phase_2)\n",
    "        \n",
    "        plt.plot(a.wave, diffs[use_idx] / phase_diffs[use_idx], alpha=0.5, label=label)\n",
    "        \n",
    "    plt.legend(ncol=2)\n",
    "\n",
    "    plt.ylim(-0.25, 0.25)\n",
    "    plt.xlabel('Wavelength ($\\AA$)')\n",
    "    if model_subtracted:\n",
    "        plt.ylabel('$\\Delta m / \\Delta t$ (data)\\n - $\\Delta m / \\Delta t$ (model) (mag/day)')\n",
    "    else:\n",
    "        plt.ylabel('$\\Delta m / \\Delta t$ (data) (mag/day)')\n",
    "\n",
    "plot_diffs(diffs)\n",
    "a.savefig('raw_phase_difference.pdf')\n",
    "\n",
    "residuals_no_x1 = []\n",
    "residuals_x1 = []\n",
    "for diff, phase_1, phase_2, x1 in zip(diffs, phases_1, phases_2, x1s):\n",
    "    model_no_x1 = evaluate_phase_difference(phase_2, 0) - evaluate_phase_difference(phase_1, 0)\n",
    "    model_x1 = evaluate_phase_difference(phase_2, x1) - evaluate_phase_difference(phase_1, x1)\n",
    "    residuals_no_x1.append(diff - model_no_x1)\n",
    "    residuals_x1.append(diff - model_x1)\n",
    "    \n",
    "residuals_no_x1 = np.array(residuals_no_x1)\n",
    "residuals_x1 = np.array(residuals_x1)\n",
    "\n",
    "residuals_gray_no_x1 = residuals_no_x1 - gray_differences[:, None]\n",
    "residuals_gray_x1 = residuals_x1 - gray_differences[:, None]\n",
    "\n",
    "plot_diffs(residuals_gray_no_x1, True)\n",
    "a.savefig('corr_phase_difference_no_x1.pdf')\n",
    "\n",
    "plot_diffs(residuals_gray_x1, True)\n",
    "a.savefig('corr_phase_difference_x1.pdf')\n",
    "\n",
    "def print_interpolation_residuals(min_days, max_days):\n",
    "    cut = (np.abs(phase_diffs) < max_days) & (np.abs(phase_diffs) > min_days)\n",
    "\n",
    "    def do_print(label, vals, cut):\n",
    "        cut_vals = vals[cut]\n",
    "        print('%20s: std=%.3f, NMAD=%.3f' % (label, math.rms(cut_vals), math.nmad(cut_vals)))\n",
    "\n",
    "    print(\"Interpolation of %.1f-%.1f days:\" % (min_days, max_days))\n",
    "    do_print('Raw', diffs, cut)    \n",
    "    do_print('Phase', residuals_no_x1, cut)    \n",
    "    do_print('Phase + x1', residuals_x1, cut)    \n",
    "    do_print('Phase + gray', residuals_gray_no_x1, cut)    \n",
    "    do_print('Phase + x1 + gray', residuals_gray_x1, cut)    \n",
    "    print(\"\")\n",
    "    \n",
    "print_interpolation_residuals(0., 1.5)\n",
    "print_interpolation_residuals(1.5, 2.5)\n",
    "print_interpolation_residuals(2.5, 5.5)\n",
    "print_interpolation_residuals(5.5, 10.5)"
   ]
  },
  {
   "cell_type": "markdown",
   "metadata": {},
   "source": [
    "## What fraction of the interpolation uncertainty is common?"
   ]
  },
  {
   "cell_type": "code",
   "execution_count": 12,
   "metadata": {},
   "outputs": [
    {
     "data": {
      "application/vnd.jupyter.widget-view+json": {
       "model_id": "1bd85446ac3b4ce28cd4b9ce032d5685",
       "version_major": 2,
       "version_minor": 0
      },
      "text/plain": [
       "Canvas(toolbar=Toolbar(toolitems=[('Home', 'Reset original view', 'home', 'home'), ('Back', 'Back to previous …"
      ]
     },
     "metadata": {},
     "output_type": "display_data"
    },
    {
     "data": {
      "application/vnd.jupyter.widget-view+json": {
       "model_id": "d3e2b811eaa4436cbdab1e72a6f2f2be",
       "version_major": 2,
       "version_minor": 0
      },
      "text/plain": [
       "Canvas(toolbar=Toolbar(toolitems=[('Home', 'Reset original view', 'home', 'home'), ('Back', 'Back to previous …"
      ]
     },
     "metadata": {},
     "output_type": "display_data"
    },
    {
     "name": "stdout",
     "output_type": "stream",
     "text": [
      "Median fraction of variance explained: 0.846\n"
     ]
    },
    {
     "name": "stderr",
     "output_type": "stream",
     "text": [
      "<ipython-input-12-bd488f3d2726>:21: RuntimeWarning: invalid value encountered in true_divide\n",
      "  plt.plot(phases, residual_dispersion**2 / (residual_dispersion**2 + common_dispersion**2), label='Fraction of dispersion remaining')\n",
      "<ipython-input-12-bd488f3d2726>:26: RuntimeWarning: invalid value encountered in true_divide\n",
      "  print(\"Median fraction of variance explained: %.3f\" % (1 - np.nanmedian(residual_dispersion**2 / (residual_dispersion**2 + common_dispersion**2))))\n"
     ]
    }
   ],
   "source": [
    "phases = np.linspace(-5, 5, 101)\n",
    "\n",
    "common_dispersion = []\n",
    "residual_dispersion = []\n",
    "\n",
    "for phase in phases:\n",
    "    common_dispersion.append(np.sqrt(np.mean(evaluate_phase_difference(phase)**2)))\n",
    "    residual_dispersion.append(np.sqrt(np.mean(evaluate_phase_dispersion(phase)**2)))\n",
    "    \n",
    "common_dispersion = np.array(common_dispersion)\n",
    "residual_dispersion = np.array(residual_dispersion)\n",
    "    \n",
    "plt.figure()\n",
    "plt.plot(phases, common_dispersion, label='Common variation (explained)')\n",
    "plt.plot(phases, residual_dispersion, label='Residual variation (unexplained)')\n",
    "plt.legend()\n",
    "plt.xlabel('Phase (days)')\n",
    "plt.ylabel('Overall dispersion (mag)')\n",
    "\n",
    "plt.figure()\n",
    "plt.plot(phases, residual_dispersion**2 / (residual_dispersion**2 + common_dispersion**2), label='Fraction of dispersion remaining')\n",
    "plt.legend()\n",
    "plt.xlabel('Phase (days)')\n",
    "plt.ylabel('Overall dispersion (mag)')\n",
    "\n",
    "print(\"Median fraction of variance explained: %.3f\" % (1 - np.nanmedian(residual_dispersion**2 / (residual_dispersion**2 + common_dispersion**2))))"
   ]
  },
  {
   "cell_type": "markdown",
   "metadata": {},
   "source": [
    "## Dump the model parameters"
   ]
  },
  {
   "cell_type": "code",
   "execution_count": 86,
   "metadata": {},
   "outputs": [],
   "source": [
    "def to_str(fmt, x):\n",
    "    return [fmt % i for i in x]\n",
    "    \n",
    "\n",
    "data_table = Table({\n",
    "    'Wavelength': to_str('%d', a.wave),\n",
    "    'Time evolution c1': to_str('%.3f', a.differential_evolution_result['phase_slope']),\n",
    "    'Time evolution c2': to_str('%.5f', a.differential_evolution_result['phase_quadratic']),\n",
    "    'Model uncertainties -5.0 days': to_str('%.3f', evaluate_phase_dispersion(-5)),\n",
    "    'Model uncertainties -2.5 days': to_str('%.3f', evaluate_phase_dispersion(-2.5)),\n",
    "    'Model uncertainties +2.5 days': to_str('%.3f', evaluate_phase_dispersion(2.5)),\n",
    "    'Model uncertainties +5.0 days': to_str('%.3f', evaluate_phase_dispersion(5.)),\n",
    "})\n",
    "\n",
    "def dump_data(f, count=None):\n",
    "    for row in data_table[:count]:\n",
    "        print(' & '.join(row) + ' \\\\\\\\', file=f)\n",
    "\n",
    "with a.latex_open('differential_time_evolution_parameters.tex') as f:\n",
    "    dump_data(f)\n",
    "\n",
    "with a.latex_open('differential_time_evolution_parameters_short.tex') as f:\n",
    "    dump_data(f, 10)"
   ]
  },
  {
   "cell_type": "markdown",
   "metadata": {},
   "source": [
    "# Reading between the lines plots"
   ]
  },
  {
   "cell_type": "markdown",
   "metadata": {},
   "source": [
    "## Show spectra before and after"
   ]
  },
  {
   "cell_type": "code",
   "execution_count": 13,
   "metadata": {},
   "outputs": [
    {
     "data": {
      "application/vnd.jupyter.widget-view+json": {
       "model_id": "19770b170ea74df69099a29518684d8c",
       "version_major": 2,
       "version_minor": 0
      },
      "text/plain": [
       "Canvas(toolbar=Toolbar(toolitems=[('Home', 'Reset original view', 'home', 'home'), ('Back', 'Back to previous …"
      ]
     },
     "metadata": {},
     "output_type": "display_data"
    },
    {
     "data": {
      "application/vnd.jupyter.widget-view+json": {
       "model_id": "cd5dad5b2af24f87a8fc0319b510f15d",
       "version_major": 2,
       "version_minor": 0
      },
      "text/plain": [
       "Canvas(toolbar=Toolbar(toolitems=[('Home', 'Reset original view', 'home', 'home'), ('Back', 'Back to previous …"
      ]
     },
     "metadata": {},
     "output_type": "display_data"
    },
    {
     "data": {
      "application/vnd.jupyter.widget-view+json": {
       "model_id": "8b219bd942be4bb3959f969f26f3fcd3",
       "version_major": 2,
       "version_minor": 0
      },
      "text/plain": [
       "Canvas(toolbar=Toolbar(toolitems=[('Home', 'Reset original view', 'home', 'home'), ('Back', 'Back to previous …"
      ]
     },
     "metadata": {},
     "output_type": "display_data"
    },
    {
     "data": {
      "application/vnd.jupyter.widget-view+json": {
       "model_id": "d2fff67336e34a598fe33ff3ead7ea67",
       "version_major": 2,
       "version_minor": 0
      },
      "text/plain": [
       "Canvas(toolbar=Toolbar(toolitems=[('Home', 'Reset original view', 'home', 'home'), ('Back', 'Back to previous …"
      ]
     },
     "metadata": {},
     "output_type": "display_data"
    }
   ],
   "source": [
    "fig, ax = plt.subplots(figsize=a.settings['spectrum_plot_figsize'])\n",
    "a.plot_flux(ax, a.maximum_flux[a.uncertainty_mask], lw=1, label='Individual spectra')\n",
    "ax.legend()\n",
    "a.savefig('spectra_at_maximum.pdf', fig)\n",
    "\n",
    "fig, ax = plt.subplots(figsize=a.settings['spectrum_plot_figsize'])\n",
    "a.plot_flux(ax, a.scale_flux[a.uncertainty_mask], lw=1., label='Individual spectra')\n",
    "a.plot_flux(ax, a.mean_flux, c='k', label='Mean spectrum')\n",
    "ax.legend()\n",
    "a.savefig('scale_spectra.pdf', fig)\n",
    "\n",
    "fig, ax = plt.subplots(figsize=a.settings['spectrum_plot_figsize'])\n",
    "a.plot_flux(ax, a.mean_flux, a.mean_flux * a.rbtl_result['fractional_dispersion'], label='Mean spectrum', uncertainty_label='Supernova intrinsic dispersion')\n",
    "ax.legend()\n",
    "a.savefig('scale_spectra_model.pdf', fig)\n",
    "\n",
    "fig, ax = plt.subplots(figsize=a.settings['spectrum_plot_figsize'])\n",
    "intrinsic_dispersion = utils.frac_to_mag(a.rbtl_result['fractional_dispersion'])\n",
    "ax.plot(a.wave, intrinsic_dispersion, c='k', lw=2, label='Supernova intrinsic dispersion')\n",
    "ax.legend()\n",
    "ax.set_xlabel(a.settings['spectrum_plot_xlabel'])\n",
    "ax.set_ylabel('Intrinsic dispersion (mag)')\n",
    "ax.set_ylim(0, None)\n",
    "a.savefig('rbtl_intrinsic_dispersion.pdf', fig)"
   ]
  },
  {
   "cell_type": "code",
   "execution_count": 14,
   "metadata": {},
   "outputs": [
    {
     "data": {
      "application/vnd.jupyter.widget-view+json": {
       "model_id": "60d07ebe14c146d48e0471977570f68b",
       "version_major": 2,
       "version_minor": 0
      },
      "text/plain": [
       "Canvas(toolbar=Toolbar(toolitems=[('Home', 'Reset original view', 'home', 'home'), ('Back', 'Back to previous …"
      ]
     },
     "metadata": {},
     "output_type": "display_data"
    }
   ],
   "source": [
    "# Combined version\n",
    "\n",
    "figsize = a.settings['spectrum_plot_figsize_triple']\n",
    "\n",
    "fig, (ax1, ax2, ax3) = plt.subplots(3, 1, figsize=figsize, sharex=True)\n",
    "\n",
    "a.plot_flux(ax1, a.maximum_flux[::8], lw=0.5, label='Individual spectra', c='C0')\n",
    "ax1.set_title('Original spectra')\n",
    "ax1.set_xlabel(None)\n",
    "\n",
    "a.plot_flux(ax2, a.scale_flux[a.uncertainty_mask][::8], lw=0.5, label='Individual spectra', c='C0')\n",
    "a.plot_flux(ax2, a.mean_flux, c='k', lw=2, ls='--', label='Mean spectrum')\n",
    "ax2.set_title('Dereddened spectra')\n",
    "ax2.set_xlabel(None)\n",
    "\n",
    "intrinsic_dispersion = utils.frac_to_mag(a.rbtl_result['fractional_dispersion'])\n",
    "ax3.plot(a.wave, intrinsic_dispersion, c='k')\n",
    "ax3.set_xlabel(a.settings['spectrum_plot_xlabel'])\n",
    "ax3.set_ylabel('Intrinsic dispersion (mag)')\n",
    "ax3.set_title('Recovered intrinsic dispersion')\n",
    "ax3.set_ylim(0, None)\n",
    "\n",
    "a.savefig('rbtl_spectra_combined.pdf')"
   ]
  },
  {
   "cell_type": "markdown",
   "metadata": {},
   "source": [
    "# Manifold learning plots"
   ]
  },
  {
   "cell_type": "markdown",
   "metadata": {},
   "source": [
    "## Plot the parameter space"
   ]
  },
  {
   "cell_type": "code",
   "execution_count": 15,
   "metadata": {},
   "outputs": [
    {
     "data": {
      "application/vnd.jupyter.widget-view+json": {
       "model_id": "022acf9703b243129c2765fbabbc4dfe",
       "version_major": 2,
       "version_minor": 0
      },
      "text/plain": [
       "Canvas(toolbar=Toolbar(toolitems=[('Home', 'Reset original view', 'home', 'home'), ('Back', 'Back to previous …"
      ]
     },
     "metadata": {},
     "output_type": "display_data"
    },
    {
     "data": {
      "text/plain": [
       "Text(0.5, 256.1609780253296, '$\\\\xi_1$')"
      ]
     },
     "execution_count": 15,
     "metadata": {},
     "output_type": "execute_result"
    }
   ],
   "source": [
    "a.scatter_combined([a.embedding[:, 2], a.embedding[:, 1], a.embedding[:, 0]], a.uncertainty_mask, vmin=-4, vmax=4, label='Other Component Value')\n",
    "a.savefig('embedding_components.pdf')\n",
    "plt.gca().set_xlabel('$\\\\xi_1$')"
   ]
  },
  {
   "cell_type": "markdown",
   "metadata": {},
   "source": [
    "## Slices through components"
   ]
  },
  {
   "cell_type": "code",
   "execution_count": 16,
   "metadata": {},
   "outputs": [],
   "source": [
    "def plot_steps(ax, component, num_steps=20, colorbar_aspect=50):\n",
    "    mask = a.uncertainty_mask\n",
    "\n",
    "    use_embedding = a.embedding[mask, component]\n",
    "    use_flux = a.scale_flux[mask]\n",
    "\n",
    "    bin_edges = np.percentile(use_embedding, np.linspace(0, 100, num_steps + 1))\n",
    "    bin_centers = (bin_edges[1:] + bin_edges[:-1]) / 2.\n",
    "\n",
    "    sm = plt.cm.ScalarMappable(cmap=a.settings['colormap'], norm=plt.Normalize(vmin=bin_centers[0], vmax=bin_centers[-1]))\n",
    "    sm._A = []\n",
    "\n",
    "    for step in range(num_steps):\n",
    "        step_mask = (use_embedding >= bin_edges[step]) & (use_embedding < bin_edges[step+1])\n",
    "        step_embedding = use_embedding[step_mask]\n",
    "\n",
    "        mean_val = np.mean(step_embedding)\n",
    "        step_flux = np.median(use_flux[step_mask], axis=0)\n",
    "\n",
    "        # Make the extreme values of components get plotted on top if everything overlaps.\n",
    "        zorder = np.abs(mean_val)\n",
    "\n",
    "        a.plot_flux(ax, step_flux, c=sm.to_rgba(mean_val), zorder=zorder)\n",
    "\n",
    "    fig.colorbar(sm, ax=ax, orientation='vertical', label='Component Value', pad=0, aspect=colorbar_aspect)"
   ]
  },
  {
   "cell_type": "code",
   "execution_count": 74,
   "metadata": {},
   "outputs": [
    {
     "data": {
      "application/vnd.jupyter.widget-view+json": {
       "model_id": "2d41e30d5d924c27b0a9e3cc369b4401",
       "version_major": 2,
       "version_minor": 0
      },
      "text/plain": [
       "Canvas(toolbar=Toolbar(toolitems=[('Home', 'Reset original view', 'home', 'home'), ('Back', 'Back to previous …"
      ]
     },
     "metadata": {},
     "output_type": "display_data"
    }
   ],
   "source": [
    "# All plots combined\n",
    "# fig, axes = plt.subplots(3, 1, figsize=(a.settings['spectrum_plot_figsize'][0], a.settings['spectrum_plot_figsize'][1] * 3 - 1.5), sharex=True)\n",
    "fig, axes = plt.subplots(3, 1, figsize=a.settings['spectrum_plot_figsize_triple'], sharex=True)\n",
    "\n",
    "label_lines = {\n",
    "    'SiII\\n4130': (3920, 4130),\n",
    "    'SiII\\n5972': (5650, 5900),\n",
    "    'SiII\\n6355': (5950, 6400),\n",
    "    'CaII\\nH&K': (3530, 3870),\n",
    "    'CaII\\nIR triplet': (7800, 8450),\n",
    "    'SII\\ndoublet': (5180, 5570),\n",
    "    'OI\\ntriplet': (7300, 7680),\n",
    "}\n",
    "\n",
    "for component, ax in enumerate(axes):\n",
    "    plot_steps(ax, component, colorbar_aspect=17)\n",
    "\n",
    "    if component != 2:\n",
    "        ax.set_xlabel(None)\n",
    "        \n",
    "    for line_label, (min_wave, max_wave) in label_lines.items():\n",
    "        ax.axvspan(min_wave, max_wave, alpha=0.15, color='gray')\n",
    "        mean_wave = (min_wave + max_wave) / 2.\n",
    "        if component == 2:\n",
    "            ax.text(mean_wave, 0.02, line_label, horizontalalignment='center', verticalalignment='bottom', fontsize=9.)\n",
    "\n",
    "    ax.set_title('Twins Manifold Component %d ($\\\\xi_{%d}$)' % (component + 1, component + 1))\n",
    "    # ax.set_ylabel('Normalized flux\\n(erg/cm$^2$/s/Hz)')\n",
    "\n",
    "a.savefig('component_steps_combined.pdf')"
   ]
  },
  {
   "cell_type": "code",
   "execution_count": 18,
   "metadata": {},
   "outputs": [
    {
     "data": {
      "application/vnd.jupyter.widget-view+json": {
       "model_id": "296e597c085241bca3b6c5787a37440a",
       "version_major": 2,
       "version_minor": 0
      },
      "text/plain": [
       "Canvas(toolbar=Toolbar(toolitems=[('Home', 'Reset original view', 'home', 'home'), ('Back', 'Back to previous …"
      ]
     },
     "metadata": {},
     "output_type": "display_data"
    }
   ],
   "source": [
    "# Version for talks\n",
    "fig, axes = plt.subplots(3, 1, figsize=(9, 7.5), sharex=True)\n",
    "\n",
    "for component, ax in enumerate(axes):\n",
    "    plot_steps(ax, component, colorbar_aspect=17)\n",
    "\n",
    "    if component != 2:\n",
    "        ax.set_xlabel(None)\n",
    "\n",
    "    ax.set_ylabel('Flux')\n",
    "\n",
    "a.savefig('component_steps_combined_talks.pdf')"
   ]
  },
  {
   "cell_type": "code",
   "execution_count": 19,
   "metadata": {},
   "outputs": [
    {
     "data": {
      "application/vnd.jupyter.widget-view+json": {
       "model_id": "faa54202887e478491c07545cb4549e7",
       "version_major": 2,
       "version_minor": 0
      },
      "text/plain": [
       "Canvas(toolbar=Toolbar(toolitems=[('Home', 'Reset original view', 'home', 'home'), ('Back', 'Back to previous …"
      ]
     },
     "metadata": {},
     "output_type": "display_data"
    },
    {
     "data": {
      "application/vnd.jupyter.widget-view+json": {
       "model_id": "295a542fd8cd4aafaf502b3eec06f1db",
       "version_major": 2,
       "version_minor": 0
      },
      "text/plain": [
       "Canvas(toolbar=Toolbar(toolitems=[('Home', 'Reset original view', 'home', 'home'), ('Back', 'Back to previous …"
      ]
     },
     "metadata": {},
     "output_type": "display_data"
    },
    {
     "data": {
      "application/vnd.jupyter.widget-view+json": {
       "model_id": "7d2595b6c6ec49d08ad3bbab855d3943",
       "version_major": 2,
       "version_minor": 0
      },
      "text/plain": [
       "Canvas(toolbar=Toolbar(toolitems=[('Home', 'Reset original view', 'home', 'home'), ('Back', 'Back to previous …"
      ]
     },
     "metadata": {},
     "output_type": "display_data"
    }
   ],
   "source": [
    "# Single plots\n",
    "for component in range(a.settings['isomap_num_components']):\n",
    "    fig, ax = plt.subplots(figsize=a.settings['spectrum_plot_figsize'])\n",
    "    ax.set_title('Twins Manifold Component %d ($\\\\xi_{%d}$)' % (component + 1, component + 1))\n",
    "    plot_steps(ax, component)"
   ]
  },
  {
   "cell_type": "markdown",
   "metadata": {},
   "source": [
    "## Reconstruction uncertainty"
   ]
  },
  {
   "cell_type": "code",
   "execution_count": 20,
   "metadata": {},
   "outputs": [
    {
     "data": {
      "application/vnd.jupyter.widget-view+json": {
       "model_id": "93929a1b247143b5bea35f1644285c16",
       "version_major": 2,
       "version_minor": 0
      },
      "text/plain": [
       "Canvas(toolbar=Toolbar(toolitems=[('Home', 'Reset original view', 'home', 'home'), ('Back', 'Back to previous …"
      ]
     },
     "metadata": {},
     "output_type": "display_data"
    }
   ],
   "source": [
    "# Note: the total variance isn't defined for Isomap. The variances of the transfomed components\n",
    "# do map onto the variance of real components though. We provide a very rough estimate of the\n",
    "# measurement variance for comparison purposes... not sure how much it can be trusted...\n",
    "\n",
    "num_show = 10\n",
    "\n",
    "# Do an initial embedding with as many components as possible to get the full variance.\n",
    "embedding = a.generate_embedding(num_components=50)\n",
    "variances = np.var(embedding[a.uncertainty_mask], axis=0)\n",
    "\n",
    "ref_var = np.sum(variances[:10])\n",
    "\n",
    "plot_ref = variances[0]\n",
    "\n",
    "plt.figure()\n",
    "plt.scatter(np.arange(num_show), variances[:num_show] / plot_ref, label='Contributed variance of each component')\n",
    "plt.ylim(0, None)\n",
    "plt.xlabel('Component number')\n",
    "plt.ylabel('Relative variance explained')\n",
    "plt.xticks(np.arange(num_show), np.arange(num_show) + 1)\n",
    "\n",
    "a.savefig('isomap_component_variance.pdf')"
   ]
  },
  {
   "cell_type": "markdown",
   "metadata": {},
   "source": [
    "## Twin reconstruction"
   ]
  },
  {
   "cell_type": "code",
   "execution_count": 21,
   "metadata": {},
   "outputs": [],
   "source": [
    "from IPython.display import display\n",
    "from scipy.spatial.distance import pdist\n",
    "from scipy.stats import percentileofscore\n",
    "import pandas as pd\n",
    "\n",
    "def plot_twin_distances(embedding, twins_percentile=10, figsize=None):\n",
    "    \"\"\"Plot a histogram of where twins show up in the transformed\n",
    "    embedding.\n",
    "    \"\"\"\n",
    "\n",
    "    mask = a.uncertainty_mask\n",
    "\n",
    "    spec_dists = pdist(a.fractional_differences[mask])\n",
    "    embedding_dists = pdist(embedding[mask])\n",
    "\n",
    "    splits = {\n",
    "        \"Best 10% of twinness\": (0, 10),\n",
    "        \"10-20%\": (10, 20),\n",
    "        \"20-50%\": (20, 50),\n",
    "        \"Worst 50% of twinness\": (50, 100),\n",
    "    }\n",
    "\n",
    "    # Set weight so that the histogram is 1 if we have every element in\n",
    "    # that bin.\n",
    "    weight = 100 / len(embedding_dists)\n",
    "\n",
    "    all_percentiles = []\n",
    "    all_weights = []\n",
    "\n",
    "    all_spec_cuts = []\n",
    "    all_embedding_cuts = []\n",
    "\n",
    "    for label, (min_percentile, max_percentile) in splits.items():\n",
    "        spec_cut = (spec_dists >= np.percentile(spec_dists, min_percentile)) & (\n",
    "            spec_dists < np.percentile(spec_dists, max_percentile)\n",
    "        )\n",
    "        embedding_cut = (embedding_dists >= np.percentile(embedding_dists, min_percentile)) & (\n",
    "            embedding_dists < np.percentile(embedding_dists, max_percentile)\n",
    "        )\n",
    "        percentiles = []\n",
    "        for dist in embedding_dists[spec_cut]:\n",
    "            percentiles.append(percentileofscore(embedding_dists, dist))\n",
    "        percentiles = np.array(percentiles)\n",
    "        weights = np.ones(len(percentiles)) * weight\n",
    "\n",
    "        all_percentiles.append(percentiles)\n",
    "        all_weights.append(weights)\n",
    "        all_spec_cuts.append(spec_cut)\n",
    "        all_embedding_cuts.append(embedding_cut)\n",
    "\n",
    "    plt.figure(figsize=figsize)\n",
    "    plt.hist(\n",
    "        all_percentiles,\n",
    "        100,\n",
    "        (0, 100),\n",
    "        weights=all_weights,\n",
    "        histtype=\"barstacked\",\n",
    "        label=splits.keys(),\n",
    "    )\n",
    "    plt.xlabel(\"Recovered twinness percentile in the embedded space\")\n",
    "    plt.ylabel(\"Fraction in bin\")\n",
    "    plt.legend()\n",
    "\n",
    "    plt.xlim(0, 100)\n",
    "    plt.ylim(0, 1)\n",
    "\n",
    "    for label, (min_percentile, max_percentile) in splits.items():\n",
    "        plt.axvline(max_percentile, c=\"k\", lw=2, ls=\"--\")\n",
    "\n",
    "    # Build leakage matrix.\n",
    "    leakage_matrix = np.zeros((len(splits), len(splits)))\n",
    "    for idx_1, label_1 in enumerate(splits.keys()):\n",
    "        for idx_2, label_2 in enumerate(splits.keys()):\n",
    "            spec_cut = all_spec_cuts[idx_1]\n",
    "            embedding_cut = all_embedding_cuts[idx_2]\n",
    "            leakage = np.sum(embedding_cut & spec_cut) / np.sum(spec_cut)\n",
    "            leakage_matrix[idx_1, idx_2] = leakage\n",
    "\n",
    "    # Print the leakage matrix using pandas\n",
    "    df = pd.DataFrame(\n",
    "        leakage_matrix,\n",
    "        index=[\"From %s\" % i for i in splits.keys()],\n",
    "        columns=[\"To %s\" % i for i in splits.keys()],\n",
    "    )\n",
    "    display(df)\n",
    "\n",
    "    return leakage_matrix"
   ]
  },
  {
   "cell_type": "code",
   "execution_count": 22,
   "metadata": {},
   "outputs": [
    {
     "data": {
      "application/vnd.jupyter.widget-view+json": {
       "model_id": "83f483f9127b4502a37ee19d2191e154",
       "version_major": 2,
       "version_minor": 0
      },
      "text/plain": [
       "Canvas(toolbar=Toolbar(toolitems=[('Home', 'Reset original view', 'home', 'home'), ('Back', 'Back to previous …"
      ]
     },
     "metadata": {},
     "output_type": "display_data"
    },
    {
     "data": {
      "text/html": [
       "<div>\n",
       "<style scoped>\n",
       "    .dataframe tbody tr th:only-of-type {\n",
       "        vertical-align: middle;\n",
       "    }\n",
       "\n",
       "    .dataframe tbody tr th {\n",
       "        vertical-align: top;\n",
       "    }\n",
       "\n",
       "    .dataframe thead th {\n",
       "        text-align: right;\n",
       "    }\n",
       "</style>\n",
       "<table border=\"1\" class=\"dataframe\">\n",
       "  <thead>\n",
       "    <tr style=\"text-align: right;\">\n",
       "      <th></th>\n",
       "      <th>To Best 10% of twinness</th>\n",
       "      <th>To 10-20%</th>\n",
       "      <th>To 20-50%</th>\n",
       "      <th>To Worst 50% of twinness</th>\n",
       "    </tr>\n",
       "  </thead>\n",
       "  <tbody>\n",
       "    <tr>\n",
       "      <th>From Best 10% of twinness</th>\n",
       "      <td>0.280914</td>\n",
       "      <td>0.276882</td>\n",
       "      <td>0.437500</td>\n",
       "      <td>0.004704</td>\n",
       "    </tr>\n",
       "    <tr>\n",
       "      <th>From 10-20%</th>\n",
       "      <td>0.173387</td>\n",
       "      <td>0.181452</td>\n",
       "      <td>0.547715</td>\n",
       "      <td>0.097446</td>\n",
       "    </tr>\n",
       "    <tr>\n",
       "      <th>From 20-50%</th>\n",
       "      <td>0.114945</td>\n",
       "      <td>0.109119</td>\n",
       "      <td>0.410710</td>\n",
       "      <td>0.365225</td>\n",
       "    </tr>\n",
       "    <tr>\n",
       "      <th>From Worst 50% of twinness</th>\n",
       "      <td>0.040199</td>\n",
       "      <td>0.042888</td>\n",
       "      <td>0.156494</td>\n",
       "      <td>0.760419</td>\n",
       "    </tr>\n",
       "  </tbody>\n",
       "</table>\n",
       "</div>"
      ],
      "text/plain": [
       "                            To Best 10% of twinness  To 10-20%  To 20-50%  \\\n",
       "From Best 10% of twinness                  0.280914   0.276882   0.437500   \n",
       "From 10-20%                                0.173387   0.181452   0.547715   \n",
       "From 20-50%                                0.114945   0.109119   0.410710   \n",
       "From Worst 50% of twinness                 0.040199   0.042888   0.156494   \n",
       "\n",
       "                            To Worst 50% of twinness  \n",
       "From Best 10% of twinness                   0.004704  \n",
       "From 10-20%                                 0.097446  \n",
       "From 20-50%                                 0.365225  \n",
       "From Worst 50% of twinness                  0.760419  "
      ]
     },
     "metadata": {},
     "output_type": "display_data"
    },
    {
     "data": {
      "application/vnd.jupyter.widget-view+json": {
       "model_id": "a0290f04ef0d4d78a71097bf742e0a77",
       "version_major": 2,
       "version_minor": 0
      },
      "text/plain": [
       "Canvas(toolbar=Toolbar(toolitems=[('Home', 'Reset original view', 'home', 'home'), ('Back', 'Back to previous …"
      ]
     },
     "metadata": {},
     "output_type": "display_data"
    },
    {
     "data": {
      "text/html": [
       "<div>\n",
       "<style scoped>\n",
       "    .dataframe tbody tr th:only-of-type {\n",
       "        vertical-align: middle;\n",
       "    }\n",
       "\n",
       "    .dataframe tbody tr th {\n",
       "        vertical-align: top;\n",
       "    }\n",
       "\n",
       "    .dataframe thead th {\n",
       "        text-align: right;\n",
       "    }\n",
       "</style>\n",
       "<table border=\"1\" class=\"dataframe\">\n",
       "  <thead>\n",
       "    <tr style=\"text-align: right;\">\n",
       "      <th></th>\n",
       "      <th>To Best 10% of twinness</th>\n",
       "      <th>To 10-20%</th>\n",
       "      <th>To 20-50%</th>\n",
       "      <th>To Worst 50% of twinness</th>\n",
       "    </tr>\n",
       "  </thead>\n",
       "  <tbody>\n",
       "    <tr>\n",
       "      <th>From Best 10% of twinness</th>\n",
       "      <td>0.579973</td>\n",
       "      <td>0.313172</td>\n",
       "      <td>0.106855</td>\n",
       "      <td>0.000000</td>\n",
       "    </tr>\n",
       "    <tr>\n",
       "      <th>From 10-20%</th>\n",
       "      <td>0.190860</td>\n",
       "      <td>0.305780</td>\n",
       "      <td>0.502688</td>\n",
       "      <td>0.000672</td>\n",
       "    </tr>\n",
       "    <tr>\n",
       "      <th>From 20-50%</th>\n",
       "      <td>0.057585</td>\n",
       "      <td>0.105086</td>\n",
       "      <td>0.600045</td>\n",
       "      <td>0.237284</td>\n",
       "    </tr>\n",
       "    <tr>\n",
       "      <th>From Worst 50% of twinness</th>\n",
       "      <td>0.011293</td>\n",
       "      <td>0.013176</td>\n",
       "      <td>0.118042</td>\n",
       "      <td>0.857489</td>\n",
       "    </tr>\n",
       "  </tbody>\n",
       "</table>\n",
       "</div>"
      ],
      "text/plain": [
       "                            To Best 10% of twinness  To 10-20%  To 20-50%  \\\n",
       "From Best 10% of twinness                  0.579973   0.313172   0.106855   \n",
       "From 10-20%                                0.190860   0.305780   0.502688   \n",
       "From 20-50%                                0.057585   0.105086   0.600045   \n",
       "From Worst 50% of twinness                 0.011293   0.013176   0.118042   \n",
       "\n",
       "                            To Worst 50% of twinness  \n",
       "From Best 10% of twinness                   0.000000  \n",
       "From 10-20%                                 0.000672  \n",
       "From 20-50%                                 0.237284  \n",
       "From Worst 50% of twinness                  0.857489  "
      ]
     },
     "metadata": {},
     "output_type": "display_data"
    },
    {
     "data": {
      "application/vnd.jupyter.widget-view+json": {
       "model_id": "5fbf016444144196970a133fe2db66bd",
       "version_major": 2,
       "version_minor": 0
      },
      "text/plain": [
       "Canvas(toolbar=Toolbar(toolitems=[('Home', 'Reset original view', 'home', 'home'), ('Back', 'Back to previous …"
      ]
     },
     "metadata": {},
     "output_type": "display_data"
    },
    {
     "data": {
      "text/html": [
       "<div>\n",
       "<style scoped>\n",
       "    .dataframe tbody tr th:only-of-type {\n",
       "        vertical-align: middle;\n",
       "    }\n",
       "\n",
       "    .dataframe tbody tr th {\n",
       "        vertical-align: top;\n",
       "    }\n",
       "\n",
       "    .dataframe thead th {\n",
       "        text-align: right;\n",
       "    }\n",
       "</style>\n",
       "<table border=\"1\" class=\"dataframe\">\n",
       "  <thead>\n",
       "    <tr style=\"text-align: right;\">\n",
       "      <th></th>\n",
       "      <th>To Best 10% of twinness</th>\n",
       "      <th>To 10-20%</th>\n",
       "      <th>To 20-50%</th>\n",
       "      <th>To Worst 50% of twinness</th>\n",
       "    </tr>\n",
       "  </thead>\n",
       "  <tbody>\n",
       "    <tr>\n",
       "      <th>From Best 10% of twinness</th>\n",
       "      <td>0.736559</td>\n",
       "      <td>0.235887</td>\n",
       "      <td>0.027554</td>\n",
       "      <td>0.000000</td>\n",
       "    </tr>\n",
       "    <tr>\n",
       "      <th>From 10-20%</th>\n",
       "      <td>0.196909</td>\n",
       "      <td>0.435484</td>\n",
       "      <td>0.367608</td>\n",
       "      <td>0.000000</td>\n",
       "    </tr>\n",
       "    <tr>\n",
       "      <th>From 20-50%</th>\n",
       "      <td>0.020614</td>\n",
       "      <td>0.105086</td>\n",
       "      <td>0.712973</td>\n",
       "      <td>0.161326</td>\n",
       "    </tr>\n",
       "    <tr>\n",
       "      <th>From Worst 50% of twinness</th>\n",
       "      <td>0.000941</td>\n",
       "      <td>0.002689</td>\n",
       "      <td>0.093170</td>\n",
       "      <td>0.903200</td>\n",
       "    </tr>\n",
       "  </tbody>\n",
       "</table>\n",
       "</div>"
      ],
      "text/plain": [
       "                            To Best 10% of twinness  To 10-20%  To 20-50%  \\\n",
       "From Best 10% of twinness                  0.736559   0.235887   0.027554   \n",
       "From 10-20%                                0.196909   0.435484   0.367608   \n",
       "From 20-50%                                0.020614   0.105086   0.712973   \n",
       "From Worst 50% of twinness                 0.000941   0.002689   0.093170   \n",
       "\n",
       "                            To Worst 50% of twinness  \n",
       "From Best 10% of twinness                   0.000000  \n",
       "From 10-20%                                 0.000000  \n",
       "From 20-50%                                 0.161326  \n",
       "From Worst 50% of twinness                  0.903200  "
      ]
     },
     "metadata": {},
     "output_type": "display_data"
    },
    {
     "data": {
      "application/vnd.jupyter.widget-view+json": {
       "model_id": "e815b030a1e64725b9f6890fa4e90c90",
       "version_major": 2,
       "version_minor": 0
      },
      "text/plain": [
       "Canvas(toolbar=Toolbar(toolitems=[('Home', 'Reset original view', 'home', 'home'), ('Back', 'Back to previous …"
      ]
     },
     "metadata": {},
     "output_type": "display_data"
    },
    {
     "data": {
      "text/html": [
       "<div>\n",
       "<style scoped>\n",
       "    .dataframe tbody tr th:only-of-type {\n",
       "        vertical-align: middle;\n",
       "    }\n",
       "\n",
       "    .dataframe tbody tr th {\n",
       "        vertical-align: top;\n",
       "    }\n",
       "\n",
       "    .dataframe thead th {\n",
       "        text-align: right;\n",
       "    }\n",
       "</style>\n",
       "<table border=\"1\" class=\"dataframe\">\n",
       "  <thead>\n",
       "    <tr style=\"text-align: right;\">\n",
       "      <th></th>\n",
       "      <th>To Best 10% of twinness</th>\n",
       "      <th>To 10-20%</th>\n",
       "      <th>To 20-50%</th>\n",
       "      <th>To Worst 50% of twinness</th>\n",
       "    </tr>\n",
       "  </thead>\n",
       "  <tbody>\n",
       "    <tr>\n",
       "      <th>From Best 10% of twinness</th>\n",
       "      <td>0.747984</td>\n",
       "      <td>0.222446</td>\n",
       "      <td>0.029570</td>\n",
       "      <td>0.000000</td>\n",
       "    </tr>\n",
       "    <tr>\n",
       "      <th>From 10-20%</th>\n",
       "      <td>0.188844</td>\n",
       "      <td>0.459677</td>\n",
       "      <td>0.351478</td>\n",
       "      <td>0.000000</td>\n",
       "    </tr>\n",
       "    <tr>\n",
       "      <th>From 20-50%</th>\n",
       "      <td>0.019942</td>\n",
       "      <td>0.103294</td>\n",
       "      <td>0.716782</td>\n",
       "      <td>0.159982</td>\n",
       "    </tr>\n",
       "    <tr>\n",
       "      <th>From Worst 50% of twinness</th>\n",
       "      <td>0.000672</td>\n",
       "      <td>0.001613</td>\n",
       "      <td>0.093708</td>\n",
       "      <td>0.904006</td>\n",
       "    </tr>\n",
       "  </tbody>\n",
       "</table>\n",
       "</div>"
      ],
      "text/plain": [
       "                            To Best 10% of twinness  To 10-20%  To 20-50%  \\\n",
       "From Best 10% of twinness                  0.747984   0.222446   0.029570   \n",
       "From 10-20%                                0.188844   0.459677   0.351478   \n",
       "From 20-50%                                0.019942   0.103294   0.716782   \n",
       "From Worst 50% of twinness                 0.000672   0.001613   0.093708   \n",
       "\n",
       "                            To Worst 50% of twinness  \n",
       "From Best 10% of twinness                   0.000000  \n",
       "From 10-20%                                 0.000000  \n",
       "From 20-50%                                 0.159982  \n",
       "From Worst 50% of twinness                  0.904006  "
      ]
     },
     "metadata": {},
     "output_type": "display_data"
    },
    {
     "data": {
      "application/vnd.jupyter.widget-view+json": {
       "model_id": "a9aa5823f5114bf28345da88345bf285",
       "version_major": 2,
       "version_minor": 0
      },
      "text/plain": [
       "Canvas(toolbar=Toolbar(toolitems=[('Home', 'Reset original view', 'home', 'home'), ('Back', 'Back to previous …"
      ]
     },
     "metadata": {},
     "output_type": "display_data"
    },
    {
     "data": {
      "text/html": [
       "<div>\n",
       "<style scoped>\n",
       "    .dataframe tbody tr th:only-of-type {\n",
       "        vertical-align: middle;\n",
       "    }\n",
       "\n",
       "    .dataframe tbody tr th {\n",
       "        vertical-align: top;\n",
       "    }\n",
       "\n",
       "    .dataframe thead th {\n",
       "        text-align: right;\n",
       "    }\n",
       "</style>\n",
       "<table border=\"1\" class=\"dataframe\">\n",
       "  <thead>\n",
       "    <tr style=\"text-align: right;\">\n",
       "      <th></th>\n",
       "      <th>To Best 10% of twinness</th>\n",
       "      <th>To 10-20%</th>\n",
       "      <th>To 20-50%</th>\n",
       "      <th>To Worst 50% of twinness</th>\n",
       "    </tr>\n",
       "  </thead>\n",
       "  <tbody>\n",
       "    <tr>\n",
       "      <th>From Best 10% of twinness</th>\n",
       "      <td>0.760753</td>\n",
       "      <td>0.208333</td>\n",
       "      <td>0.030914</td>\n",
       "      <td>0.000000</td>\n",
       "    </tr>\n",
       "    <tr>\n",
       "      <th>From 10-20%</th>\n",
       "      <td>0.190188</td>\n",
       "      <td>0.461694</td>\n",
       "      <td>0.348118</td>\n",
       "      <td>0.000000</td>\n",
       "    </tr>\n",
       "    <tr>\n",
       "      <th>From 20-50%</th>\n",
       "      <td>0.015460</td>\n",
       "      <td>0.107327</td>\n",
       "      <td>0.722384</td>\n",
       "      <td>0.154829</td>\n",
       "    </tr>\n",
       "    <tr>\n",
       "      <th>From Worst 50% of twinness</th>\n",
       "      <td>0.000538</td>\n",
       "      <td>0.001613</td>\n",
       "      <td>0.090750</td>\n",
       "      <td>0.906964</td>\n",
       "    </tr>\n",
       "  </tbody>\n",
       "</table>\n",
       "</div>"
      ],
      "text/plain": [
       "                            To Best 10% of twinness  To 10-20%  To 20-50%  \\\n",
       "From Best 10% of twinness                  0.760753   0.208333   0.030914   \n",
       "From 10-20%                                0.190188   0.461694   0.348118   \n",
       "From 20-50%                                0.015460   0.107327   0.722384   \n",
       "From Worst 50% of twinness                 0.000538   0.001613   0.090750   \n",
       "\n",
       "                            To Worst 50% of twinness  \n",
       "From Best 10% of twinness                   0.000000  \n",
       "From 10-20%                                 0.000000  \n",
       "From 20-50%                                 0.154829  \n",
       "From Worst 50% of twinness                  0.906964  "
      ]
     },
     "metadata": {},
     "output_type": "display_data"
    },
    {
     "data": {
      "application/vnd.jupyter.widget-view+json": {
       "model_id": "034809c5054f401aa7be5a01110da3aa",
       "version_major": 2,
       "version_minor": 0
      },
      "text/plain": [
       "Canvas(toolbar=Toolbar(toolitems=[('Home', 'Reset original view', 'home', 'home'), ('Back', 'Back to previous …"
      ]
     },
     "metadata": {},
     "output_type": "display_data"
    }
   ],
   "source": [
    "# Plot where twins and non-twins end up for different number of components.\n",
    "# We also make a summary plot.\n",
    "confused_fraction = []\n",
    "\n",
    "plot_components = np.arange(1, 6)\n",
    "for num_components in plot_components:\n",
    "    embedding = a.generate_embedding(num_components=num_components)\n",
    "    leakage_matrix = plot_twin_distances(embedding)\n",
    "    if num_components == 1:\n",
    "        title = '1 Component + Color'\n",
    "    else:\n",
    "        title = '%d Components + Color' % num_components\n",
    "    plt.title(title)\n",
    "    plt.xlabel('Recovered twinness percentile in the embedded space')\n",
    "    a.savefig('twins_recovery_%d_components.pdf' % num_components)\n",
    "\n",
    "    confused_fraction.append(leakage_matrix[3, 0] + leakage_matrix[3, 1])\n",
    "\n",
    "plt.figure()\n",
    "plt.scatter(np.arange(len(confused_fraction)) + 1, confused_fraction)\n",
    "plt.xticks(plot_components, plot_components)\n",
    "plt.ylim(0, 0.1)\n",
    "plt.xlabel('Number of components (in addition to color)')\n",
    "plt.ylabel('Fraction of non-twins confused as twins')\n",
    "a.savefig('twins_confusion.pdf')"
   ]
  },
  {
   "cell_type": "markdown",
   "metadata": {},
   "source": [
    "## Comparision to Branch classifications"
   ]
  },
  {
   "cell_type": "code",
   "execution_count": 23,
   "metadata": {},
   "outputs": [
    {
     "data": {
      "application/vnd.jupyter.widget-view+json": {
       "model_id": "a9e4b89ef14e4c50bc74074f57661ec2",
       "version_major": 2,
       "version_minor": 0
      },
      "text/plain": [
       "Canvas(toolbar=Toolbar(toolitems=[('Home', 'Reset original view', 'home', 'home'), ('Back', 'Back to previous …"
      ]
     },
     "metadata": {},
     "output_type": "display_data"
    },
    {
     "data": {
      "application/vnd.jupyter.widget-view+json": {
       "model_id": "3df9bf46ee6c4871abe526e3a93c12db",
       "version_major": 2,
       "version_minor": 0
      },
      "text/plain": [
       "Canvas(toolbar=Toolbar(toolitems=[('Home', 'Reset original view', 'home', 'home'), ('Back', 'Back to previous …"
      ]
     },
     "metadata": {},
     "output_type": "display_data"
    }
   ],
   "source": [
    "branch_colors = {\n",
    "    'Broad Line': 'b',\n",
    "    'Cool': 'r',\n",
    "    'Core Normal': 'black',\n",
    "    'Shallow Silicon': 'green',\n",
    "}\n",
    "\n",
    "branch_classification = a.indicators['branch_classification']\n",
    "mask = ~branch_classification.mask\n",
    "\n",
    "from matplotlib.colors import ListedColormap\n",
    "cmap = ListedColormap(branch_colors.values())\n",
    "color_id_map = {j:i for i, j in enumerate(branch_colors)}\n",
    "colors = np.array([color_id_map[i] for i in branch_classification[mask]])\n",
    "\n",
    "fig, ax = plt.subplots()\n",
    "scatter = ax.scatter(\n",
    "    a.indicators['spectrum_EWSiII6355'][mask],\n",
    "    a.indicators['spectrum_EWSiII5972'][mask],\n",
    "    c=colors,\n",
    "    cmap=cmap,\n",
    "    s=a.settings['scatter_plot_marker_size'],\n",
    "    edgecolors='gray'\n",
    ")\n",
    "ax.set_xlabel('SiII 6355 $\\AA$ Equivalent Width')\n",
    "ax.set_ylabel('SiII 5972 $\\AA$ Equivalent Width')\n",
    "\n",
    "ax.legend(handles=scatter.legend_elements()[0], labels=branch_colors.keys())\n",
    "\n",
    "a.savefig('branch_classification.pdf', fig)\n",
    "\n",
    "a.scatter_combined(branch_classification, mask, discrete_color_map=branch_colors, s=40)\n",
    "a.savefig('branch_labels.pdf')"
   ]
  },
  {
   "cell_type": "markdown",
   "metadata": {},
   "source": [
    "## Variation of Core Normal SNe Ia"
   ]
  },
  {
   "cell_type": "code",
   "execution_count": 24,
   "metadata": {},
   "outputs": [
    {
     "data": {
      "application/vnd.jupyter.widget-view+json": {
       "model_id": "feaa55adeb2b4c1fbbb5ee86e54b8116",
       "version_major": 2,
       "version_minor": 0
      },
      "text/plain": [
       "Canvas(toolbar=Toolbar(toolitems=[('Home', 'Reset original view', 'home', 'home'), ('Back', 'Back to previous …"
      ]
     },
     "metadata": {},
     "output_type": "display_data"
    }
   ],
   "source": [
    "core_normal_cut = a.indicators['branch_classification'] == 'Core Normal'\n",
    "\n",
    "component = 0\n",
    "\n",
    "cut_flux = a.scale_flux[core_normal_cut]\n",
    "cut_coord = a.embedding[core_normal_cut][:, component]\n",
    "\n",
    "sort_flux = cut_flux[np.argsort(cut_coord)]\n",
    "sort_coord = cut_coord[np.argsort(cut_coord)]\n",
    "\n",
    "num_bins = 10\n",
    "\n",
    "cmap = a.settings['colormap']\n",
    "sm = plt.cm.ScalarMappable(cmap=cmap, norm=plt.Normalize(vmin=np.percentile(cut_coord, 100 / num_bins / 2), vmax=np.percentile(cut_coord, 100 * (1 - 1. / num_bins / 2))))\n",
    "sm._A = []\n",
    "\n",
    "def plot_spec(bin_idx, ax):\n",
    "    min_idx = int(len(sort_coord) / num_bins * bin_idx)\n",
    "    max_idx = int(len(sort_coord) / num_bins * (bin_idx + 1))\n",
    "    bin_flux = sort_flux[min_idx:max_idx]\n",
    "    \n",
    "    f = np.median(bin_flux, axis=0)\n",
    "    \n",
    "    mean_val = np.mean(sort_coord[min_idx:max_idx])\n",
    "    \n",
    "    a.plot_flux(ax, f, c=sm.to_rgba(mean_val), zorder=np.abs(mean_val))\n",
    "    # plt.plot(a.wave, f * spectrum_plot_scale, c=sm.to_rgba(mean_val), zorder=np.abs(mean_val))\n",
    "    \n",
    "fig, ax = plt.subplots(figsize=a.settings['spectrum_plot_figsize'])\n",
    "for i in range(num_bins):\n",
    "    plot_spec(i, ax)\n",
    "\n",
    "fig.colorbar(sm, ax=ax, orientation='vertical', label='$\\\\xi_%d$' % (component + 1), pad=0, aspect=50)\n",
    "\n",
    "a.savefig('core_normal_comparison.pdf', fig)"
   ]
  },
  {
   "cell_type": "markdown",
   "metadata": {},
   "source": [
    "## Peculiar SNe Ia"
   ]
  },
  {
   "cell_type": "code",
   "execution_count": 25,
   "metadata": {},
   "outputs": [
    {
     "data": {
      "application/vnd.jupyter.widget-view+json": {
       "model_id": "41060caeddf44bb4a479e329b3d58678",
       "version_major": 2,
       "version_minor": 0
      },
      "text/plain": [
       "Canvas(toolbar=Toolbar(toolitems=[('Home', 'Reset original view', 'home', 'home'), ('Back', 'Back to previous …"
      ]
     },
     "metadata": {},
     "output_type": "display_data"
    }
   ],
   "source": [
    "peculiar_colors = {\n",
    "    'Normal': 'lightgray',\n",
    "    '91T-like': 'C0',\n",
    "    '91bg-like': 'C1',\n",
    "    '02cx-like': 'C2',\n",
    "}\n",
    "\n",
    "a.scatter_combined(a.indicators['peculiar_type'], a.uncertainty_mask, discrete_color_map=peculiar_colors, s=40)\n",
    "a.savefig('peculiar_locations.pdf')"
   ]
  },
  {
   "cell_type": "code",
   "execution_count": 26,
   "metadata": {},
   "outputs": [
    {
     "name": "stdout",
     "output_type": "stream",
     "text": [
      "\\newcommand{\\numpeculiarbg}{3}\n",
      "\\newcommand{\\numpeculiart}{7}\n",
      "\\newcommand{\\numpeculiarcx}{2}\n"
     ]
    }
   ],
   "source": [
    "# Count how many of each type, and write it out to a latex table\n",
    "with a.latex_open('peculiar_counts.tex') as f:\n",
    "    utils.latex_command(f, 'numpeculiarbg', '%d', np.sum(a.uncertainty_mask & (a.indicators['peculiar_type'] == '91bg-like')))\n",
    "    utils.latex_command(f, 'numpeculiart', '%d', np.sum(a.uncertainty_mask & (a.indicators['peculiar_type'] == '91T-like')))\n",
    "    utils.latex_command(f, 'numpeculiarcx', '%d', np.sum(a.uncertainty_mask & (a.indicators['peculiar_type'] == '02cx-like')))"
   ]
  },
  {
   "cell_type": "markdown",
   "metadata": {},
   "source": [
    "## Sequence from 91T to 91bg"
   ]
  },
  {
   "cell_type": "code",
   "execution_count": 27,
   "metadata": {},
   "outputs": [],
   "source": [
    "from scipy.spatial.distance import pdist, squareform\n",
    "from scipy.stats import percentileofscore\n",
    "from matplotlib import colors"
   ]
  },
  {
   "cell_type": "code",
   "execution_count": 28,
   "metadata": {},
   "outputs": [],
   "source": [
    "dist_matrix = squareform(pdist(a.fractional_differences))\n",
    "ref_dists = pdist(a.fractional_differences[a.uncertainty_mask])\n",
    "\n",
    "def find_nearest(coords, mask=a.uncertainty_mask):\n",
    "    dists = np.sum((a.embedding - np.asarray(coords))**2, axis=1)\n",
    "    dists[~mask] = np.nan\n",
    "    loc = np.nanargmin(dists)\n",
    "    # print(loc, a.targets[loc], a.embedding[loc], a.indicators['peculiar_type'][loc])\n",
    "    return loc\n",
    "    \n",
    "def find_sequence(start_coords, end_coords, mask=a.uncertainty_mask, num_steps=10):\n",
    "    start_coords = np.asarray(start_coords)\n",
    "    end_coords = np.asarray(end_coords)\n",
    "    \n",
    "    fig, ax = plt.subplots(figsize=a.settings['spectrum_plot_figsize'])\n",
    "\n",
    "    # cmap = a.settings['colormap']\n",
    "    # cmap = plt.cm.plasma\n",
    "    # sm = plt.cm.ScalarMappable(cmap=cmap, norm=plt.Normalize(vmin=0, vmax=1))\n",
    "    # sm._A = []\n",
    "    \n",
    "    # Make a truncated colormap\n",
    "    cmap = plt.cm.viridis\n",
    "    # cmap = plt.cm.plasma\n",
    "    cmap = colors.LinearSegmentedColormap.from_list('cut_cmap', cmap(np.linspace(0., 0.8, 100)))\n",
    "    # cmap = a.settings['colormap']\n",
    "    # cmap = plt.cm.plasma\n",
    "    # cmap = plt.cm.jet\n",
    "\n",
    "    sm = plt.cm.ScalarMappable(cmap=cmap, norm=plt.Normalize(vmin=0., vmax=1.))\n",
    "    sm._A = []\n",
    "    \n",
    "    locs = []\n",
    "    \n",
    "    for frac in np.linspace(0, 1, num_steps):\n",
    "        coords = start_coords + frac * (end_coords - start_coords)\n",
    "        loc = find_nearest(coords, mask)\n",
    "        \n",
    "        if len(locs) == 0 or loc != locs[-1]:\n",
    "            if frac == 0 or frac == 1:\n",
    "                ls = '--'\n",
    "            else:\n",
    "                ls = '-'\n",
    "            a.plot_flux(ax, a.scale_flux[loc], c=sm.to_rgba(frac), label=a.targets[loc].name, zorder=np.abs(frac - 0.5), ls=ls)\n",
    "            print_str = f'{loc:3d} {a.targets[loc].name:20s} {a.embedding[loc, 0]:5.2f} {a.embedding[loc, 1]:5.2f} {a.embedding[loc, 2]:5.2f}   {a.indicators[\"peculiar_type\"][loc]:20s}'\n",
    "            if len(locs) > 0:\n",
    "                print_str += f' {percentileofscore(ref_dists, dist_matrix[loc, locs[-1]]):.2f}'\n",
    "            print(print_str)\n",
    "            locs.append(loc)\n",
    "        \n",
    "    ax.legend(ncol=3)\n",
    "    ax.set_ylim(0, 0.75)\n",
    "    \n",
    "    return locs"
   ]
  },
  {
   "cell_type": "code",
   "execution_count": 29,
   "metadata": {},
   "outputs": [
    {
     "data": {
      "application/vnd.jupyter.widget-view+json": {
       "model_id": "c1904407eb8441a69ac61b40267e07b4",
       "version_major": 2,
       "version_minor": 0
      },
      "text/plain": [
       "Canvas(toolbar=Toolbar(toolitems=[('Home', 'Reset original view', 'home', 'home'), ('Back', 'Back to previous …"
      ]
     },
     "metadata": {},
     "output_type": "display_data"
    },
    {
     "name": "stdout",
     "output_type": "stream",
     "text": [
      " 40 PTF11kjn             -0.32 -5.24  1.66   91bg-like           \n",
      "193 SNNGC6343             0.54 -3.77  1.16   Normal               29.45\n",
      "200 SNhunt281             0.76 -3.36  0.52   Normal               5.04\n",
      "171 SNF20080810-001       1.88 -1.74  0.17   Normal               15.43\n",
      "181 SNF20080918-002       2.08 -1.28  0.02   Normal               1.94\n",
      "155 SNF20080516-022       2.41 -0.72  0.04   Normal               8.17\n",
      "173 SNF20080822-005       2.96  0.53 -0.39   Normal               17.21\n",
      "156 SNF20080522-000       4.27  0.88 -0.62   91T-like             5.86\n"
     ]
    },
    {
     "data": {
      "application/vnd.jupyter.widget-view+json": {
       "model_id": "420103ff33d84155a99009e31b717ef9",
       "version_major": 2,
       "version_minor": 0
      },
      "text/plain": [
       "Canvas(toolbar=Toolbar(toolitems=[('Home', 'Reset original view', 'home', 'home'), ('Back', 'Back to previous …"
      ]
     },
     "metadata": {},
     "output_type": "display_data"
    },
    {
     "name": "stdout",
     "output_type": "stream",
     "text": [
      "\\newcommand{\\sequencebgname}{PTF11kjn}\n",
      "\\newcommand{\\sequencebgcoord}{($-0.32, -5.24, 1.66$)}\n",
      "\\newcommand{\\sequencebgtwin}{SNNGC6343}\n",
      "\\newcommand{\\sequencebgtwinpercentile}{29}\n",
      "\\newcommand{\\sequencebgtcount}{8}\n",
      "\\newcommand{\\sequencetname}{SNF20080522-000}\n",
      "\\newcommand{\\sequencetcoord}{($4.27, 0.88, -0.62$)}\n",
      "\\newcommand{\\sequencettwin}{SNF20080522-000}\n",
      "\\newcommand{\\sequencettwinpercentile}{5}\n"
     ]
    }
   ],
   "source": [
    "locs = find_sequence([-0.3, -5.3, 2], [4., 2., -0.5], a.uncertainty_mask, 10)\n",
    "\n",
    "a.savefig('sequence_91bg_91t.pdf')\n",
    "\n",
    "label_colors = {\n",
    "    False: 'lightgray',\n",
    "    True: 'C0',\n",
    "}\n",
    "used_mask = np.array([i in locs for i in range(len(a.targets))])\n",
    "a.scatter_combined(used_mask, a.uncertainty_mask, discrete_color_map=label_colors, s=40)\n",
    "\n",
    "with a.latex_open('sequence_peculiars.tex') as f:\n",
    "    utils.latex_command(f, 'sequencebgname', '%s', a.targets[locs[0]].name)\n",
    "    utils.latex_command(f, 'sequencebgcoord', '($%.2f, %.2f, %.2f$)', tuple(a.embedding[locs[0]]))\n",
    "    utils.latex_command(f, 'sequencebgtwin', '%s', a.targets[locs[1]].name)\n",
    "    utils.latex_command(f, 'sequencebgtwinpercentile', '%d', percentileofscore(ref_dists, dist_matrix[locs[0], locs[1]]))\n",
    "    utils.latex_command(f, 'sequencebgtcount', '%d', len(locs))\n",
    "    utils.latex_command(f, 'sequencetname', '%s', a.targets[locs[-1]].name)\n",
    "    utils.latex_command(f, 'sequencetcoord', '($%.2f, %.2f, %.2f$)', tuple(a.embedding[locs[-1]]))\n",
    "    utils.latex_command(f, 'sequencettwin', '%s', a.targets[locs[-1]].name)\n",
    "    utils.latex_command(f, 'sequencettwinpercentile', '%d', percentileofscore(ref_dists, dist_matrix[locs[-1], locs[-2]]))"
   ]
  },
  {
   "cell_type": "code",
   "execution_count": 30,
   "metadata": {},
   "outputs": [
    {
     "data": {
      "application/vnd.jupyter.widget-view+json": {
       "model_id": "d6cfc8a09f3e46caaccf9f55213f8180",
       "version_major": 2,
       "version_minor": 0
      },
      "text/plain": [
       "Canvas(toolbar=Toolbar(toolitems=[('Home', 'Reset original view', 'home', 'home'), ('Back', 'Back to previous …"
      ]
     },
     "metadata": {},
     "output_type": "display_data"
    },
    {
     "name": "stdout",
     "output_type": "stream",
     "text": [
      " 62 SN2005cc              4.99  3.98  2.61   02cx-like           \n",
      " 12 LSQ13avx              2.90  3.62  1.92   Normal               58.89\n",
      "101 SNF20060512-001       1.81  2.58  2.18   Normal               17.46\n",
      " 20 PTF10hmv              0.91  1.50  1.47   Normal               8.36\n",
      "179 SNF20080914-001       0.05  0.84  1.88   Normal               5.34\n",
      "176 SNF20080908-000      -1.47  0.58  1.38   Normal               3.70\n",
      " 36 PTF11bnx             -2.13  0.11  1.52   Normal               4.29\n",
      " 55 PTF13anh             -3.04 -0.52  1.04   Normal               7.92\n",
      " 38 PTF11cao             -3.67 -0.41  0.99   Normal               1.83\n"
     ]
    },
    {
     "data": {
      "application/vnd.jupyter.widget-view+json": {
       "model_id": "8480196149cd49d094a61becd3d88c0d",
       "version_major": 2,
       "version_minor": 0
      },
      "text/plain": [
       "Canvas(toolbar=Toolbar(toolitems=[('Home', 'Reset original view', 'home', 'home'), ('Back', 'Back to previous …"
      ]
     },
     "metadata": {},
     "output_type": "display_data"
    },
    {
     "name": "stdout",
     "output_type": "stream",
     "text": [
      "\\newcommand{\\sequencecxname}{SN2005cc}\n",
      "\\newcommand{\\sequencecxcoord}{($4.99, 3.98, 2.61$)}\n",
      "\\newcommand{\\sequencecxtwin}{LSQ13avx}\n",
      "\\newcommand{\\sequencecxtwinpercentile}{58}\n",
      "\\newcommand{\\sequencecxend}{PTF11cao}\n"
     ]
    }
   ],
   "source": [
    "locs = find_sequence([5., 4., 2.], [-4., -1., 1.], 10)\n",
    "\n",
    "a.savefig('sequence_02cx.pdf')\n",
    "\n",
    "label_colors = {\n",
    "    False: 'lightgray',\n",
    "    True: 'C0',\n",
    "}\n",
    "used_mask = np.array([i in locs for i in range(len(a.targets))])\n",
    "a.scatter_combined(used_mask, a.uncertainty_mask, discrete_color_map=label_colors, s=40)\n",
    "\n",
    "with a.latex_open('sequence_peculiars_cx.tex') as f:\n",
    "    utils.latex_command(f, 'sequencecxname', '%s', a.targets[locs[0]].name)\n",
    "    utils.latex_command(f, 'sequencecxcoord', '($%.2f, %.2f, %.2f$)', tuple(a.embedding[locs[0]]))\n",
    "    utils.latex_command(f, 'sequencecxtwin', '%s', a.targets[locs[1]].name)\n",
    "    utils.latex_command(f, 'sequencecxtwinpercentile', '%d', percentileofscore(ref_dists, dist_matrix[locs[0], locs[1]]))\n",
    "    utils.latex_command(f, 'sequencecxend', '%s', a.targets[locs[-1]].name)"
   ]
  },
  {
   "cell_type": "markdown",
   "metadata": {},
   "source": [
    "## Color comparison"
   ]
  },
  {
   "cell_type": "code",
   "execution_count": 31,
   "metadata": {},
   "outputs": [
    {
     "data": {
      "application/vnd.jupyter.widget-view+json": {
       "model_id": "774d8c7e22e04ce5931e135d9db3d5c0",
       "version_major": 2,
       "version_minor": 0
      },
      "text/plain": [
       "Canvas(toolbar=Toolbar(toolitems=[('Home', 'Reset original view', 'home', 'home'), ('Back', 'Back to previous …"
      ]
     },
     "metadata": {},
     "output_type": "display_data"
    },
    {
     "data": {
      "text/plain": [
       "(<matplotlib.axes._subplots.AxesSubplot at 0x7f99ba6281c0>,\n",
       " <matplotlib.axes._subplots.AxesSubplot at 0x7f99ba6c0ee0>,\n",
       " <matplotlib.axes._subplots.AxesSubplot at 0x7f9a051aef10>)"
      ]
     },
     "execution_count": 31,
     "metadata": {},
     "output_type": "execute_result"
    }
   ],
   "source": [
    "a.scatter_combined(a.rbtl_colors, a.uncertainty_mask, vmin=-0.3, vmax=0.3, label='RBTL Color')"
   ]
  },
  {
   "cell_type": "markdown",
   "metadata": {},
   "source": [
    "## SALT2 x1 comparison"
   ]
  },
  {
   "cell_type": "code",
   "execution_count": 32,
   "metadata": {},
   "outputs": [
    {
     "data": {
      "application/vnd.jupyter.widget-view+json": {
       "model_id": "a33016dba2764214bd3a4b27da91225f",
       "version_major": 2,
       "version_minor": 0
      },
      "text/plain": [
       "Canvas(toolbar=Toolbar(toolitems=[('Home', 'Reset original view', 'home', 'home'), ('Back', 'Back to previous …"
      ]
     },
     "metadata": {},
     "output_type": "display_data"
    },
    {
     "data": {
      "text/plain": [
       "(<matplotlib.axes._subplots.AxesSubplot at 0x7f9a05106850>,\n",
       " <matplotlib.axes._subplots.AxesSubplot at 0x7f9a05124310>,\n",
       " <matplotlib.axes._subplots.AxesSubplot at 0x7f9a05045730>)"
      ]
     },
     "execution_count": 32,
     "metadata": {},
     "output_type": "execute_result"
    }
   ],
   "source": [
    "a.scatter_combined(a.salt_x1, a.uncertainty_mask, label='SALT2 $x_1$')"
   ]
  },
  {
   "cell_type": "markdown",
   "metadata": {},
   "source": [
    "# Recovering other indicators of intrinsic diversity"
   ]
  },
  {
   "cell_type": "markdown",
   "metadata": {},
   "source": [
    "## Do quadratic transformations for everything\n"
   ]
  },
  {
   "cell_type": "code",
   "execution_count": 33,
   "metadata": {},
   "outputs": [],
   "source": [
    "isomap_indicators = [\n",
    "    'isomap_c1',\n",
    "    'isomap_c2',\n",
    "    'isomap_c3',\n",
    "]\n",
    "\n",
    "sugar_indicators = [\n",
    "    'sugar_q1',\n",
    "    'sugar_q2',\n",
    "    'sugar_q3',\n",
    "]\n",
    "\n",
    "snemo_indicators = [\n",
    "    'snemo7_c1',\n",
    "    'snemo7_c2',\n",
    "    'snemo7_c3',\n",
    "    'snemo7_c4',\n",
    "    'snemo7_c5',\n",
    "    'snemo7_c6',\n",
    "]\n",
    "\n",
    "salt_indicators = [\n",
    "    'salt_x1',\n",
    "]\n",
    "\n",
    "target_indicators = {\n",
    "    'spectrum_EWCaIIHK' : 'pEW CaII HK',\n",
    "    'spectrum_EWSiII4000': 'pEW SiII 4000 $\\AA$',\n",
    "    'spectrum_EWSiII5972': 'pEW SiII 5972 $\\AA$',\n",
    "    'spectrum_EWSiII6355': 'pEW SiII 6355 $\\AA$',\n",
    "    'spectrum_vCaIIHK': 'Velocity Ca II HK',\n",
    "    'spectrum_vSiII6355': 'Velocity Si II 6355 $\\AA$',\n",
    "\n",
    "    'salt_x1': 'SALT2 $x_1$ (B14)',\n",
    "    \n",
    "    # 'isomap_c1': 'Twins Manifold $\\\\xi_1$',\n",
    "    # 'isomap_c2': 'Twins Manifold $\\\\xi_2$',\n",
    "    # 'isomap_c3': 'Twins Manifold $\\\\xi_3$',\n",
    "\n",
    "    # 'nordin_uNi_pre': 'uNi pre-peak\\n(Nordin et al. 2018)',\n",
    "    # 'nordin_uTi_pre': 'uTi pre-peak\\n(Nordin et al. 2018)',\n",
    "    # 'nordin_uSi_pre': 'uSi pre-peak\\n(Nordin et al. 2018)',\n",
    "    'nordin_uCa_pre': 'uCa pre-peak',\n",
    "    'nordin_uCa_max': 'uCa near-peak',\n",
    "    'nordin_uNi_max': 'uNi near-peak',\n",
    "    'nordin_uSi_max': 'uSi near-peak',\n",
    "    'nordin_uTi_max': 'uTi near-peak',\n",
    "    # 'nordin_uNi_post': 'uNi post-peak\\n(Nordin et al. 2018)',\n",
    "    'nordin_uTi_post': 'uTi post-peak',\n",
    "    # 'nordin_uSi_post': 'uSi post-peak\\n(Nordin et al. 2018)',\n",
    "    # 'nordin_uCa_post': 'uCa post-peak\\n(Nordin et al. 2018)',\n",
    "\n",
    "    # 'sugar_q1': 'SUGAR Component 1\\n(Leget et al. 2019)',\n",
    "    # 'sugar_q2': 'SUGAR Component 2',\n",
    "    # 'sugar_q3': 'SUGAR Component 3',\n",
    "    \n",
    "    'sugar_q1': 'SUGAR $q_1$',\n",
    "    'sugar_q2': 'SUGAR $q_2$',\n",
    "    'sugar_q3': 'SUGAR $q_3$',\n",
    "    \n",
    "    # 'snemo7_c1': 'SNEMO7 Component 1\\n(Saunders et al. 2018)',\n",
    "    # 'snemo7_c2': 'SNEMO7 Component 2',\n",
    "    # 'snemo7_c3': 'SNEMO7 Component 3',\n",
    "    # 'snemo7_c4': 'SNEMO7 Component 4',\n",
    "    # 'snemo7_c5': 'SNEMO7 Component 5',\n",
    "    # 'snemo7_c6': 'SNEMO7 Component 6',\n",
    "\n",
    "    'snemo7_c1': 'SNEMO7 $c_1$',\n",
    "    'snemo7_c2': 'SNEMO7 $c_2$',\n",
    "    'snemo7_c3': 'SNEMO7 $c_3$',\n",
    "    'snemo7_c4': 'SNEMO7 $c_4$',\n",
    "    'snemo7_c5': 'SNEMO7 $c_5$',\n",
    "    'snemo7_c6': 'SNEMO7 $c_6$',\n",
    "    \n",
    "    # 'snemo15_c1': 'SNEMO15 Component 1\\n(Saunders et al. 2018)',\n",
    "    # 'snemo15_c2': 'SNEMO15 Component 2\\n(Saunders et al. 2018)',\n",
    "    # 'snemo15_c3': 'SNEMO15 Component 3\\n(Saunders et al. 2018)',\n",
    "    # 'snemo15_c4': 'SNEMO15 Component 4\\n(Saunders et al. 2018)',\n",
    "    # 'snemo15_c5': 'SNEMO15 Component 5\\n(Saunders et al. 2018)',\n",
    "    # 'snemo15_c6': 'SNEMO15 Component 6\\n(Saunders et al. 2018)',\n",
    "    # 'snemo15_c7': 'SNEMO15 Component 7\\n(Saunders et al. 2018)',\n",
    "    # 'snemo15_c8': 'SNEMO15 Component 8\\n(Saunders et al. 2018)',\n",
    "    # 'snemo15_c9': 'SNEMO15 Component 9\\n(Saunders et al. 2018)',\n",
    "    # 'snemo15_c10': 'SNEMO15 Component 10\\n(Saunders et al. 2018)',\n",
    "    # 'snemo15_c11': 'SNEMO15 Component 11\\n(Saunders et al. 2018)',\n",
    "    # 'snemo15_c12': 'SNEMO15 Component 12\\n(Saunders et al. 2018)',\n",
    "    # 'snemo15_c13': 'SNEMO15 Component 13\\n(Saunders et al. 2018)',\n",
    "    # 'snemo15_c14': 'SNEMO15 Component 14\\n(Saunders et al. 2018)',\n",
    "}"
   ]
  },
  {
   "cell_type": "code",
   "execution_count": 34,
   "metadata": {},
   "outputs": [
    {
     "data": {
      "application/vnd.jupyter.widget-view+json": {
       "model_id": "cce4743ad8164c77bb416220b7edc0fa",
       "version_major": 2,
       "version_minor": 0
      },
      "text/plain": [
       "interactive(children=(Dropdown(description='indicator', options=('isomap_c1', 'isomap_c2', 'isomap_c3', 'salt_…"
      ]
     },
     "metadata": {},
     "output_type": "display_data"
    },
    {
     "data": {
      "text/plain": [
       "<function __main__.plot_indicator(indicator, reference_indicators, quadratic=True)>"
      ]
     },
     "execution_count": 34,
     "metadata": {},
     "output_type": "execute_result"
    }
   ],
   "source": [
    "from ipywidgets import interact\n",
    "\n",
    "reference_indicators = {\n",
    "    'twins_manifold': isomap_indicators,\n",
    "    'sugar': sugar_indicators,\n",
    "    'snemo': snemo_indicators,\n",
    "    'salt': salt_indicators,\n",
    "}\n",
    "\n",
    "def plot_indicator(indicator, reference_indicators, quadratic=True):\n",
    "    quadratic_reference_indicators = []\n",
    "    linear_reference_indicators = []\n",
    "\n",
    "    if quadratic:\n",
    "        quadratic_reference_indicators.extend(reference_indicators)\n",
    "    else:\n",
    "        linear_reference_indicators.extend(reference_indicators)\n",
    "\n",
    "    explained_variance, coefficients, transformation, mask \\\n",
    "        = a.find_best_transformation(\n",
    "        indicator,\n",
    "        quadratic_reference_indicators,\n",
    "        linear_reference_indicators\n",
    "    )\n",
    "    \n",
    "    print(np.std(a.indicators[indicator][mask]), np.std(a.indicators[indicator][mask] - transformation[mask]))\n",
    "\n",
    "    plt.figure()\n",
    "    plt.scatter(transformation[mask], a.indicators[indicator][mask])\n",
    "\n",
    "    plt.xlabel('Transformation of the Isomap latent space')\n",
    "    plt.ylabel(indicator)\n",
    "    plt.title(f'Explained variance: {explained_variance:.2f}')\n",
    "\n",
    "interact(plot_indicator, indicator=a.indicators.keys()[1:], reference_indicators=reference_indicators)"
   ]
  },
  {
   "cell_type": "code",
   "execution_count": 35,
   "metadata": {},
   "outputs": [
    {
     "name": "stdout",
     "output_type": "stream",
     "text": [
      "\n",
      "spectrum_EWCaIIHK    0.893 0.724\n",
      "spectrum_EWSiII4000  0.871 0.885\n",
      "spectrum_EWSiII5972  0.651 0.760\n",
      "spectrum_EWSiII6355  0.912 0.828\n",
      "spectrum_vCaIIHK     0.688 0.570\n",
      "spectrum_vSiII6355   0.819 0.736\n",
      "\n",
      "salt_x1              0.771 0.943\n",
      "\n",
      "nordin_uCa_pre       0.845 0.660\n",
      "nordin_uCa_max       0.795 0.571\n",
      "nordin_uNi_max       0.684 0.460\n",
      "nordin_uSi_max       0.928 0.836\n",
      "nordin_uTi_max       0.713 0.730\n",
      "nordin_uTi_post      0.787 0.779\n",
      "\n",
      "sugar_q1             0.814 1.000\n",
      "sugar_q2             0.885 1.000\n",
      "sugar_q3             0.578 1.000\n",
      "\n",
      "snemo7_c1            0.924 0.878\n",
      "snemo7_c2            0.807 0.948\n",
      "snemo7_c3            0.846 0.894\n",
      "snemo7_c4            0.609 0.791\n",
      "snemo7_c5            0.695 0.788\n",
      "snemo7_c6            0.712 0.706\n"
     ]
    }
   ],
   "source": [
    "# Compare how indicators are recovered with different latent spaces\n",
    "mask = (~a.indicators['sugar_q1'].mask) & (~a.indicators['isomap_c1'].mask)\n",
    "\n",
    "last_kind = ''\n",
    "for target_indicator in target_indicators:\n",
    "    kind = target_indicator.split('_')[0]\n",
    "    if kind != last_kind:\n",
    "        print(\"\")\n",
    "        last_kind = kind\n",
    "    isomap_trans = a.find_best_transformation(target_indicator, isomap_indicators, mask=mask)\n",
    "    isomap_trans_linear = a.find_best_transformation(target_indicator, [], isomap_indicators, mask=mask)\n",
    "    sugar_trans = a.find_best_transformation(target_indicator, sugar_indicators, mask=mask)\n",
    "    # salt_trans = a.find_best_transformation(target_indicator, salt_indicators, mask=mask)\n",
    "    # snemo_trans = a.find_best_transformation(target_indicator, snemo_indicators, mask=mask)\n",
    "    # isomap_c_trans = a.find_best_transformation(target_indicator, isomap_indicators, [a.rbtl_colors], mask=mask)\n",
    "    # sugar_c_trans = a.find_best_transformation(target_indicator, sugar_indicators, [a.rbtl_colors], mask=mask)\n",
    "    \n",
    "    # print(f'{target_indicator:20s} {isomap_trans[0]:.3f} {sugar_trans[0]:.3f}')\n",
    "    # print(f'{target_indicator:20s} {isomap_trans[0]:.3f} {isomap_trans_linear[0]:.3f} {sugar_trans[0]:.3f}')\n",
    "    print(f'{target_indicator:20s} {isomap_trans[0]:.3f} {sugar_trans[0]:.3f}')"
   ]
  },
  {
   "cell_type": "code",
   "execution_count": 36,
   "metadata": {},
   "outputs": [
    {
     "data": {
      "application/vnd.jupyter.widget-view+json": {
       "model_id": "d9d320defd474d8e8d56969b1acb475e",
       "version_major": 2,
       "version_minor": 0
      },
      "text/plain": [
       "Canvas(toolbar=Toolbar(toolitems=[('Home', 'Reset original view', 'home', 'home'), ('Back', 'Back to previous …"
      ]
     },
     "metadata": {},
     "output_type": "display_data"
    }
   ],
   "source": [
    "from matplotlib import colors\n",
    "\n",
    "ref_indicators = isomap_indicators\n",
    "\n",
    "labels = []\n",
    "all_correlations = []\n",
    "all_coefficients = []\n",
    "all_explained_variances = []\n",
    "\n",
    "for target_indicator, target_label in target_indicators.items():\n",
    "    if target_indicator in ref_indicators:\n",
    "        continue\n",
    "    explained_variance, coefficients, transformation, mask \\\n",
    "        = a.find_best_transformation(target_indicator, ref_indicators)\n",
    "    \n",
    "    labels.append(target_label)\n",
    "    all_coefficients.append(coefficients)\n",
    "    all_explained_variances.append(explained_variance)\n",
    "\n",
    "    correlations = [np.corrcoef(transformation[mask], a.embedding[mask, i])[0, 1] for i in range(a.embedding.shape[1])]\n",
    "    all_correlations.append(correlations)\n",
    "\n",
    "all_coefficients = np.array(all_coefficients)\n",
    "all_correlations = np.array(all_correlations)\n",
    "all_explained_variances = np.array(all_explained_variances)\n",
    "\n",
    "# norm = 1 / np.sqrt(np.sum(all_coefficients[:, 1:4]**2, axis=1))[:, None]\n",
    "# norm_coefficients = norm * all_coefficients[:, 1:4]\n",
    "\n",
    "fig = plt.figure(figsize=(5.5, 12.), constrained_layout=False)\n",
    "\n",
    "# left bottom width height\n",
    "ax1 = fig.add_axes([0.26, 0.01, 0.45, 0.8])\n",
    "ax2 = fig.add_axes([0.6, 0.01, 0.3, 0.8], sharey=ax1)\n",
    "# cax = fig.add_subplot(gs[0, 2])\n",
    "\n",
    "# fig, axes = plt.subplots(1, 3, sharey=True, figsize=(4.0, 10), gridspec_kw={'width_ratios': (3, 1, 1)}, constrained_layout=False)\n",
    "# fig.set_constrained_layout_pads(w_pad=0.01, h_pad=0.01, hspace=0.01, wspace=0.01)\n",
    "\n",
    "# cmap1 = a.settings['colormap']\n",
    "cmap1 = a.settings['colormap']\n",
    "sm1 = plt.cm.ScalarMappable(cmap=cmap1, norm=plt.Normalize(vmin=-1, vmax=1))\n",
    "sm1._A = []\n",
    "\n",
    "# Make a truncated colormap\n",
    "cmap2 = plt.cm.Purples\n",
    "# cmap2 = colors.LinearSegmentedColormap.from_list('unexp_var_cmap', cmap2(np.linspace(0., 0.8, 100)))\n",
    "sm2 = plt.cm.ScalarMappable(cmap=cmap2, norm=plt.Normalize(vmin=0., vmax=1.))\n",
    "sm2._A = []\n",
    "\n",
    "def do_plot(ax, ax_data, sm, xlabels, ylabels=None, threshold=0.65):\n",
    "    ax_data = np.atleast_2d(ax_data)\n",
    "    im = ax.imshow(sm.to_rgba(ax_data), interpolation='nearest', vmin=-1, vmax=1)\n",
    "    ax.set(\n",
    "        xticks=np.arange(ax_data.shape[1]),\n",
    "        yticks=np.arange(ax_data.shape[0]),\n",
    "        xticklabels=xlabels,\n",
    "    )\n",
    "\n",
    "    if ylabels is not None:\n",
    "        ax.set_yticklabels(ylabels)\n",
    "    else:\n",
    "        ax.tick_params(axis='y', which='both', left=False, right=False)\n",
    "\n",
    "    # Ticks on top\n",
    "    ax.get_xaxis().set_ticks_position('top')\n",
    "\n",
    "    # Rotate the tick labels and set their alignment.\n",
    "    plt.setp(ax.get_xticklabels(), rotation=70, ha=\"left\", va='center',\n",
    "             rotation_mode=\"anchor\")\n",
    "\n",
    "    # Loop over data dimensions and create text annotations.\n",
    "    fmt = '.2f'\n",
    "    for i in range(ax_data.shape[0]):\n",
    "        for j in range(ax_data.shape[1]):\n",
    "            ax.text(j, i, format(ax_data[i, j], fmt),\n",
    "                    ha=\"center\", va=\"center\",\n",
    "                    color=\"white\" if np.sign(threshold) * np.abs(ax_data[i, j]) > threshold else \"black\")\n",
    "\n",
    "# do_plot(ax1, norm_coefficients, sm1, ['Component 1 Amplitude', 'Component 2 Amplitude', 'Component 3 Amplitude'], labels)\n",
    "do_plot(ax1, all_correlations, sm1, ['Twins Manifold $\\\\xi_1$ Correlation', 'Twins Manifold $\\\\xi_2$ Correlation', 'Twins Manifold $\\\\xi_3$ Correlation'], labels)\n",
    "do_plot(ax2, all_explained_variances[:, None], sm2, ['Fraction of Variance\\nExplained'], threshold=0.5)\n",
    "\n",
    "ax2.tick_params(labelleft=False)\n",
    "\n",
    "cbar1 = fig.colorbar(sm1, ax=ax1, orientation='vertical', aspect=60, pad=0.05, ticks=[-1, -0.8, -0.6, -0.4, -0.2, 0, 0.2, 0.4, 0.6, 0.8, 1])\n",
    "cbar1.ax.set_yticklabels(['-1', '', '', '', '', '0', '', '', '', '', '1'])\n",
    "# cbar2 = fig.colorbar(sm2, ax=ax2, orientation='vertical', aspect=60, pad=0.05, ticks=[0, 0.25, 0.5, 0.75, 1])\n",
    "# cbar2 = fig.colorbar(sm2, ax=ax2, orientation='vertical', aspect=60, pad=0.05, ticks=[0.5, 0.6, 0.7, 0.8, 0.9, 1])\n",
    "cbar2 = fig.colorbar(sm2, ax=ax2, orientation='vertical', aspect=60, pad=0.05, ticks=[0., 0.2, 0.4, 0.6, 0.8, 1])\n",
    "# cbar2.ax.set_yticklabels(['0', '', '0.5', '', '1'])\n",
    "\n",
    "a.savefig('indicators_recovery.pdf', bbox_inches='tight', pad_inches=0)"
   ]
  },
  {
   "cell_type": "markdown",
   "metadata": {},
   "source": [
    "## Figure out what fraction of explained variance we would expect"
   ]
  },
  {
   "cell_type": "code",
   "execution_count": 37,
   "metadata": {},
   "outputs": [],
   "source": [
    "def simulate_explained(target_indicator, reference_indicators, N=100):\n",
    "    all_explained_variances = []\n",
    "\n",
    "    for i in tqdm(range(N), leave=False):\n",
    "        explained_variance, coefficients, best_transformation, mask = \\\n",
    "            a.find_best_transformation(target_indicator, reference_indicators, shuffle=True)\n",
    "        all_explained_variances.append(explained_variance)\n",
    "\n",
    "    mean_explained = np.mean(all_explained_variances)\n",
    "    std_explained = np.std(all_explained_variances)\n",
    "    \n",
    "    return mean_explained, std_explained"
   ]
  },
  {
   "cell_type": "code",
   "execution_count": 38,
   "metadata": {},
   "outputs": [
    {
     "data": {
      "application/vnd.jupyter.widget-view+json": {
       "model_id": "21715e846c804e2dae411ef1ab434ddc",
       "version_major": 2,
       "version_minor": 0
      },
      "text/plain": [
       "HBox(children=(FloatProgress(value=0.0, max=22.0), HTML(value='')))"
      ]
     },
     "metadata": {},
     "output_type": "display_data"
    },
    {
     "data": {
      "application/vnd.jupyter.widget-view+json": {
       "model_id": "",
       "version_major": 2,
       "version_minor": 0
      },
      "text/plain": [
       "HBox(children=(FloatProgress(value=0.0), HTML(value='')))"
      ]
     },
     "metadata": {},
     "output_type": "display_data"
    },
    {
     "name": "stdout",
     "output_type": "stream",
     "text": [
      "spectrum_EWCaIIHK   : 0.049 ± 0.022\n"
     ]
    },
    {
     "data": {
      "application/vnd.jupyter.widget-view+json": {
       "model_id": "",
       "version_major": 2,
       "version_minor": 0
      },
      "text/plain": [
       "HBox(children=(FloatProgress(value=0.0), HTML(value='')))"
      ]
     },
     "metadata": {},
     "output_type": "display_data"
    },
    {
     "name": "stdout",
     "output_type": "stream",
     "text": [
      "spectrum_EWSiII4000 : 0.052 ± 0.022\n"
     ]
    },
    {
     "data": {
      "application/vnd.jupyter.widget-view+json": {
       "model_id": "",
       "version_major": 2,
       "version_minor": 0
      },
      "text/plain": [
       "HBox(children=(FloatProgress(value=0.0), HTML(value='')))"
      ]
     },
     "metadata": {},
     "output_type": "display_data"
    },
    {
     "name": "stdout",
     "output_type": "stream",
     "text": [
      "spectrum_EWSiII5972 : 0.057 ± 0.029\n"
     ]
    },
    {
     "data": {
      "application/vnd.jupyter.widget-view+json": {
       "model_id": "",
       "version_major": 2,
       "version_minor": 0
      },
      "text/plain": [
       "HBox(children=(FloatProgress(value=0.0), HTML(value='')))"
      ]
     },
     "metadata": {},
     "output_type": "display_data"
    },
    {
     "name": "stdout",
     "output_type": "stream",
     "text": [
      "spectrum_EWSiII6355 : 0.053 ± 0.026\n"
     ]
    },
    {
     "data": {
      "application/vnd.jupyter.widget-view+json": {
       "model_id": "",
       "version_major": 2,
       "version_minor": 0
      },
      "text/plain": [
       "HBox(children=(FloatProgress(value=0.0), HTML(value='')))"
      ]
     },
     "metadata": {},
     "output_type": "display_data"
    },
    {
     "name": "stdout",
     "output_type": "stream",
     "text": [
      "spectrum_vCaIIHK    : 0.053 ± 0.021\n"
     ]
    },
    {
     "data": {
      "application/vnd.jupyter.widget-view+json": {
       "model_id": "",
       "version_major": 2,
       "version_minor": 0
      },
      "text/plain": [
       "HBox(children=(FloatProgress(value=0.0), HTML(value='')))"
      ]
     },
     "metadata": {},
     "output_type": "display_data"
    },
    {
     "name": "stdout",
     "output_type": "stream",
     "text": [
      "spectrum_vSiII6355  : 0.053 ± 0.025\n"
     ]
    },
    {
     "data": {
      "application/vnd.jupyter.widget-view+json": {
       "model_id": "",
       "version_major": 2,
       "version_minor": 0
      },
      "text/plain": [
       "HBox(children=(FloatProgress(value=0.0), HTML(value='')))"
      ]
     },
     "metadata": {},
     "output_type": "display_data"
    },
    {
     "name": "stdout",
     "output_type": "stream",
     "text": [
      "salt_x1             : 0.056 ± 0.025\n"
     ]
    },
    {
     "data": {
      "application/vnd.jupyter.widget-view+json": {
       "model_id": "",
       "version_major": 2,
       "version_minor": 0
      },
      "text/plain": [
       "HBox(children=(FloatProgress(value=0.0), HTML(value='')))"
      ]
     },
     "metadata": {},
     "output_type": "display_data"
    },
    {
     "name": "stdout",
     "output_type": "stream",
     "text": [
      "nordin_uCa_pre      : 0.172 ± 0.068\n"
     ]
    },
    {
     "data": {
      "application/vnd.jupyter.widget-view+json": {
       "model_id": "",
       "version_major": 2,
       "version_minor": 0
      },
      "text/plain": [
       "HBox(children=(FloatProgress(value=0.0), HTML(value='')))"
      ]
     },
     "metadata": {},
     "output_type": "display_data"
    },
    {
     "name": "stdout",
     "output_type": "stream",
     "text": [
      "nordin_uCa_max      : 0.129 ± 0.052\n"
     ]
    },
    {
     "data": {
      "application/vnd.jupyter.widget-view+json": {
       "model_id": "",
       "version_major": 2,
       "version_minor": 0
      },
      "text/plain": [
       "HBox(children=(FloatProgress(value=0.0), HTML(value='')))"
      ]
     },
     "metadata": {},
     "output_type": "display_data"
    },
    {
     "name": "stdout",
     "output_type": "stream",
     "text": [
      "nordin_uNi_max      : 0.137 ± 0.064\n"
     ]
    },
    {
     "data": {
      "application/vnd.jupyter.widget-view+json": {
       "model_id": "",
       "version_major": 2,
       "version_minor": 0
      },
      "text/plain": [
       "HBox(children=(FloatProgress(value=0.0), HTML(value='')))"
      ]
     },
     "metadata": {},
     "output_type": "display_data"
    },
    {
     "name": "stdout",
     "output_type": "stream",
     "text": [
      "nordin_uSi_max      : 0.136 ± 0.057\n"
     ]
    },
    {
     "data": {
      "application/vnd.jupyter.widget-view+json": {
       "model_id": "",
       "version_major": 2,
       "version_minor": 0
      },
      "text/plain": [
       "HBox(children=(FloatProgress(value=0.0), HTML(value='')))"
      ]
     },
     "metadata": {},
     "output_type": "display_data"
    },
    {
     "name": "stdout",
     "output_type": "stream",
     "text": [
      "nordin_uTi_max      : 0.128 ± 0.056\n"
     ]
    },
    {
     "data": {
      "application/vnd.jupyter.widget-view+json": {
       "model_id": "",
       "version_major": 2,
       "version_minor": 0
      },
      "text/plain": [
       "HBox(children=(FloatProgress(value=0.0), HTML(value='')))"
      ]
     },
     "metadata": {},
     "output_type": "display_data"
    },
    {
     "name": "stdout",
     "output_type": "stream",
     "text": [
      "nordin_uTi_post     : 0.164 ± 0.070\n"
     ]
    },
    {
     "data": {
      "application/vnd.jupyter.widget-view+json": {
       "model_id": "",
       "version_major": 2,
       "version_minor": 0
      },
      "text/plain": [
       "HBox(children=(FloatProgress(value=0.0), HTML(value='')))"
      ]
     },
     "metadata": {},
     "output_type": "display_data"
    },
    {
     "name": "stdout",
     "output_type": "stream",
     "text": [
      "sugar_q1            : 0.065 ± 0.032\n"
     ]
    },
    {
     "data": {
      "application/vnd.jupyter.widget-view+json": {
       "model_id": "",
       "version_major": 2,
       "version_minor": 0
      },
      "text/plain": [
       "HBox(children=(FloatProgress(value=0.0), HTML(value='')))"
      ]
     },
     "metadata": {},
     "output_type": "display_data"
    },
    {
     "name": "stdout",
     "output_type": "stream",
     "text": [
      "sugar_q2            : 0.066 ± 0.032\n"
     ]
    },
    {
     "data": {
      "application/vnd.jupyter.widget-view+json": {
       "model_id": "",
       "version_major": 2,
       "version_minor": 0
      },
      "text/plain": [
       "HBox(children=(FloatProgress(value=0.0), HTML(value='')))"
      ]
     },
     "metadata": {},
     "output_type": "display_data"
    },
    {
     "name": "stdout",
     "output_type": "stream",
     "text": [
      "sugar_q3            : 0.062 ± 0.026\n"
     ]
    },
    {
     "data": {
      "application/vnd.jupyter.widget-view+json": {
       "model_id": "",
       "version_major": 2,
       "version_minor": 0
      },
      "text/plain": [
       "HBox(children=(FloatProgress(value=0.0), HTML(value='')))"
      ]
     },
     "metadata": {},
     "output_type": "display_data"
    },
    {
     "name": "stdout",
     "output_type": "stream",
     "text": [
      "snemo7_c1           : 0.058 ± 0.027\n"
     ]
    },
    {
     "data": {
      "application/vnd.jupyter.widget-view+json": {
       "model_id": "",
       "version_major": 2,
       "version_minor": 0
      },
      "text/plain": [
       "HBox(children=(FloatProgress(value=0.0), HTML(value='')))"
      ]
     },
     "metadata": {},
     "output_type": "display_data"
    },
    {
     "name": "stdout",
     "output_type": "stream",
     "text": [
      "snemo7_c2           : 0.057 ± 0.027\n"
     ]
    },
    {
     "data": {
      "application/vnd.jupyter.widget-view+json": {
       "model_id": "",
       "version_major": 2,
       "version_minor": 0
      },
      "text/plain": [
       "HBox(children=(FloatProgress(value=0.0), HTML(value='')))"
      ]
     },
     "metadata": {},
     "output_type": "display_data"
    },
    {
     "name": "stdout",
     "output_type": "stream",
     "text": [
      "snemo7_c3           : 0.057 ± 0.022\n"
     ]
    },
    {
     "data": {
      "application/vnd.jupyter.widget-view+json": {
       "model_id": "",
       "version_major": 2,
       "version_minor": 0
      },
      "text/plain": [
       "HBox(children=(FloatProgress(value=0.0), HTML(value='')))"
      ]
     },
     "metadata": {},
     "output_type": "display_data"
    },
    {
     "name": "stdout",
     "output_type": "stream",
     "text": [
      "snemo7_c4           : 0.063 ± 0.029\n"
     ]
    },
    {
     "data": {
      "application/vnd.jupyter.widget-view+json": {
       "model_id": "",
       "version_major": 2,
       "version_minor": 0
      },
      "text/plain": [
       "HBox(children=(FloatProgress(value=0.0), HTML(value='')))"
      ]
     },
     "metadata": {},
     "output_type": "display_data"
    },
    {
     "name": "stdout",
     "output_type": "stream",
     "text": [
      "snemo7_c5           : 0.062 ± 0.027\n"
     ]
    },
    {
     "data": {
      "application/vnd.jupyter.widget-view+json": {
       "model_id": "",
       "version_major": 2,
       "version_minor": 0
      },
      "text/plain": [
       "HBox(children=(FloatProgress(value=0.0), HTML(value='')))"
      ]
     },
     "metadata": {},
     "output_type": "display_data"
    },
    {
     "name": "stdout",
     "output_type": "stream",
     "text": [
      "snemo7_c6           : 0.055 ± 0.024\n",
      "\n"
     ]
    }
   ],
   "source": [
    "reference_indicators = isomap_indicators\n",
    "for target_indicator in tqdm(target_indicators):\n",
    "    mean_explained, std_explained = simulate_explained(target_indicator, reference_indicators)\n",
    "    print(f'{target_indicator:20s}: {mean_explained:.3f} ± {std_explained:.3f}')"
   ]
  },
  {
   "cell_type": "code",
   "execution_count": 39,
   "metadata": {},
   "outputs": [
    {
     "data": {
      "application/vnd.jupyter.widget-view+json": {
       "model_id": "",
       "version_major": 2,
       "version_minor": 0
      },
      "text/plain": [
       "HBox(children=(FloatProgress(value=0.0, max=1000.0), HTML(value='')))"
      ]
     },
     "metadata": {},
     "output_type": "display_data"
    },
    {
     "name": "stdout",
     "output_type": "stream",
     "text": [
      "salt_x1 0.059 ± 0.026\n",
      "\\newcommand{\\explainedvariancexonemean}{0.059}\n",
      "\\newcommand{\\explainedvariancexonestd}{0.026}\n"
     ]
    },
    {
     "data": {
      "application/vnd.jupyter.widget-view+json": {
       "model_id": "",
       "version_major": 2,
       "version_minor": 0
      },
      "text/plain": [
       "HBox(children=(FloatProgress(value=0.0, max=1000.0), HTML(value='')))"
      ]
     },
     "metadata": {},
     "output_type": "display_data"
    },
    {
     "name": "stdout",
     "output_type": "stream",
     "text": [
      "nordin_uNi_max 0.135 ± 0.059\n",
      "\\newcommand{\\explainedvarianceunimean}{0.135}\n",
      "\\newcommand{\\explainedvarianceunistd}{0.059}\n"
     ]
    }
   ],
   "source": [
    "with a.latex_open('explained_variance_simulation.tex') as f:\n",
    "    reference_indicators = isomap_indicators\n",
    "    N = 1000\n",
    "    \n",
    "    target_indicator = 'salt_x1'\n",
    "    mean_explained, std_explained = simulate_explained(target_indicator, reference_indicators, N=N)\n",
    "    print(f'{target_indicator} {mean_explained:.3f} ± {std_explained:.3f}')\n",
    "    utils.latex_command(f, 'explainedvariancexonemean', '%.3f', mean_explained)\n",
    "    utils.latex_command(f, 'explainedvariancexonestd', '%.3f', std_explained)\n",
    "\n",
    "    target_indicator = 'nordin_uNi_max'\n",
    "    mean_explained, std_explained = simulate_explained(target_indicator, reference_indicators, N=N)\n",
    "    print(f'{target_indicator} {mean_explained:.3f} ± {std_explained:.3f}')\n",
    "    utils.latex_command(f, 'explainedvarianceunimean', '%.3f', mean_explained)\n",
    "    utils.latex_command(f, 'explainedvarianceunistd', '%.3f', std_explained)"
   ]
  },
  {
   "cell_type": "markdown",
   "metadata": {},
   "source": [
    "# Attrition"
   ]
  },
  {
   "cell_type": "code",
   "execution_count": 40,
   "metadata": {},
   "outputs": [
    {
     "name": "stdout",
     "output_type": "stream",
     "text": [
      "\\newcommand{\\numdatasetsne}{280}\n",
      "\\newcommand{\\numdatasetspectra}{3908}\n",
      "\n",
      "\\newcommand{\\nummanifoldsne}{203}\n",
      "\\newcommand{\\nummanifoldspectra}{598}\n",
      "\\newcommand{\\numinterpsne}{173}\n"
     ]
    }
   ],
   "source": [
    "with a.latex_open('attrition_variables.tex') as f:\n",
    "    utils.latex_command(f, 'numdatasetsne', '%d', a.attrition_enough_spectra)\n",
    "    utils.latex_command(f, 'numdatasetspectra', '%d', a.attrition_total_spectra)\n",
    "    utils.latex_print(f, \"\")\n",
    "    utils.latex_command(f, 'nummanifoldsne', '%d', len(a.targets))\n",
    "    utils.latex_command(f, 'nummanifoldspectra', '%d', len(a.spectra))\n",
    "    utils.latex_command(f, 'numinterpsne', '%d', np.sum(a.uncertainty_mask))"
   ]
  },
  {
   "cell_type": "code",
   "execution_count": 41,
   "metadata": {},
   "outputs": [
    {
     "name": "stdout",
     "output_type": "stream",
     "text": [
      "\\textbf{General selection requirements} & \\\\\n",
      "Initial sample (SNe Ia with at least 5 spectra)       & 280 \\\\\n",
      "SALT2 date of maximum light uncertainty < 1 day       & 272 \\\\\n",
      "At least one spectrum within 5 days of maximum light  & 250 \\\\\n",
      "At least one spectrum with S/N 3300-3800~\\AA\\ > 100   & 203 \\\\\n",
      "\\hline\n",
      "\\textbf{Manifold learning selection requirements} & \\\\\n",
      "\\textbf{(Section~\\ref{sec:isomap_sample})} & \\\\\n",
      "Spectrum at max. uncertainty < 10\\% of intrinsic power        & 173 \\\\\n"
     ]
    }
   ],
   "source": [
    "with a.latex_open('attrition_table.tex') as f:\n",
    "    utils.latex_print(f, \"\\\\textbf{General selection requirements} & \\\\\\\\\")\n",
    "    utils.latex_print(f, \"Initial sample (SNe Ia with at least 5 spectra)       & %d \\\\\\\\\" % a.attrition_enough_spectra)\n",
    "    utils.latex_print(f, \"SALT2 date of maximum light uncertainty < 1 day       & %d \\\\\\\\\" % a.attrition_salt_daymax)\n",
    "    utils.latex_print(f, \"At least one spectrum within 5 days of maximum light  & %d \\\\\\\\\" % a.attrition_range)\n",
    "    utils.latex_print(f, \"At least one spectrum with S/N 3300-3800~\\AA\\ > 100   & %d \\\\\\\\\" % a.attrition_usable)\n",
    "    utils.latex_print(f, \"\\hline\")\n",
    "    utils.latex_print(f, \"\\\\textbf{Manifold learning selection requirements} & \\\\\\\\\")\n",
    "    utils.latex_print(f, r\"\\textbf{(Section~\\ref{sec:isomap_sample})} & \\\\\")\n",
    "    utils.latex_print(f, \"Spectrum at max. uncertainty < 10\\\\%% of intrinsic power        & %d \\\\\\\\\" % np.sum(a.uncertainty_mask))"
   ]
  },
  {
   "cell_type": "markdown",
   "metadata": {},
   "source": [
    "# Dump of the embedding"
   ]
  },
  {
   "cell_type": "code",
   "execution_count": 42,
   "metadata": {},
   "outputs": [],
   "source": [
    "data_table = Table({\n",
    "    'name': [i.name.replace('_', '\\_') for i in a.targets],\n",
    "    'SALT2 $x_1$': ['%.2f $\\pm$ %.2f' % (i, j) for i, j in zip(a.salt_x1, a.salt_fits['x1_err'])],\n",
    "    'SALT2 $color$': ['%.2f $\\pm$ %.2f' % (i, j) for i, j in zip(a.salt_colors, a.salt_fits['c_err'])],\n",
    "    'RBTL $A_V$': ['%.2f' % i for i in a.rbtl_colors],\n",
    "    'RBTL $\\Delta M$': ['%.2f' % i for i in a.rbtl_mags],\n",
    "    'Twins Manifold Coordinate 1': ['%.2f' % i for i in a.embedding[:, 0]],\n",
    "    'Twins Manifold Coordinate 2': ['%.2f' % i for i in a.embedding[:, 1]],\n",
    "    'Twins Manifold Coordinate 3': ['%.2f' % i for i in a.embedding[:, 2]],\n",
    "})\n",
    "\n",
    "def dump_data(f, count=None):\n",
    "    for row in data_table[:count]:\n",
    "        print(' & '.join(row) + ' \\\\\\\\', file=f)\n",
    "\n",
    "with a.latex_open('twins_manifold_coordinates.tex') as f:\n",
    "    dump_data(f)\n",
    "\n",
    "with a.latex_open('twins_manifold_coordinates_short.tex') as f:\n",
    "    dump_data(f, 10)"
   ]
  },
  {
   "cell_type": "markdown",
   "metadata": {},
   "source": [
    "# Tests of dust variation"
   ]
  },
  {
   "cell_type": "code",
   "execution_count": 43,
   "metadata": {},
   "outputs": [
    {
     "data": {
      "application/vnd.jupyter.widget-view+json": {
       "model_id": "fcda8613d8ea4ef1bf8eaf6b814790fb",
       "version_major": 2,
       "version_minor": 0
      },
      "text/plain": [
       "Canvas(toolbar=Toolbar(toolitems=[('Home', 'Reset original view', 'home', 'home'), ('Back', 'Back to previous …"
      ]
     },
     "metadata": {},
     "output_type": "display_data"
    },
    {
     "name": "stdout",
     "output_type": "stream",
     "text": [
      "Mean offset:  -0.1395\n",
      "Sigma offset: 0.0161\n"
     ]
    }
   ],
   "source": [
    "import extinction\n",
    "plt.figure()\n",
    "ref_extinction = extinction.fitzpatrick99(a.wave, 0.5 * 2.8, 2.8)\n",
    "new_extinction = extinction.fitzpatrick99(a.wave, 0.5 * 3.1, 3.1)\n",
    "plt.plot(a.wave, ref_extinction - new_extinction)\n",
    "\n",
    "print(\"Mean offset:  %.4f\" % np.mean(ref_extinction - new_extinction))\n",
    "print(\"Sigma offset: %.4f\" % np.std(ref_extinction - new_extinction))"
   ]
  },
  {
   "cell_type": "code",
   "execution_count": 44,
   "metadata": {},
   "outputs": [
    {
     "data": {
      "application/vnd.jupyter.widget-view+json": {
       "model_id": "98d13f49c5e44cafa06856fbee4aad3d",
       "version_major": 2,
       "version_minor": 0
      },
      "text/plain": [
       "Canvas(toolbar=Toolbar(toolitems=[('Home', 'Reset original view', 'home', 'home'), ('Back', 'Back to previous …"
      ]
     },
     "metadata": {},
     "output_type": "display_data"
    },
    {
     "name": "stdout",
     "output_type": "stream",
     "text": [
      "Mean offset:  -0.1398\n",
      "Sigma offset: 0.0121\n"
     ]
    }
   ],
   "source": [
    "import extinction\n",
    "plt.figure()\n",
    "ref_extinction = extinction.ccm89(a.wave, 0.5 * 2.8, 2.8)\n",
    "new_extinction = extinction.ccm89(a.wave, 0.5 * 3.1, 3.1)\n",
    "plt.plot(a.wave, ref_extinction - new_extinction)\n",
    "\n",
    "print(\"Mean offset:  %.4f\" % np.mean(ref_extinction - new_extinction))\n",
    "print(\"Sigma offset: %.4f\" % np.std(ref_extinction - new_extinction))"
   ]
  }
 ],
 "metadata": {
  "kernelspec": {
   "display_name": "Python 3",
   "language": "python",
   "name": "python3"
  },
  "language_info": {
   "codemirror_mode": {
    "name": "ipython",
    "version": 3
   },
   "file_extension": ".py",
   "mimetype": "text/x-python",
   "name": "python",
   "nbconvert_exporter": "python",
   "pygments_lexer": "ipython3",
   "version": "3.8.2"
  },
  "toc-autonumbering": true,
  "toc-showmarkdowntxt": false
 },
 "nbformat": 4,
 "nbformat_minor": 4
}
