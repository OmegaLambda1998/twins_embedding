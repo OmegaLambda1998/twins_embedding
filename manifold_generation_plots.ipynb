{
 "cells": [
  {
   "cell_type": "markdown",
   "metadata": {},
   "source": [
    "# Setup"
   ]
  },
  {
   "cell_type": "code",
   "execution_count": 1,
   "metadata": {},
   "outputs": [
    {
     "name": "stderr",
     "output_type": "stream",
     "text": [
      "/home/kyle/supernova/snfactory/manifold_twins/analysis/manifold_twins.py:15: TqdmExperimentalWarning: Using `tqdm.autonotebook.tqdm` in notebook mode. Use `tqdm.tqdm` instead to force console mode (e.g. in jupyter console)\n",
      "  from tqdm.autonotebook import tqdm\n"
     ]
    }
   ],
   "source": [
    "from idrtools import math\n",
    "from manifold_twins import ManifoldTwinsAnalysis\n",
    "from matplotlib import pyplot as plt\n",
    "from matplotlib import colors\n",
    "from tqdm.notebook import tqdm\n",
    "from astropy.table import Table\n",
    "import utils\n",
    "import numpy as np"
   ]
  },
  {
   "cell_type": "code",
   "execution_count": 2,
   "metadata": {},
   "outputs": [],
   "source": [
    "%matplotlib widget "
   ]
  },
  {
   "cell_type": "code",
   "execution_count": 3,
   "metadata": {},
   "outputs": [
    {
     "name": "stdout",
     "output_type": "stream",
     "text": [
      "Loading dataset...\n",
      "    IDR:          BLACKSTON\n",
      "    Phase range: [-5.0, 5.0] days\n",
      "    Bin velocity: 1000.0\n"
     ]
    },
    {
     "data": {
      "application/vnd.jupyter.widget-view+json": {
       "model_id": "619adb9b977347f89b94326ed77593e5",
       "version_major": 2,
       "version_minor": 0
      },
      "text/plain": [
       "HBox(children=(FloatProgress(value=0.0, max=415.0), HTML(value='')))"
      ]
     },
     "metadata": {},
     "output_type": "display_data"
    },
    {
     "name": "stdout",
     "output_type": "stream",
     "text": [
      "\n",
      "Estimating the spectra at maximum light...\n",
      "    Loaded cached stan model\n",
      "    Using saved stan result\n",
      "Reading between the lines...\n",
      "    Loaded cached stan model\n",
      "    Using saved stan result\n",
      "Building masks...\n",
      "    Masking 30/203 targets whose uncertainty power is \n",
      "    more than 0.100 of the intrinsic power.\n",
      "Generating the manifold learning embedding...\n",
      "Loading other indicators of diversity...\n"
     ]
    },
    {
     "name": "stderr",
     "output_type": "stream",
     "text": [
      "/home/kyle/packages/conda/lib/python3.8/site-packages/numpy/ma/core.py:2794: UserWarning: Warning: converting a masked element to nan.\n",
      "  _data = np.array(data, dtype=dtype, copy=copy,\n",
      "/home/kyle/packages/conda/lib/python3.8/site-packages/george/kernels.py:95: RuntimeWarning: divide by zero encountered in log\n",
      "  log_constant = np.log(float(b)/self.ndim)\n"
     ]
    },
    {
     "name": "stdout",
     "output_type": "stream",
     "text": [
      "Fitting RBTL Twins Manifold GP...\n",
      "GP magnitude residuals fit:\n",
      "    Fit result:           b'CONVERGENCE: REL_REDUCTION_OF_F_<=_FACTR*EPSMCH'\n",
      "    intrinsic_dispersion      0.073 ± 0.008\n",
      "    gp_kernel_amplitude       0.164 ± 0.082\n",
      "    gp_length_scale           5.541 ± 3.315\n",
      "    offset                    -0.116 ± 0.124\n",
      "    covariate_slope_0         -0.122 ± 0.051\n",
      "    Fit NMAD                  0.083 mag\n",
      "    Fit std                   0.101 mag\n",
      "Fitting SALT2 Twins Manifold GP...\n",
      "GP magnitude residuals fit:\n",
      "    Fit result:           b'CONVERGENCE: REL_REDUCTION_OF_F_<=_FACTR*EPSMCH'\n",
      "    intrinsic_dispersion      0.085 ± 0.010\n",
      "    gp_kernel_amplitude       0.380 ± 0.231\n",
      "    gp_length_scale           8.631 ± 5.329\n",
      "    offset                    6.956 ± 0.299\n",
      "    covariate_slope_0         2.810 ± 0.153\n",
      "    Fit NMAD                  0.105 mag\n",
      "    Fit std                   0.118 mag\n",
      "Calculating SALT2 magnitude residuals...\n",
      "SALT2 magnitude residuals fit: \n",
      "    ref_mag: 7.051\n",
      "    alpha:   0.148\n",
      "    beta:    2.706\n",
      "    σ_int:   0.118\n",
      "    RMS:     0.140\n",
      "    NMAD:    0.106\n",
      "    WRMS:    0.140\n",
      "Done!\n"
     ]
    }
   ],
   "source": [
    "a = ManifoldTwinsAnalysis()\n",
    "a.settings['figure_directory'] = './output_generation/figures/'\n",
    "a.settings['latex_directory'] = './output_generation/latex/'\n",
    "a.run_analysis()"
   ]
  },
  {
   "cell_type": "markdown",
   "metadata": {},
   "source": [
    "# Estimating the spectra at maximum light"
   ]
  },
  {
   "cell_type": "markdown",
   "metadata": {},
   "source": [
    "## Examples of maximum light models"
   ]
  },
  {
   "cell_type": "code",
   "execution_count": 4,
   "metadata": {},
   "outputs": [
    {
     "data": {
      "application/vnd.jupyter.widget-view+json": {
       "model_id": "2af0d73a45154c52bb3be273300a5b00",
       "version_major": 2,
       "version_minor": 0
      },
      "text/plain": [
       "interactive(children=(IntSlider(value=101, description='idx', max=202), Output()), _dom_classes=('widget-inter…"
      ]
     },
     "metadata": {},
     "output_type": "display_data"
    },
    {
     "data": {
      "text/plain": [
       "<function __main__.plot_same_night(idx)>"
      ]
     },
     "execution_count": 4,
     "metadata": {},
     "output_type": "execute_result"
    }
   ],
   "source": [
    "phase_cmap = plt.cm.ScalarMappable(\n",
    "    norm=plt.Normalize(vmin=-5, vmax=5),\n",
    "    cmap=colors.LinearSegmentedColormap.from_list('phase_cmap', plt.cm.plasma(np.linspace(0., 0.9, 100)))\n",
    ")\n",
    "\n",
    "def get_time_evolution_data(idx):\n",
    "    fluxes = a.flux[a.target_map == idx]\n",
    "    phases = a.salt_phases[a.target_map == idx]\n",
    "    model = a.differential_evolution_result['maximum_flux'][idx]\n",
    "    model_err = a.differential_evolution_result['maximum_fluxerr'][idx]\n",
    "    gray_offsets = a.differential_evolution_result['gray_offsets'][a.target_map == idx]\n",
    "    model_diffs = a.differential_evolution_result['model_diffs'][a.target_map == idx]\n",
    "    \n",
    "    return fluxes, phases, model, model_err, gray_offsets, model_diffs\n",
    "\n",
    "def plot_time_evolution_model(idx, ax=None, skip_same_night=False):\n",
    "    if ax is None:\n",
    "        fig, ax = plt.subplots(figsize=a.settings['spectrum_plot_figsize'])\n",
    "    fluxes, phases, model, model_err, gray_offsets, model_diffs = get_time_evolution_data(idx)\n",
    "\n",
    "    last_phase = None\n",
    "    for flux, phase in zip(fluxes, phases):\n",
    "        if skip_same_night and last_phase is not None and phase - last_phase < 0.5:\n",
    "            # Same night, skip it\n",
    "            continue\n",
    "        last_phase = phase\n",
    "        a.plot_flux(ax, flux, label='Data (%.2f days)' % phase, c=phase_cmap.to_rgba(phase))\n",
    "    a.plot_flux(ax, model, model_err, c='k', ls='--', label='Model (0 days)')\n",
    "    ax.legend()\n",
    "    ax.set_title(a.targets[idx])\n",
    "    \n",
    "def plot_time_evolution_difference(idx, ax=None):\n",
    "    if ax is None:\n",
    "        fig, ax = plt.subplots(figsize=a.settings['spectrum_plot_figsize'])\n",
    "    fluxes, phases, model, model_err, gray_offsets, model_diffs = get_time_evolution_data(idx)\n",
    "\n",
    "    phase_slope = a.differential_evolution_result['phase_slope']\n",
    "    phase_quadratic = a.differential_evolution_result['phase_quadratic']\n",
    "    gray_offsets = a.differential_evolution_result['gray_offsets'][a.target_map == idx]\n",
    "    model_diffs = a.differential_evolution_result['model_diffs'][a.target_map == idx]\n",
    "\n",
    "    for i, (flux, phase, gray_offset, model_diff) in enumerate(zip(fluxes, phases, gray_offsets, model_diffs)):\n",
    "        ax.plot(a.wave, -2.5*np.log10(flux / model), label='Data (%.2f days)' % phase, c=phase_cmap.to_rgba(phase))\n",
    "    for i, (flux, phase, gray_offset, model_diff) in enumerate(zip(fluxes, phases, gray_offsets, model_diffs)):\n",
    "        ax.plot(a.wave, model_diff, label='Model (%.2f days)' % phase, c=phase_cmap.to_rgba(phase), ls='--')\n",
    "    ax.legend(ncol=2, loc=1)\n",
    "    ax.set_title(a.targets[idx])\n",
    "    ax.set_xlabel(a.settings['spectrum_plot_xlabel'])\n",
    "    ax.set_ylabel('Difference from\\nmaximum light (mag)')\n",
    "\n",
    "def plot_time_evolution_residuals(idx, ax=None):\n",
    "    if ax is None:\n",
    "        fig, ax = plt.subplots(figsize=a.settings['spectrum_plot_figsize'])\n",
    "    fluxes, phases, model, model_err, gray_offsets, model_diffs = get_time_evolution_data(idx)\n",
    "    \n",
    "    # Plot the interpolation residuals\n",
    "    for i, (flux, phase, model_diff) in enumerate(zip(fluxes, phases, model_diffs)):\n",
    "        ax.plot(a.wave, -2.5*np.log10(flux / model) - model_diff, label='Residuals (%.2f days)' % phase,\n",
    "                c=phase_cmap.to_rgba(phase))\n",
    "    ax.legend()\n",
    "    ax.set_title(a.targets[idx])\n",
    "    ax.set_xlabel(a.settings['spectrum_plot_xlabel'])\n",
    "    ax.set_ylabel('Interpolation residuals (mag)')\n",
    "    \n",
    "def plot_same_night(idx):\n",
    "    plot_time_evolution_model(idx)\n",
    "    plot_time_evolution_difference(idx)\n",
    "    plot_time_evolution_residuals(idx)\n",
    "\n",
    "from ipywidgets import interact\n",
    "interact(plot_same_night, idx=(0, len(a.targets)-1))"
   ]
  },
  {
   "cell_type": "code",
   "execution_count": 5,
   "metadata": {},
   "outputs": [],
   "source": [
    "# Out of sample reconstruction test\n",
    "def plot_oos_reconstruction(idx, ax=None):\n",
    "    if ax is None:\n",
    "        fig, ax = plt.subplots(figsize=a.settings['spectrum_plot_figsize'])\n",
    "    fluxes, phases, model, model_err, gray_offsets, model_diffs = get_time_evolution_data(idx)\n",
    "\n",
    "    phase_slope = a.differential_evolution_result['phase_slope']\n",
    "    phase_quadratic = a.differential_evolution_result['phase_quadratic']\n",
    "    gray_offsets = a.differential_evolution_result['gray_offsets'][a.target_map == idx]\n",
    "    model_diffs = a.differential_evolution_result['model_diffs'][a.target_map == idx]\n",
    "\n",
    "    for i, (flux, phase, gray_offset, model_diff) in enumerate(zip(fluxes, phases, gray_offsets, model_diffs)):\n",
    "        ax.plot(a.wave, -2.5*np.log10(flux / model), label='Data (%.2f days)' % phase, c='C%d' % i)\n",
    "    for i, (flux, phase, gray_offset, model_diff) in enumerate(zip(fluxes, phases, gray_offsets, model_diffs)):\n",
    "        ax.plot(a.wave, model_diff, label='Model (%.2f days)' % phase, c='C%d' % i, ls='--')\n",
    "    ax.legend(ncol=2, loc=1)\n",
    "    ax.set_title(a.targets[idx])\n",
    "    ax.set_xlabel(a.settings['spectrum_plot_xlabel'])\n",
    "    ax.set_ylabel('Difference from\\nmaximum light (mag)')"
   ]
  },
  {
   "cell_type": "code",
   "execution_count": 6,
   "metadata": {},
   "outputs": [
    {
     "data": {
      "application/vnd.jupyter.widget-view+json": {
       "model_id": "63bb4abf2aec4f018f141a84d398082d",
       "version_major": 2,
       "version_minor": 0
      },
      "text/plain": [
       "Canvas(toolbar=Toolbar(toolitems=[('Home', 'Reset original view', 'home', 'home'), ('Back', 'Back to previous …"
      ]
     },
     "metadata": {},
     "output_type": "display_data"
    }
   ],
   "source": [
    "# plot_targets = ['PTF13ayw', 'SN2004gc']\n",
    "plot_targets = ['SNF20060621-015', 'SNF20070712-000']\n",
    "\n",
    "figsize = a.settings['spectrum_plot_figsize_double']\n",
    "fig, axes = plt.subplots(2, 1, figsize=figsize, sharex=True)\n",
    "\n",
    "for ax, plot_target in zip(axes, plot_targets):\n",
    "    target_names = np.array([i.name for i in a.targets])\n",
    "    plot_idx = np.where(target_names == plot_target)[0][0]\n",
    "\n",
    "    plot_time_evolution_model(plot_idx, ax, skip_same_night=True)\n",
    "\n",
    "for ax in axes[:-1]:\n",
    "    ax.set_xlabel(None)\n",
    "\n",
    "a.savefig('time_evolution_model.pdf', fig)"
   ]
  },
  {
   "cell_type": "markdown",
   "metadata": {},
   "source": [
    "## Differential time evolution model"
   ]
  },
  {
   "cell_type": "code",
   "execution_count": 7,
   "metadata": {},
   "outputs": [
    {
     "data": {
      "application/vnd.jupyter.widget-view+json": {
       "model_id": "c7f20e182a4d4c56899e45e1b84c942f",
       "version_major": 2,
       "version_minor": 0
      },
      "text/plain": [
       "Canvas(toolbar=Toolbar(toolitems=[('Home', 'Reset original view', 'home', 'home'), ('Back', 'Back to previous …"
      ]
     },
     "metadata": {},
     "output_type": "display_data"
    }
   ],
   "source": [
    "phase_slope = a.differential_evolution_result['phase_slope']\n",
    "phase_quadratic = a.differential_evolution_result['phase_quadratic']\n",
    "phase_slope_x1 = a.differential_evolution_result['phase_slope_x1']\n",
    "phase_quadratic_x1 = a.differential_evolution_result['phase_quadratic_x1']\n",
    "\n",
    "def evaluate_phase_difference(phase, x1=0):\n",
    "    phase_difference = (\n",
    "        phase_slope * phase\n",
    "        + phase_quadratic * phase * phase\n",
    "        + phase_slope_x1 * x1 * phase\n",
    "        + phase_quadratic_x1 * x1 * phase * phase\n",
    "    )\n",
    "    \n",
    "    return phase_difference\n",
    "\n",
    "# Look at change in phase for the same x1\n",
    "max_phase = a.settings['phase_range']\n",
    "min_phase = -a.settings['phase_range']\n",
    "num_phases = 10\n",
    "phases = np.linspace(min_phase, max_phase, num_phases)\n",
    "\n",
    "fig, ax = plt.subplots(figsize=a.settings['spectrum_plot_figsize'])\n",
    "\n",
    "for phase in phases:\n",
    "    ax.plot(a.wave, evaluate_phase_difference(phase), c=phase_cmap.to_rgba(phase), zorder=np.abs(phase))\n",
    "\n",
    "fig.colorbar(phase_cmap, ax=ax, orientation='vertical', label='Phase (days)', aspect=40)\n",
    "\n",
    "ax.set_xlabel(a.settings['spectrum_plot_xlabel'])\n",
    "ax.set_ylabel('Brightness relative to\\n$t_{max,B}$ (mag)')\n",
    "ax.invert_yaxis()\n",
    "\n",
    "a.savefig('time_evolution_phase_difference.pdf', fig)"
   ]
  },
  {
   "cell_type": "code",
   "execution_count": 8,
   "metadata": {},
   "outputs": [],
   "source": [
    "# SALT2 x1 difference plots. This only makes sense if we are including x1 in the\n",
    "# differential evolution model, so these are blank with the default settings.\n",
    "# I only make them if x1 was actually used.\n",
    "\n",
    "def plot_x1_difference(phase):\n",
    "    # Look at change in phase for the same x1\n",
    "    min_x1 = -2\n",
    "    max_x1 = 2\n",
    "    num_x1s = 10\n",
    "    x1s = np.linspace(min_x1, max_x1, num_x1s)\n",
    "\n",
    "    fig, ax = plt.subplots(figsize=a.settings['spectrum_plot_figsize'])\n",
    "    norm = plt.Normalize(vmin=min_x1, vmax=max_x1)\n",
    "    sm = plt.cm.ScalarMappable(cmap=cmap, norm=norm)\n",
    "    sm.set_array(x1s)\n",
    "\n",
    "    for x1 in x1s:\n",
    "        diff = evaluate_phase_difference(phase, x1) - evaluate_phase_difference(phase, 0)\n",
    "        ax.plot(a.wave, diff, c=cmap(norm(x1)))\n",
    "\n",
    "    fig.colorbar(sm, label='SALT2 $x_1$')\n",
    "\n",
    "    ax.set_xlabel(a.settings['spectrum_plot_xlabel'])\n",
    "    ax.set_ylabel('Difference relative to $x_1=0$ (mag)')\n",
    "    ax.set_title('Difference in interpolation at %+d days' % phase)\n",
    "    ax.set_ylim(0.4, -0.4)\n",
    "    a.savefig('time_evolution_x1_difference_phase_%d.pdf' % phase, fig)\n",
    "\n",
    "if a.settings['differential_evolution_use_salt_x1']:\n",
    "    for phase in [-5, -3, -1, 1, 3, 5]:\n",
    "        plot_x1_difference(phase)"
   ]
  },
  {
   "cell_type": "markdown",
   "metadata": {},
   "source": [
    "## Gray dispersion"
   ]
  },
  {
   "cell_type": "code",
   "execution_count": 9,
   "metadata": {},
   "outputs": [
    {
     "name": "stdout",
     "output_type": "stream",
     "text": [
      "Gray dispersion scale: 0.0296 mag\n"
     ]
    },
    {
     "data": {
      "application/vnd.jupyter.widget-view+json": {
       "model_id": "41f6feb0426346528d34bd3504442e57",
       "version_major": 2,
       "version_minor": 0
      },
      "text/plain": [
       "Canvas(toolbar=Toolbar(toolitems=[('Home', 'Reset original view', 'home', 'home'), ('Back', 'Back to previous …"
      ]
     },
     "metadata": {},
     "output_type": "display_data"
    }
   ],
   "source": [
    "# Check if the gray dispersion is phase dependent. This should not be the\n",
    "# case if the model is working properly.\n",
    "gray_scale = a.differential_evolution_result['gray_dispersion_scale']\n",
    "print(f\"Gray dispersion scale: {gray_scale:.4f} mag\")\n",
    "\n",
    "plt.figure()\n",
    "gray_offsets = a.differential_evolution_result['gray_offsets']\n",
    "plt.scatter(a.salt_phases, gray_offsets, s=3, label='Individual spectra')\n",
    "math.plot_binned_mean(a.salt_phases, gray_offsets, c='C2', lw=2, label='Binned mean')\n",
    "math.plot_binned_rms(a.salt_phases, gray_offsets, c='C3', lw=2, label='Binned RMS')\n",
    "plt.xlabel('SALT2 Phase (days)')\n",
    "plt.ylabel('Gray offset (mag)')\n",
    "plt.legend()\n",
    "a.savefig('gray_offset_vs_phase.pdf')"
   ]
  },
  {
   "cell_type": "code",
   "execution_count": 10,
   "metadata": {},
   "outputs": [
    {
     "data": {
      "application/vnd.jupyter.widget-view+json": {
       "model_id": "7ff58abcef454788a1d364d8c1ae6eda",
       "version_major": 2,
       "version_minor": 0
      },
      "text/plain": [
       "Canvas(toolbar=Toolbar(toolitems=[('Home', 'Reset original view', 'home', 'home'), ('Back', 'Back to previous …"
      ]
     },
     "metadata": {},
     "output_type": "display_data"
    },
    {
     "data": {
      "text/plain": [
       "(-0.1, 0.1)"
      ]
     },
     "execution_count": 10,
     "metadata": {},
     "output_type": "execute_result"
    }
   ],
   "source": [
    "plt.figure()\n",
    "s2n = np.array([np.median(i.flux / i.fluxerr) for i in a.spectra])\n",
    "plt.scatter(s2n, gray_offsets, s=3, label='Individual spectra')\n",
    "math.plot_binned_mean(s2n, gray_offsets, equal_bin_counts=True, c='C2', lw=2, label='Binned mean')\n",
    "math.plot_binned_rms(s2n, gray_offsets, equal_bin_counts=True, c='C3', lw=2, label='Binned RMS')\n",
    "plt.xlabel('Signal-to-noise')\n",
    "plt.ylabel('Gray offset (mag)')\n",
    "plt.xscale('log')\n",
    "plt.ylim(-0.1, 0.1)"
   ]
  },
  {
   "cell_type": "markdown",
   "metadata": {},
   "source": [
    "## Differential evolution uncertainty"
   ]
  },
  {
   "cell_type": "code",
   "execution_count": 11,
   "metadata": {},
   "outputs": [
    {
     "data": {
      "application/vnd.jupyter.widget-view+json": {
       "model_id": "d0657e64a5a24a1a90f63024b51810ae",
       "version_major": 2,
       "version_minor": 0
      },
      "text/plain": [
       "Canvas(toolbar=Toolbar(toolitems=[('Home', 'Reset original view', 'home', 'home'), ('Back', 'Back to previous …"
      ]
     },
     "metadata": {},
     "output_type": "display_data"
    },
    {
     "data": {
      "application/vnd.jupyter.widget-view+json": {
       "model_id": "50de672f87a04ebab88724599e2b44aa",
       "version_major": 2,
       "version_minor": 0
      },
      "text/plain": [
       "Canvas(toolbar=Toolbar(toolitems=[('Home', 'Reset original view', 'home', 'home'), ('Back', 'Back to previous …"
      ]
     },
     "metadata": {},
     "output_type": "display_data"
    }
   ],
   "source": [
    "coefs = a.differential_evolution_result['phase_dispersion_coefficients']\n",
    "num_phase_coefficients = len(coefs)\n",
    "\n",
    "phase_range = a.settings['phase_range']\n",
    "\n",
    "def evaluate_phase_dispersion(phase):\n",
    "    phase_scale = np.abs((num_phase_coefficients / 2) * (phase / phase_range))\n",
    "    full_bins = int(np.floor(phase_scale))\n",
    "    remainder = phase_scale - full_bins\n",
    "\n",
    "    phase_coefficients = np.zeros(num_phase_coefficients)\n",
    "\n",
    "    for j in range(full_bins + 1):\n",
    "        if j == full_bins:\n",
    "            weight = remainder\n",
    "        else:\n",
    "            weight = 1\n",
    "\n",
    "        if weight == 0:\n",
    "            break\n",
    "\n",
    "        if phase > 0:\n",
    "            phase_bin = num_phase_coefficients // 2 + j\n",
    "        else:\n",
    "            phase_bin = num_phase_coefficients // 2 - 1 - j\n",
    "            \n",
    "        phase_coefficients[phase_bin] = weight\n",
    "        \n",
    "    fractional_dispersion = phase_coefficients.dot(coefs)\n",
    "    \n",
    "    # Convert to magnitudes\n",
    "    mag_dispersion = utils.frac_to_mag(fractional_dispersion)\n",
    "\n",
    "    return mag_dispersion\n",
    "\n",
    "phases = np.linspace(-phase_range, phase_range, 1 + num_phase_coefficients)\n",
    "\n",
    "eval_coefs = np.array([evaluate_phase_dispersion(phase) for phase in phases])\n",
    "\n",
    "# Uncertainties for different wavelengths\n",
    "plt.figure()\n",
    "num_wave = 10\n",
    "for i in range(num_wave):\n",
    "    min_wave = a.wave[0]\n",
    "    max_wave = a.wave[-1]\n",
    "    wave_range = max_wave - min_wave\n",
    "    target_wave = min_wave + wave_range * i / (num_wave - 1)\n",
    "    idx = np.argmin(np.abs(a.wave - target_wave))\n",
    "    use_wave = a.wave[idx]\n",
    "    color = plt.cm.rainbow((use_wave - min_wave) / wave_range)\n",
    "    plt.plot(phases, eval_coefs[:, idx], label='%d $\\AA$' % use_wave, c=color)\n",
    "    \n",
    "plt.xlim(-5.2, 5.2)\n",
    "plt.xlabel('Phase (days)')\n",
    "plt.ylabel('Model uncertainty (mag)')\n",
    "plt.legend()\n",
    "a.savefig('time_evolution_uncertainty_phase.pdf')\n",
    "\n",
    "plt.figure(figsize=a.settings['spectrum_plot_figsize'])\n",
    "for i in range(len(phases)):\n",
    "    plt.plot(a.wave, eval_coefs[i], label='%+.2f days' % phases[i], c=phase_cmap.to_rgba(phases[i]))\n",
    "plt.legend()\n",
    "plt.xlabel(a.settings['spectrum_plot_xlabel'])\n",
    "plt.ylabel('Model uncertainty (mag)')\n",
    "a.savefig('time_evolution_uncertainty_wavelength.pdf')"
   ]
  },
  {
   "cell_type": "code",
   "execution_count": 12,
   "metadata": {},
   "outputs": [
    {
     "data": {
      "text/plain": [
       "0.02223002696765615"
      ]
     },
     "execution_count": 12,
     "metadata": {},
     "output_type": "execute_result"
    }
   ],
   "source": [
    "np.median(a.maximum_uncertainty_fraction[a.uncertainty_mask])"
   ]
  },
  {
   "cell_type": "markdown",
   "metadata": {},
   "source": [
    "## Model accuracy"
   ]
  },
  {
   "cell_type": "code",
   "execution_count": 13,
   "metadata": {},
   "outputs": [
    {
     "data": {
      "application/vnd.jupyter.widget-view+json": {
       "model_id": "9831edb97c6b4336a3e8632a6a22c38f",
       "version_major": 2,
       "version_minor": 0
      },
      "text/plain": [
       "Canvas(toolbar=Toolbar(toolitems=[('Home', 'Reset original view', 'home', 'home'), ('Back', 'Back to previous …"
      ]
     },
     "metadata": {},
     "output_type": "display_data"
    },
    {
     "data": {
      "application/vnd.jupyter.widget-view+json": {
       "model_id": "ba323e9841424669ad4a608254bdbb7e",
       "version_major": 2,
       "version_minor": 0
      },
      "text/plain": [
       "Canvas(toolbar=Toolbar(toolitems=[('Home', 'Reset original view', 'home', 'home'), ('Back', 'Back to previous …"
      ]
     },
     "metadata": {},
     "output_type": "display_data"
    },
    {
     "data": {
      "application/vnd.jupyter.widget-view+json": {
       "model_id": "4a07ede96a844934bfb222bf6549766c",
       "version_major": 2,
       "version_minor": 0
      },
      "text/plain": [
       "Canvas(toolbar=Toolbar(toolitems=[('Home', 'Reset original view', 'home', 'home'), ('Back', 'Back to previous …"
      ]
     },
     "metadata": {},
     "output_type": "display_data"
    },
    {
     "data": {
      "application/vnd.jupyter.widget-view+json": {
       "model_id": "003cca066b6c4edbb3adfaad0f12e886",
       "version_major": 2,
       "version_minor": 0
      },
      "text/plain": [
       "Canvas(toolbar=Toolbar(toolitems=[('Home', 'Reset original view', 'home', 'home'), ('Back', 'Back to previous …"
      ]
     },
     "metadata": {},
     "output_type": "display_data"
    }
   ],
   "source": [
    "max_flux = a.differential_evolution_result['maximum_flux']\n",
    "max_fluxerr = a.differential_evolution_result['maximum_fluxerr']\n",
    "\n",
    "max_magerr = utils.frac_to_mag(max_fluxerr / max_flux)\n",
    "\n",
    "rbtl_dispersion = utils.frac_to_mag(a.rbtl_result['fractional_dispersion'])\n",
    "\n",
    "def plot_uncertainties(show_rbtl=False):\n",
    "    plt.figure(figsize=a.settings['spectrum_plot_figsize'])\n",
    "    offset = 29\n",
    "    \n",
    "    # Make sure that we include the worst offender.\n",
    "    max_loc = np.argmax(np.sum(max_magerr**2, axis=1))\n",
    "    start = max_loc % offset\n",
    "    \n",
    "    for idx in range(start, len(a.targets), offset):\n",
    "        plt.plot(a.wave, max_magerr[idx], label=a.targets[idx].name)\n",
    "    plt.legend(ncol=2)\n",
    "    \n",
    "    plt.xlabel('Wavelength ($\\AA$)')\n",
    "    \n",
    "    if show_rbtl:\n",
    "        plt.plot(a.wave, rbtl_dispersion, label='SN intrinsic dispersion', c='k', lw=2, ls='--')\n",
    "        plt.ylabel('Dispersion (mag)')\n",
    "        filename = 'maximum_uncertainty_rbtl.pdf'\n",
    "    else:\n",
    "        plt.ylabel('Uncertainty on $f_{max}$ (mag)')\n",
    "        filename = 'maximum_uncertainty_norbtl.pdf'\n",
    "        \n",
    "    plt.legend(ncol=2)\n",
    "    a.savefig(filename)\n",
    "\n",
    "plot_uncertainties(False)\n",
    "plot_uncertainties(True)\n",
    "\n",
    "\n",
    "plt.figure(figsize=a.settings['spectrum_plot_figsize'])\n",
    "for idx in range(len(a.targets)):\n",
    "    if idx == 0:\n",
    "        label = 'Individual uncertainties of $f_{max}$'\n",
    "    else:\n",
    "        label = ''\n",
    "    plt.plot(a.wave, max_magerr[idx], label=label, alpha=0.02, c='C0')\n",
    "plt.plot(a.wave, rbtl_dispersion, label='Supernova intrinsic dispersion', lw=2, ls='--', c='k')\n",
    "plt.plot(a.wave, np.median(max_magerr, axis=0), label='Median uncertainty on $f_{max}$', lw=2, ls='--', c='C0')\n",
    "plt.plot(a.wave, np.max(max_magerr, axis=0), label='Maximum uncertainty on $f_{max}$', c='C1')\n",
    "plt.legend()\n",
    "plt.ylabel('Dispersion (mag)')\n",
    "plt.xlabel('Wavelength ($\\AA$)')\n",
    "a.savefig('maximum_uncertainty_median.pdf')\n",
    "\n",
    "plt.figure(figsize=a.settings['spectrum_plot_figsize'])\n",
    "plt.plot(a.wave, rbtl_dispersion, label='SN intrinsic dispersion', lw=2, ls='--', c='k')\n",
    "plt.plot(a.wave, np.min(max_magerr, axis=0), label='Minimum $\\sigma_{f,max}$')\n",
    "for percentile in (25, 50, 75):\n",
    "    plt.plot(a.wave, np.percentile(max_magerr, percentile, axis=0), label='%dth percentile $\\sigma_{f,max}$' % percentile)\n",
    "plt.plot(a.wave, np.max(max_magerr, axis=0), label='Maximum $\\sigma_{f,max}$')\n",
    "plt.legend(ncol=2)\n",
    "plt.ylabel('Dispersion (mag)')\n",
    "plt.xlabel('Wavelength ($\\AA$)')\n",
    "a.savefig('maximum_uncertainty_percentile.pdf')"
   ]
  },
  {
   "cell_type": "markdown",
   "metadata": {},
   "source": [
    "## Contribution to the total interpolation uncertainty from various sources"
   ]
  },
  {
   "cell_type": "code",
   "execution_count": 14,
   "metadata": {},
   "outputs": [
    {
     "data": {
      "application/vnd.jupyter.widget-view+json": {
       "model_id": "326f04af6ea54280ae0c880b0a55976a",
       "version_major": 2,
       "version_minor": 0
      },
      "text/plain": [
       "Canvas(toolbar=Toolbar(toolitems=[('Home', 'Reset original view', 'home', 'home'), ('Back', 'Back to previous …"
      ]
     },
     "metadata": {},
     "output_type": "display_data"
    },
    {
     "data": {
      "application/vnd.jupyter.widget-view+json": {
       "model_id": "5d7c54a329aa40bbb8d4b98a1b268bb2",
       "version_major": 2,
       "version_minor": 0
      },
      "text/plain": [
       "Canvas(toolbar=Toolbar(toolitems=[('Home', 'Reset original view', 'home', 'home'), ('Back', 'Back to previous …"
      ]
     },
     "metadata": {},
     "output_type": "display_data"
    },
    {
     "data": {
      "application/vnd.jupyter.widget-view+json": {
       "model_id": "197c515efb524bc2876c272844cef5e9",
       "version_major": 2,
       "version_minor": 0
      },
      "text/plain": [
       "Canvas(toolbar=Toolbar(toolitems=[('Home', 'Reset original view', 'home', 'home'), ('Back', 'Back to previous …"
      ]
     },
     "metadata": {},
     "output_type": "display_data"
    },
    {
     "name": "stdout",
     "output_type": "stream",
     "text": [
      "Interpolation of 0.0-1.5 days:\n",
      "                 Raw: std=0.052, NMAD=0.039\n",
      "               Phase: std=0.045, NMAD=0.034\n",
      "          Phase + x1: std=0.045, NMAD=0.034\n",
      "        Phase + gray: std=0.029, NMAD=0.014\n",
      "   Phase + x1 + gray: std=0.029, NMAD=0.014\n",
      "\n",
      "Interpolation of 1.5-2.5 days:\n",
      "                 Raw: std=0.115, NMAD=0.087\n",
      "               Phase: std=0.080, NMAD=0.066\n",
      "          Phase + x1: std=0.080, NMAD=0.066\n",
      "        Phase + gray: std=0.061, NMAD=0.042\n",
      "   Phase + x1 + gray: std=0.061, NMAD=0.042\n",
      "\n",
      "Interpolation of 2.5-5.5 days:\n",
      "                 Raw: std=0.178, NMAD=0.126\n",
      "               Phase: std=0.094, NMAD=0.075\n",
      "          Phase + x1: std=0.094, NMAD=0.075\n",
      "        Phase + gray: std=0.081, NMAD=0.055\n",
      "   Phase + x1 + gray: std=0.081, NMAD=0.055\n",
      "\n",
      "Interpolation of 5.5-10.5 days:\n",
      "                 Raw: std=0.272, NMAD=0.209\n",
      "               Phase: std=0.128, NMAD=0.098\n",
      "          Phase + x1: std=0.128, NMAD=0.098\n",
      "        Phase + gray: std=0.108, NMAD=0.076\n",
      "   Phase + x1 + gray: std=0.108, NMAD=0.076\n",
      "\n"
     ]
    }
   ],
   "source": [
    "targets = []\n",
    "diffs = []\n",
    "phases_1 = []\n",
    "phases_2 = []\n",
    "x1s = []\n",
    "gray_differences = []\n",
    "\n",
    "gray_offsets = a.differential_evolution_result['gray_offsets']\n",
    "\n",
    "center_specs = a.spectra[a.center_mask]\n",
    "center_gray_offsets = gray_offsets[a.center_mask]\n",
    "for target_idx in range(len(a.targets)):\n",
    "    near_max_spec = center_specs[target_idx]\n",
    "    \n",
    "    target_mask = (a.target_map == target_idx) & (~a.center_mask)\n",
    "    target_specs = a.spectra[target_mask]\n",
    "    target_gray_offsets = gray_offsets[target_mask]\n",
    "    \n",
    "    for spec_idx, target_spec in enumerate(target_specs):\n",
    "        phase_diff = target_spec.phase - near_max_spec.phase\n",
    "        # if np.abs(phase_diff) < 1:\n",
    "            # continue\n",
    "\n",
    "        targets.append(a.targets[target_idx])\n",
    "        diff = -2.5*np.log10(target_spec.flux / near_max_spec.flux)\n",
    "        diffs.append(diff)\n",
    "        phases_1.append(near_max_spec.phase)\n",
    "        phases_2.append(target_spec.phase)\n",
    "        x1s.append(a.salt_x1[target_idx])\n",
    "        \n",
    "        gray_differences.append(target_gray_offsets[spec_idx] - center_gray_offsets[target_idx])\n",
    "\n",
    "targets = np.array(targets)\n",
    "diffs = np.array(diffs)\n",
    "phases_1 = np.array(phases_1)\n",
    "phases_2 = np.array(phases_2)\n",
    "x1s = np.array(x1s)\n",
    "gray_differences = np.array(gray_differences)\n",
    "\n",
    "phase_diffs = phases_2 - phases_1\n",
    "\n",
    "def plot_diffs(diffs, model_subtracted=False):\n",
    "    sel_mask = np.zeros(len(diffs), dtype=bool)\n",
    "    sel_mask[4::50] = True\n",
    "    sel_mask[np.abs(phase_diffs) < 1] = False\n",
    "    \n",
    "    plt.figure(figsize=a.settings['spectrum_plot_figsize'])\n",
    "    \n",
    "    for use_idx in np.where(sel_mask)[0]:\n",
    "        target = targets[use_idx]\n",
    "        phase_1 = phases_1[use_idx]\n",
    "        phase_2 = phases_2[use_idx]\n",
    "        \n",
    "        if phase_1 > phase_2:\n",
    "            phase_1, phase_2 = phase_2, phase_1\n",
    "        \n",
    "        label = '%s, %.1f to %.1f days' % (target, phase_1, phase_2)\n",
    "        \n",
    "        plt.plot(a.wave, diffs[use_idx] / phase_diffs[use_idx], alpha=0.5, label=label)\n",
    "        \n",
    "    plt.legend(ncol=2)\n",
    "\n",
    "    plt.ylim(-0.25, 0.25)\n",
    "    plt.xlabel('Wavelength ($\\AA$)')\n",
    "    if model_subtracted:\n",
    "        plt.ylabel('$\\Delta m / \\Delta t$ (data)\\n - $\\Delta m / \\Delta t$ (model) (mag/day)')\n",
    "    else:\n",
    "        plt.ylabel('$\\Delta m / \\Delta t$ (data) (mag/day)')\n",
    "\n",
    "plot_diffs(diffs)\n",
    "a.savefig('raw_phase_difference.pdf')\n",
    "\n",
    "residuals_no_x1 = []\n",
    "residuals_x1 = []\n",
    "for diff, phase_1, phase_2, x1 in zip(diffs, phases_1, phases_2, x1s):\n",
    "    model_no_x1 = evaluate_phase_difference(phase_2, 0) - evaluate_phase_difference(phase_1, 0)\n",
    "    model_x1 = evaluate_phase_difference(phase_2, x1) - evaluate_phase_difference(phase_1, x1)\n",
    "    residuals_no_x1.append(diff - model_no_x1)\n",
    "    residuals_x1.append(diff - model_x1)\n",
    "    \n",
    "residuals_no_x1 = np.array(residuals_no_x1)\n",
    "residuals_x1 = np.array(residuals_x1)\n",
    "\n",
    "residuals_gray_no_x1 = residuals_no_x1 - gray_differences[:, None]\n",
    "residuals_gray_x1 = residuals_x1 - gray_differences[:, None]\n",
    "\n",
    "plot_diffs(residuals_gray_no_x1, True)\n",
    "a.savefig('corr_phase_difference_no_x1.pdf')\n",
    "\n",
    "plot_diffs(residuals_gray_x1, True)\n",
    "a.savefig('corr_phase_difference_x1.pdf')\n",
    "\n",
    "def print_interpolation_residuals(min_days, max_days):\n",
    "    cut = (np.abs(phase_diffs) < max_days) & (np.abs(phase_diffs) > min_days)\n",
    "\n",
    "    def do_print(label, vals, cut):\n",
    "        cut_vals = vals[cut]\n",
    "        print('%20s: std=%.3f, NMAD=%.3f' % (label, math.rms(cut_vals), math.nmad(cut_vals)))\n",
    "\n",
    "    print(\"Interpolation of %.1f-%.1f days:\" % (min_days, max_days))\n",
    "    do_print('Raw', diffs, cut)    \n",
    "    do_print('Phase', residuals_no_x1, cut)    \n",
    "    do_print('Phase + x1', residuals_x1, cut)    \n",
    "    do_print('Phase + gray', residuals_gray_no_x1, cut)    \n",
    "    do_print('Phase + x1 + gray', residuals_gray_x1, cut)    \n",
    "    print(\"\")\n",
    "    \n",
    "print_interpolation_residuals(0., 1.5)\n",
    "print_interpolation_residuals(1.5, 2.5)\n",
    "print_interpolation_residuals(2.5, 5.5)\n",
    "print_interpolation_residuals(5.5, 10.5)"
   ]
  },
  {
   "cell_type": "markdown",
   "metadata": {},
   "source": [
    "## What fraction of the interpolation uncertainty is common?"
   ]
  },
  {
   "cell_type": "code",
   "execution_count": 15,
   "metadata": {},
   "outputs": [
    {
     "data": {
      "application/vnd.jupyter.widget-view+json": {
       "model_id": "1f56ae361e834e8aa83152b9c50141e9",
       "version_major": 2,
       "version_minor": 0
      },
      "text/plain": [
       "Canvas(toolbar=Toolbar(toolitems=[('Home', 'Reset original view', 'home', 'home'), ('Back', 'Back to previous …"
      ]
     },
     "metadata": {},
     "output_type": "display_data"
    },
    {
     "data": {
      "application/vnd.jupyter.widget-view+json": {
       "model_id": "2ef363e6866f4620b4cd35b93710262a",
       "version_major": 2,
       "version_minor": 0
      },
      "text/plain": [
       "Canvas(toolbar=Toolbar(toolitems=[('Home', 'Reset original view', 'home', 'home'), ('Back', 'Back to previous …"
      ]
     },
     "metadata": {},
     "output_type": "display_data"
    },
    {
     "name": "stdout",
     "output_type": "stream",
     "text": [
      "Median fraction of variance explained: 0.846\n"
     ]
    },
    {
     "name": "stderr",
     "output_type": "stream",
     "text": [
      "<ipython-input-15-bd488f3d2726>:21: RuntimeWarning: invalid value encountered in true_divide\n",
      "  plt.plot(phases, residual_dispersion**2 / (residual_dispersion**2 + common_dispersion**2), label='Fraction of dispersion remaining')\n",
      "<ipython-input-15-bd488f3d2726>:26: RuntimeWarning: invalid value encountered in true_divide\n",
      "  print(\"Median fraction of variance explained: %.3f\" % (1 - np.nanmedian(residual_dispersion**2 / (residual_dispersion**2 + common_dispersion**2))))\n"
     ]
    }
   ],
   "source": [
    "phases = np.linspace(-5, 5, 101)\n",
    "\n",
    "common_dispersion = []\n",
    "residual_dispersion = []\n",
    "\n",
    "for phase in phases:\n",
    "    common_dispersion.append(np.sqrt(np.mean(evaluate_phase_difference(phase)**2)))\n",
    "    residual_dispersion.append(np.sqrt(np.mean(evaluate_phase_dispersion(phase)**2)))\n",
    "    \n",
    "common_dispersion = np.array(common_dispersion)\n",
    "residual_dispersion = np.array(residual_dispersion)\n",
    "    \n",
    "plt.figure()\n",
    "plt.plot(phases, common_dispersion, label='Common variation (explained)')\n",
    "plt.plot(phases, residual_dispersion, label='Residual variation (unexplained)')\n",
    "plt.legend()\n",
    "plt.xlabel('Phase (days)')\n",
    "plt.ylabel('Overall dispersion (mag)')\n",
    "\n",
    "plt.figure()\n",
    "plt.plot(phases, residual_dispersion**2 / (residual_dispersion**2 + common_dispersion**2), label='Fraction of dispersion remaining')\n",
    "plt.legend()\n",
    "plt.xlabel('Phase (days)')\n",
    "plt.ylabel('Overall dispersion (mag)')\n",
    "\n",
    "print(\"Median fraction of variance explained: %.3f\" % (1 - np.nanmedian(residual_dispersion**2 / (residual_dispersion**2 + common_dispersion**2))))"
   ]
  },
  {
   "cell_type": "markdown",
   "metadata": {},
   "source": [
    "## Dump the model parameters"
   ]
  },
  {
   "cell_type": "code",
   "execution_count": 16,
   "metadata": {},
   "outputs": [],
   "source": [
    "def to_str(fmt, x):\n",
    "    return [fmt % i for i in x]\n",
    "    \n",
    "\n",
    "data_table = Table({\n",
    "    'Wavelength': to_str('%d', a.wave),\n",
    "    'Time evolution c1': to_str('%.3f', a.differential_evolution_result['phase_slope']),\n",
    "    'Time evolution c2': to_str('%.5f', a.differential_evolution_result['phase_quadratic']),\n",
    "    'Model uncertainties -5.0 days': to_str('%.3f', evaluate_phase_dispersion(-5)),\n",
    "    'Model uncertainties -2.5 days': to_str('%.3f', evaluate_phase_dispersion(-2.5)),\n",
    "    'Model uncertainties +2.5 days': to_str('%.3f', evaluate_phase_dispersion(2.5)),\n",
    "    'Model uncertainties +5.0 days': to_str('%.3f', evaluate_phase_dispersion(5.)),\n",
    "})\n",
    "\n",
    "def dump_data(f, count=None):\n",
    "    if count is not None:\n",
    "        offset = len(data_table) // count\n",
    "        ref = offset // 2\n",
    "    else:\n",
    "        offset = None\n",
    "        ref = None\n",
    "        \n",
    "    for row in data_table[ref::offset]:\n",
    "        print(' & '.join(row) + ' \\\\\\\\', file=f)\n",
    "\n",
    "with a.latex_open('differential_time_evolution_parameters.tex') as f:\n",
    "    dump_data(f)\n",
    "\n",
    "with a.latex_open('differential_time_evolution_parameters_short.tex') as f:\n",
    "    dump_data(f, 10)"
   ]
  },
  {
   "cell_type": "markdown",
   "metadata": {},
   "source": [
    "## Test applying the model from a single spectrum to another."
   ]
  },
  {
   "cell_type": "code",
   "execution_count": 17,
   "metadata": {},
   "outputs": [
    {
     "data": {
      "application/vnd.jupyter.widget-view+json": {
       "model_id": "9cf8768688d147dc9cc9414836ecf624",
       "version_major": 2,
       "version_minor": 0
      },
      "text/plain": [
       "Canvas(toolbar=Toolbar(toolitems=[('Home', 'Reset original view', 'home', 'home'), ('Back', 'Back to previous …"
      ]
     },
     "metadata": {},
     "output_type": "display_data"
    },
    {
     "data": {
      "text/plain": [
       "Text(0.5, 1.0, 'Reference phase: 0.71 days')"
      ]
     },
     "execution_count": 17,
     "metadata": {},
     "output_type": "execute_result"
    }
   ],
   "source": [
    "plt.figure()\n",
    "\n",
    "idx = 0\n",
    "\n",
    "target = a.targets[idx]\n",
    "ref_spec = target.get_nearest_spectrum(0)\n",
    "for spec_idx, spec in enumerate(target.get_spectra_in_range(-5, 5)):\n",
    "    if spec == ref_spec:\n",
    "        continue\n",
    "\n",
    "    ref_mag = -2.5*np.log10(ref_spec.bin_by_velocity().flux)\n",
    "    obs_mag = -2.5*np.log10(spec.bin_by_velocity().flux)\n",
    "    model_diff = evaluate_phase_difference(spec.phase) - evaluate_phase_difference(ref_spec.phase)\n",
    "    obs_diff = obs_mag - ref_mag\n",
    "    uncertainty = np.sqrt(evaluate_phase_dispersion(spec.phase)**2 + evaluate_phase_dispersion(ref_spec.phase)**2)\n",
    "\n",
    "    plt.plot(a.wave, obs_diff, c=f'C{spec_idx}', label=f'{spec.phase:.2f} days')\n",
    "    plt.plot(a.wave, model_diff, c=f'C{spec_idx}', ls='--')\n",
    "    plt.fill_between(a.wave, model_diff - uncertainty, model_diff + uncertainty, fc=f'C{spec_idx}', alpha=0.2)\n",
    "    \n",
    "plt.legend()\n",
    "\n",
    "plt.title(f'Reference phase: {ref_spec.phase:.2f} days')"
   ]
  },
  {
   "cell_type": "code",
   "execution_count": 18,
   "metadata": {},
   "outputs": [
    {
     "data": {
      "application/vnd.jupyter.widget-view+json": {
       "model_id": "af381e59346349e39d3d1d0507a40fbd",
       "version_major": 2,
       "version_minor": 0
      },
      "text/plain": [
       "Canvas(toolbar=Toolbar(toolitems=[('Home', 'Reset original view', 'home', 'home'), ('Back', 'Back to previous …"
      ]
     },
     "metadata": {},
     "output_type": "display_data"
    },
    {
     "data": {
      "text/plain": [
       "Text(0.5, 0, 'Pulls')"
      ]
     },
     "execution_count": 18,
     "metadata": {},
     "output_type": "execute_result"
    }
   ],
   "source": [
    "plt.figure()\n",
    "\n",
    "all_pulls = []\n",
    "\n",
    "for idx in range(len(a.targets)):\n",
    "    target = a.targets[idx]\n",
    "    ref_spec = target.get_nearest_spectrum(0)\n",
    "    for spec_idx, spec in enumerate(target.get_spectra_in_range(-5, 5)):\n",
    "        if spec == ref_spec:\n",
    "            continue\n",
    "\n",
    "        if np.abs(ref_spec.phase) > 1:\n",
    "            continue\n",
    "\n",
    "        if np.abs(spec.phase) < 3:\n",
    "            continue\n",
    "            \n",
    "        bin_ref_spec = ref_spec.bin_by_velocity()\n",
    "        bin_spec = spec.bin_by_velocity()\n",
    "\n",
    "        ref_mag = -2.5*np.log10(bin_ref_spec.flux)\n",
    "        obs_mag = -2.5*np.log10(bin_spec.flux)\n",
    "        model_diff = evaluate_phase_difference(spec.phase) - evaluate_phase_difference(ref_spec.phase)\n",
    "        obs_diff = obs_mag - ref_mag\n",
    "        \n",
    "        # Note: uncertainties are correlated so this isn't totally correct (and will underestimate them)\n",
    "        # It is reasonably close though.\n",
    "        uncertainty = np.sqrt(evaluate_phase_dispersion(spec.phase)**2 + evaluate_phase_dispersion(ref_spec.phase)**2 + bin_spec.fluxvar + bin_ref_spec.fluxvar)\n",
    "        \n",
    "        dd = obs_diff - model_diff\n",
    "        zp = np.sum(1 / uncertainty**2 * dd) / np.sum(1 / uncertainty**2)\n",
    "        dd = dd - zp\n",
    "        \n",
    "        pulls = (dd) / uncertainty\n",
    "        \n",
    "        # plt.plot(a.wave, (obs_diff - model_diff) / uncertainty, lw=1)\n",
    "        all_pulls.append(pulls)\n",
    "\n",
    "plt.hist(np.array(all_pulls).flat, 100, (-10, 10), density=True)\n",
    "x = np.linspace(-10, 10, 100)\n",
    "plt.plot(x, 1 / np.sqrt(2 * np.pi * 1.**2) * np.exp(-x**2 / 2 / 1.**2))\n",
    "# plt.plot(x, 1 / np.sqrt(2 * np.pi * 1.2**2) * np.exp(-x**2 / 2 / 1.2**2))\n",
    "plt.xlabel(\"Pulls\")"
   ]
  },
  {
   "cell_type": "markdown",
   "metadata": {},
   "source": [
    "# Reading between the lines plots"
   ]
  },
  {
   "cell_type": "markdown",
   "metadata": {},
   "source": [
    "## Show spectra before and after"
   ]
  },
  {
   "cell_type": "code",
   "execution_count": 19,
   "metadata": {},
   "outputs": [
    {
     "data": {
      "application/vnd.jupyter.widget-view+json": {
       "model_id": "9c224b7bc4ec41ae8353e0f516de1f31",
       "version_major": 2,
       "version_minor": 0
      },
      "text/plain": [
       "Canvas(toolbar=Toolbar(toolitems=[('Home', 'Reset original view', 'home', 'home'), ('Back', 'Back to previous …"
      ]
     },
     "metadata": {},
     "output_type": "display_data"
    },
    {
     "data": {
      "application/vnd.jupyter.widget-view+json": {
       "model_id": "443ab859f28e4d34a86314eb5955e51d",
       "version_major": 2,
       "version_minor": 0
      },
      "text/plain": [
       "Canvas(toolbar=Toolbar(toolitems=[('Home', 'Reset original view', 'home', 'home'), ('Back', 'Back to previous …"
      ]
     },
     "metadata": {},
     "output_type": "display_data"
    },
    {
     "data": {
      "application/vnd.jupyter.widget-view+json": {
       "model_id": "badb77dc608c47a2868f6fc8e6a0e716",
       "version_major": 2,
       "version_minor": 0
      },
      "text/plain": [
       "Canvas(toolbar=Toolbar(toolitems=[('Home', 'Reset original view', 'home', 'home'), ('Back', 'Back to previous …"
      ]
     },
     "metadata": {},
     "output_type": "display_data"
    },
    {
     "data": {
      "application/vnd.jupyter.widget-view+json": {
       "model_id": "1f69a77b5a0249d2b3773386ef95d9e3",
       "version_major": 2,
       "version_minor": 0
      },
      "text/plain": [
       "Canvas(toolbar=Toolbar(toolitems=[('Home', 'Reset original view', 'home', 'home'), ('Back', 'Back to previous …"
      ]
     },
     "metadata": {},
     "output_type": "display_data"
    }
   ],
   "source": [
    "fig, ax = plt.subplots(figsize=a.settings['spectrum_plot_figsize'])\n",
    "a.plot_flux(ax, a.maximum_flux[a.uncertainty_mask], lw=1, label='Individual spectra')\n",
    "ax.legend()\n",
    "a.savefig('spectra_at_maximum.pdf', fig)\n",
    "\n",
    "fig, ax = plt.subplots(figsize=a.settings['spectrum_plot_figsize'])\n",
    "a.plot_flux(ax, a.scale_flux[a.uncertainty_mask], lw=1., label='Individual spectra')\n",
    "a.plot_flux(ax, a.mean_flux, c='k', label='Mean spectrum')\n",
    "ax.legend()\n",
    "a.savefig('scale_spectra.pdf', fig)\n",
    "\n",
    "fig, ax = plt.subplots(figsize=a.settings['spectrum_plot_figsize'])\n",
    "a.plot_flux(ax, a.mean_flux, a.mean_flux * a.rbtl_result['fractional_dispersion'], label='Mean spectrum', uncertainty_label='Supernova intrinsic dispersion')\n",
    "ax.legend()\n",
    "a.savefig('scale_spectra_model.pdf', fig)\n",
    "\n",
    "fig, ax = plt.subplots(figsize=a.settings['spectrum_plot_figsize'])\n",
    "intrinsic_dispersion = utils.frac_to_mag(a.rbtl_result['fractional_dispersion'])\n",
    "ax.plot(a.wave, intrinsic_dispersion, c='k', lw=2, label='Supernova intrinsic dispersion')\n",
    "ax.legend()\n",
    "ax.set_xlabel(a.settings['spectrum_plot_xlabel'])\n",
    "ax.set_ylabel('Intrinsic dispersion (mag)')\n",
    "ax.set_ylim(0, None)\n",
    "a.savefig('rbtl_intrinsic_dispersion.pdf', fig)"
   ]
  },
  {
   "cell_type": "code",
   "execution_count": 20,
   "metadata": {},
   "outputs": [
    {
     "data": {
      "application/vnd.jupyter.widget-view+json": {
       "model_id": "c97bcc9113dd4615acdca6b337fa6132",
       "version_major": 2,
       "version_minor": 0
      },
      "text/plain": [
       "Canvas(toolbar=Toolbar(toolitems=[('Home', 'Reset original view', 'home', 'home'), ('Back', 'Back to previous …"
      ]
     },
     "metadata": {},
     "output_type": "display_data"
    }
   ],
   "source": [
    "# Combined version\n",
    "\n",
    "figsize = a.settings['spectrum_plot_figsize_triple']\n",
    "\n",
    "fig, (ax1, ax2, ax3) = plt.subplots(3, 1, figsize=figsize, sharex=True)\n",
    "\n",
    "a.plot_flux(ax1, a.maximum_flux[::8], lw=0.5, label='Individual spectra', c='C0')\n",
    "ax1.set_title('Original spectra')\n",
    "ax1.set_xlabel(None)\n",
    "\n",
    "a.plot_flux(ax2, a.scale_flux[a.uncertainty_mask][::8], lw=0.5, label='Individual spectra', c='C0')\n",
    "a.plot_flux(ax2, a.mean_flux, c='k', lw=2, ls='--', label='Mean spectrum')\n",
    "ax2.set_title('Dereddened spectra')\n",
    "ax2.set_xlabel(None)\n",
    "\n",
    "intrinsic_dispersion = utils.frac_to_mag(a.rbtl_result['fractional_dispersion'])\n",
    "ax3.plot(a.wave, intrinsic_dispersion, c='k')\n",
    "ax3.set_xlabel(a.settings['spectrum_plot_xlabel'])\n",
    "ax3.set_ylabel('Intrinsic dispersion (mag)')\n",
    "ax3.set_title('Recovered intrinsic dispersion')\n",
    "ax3.set_ylim(0, None)\n",
    "\n",
    "a.savefig('rbtl_spectra_combined.pdf')"
   ]
  },
  {
   "cell_type": "markdown",
   "metadata": {},
   "source": [
    "# Manifold learning plots"
   ]
  },
  {
   "cell_type": "markdown",
   "metadata": {},
   "source": [
    "## Plot the parameter space"
   ]
  },
  {
   "cell_type": "code",
   "execution_count": 21,
   "metadata": {},
   "outputs": [
    {
     "data": {
      "application/vnd.jupyter.widget-view+json": {
       "model_id": "d5a77f980956480fb222c883f19bcddd",
       "version_major": 2,
       "version_minor": 0
      },
      "text/plain": [
       "Canvas(toolbar=Toolbar(toolitems=[('Home', 'Reset original view', 'home', 'home'), ('Back', 'Back to previous …"
      ]
     },
     "metadata": {},
     "output_type": "display_data"
    },
    {
     "data": {
      "text/plain": [
       "Text(0.5, 0, '$\\\\xi_1$')"
      ]
     },
     "execution_count": 21,
     "metadata": {},
     "output_type": "execute_result"
    }
   ],
   "source": [
    "a.scatter_combined([a.embedding[:, 2], a.embedding[:, 1], a.embedding[:, 0]], a.uncertainty_mask, vmin=-4, vmax=4, label='Other Component Value')\n",
    "a.savefig('embedding_components.pdf')\n",
    "plt.gca().set_xlabel('$\\\\xi_1$')"
   ]
  },
  {
   "cell_type": "markdown",
   "metadata": {},
   "source": [
    "## Slices through components"
   ]
  },
  {
   "cell_type": "code",
   "execution_count": 22,
   "metadata": {},
   "outputs": [],
   "source": [
    "def plot_steps(ax, component, mask=True, num_steps=20, colorbar_aspect=50):\n",
    "    mask = mask & a.uncertainty_mask\n",
    "\n",
    "    use_embedding = a.embedding[mask, component]\n",
    "    use_flux = a.scale_flux[mask]\n",
    "\n",
    "    bin_edges = np.percentile(use_embedding, np.linspace(0, 100, num_steps + 1))\n",
    "    bin_centers = (bin_edges[1:] + bin_edges[:-1]) / 2.\n",
    "\n",
    "    sm = plt.cm.ScalarMappable(cmap=a.settings['colormap'], norm=plt.Normalize(vmin=bin_centers[0], vmax=bin_centers[-1]))\n",
    "    sm._A = []\n",
    "\n",
    "    for step in range(num_steps):\n",
    "        step_mask = (use_embedding >= bin_edges[step]) & (use_embedding < bin_edges[step+1])\n",
    "        step_embedding = use_embedding[step_mask]\n",
    "\n",
    "        mean_val = np.mean(step_embedding)\n",
    "        step_flux = np.median(use_flux[step_mask], axis=0)\n",
    "\n",
    "        # Make the extreme values of components get plotted on top if everything overlaps.\n",
    "        zorder = np.abs(mean_val)\n",
    "\n",
    "        a.plot_flux(ax, step_flux, c=sm.to_rgba(mean_val), zorder=zorder)\n",
    "\n",
    "    fig.colorbar(sm, ax=ax, orientation='vertical', label='Component Value', pad=0, aspect=colorbar_aspect)"
   ]
  },
  {
   "cell_type": "code",
   "execution_count": 23,
   "metadata": {},
   "outputs": [
    {
     "data": {
      "application/vnd.jupyter.widget-view+json": {
       "model_id": "d0e6d1538eae433997ac1cf8c3918e58",
       "version_major": 2,
       "version_minor": 0
      },
      "text/plain": [
       "Canvas(toolbar=Toolbar(toolitems=[('Home', 'Reset original view', 'home', 'home'), ('Back', 'Back to previous …"
      ]
     },
     "metadata": {},
     "output_type": "display_data"
    }
   ],
   "source": [
    "# All plots combined\n",
    "# fig, axes = plt.subplots(3, 1, figsize=(a.settings['spectrum_plot_figsize'][0], a.settings['spectrum_plot_figsize'][1] * 3 - 1.5), sharex=True)\n",
    "fig, axes = plt.subplots(3, 1, figsize=a.settings['spectrum_plot_figsize_triple'], sharex=True)\n",
    "\n",
    "label_lines = {\n",
    "    'SiII\\n4130': (3920, 4130),\n",
    "    'SiII\\n5972': (5650, 5900),\n",
    "    'SiII\\n6355': (5950, 6400),\n",
    "    'CaII\\nH&K': (3530, 3870),\n",
    "    'CaII\\nIR triplet': (7800, 8450),\n",
    "    'SII\\ndoublet': (5180, 5570),\n",
    "    'OI\\ntriplet': (7300, 7680),\n",
    "}\n",
    "\n",
    "for component, ax in enumerate(axes):\n",
    "    plot_steps(ax, component, colorbar_aspect=17)\n",
    "\n",
    "    if component != 2:\n",
    "        ax.set_xlabel(None)\n",
    "        \n",
    "    for line_label, (min_wave, max_wave) in label_lines.items():\n",
    "        ax.axvspan(min_wave, max_wave, alpha=0.15, color='gray')\n",
    "        mean_wave = (min_wave + max_wave) / 2.\n",
    "        if component == 2:\n",
    "            ax.text(mean_wave, 0.02, line_label, horizontalalignment='center', verticalalignment='bottom', fontsize=9.)\n",
    "\n",
    "    ax.set_title('Twins Embedding Component %d ($\\\\xi_{%d}$)' % (component + 1, component + 1))\n",
    "    # ax.set_ylabel('Normalized flux\\n(erg/cm$^2$/s/Hz)')\n",
    "\n",
    "a.savefig('component_steps_combined.pdf')"
   ]
  },
  {
   "cell_type": "code",
   "execution_count": 24,
   "metadata": {},
   "outputs": [
    {
     "data": {
      "application/vnd.jupyter.widget-view+json": {
       "model_id": "7fa60f3ec741415c9525b455a6db428a",
       "version_major": 2,
       "version_minor": 0
      },
      "text/plain": [
       "Canvas(toolbar=Toolbar(toolitems=[('Home', 'Reset original view', 'home', 'home'), ('Back', 'Back to previous …"
      ]
     },
     "metadata": {},
     "output_type": "display_data"
    }
   ],
   "source": [
    "# All plots combined with a cut imposed for testing purposes.\n",
    "# fig, axes = plt.subplots(3, 1, figsize=(a.settings['spectrum_plot_figsize'][0], a.settings['spectrum_plot_figsize'][1] * 3 - 1.5), sharex=True)\n",
    "fig, axes = plt.subplots(3, 1, figsize=a.settings['spectrum_plot_figsize_triple'], sharex=True)\n",
    "\n",
    "label_lines = {\n",
    "    'SiII\\n4130': (3920, 4130),\n",
    "    'SiII\\n5972': (5650, 5900),\n",
    "    'SiII\\n6355': (5950, 6400),\n",
    "    'CaII\\nH&K': (3530, 3870),\n",
    "    'CaII\\nIR triplet': (7800, 8450),\n",
    "    'SII\\ndoublet': (5180, 5570),\n",
    "    'OI\\ntriplet': (7300, 7680),\n",
    "}\n",
    "\n",
    "for component, ax in enumerate(axes):\n",
    "    plot_steps(ax, component, (a.embedding[:, 0] < 0), colorbar_aspect=17)\n",
    "\n",
    "    if component != 2:\n",
    "        ax.set_xlabel(None)\n",
    "        \n",
    "    for line_label, (min_wave, max_wave) in label_lines.items():\n",
    "        ax.axvspan(min_wave, max_wave, alpha=0.15, color='gray')\n",
    "        mean_wave = (min_wave + max_wave) / 2.\n",
    "        if component == 2:\n",
    "            ax.text(mean_wave, 0.02, line_label, horizontalalignment='center', verticalalignment='bottom', fontsize=9.)\n",
    "\n",
    "    ax.set_title('Twins Embedding Component %d ($\\\\xi_{%d}$)' % (component + 1, component + 1))\n",
    "    # ax.set_ylabel('Normalized flux\\n(erg/cm$^2$/s/Hz)')"
   ]
  },
  {
   "cell_type": "code",
   "execution_count": 25,
   "metadata": {},
   "outputs": [
    {
     "data": {
      "application/vnd.jupyter.widget-view+json": {
       "model_id": "56cc355f0e504202bd1df299d91d65f7",
       "version_major": 2,
       "version_minor": 0
      },
      "text/plain": [
       "Canvas(toolbar=Toolbar(toolitems=[('Home', 'Reset original view', 'home', 'home'), ('Back', 'Back to previous …"
      ]
     },
     "metadata": {},
     "output_type": "display_data"
    }
   ],
   "source": [
    "# Version for talks\n",
    "fig, axes = plt.subplots(3, 1, figsize=(9, 7.5), sharex=True)\n",
    "\n",
    "for component, ax in enumerate(axes):\n",
    "    plot_steps(ax, component, colorbar_aspect=17)\n",
    "\n",
    "    if component != 2:\n",
    "        ax.set_xlabel(None)\n",
    "\n",
    "    ax.set_ylabel('Flux')\n",
    "\n",
    "a.savefig('component_steps_combined_talks.pdf')"
   ]
  },
  {
   "cell_type": "code",
   "execution_count": 26,
   "metadata": {},
   "outputs": [
    {
     "data": {
      "application/vnd.jupyter.widget-view+json": {
       "model_id": "cf8a86d4b1174572a36dcb0357a784dd",
       "version_major": 2,
       "version_minor": 0
      },
      "text/plain": [
       "Canvas(toolbar=Toolbar(toolitems=[('Home', 'Reset original view', 'home', 'home'), ('Back', 'Back to previous …"
      ]
     },
     "metadata": {},
     "output_type": "display_data"
    },
    {
     "data": {
      "application/vnd.jupyter.widget-view+json": {
       "model_id": "a5afea8357f44a44871fed9c3c60f307",
       "version_major": 2,
       "version_minor": 0
      },
      "text/plain": [
       "Canvas(toolbar=Toolbar(toolitems=[('Home', 'Reset original view', 'home', 'home'), ('Back', 'Back to previous …"
      ]
     },
     "metadata": {},
     "output_type": "display_data"
    },
    {
     "data": {
      "application/vnd.jupyter.widget-view+json": {
       "model_id": "ade0d1d02f8140daabc2be286b225f1e",
       "version_major": 2,
       "version_minor": 0
      },
      "text/plain": [
       "Canvas(toolbar=Toolbar(toolitems=[('Home', 'Reset original view', 'home', 'home'), ('Back', 'Back to previous …"
      ]
     },
     "metadata": {},
     "output_type": "display_data"
    }
   ],
   "source": [
    "# Single plots\n",
    "for component in range(a.settings['isomap_num_components']):\n",
    "    fig, ax = plt.subplots(figsize=a.settings['spectrum_plot_figsize'])\n",
    "    ax.set_title('Twins Embedding Component %d ($\\\\xi_{%d}$)' % (component + 1, component + 1))\n",
    "    plot_steps(ax, component)"
   ]
  },
  {
   "cell_type": "markdown",
   "metadata": {},
   "source": [
    "## Reconstruction uncertainty"
   ]
  },
  {
   "cell_type": "code",
   "execution_count": 27,
   "metadata": {},
   "outputs": [
    {
     "data": {
      "application/vnd.jupyter.widget-view+json": {
       "model_id": "07667a3a3ba1416aa10ff3a6c9470c56",
       "version_major": 2,
       "version_minor": 0
      },
      "text/plain": [
       "Canvas(toolbar=Toolbar(toolitems=[('Home', 'Reset original view', 'home', 'home'), ('Back', 'Back to previous …"
      ]
     },
     "metadata": {},
     "output_type": "display_data"
    }
   ],
   "source": [
    "# Note: the total variance isn't defined for Isomap. The variances of the transfomed components\n",
    "# do map onto the variance of real components though. We provide a very rough estimate of the\n",
    "# measurement variance for comparison purposes... not sure how much it can be trusted...\n",
    "\n",
    "num_show = 10\n",
    "\n",
    "# Do an initial embedding with as many components as possible to get the full variance.\n",
    "embedding = a.generate_embedding(num_components=50)\n",
    "variances = np.var(embedding[a.uncertainty_mask], axis=0)\n",
    "\n",
    "ref_var = np.sum(variances[:10])\n",
    "\n",
    "plot_ref = variances[0]\n",
    "\n",
    "plt.figure()\n",
    "plt.scatter(np.arange(num_show), variances[:num_show] / plot_ref, label='Contributed variance of each component')\n",
    "plt.ylim(0, None)\n",
    "plt.xlabel('Component number')\n",
    "plt.ylabel('Relative variance explained')\n",
    "plt.xticks(np.arange(num_show), np.arange(num_show) + 1)\n",
    "\n",
    "a.savefig('isomap_component_variance.pdf')"
   ]
  },
  {
   "cell_type": "markdown",
   "metadata": {},
   "source": [
    "## Twin reconstruction"
   ]
  },
  {
   "cell_type": "code",
   "execution_count": 28,
   "metadata": {},
   "outputs": [],
   "source": [
    "from IPython.display import display\n",
    "from scipy.spatial.distance import pdist\n",
    "from scipy.stats import percentileofscore\n",
    "import pandas as pd\n",
    "\n",
    "def plot_twin_distances(embedding, twins_percentile=10, figsize=None):\n",
    "    \"\"\"Plot a histogram of where twins show up in the transformed\n",
    "    embedding.\n",
    "    \"\"\"\n",
    "\n",
    "    mask = a.uncertainty_mask\n",
    "\n",
    "    spec_dists = pdist(a.fractional_differences[mask])\n",
    "    embedding_dists = pdist(embedding[mask])\n",
    "\n",
    "    splits = {\n",
    "        \"Best 10% of twinness\": (0, 10),\n",
    "        \"10-20%\": (10, 20),\n",
    "        \"20-50%\": (20, 50),\n",
    "        \"Worst 50% of twinness\": (50, 100),\n",
    "    }\n",
    "\n",
    "    # Set weight so that the histogram is 1 if we have every element in\n",
    "    # that bin.\n",
    "    weight = 100 / len(embedding_dists)\n",
    "\n",
    "    all_percentiles = []\n",
    "    all_weights = []\n",
    "\n",
    "    all_spec_cuts = []\n",
    "    all_embedding_cuts = []\n",
    "\n",
    "    for label, (min_percentile, max_percentile) in splits.items():\n",
    "        spec_cut = (spec_dists >= np.percentile(spec_dists, min_percentile)) & (\n",
    "            spec_dists < np.percentile(spec_dists, max_percentile)\n",
    "        )\n",
    "        embedding_cut = (embedding_dists >= np.percentile(embedding_dists, min_percentile)) & (\n",
    "            embedding_dists < np.percentile(embedding_dists, max_percentile)\n",
    "        )\n",
    "        percentiles = []\n",
    "        for dist in embedding_dists[spec_cut]:\n",
    "            percentiles.append(percentileofscore(embedding_dists, dist))\n",
    "        percentiles = np.array(percentiles)\n",
    "        weights = np.ones(len(percentiles)) * weight\n",
    "\n",
    "        all_percentiles.append(percentiles)\n",
    "        all_weights.append(weights)\n",
    "        all_spec_cuts.append(spec_cut)\n",
    "        all_embedding_cuts.append(embedding_cut)\n",
    "\n",
    "    plt.figure(figsize=figsize)\n",
    "    plt.hist(\n",
    "        all_percentiles,\n",
    "        100,\n",
    "        (0, 100),\n",
    "        weights=all_weights,\n",
    "        histtype=\"barstacked\",\n",
    "        label=splits.keys(),\n",
    "    )\n",
    "    plt.xlabel(\"Recovered twinness percentile in the embedded space\")\n",
    "    plt.ylabel(\"Fraction in bin\")\n",
    "    plt.legend()\n",
    "\n",
    "    plt.xlim(0, 100)\n",
    "    plt.ylim(0, 1)\n",
    "\n",
    "    for label, (min_percentile, max_percentile) in splits.items():\n",
    "        plt.axvline(max_percentile, c=\"k\", lw=2, ls=\"--\")\n",
    "\n",
    "    # Build leakage matrix.\n",
    "    leakage_matrix = np.zeros((len(splits), len(splits)))\n",
    "    for idx_1, label_1 in enumerate(splits.keys()):\n",
    "        for idx_2, label_2 in enumerate(splits.keys()):\n",
    "            spec_cut = all_spec_cuts[idx_1]\n",
    "            embedding_cut = all_embedding_cuts[idx_2]\n",
    "            leakage = np.sum(embedding_cut & spec_cut) / np.sum(spec_cut)\n",
    "            leakage_matrix[idx_1, idx_2] = leakage\n",
    "\n",
    "    # Print the leakage matrix using pandas\n",
    "    df = pd.DataFrame(\n",
    "        leakage_matrix,\n",
    "        index=[\"From %s\" % i for i in splits.keys()],\n",
    "        columns=[\"To %s\" % i for i in splits.keys()],\n",
    "    )\n",
    "    display(df)\n",
    "\n",
    "    return leakage_matrix"
   ]
  },
  {
   "cell_type": "code",
   "execution_count": 29,
   "metadata": {},
   "outputs": [
    {
     "data": {
      "application/vnd.jupyter.widget-view+json": {
       "model_id": "d3d5ab3e452143d6921d449adeab7b16",
       "version_major": 2,
       "version_minor": 0
      },
      "text/plain": [
       "Canvas(toolbar=Toolbar(toolitems=[('Home', 'Reset original view', 'home', 'home'), ('Back', 'Back to previous …"
      ]
     },
     "metadata": {},
     "output_type": "display_data"
    },
    {
     "data": {
      "text/html": [
       "<div>\n",
       "<style scoped>\n",
       "    .dataframe tbody tr th:only-of-type {\n",
       "        vertical-align: middle;\n",
       "    }\n",
       "\n",
       "    .dataframe tbody tr th {\n",
       "        vertical-align: top;\n",
       "    }\n",
       "\n",
       "    .dataframe thead th {\n",
       "        text-align: right;\n",
       "    }\n",
       "</style>\n",
       "<table border=\"1\" class=\"dataframe\">\n",
       "  <thead>\n",
       "    <tr style=\"text-align: right;\">\n",
       "      <th></th>\n",
       "      <th>To Best 10% of twinness</th>\n",
       "      <th>To 10-20%</th>\n",
       "      <th>To 20-50%</th>\n",
       "      <th>To Worst 50% of twinness</th>\n",
       "    </tr>\n",
       "  </thead>\n",
       "  <tbody>\n",
       "    <tr>\n",
       "      <th>From Best 10% of twinness</th>\n",
       "      <td>0.280914</td>\n",
       "      <td>0.276882</td>\n",
       "      <td>0.437500</td>\n",
       "      <td>0.004704</td>\n",
       "    </tr>\n",
       "    <tr>\n",
       "      <th>From 10-20%</th>\n",
       "      <td>0.173387</td>\n",
       "      <td>0.181452</td>\n",
       "      <td>0.547715</td>\n",
       "      <td>0.097446</td>\n",
       "    </tr>\n",
       "    <tr>\n",
       "      <th>From 20-50%</th>\n",
       "      <td>0.114945</td>\n",
       "      <td>0.109119</td>\n",
       "      <td>0.410710</td>\n",
       "      <td>0.365225</td>\n",
       "    </tr>\n",
       "    <tr>\n",
       "      <th>From Worst 50% of twinness</th>\n",
       "      <td>0.040199</td>\n",
       "      <td>0.042888</td>\n",
       "      <td>0.156494</td>\n",
       "      <td>0.760419</td>\n",
       "    </tr>\n",
       "  </tbody>\n",
       "</table>\n",
       "</div>"
      ],
      "text/plain": [
       "                            To Best 10% of twinness  To 10-20%  To 20-50%  \\\n",
       "From Best 10% of twinness                  0.280914   0.276882   0.437500   \n",
       "From 10-20%                                0.173387   0.181452   0.547715   \n",
       "From 20-50%                                0.114945   0.109119   0.410710   \n",
       "From Worst 50% of twinness                 0.040199   0.042888   0.156494   \n",
       "\n",
       "                            To Worst 50% of twinness  \n",
       "From Best 10% of twinness                   0.004704  \n",
       "From 10-20%                                 0.097446  \n",
       "From 20-50%                                 0.365225  \n",
       "From Worst 50% of twinness                  0.760419  "
      ]
     },
     "metadata": {},
     "output_type": "display_data"
    },
    {
     "data": {
      "application/vnd.jupyter.widget-view+json": {
       "model_id": "df95600276674f5a94e6a3fe6b88be6d",
       "version_major": 2,
       "version_minor": 0
      },
      "text/plain": [
       "Canvas(toolbar=Toolbar(toolitems=[('Home', 'Reset original view', 'home', 'home'), ('Back', 'Back to previous …"
      ]
     },
     "metadata": {},
     "output_type": "display_data"
    },
    {
     "data": {
      "text/html": [
       "<div>\n",
       "<style scoped>\n",
       "    .dataframe tbody tr th:only-of-type {\n",
       "        vertical-align: middle;\n",
       "    }\n",
       "\n",
       "    .dataframe tbody tr th {\n",
       "        vertical-align: top;\n",
       "    }\n",
       "\n",
       "    .dataframe thead th {\n",
       "        text-align: right;\n",
       "    }\n",
       "</style>\n",
       "<table border=\"1\" class=\"dataframe\">\n",
       "  <thead>\n",
       "    <tr style=\"text-align: right;\">\n",
       "      <th></th>\n",
       "      <th>To Best 10% of twinness</th>\n",
       "      <th>To 10-20%</th>\n",
       "      <th>To 20-50%</th>\n",
       "      <th>To Worst 50% of twinness</th>\n",
       "    </tr>\n",
       "  </thead>\n",
       "  <tbody>\n",
       "    <tr>\n",
       "      <th>From Best 10% of twinness</th>\n",
       "      <td>0.579973</td>\n",
       "      <td>0.313172</td>\n",
       "      <td>0.106855</td>\n",
       "      <td>0.000000</td>\n",
       "    </tr>\n",
       "    <tr>\n",
       "      <th>From 10-20%</th>\n",
       "      <td>0.190860</td>\n",
       "      <td>0.305780</td>\n",
       "      <td>0.502688</td>\n",
       "      <td>0.000672</td>\n",
       "    </tr>\n",
       "    <tr>\n",
       "      <th>From 20-50%</th>\n",
       "      <td>0.057585</td>\n",
       "      <td>0.105086</td>\n",
       "      <td>0.600045</td>\n",
       "      <td>0.237284</td>\n",
       "    </tr>\n",
       "    <tr>\n",
       "      <th>From Worst 50% of twinness</th>\n",
       "      <td>0.011293</td>\n",
       "      <td>0.013176</td>\n",
       "      <td>0.118042</td>\n",
       "      <td>0.857489</td>\n",
       "    </tr>\n",
       "  </tbody>\n",
       "</table>\n",
       "</div>"
      ],
      "text/plain": [
       "                            To Best 10% of twinness  To 10-20%  To 20-50%  \\\n",
       "From Best 10% of twinness                  0.579973   0.313172   0.106855   \n",
       "From 10-20%                                0.190860   0.305780   0.502688   \n",
       "From 20-50%                                0.057585   0.105086   0.600045   \n",
       "From Worst 50% of twinness                 0.011293   0.013176   0.118042   \n",
       "\n",
       "                            To Worst 50% of twinness  \n",
       "From Best 10% of twinness                   0.000000  \n",
       "From 10-20%                                 0.000672  \n",
       "From 20-50%                                 0.237284  \n",
       "From Worst 50% of twinness                  0.857489  "
      ]
     },
     "metadata": {},
     "output_type": "display_data"
    },
    {
     "data": {
      "application/vnd.jupyter.widget-view+json": {
       "model_id": "5ca1213ba15148d599fb549579c2a420",
       "version_major": 2,
       "version_minor": 0
      },
      "text/plain": [
       "Canvas(toolbar=Toolbar(toolitems=[('Home', 'Reset original view', 'home', 'home'), ('Back', 'Back to previous …"
      ]
     },
     "metadata": {},
     "output_type": "display_data"
    },
    {
     "data": {
      "text/html": [
       "<div>\n",
       "<style scoped>\n",
       "    .dataframe tbody tr th:only-of-type {\n",
       "        vertical-align: middle;\n",
       "    }\n",
       "\n",
       "    .dataframe tbody tr th {\n",
       "        vertical-align: top;\n",
       "    }\n",
       "\n",
       "    .dataframe thead th {\n",
       "        text-align: right;\n",
       "    }\n",
       "</style>\n",
       "<table border=\"1\" class=\"dataframe\">\n",
       "  <thead>\n",
       "    <tr style=\"text-align: right;\">\n",
       "      <th></th>\n",
       "      <th>To Best 10% of twinness</th>\n",
       "      <th>To 10-20%</th>\n",
       "      <th>To 20-50%</th>\n",
       "      <th>To Worst 50% of twinness</th>\n",
       "    </tr>\n",
       "  </thead>\n",
       "  <tbody>\n",
       "    <tr>\n",
       "      <th>From Best 10% of twinness</th>\n",
       "      <td>0.736559</td>\n",
       "      <td>0.235887</td>\n",
       "      <td>0.027554</td>\n",
       "      <td>0.000000</td>\n",
       "    </tr>\n",
       "    <tr>\n",
       "      <th>From 10-20%</th>\n",
       "      <td>0.196909</td>\n",
       "      <td>0.435484</td>\n",
       "      <td>0.367608</td>\n",
       "      <td>0.000000</td>\n",
       "    </tr>\n",
       "    <tr>\n",
       "      <th>From 20-50%</th>\n",
       "      <td>0.020614</td>\n",
       "      <td>0.105086</td>\n",
       "      <td>0.712973</td>\n",
       "      <td>0.161326</td>\n",
       "    </tr>\n",
       "    <tr>\n",
       "      <th>From Worst 50% of twinness</th>\n",
       "      <td>0.000941</td>\n",
       "      <td>0.002689</td>\n",
       "      <td>0.093170</td>\n",
       "      <td>0.903200</td>\n",
       "    </tr>\n",
       "  </tbody>\n",
       "</table>\n",
       "</div>"
      ],
      "text/plain": [
       "                            To Best 10% of twinness  To 10-20%  To 20-50%  \\\n",
       "From Best 10% of twinness                  0.736559   0.235887   0.027554   \n",
       "From 10-20%                                0.196909   0.435484   0.367608   \n",
       "From 20-50%                                0.020614   0.105086   0.712973   \n",
       "From Worst 50% of twinness                 0.000941   0.002689   0.093170   \n",
       "\n",
       "                            To Worst 50% of twinness  \n",
       "From Best 10% of twinness                   0.000000  \n",
       "From 10-20%                                 0.000000  \n",
       "From 20-50%                                 0.161326  \n",
       "From Worst 50% of twinness                  0.903200  "
      ]
     },
     "metadata": {},
     "output_type": "display_data"
    },
    {
     "data": {
      "application/vnd.jupyter.widget-view+json": {
       "model_id": "d510fbe670e74115b2b228d6d5732127",
       "version_major": 2,
       "version_minor": 0
      },
      "text/plain": [
       "Canvas(toolbar=Toolbar(toolitems=[('Home', 'Reset original view', 'home', 'home'), ('Back', 'Back to previous …"
      ]
     },
     "metadata": {},
     "output_type": "display_data"
    },
    {
     "data": {
      "text/html": [
       "<div>\n",
       "<style scoped>\n",
       "    .dataframe tbody tr th:only-of-type {\n",
       "        vertical-align: middle;\n",
       "    }\n",
       "\n",
       "    .dataframe tbody tr th {\n",
       "        vertical-align: top;\n",
       "    }\n",
       "\n",
       "    .dataframe thead th {\n",
       "        text-align: right;\n",
       "    }\n",
       "</style>\n",
       "<table border=\"1\" class=\"dataframe\">\n",
       "  <thead>\n",
       "    <tr style=\"text-align: right;\">\n",
       "      <th></th>\n",
       "      <th>To Best 10% of twinness</th>\n",
       "      <th>To 10-20%</th>\n",
       "      <th>To 20-50%</th>\n",
       "      <th>To Worst 50% of twinness</th>\n",
       "    </tr>\n",
       "  </thead>\n",
       "  <tbody>\n",
       "    <tr>\n",
       "      <th>From Best 10% of twinness</th>\n",
       "      <td>0.747984</td>\n",
       "      <td>0.222446</td>\n",
       "      <td>0.029570</td>\n",
       "      <td>0.000000</td>\n",
       "    </tr>\n",
       "    <tr>\n",
       "      <th>From 10-20%</th>\n",
       "      <td>0.188844</td>\n",
       "      <td>0.459677</td>\n",
       "      <td>0.351478</td>\n",
       "      <td>0.000000</td>\n",
       "    </tr>\n",
       "    <tr>\n",
       "      <th>From 20-50%</th>\n",
       "      <td>0.019942</td>\n",
       "      <td>0.103294</td>\n",
       "      <td>0.716782</td>\n",
       "      <td>0.159982</td>\n",
       "    </tr>\n",
       "    <tr>\n",
       "      <th>From Worst 50% of twinness</th>\n",
       "      <td>0.000672</td>\n",
       "      <td>0.001613</td>\n",
       "      <td>0.093708</td>\n",
       "      <td>0.904006</td>\n",
       "    </tr>\n",
       "  </tbody>\n",
       "</table>\n",
       "</div>"
      ],
      "text/plain": [
       "                            To Best 10% of twinness  To 10-20%  To 20-50%  \\\n",
       "From Best 10% of twinness                  0.747984   0.222446   0.029570   \n",
       "From 10-20%                                0.188844   0.459677   0.351478   \n",
       "From 20-50%                                0.019942   0.103294   0.716782   \n",
       "From Worst 50% of twinness                 0.000672   0.001613   0.093708   \n",
       "\n",
       "                            To Worst 50% of twinness  \n",
       "From Best 10% of twinness                   0.000000  \n",
       "From 10-20%                                 0.000000  \n",
       "From 20-50%                                 0.159982  \n",
       "From Worst 50% of twinness                  0.904006  "
      ]
     },
     "metadata": {},
     "output_type": "display_data"
    },
    {
     "data": {
      "application/vnd.jupyter.widget-view+json": {
       "model_id": "556042fd32c44fe496fa0a626430cae5",
       "version_major": 2,
       "version_minor": 0
      },
      "text/plain": [
       "Canvas(toolbar=Toolbar(toolitems=[('Home', 'Reset original view', 'home', 'home'), ('Back', 'Back to previous …"
      ]
     },
     "metadata": {},
     "output_type": "display_data"
    },
    {
     "data": {
      "text/html": [
       "<div>\n",
       "<style scoped>\n",
       "    .dataframe tbody tr th:only-of-type {\n",
       "        vertical-align: middle;\n",
       "    }\n",
       "\n",
       "    .dataframe tbody tr th {\n",
       "        vertical-align: top;\n",
       "    }\n",
       "\n",
       "    .dataframe thead th {\n",
       "        text-align: right;\n",
       "    }\n",
       "</style>\n",
       "<table border=\"1\" class=\"dataframe\">\n",
       "  <thead>\n",
       "    <tr style=\"text-align: right;\">\n",
       "      <th></th>\n",
       "      <th>To Best 10% of twinness</th>\n",
       "      <th>To 10-20%</th>\n",
       "      <th>To 20-50%</th>\n",
       "      <th>To Worst 50% of twinness</th>\n",
       "    </tr>\n",
       "  </thead>\n",
       "  <tbody>\n",
       "    <tr>\n",
       "      <th>From Best 10% of twinness</th>\n",
       "      <td>0.760753</td>\n",
       "      <td>0.208333</td>\n",
       "      <td>0.030914</td>\n",
       "      <td>0.000000</td>\n",
       "    </tr>\n",
       "    <tr>\n",
       "      <th>From 10-20%</th>\n",
       "      <td>0.190188</td>\n",
       "      <td>0.461694</td>\n",
       "      <td>0.348118</td>\n",
       "      <td>0.000000</td>\n",
       "    </tr>\n",
       "    <tr>\n",
       "      <th>From 20-50%</th>\n",
       "      <td>0.015460</td>\n",
       "      <td>0.107327</td>\n",
       "      <td>0.722384</td>\n",
       "      <td>0.154829</td>\n",
       "    </tr>\n",
       "    <tr>\n",
       "      <th>From Worst 50% of twinness</th>\n",
       "      <td>0.000538</td>\n",
       "      <td>0.001613</td>\n",
       "      <td>0.090750</td>\n",
       "      <td>0.906964</td>\n",
       "    </tr>\n",
       "  </tbody>\n",
       "</table>\n",
       "</div>"
      ],
      "text/plain": [
       "                            To Best 10% of twinness  To 10-20%  To 20-50%  \\\n",
       "From Best 10% of twinness                  0.760753   0.208333   0.030914   \n",
       "From 10-20%                                0.190188   0.461694   0.348118   \n",
       "From 20-50%                                0.015460   0.107327   0.722384   \n",
       "From Worst 50% of twinness                 0.000538   0.001613   0.090750   \n",
       "\n",
       "                            To Worst 50% of twinness  \n",
       "From Best 10% of twinness                   0.000000  \n",
       "From 10-20%                                 0.000000  \n",
       "From 20-50%                                 0.154829  \n",
       "From Worst 50% of twinness                  0.906964  "
      ]
     },
     "metadata": {},
     "output_type": "display_data"
    },
    {
     "data": {
      "application/vnd.jupyter.widget-view+json": {
       "model_id": "b138d2165cb242ecbb1eafeb53860deb",
       "version_major": 2,
       "version_minor": 0
      },
      "text/plain": [
       "Canvas(toolbar=Toolbar(toolitems=[('Home', 'Reset original view', 'home', 'home'), ('Back', 'Back to previous …"
      ]
     },
     "metadata": {},
     "output_type": "display_data"
    }
   ],
   "source": [
    "# Plot where twins and non-twins end up for different number of components.\n",
    "# We also make a summary plot.\n",
    "confused_fraction = []\n",
    "\n",
    "plot_components = np.arange(1, 6)\n",
    "for num_components in plot_components:\n",
    "    embedding = a.generate_embedding(num_components=num_components)\n",
    "    leakage_matrix = plot_twin_distances(embedding)\n",
    "    if num_components == 1:\n",
    "        title = '1 Component + Color'\n",
    "    else:\n",
    "        title = '%d Components + Color' % num_components\n",
    "    plt.title(title)\n",
    "    plt.xlabel('Recovered twinness percentile in the embedded space')\n",
    "    a.savefig('twins_recovery_%d_components.pdf' % num_components)\n",
    "\n",
    "    confused_fraction.append(leakage_matrix[3, 0] + leakage_matrix[3, 1])\n",
    "\n",
    "plt.figure()\n",
    "plt.scatter(np.arange(len(confused_fraction)) + 1, confused_fraction)\n",
    "plt.xticks(plot_components, plot_components)\n",
    "plt.ylim(0, 0.1)\n",
    "plt.xlabel('Number of components (in addition to color)')\n",
    "plt.ylabel('Fraction of non-twins confused as twins')\n",
    "a.savefig('twins_confusion.pdf')"
   ]
  },
  {
   "cell_type": "markdown",
   "metadata": {},
   "source": [
    "## Comparision to Branch classifications"
   ]
  },
  {
   "cell_type": "code",
   "execution_count": 30,
   "metadata": {},
   "outputs": [
    {
     "data": {
      "application/vnd.jupyter.widget-view+json": {
       "model_id": "8090dc9b15564f6483846813ed651677",
       "version_major": 2,
       "version_minor": 0
      },
      "text/plain": [
       "Canvas(toolbar=Toolbar(toolitems=[('Home', 'Reset original view', 'home', 'home'), ('Back', 'Back to previous …"
      ]
     },
     "metadata": {},
     "output_type": "display_data"
    },
    {
     "data": {
      "application/vnd.jupyter.widget-view+json": {
       "model_id": "7f0c14fd030840bb8ae2f699bf76e96d",
       "version_major": 2,
       "version_minor": 0
      },
      "text/plain": [
       "Canvas(toolbar=Toolbar(toolitems=[('Home', 'Reset original view', 'home', 'home'), ('Back', 'Back to previous …"
      ]
     },
     "metadata": {},
     "output_type": "display_data"
    }
   ],
   "source": [
    "branch_colors = {\n",
    "    # 'Broad Line': 'b',\n",
    "    # 'Cool': 'r',\n",
    "    # 'Core Normal': 'black',\n",
    "    # 'Shallow Silicon': 'green',\n",
    "    \n",
    "    # 'Broad Line': 'C2',\n",
    "    # 'Cool': 'C0',\n",
    "    # 'Shallow Silicon': 'C3',\n",
    "    # 'Core Normal': 'black',\n",
    "    \n",
    "    'Core Normal': 'lightgray',\n",
    "    'Broad Line': 'C2',\n",
    "    'Cool': 'C0',\n",
    "    'Shallow Silicon': 'C1',\n",
    "}\n",
    "\n",
    "branch_classification = a.indicators['branch_classification']\n",
    "mask = ~branch_classification.mask\n",
    "\n",
    "from matplotlib.colors import ListedColormap\n",
    "cmap = ListedColormap(branch_colors.values())\n",
    "color_id_map = {j:i for i, j in enumerate(branch_colors)}\n",
    "colors = np.array([color_id_map[i] for i in branch_classification[mask]])\n",
    "\n",
    "fig, ax = plt.subplots()\n",
    "scatter = ax.scatter(\n",
    "    a.indicators['spectrum_EWSiII6355'][mask],\n",
    "    a.indicators['spectrum_EWSiII5972'][mask],\n",
    "    c=colors,\n",
    "    cmap=cmap,\n",
    "    s=a.settings['scatter_plot_marker_size'],\n",
    "    edgecolors='gray'\n",
    ")\n",
    "ax.set_xlabel('SiII 6355 $\\AA$ Equivalent Width')\n",
    "ax.set_ylabel('SiII 5972 $\\AA$ Equivalent Width')\n",
    "\n",
    "ax.legend(handles=scatter.legend_elements()[0], labels=branch_colors.keys())\n",
    "\n",
    "a.savefig('branch_classification.pdf', fig)\n",
    "\n",
    "a.scatter_combined(branch_classification, mask, discrete_color_map=branch_colors, s=50, edgecolors='gray')\n",
    "a.savefig('branch_labels.pdf')"
   ]
  },
  {
   "cell_type": "markdown",
   "metadata": {},
   "source": [
    "## Variation of Core Normal SNe Ia"
   ]
  },
  {
   "cell_type": "code",
   "execution_count": 31,
   "metadata": {},
   "outputs": [
    {
     "data": {
      "application/vnd.jupyter.widget-view+json": {
       "model_id": "ae7f76919b714e2c89ba6d5c93a8b329",
       "version_major": 2,
       "version_minor": 0
      },
      "text/plain": [
       "Canvas(toolbar=Toolbar(toolitems=[('Home', 'Reset original view', 'home', 'home'), ('Back', 'Back to previous …"
      ]
     },
     "metadata": {},
     "output_type": "display_data"
    }
   ],
   "source": [
    "core_normal_cut = a.indicators['branch_classification'] == 'Core Normal'\n",
    "\n",
    "component = 0\n",
    "\n",
    "cut_flux = a.scale_flux[core_normal_cut]\n",
    "cut_coord = a.embedding[core_normal_cut][:, component]\n",
    "\n",
    "sort_flux = cut_flux[np.argsort(cut_coord)]\n",
    "sort_coord = cut_coord[np.argsort(cut_coord)]\n",
    "\n",
    "num_bins = 10\n",
    "\n",
    "cmap = a.settings['colormap']\n",
    "sm = plt.cm.ScalarMappable(cmap=cmap, norm=plt.Normalize(vmin=np.percentile(cut_coord, 100 / num_bins / 2), vmax=np.percentile(cut_coord, 100 * (1 - 1. / num_bins / 2))))\n",
    "sm._A = []\n",
    "\n",
    "def plot_spec(bin_idx, ax):\n",
    "    min_idx = int(len(sort_coord) / num_bins * bin_idx)\n",
    "    max_idx = int(len(sort_coord) / num_bins * (bin_idx + 1))\n",
    "    bin_flux = sort_flux[min_idx:max_idx]\n",
    "    \n",
    "    f = np.median(bin_flux, axis=0)\n",
    "    \n",
    "    mean_val = np.mean(sort_coord[min_idx:max_idx])\n",
    "    \n",
    "    a.plot_flux(ax, f, c=sm.to_rgba(mean_val), zorder=np.abs(mean_val))\n",
    "    # plt.plot(a.wave, f * spectrum_plot_scale, c=sm.to_rgba(mean_val), zorder=np.abs(mean_val))\n",
    "    \n",
    "fig, ax = plt.subplots(figsize=a.settings['spectrum_plot_figsize'])\n",
    "for i in range(num_bins):\n",
    "    plot_spec(i, ax)\n",
    "\n",
    "fig.colorbar(sm, ax=ax, orientation='vertical', label='$\\\\xi_%d$' % (component + 1), pad=0, aspect=50)\n",
    "\n",
    "a.savefig('core_normal_comparison.pdf', fig)"
   ]
  },
  {
   "cell_type": "markdown",
   "metadata": {},
   "source": [
    "## Peculiar SNe Ia"
   ]
  },
  {
   "cell_type": "code",
   "execution_count": 32,
   "metadata": {},
   "outputs": [
    {
     "data": {
      "application/vnd.jupyter.widget-view+json": {
       "model_id": "c411b26ba65f4430881c0d9157fcb614",
       "version_major": 2,
       "version_minor": 0
      },
      "text/plain": [
       "Canvas(toolbar=Toolbar(toolitems=[('Home', 'Reset original view', 'home', 'home'), ('Back', 'Back to previous …"
      ]
     },
     "metadata": {},
     "output_type": "display_data"
    }
   ],
   "source": [
    "peculiar_colors = {\n",
    "    'Normal': 'lightgray',\n",
    "    '91T-like': 'C1',\n",
    "    '91bg-like': 'C0',\n",
    "    '02cx-like': 'C2',\n",
    "}\n",
    "\n",
    "a.scatter_combined(a.indicators['peculiar_type'], a.uncertainty_mask, discrete_color_map=peculiar_colors)\n",
    "a.savefig('peculiar_locations.pdf')"
   ]
  },
  {
   "cell_type": "code",
   "execution_count": 33,
   "metadata": {},
   "outputs": [
    {
     "name": "stdout",
     "output_type": "stream",
     "text": [
      "\\newcommand{\\numpeculiarbg}{3}\n",
      "\\newcommand{\\numpeculiart}{7}\n",
      "\\newcommand{\\numpeculiarcx}{2}\n"
     ]
    }
   ],
   "source": [
    "# Count how many of each type, and write it out to a latex table\n",
    "with a.latex_open('peculiar_counts.tex') as f:\n",
    "    utils.latex_command(f, 'numpeculiarbg', '%d', np.sum(a.uncertainty_mask & (a.indicators['peculiar_type'] == '91bg-like')))\n",
    "    utils.latex_command(f, 'numpeculiart', '%d', np.sum(a.uncertainty_mask & (a.indicators['peculiar_type'] == '91T-like')))\n",
    "    utils.latex_command(f, 'numpeculiarcx', '%d', np.sum(a.uncertainty_mask & (a.indicators['peculiar_type'] == '02cx-like')))"
   ]
  },
  {
   "cell_type": "markdown",
   "metadata": {},
   "source": [
    "## Sequence from 91T to 91bg"
   ]
  },
  {
   "cell_type": "code",
   "execution_count": 34,
   "metadata": {},
   "outputs": [],
   "source": [
    "from scipy.spatial.distance import pdist, squareform\n",
    "from scipy.stats import percentileofscore\n",
    "from matplotlib import colors"
   ]
  },
  {
   "cell_type": "code",
   "execution_count": 35,
   "metadata": {},
   "outputs": [],
   "source": [
    "dist_matrix = squareform(pdist(a.fractional_differences))\n",
    "ref_dists = pdist(a.fractional_differences[a.uncertainty_mask])\n",
    "\n",
    "def find_nearest(coords, mask=a.uncertainty_mask):\n",
    "    dists = np.sum((a.embedding - np.asarray(coords))**2, axis=1)\n",
    "    dists[~mask] = np.nan\n",
    "    loc = np.nanargmin(dists)\n",
    "    # print(loc, a.targets[loc], a.embedding[loc], a.indicators['peculiar_type'][loc])\n",
    "    return loc\n",
    "    \n",
    "def find_sequence(start_coords, end_coords, mask=a.uncertainty_mask, num_steps=10):\n",
    "    start_coords = np.asarray(start_coords)\n",
    "    end_coords = np.asarray(end_coords)\n",
    "    \n",
    "    fig, ax = plt.subplots(figsize=a.settings['spectrum_plot_figsize'])\n",
    "\n",
    "    # cmap = a.settings['colormap']\n",
    "    # cmap = plt.cm.plasma\n",
    "    # sm = plt.cm.ScalarMappable(cmap=cmap, norm=plt.Normalize(vmin=0, vmax=1))\n",
    "    # sm._A = []\n",
    "    \n",
    "    # Make a truncated colormap\n",
    "    cmap = plt.cm.viridis\n",
    "    # cmap = plt.cm.plasma\n",
    "    cmap = colors.LinearSegmentedColormap.from_list('cut_cmap', cmap(np.linspace(0., 0.8, 100)))\n",
    "    # cmap = a.settings['colormap']\n",
    "    # cmap = plt.cm.plasma\n",
    "    # cmap = plt.cm.jet\n",
    "\n",
    "    sm = plt.cm.ScalarMappable(cmap=cmap, norm=plt.Normalize(vmin=0., vmax=1.))\n",
    "    sm._A = []\n",
    "    \n",
    "    locs = []\n",
    "    \n",
    "    for frac in np.linspace(0, 1, num_steps):\n",
    "        coords = start_coords + frac * (end_coords - start_coords)\n",
    "        loc = find_nearest(coords, mask)\n",
    "        \n",
    "        if len(locs) == 0 or loc != locs[-1]:\n",
    "            if frac == 0 or frac == 1:\n",
    "                ls = '--'\n",
    "            else:\n",
    "                ls = '-'\n",
    "            a.plot_flux(ax, a.scale_flux[loc], c=sm.to_rgba(frac), label=a.targets[loc].name, zorder=np.abs(frac - 0.5), ls=ls)\n",
    "            print_str = f'{loc:3d} {a.targets[loc].name:20s} {a.embedding[loc, 0]:5.2f} {a.embedding[loc, 1]:5.2f} {a.embedding[loc, 2]:5.2f}   {a.indicators[\"peculiar_type\"][loc]:20s}'\n",
    "            if len(locs) > 0:\n",
    "                print_str += f' {percentileofscore(ref_dists, dist_matrix[loc, locs[-1]]):.2f}'\n",
    "            print(print_str)\n",
    "            locs.append(loc)\n",
    "        \n",
    "    ax.legend(ncol=3)\n",
    "    ax.set_ylim(0, 0.75)\n",
    "    \n",
    "    return locs"
   ]
  },
  {
   "cell_type": "code",
   "execution_count": 36,
   "metadata": {},
   "outputs": [
    {
     "data": {
      "application/vnd.jupyter.widget-view+json": {
       "model_id": "cedb19ab8f80440988896ef10bd63758",
       "version_major": 2,
       "version_minor": 0
      },
      "text/plain": [
       "Canvas(toolbar=Toolbar(toolitems=[('Home', 'Reset original view', 'home', 'home'), ('Back', 'Back to previous …"
      ]
     },
     "metadata": {},
     "output_type": "display_data"
    },
    {
     "name": "stdout",
     "output_type": "stream",
     "text": [
      " 40 PTF11kjn             -0.32 -5.24  1.66   91bg-like           \n",
      "193 SNNGC6343             0.54 -3.77  1.16   Normal               29.45\n",
      "200 SNhunt281             0.76 -3.36  0.52   Normal               5.04\n",
      "171 SNF20080810-001       1.88 -1.74  0.17   Normal               15.43\n",
      "181 SNF20080918-002       2.08 -1.28  0.02   Normal               1.94\n",
      "155 SNF20080516-022       2.41 -0.72  0.04   Normal               8.17\n",
      "173 SNF20080822-005       2.96  0.53 -0.39   Normal               17.21\n",
      "156 SNF20080522-000       4.27  0.88 -0.62   91T-like             5.86\n"
     ]
    },
    {
     "data": {
      "application/vnd.jupyter.widget-view+json": {
       "model_id": "6424b31cbc2f460a8d84cbaa65e738fe",
       "version_major": 2,
       "version_minor": 0
      },
      "text/plain": [
       "Canvas(toolbar=Toolbar(toolitems=[('Home', 'Reset original view', 'home', 'home'), ('Back', 'Back to previous …"
      ]
     },
     "metadata": {},
     "output_type": "display_data"
    },
    {
     "name": "stdout",
     "output_type": "stream",
     "text": [
      "\\newcommand{\\sequencebgname}{PTF11kjn}\n",
      "\\newcommand{\\sequencebgcoord}{($-0.32, -5.24, 1.66$)}\n",
      "\\newcommand{\\sequencebgtwin}{SNNGC6343}\n",
      "\\newcommand{\\sequencebgtwinpercentile}{29}\n",
      "\\newcommand{\\sequencebgtcount}{8}\n",
      "\\newcommand{\\sequencetname}{SNF20080522-000}\n",
      "\\newcommand{\\sequencetcoord}{($4.27, 0.88, -0.62$)}\n",
      "\\newcommand{\\sequencettwin}{SNF20080522-000}\n",
      "\\newcommand{\\sequencettwinpercentile}{5}\n"
     ]
    }
   ],
   "source": [
    "locs = find_sequence([-0.3, -5.3, 2], [4., 2., -0.5], a.uncertainty_mask, 10)\n",
    "\n",
    "a.savefig('sequence_91bg_91t.pdf')\n",
    "\n",
    "label_colors = {\n",
    "    False: 'lightgray',\n",
    "    True: 'C0',\n",
    "}\n",
    "used_mask = np.array([i in locs for i in range(len(a.targets))])\n",
    "a.scatter_combined(used_mask, a.uncertainty_mask, discrete_color_map=label_colors, s=40)\n",
    "\n",
    "with a.latex_open('sequence_peculiars.tex') as f:\n",
    "    utils.latex_command(f, 'sequencebgname', '%s', a.targets[locs[0]].name)\n",
    "    utils.latex_command(f, 'sequencebgcoord', '($%.2f, %.2f, %.2f$)', tuple(a.embedding[locs[0]]))\n",
    "    utils.latex_command(f, 'sequencebgtwin', '%s', a.targets[locs[1]].name)\n",
    "    utils.latex_command(f, 'sequencebgtwinpercentile', '%d', percentileofscore(ref_dists, dist_matrix[locs[0], locs[1]]))\n",
    "    utils.latex_command(f, 'sequencebgtcount', '%d', len(locs))\n",
    "    utils.latex_command(f, 'sequencetname', '%s', a.targets[locs[-1]].name)\n",
    "    utils.latex_command(f, 'sequencetcoord', '($%.2f, %.2f, %.2f$)', tuple(a.embedding[locs[-1]]))\n",
    "    utils.latex_command(f, 'sequencettwin', '%s', a.targets[locs[-1]].name)\n",
    "    utils.latex_command(f, 'sequencettwinpercentile', '%d', percentileofscore(ref_dists, dist_matrix[locs[-1], locs[-2]]))"
   ]
  },
  {
   "cell_type": "code",
   "execution_count": 37,
   "metadata": {},
   "outputs": [
    {
     "data": {
      "application/vnd.jupyter.widget-view+json": {
       "model_id": "df3a3ce1185b41a98207a196513d4e95",
       "version_major": 2,
       "version_minor": 0
      },
      "text/plain": [
       "Canvas(toolbar=Toolbar(toolitems=[('Home', 'Reset original view', 'home', 'home'), ('Back', 'Back to previous …"
      ]
     },
     "metadata": {},
     "output_type": "display_data"
    },
    {
     "name": "stdout",
     "output_type": "stream",
     "text": [
      " 62 SN2005cc              4.99  3.98  2.61   02cx-like           \n",
      " 12 LSQ13avx              2.90  3.62  1.92   Normal               58.89\n",
      "101 SNF20060512-001       1.81  2.58  2.18   Normal               17.46\n",
      " 20 PTF10hmv              0.91  1.50  1.47   Normal               8.36\n",
      "179 SNF20080914-001       0.05  0.84  1.88   Normal               5.34\n",
      "176 SNF20080908-000      -1.47  0.58  1.38   Normal               3.70\n",
      " 36 PTF11bnx             -2.13  0.11  1.52   Normal               4.29\n",
      " 55 PTF13anh             -3.04 -0.52  1.04   Normal               7.92\n",
      " 38 PTF11cao             -3.67 -0.41  0.99   Normal               1.83\n"
     ]
    },
    {
     "data": {
      "application/vnd.jupyter.widget-view+json": {
       "model_id": "e8b37bdbd417427d82ffcd027b717681",
       "version_major": 2,
       "version_minor": 0
      },
      "text/plain": [
       "Canvas(toolbar=Toolbar(toolitems=[('Home', 'Reset original view', 'home', 'home'), ('Back', 'Back to previous …"
      ]
     },
     "metadata": {},
     "output_type": "display_data"
    },
    {
     "name": "stdout",
     "output_type": "stream",
     "text": [
      "\\newcommand{\\sequencecxname}{SN2005cc}\n",
      "\\newcommand{\\sequencecxcoord}{($4.99, 3.98, 2.61$)}\n",
      "\\newcommand{\\sequencecxtwin}{LSQ13avx}\n",
      "\\newcommand{\\sequencecxtwinpercentile}{58}\n",
      "\\newcommand{\\sequencecxend}{PTF11cao}\n"
     ]
    }
   ],
   "source": [
    "locs = find_sequence([5., 4., 2.], [-4., -1., 1.], 10)\n",
    "\n",
    "a.savefig('sequence_02cx.pdf')\n",
    "\n",
    "label_colors = {\n",
    "    False: 'lightgray',\n",
    "    True: 'C0',\n",
    "}\n",
    "used_mask = np.array([i in locs for i in range(len(a.targets))])\n",
    "a.scatter_combined(used_mask, a.uncertainty_mask, discrete_color_map=label_colors, s=40)\n",
    "\n",
    "with a.latex_open('sequence_peculiars_cx.tex') as f:\n",
    "    utils.latex_command(f, 'sequencecxname', '%s', a.targets[locs[0]].name)\n",
    "    utils.latex_command(f, 'sequencecxcoord', '($%.2f, %.2f, %.2f$)', tuple(a.embedding[locs[0]]))\n",
    "    utils.latex_command(f, 'sequencecxtwin', '%s', a.targets[locs[1]].name)\n",
    "    utils.latex_command(f, 'sequencecxtwinpercentile', '%d', percentileofscore(ref_dists, dist_matrix[locs[0], locs[1]]))\n",
    "    utils.latex_command(f, 'sequencecxend', '%s', a.targets[locs[-1]].name)"
   ]
  },
  {
   "cell_type": "markdown",
   "metadata": {},
   "source": [
    "## Color comparison"
   ]
  },
  {
   "cell_type": "code",
   "execution_count": 38,
   "metadata": {},
   "outputs": [
    {
     "data": {
      "application/vnd.jupyter.widget-view+json": {
       "model_id": "a15ab1ddb73a444797d16b82c29c43a2",
       "version_major": 2,
       "version_minor": 0
      },
      "text/plain": [
       "Canvas(toolbar=Toolbar(toolitems=[('Home', 'Reset original view', 'home', 'home'), ('Back', 'Back to previous …"
      ]
     },
     "metadata": {},
     "output_type": "display_data"
    },
    {
     "data": {
      "text/plain": [
       "(<matplotlib.axes._subplots.AxesSubplot at 0x7f54a9a28f10>,\n",
       " <matplotlib.axes._subplots.AxesSubplot at 0x7f54a97a0250>,\n",
       " <matplotlib.axes._subplots.AxesSubplot at 0x7f54a97551c0>)"
      ]
     },
     "execution_count": 38,
     "metadata": {},
     "output_type": "execute_result"
    }
   ],
   "source": [
    "a.scatter_combined(a.rbtl_colors, a.uncertainty_mask, vmin=-0.3, vmax=0.3, label='RBTL Color')"
   ]
  },
  {
   "cell_type": "markdown",
   "metadata": {},
   "source": [
    "## SALT2 x1 comparison"
   ]
  },
  {
   "cell_type": "code",
   "execution_count": 39,
   "metadata": {},
   "outputs": [
    {
     "data": {
      "application/vnd.jupyter.widget-view+json": {
       "model_id": "60c639e6dfe846949181ca04b2f1223b",
       "version_major": 2,
       "version_minor": 0
      },
      "text/plain": [
       "Canvas(toolbar=Toolbar(toolitems=[('Home', 'Reset original view', 'home', 'home'), ('Back', 'Back to previous …"
      ]
     },
     "metadata": {},
     "output_type": "display_data"
    },
    {
     "data": {
      "text/plain": [
       "(<matplotlib.axes._subplots.AxesSubplot at 0x7f54a9676b80>,\n",
       " <matplotlib.axes._subplots.AxesSubplot at 0x7f54a9645640>,\n",
       " <matplotlib.axes._subplots.AxesSubplot at 0x7f54a95c30d0>)"
      ]
     },
     "execution_count": 39,
     "metadata": {},
     "output_type": "execute_result"
    }
   ],
   "source": [
    "a.scatter_combined(a.salt_x1, a.uncertainty_mask, label='SALT2 $x_1$')"
   ]
  },
  {
   "cell_type": "markdown",
   "metadata": {},
   "source": [
    "# Recovering other indicators of intrinsic diversity"
   ]
  },
  {
   "cell_type": "markdown",
   "metadata": {},
   "source": [
    "## Do quadratic transformations for everything\n"
   ]
  },
  {
   "cell_type": "code",
   "execution_count": 40,
   "metadata": {},
   "outputs": [],
   "source": [
    "isomap_indicators = [\n",
    "    'isomap_c1',\n",
    "    'isomap_c2',\n",
    "    'isomap_c3',\n",
    "]\n",
    "\n",
    "sugar_indicators = [\n",
    "    'sugar_q1',\n",
    "    'sugar_q2',\n",
    "    'sugar_q3',\n",
    "]\n",
    "\n",
    "snemo_indicators = [\n",
    "    'snemo7_c1',\n",
    "    'snemo7_c2',\n",
    "    'snemo7_c3',\n",
    "    'snemo7_c4',\n",
    "    'snemo7_c5',\n",
    "    'snemo7_c6',\n",
    "]\n",
    "\n",
    "salt_indicators = [\n",
    "    'salt_x1',\n",
    "]\n",
    "\n",
    "target_indicators = {\n",
    "    'spectrum_EWCaIIHK' : 'pEW CaII HK',\n",
    "    'spectrum_EWSiII4000': 'pEW SiII 4000 $\\AA$',\n",
    "    'spectrum_EWSiII5972': 'pEW SiII 5972 $\\AA$',\n",
    "    'spectrum_EWSiII6355': 'pEW SiII 6355 $\\AA$',\n",
    "    'spectrum_vCaIIHK': 'Velocity Ca II HK',\n",
    "    'spectrum_vSiII6355': 'Velocity Si II 6355 $\\AA$',\n",
    "\n",
    "    'salt_x1': 'SALT2 $x_1$ (B14)',\n",
    "    \n",
    "    # 'isomap_c1': 'Twins Embedding $\\\\xi_1$',\n",
    "    # 'isomap_c2': 'Twins Embedding $\\\\xi_2$',\n",
    "    # 'isomap_c3': 'Twins Embedding $\\\\xi_3$',\n",
    "\n",
    "    # 'nordin_uNi_pre': 'uNi pre-peak\\n(Nordin et al. 2018)',\n",
    "    # 'nordin_uTi_pre': 'uTi pre-peak\\n(Nordin et al. 2018)',\n",
    "    # 'nordin_uSi_pre': 'uSi pre-peak\\n(Nordin et al. 2018)',\n",
    "    'nordin_uCa_pre': 'uCa pre-peak',\n",
    "    'nordin_uCa_max': 'uCa near-peak',\n",
    "    'nordin_uNi_max': 'uNi near-peak',\n",
    "    'nordin_uSi_max': 'uSi near-peak',\n",
    "    'nordin_uTi_max': 'uTi near-peak',\n",
    "    # 'nordin_uNi_post': 'uNi post-peak\\n(Nordin et al. 2018)',\n",
    "    'nordin_uTi_post': 'uTi post-peak',\n",
    "    # 'nordin_uSi_post': 'uSi post-peak\\n(Nordin et al. 2018)',\n",
    "    # 'nordin_uCa_post': 'uCa post-peak\\n(Nordin et al. 2018)',\n",
    "\n",
    "    # 'sugar_q1': 'SUGAR Component 1\\n(Leget et al. 2019)',\n",
    "    # 'sugar_q2': 'SUGAR Component 2',\n",
    "    # 'sugar_q3': 'SUGAR Component 3',\n",
    "    \n",
    "    'sugar_q1': 'SUGAR $q_1$',\n",
    "    'sugar_q2': 'SUGAR $q_2$',\n",
    "    'sugar_q3': 'SUGAR $q_3$',\n",
    "    \n",
    "    # 'snemo7_c1': 'SNEMO7 Component 1\\n(Saunders et al. 2018)',\n",
    "    # 'snemo7_c2': 'SNEMO7 Component 2',\n",
    "    # 'snemo7_c3': 'SNEMO7 Component 3',\n",
    "    # 'snemo7_c4': 'SNEMO7 Component 4',\n",
    "    # 'snemo7_c5': 'SNEMO7 Component 5',\n",
    "    # 'snemo7_c6': 'SNEMO7 Component 6',\n",
    "\n",
    "    'snemo7_c1': 'SNEMO7 $c_1$',\n",
    "    'snemo7_c2': 'SNEMO7 $c_2$',\n",
    "    'snemo7_c3': 'SNEMO7 $c_3$',\n",
    "    'snemo7_c4': 'SNEMO7 $c_4$',\n",
    "    'snemo7_c5': 'SNEMO7 $c_5$',\n",
    "    'snemo7_c6': 'SNEMO7 $c_6$',\n",
    "    \n",
    "    # 'snemo15_c1': 'SNEMO15 Component 1\\n(Saunders et al. 2018)',\n",
    "    # 'snemo15_c2': 'SNEMO15 Component 2\\n(Saunders et al. 2018)',\n",
    "    # 'snemo15_c3': 'SNEMO15 Component 3\\n(Saunders et al. 2018)',\n",
    "    # 'snemo15_c4': 'SNEMO15 Component 4\\n(Saunders et al. 2018)',\n",
    "    # 'snemo15_c5': 'SNEMO15 Component 5\\n(Saunders et al. 2018)',\n",
    "    # 'snemo15_c6': 'SNEMO15 Component 6\\n(Saunders et al. 2018)',\n",
    "    # 'snemo15_c7': 'SNEMO15 Component 7\\n(Saunders et al. 2018)',\n",
    "    # 'snemo15_c8': 'SNEMO15 Component 8\\n(Saunders et al. 2018)',\n",
    "    # 'snemo15_c9': 'SNEMO15 Component 9\\n(Saunders et al. 2018)',\n",
    "    # 'snemo15_c10': 'SNEMO15 Component 10\\n(Saunders et al. 2018)',\n",
    "    # 'snemo15_c11': 'SNEMO15 Component 11\\n(Saunders et al. 2018)',\n",
    "    # 'snemo15_c12': 'SNEMO15 Component 12\\n(Saunders et al. 2018)',\n",
    "    # 'snemo15_c13': 'SNEMO15 Component 13\\n(Saunders et al. 2018)',\n",
    "    # 'snemo15_c14': 'SNEMO15 Component 14\\n(Saunders et al. 2018)',\n",
    "}"
   ]
  },
  {
   "cell_type": "code",
   "execution_count": 41,
   "metadata": {},
   "outputs": [
    {
     "data": {
      "application/vnd.jupyter.widget-view+json": {
       "model_id": "9cab294f371c49da9e793269d1aa413e",
       "version_major": 2,
       "version_minor": 0
      },
      "text/plain": [
       "interactive(children=(Dropdown(description='indicator', options=('isomap_c1', 'isomap_c2', 'isomap_c3', 'salt_…"
      ]
     },
     "metadata": {},
     "output_type": "display_data"
    },
    {
     "data": {
      "text/plain": [
       "<function __main__.plot_indicator(indicator, reference_indicators, quadratic=True)>"
      ]
     },
     "execution_count": 41,
     "metadata": {},
     "output_type": "execute_result"
    }
   ],
   "source": [
    "from ipywidgets import interact\n",
    "\n",
    "reference_indicators = {\n",
    "    'twins_embedding': isomap_indicators,\n",
    "    'sugar': sugar_indicators,\n",
    "    'snemo': snemo_indicators,\n",
    "    'salt': salt_indicators,\n",
    "}\n",
    "\n",
    "def plot_indicator(indicator, reference_indicators, quadratic=True):\n",
    "    quadratic_reference_indicators = []\n",
    "    linear_reference_indicators = []\n",
    "\n",
    "    if quadratic:\n",
    "        quadratic_reference_indicators.extend(reference_indicators)\n",
    "    else:\n",
    "        linear_reference_indicators.extend(reference_indicators)\n",
    "\n",
    "    explained_variance, coefficients, transformation, mask \\\n",
    "        = a.find_best_transformation(\n",
    "        indicator,\n",
    "        quadratic_reference_indicators,\n",
    "        linear_reference_indicators\n",
    "    )\n",
    "    \n",
    "    print(np.std(a.indicators[indicator][mask]), np.std(a.indicators[indicator][mask] - transformation[mask]))\n",
    "\n",
    "    plt.figure()\n",
    "    plt.scatter(transformation[mask], a.indicators[indicator][mask])\n",
    "\n",
    "    plt.xlabel('Transformation of the Isomap latent space')\n",
    "    plt.ylabel(indicator)\n",
    "    plt.title(f'Explained variance: {explained_variance:.2f}')\n",
    "\n",
    "interact(plot_indicator, indicator=a.indicators.keys()[1:], reference_indicators=reference_indicators)"
   ]
  },
  {
   "cell_type": "code",
   "execution_count": 42,
   "metadata": {},
   "outputs": [
    {
     "name": "stdout",
     "output_type": "stream",
     "text": [
      "\n",
      "spectrum_EWCaIIHK    0.893 0.724\n",
      "spectrum_EWSiII4000  0.871 0.885\n",
      "spectrum_EWSiII5972  0.651 0.760\n",
      "spectrum_EWSiII6355  0.912 0.828\n",
      "spectrum_vCaIIHK     0.688 0.570\n",
      "spectrum_vSiII6355   0.819 0.736\n",
      "\n",
      "salt_x1              0.771 0.943\n",
      "\n",
      "nordin_uCa_pre       0.845 0.660\n",
      "nordin_uCa_max       0.795 0.571\n",
      "nordin_uNi_max       0.684 0.460\n",
      "nordin_uSi_max       0.928 0.836\n",
      "nordin_uTi_max       0.713 0.730\n",
      "nordin_uTi_post      0.787 0.779\n",
      "\n",
      "sugar_q1             0.814 1.000\n",
      "sugar_q2             0.885 1.000\n",
      "sugar_q3             0.578 1.000\n",
      "\n",
      "snemo7_c1            0.924 0.878\n",
      "snemo7_c2            0.807 0.948\n",
      "snemo7_c3            0.846 0.894\n",
      "snemo7_c4            0.609 0.791\n",
      "snemo7_c5            0.695 0.788\n",
      "snemo7_c6            0.712 0.706\n"
     ]
    }
   ],
   "source": [
    "# Compare how indicators are recovered with different latent spaces\n",
    "mask = (~a.indicators['sugar_q1'].mask) & (~a.indicators['isomap_c1'].mask)\n",
    "\n",
    "last_kind = ''\n",
    "for target_indicator in target_indicators:\n",
    "    kind = target_indicator.split('_')[0]\n",
    "    if kind != last_kind:\n",
    "        print(\"\")\n",
    "        last_kind = kind\n",
    "    isomap_trans = a.find_best_transformation(target_indicator, isomap_indicators, mask=mask)\n",
    "    isomap_trans_linear = a.find_best_transformation(target_indicator, [], isomap_indicators, mask=mask)\n",
    "    sugar_trans = a.find_best_transformation(target_indicator, sugar_indicators, mask=mask)\n",
    "    # salt_trans = a.find_best_transformation(target_indicator, salt_indicators, mask=mask)\n",
    "    # snemo_trans = a.find_best_transformation(target_indicator, snemo_indicators, mask=mask)\n",
    "    # isomap_c_trans = a.find_best_transformation(target_indicator, isomap_indicators, [a.rbtl_colors], mask=mask)\n",
    "    # sugar_c_trans = a.find_best_transformation(target_indicator, sugar_indicators, [a.rbtl_colors], mask=mask)\n",
    "    \n",
    "    # print(f'{target_indicator:20s} {isomap_trans[0]:.3f} {sugar_trans[0]:.3f}')\n",
    "    # print(f'{target_indicator:20s} {isomap_trans[0]:.3f} {isomap_trans_linear[0]:.3f} {sugar_trans[0]:.3f}')\n",
    "    print(f'{target_indicator:20s} {isomap_trans[0]:.3f} {sugar_trans[0]:.3f}')"
   ]
  },
  {
   "cell_type": "code",
   "execution_count": 43,
   "metadata": {},
   "outputs": [
    {
     "data": {
      "application/vnd.jupyter.widget-view+json": {
       "model_id": "c3ff4d3d82a0488fa61fbf9e7af504b3",
       "version_major": 2,
       "version_minor": 0
      },
      "text/plain": [
       "Canvas(toolbar=Toolbar(toolitems=[('Home', 'Reset original view', 'home', 'home'), ('Back', 'Back to previous …"
      ]
     },
     "metadata": {},
     "output_type": "display_data"
    }
   ],
   "source": [
    "from matplotlib import colors\n",
    "\n",
    "ref_indicators = isomap_indicators\n",
    "\n",
    "labels = []\n",
    "all_correlations = []\n",
    "all_coefficients = []\n",
    "all_explained_variances = []\n",
    "all_transformed_correlations = []\n",
    "\n",
    "for target_indicator, target_label in target_indicators.items():\n",
    "    if target_indicator in ref_indicators:\n",
    "        continue\n",
    "    explained_variance, coefficients, transformation, mask \\\n",
    "        = a.find_best_transformation(target_indicator, ref_indicators)\n",
    "\n",
    "    indicator_values = a.indicators[target_indicator]\n",
    "\n",
    "    labels.append(target_label)\n",
    "    all_coefficients.append(coefficients)\n",
    "    all_explained_variances.append(explained_variance)\n",
    "\n",
    "    # correlations = [np.corrcoef(transformation[mask], a.embedding[mask, i])[0, 1] for i in range(a.embedding.shape[1])]\n",
    "    correlations = [np.corrcoef(indicator_values[mask], a.embedding[mask, i])[0, 1] for i in range(a.embedding.shape[1])]\n",
    "    all_correlations.append(correlations)\n",
    "    \n",
    "    transformed_correlations = np.corrcoef(indicator_values[mask], transformation[mask])[0, 1]\n",
    "    all_transformed_correlations.append(transformed_correlations)\n",
    "\n",
    "all_coefficients = np.array(all_coefficients)\n",
    "all_correlations = np.array(all_correlations)\n",
    "all_explained_variances = np.array(all_explained_variances)\n",
    "all_transformed_correlations = np.array(all_transformed_correlations)\n",
    "\n",
    "# norm = 1 / np.sqrt(np.sum(all_coefficients[:, 1:4]**2, axis=1))[:, None]\n",
    "# norm_coefficients = norm * all_coefficients[:, 1:4]\n",
    "\n",
    "fig = plt.figure(figsize=(4.9, 12.), constrained_layout=False)\n",
    "\n",
    "# left bottom width height\n",
    "ax1 = fig.add_axes([0.26, 0.01, 0.45, 0.8])\n",
    "ax2 = fig.add_axes([0.6, 0.01, 0.3, 0.8], sharey=ax1)\n",
    "# cax = fig.add_subplot(gs[0, 2])\n",
    "\n",
    "# fig, axes = plt.subplots(1, 3, sharey=True, figsize=(4.0, 10), gridspec_kw={'width_ratios': (3, 1, 1)}, constrained_layout=False)\n",
    "# fig.set_constrained_layout_pads(w_pad=0.01, h_pad=0.01, hspace=0.01, wspace=0.01)\n",
    "\n",
    "# cmap1 = a.settings['colormap']\n",
    "# cmap1 = a.settings['colormap']\n",
    "# sm1 = plt.cm.ScalarMappable(cmap=cmap1, norm=plt.Normalize(vmin=-1, vmax=1))\n",
    "# sm1._A = []\n",
    "\n",
    "# Make a truncated colormap\n",
    "# cmap2 = plt.cm.Purples\n",
    "cmap2 = plt.cm.Blues\n",
    "# cmap2 = colors.LinearSegmentedColormap.from_list('unexp_var_cmap', cmap2(np.linspace(0., 0.8, 100)))\n",
    "sm2 = plt.cm.ScalarMappable(cmap=cmap2, norm=plt.Normalize(vmin=0., vmax=1.))\n",
    "sm2._A = []\n",
    "\n",
    "def do_plot(ax, ax_data, sm, xlabels, ylabels=None, threshold=0.5):\n",
    "    ax_data = np.atleast_2d(ax_data)\n",
    "    im = ax.imshow(sm.to_rgba(np.abs(ax_data)), interpolation='nearest', vmin=-1, vmax=1)\n",
    "    ax.set(\n",
    "        xticks=np.arange(ax_data.shape[1]),\n",
    "        yticks=np.arange(ax_data.shape[0]),\n",
    "        xticklabels=xlabels,\n",
    "    )\n",
    "\n",
    "    if ylabels is not None:\n",
    "        ax.set_yticklabels(ylabels)\n",
    "    else:\n",
    "        ax.tick_params(axis='y', which='both', left=False, right=False)\n",
    "\n",
    "    # Ticks on top\n",
    "    ax.get_xaxis().set_ticks_position('top')\n",
    "\n",
    "    # Rotate the tick labels and set their alignment.\n",
    "    plt.setp(ax.get_xticklabels(), rotation=70, ha=\"left\", va='center',\n",
    "             rotation_mode=\"anchor\")\n",
    "\n",
    "    # Loop over data dimensions and create text annotations.\n",
    "    fmt = '.2f'\n",
    "    for i in range(ax_data.shape[0]):\n",
    "        for j in range(ax_data.shape[1]):\n",
    "            ax.text(j, i, format(ax_data[i, j], fmt),\n",
    "                    ha=\"center\", va=\"center\",\n",
    "                    color=\"white\" if np.sign(threshold) * np.abs(ax_data[i, j]) > threshold else \"black\")\n",
    "\n",
    "# do_plot(ax1, norm_coefficients, sm1, ['Component 1 Amplitude', 'Component 2 Amplitude', 'Component 3 Amplitude'], labels)\n",
    "do_plot(ax1, all_correlations, sm2, ['Twins Embedding $\\\\xi_1$ Correlation', 'Twins Embedding $\\\\xi_2$ Correlation', 'Twins Embedding $\\\\xi_3$ Correlation'], labels)\n",
    "# do_plot(ax2, all_explained_variances[:, None], sm2, ['Fraction of Variance\\nExplained'], threshold=0.5)\n",
    "do_plot(ax2, np.array([all_explained_variances, all_transformed_correlations]).T, sm2, ['Fraction of Variance\\nExplained', 'Transformed Correlation'])\n",
    "\n",
    "ax2.tick_params(labelleft=False)\n",
    "\n",
    "# cbar1 = fig.colorbar(sm1, ax=ax1, orientation='vertical', aspect=60, pad=0.05, ticks=[-1, -0.8, -0.6, -0.4, -0.2, 0, 0.2, 0.4, 0.6, 0.8, 1])\n",
    "# cbar1.ax.set_yticklabels(['-1', '', '', '', '', '0', '', '', '', '', '1'])\n",
    "# cbar2 = fig.colorbar(sm2, ax=ax2, orientation='vertical', aspect=60, pad=0.05, ticks=[0, 0.25, 0.5, 0.75, 1])\n",
    "# cbar2 = fig.colorbar(sm2, ax=ax2, orientation='vertical', aspect=60, pad=0.05, ticks=[0.5, 0.6, 0.7, 0.8, 0.9, 1])\n",
    "cbar2 = fig.colorbar(sm2, ax=ax2, orientation='vertical', aspect=60, pad=0.1, ticks=[0., 0.2, 0.4, 0.6, 0.8, 1])\n",
    "# cbar2.ax.set_yticklabels(['0', '', '0.5', '', '1'])\n",
    "\n",
    "a.savefig('indicators_recovery.pdf', bbox_inches='tight', pad_inches=0)"
   ]
  },
  {
   "cell_type": "markdown",
   "metadata": {},
   "source": [
    "## Figure out what fraction of explained variance we would expect"
   ]
  },
  {
   "cell_type": "code",
   "execution_count": 44,
   "metadata": {},
   "outputs": [],
   "source": [
    "def simulate_explained(target_indicator, reference_indicators, N=100):\n",
    "    all_explained_variances = []\n",
    "    all_correlations = []\n",
    "\n",
    "    vals = a.indicators[target_indicator]\n",
    "\n",
    "    for i in tqdm(range(N), leave=False):\n",
    "        explained_variance, coefficients, best_transformation, mask = \\\n",
    "            a.find_best_transformation(target_indicator, reference_indicators, shuffle=True)\n",
    "        all_explained_variances.append(explained_variance)\n",
    "        all_correlations.append(np.corrcoef(vals[mask], best_transformation[mask])[0, 1])\n",
    "\n",
    "    mean_explained = np.mean(all_explained_variances)\n",
    "    std_explained = np.std(all_explained_variances)\n",
    "    mean_corr = np.mean(all_correlations)\n",
    "    std_corr = np.std(all_correlations)\n",
    "\n",
    "    return mean_explained, std_explained, mean_corr, std_corr"
   ]
  },
  {
   "cell_type": "code",
   "execution_count": 45,
   "metadata": {},
   "outputs": [
    {
     "data": {
      "application/vnd.jupyter.widget-view+json": {
       "model_id": "c6f5976713534d32843210ab1875b969",
       "version_major": 2,
       "version_minor": 0
      },
      "text/plain": [
       "HBox(children=(FloatProgress(value=0.0, max=22.0), HTML(value='')))"
      ]
     },
     "metadata": {},
     "output_type": "display_data"
    },
    {
     "data": {
      "application/vnd.jupyter.widget-view+json": {
       "model_id": "",
       "version_major": 2,
       "version_minor": 0
      },
      "text/plain": [
       "HBox(children=(FloatProgress(value=0.0), HTML(value='')))"
      ]
     },
     "metadata": {},
     "output_type": "display_data"
    },
    {
     "name": "stdout",
     "output_type": "stream",
     "text": [
      "spectrum_EWCaIIHK   : 0.051 ± 0.024      0.220 ± 0.052\n"
     ]
    },
    {
     "data": {
      "application/vnd.jupyter.widget-view+json": {
       "model_id": "",
       "version_major": 2,
       "version_minor": 0
      },
      "text/plain": [
       "HBox(children=(FloatProgress(value=0.0), HTML(value='')))"
      ]
     },
     "metadata": {},
     "output_type": "display_data"
    },
    {
     "name": "stdout",
     "output_type": "stream",
     "text": [
      "spectrum_EWSiII4000 : 0.049 ± 0.021      0.215 ± 0.048\n"
     ]
    },
    {
     "data": {
      "application/vnd.jupyter.widget-view+json": {
       "model_id": "",
       "version_major": 2,
       "version_minor": 0
      },
      "text/plain": [
       "HBox(children=(FloatProgress(value=0.0), HTML(value='')))"
      ]
     },
     "metadata": {},
     "output_type": "display_data"
    },
    {
     "name": "stdout",
     "output_type": "stream",
     "text": [
      "spectrum_EWSiII5972 : 0.055 ± 0.024      0.229 ± 0.051\n"
     ]
    },
    {
     "data": {
      "application/vnd.jupyter.widget-view+json": {
       "model_id": "",
       "version_major": 2,
       "version_minor": 0
      },
      "text/plain": [
       "HBox(children=(FloatProgress(value=0.0), HTML(value='')))"
      ]
     },
     "metadata": {},
     "output_type": "display_data"
    },
    {
     "name": "stdout",
     "output_type": "stream",
     "text": [
      "spectrum_EWSiII6355 : 0.055 ± 0.025      0.229 ± 0.052\n"
     ]
    },
    {
     "data": {
      "application/vnd.jupyter.widget-view+json": {
       "model_id": "",
       "version_major": 2,
       "version_minor": 0
      },
      "text/plain": [
       "HBox(children=(FloatProgress(value=0.0), HTML(value='')))"
      ]
     },
     "metadata": {},
     "output_type": "display_data"
    },
    {
     "name": "stdout",
     "output_type": "stream",
     "text": [
      "spectrum_vCaIIHK    : 0.053 ± 0.024      0.223 ± 0.053\n"
     ]
    },
    {
     "data": {
      "application/vnd.jupyter.widget-view+json": {
       "model_id": "",
       "version_major": 2,
       "version_minor": 0
      },
      "text/plain": [
       "HBox(children=(FloatProgress(value=0.0), HTML(value='')))"
      ]
     },
     "metadata": {},
     "output_type": "display_data"
    },
    {
     "name": "stdout",
     "output_type": "stream",
     "text": [
      "spectrum_vSiII6355  : 0.049 ± 0.024      0.214 ± 0.055\n"
     ]
    },
    {
     "data": {
      "application/vnd.jupyter.widget-view+json": {
       "model_id": "",
       "version_major": 2,
       "version_minor": 0
      },
      "text/plain": [
       "HBox(children=(FloatProgress(value=0.0), HTML(value='')))"
      ]
     },
     "metadata": {},
     "output_type": "display_data"
    },
    {
     "name": "stdout",
     "output_type": "stream",
     "text": [
      "salt_x1             : 0.055 ± 0.022      0.228 ± 0.049\n"
     ]
    },
    {
     "data": {
      "application/vnd.jupyter.widget-view+json": {
       "model_id": "",
       "version_major": 2,
       "version_minor": 0
      },
      "text/plain": [
       "HBox(children=(FloatProgress(value=0.0), HTML(value='')))"
      ]
     },
     "metadata": {},
     "output_type": "display_data"
    },
    {
     "name": "stdout",
     "output_type": "stream",
     "text": [
      "nordin_uCa_pre      : 0.189 ± 0.082      0.425 ± 0.092\n"
     ]
    },
    {
     "data": {
      "application/vnd.jupyter.widget-view+json": {
       "model_id": "",
       "version_major": 2,
       "version_minor": 0
      },
      "text/plain": [
       "HBox(children=(FloatProgress(value=0.0), HTML(value='')))"
      ]
     },
     "metadata": {},
     "output_type": "display_data"
    },
    {
     "name": "stdout",
     "output_type": "stream",
     "text": [
      "nordin_uCa_max      : 0.136 ± 0.054      0.361 ± 0.076\n"
     ]
    },
    {
     "data": {
      "application/vnd.jupyter.widget-view+json": {
       "model_id": "",
       "version_major": 2,
       "version_minor": 0
      },
      "text/plain": [
       "HBox(children=(FloatProgress(value=0.0), HTML(value='')))"
      ]
     },
     "metadata": {},
     "output_type": "display_data"
    },
    {
     "name": "stdout",
     "output_type": "stream",
     "text": [
      "nordin_uNi_max      : 0.129 ± 0.059      0.349 ± 0.085\n"
     ]
    },
    {
     "data": {
      "application/vnd.jupyter.widget-view+json": {
       "model_id": "",
       "version_major": 2,
       "version_minor": 0
      },
      "text/plain": [
       "HBox(children=(FloatProgress(value=0.0), HTML(value='')))"
      ]
     },
     "metadata": {},
     "output_type": "display_data"
    },
    {
     "name": "stdout",
     "output_type": "stream",
     "text": [
      "nordin_uSi_max      : 0.140 ± 0.056      0.366 ± 0.075\n"
     ]
    },
    {
     "data": {
      "application/vnd.jupyter.widget-view+json": {
       "model_id": "",
       "version_major": 2,
       "version_minor": 0
      },
      "text/plain": [
       "HBox(children=(FloatProgress(value=0.0), HTML(value='')))"
      ]
     },
     "metadata": {},
     "output_type": "display_data"
    },
    {
     "name": "stdout",
     "output_type": "stream",
     "text": [
      "nordin_uTi_max      : 0.126 ± 0.044      0.349 ± 0.063\n"
     ]
    },
    {
     "data": {
      "application/vnd.jupyter.widget-view+json": {
       "model_id": "",
       "version_major": 2,
       "version_minor": 0
      },
      "text/plain": [
       "HBox(children=(FloatProgress(value=0.0), HTML(value='')))"
      ]
     },
     "metadata": {},
     "output_type": "display_data"
    },
    {
     "name": "stdout",
     "output_type": "stream",
     "text": [
      "nordin_uTi_post     : 0.174 ± 0.072      0.408 ± 0.087\n"
     ]
    },
    {
     "data": {
      "application/vnd.jupyter.widget-view+json": {
       "model_id": "",
       "version_major": 2,
       "version_minor": 0
      },
      "text/plain": [
       "HBox(children=(FloatProgress(value=0.0), HTML(value='')))"
      ]
     },
     "metadata": {},
     "output_type": "display_data"
    },
    {
     "name": "stdout",
     "output_type": "stream",
     "text": [
      "sugar_q1            : 0.057 ± 0.025      0.232 ± 0.052\n"
     ]
    },
    {
     "data": {
      "application/vnd.jupyter.widget-view+json": {
       "model_id": "",
       "version_major": 2,
       "version_minor": 0
      },
      "text/plain": [
       "HBox(children=(FloatProgress(value=0.0), HTML(value='')))"
      ]
     },
     "metadata": {},
     "output_type": "display_data"
    },
    {
     "name": "stdout",
     "output_type": "stream",
     "text": [
      "sugar_q2            : 0.062 ± 0.026      0.243 ± 0.051\n"
     ]
    },
    {
     "data": {
      "application/vnd.jupyter.widget-view+json": {
       "model_id": "",
       "version_major": 2,
       "version_minor": 0
      },
      "text/plain": [
       "HBox(children=(FloatProgress(value=0.0), HTML(value='')))"
      ]
     },
     "metadata": {},
     "output_type": "display_data"
    },
    {
     "name": "stdout",
     "output_type": "stream",
     "text": [
      "sugar_q3            : 0.063 ± 0.032      0.244 ± 0.060\n"
     ]
    },
    {
     "data": {
      "application/vnd.jupyter.widget-view+json": {
       "model_id": "",
       "version_major": 2,
       "version_minor": 0
      },
      "text/plain": [
       "HBox(children=(FloatProgress(value=0.0), HTML(value='')))"
      ]
     },
     "metadata": {},
     "output_type": "display_data"
    },
    {
     "name": "stdout",
     "output_type": "stream",
     "text": [
      "snemo7_c1           : 0.058 ± 0.025      0.234 ± 0.053\n"
     ]
    },
    {
     "data": {
      "application/vnd.jupyter.widget-view+json": {
       "model_id": "",
       "version_major": 2,
       "version_minor": 0
      },
      "text/plain": [
       "HBox(children=(FloatProgress(value=0.0), HTML(value='')))"
      ]
     },
     "metadata": {},
     "output_type": "display_data"
    },
    {
     "name": "stdout",
     "output_type": "stream",
     "text": [
      "snemo7_c2           : 0.060 ± 0.028      0.239 ± 0.054\n"
     ]
    },
    {
     "data": {
      "application/vnd.jupyter.widget-view+json": {
       "model_id": "",
       "version_major": 2,
       "version_minor": 0
      },
      "text/plain": [
       "HBox(children=(FloatProgress(value=0.0), HTML(value='')))"
      ]
     },
     "metadata": {},
     "output_type": "display_data"
    },
    {
     "name": "stdout",
     "output_type": "stream",
     "text": [
      "snemo7_c3           : 0.058 ± 0.025      0.235 ± 0.051\n"
     ]
    },
    {
     "data": {
      "application/vnd.jupyter.widget-view+json": {
       "model_id": "",
       "version_major": 2,
       "version_minor": 0
      },
      "text/plain": [
       "HBox(children=(FloatProgress(value=0.0), HTML(value='')))"
      ]
     },
     "metadata": {},
     "output_type": "display_data"
    },
    {
     "name": "stdout",
     "output_type": "stream",
     "text": [
      "snemo7_c4           : 0.064 ± 0.027      0.248 ± 0.054\n"
     ]
    },
    {
     "data": {
      "application/vnd.jupyter.widget-view+json": {
       "model_id": "",
       "version_major": 2,
       "version_minor": 0
      },
      "text/plain": [
       "HBox(children=(FloatProgress(value=0.0), HTML(value='')))"
      ]
     },
     "metadata": {},
     "output_type": "display_data"
    },
    {
     "name": "stdout",
     "output_type": "stream",
     "text": [
      "snemo7_c5           : 0.062 ± 0.025      0.243 ± 0.052\n"
     ]
    },
    {
     "data": {
      "application/vnd.jupyter.widget-view+json": {
       "model_id": "",
       "version_major": 2,
       "version_minor": 0
      },
      "text/plain": [
       "HBox(children=(FloatProgress(value=0.0), HTML(value='')))"
      ]
     },
     "metadata": {},
     "output_type": "display_data"
    },
    {
     "name": "stdout",
     "output_type": "stream",
     "text": [
      "snemo7_c6           : 0.058 ± 0.023      0.237 ± 0.048\n",
      "\n"
     ]
    }
   ],
   "source": [
    "reference_indicators = isomap_indicators\n",
    "for target_indicator in tqdm(target_indicators):\n",
    "    mean_explained, std_explained, mean_corr, std_corr = simulate_explained(target_indicator, reference_indicators)\n",
    "    print(f'{target_indicator:20s}: {mean_explained:.3f} ± {std_explained:.3f}      {mean_corr:.3f} ± {std_corr:.3f}')"
   ]
  },
  {
   "cell_type": "code",
   "execution_count": 46,
   "metadata": {},
   "outputs": [
    {
     "data": {
      "application/vnd.jupyter.widget-view+json": {
       "model_id": "",
       "version_major": 2,
       "version_minor": 0
      },
      "text/plain": [
       "HBox(children=(FloatProgress(value=0.0, max=1000.0), HTML(value='')))"
      ]
     },
     "metadata": {},
     "output_type": "display_data"
    },
    {
     "name": "stdout",
     "output_type": "stream",
     "text": [
      "salt_x1 0.061 ± 0.027\n",
      "\\newcommand{\\explainedvariancexonemean}{0.061}\n",
      "\\newcommand{\\explainedvariancexonestd}{0.027}\n"
     ]
    },
    {
     "data": {
      "application/vnd.jupyter.widget-view+json": {
       "model_id": "",
       "version_major": 2,
       "version_minor": 0
      },
      "text/plain": [
       "HBox(children=(FloatProgress(value=0.0, max=1000.0), HTML(value='')))"
      ]
     },
     "metadata": {},
     "output_type": "display_data"
    },
    {
     "name": "stdout",
     "output_type": "stream",
     "text": [
      "nordin_uNi_max 0.136 ± 0.059\n",
      "\\newcommand{\\explainedvarianceunimean}{0.136}\n",
      "\\newcommand{\\explainedvarianceunistd}{0.059}\n"
     ]
    }
   ],
   "source": [
    "with a.latex_open('explained_variance_simulation.tex') as f:\n",
    "    reference_indicators = isomap_indicators\n",
    "    N = 1000\n",
    "    \n",
    "    target_indicator = 'salt_x1'\n",
    "    mean_explained, std_explained, mean_corr, std_corr = simulate_explained(target_indicator, reference_indicators, N=N)\n",
    "    print(f'{target_indicator} {mean_explained:.3f} ± {std_explained:.3f}')\n",
    "    utils.latex_command(f, 'explainedvariancexonemean', '%.3f', mean_explained)\n",
    "    utils.latex_command(f, 'explainedvariancexonestd', '%.3f', std_explained)\n",
    "\n",
    "    target_indicator = 'nordin_uNi_max'\n",
    "    mean_explained, std_explained, mean_corr, std_corr = simulate_explained(target_indicator, reference_indicators, N=N)\n",
    "    print(f'{target_indicator} {mean_explained:.3f} ± {std_explained:.3f}')\n",
    "    utils.latex_command(f, 'explainedvarianceunimean', '%.3f', mean_explained)\n",
    "    utils.latex_command(f, 'explainedvarianceunistd', '%.3f', std_explained)"
   ]
  },
  {
   "cell_type": "markdown",
   "metadata": {},
   "source": [
    "# Attrition"
   ]
  },
  {
   "cell_type": "code",
   "execution_count": 47,
   "metadata": {},
   "outputs": [
    {
     "name": "stdout",
     "output_type": "stream",
     "text": [
      "\\newcommand{\\numdatasetsne}{280}\n",
      "\\newcommand{\\numdatasetspectra}{3908}\n",
      "\n",
      "\\newcommand{\\nummanifoldsne}{203}\n",
      "\\newcommand{\\nummanifoldspectra}{598}\n",
      "\\newcommand{\\numinterpsne}{173}\n"
     ]
    }
   ],
   "source": [
    "with a.latex_open('attrition_variables.tex') as f:\n",
    "    utils.latex_command(f, 'numdatasetsne', '%d', a.attrition_enough_spectra)\n",
    "    utils.latex_command(f, 'numdatasetspectra', '%d', a.attrition_total_spectra)\n",
    "    utils.latex_print(f, \"\")\n",
    "    utils.latex_command(f, 'nummanifoldsne', '%d', len(a.targets))\n",
    "    utils.latex_command(f, 'nummanifoldspectra', '%d', len(a.spectra))\n",
    "    utils.latex_command(f, 'numinterpsne', '%d', np.sum(a.uncertainty_mask))"
   ]
  },
  {
   "cell_type": "code",
   "execution_count": 48,
   "metadata": {},
   "outputs": [
    {
     "name": "stdout",
     "output_type": "stream",
     "text": [
      "\\textbf{General selection requirements} & \\\\\n",
      "Initial sample (SNe Ia with at least 5 SNfactory spectra) & 280 \\\\\n",
      "SALT2 date of maximum light uncertainty < 1 day           & 272 \\\\\n",
      "At least one spectrum within 5 days of maximum light      & 250 \\\\\n",
      "At least one spectrum with S/N 3300-3800~\\AA\\ > 100       & 203 \\\\\n",
      "\\hline\n",
      "\\textbf{Manifold learning selection requirements} & \\\\\n",
      "\\textbf{(Section~\\ref{sec:isomap_sample})} & \\\\\n",
      "Spectrum at max. uncertainty < 10\\% of intrinsic power        & 173 \\\\\n"
     ]
    }
   ],
   "source": [
    "with a.latex_open('attrition_table.tex') as f:\n",
    "    utils.latex_print(f, \"\\\\textbf{General selection requirements} & \\\\\\\\\")\n",
    "    utils.latex_print(f, \"Initial sample (SNe Ia with at least 5 SNfactory spectra) & %d \\\\\\\\\" % a.attrition_enough_spectra)\n",
    "    utils.latex_print(f, \"SALT2 date of maximum light uncertainty < 1 day           & %d \\\\\\\\\" % a.attrition_salt_daymax)\n",
    "    utils.latex_print(f, \"At least one spectrum within 5 days of maximum light      & %d \\\\\\\\\" % a.attrition_range)\n",
    "    utils.latex_print(f, \"At least one spectrum with S/N 3300-3800~\\AA\\ > 100       & %d \\\\\\\\\" % a.attrition_usable)\n",
    "    utils.latex_print(f, \"\\hline\")\n",
    "    utils.latex_print(f, \"\\\\textbf{Manifold learning selection requirements} & \\\\\\\\\")\n",
    "    utils.latex_print(f, r\"\\textbf{(Section~\\ref{sec:isomap_sample})} & \\\\\")\n",
    "    utils.latex_print(f, \"Spectrum at max. uncertainty < 10\\\\%% of intrinsic power        & %d \\\\\\\\\" % np.sum(a.uncertainty_mask))"
   ]
  },
  {
   "cell_type": "markdown",
   "metadata": {},
   "source": [
    "# Dump of the embedding"
   ]
  },
  {
   "cell_type": "code",
   "execution_count": 49,
   "metadata": {},
   "outputs": [],
   "source": [
    "data_table = Table({\n",
    "    'name': [a.iau_name_map.get(i.name, i.name).replace('_', '\\_') for i in a.targets],\n",
    "    # 'SALT2 $x_1$': ['%.2f $\\pm$ %.2f' % (i, j) for i, j in zip(a.salt_x1, a.salt_fits['x1_err'])],\n",
    "    # 'SALT2 $color$': ['%.2f $\\pm$ %.2f' % (i, j) for i, j in zip(a.salt_colors, a.salt_fits['c_err'])],\n",
    "    'SALT2 $x_1$': ['%.2f' % i for i in a.salt_x1],\n",
    "    'SALT2 $x_1$ uncertainty': ['%.2f' % i for i in a.salt_fits['x1_err']],\n",
    "    'SALT2 $c$': ['%.2f' % i for i in a.salt_colors],\n",
    "    'SALT2 $c$ uncertainty': ['%.2f' % i for i in a.salt_fits['c_err']],\n",
    "    'RBTL $A_V$': ['%.2f' % i for i in a.rbtl_colors],\n",
    "    'RBTL $\\Delta M$': ['%.2f' % i for i in a.rbtl_mags],\n",
    "    'Twins Embedding Coordinate 1': ['%.2f' % i for i in a.embedding[:, 0]],\n",
    "    'Twins Embedding Coordinate 2': ['%.2f' % i for i in a.embedding[:, 1]],\n",
    "    'Twins Embedding Coordinate 3': ['%.2f' % i for i in a.embedding[:, 2]],\n",
    "})\n",
    "\n",
    "def dump_data(f, start=None, end=None):\n",
    "    for row in data_table[start:end]:\n",
    "        print(' & '.join(row) + ' \\\\\\\\', file=f)\n",
    "\n",
    "with a.latex_open('twins_manifold_coordinates.tex') as f:\n",
    "    dump_data(f)\n",
    "\n",
    "with a.latex_open('twins_manifold_coordinates_short.tex') as f:\n",
    "    dump_data(f, 95, 105)"
   ]
  },
  {
   "cell_type": "markdown",
   "metadata": {},
   "source": [
    "# Tests of dust variation"
   ]
  },
  {
   "cell_type": "code",
   "execution_count": 50,
   "metadata": {},
   "outputs": [
    {
     "data": {
      "application/vnd.jupyter.widget-view+json": {
       "model_id": "1bb3623c85794cf692e06de7ae6b2308",
       "version_major": 2,
       "version_minor": 0
      },
      "text/plain": [
       "Canvas(toolbar=Toolbar(toolitems=[('Home', 'Reset original view', 'home', 'home'), ('Back', 'Back to previous …"
      ]
     },
     "metadata": {},
     "output_type": "display_data"
    },
    {
     "name": "stdout",
     "output_type": "stream",
     "text": [
      "Mean offset F99:  -0.1396\n",
      "Sigma offset F99: 0.0161\n",
      "Mean offset CCM:  -0.1398\n",
      "Sigma offset CCM: 0.0121\n"
     ]
    },
    {
     "data": {
      "text/plain": [
       "<matplotlib.legend.Legend at 0x7f54a8984610>"
      ]
     },
     "execution_count": 50,
     "metadata": {},
     "output_type": "execute_result"
    }
   ],
   "source": [
    "import extinction\n",
    "plt.figure()\n",
    "ref_extinction = extinction.fitzpatrick99(a.wave, 0.3 * 2.8, 2.8)\n",
    "new_extinction = extinction.fitzpatrick99(a.wave, 0.3 * 3.3, 3.3)\n",
    "plt.plot(a.wave, ref_extinction - new_extinction, label='F99')\n",
    "\n",
    "print(\"Mean offset F99:  %.4f\" % np.mean(ref_extinction - new_extinction))\n",
    "print(\"Sigma offset F99: %.4f\" % np.std(ref_extinction - new_extinction))\n",
    "\n",
    "# plt.figure()\n",
    "ref_extinction = extinction.ccm89(a.wave, 0.3 * 2.8, 2.8)\n",
    "new_extinction = extinction.ccm89(a.wave, 0.3 * 3.3, 3.3)\n",
    "plt.plot(a.wave, ref_extinction - new_extinction, label='CCM')\n",
    "\n",
    "print(\"Mean offset CCM:  %.4f\" % np.mean(ref_extinction - new_extinction))\n",
    "print(\"Sigma offset CCM: %.4f\" % np.std(ref_extinction - new_extinction))\n",
    "\n",
    "plt.xlabel('Wavelength ($\\AA$)')\n",
    "plt.ylabel('Difference (mag)')\n",
    "plt.title('Difference between $R_V=2.8$ and $R_V=3.3$\\nfor $E(B-V)=0.3$')\n",
    "plt.ylim(-0.16, 0.02)\n",
    "plt.axhline(0, c='k')\n",
    "plt.axhline(-0.14, c='k', ls='--', label='Flat offset')\n",
    "plt.legend(loc=1, framealpha=1)"
   ]
  },
  {
   "cell_type": "markdown",
   "metadata": {},
   "source": [
    "# Tests of 91T-like distribution"
   ]
  },
  {
   "cell_type": "code",
   "execution_count": 51,
   "metadata": {},
   "outputs": [],
   "source": [
    "m = (a.indicators['peculiar_type'] == '91T-like') & a.uncertainty_mask"
   ]
  },
  {
   "cell_type": "code",
   "execution_count": 52,
   "metadata": {},
   "outputs": [
    {
     "data": {
      "application/vnd.jupyter.widget-view+json": {
       "model_id": "4cc4a626f89e483f81f408cafbdb6a1a",
       "version_major": 2,
       "version_minor": 0
      },
      "text/plain": [
       "Canvas(toolbar=Toolbar(toolitems=[('Home', 'Reset original view', 'home', 'home'), ('Back', 'Back to previous …"
      ]
     },
     "metadata": {},
     "output_type": "display_data"
    }
   ],
   "source": [
    "from matplotlib.colors import Normalize\n",
    "e = a.embedding[m, 0]\n",
    "norm = Normalize(np.min(e), np.max(e))\n",
    "\n",
    "plt.figure()\n",
    "for idx in np.where(m)[0]:\n",
    "    plt.plot(a.wave, a.scale_flux[idx], c=plt.cm.coolwarm(norm(a.embedding[idx, 0])))"
   ]
  },
  {
   "cell_type": "code",
   "execution_count": 53,
   "metadata": {},
   "outputs": [
    {
     "name": "stdout",
     "output_type": "stream",
     "text": [
      "6 6 0.0\n",
      "6 35 0.2688533405027557\n",
      "6 42 0.8334453555585428\n",
      "6 136 2.144105390509477\n",
      "6 156 7.83707487565533\n",
      "6 167 2.5070574001881973\n",
      "6 190 5.161984137652911\n",
      "35 6 0.2688533405027557\n",
      "35 35 0.0\n",
      "35 42 0.11426266971367119\n",
      "35 136 0.947708025272214\n",
      "35 156 6.674284177980911\n",
      "35 167 1.1090200295738675\n",
      "35 190 1.6400053770668102\n",
      "42 6 0.8334453555585428\n",
      "42 35 0.11426266971367119\n",
      "42 42 0.0\n",
      "42 136 1.781153380830757\n",
      "42 156 14.665949724425326\n",
      "42 167 1.8685307164941525\n",
      "42 190 8.630192230138459\n",
      "136 6 2.144105390509477\n",
      "136 35 0.947708025272214\n",
      "136 42 1.781153380830757\n",
      "136 136 0.0\n",
      "136 156 10.344132275843528\n",
      "136 167 2.5541067347761794\n",
      "136 190 2.970829412555451\n",
      "156 6 7.83707487565533\n",
      "156 35 6.674284177980911\n",
      "156 42 14.665949724425326\n",
      "156 136 10.344132275843528\n",
      "156 156 0.0\n",
      "156 167 1.0283640274230408\n",
      "156 190 0.16803333781422233\n",
      "167 6 2.5070574001881973\n",
      "167 35 1.1090200295738675\n",
      "167 42 1.8685307164941525\n",
      "167 136 2.5541067347761794\n",
      "167 156 1.0283640274230408\n",
      "167 167 0.0\n",
      "167 190 0.6116413496437694\n",
      "190 6 5.161984137652911\n",
      "190 35 1.6400053770668102\n",
      "190 42 8.630192230138459\n",
      "190 136 2.970829412555451\n",
      "190 156 0.16803333781422233\n",
      "190 167 0.6116413496437694\n",
      "190 190 0.0\n"
     ]
    }
   ],
   "source": [
    "for i in np.where(m)[0]:\n",
    "    for j in np.where(m)[0]:\n",
    "        print(i, j, percentileofscore(ref_dists, dist_matrix[i, j]))"
   ]
  },
  {
   "cell_type": "code",
   "execution_count": 54,
   "metadata": {},
   "outputs": [
    {
     "data": {
      "application/vnd.jupyter.widget-view+json": {
       "model_id": "cec8727e653c4668bb0eb075e0544fb4",
       "version_major": 2,
       "version_minor": 0
      },
      "text/plain": [
       "Canvas(toolbar=Toolbar(toolitems=[('Home', 'Reset original view', 'home', 'home'), ('Back', 'Back to previous …"
      ]
     },
     "metadata": {},
     "output_type": "display_data"
    },
    {
     "data": {
      "text/plain": [
       "<matplotlib.legend.Legend at 0x7f54a8914af0>"
      ]
     },
     "execution_count": 54,
     "metadata": {},
     "output_type": "execute_result"
    }
   ],
   "source": [
    "plt.figure()\n",
    "x = a.salt_colors[a.uncertainty_mask]\n",
    "y = a.rbtl_colors[a.uncertainty_mask]\n",
    "plt.scatter(x, y, s=5)\n",
    "plt.plot([-0.2, 1.0], [-0.2*2.8, 1.0*2.8], label='Slope of 2.8')\n",
    "plt.xlabel('SALT2 Color')\n",
    "plt.ylabel('RBTL $A_V$')\n",
    "plt.legend()\n",
    "\n",
    "# plt.scatter(x, y - x * 2.8, s=5)"
   ]
  }
 ],
 "metadata": {
  "kernelspec": {
   "display_name": "Python 3",
   "language": "python",
   "name": "python3"
  },
  "language_info": {
   "codemirror_mode": {
    "name": "ipython",
    "version": 3
   },
   "file_extension": ".py",
   "mimetype": "text/x-python",
   "name": "python",
   "nbconvert_exporter": "python",
   "pygments_lexer": "ipython3",
   "version": "3.8.2"
  },
  "toc-autonumbering": true,
  "toc-showmarkdowntxt": false
 },
 "nbformat": 4,
 "nbformat_minor": 4
}
