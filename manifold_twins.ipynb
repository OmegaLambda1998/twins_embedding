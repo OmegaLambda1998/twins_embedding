{
 "cells": [
  {
   "cell_type": "markdown",
   "metadata": {},
   "source": [
    "# Load the dataset"
   ]
  },
  {
   "cell_type": "code",
   "execution_count": 1,
   "metadata": {},
   "outputs": [],
   "source": [
    "run manifold_twins"
   ]
  },
  {
   "cell_type": "code",
   "execution_count": 2,
   "metadata": {},
   "outputs": [],
   "source": [
    "%matplotlib ipympl"
   ]
  },
  {
   "cell_type": "code",
   "execution_count": 3,
   "metadata": {},
   "outputs": [],
   "source": [
    "# Default settings for matplotlib figures\n",
    "import matplotlib as mpl\n",
    "\n",
    "# Choose how big to make figures. This will scale the text size.\n",
    "# mpl.rcParams['figure.figsize'] = (8, 6)\n",
    "\n",
    "# Set the DPI. This will change how big things appear in Jupyter lab\n",
    "# mpl.rcParams['figure.dpi'] = 120"
   ]
  },
  {
   "cell_type": "code",
   "execution_count": 4,
   "metadata": {},
   "outputs": [
    {
     "name": "stdout",
     "output_type": "stream",
     "text": [
      "Loading dataset...\n",
      "IDR:          BLACKSTON\n",
      "Phase range: [-5.0, 5.0]\n",
      "Center phase: 0.0\n",
      "Bin velocity: 1000.0\n"
     ]
    },
    {
     "name": "stderr",
     "output_type": "stream",
     "text": [
      "100%|██████████| 415/415 [00:19<00:00, 21.39it/s]\n"
     ]
    }
   ],
   "source": [
    "# a = ManifoldTwinsAnalysis(idr='HICKORY', verbosity=1)\n",
    "# a = ManifoldTwinsAnalysis(idr='CASCAD', verbosity=1)\n",
    "a = ManifoldTwinsAnalysis(idr='BLACKSTON', verbosity=1)\n",
    "# a = ManifoldTwinsAnalysis(idr='CASCAD', verbosity=1, bin_velocity=2000, max_count=100)"
   ]
  },
  {
   "cell_type": "markdown",
   "metadata": {},
   "source": [
    "# Run the analysis"
   ]
  },
  {
   "cell_type": "markdown",
   "metadata": {},
   "source": [
    "## Interpolate the spectra"
   ]
  },
  {
   "cell_type": "code",
   "execution_count": 5,
   "metadata": {},
   "outputs": [],
   "source": [
    "# Choose how much of the model to refit. For a full analysis, use 'refit' mode.\n",
    "# If you already ran everything with the exact same configuration, 'cached' will\n",
    "# load the previous result. If anything changed, 'cached_uncertainty' can be used\n",
    "# to keep the uncertainty model from the last fit (which takes a long time to fit,\n",
    "# and is very stable) but refit everything else. Don't use cached_uncertainty for\n",
    "# the final analysis, it is only for debugging!\n",
    "\n",
    "# fit_type = 'refit'              # Refit everything\n",
    "fit_type = 'cached'             # Use a full cached model that was previously fit.\n",
    "# fit_type = 'cached_uncertainty' # Use only the uncertainty from a cached model."
   ]
  },
  {
   "cell_type": "code",
   "execution_count": 6,
   "metadata": {},
   "outputs": [
    {
     "name": "stdout",
     "output_type": "stream",
     "text": [
      "Modeling maximum spectra with fit type 'cached'\n",
      "Using saved interpolation result\n",
      "Done!\n"
     ]
    }
   ],
   "source": [
    "print(\"Modeling maximum spectra with fit type '%s'\" % fit_type)\n",
    "\n",
    "if fit_type == 'refit':\n",
    "    a.model_maximum_spectra(use_cache=False)\n",
    "elif fit_type == 'cached':\n",
    "    a.model_maximum_spectra(use_cache=True)\n",
    "elif fit_type == 'cached_uncertainty':\n",
    "    a.model_maximum_spectra(use_cached_model_uncertainty=True)\n",
    "else:\n",
    "    print(\"Unknown fit type! Can't handle\")\n",
    "    \n",
    "print(\"Done!\")"
   ]
  },
  {
   "cell_type": "markdown",
   "metadata": {},
   "source": [
    "## Read between the lines"
   ]
  },
  {
   "cell_type": "code",
   "execution_count": 7,
   "metadata": {},
   "outputs": [
    {
     "name": "stdout",
     "output_type": "stream",
     "text": [
      "Loaded cached stan model\n",
      "Masking 26/203 targets whose interpolation uncertainty power is more than 0.100 of the intrinsic power.\n",
      "Done!\n"
     ]
    }
   ],
   "source": [
    "a.read_between_the_lines(fiducial_rv=2.8)\n",
    "\n",
    "print(\"Done!\")"
   ]
  },
  {
   "cell_type": "markdown",
   "metadata": {},
   "source": [
    "## Do embedding"
   ]
  },
  {
   "cell_type": "code",
   "execution_count": 8,
   "metadata": {},
   "outputs": [],
   "source": [
    "a.do_embedding()"
   ]
  },
  {
   "cell_type": "markdown",
   "metadata": {},
   "source": [
    "## Apply standardization"
   ]
  },
  {
   "cell_type": "code",
   "execution_count": 9,
   "metadata": {},
   "outputs": [
    {
     "name": "stdout",
     "output_type": "stream",
     "text": [
      "Fitting GP hyperparameters...\n",
      "Fit result:\n",
      "      fun: -60.581679263571836\n",
      " hess_inv: array([[ 0.01362433, -0.00157846,  0.00145199, -0.00682461],\n",
      "       [-0.00157846,  0.00042307, -0.00039574,  0.00117954],\n",
      "       [ 0.00145199, -0.00039574,  0.00097157, -0.0001324 ],\n",
      "       [-0.00682461,  0.00117954, -0.0001324 ,  0.04600174]])\n",
      "      jac: array([ 7.15255737e-06, -5.14984131e-05,  3.33786011e-06, -1.90734863e-06])\n",
      "  message: 'Desired error not necessarily achieved due to precision loss.'\n",
      "     nfev: 151\n",
      "      nit: 18\n",
      "     njev: 25\n",
      "   status: 2\n",
      "  success: False\n",
      "        x: array([-0.01267059,  0.0717383 ,  0.10495641,  2.7701184 ])\n",
      "Finite difference covariance step sizes: [1.60e-04 2.00e-05 4.00e-05 2.56e-03]\n",
      "Fit uncertainty: [0.072039   0.01213764 0.03502084 1.7357127 ]\n",
      "Fit NMAD:        0.0795786131480306\n",
      "Fit std:         0.09785320904372313\n"
     ]
    },
    {
     "data": {
      "application/vnd.jupyter.widget-view+json": {
       "model_id": "4a43243d183e49debe24debadb056d3b",
       "version_major": 2,
       "version_minor": 0
      },
      "text/plain": [
       "Canvas(toolbar=Toolbar(toolitems=[('Home', 'Reset original view', 'home', 'home'), ('Back', 'Back to previous …"
      ]
     },
     "metadata": {},
     "output_type": "display_data"
    }
   ],
   "source": [
    "a.fit_gp()\n",
    "# a.apply_polynomial_standardization(1)\n",
    "\n",
    "a.plot_gp()\n",
    "# a.plot_gp(show_mask=True)"
   ]
  },
  {
   "cell_type": "markdown",
   "metadata": {},
   "source": [
    "## Calculate SALT2 Hubble Residuals"
   ]
  },
  {
   "cell_type": "code",
   "execution_count": 10,
   "metadata": {},
   "outputs": [
    {
     "name": "stdout",
     "output_type": "stream",
     "text": [
      "Pass 0, MB=-10.430, alpha=0.146, beta=2.859\n",
      "  -> new intrinsic_dispersion=0.060\n",
      "Pass 1, MB=-10.430, alpha=0.146, beta=2.849\n",
      "  -> new intrinsic_dispersion=0.061\n",
      "Pass 2, MB=-10.430, alpha=0.146, beta=2.849\n",
      "  -> new intrinsic_dispersion=0.061\n",
      "Pass 3, MB=-10.430, alpha=0.146, beta=2.849\n",
      "  -> new intrinsic_dispersion=0.061\n",
      "Pass 4, MB=-10.430, alpha=0.146, beta=2.849\n",
      "  -> new intrinsic_dispersion=0.061\n",
      "SALT2 Hubble fit: \n",
      "    MB:    -10.429800911064664\n",
      "    alpha: 0.14614847400720346\n",
      "    beta:  2.8494438881071957\n",
      "    σ_int: 0.06054515590321616\n",
      "    RMS:   0.14844754353549483\n",
      "    NMAD:  0.12352716751123487\n",
      "    WRMS:  0.14645166479123886\n"
     ]
    }
   ],
   "source": [
    "a.calculate_salt_hubble_residuals()"
   ]
  },
  {
   "cell_type": "markdown",
   "metadata": {},
   "source": [
    "## Load host galaxy data"
   ]
  },
  {
   "cell_type": "code",
   "execution_count": 11,
   "metadata": {},
   "outputs": [],
   "source": [
    "a.load_host_data()"
   ]
  },
  {
   "cell_type": "markdown",
   "metadata": {},
   "source": [
    "# Interpolation plots"
   ]
  },
  {
   "cell_type": "markdown",
   "metadata": {},
   "source": [
    "## Examples of interpolations"
   ]
  },
  {
   "cell_type": "code",
   "execution_count": 61,
   "metadata": {},
   "outputs": [
    {
     "data": {
      "application/vnd.jupyter.widget-view+json": {
       "model_id": "a08f146c56b2425791f35d480705cc6f",
       "version_major": 2,
       "version_minor": 0
      },
      "text/plain": [
       "interactive(children=(IntSlider(value=101, description='idx', max=202), Checkbox(value=False, description='sav…"
      ]
     },
     "metadata": {},
     "output_type": "display_data"
    },
    {
     "data": {
      "text/plain": [
       "<function __main__.plot_same_night(idx, save=False)>"
      ]
     },
     "execution_count": 61,
     "metadata": {},
     "output_type": "execute_result"
    }
   ],
   "source": [
    "def plot_same_night(idx, save=False):\n",
    "    night_flux = a.flux[a.target_map == idx]\n",
    "    phases = a.salt_phases[a.target_map == idx]\n",
    "    model = a.interpolation_result['maximum_flux'][idx]\n",
    "    model_err = a.interpolation_result['maximum_fluxerr'][idx]\n",
    "    plt.figure()\n",
    "    for flux, phase in zip(night_flux, phases):\n",
    "        plt.plot(a.wave, flux, label='Data (%.2f days)' % phase)\n",
    "    plt.plot(a.wave, model, c='k', ls='--', label='Model (0 days)')\n",
    "    plt.fill_between(a.wave, model - model_err, model + model_err, facecolor='k', alpha=0.3)\n",
    "    plt.legend()\n",
    "    plt.title(a.targets[idx])\n",
    "    plt.xlabel('Wavelength ($\\AA$)')\n",
    "    plt.ylabel('Flux')\n",
    "    \n",
    "    if save:\n",
    "        plt.savefig('./figures/interpolation_model_%s.pdf' % a.targets[idx])\n",
    "    \n",
    "    # plt.figure()\n",
    "    # shift_frac = (a.interpolation_result['shift_fluxerr'] / a.interpolation_result['shift_flux'])[a.target_map == idx]\n",
    "    # plt.plot(a.wave, shift_frac.T)\n",
    "    # orig_frac = (a.fluxerr / a.flux)[a.target_map == idx]\n",
    "    # plt.plot(a.wave, orig_frac.T, ls='--')\n",
    "    \n",
    "    \n",
    "    phase_slope = a.interpolation_result['phase_slope']\n",
    "    phase_quadratic = a.interpolation_result['phase_quadratic']\n",
    "    gray_offsets = a.interpolation_result['gray_offsets'][a.target_map == idx]\n",
    "    model_diffs = a.interpolation_result['model_diffs'][a.target_map == idx]\n",
    "    \n",
    "    plt.figure()\n",
    "    for i, (flux, phase, gray_offset, model_diff) in enumerate(zip(night_flux, phases, gray_offsets, model_diffs)):\n",
    "        plt.plot(a.wave, -2.5*np.log10(flux / model), label='Data (%.2f days)' % phase, c='C%d' % i)\n",
    "    for i, (flux, phase, gray_offset, model_diff) in enumerate(zip(night_flux, phases, gray_offsets, model_diffs)):\n",
    "        plt.plot(a.wave, model_diff, label='Model (%.2f days)' % phase, c='C%d' % i, ls='--')\n",
    "    plt.legend(ncol=2, loc=1)\n",
    "    plt.title(a.targets[idx])\n",
    "    plt.xlabel('Wavelength ($\\AA$)')\n",
    "    plt.ylabel('Difference from maximum light (mag)')\n",
    "    \n",
    "    if save:\n",
    "        plt.savefig('./figures/interpolation_difference_%s.pdf' % a.targets[idx])\n",
    "    \n",
    "    plt.figure()\n",
    "    for i, (flux, phase, gray_offset, model_diff) in enumerate(zip(night_flux, phases, gray_offsets, model_diffs)):\n",
    "        plt.plot(a.wave, -2.5*np.log10(flux / model) - model_diff, label='Residuals (%.2f days)' % phase, c='C%d' % i)\n",
    "    plt.legend()\n",
    "    plt.title(a.targets[idx])\n",
    "    plt.xlabel('Wavelength ($\\AA$)')\n",
    "    plt.ylabel('Interpolation residuals (mag)')\n",
    "    \n",
    "    if save:\n",
    "        plt.savefig('./figures/interpolation_residuals_%s.pdf' % a.targets[idx])\n",
    "    \n",
    "from ipywidgets import interact\n",
    "interact(plot_same_night, idx=(0, len(a.targets)-1))"
   ]
  },
  {
   "cell_type": "code",
   "execution_count": 62,
   "metadata": {},
   "outputs": [
    {
     "name": "stderr",
     "output_type": "stream",
     "text": [
      "/home/kyle/packages/conda/lib/python3.7/site-packages/ipykernel_launcher.py:6: RuntimeWarning: More than 20 figures have been opened. Figures created through the pyplot interface (`matplotlib.pyplot.figure`) are retained until explicitly closed and may consume too much memory. (To control this warning, see the rcParam `figure.max_open_warning`).\n",
      "  \n"
     ]
    },
    {
     "data": {
      "application/vnd.jupyter.widget-view+json": {
       "model_id": "e3ef4f2a37444740b60c67d4e18d3d22",
       "version_major": 2,
       "version_minor": 0
      },
      "text/plain": [
       "Canvas(toolbar=Toolbar(toolitems=[('Home', 'Reset original view', 'home', 'home'), ('Back', 'Back to previous …"
      ]
     },
     "metadata": {},
     "output_type": "display_data"
    },
    {
     "name": "stderr",
     "output_type": "stream",
     "text": [
      "/home/kyle/packages/conda/lib/python3.7/site-packages/ipykernel_launcher.py:31: RuntimeWarning: More than 20 figures have been opened. Figures created through the pyplot interface (`matplotlib.pyplot.figure`) are retained until explicitly closed and may consume too much memory. (To control this warning, see the rcParam `figure.max_open_warning`).\n"
     ]
    },
    {
     "data": {
      "application/vnd.jupyter.widget-view+json": {
       "model_id": "fb0c937b0def4faf95fd05056cde9c7b",
       "version_major": 2,
       "version_minor": 0
      },
      "text/plain": [
       "Canvas(toolbar=Toolbar(toolitems=[('Home', 'Reset original view', 'home', 'home'), ('Back', 'Back to previous …"
      ]
     },
     "metadata": {},
     "output_type": "display_data"
    },
    {
     "name": "stderr",
     "output_type": "stream",
     "text": [
      "/home/kyle/packages/conda/lib/python3.7/site-packages/ipykernel_launcher.py:44: RuntimeWarning: More than 20 figures have been opened. Figures created through the pyplot interface (`matplotlib.pyplot.figure`) are retained until explicitly closed and may consume too much memory. (To control this warning, see the rcParam `figure.max_open_warning`).\n"
     ]
    },
    {
     "data": {
      "application/vnd.jupyter.widget-view+json": {
       "model_id": "2b2062a8fbf145a2921f4cb752d83098",
       "version_major": 2,
       "version_minor": 0
      },
      "text/plain": [
       "Canvas(toolbar=Toolbar(toolitems=[('Home', 'Reset original view', 'home', 'home'), ('Back', 'Back to previous …"
      ]
     },
     "metadata": {},
     "output_type": "display_data"
    },
    {
     "name": "stderr",
     "output_type": "stream",
     "text": [
      "/home/kyle/packages/conda/lib/python3.7/site-packages/ipykernel_launcher.py:6: RuntimeWarning: More than 20 figures have been opened. Figures created through the pyplot interface (`matplotlib.pyplot.figure`) are retained until explicitly closed and may consume too much memory. (To control this warning, see the rcParam `figure.max_open_warning`).\n",
      "  \n"
     ]
    },
    {
     "data": {
      "application/vnd.jupyter.widget-view+json": {
       "model_id": "657746fce70c416a8c054ef4f546acfe",
       "version_major": 2,
       "version_minor": 0
      },
      "text/plain": [
       "Canvas(toolbar=Toolbar(toolitems=[('Home', 'Reset original view', 'home', 'home'), ('Back', 'Back to previous …"
      ]
     },
     "metadata": {},
     "output_type": "display_data"
    },
    {
     "name": "stderr",
     "output_type": "stream",
     "text": [
      "/home/kyle/packages/conda/lib/python3.7/site-packages/ipykernel_launcher.py:31: RuntimeWarning: More than 20 figures have been opened. Figures created through the pyplot interface (`matplotlib.pyplot.figure`) are retained until explicitly closed and may consume too much memory. (To control this warning, see the rcParam `figure.max_open_warning`).\n"
     ]
    },
    {
     "data": {
      "application/vnd.jupyter.widget-view+json": {
       "model_id": "90ceced159414cb99ed7c517c1c7f7e3",
       "version_major": 2,
       "version_minor": 0
      },
      "text/plain": [
       "Canvas(toolbar=Toolbar(toolitems=[('Home', 'Reset original view', 'home', 'home'), ('Back', 'Back to previous …"
      ]
     },
     "metadata": {},
     "output_type": "display_data"
    },
    {
     "name": "stderr",
     "output_type": "stream",
     "text": [
      "/home/kyle/packages/conda/lib/python3.7/site-packages/ipykernel_launcher.py:44: RuntimeWarning: More than 20 figures have been opened. Figures created through the pyplot interface (`matplotlib.pyplot.figure`) are retained until explicitly closed and may consume too much memory. (To control this warning, see the rcParam `figure.max_open_warning`).\n"
     ]
    },
    {
     "data": {
      "application/vnd.jupyter.widget-view+json": {
       "model_id": "c052b1523a38429794e69a2172311c5e",
       "version_major": 2,
       "version_minor": 0
      },
      "text/plain": [
       "Canvas(toolbar=Toolbar(toolitems=[('Home', 'Reset original view', 'home', 'home'), ('Back', 'Back to previous …"
      ]
     },
     "metadata": {},
     "output_type": "display_data"
    }
   ],
   "source": [
    "plot_targets = ['PTF13ayw', 'SN2004gc']\n",
    "for plot_target in plot_targets:\n",
    "    target_names = np.array([i.name for i in a.targets])\n",
    "    plot_idx = np.where(target_names == plot_target)[0][0]\n",
    "\n",
    "    plot_same_night(plot_idx, save=True)"
   ]
  },
  {
   "cell_type": "markdown",
   "metadata": {},
   "source": [
    "## Interpolation model"
   ]
  },
  {
   "cell_type": "code",
   "execution_count": 63,
   "metadata": {},
   "outputs": [
    {
     "name": "stderr",
     "output_type": "stream",
     "text": [
      "/home/kyle/packages/conda/lib/python3.7/site-packages/ipykernel_launcher.py:22: RuntimeWarning: More than 20 figures have been opened. Figures created through the pyplot interface (`matplotlib.pyplot.figure`) are retained until explicitly closed and may consume too much memory. (To control this warning, see the rcParam `figure.max_open_warning`).\n"
     ]
    },
    {
     "data": {
      "application/vnd.jupyter.widget-view+json": {
       "model_id": "22a186ac0e414f15957e52d0af91f1e0",
       "version_major": 2,
       "version_minor": 0
      },
      "text/plain": [
       "Canvas(toolbar=Toolbar(toolitems=[('Home', 'Reset original view', 'home', 'home'), ('Back', 'Back to previous …"
      ]
     },
     "metadata": {},
     "output_type": "display_data"
    },
    {
     "name": "stderr",
     "output_type": "stream",
     "text": [
      "/home/kyle/packages/conda/lib/python3.7/site-packages/ipykernel_launcher.py:48: RuntimeWarning: More than 20 figures have been opened. Figures created through the pyplot interface (`matplotlib.pyplot.figure`) are retained until explicitly closed and may consume too much memory. (To control this warning, see the rcParam `figure.max_open_warning`).\n"
     ]
    },
    {
     "data": {
      "application/vnd.jupyter.widget-view+json": {
       "model_id": "9c9af51e0d0643d8b2ab6a41c3173108",
       "version_major": 2,
       "version_minor": 0
      },
      "text/plain": [
       "Canvas(toolbar=Toolbar(toolitems=[('Home', 'Reset original view', 'home', 'home'), ('Back', 'Back to previous …"
      ]
     },
     "metadata": {},
     "output_type": "display_data"
    },
    {
     "name": "stderr",
     "output_type": "stream",
     "text": [
      "/home/kyle/packages/conda/lib/python3.7/site-packages/ipykernel_launcher.py:48: RuntimeWarning: More than 20 figures have been opened. Figures created through the pyplot interface (`matplotlib.pyplot.figure`) are retained until explicitly closed and may consume too much memory. (To control this warning, see the rcParam `figure.max_open_warning`).\n"
     ]
    },
    {
     "data": {
      "application/vnd.jupyter.widget-view+json": {
       "model_id": "1023a767e48c457f84107b540cc44f6a",
       "version_major": 2,
       "version_minor": 0
      },
      "text/plain": [
       "Canvas(toolbar=Toolbar(toolitems=[('Home', 'Reset original view', 'home', 'home'), ('Back', 'Back to previous …"
      ]
     },
     "metadata": {},
     "output_type": "display_data"
    },
    {
     "name": "stderr",
     "output_type": "stream",
     "text": [
      "/home/kyle/packages/conda/lib/python3.7/site-packages/ipykernel_launcher.py:48: RuntimeWarning: More than 20 figures have been opened. Figures created through the pyplot interface (`matplotlib.pyplot.figure`) are retained until explicitly closed and may consume too much memory. (To control this warning, see the rcParam `figure.max_open_warning`).\n"
     ]
    },
    {
     "data": {
      "application/vnd.jupyter.widget-view+json": {
       "model_id": "248c7590ffc74e4b80611b0abd2d4ec3",
       "version_major": 2,
       "version_minor": 0
      },
      "text/plain": [
       "Canvas(toolbar=Toolbar(toolitems=[('Home', 'Reset original view', 'home', 'home'), ('Back', 'Back to previous …"
      ]
     },
     "metadata": {},
     "output_type": "display_data"
    },
    {
     "name": "stderr",
     "output_type": "stream",
     "text": [
      "/home/kyle/packages/conda/lib/python3.7/site-packages/ipykernel_launcher.py:48: RuntimeWarning: More than 20 figures have been opened. Figures created through the pyplot interface (`matplotlib.pyplot.figure`) are retained until explicitly closed and may consume too much memory. (To control this warning, see the rcParam `figure.max_open_warning`).\n"
     ]
    },
    {
     "data": {
      "application/vnd.jupyter.widget-view+json": {
       "model_id": "fe79a61ee72d47acbbc16533492ac217",
       "version_major": 2,
       "version_minor": 0
      },
      "text/plain": [
       "Canvas(toolbar=Toolbar(toolitems=[('Home', 'Reset original view', 'home', 'home'), ('Back', 'Back to previous …"
      ]
     },
     "metadata": {},
     "output_type": "display_data"
    },
    {
     "name": "stderr",
     "output_type": "stream",
     "text": [
      "/home/kyle/packages/conda/lib/python3.7/site-packages/ipykernel_launcher.py:48: RuntimeWarning: More than 20 figures have been opened. Figures created through the pyplot interface (`matplotlib.pyplot.figure`) are retained until explicitly closed and may consume too much memory. (To control this warning, see the rcParam `figure.max_open_warning`).\n"
     ]
    },
    {
     "data": {
      "application/vnd.jupyter.widget-view+json": {
       "model_id": "01547c334e2441b68920814436746274",
       "version_major": 2,
       "version_minor": 0
      },
      "text/plain": [
       "Canvas(toolbar=Toolbar(toolitems=[('Home', 'Reset original view', 'home', 'home'), ('Back', 'Back to previous …"
      ]
     },
     "metadata": {},
     "output_type": "display_data"
    },
    {
     "name": "stderr",
     "output_type": "stream",
     "text": [
      "/home/kyle/packages/conda/lib/python3.7/site-packages/ipykernel_launcher.py:48: RuntimeWarning: More than 20 figures have been opened. Figures created through the pyplot interface (`matplotlib.pyplot.figure`) are retained until explicitly closed and may consume too much memory. (To control this warning, see the rcParam `figure.max_open_warning`).\n"
     ]
    },
    {
     "data": {
      "application/vnd.jupyter.widget-view+json": {
       "model_id": "bc092484c6f144718ac85e175dec6050",
       "version_major": 2,
       "version_minor": 0
      },
      "text/plain": [
       "Canvas(toolbar=Toolbar(toolitems=[('Home', 'Reset original view', 'home', 'home'), ('Back', 'Back to previous …"
      ]
     },
     "metadata": {},
     "output_type": "display_data"
    }
   ],
   "source": [
    "phase_slope = a.interpolation_result['phase_slope']\n",
    "phase_quadratic = a.interpolation_result['phase_quadratic']\n",
    "phase_slope_x1 = a.interpolation_result['phase_slope_x1']\n",
    "phase_quadratic_x1 = a.interpolation_result['phase_quadratic_x1']\n",
    "\n",
    "def evaluate_phase_difference(phase, x1=0):\n",
    "    phase_difference = (\n",
    "        phase_slope * phase\n",
    "        + phase_quadratic * phase * phase\n",
    "        + phase_slope_x1 * x1 * phase\n",
    "        + phase_quadratic_x1 * x1 * phase * phase\n",
    "    )\n",
    "    \n",
    "    return phase_difference\n",
    "\n",
    "# Look at change in phase for the same x1\n",
    "max_phase = a.phase_width\n",
    "min_phase = -a.phase_width\n",
    "num_phases = 10\n",
    "phases = np.linspace(min_phase, max_phase, num_phases)\n",
    "\n",
    "plt.figure(figsize=(8, 5))\n",
    "norm = plt.Normalize(vmin=min_phase, vmax=max_phase)\n",
    "cmap = plt.cm.Spectral_r\n",
    "sm = plt.cm.ScalarMappable(cmap=cmap, norm=norm)\n",
    "sm.set_array(phases)\n",
    "\n",
    "for phase in phases:\n",
    "    plt.plot(a.wave, evaluate_phase_difference(phase), c=cmap(norm(phase)))\n",
    "    \n",
    "plt.colorbar(sm, label='Phase (days)')\n",
    "\n",
    "# plt.xlim(-5.2, 5.2)\n",
    "plt.xlabel('Wavelength ($\\AA$)')\n",
    "plt.ylabel('Difference relative to maximum B-band light (mag)')\n",
    "plt.gca().invert_yaxis()\n",
    "plt.tight_layout()\n",
    "plt.savefig('./figures/interpolation_phase_difference.pdf')\n",
    "\n",
    "\n",
    "def plot_x1_difference(phase):\n",
    "    # Look at change in phase for the same x1\n",
    "    min_x1 = -2\n",
    "    max_x1 = 2\n",
    "    num_x1s = 10\n",
    "    x1s = np.linspace(min_x1, max_x1, num_x1s)\n",
    "\n",
    "    plt.figure(figsize=(6, 4))\n",
    "    norm = plt.Normalize(vmin=min_x1, vmax=max_x1)\n",
    "    cmap = plt.cm.Spectral_r\n",
    "    sm = plt.cm.ScalarMappable(cmap=cmap, norm=norm)\n",
    "    sm.set_array(x1s)\n",
    "\n",
    "    for x1 in x1s:\n",
    "        plt.plot(a.wave, evaluate_phase_difference(phase, x1) - evaluate_phase_difference(phase, 0), c=cmap(norm(x1)))\n",
    "\n",
    "    plt.colorbar(sm, label='SALT2 $x_1$')\n",
    "\n",
    "    plt.xlabel('Wavelength ($\\AA$)')\n",
    "    plt.ylabel('Difference relative to $x_1=0$ (mag)')\n",
    "    plt.title('Difference in interpolation at %+d days' % phase)\n",
    "    # plt.gca().invert_yaxis()\n",
    "    plt.ylim(0.4, -0.4)\n",
    "    plt.tight_layout()\n",
    "    plt.savefig('./figures/interpolation_x1_difference_phase_%d.pdf' % phase)\n",
    "    \n",
    "for phase in [-5, -3, -1, 1, 3, 5]:\n",
    "    plot_x1_difference(phase)"
   ]
  },
  {
   "cell_type": "markdown",
   "metadata": {},
   "source": [
    "## Gray dispersion"
   ]
  },
  {
   "cell_type": "code",
   "execution_count": 64,
   "metadata": {},
   "outputs": [
    {
     "name": "stdout",
     "output_type": "stream",
     "text": [
      "0.026718300798931068\n"
     ]
    }
   ],
   "source": [
    "print(a.interpolation_result['gray_dispersion_scale'])"
   ]
  },
  {
   "cell_type": "code",
   "execution_count": 65,
   "metadata": {},
   "outputs": [
    {
     "name": "stderr",
     "output_type": "stream",
     "text": [
      "/home/kyle/packages/conda/lib/python3.7/site-packages/ipykernel_launcher.py:1: RuntimeWarning: More than 20 figures have been opened. Figures created through the pyplot interface (`matplotlib.pyplot.figure`) are retained until explicitly closed and may consume too much memory. (To control this warning, see the rcParam `figure.max_open_warning`).\n",
      "  \"\"\"Entry point for launching an IPython kernel.\n"
     ]
    },
    {
     "data": {
      "application/vnd.jupyter.widget-view+json": {
       "model_id": "573e5ed6f0874ddab18b108d667d0b52",
       "version_major": 2,
       "version_minor": 0
      },
      "text/plain": [
       "Canvas(toolbar=Toolbar(toolitems=[('Home', 'Reset original view', 'home', 'home'), ('Back', 'Back to previous …"
      ]
     },
     "metadata": {},
     "output_type": "display_data"
    }
   ],
   "source": [
    "plt.figure()\n",
    "plt.scatter(a.salt_phases, a.interpolation_result['gray_offsets'], s=3, label='Individual spectra')\n",
    "math.plot_binned_mean(a.salt_phases, a.interpolation_result['gray_offsets'], c='C2', lw=2, label='Binned mean')\n",
    "math.plot_binned_rms(a.salt_phases, a.interpolation_result['gray_offsets'], c='C3', lw=2, label='Binned RMS')\n",
    "plt.xlabel('SALT2 Phase (days)')\n",
    "plt.ylabel('Gray offset (mag)')\n",
    "plt.legend()\n",
    "plt.savefig('./figures/gray_offset_vs_phase.pdf')"
   ]
  },
  {
   "cell_type": "markdown",
   "metadata": {},
   "source": [
    "## Interpolation uncertainty"
   ]
  },
  {
   "cell_type": "code",
   "execution_count": 66,
   "metadata": {},
   "outputs": [
    {
     "name": "stderr",
     "output_type": "stream",
     "text": [
      "/home/kyle/packages/conda/lib/python3.7/site-packages/ipykernel_launcher.py:42: RuntimeWarning: More than 20 figures have been opened. Figures created through the pyplot interface (`matplotlib.pyplot.figure`) are retained until explicitly closed and may consume too much memory. (To control this warning, see the rcParam `figure.max_open_warning`).\n"
     ]
    },
    {
     "data": {
      "application/vnd.jupyter.widget-view+json": {
       "model_id": "41d47d6b6f54431f94a54ec731b9280b",
       "version_major": 2,
       "version_minor": 0
      },
      "text/plain": [
       "Canvas(toolbar=Toolbar(toolitems=[('Home', 'Reset original view', 'home', 'home'), ('Back', 'Back to previous …"
      ]
     },
     "metadata": {},
     "output_type": "display_data"
    },
    {
     "name": "stderr",
     "output_type": "stream",
     "text": [
      "/home/kyle/packages/conda/lib/python3.7/site-packages/ipykernel_launcher.py:60: RuntimeWarning: More than 20 figures have been opened. Figures created through the pyplot interface (`matplotlib.pyplot.figure`) are retained until explicitly closed and may consume too much memory. (To control this warning, see the rcParam `figure.max_open_warning`).\n"
     ]
    },
    {
     "data": {
      "application/vnd.jupyter.widget-view+json": {
       "model_id": "f82fffe82cba410187b5763a3e9d2848",
       "version_major": 2,
       "version_minor": 0
      },
      "text/plain": [
       "Canvas(toolbar=Toolbar(toolitems=[('Home', 'Reset original view', 'home', 'home'), ('Back', 'Back to previous …"
      ]
     },
     "metadata": {},
     "output_type": "display_data"
    }
   ],
   "source": [
    "try:\n",
    "    coefs = a.interpolation_result['phase_dispersion_coefficients']\n",
    "except KeyError:\n",
    "    coefs = a.stan_data['phase_dispersion_coefficients']\n",
    "num_phase_coefficients = len(coefs)\n",
    "\n",
    "def evaluate_phase_dispersion(phase):\n",
    "    phase_scale = np.abs((num_phase_coefficients / 2) * (phase / a.phase_width))\n",
    "    full_bins = int(np.floor(phase_scale))\n",
    "    remainder = phase_scale - full_bins\n",
    "    \n",
    "    phase_coefficients = np.zeros(num_phase_coefficients)\n",
    "    \n",
    "    for j in range(full_bins + 1):\n",
    "        if j == full_bins:\n",
    "            weight = remainder\n",
    "        else:\n",
    "            weight = 1\n",
    "            \n",
    "        if weight == 0:\n",
    "            break\n",
    "            \n",
    "        if phase > 0:\n",
    "            phase_bin = num_phase_coefficients // 2 + j\n",
    "        else:\n",
    "            phase_bin = num_phase_coefficients // 2 - 1 - j\n",
    "            \n",
    "        phase_coefficients[phase_bin] = weight\n",
    "        \n",
    "    fractional_dispersion = phase_coefficients.dot(coefs)\n",
    "    \n",
    "    # Convert to magnitudes\n",
    "    mag_dispersion = frac_to_mag(fractional_dispersion)\n",
    "    \n",
    "    return mag_dispersion\n",
    "\n",
    "phases = np.linspace(-a.phase_width, a.phase_width, 1 + num_phase_coefficients)\n",
    "\n",
    "eval_coefs = np.array([evaluate_phase_dispersion(phase) for phase in phases])\n",
    "\n",
    "# Uncertainties for different wavelengths\n",
    "plt.figure()\n",
    "num_wave = 10\n",
    "for i in range(num_wave):\n",
    "    min_wave = a.wave[0]\n",
    "    max_wave = a.wave[-1]\n",
    "    wave_range = max_wave - min_wave\n",
    "    target_wave = min_wave + wave_range * i / (num_wave - 1)\n",
    "    idx = np.argmin(np.abs(a.wave - target_wave))\n",
    "    use_wave = a.wave[idx]\n",
    "    color = plt.cm.rainbow((use_wave - min_wave) / wave_range)\n",
    "    plt.plot(phases, eval_coefs[:, idx], label='%d $\\AA$' % use_wave, c=color)\n",
    "    \n",
    "plt.xlim(-5.2, 5.2)\n",
    "plt.xlabel('Phase (days)')\n",
    "plt.ylabel('Interpolation uncertainty (mag)')\n",
    "plt.legend()\n",
    "plt.savefig('./figures/interpolation_uncertainty_phase.pdf')\n",
    "\n",
    "plt.figure()\n",
    "for i in range(len(phases)):\n",
    "    plt.plot(a.wave, eval_coefs[i], label='%.2f days' % phases[i])\n",
    "plt.legend()\n",
    "plt.xlabel('Wavelength $(\\AA$)')\n",
    "plt.ylabel('Interpolation uncertainty (mag)')\n",
    "plt.savefig('./figures/interpolation_uncertainty_wavelength.pdf')"
   ]
  },
  {
   "cell_type": "markdown",
   "metadata": {},
   "source": [
    "## Model accuracy"
   ]
  },
  {
   "cell_type": "code",
   "execution_count": 67,
   "metadata": {},
   "outputs": [
    {
     "name": "stderr",
     "output_type": "stream",
     "text": [
      "/home/kyle/packages/conda/lib/python3.7/site-packages/ipykernel_launcher.py:9: RuntimeWarning: More than 20 figures have been opened. Figures created through the pyplot interface (`matplotlib.pyplot.figure`) are retained until explicitly closed and may consume too much memory. (To control this warning, see the rcParam `figure.max_open_warning`).\n",
      "  if __name__ == '__main__':\n"
     ]
    },
    {
     "data": {
      "application/vnd.jupyter.widget-view+json": {
       "model_id": "d7d3b56becce457086c16676e7d377c7",
       "version_major": 2,
       "version_minor": 0
      },
      "text/plain": [
       "Canvas(toolbar=Toolbar(toolitems=[('Home', 'Reset original view', 'home', 'home'), ('Back', 'Back to previous …"
      ]
     },
     "metadata": {},
     "output_type": "display_data"
    },
    {
     "name": "stderr",
     "output_type": "stream",
     "text": [
      "/home/kyle/packages/conda/lib/python3.7/site-packages/ipykernel_launcher.py:9: RuntimeWarning: More than 20 figures have been opened. Figures created through the pyplot interface (`matplotlib.pyplot.figure`) are retained until explicitly closed and may consume too much memory. (To control this warning, see the rcParam `figure.max_open_warning`).\n",
      "  if __name__ == '__main__':\n"
     ]
    },
    {
     "data": {
      "application/vnd.jupyter.widget-view+json": {
       "model_id": "0ddbc5ddd52d432daa3d6c8807b95813",
       "version_major": 2,
       "version_minor": 0
      },
      "text/plain": [
       "Canvas(toolbar=Toolbar(toolitems=[('Home', 'Reset original view', 'home', 'home'), ('Back', 'Back to previous …"
      ]
     },
     "metadata": {},
     "output_type": "display_data"
    },
    {
     "name": "stderr",
     "output_type": "stream",
     "text": [
      "/home/kyle/packages/conda/lib/python3.7/site-packages/ipykernel_launcher.py:38: RuntimeWarning: More than 20 figures have been opened. Figures created through the pyplot interface (`matplotlib.pyplot.figure`) are retained until explicitly closed and may consume too much memory. (To control this warning, see the rcParam `figure.max_open_warning`).\n"
     ]
    },
    {
     "data": {
      "application/vnd.jupyter.widget-view+json": {
       "model_id": "84f02f779a9941f58a1a1332a9a6fb8d",
       "version_major": 2,
       "version_minor": 0
      },
      "text/plain": [
       "Canvas(toolbar=Toolbar(toolitems=[('Home', 'Reset original view', 'home', 'home'), ('Back', 'Back to previous …"
      ]
     },
     "metadata": {},
     "output_type": "display_data"
    },
    {
     "name": "stderr",
     "output_type": "stream",
     "text": [
      "/home/kyle/packages/conda/lib/python3.7/site-packages/ipykernel_launcher.py:54: RuntimeWarning: More than 20 figures have been opened. Figures created through the pyplot interface (`matplotlib.pyplot.figure`) are retained until explicitly closed and may consume too much memory. (To control this warning, see the rcParam `figure.max_open_warning`).\n"
     ]
    },
    {
     "data": {
      "application/vnd.jupyter.widget-view+json": {
       "model_id": "1c8ab9cc12b7495e80dbc2bfee5edebb",
       "version_major": 2,
       "version_minor": 0
      },
      "text/plain": [
       "Canvas(toolbar=Toolbar(toolitems=[('Home', 'Reset original view', 'home', 'home'), ('Back', 'Back to previous …"
      ]
     },
     "metadata": {},
     "output_type": "display_data"
    }
   ],
   "source": [
    "max_flux = a.interpolation_result['maximum_flux']\n",
    "max_fluxerr = a.interpolation_result['maximum_fluxerr']\n",
    "\n",
    "max_magerr = frac_to_mag(max_fluxerr / max_flux)\n",
    "\n",
    "rbtl_dispersion = frac_to_mag(a.rbtl_result['fractional_dispersion'])\n",
    "\n",
    "def plot_uncertainties(show_rbtl=False):\n",
    "    plt.figure(figsize=(8, 5))\n",
    "    offset = 29\n",
    "    \n",
    "    # Make sure that we include the worst offender.\n",
    "    max_loc = np.argmax(np.sum(max_magerr**2, axis=1))\n",
    "    start = max_loc % offset\n",
    "    \n",
    "    for idx in range(start, len(a.targets), offset):\n",
    "        plt.plot(a.wave, max_magerr[idx], label=a.targets[idx].name)\n",
    "    plt.legend(ncol=2)\n",
    "    \n",
    "    plt.xlabel('Wavelength ($\\AA$)')\n",
    "    \n",
    "    if show_rbtl:\n",
    "        plt.plot(a.wave, rbtl_dispersion, label='Supernova intrinsic dispersion', c='k', lw=2, ls='--')\n",
    "        plt.ylabel('Dispersion (mag)')\n",
    "        path = './figures/interpolation_uncertainty_rbtl.pdf'\n",
    "    else:\n",
    "        plt.ylabel('Uncertainty on $f_{max}$ (mag)')\n",
    "        path = './figures/interpolation_uncertainty_norbtl.pdf'\n",
    "        \n",
    "    plt.legend(ncol=2)\n",
    "    plt.tight_layout()\n",
    "    plt.savefig(path)\n",
    "        \n",
    "plot_uncertainties(False)\n",
    "plot_uncertainties(True)\n",
    "\n",
    "\n",
    "plt.figure(figsize=(8, 5))\n",
    "for idx in range(len(a.targets)):\n",
    "    if idx == 0:\n",
    "        label = 'Individual uncertainties of $f_{max}$'\n",
    "    else:\n",
    "        label = ''\n",
    "    plt.plot(a.wave, max_magerr[idx], label=label, alpha=0.02, c='C0')\n",
    "plt.plot(a.wave, rbtl_dispersion, label='Supernova intrinsic dispersion', lw=2, ls='--', c='k')\n",
    "plt.plot(a.wave, np.median(max_magerr, axis=0), label='Median uncertainty on $f_{max}$', lw=2, ls='--', c='C0')\n",
    "plt.plot(a.wave, np.max(max_magerr, axis=0), label='Maximum uncertainty on $f_{max}$', c='C1')\n",
    "plt.legend()\n",
    "plt.ylabel('Dispersion (magnitude)')\n",
    "plt.xlabel('Wavelength ($\\AA$)')\n",
    "plt.tight_layout()\n",
    "plt.savefig('./figures/interpolation_uncertainty_median.pdf')\n",
    "\n",
    "plt.figure(figsize=(8, 5))\n",
    "plt.plot(a.wave, rbtl_dispersion, label='Supernova intrinsic dispersion', lw=2, ls='--', c='k')\n",
    "plt.plot(a.wave, np.min(max_magerr, axis=0), label='Lowest uncertainty on $f_{max}$')\n",
    "for percentile in (25, 50, 75):\n",
    "    plt.plot(a.wave, np.percentile(max_magerr, percentile, axis=0), label='%dth percentile uncertainty on $f_{max}$' % percentile)\n",
    "plt.plot(a.wave, np.max(max_magerr, axis=0), label='Highest uncertainty on $f_{max}$')\n",
    "plt.legend(ncol=2)\n",
    "plt.ylabel('Dispersion (magnitude)')\n",
    "plt.xlabel('Wavelength ($\\AA$)')\n",
    "plt.tight_layout()\n",
    "plt.savefig('./figures/interpolation_uncertainty_percentile.pdf')"
   ]
  },
  {
   "cell_type": "markdown",
   "metadata": {},
   "source": [
    "## Contribution to the total interpolation uncertainty from various sources"
   ]
  },
  {
   "cell_type": "code",
   "execution_count": 68,
   "metadata": {},
   "outputs": [
    {
     "name": "stdout",
     "output_type": "stream",
     "text": [
      "-1.8849701693176097\n",
      "1.3058289416891107\n"
     ]
    },
    {
     "name": "stderr",
     "output_type": "stream",
     "text": [
      "/home/kyle/packages/conda/lib/python3.7/site-packages/ipykernel_launcher.py:50: RuntimeWarning: More than 20 figures have been opened. Figures created through the pyplot interface (`matplotlib.pyplot.figure`) are retained until explicitly closed and may consume too much memory. (To control this warning, see the rcParam `figure.max_open_warning`).\n"
     ]
    },
    {
     "data": {
      "application/vnd.jupyter.widget-view+json": {
       "model_id": "f74eedceb75a4e4e98027fc725b77d2a",
       "version_major": 2,
       "version_minor": 0
      },
      "text/plain": [
       "Canvas(toolbar=Toolbar(toolitems=[('Home', 'Reset original view', 'home', 'home'), ('Back', 'Back to previous …"
      ]
     },
     "metadata": {},
     "output_type": "display_data"
    },
    {
     "name": "stdout",
     "output_type": "stream",
     "text": [
      "-1.8849701693176097\n",
      "1.3058289416891107\n"
     ]
    },
    {
     "name": "stderr",
     "output_type": "stream",
     "text": [
      "/home/kyle/packages/conda/lib/python3.7/site-packages/ipykernel_launcher.py:50: RuntimeWarning: More than 20 figures have been opened. Figures created through the pyplot interface (`matplotlib.pyplot.figure`) are retained until explicitly closed and may consume too much memory. (To control this warning, see the rcParam `figure.max_open_warning`).\n"
     ]
    },
    {
     "data": {
      "application/vnd.jupyter.widget-view+json": {
       "model_id": "82e7b016bb354bb99fb7037b57904c94",
       "version_major": 2,
       "version_minor": 0
      },
      "text/plain": [
       "Canvas(toolbar=Toolbar(toolitems=[('Home', 'Reset original view', 'home', 'home'), ('Back', 'Back to previous …"
      ]
     },
     "metadata": {},
     "output_type": "display_data"
    },
    {
     "name": "stdout",
     "output_type": "stream",
     "text": [
      "-1.8849701693176097\n",
      "1.3058289416891107\n"
     ]
    },
    {
     "name": "stderr",
     "output_type": "stream",
     "text": [
      "/home/kyle/packages/conda/lib/python3.7/site-packages/ipykernel_launcher.py:50: RuntimeWarning: More than 20 figures have been opened. Figures created through the pyplot interface (`matplotlib.pyplot.figure`) are retained until explicitly closed and may consume too much memory. (To control this warning, see the rcParam `figure.max_open_warning`).\n"
     ]
    },
    {
     "data": {
      "application/vnd.jupyter.widget-view+json": {
       "model_id": "483136f607fc43eb805324cb57b3e39b",
       "version_major": 2,
       "version_minor": 0
      },
      "text/plain": [
       "Canvas(toolbar=Toolbar(toolitems=[('Home', 'Reset original view', 'home', 'home'), ('Back', 'Back to previous …"
      ]
     },
     "metadata": {},
     "output_type": "display_data"
    },
    {
     "name": "stdout",
     "output_type": "stream",
     "text": [
      "Interpolation of 0.0-1.5 days:\n",
      "                 Raw: std=0.052, NMAD=0.039\n",
      "               Phase: std=0.045, NMAD=0.034\n",
      "          Phase + x1: std=0.046, NMAD=0.034\n",
      "        Phase + gray: std=0.029, NMAD=0.014\n",
      "   Phase + x1 + gray: std=0.028, NMAD=0.013\n",
      "\n",
      "Interpolation of 1.5-2.5 days:\n",
      "                 Raw: std=0.115, NMAD=0.087\n",
      "               Phase: std=0.080, NMAD=0.066\n",
      "          Phase + x1: std=0.078, NMAD=0.064\n",
      "        Phase + gray: std=0.061, NMAD=0.043\n",
      "   Phase + x1 + gray: std=0.059, NMAD=0.041\n",
      "\n",
      "Interpolation of 2.5-5.5 days:\n",
      "                 Raw: std=0.178, NMAD=0.126\n",
      "               Phase: std=0.094, NMAD=0.075\n",
      "          Phase + x1: std=0.086, NMAD=0.070\n",
      "        Phase + gray: std=0.084, NMAD=0.059\n",
      "   Phase + x1 + gray: std=0.075, NMAD=0.050\n",
      "\n",
      "Interpolation of 5.5-10.5 days:\n",
      "                 Raw: std=0.272, NMAD=0.209\n",
      "               Phase: std=0.127, NMAD=0.098\n",
      "          Phase + x1: std=0.125, NMAD=0.106\n",
      "        Phase + gray: std=0.109, NMAD=0.080\n",
      "   Phase + x1 + gray: std=0.103, NMAD=0.074\n",
      "\n"
     ]
    }
   ],
   "source": [
    "targets = []\n",
    "diffs = []\n",
    "phases_1 = []\n",
    "phases_2 = []\n",
    "x1s = []\n",
    "gray_differences = []\n",
    "\n",
    "gray_offsets = a.interpolation_result['gray_offsets']\n",
    "\n",
    "center_specs = a.spectra[a.center_mask]\n",
    "center_gray_offsets = gray_offsets[a.center_mask]\n",
    "for target_idx in range(len(a.targets)):\n",
    "    near_max_spec = center_specs[target_idx]\n",
    "    \n",
    "    target_mask = (a.target_map == target_idx) & (~a.center_mask)\n",
    "    target_specs = a.spectra[target_mask]\n",
    "    target_gray_offsets = gray_offsets[target_mask]\n",
    "    \n",
    "    for spec_idx, target_spec in enumerate(target_specs):\n",
    "        phase_diff = target_spec.phase - near_max_spec.phase\n",
    "        # if np.abs(phase_diff) < 1:\n",
    "            # continue\n",
    "\n",
    "        targets.append(a.targets[target_idx])\n",
    "        diff = -2.5*np.log10(target_spec.flux / near_max_spec.flux)\n",
    "        diffs.append(diff)\n",
    "        phases_1.append(near_max_spec.phase)\n",
    "        phases_2.append(target_spec.phase)\n",
    "        x1s.append(a.salt_x1[target_idx])\n",
    "        \n",
    "        gray_differences.append(target_gray_offsets[spec_idx] - center_gray_offsets[target_idx])\n",
    "\n",
    "targets = np.array(targets)\n",
    "diffs = np.array(diffs)\n",
    "phases_1 = np.array(phases_1)\n",
    "phases_2 = np.array(phases_2)\n",
    "x1s = np.array(x1s)\n",
    "gray_differences = np.array(gray_differences)\n",
    "\n",
    "phase_diffs = phases_2 - phases_1\n",
    "\n",
    "def plot_diffs(diffs, model_subtracted=False):\n",
    "    sel_mask = np.zeros(len(diffs), dtype=bool)\n",
    "    sel_mask[4::50] = True\n",
    "    sel_mask[np.abs(phase_diffs) < 1] = False\n",
    "    \n",
    "    print(np.min(x1s[sel_mask]))\n",
    "    print(np.max(x1s[sel_mask]))\n",
    "    \n",
    "    plt.figure(figsize=(8, 5))\n",
    "    \n",
    "    for use_idx in np.where(sel_mask)[0]:\n",
    "        target = targets[use_idx]\n",
    "        phase_1 = phases_1[use_idx]\n",
    "        phase_2 = phases_2[use_idx]\n",
    "        \n",
    "        if phase_1 > phase_2:\n",
    "            phase_1, phase_2 = phase_2, phase_1\n",
    "        \n",
    "        label = '%s, %.1f to %.1f days' % (target, phase_1, phase_2)\n",
    "        \n",
    "        plt.plot(a.wave, diffs[use_idx] / phase_diffs[use_idx], alpha=0.5, label=label)\n",
    "        \n",
    "    plt.legend(ncol=2)\n",
    "\n",
    "    plt.ylim(-0.25, 0.25)\n",
    "    plt.xlabel('Wavelength ($\\AA$)')\n",
    "    if model_subtracted:\n",
    "        plt.ylabel('$\\Delta m / \\Delta t$ (data) - $\\Delta m / \\Delta t$ (model) (mag/day)')\n",
    "    else:\n",
    "        plt.ylabel('$\\Delta m / \\Delta t$ (data) (mag/day)')\n",
    "    plt.tight_layout()\n",
    "\n",
    "plot_diffs(diffs)\n",
    "plt.savefig('./figures/raw_phase_difference.pdf')\n",
    "\n",
    "residuals_no_x1 = []\n",
    "residuals_x1 = []\n",
    "for diff, phase_1, phase_2, x1 in zip(diffs, phases_1, phases_2, x1s):\n",
    "    model_no_x1 = evaluate_phase_difference(phase_2, 0) - evaluate_phase_difference(phase_1, 0)\n",
    "    model_x1 = evaluate_phase_difference(phase_2, x1) - evaluate_phase_difference(phase_1, x1)\n",
    "    residuals_no_x1.append(diff - model_no_x1)\n",
    "    residuals_x1.append(diff - model_x1)\n",
    "    \n",
    "residuals_no_x1 = np.array(residuals_no_x1)\n",
    "residuals_x1 = np.array(residuals_x1)\n",
    "\n",
    "residuals_gray_no_x1 = residuals_no_x1 - gray_differences[:, None]\n",
    "residuals_gray_x1 = residuals_x1 - gray_differences[:, None]\n",
    "\n",
    "plot_diffs(residuals_gray_no_x1, True)\n",
    "plt.savefig('./figures/corr_phase_difference_no_x1.pdf')\n",
    "\n",
    "plot_diffs(residuals_gray_x1, True)\n",
    "plt.savefig('./figures/corr_phase_difference_x1.pdf')\n",
    "\n",
    "def print_interpolation_residuals(min_days, max_days):\n",
    "    cut = (np.abs(phase_diffs) < max_days) & (np.abs(phase_diffs) > min_days)\n",
    "\n",
    "    def do_print(label, vals, cut):\n",
    "        cut_vals = vals[cut]\n",
    "        print('%20s: std=%.3f, NMAD=%.3f' % (label, math.rms(cut_vals), math.nmad(cut_vals)))\n",
    "\n",
    "    print(\"Interpolation of %.1f-%.1f days:\" % (min_days, max_days))\n",
    "    do_print('Raw', diffs, cut)    \n",
    "    do_print('Phase', residuals_no_x1, cut)    \n",
    "    do_print('Phase + x1', residuals_x1, cut)    \n",
    "    do_print('Phase + gray', residuals_gray_no_x1, cut)    \n",
    "    do_print('Phase + x1 + gray', residuals_gray_x1, cut)    \n",
    "    print(\"\")\n",
    "    \n",
    "print_interpolation_residuals(0., 1.5)\n",
    "print_interpolation_residuals(1.5, 2.5)\n",
    "print_interpolation_residuals(2.5, 5.5)\n",
    "print_interpolation_residuals(5.5, 10.5)"
   ]
  },
  {
   "cell_type": "markdown",
   "metadata": {},
   "source": [
    "# Reading between the lines plots"
   ]
  },
  {
   "cell_type": "markdown",
   "metadata": {},
   "source": [
    "## Show spectra before and after"
   ]
  },
  {
   "cell_type": "code",
   "execution_count": 69,
   "metadata": {},
   "outputs": [
    {
     "name": "stderr",
     "output_type": "stream",
     "text": [
      "/home/kyle/packages/conda/lib/python3.7/site-packages/ipykernel_launcher.py:1: RuntimeWarning: More than 20 figures have been opened. Figures created through the pyplot interface (`matplotlib.pyplot.figure`) are retained until explicitly closed and may consume too much memory. (To control this warning, see the rcParam `figure.max_open_warning`).\n",
      "  \"\"\"Entry point for launching an IPython kernel.\n"
     ]
    },
    {
     "data": {
      "application/vnd.jupyter.widget-view+json": {
       "model_id": "0add743fa41f49aa9e885813c1645c4d",
       "version_major": 2,
       "version_minor": 0
      },
      "text/plain": [
       "Canvas(toolbar=Toolbar(toolitems=[('Home', 'Reset original view', 'home', 'home'), ('Back', 'Back to previous …"
      ]
     },
     "metadata": {},
     "output_type": "display_data"
    },
    {
     "name": "stderr",
     "output_type": "stream",
     "text": [
      "/home/kyle/packages/conda/lib/python3.7/site-packages/ipykernel_launcher.py:10: RuntimeWarning: More than 20 figures have been opened. Figures created through the pyplot interface (`matplotlib.pyplot.figure`) are retained until explicitly closed and may consume too much memory. (To control this warning, see the rcParam `figure.max_open_warning`).\n",
      "  # Remove the CWD from sys.path while we load stuff.\n"
     ]
    },
    {
     "data": {
      "application/vnd.jupyter.widget-view+json": {
       "model_id": "fe0fbda6e0814ba3a153682654b6aaab",
       "version_major": 2,
       "version_minor": 0
      },
      "text/plain": [
       "Canvas(toolbar=Toolbar(toolitems=[('Home', 'Reset original view', 'home', 'home'), ('Back', 'Back to previous …"
      ]
     },
     "metadata": {},
     "output_type": "display_data"
    },
    {
     "name": "stderr",
     "output_type": "stream",
     "text": [
      "/home/kyle/packages/conda/lib/python3.7/site-packages/ipykernel_launcher.py:20: RuntimeWarning: More than 20 figures have been opened. Figures created through the pyplot interface (`matplotlib.pyplot.figure`) are retained until explicitly closed and may consume too much memory. (To control this warning, see the rcParam `figure.max_open_warning`).\n"
     ]
    },
    {
     "data": {
      "application/vnd.jupyter.widget-view+json": {
       "model_id": "1349e2edadd7483f82c474ed59ded9bc",
       "version_major": 2,
       "version_minor": 0
      },
      "text/plain": [
       "Canvas(toolbar=Toolbar(toolitems=[('Home', 'Reset original view', 'home', 'home'), ('Back', 'Back to previous …"
      ]
     },
     "metadata": {},
     "output_type": "display_data"
    },
    {
     "name": "stderr",
     "output_type": "stream",
     "text": [
      "/home/kyle/packages/conda/lib/python3.7/site-packages/ipykernel_launcher.py:30: RuntimeWarning: More than 20 figures have been opened. Figures created through the pyplot interface (`matplotlib.pyplot.figure`) are retained until explicitly closed and may consume too much memory. (To control this warning, see the rcParam `figure.max_open_warning`).\n"
     ]
    },
    {
     "data": {
      "application/vnd.jupyter.widget-view+json": {
       "model_id": "1c6fae838487426cbed03b02fe971862",
       "version_major": 2,
       "version_minor": 0
      },
      "text/plain": [
       "Canvas(toolbar=Toolbar(toolitems=[('Home', 'Reset original view', 'home', 'home'), ('Back', 'Back to previous …"
      ]
     },
     "metadata": {},
     "output_type": "display_data"
    }
   ],
   "source": [
    "plt.figure(figsize=(8, 5))\n",
    "plt.plot(a.wave, a.maximum_flux[a.interp_mask][0], alpha=1, lw=0.5, label='Individual spectra')\n",
    "plt.plot(a.wave, a.maximum_flux[a.interp_mask][1:].T, lw=0.5)\n",
    "plt.xlabel('Wavelength ($\\AA$)')\n",
    "plt.ylabel('Flux (arbitrary units)')\n",
    "plt.legend()\n",
    "plt.tight_layout()\n",
    "plt.savefig('./figures/spectra_at_maximum.pdf')\n",
    "\n",
    "plt.figure(figsize=(8, 5))\n",
    "plt.plot(a.wave, a.scale_flux[a.interp_mask][0], alpha=1, lw=0.5, label='Individual spectra')\n",
    "plt.plot(a.wave, a.scale_flux[a.interp_mask][1:].T, alpha=1., lw=0.5)\n",
    "plt.plot(a.wave, a.mean_flux, c='k', lw=2, ls='--', label='Mean spectrum')\n",
    "plt.legend()\n",
    "plt.xlabel('Wavelength ($\\AA$)')\n",
    "plt.ylabel('Flux (arbitrary units)')\n",
    "plt.tight_layout()\n",
    "plt.savefig('./figures/scale_spectra.pdf')\n",
    "\n",
    "plt.figure(figsize=(8, 5))\n",
    "fractional_dispersion = a.rbtl_result['fractional_dispersion']\n",
    "plt.plot(a.wave, a.mean_flux, c='k', lw=2, ls='--', label='Mean spectrum')\n",
    "plt.fill_between(a.wave, a.mean_flux * (1 - fractional_dispersion), a.mean_flux * (1 + fractional_dispersion), label='Supernova intrinsic dispersion', alpha=0.5)\n",
    "plt.legend()\n",
    "plt.xlabel('Wavelength ($\\AA$)')\n",
    "plt.ylabel('Flux (arbitrary units)')\n",
    "plt.tight_layout()\n",
    "plt.savefig('./figures/scale_spectra_model.pdf')\n",
    "\n",
    "plt.figure(figsize=(8, 5))\n",
    "intrinsic_dispersion = frac_to_mag(a.rbtl_result['fractional_dispersion'])\n",
    "plt.plot(a.wave, intrinsic_dispersion, c='k', lw=2, label='Supernova intrinsic dispersion')\n",
    "plt.legend()\n",
    "plt.xlabel('Wavelength ($\\AA$)')\n",
    "plt.ylabel('Intrinsic dispersion (mag)')\n",
    "plt.tight_layout()\n",
    "plt.savefig('./figures/rbtl_intrinsic_dispersion.pdf')"
   ]
  },
  {
   "cell_type": "markdown",
   "metadata": {},
   "source": [
    "## Magnitudes"
   ]
  },
  {
   "cell_type": "code",
   "execution_count": 70,
   "metadata": {},
   "outputs": [
    {
     "name": "stderr",
     "output_type": "stream",
     "text": [
      "/home/kyle/packages/conda/lib/python3.7/site-packages/ipykernel_launcher.py:1: RuntimeWarning: More than 20 figures have been opened. Figures created through the pyplot interface (`matplotlib.pyplot.figure`) are retained until explicitly closed and may consume too much memory. (To control this warning, see the rcParam `figure.max_open_warning`).\n",
      "  \"\"\"Entry point for launching an IPython kernel.\n"
     ]
    },
    {
     "data": {
      "application/vnd.jupyter.widget-view+json": {
       "model_id": "778f6c46bdcc4acf8a8d06a8c795771f",
       "version_major": 2,
       "version_minor": 0
      },
      "text/plain": [
       "Canvas(toolbar=Toolbar(toolitems=[('Home', 'Reset original view', 'home', 'home'), ('Back', 'Back to previous …"
      ]
     },
     "metadata": {},
     "output_type": "display_data"
    }
   ],
   "source": [
    "plt.figure(figsize=(8, 5))\n",
    "\n",
    "plt.scatter(a.redshifts[a.interp_mask], a.mags[a.interp_mask], s=15, c='C3', label='Supernovae rejected by cuts')\n",
    "plt.scatter(a.redshifts[a.good_mag_mask], a.mags[a.good_mag_mask], s=15, c='C0', label='Supernovae passing cuts')\n",
    "\n",
    "z_range = np.linspace(0.001, 0.09, 100)\n",
    "pec_vel_disp = 0.00217 / z_range\n",
    "plt.fill_between(z_range, -pec_vel_disp, pec_vel_disp, alpha=0.2, label='Peculiar velocity dispersion')\n",
    "plt.axvline(0.02, lw=1, ls='--', c='k', label='Redshift cutoff')\n",
    "\n",
    "plt.xlim(0.001, 0.09)\n",
    "plt.ylim(-1, 1.5)\n",
    "plt.xlabel('Redshift')\n",
    "plt.ylabel('RBTL measured magnitude')\n",
    "plt.legend()\n",
    "plt.tight_layout()\n",
    "plt.savefig('./figures/rbtl_magnitude.pdf')"
   ]
  },
  {
   "cell_type": "code",
   "execution_count": 71,
   "metadata": {},
   "outputs": [
    {
     "name": "stderr",
     "output_type": "stream",
     "text": [
      "/home/kyle/packages/conda/lib/python3.7/site-packages/ipykernel_launcher.py:1: RuntimeWarning: More than 20 figures have been opened. Figures created through the pyplot interface (`matplotlib.pyplot.figure`) are retained until explicitly closed and may consume too much memory. (To control this warning, see the rcParam `figure.max_open_warning`).\n",
      "  \"\"\"Entry point for launching an IPython kernel.\n"
     ]
    },
    {
     "data": {
      "application/vnd.jupyter.widget-view+json": {
       "model_id": "f83fb07610424a8a926465e2b9d970c5",
       "version_major": 2,
       "version_minor": 0
      },
      "text/plain": [
       "Canvas(toolbar=Toolbar(toolitems=[('Home', 'Reset original view', 'home', 'home'), ('Back', 'Back to previous …"
      ]
     },
     "metadata": {},
     "output_type": "display_data"
    }
   ],
   "source": [
    "plt.figure(figsize=(8, 5))\n",
    "\n",
    "plt.scatter(a.redshifts[a.good_mag_mask], a.mags[a.good_mag_mask], s=15, c='C0', label='Supernovae passing cuts')\n",
    "plt.xlabel('Redshift')\n",
    "plt.ylabel('RBTL measured magnitude')\n",
    "\n",
    "\n",
    "z_range = np.linspace(0.001, 0.09, 100)\n",
    "pec_vel_disp = 0.00217 / z_range\n",
    "plt.fill_between(z_range, -pec_vel_disp, pec_vel_disp, alpha=0.2, label='Peculiar velocity dispersion')\n",
    "\n",
    "plt.legend()\n",
    "plt.tight_layout()\n",
    "plt.xlim(0.01, 0.09)\n",
    "plt.ylim(-0.5, 0.5)\n",
    "plt.savefig('./figures/rbtl_magnitude_cut.pdf')"
   ]
  },
  {
   "cell_type": "code",
   "execution_count": 72,
   "metadata": {},
   "outputs": [
    {
     "name": "stdout",
     "output_type": "stream",
     "text": [
      "Raw RBTL mag std:  0.123 mag\n",
      "Raw RBTL mag NMAD: 0.101 mag\n"
     ]
    }
   ],
   "source": [
    "print(\"Raw RBTL mag std:  %.3f mag\" % np.std(a.mags[a.good_mag_mask & a.interp_mask]))\n",
    "print(\"Raw RBTL mag NMAD: %.3f mag\" % math.nmad(a.mags[a.good_mag_mask & a.interp_mask]))"
   ]
  },
  {
   "cell_type": "code",
   "execution_count": 73,
   "metadata": {},
   "outputs": [
    {
     "name": "stderr",
     "output_type": "stream",
     "text": [
      "/home/kyle/packages/conda/lib/python3.7/site-packages/ipykernel_launcher.py:1: RuntimeWarning: More than 20 figures have been opened. Figures created through the pyplot interface (`matplotlib.pyplot.figure`) are retained until explicitly closed and may consume too much memory. (To control this warning, see the rcParam `figure.max_open_warning`).\n",
      "  \"\"\"Entry point for launching an IPython kernel.\n"
     ]
    },
    {
     "data": {
      "application/vnd.jupyter.widget-view+json": {
       "model_id": "18fb2bc8d3714c949738e96e54b31f07",
       "version_major": 2,
       "version_minor": 0
      },
      "text/plain": [
       "Canvas(toolbar=Toolbar(toolitems=[('Home', 'Reset original view', 'home', 'home'), ('Back', 'Back to previous …"
      ]
     },
     "metadata": {},
     "output_type": "display_data"
    }
   ],
   "source": [
    "plt.figure(figsize=(8, 5))\n",
    "\n",
    "plt.scatter(a.redshifts[a.good_mag_mask], a.corr_mags[a.good_mag_mask], s=15, c='C0', label='Supernovae passing cuts')\n",
    "plt.xlabel('Redshift')\n",
    "plt.ylabel('RBTL measured magnitude')\n",
    "\n",
    "\n",
    "z_range = np.linspace(0.001, 0.09, 100)\n",
    "pec_vel_disp = 0.00217 / z_range\n",
    "plt.fill_between(z_range, -pec_vel_disp, pec_vel_disp, alpha=0.2, label='Peculiar velocity dispersion')\n",
    "\n",
    "plt.legend()\n",
    "plt.tight_layout()\n",
    "plt.xlim(0.01, 0.09)\n",
    "plt.ylim(-0.5, 0.5)\n",
    "plt.savefig('./figures/rbtl_corr_magnitude_cut.pdf')"
   ]
  },
  {
   "cell_type": "markdown",
   "metadata": {},
   "source": [
    "# Manifold learning plots"
   ]
  },
  {
   "cell_type": "markdown",
   "metadata": {},
   "source": [
    "## Reconstruction uncertainty"
   ]
  },
  {
   "cell_type": "code",
   "execution_count": 74,
   "metadata": {},
   "outputs": [
    {
     "name": "stdout",
     "output_type": "stream",
     "text": [
      "[1.         0.60433938 0.325321   0.10772542 0.10465459 0.07846132\n",
      " 0.05953441 0.05370723 0.04374868 0.03758389]\n",
      "[1.         0.37669048 0.16858977 0.05287433 0.04885743 0.03533495\n",
      " 0.02611117 0.02301334 0.01840119 0.0155622 ]\n"
     ]
    },
    {
     "name": "stderr",
     "output_type": "stream",
     "text": [
      "/home/kyle/packages/conda/lib/python3.7/site-packages/ipykernel_launcher.py:18: RuntimeWarning: More than 20 figures have been opened. Figures created through the pyplot interface (`matplotlib.pyplot.figure`) are retained until explicitly closed and may consume too much memory. (To control this warning, see the rcParam `figure.max_open_warning`).\n"
     ]
    },
    {
     "data": {
      "application/vnd.jupyter.widget-view+json": {
       "model_id": "37637a205fe54ae78270d950df8b1095",
       "version_major": 2,
       "version_minor": 0
      },
      "text/plain": [
       "Canvas(toolbar=Toolbar(toolitems=[('Home', 'Reset original view', 'home', 'home'), ('Back', 'Back to previous …"
      ]
     },
     "metadata": {},
     "output_type": "display_data"
    }
   ],
   "source": [
    "# Note: the total variance isn't defined for Isomap. The variances of the transfomed components\n",
    "# do map onto the variance of real components though. We provide a very rough estimate of the\n",
    "# measurement variance for comparison purposes... not sure how much it can be trusted...\n",
    "\n",
    "num_show = 5\n",
    "\n",
    "# Do an initial embedding with as many components as possible to get the full variance.\n",
    "a.do_embedding(n_components=None)\n",
    "variances = np.var(a.embedding[a.interp_mask], axis=0)\n",
    "\n",
    "ref_var = np.sum(variances[:10])\n",
    "\n",
    "plot_ref = variances[0]\n",
    "\n",
    "print(variances[:10] / plot_ref)\n",
    "print(variances[:10] / np.cumsum(variances[:10]))\n",
    "\n",
    "plt.figure()\n",
    "plt.scatter(np.arange(num_show), variances[:num_show] / plot_ref, label='Contributed variance of each component')\n",
    "plt.axhline(0.1 * ref_var / plot_ref, label='Approximate measurement variance cut', ls='--', c='C3')\n",
    "plt.axhline(np.mean(a.interp_power_fraction[a.interp_mask]) * ref_var / plot_ref, label='Approximate mean measurement variance', ls='--', c='C2')\n",
    "plt.ylim(0, None)\n",
    "plt.xlabel('Component number')\n",
    "plt.ylabel('Relative variance (Normalized to Component 1)')\n",
    "plt.xticks(np.arange(num_show), np.arange(num_show) + 1)\n",
    "plt.legend()\n",
    "plt.tight_layout()\n",
    "\n",
    "plt.savefig('./figures/isomap_component_variance.pdf')"
   ]
  },
  {
   "cell_type": "markdown",
   "metadata": {},
   "source": [
    "## Twin reconstruction"
   ]
  },
  {
   "cell_type": "code",
   "execution_count": 75,
   "metadata": {},
   "outputs": [
    {
     "name": "stderr",
     "output_type": "stream",
     "text": [
      "/home/kyle/supernova/snfactory/manifold_twins/analysis/manifold_twins.py:1619: RuntimeWarning: More than 20 figures have been opened. Figures created through the pyplot interface (`matplotlib.pyplot.figure`) are retained until explicitly closed and may consume too much memory. (To control this warning, see the rcParam `figure.max_open_warning`).\n",
      "  plt.figure(figsize=figsize)\n"
     ]
    },
    {
     "data": {
      "application/vnd.jupyter.widget-view+json": {
       "model_id": "cda566d53a034322bd93f2d97614859f",
       "version_major": 2,
       "version_minor": 0
      },
      "text/plain": [
       "Canvas(toolbar=Toolbar(toolitems=[('Home', 'Reset original view', 'home', 'home'), ('Back', 'Back to previous …"
      ]
     },
     "metadata": {},
     "output_type": "display_data"
    },
    {
     "data": {
      "text/html": [
       "<div>\n",
       "<style scoped>\n",
       "    .dataframe tbody tr th:only-of-type {\n",
       "        vertical-align: middle;\n",
       "    }\n",
       "\n",
       "    .dataframe tbody tr th {\n",
       "        vertical-align: top;\n",
       "    }\n",
       "\n",
       "    .dataframe thead th {\n",
       "        text-align: right;\n",
       "    }\n",
       "</style>\n",
       "<table border=\"1\" class=\"dataframe\">\n",
       "  <thead>\n",
       "    <tr style=\"text-align: right;\">\n",
       "      <th></th>\n",
       "      <th>To Best 10% of spectral twinness</th>\n",
       "      <th>To 10-20%</th>\n",
       "      <th>To 20-50%</th>\n",
       "      <th>To Worst 50% of spectral twinness</th>\n",
       "    </tr>\n",
       "  </thead>\n",
       "  <tbody>\n",
       "    <tr>\n",
       "      <th>From Best 10% of spectral twinness</th>\n",
       "      <td>0.285623</td>\n",
       "      <td>0.283697</td>\n",
       "      <td>0.424904</td>\n",
       "      <td>0.005777</td>\n",
       "    </tr>\n",
       "    <tr>\n",
       "      <th>From 10-20%</th>\n",
       "      <td>0.163134</td>\n",
       "      <td>0.177264</td>\n",
       "      <td>0.560051</td>\n",
       "      <td>0.099550</td>\n",
       "    </tr>\n",
       "    <tr>\n",
       "      <th>From 20-50%</th>\n",
       "      <td>0.116627</td>\n",
       "      <td>0.105928</td>\n",
       "      <td>0.412369</td>\n",
       "      <td>0.365076</td>\n",
       "    </tr>\n",
       "    <tr>\n",
       "      <th>From Worst 50% of spectral twinness</th>\n",
       "      <td>0.040324</td>\n",
       "      <td>0.044176</td>\n",
       "      <td>0.155644</td>\n",
       "      <td>0.759856</td>\n",
       "    </tr>\n",
       "  </tbody>\n",
       "</table>\n",
       "</div>"
      ],
      "text/plain": [
       "                                     To Best 10% of spectral twinness  \\\n",
       "From Best 10% of spectral twinness                           0.285623   \n",
       "From 10-20%                                                  0.163134   \n",
       "From 20-50%                                                  0.116627   \n",
       "From Worst 50% of spectral twinness                          0.040324   \n",
       "\n",
       "                                     To 10-20%  To 20-50%  \\\n",
       "From Best 10% of spectral twinness    0.283697   0.424904   \n",
       "From 10-20%                           0.177264   0.560051   \n",
       "From 20-50%                           0.105928   0.412369   \n",
       "From Worst 50% of spectral twinness   0.044176   0.155644   \n",
       "\n",
       "                                     To Worst 50% of spectral twinness  \n",
       "From Best 10% of spectral twinness                            0.005777  \n",
       "From 10-20%                                                   0.099550  \n",
       "From 20-50%                                                   0.365076  \n",
       "From Worst 50% of spectral twinness                           0.759856  "
      ]
     },
     "metadata": {},
     "output_type": "display_data"
    },
    {
     "name": "stderr",
     "output_type": "stream",
     "text": [
      "/home/kyle/supernova/snfactory/manifold_twins/analysis/manifold_twins.py:1619: RuntimeWarning: More than 20 figures have been opened. Figures created through the pyplot interface (`matplotlib.pyplot.figure`) are retained until explicitly closed and may consume too much memory. (To control this warning, see the rcParam `figure.max_open_warning`).\n",
      "  plt.figure(figsize=figsize)\n"
     ]
    },
    {
     "data": {
      "application/vnd.jupyter.widget-view+json": {
       "model_id": "d92bf943cd96447bbcf3c6f5c6c1b016",
       "version_major": 2,
       "version_minor": 0
      },
      "text/plain": [
       "Canvas(toolbar=Toolbar(toolitems=[('Home', 'Reset original view', 'home', 'home'), ('Back', 'Back to previous …"
      ]
     },
     "metadata": {},
     "output_type": "display_data"
    },
    {
     "data": {
      "text/html": [
       "<div>\n",
       "<style scoped>\n",
       "    .dataframe tbody tr th:only-of-type {\n",
       "        vertical-align: middle;\n",
       "    }\n",
       "\n",
       "    .dataframe tbody tr th {\n",
       "        vertical-align: top;\n",
       "    }\n",
       "\n",
       "    .dataframe thead th {\n",
       "        text-align: right;\n",
       "    }\n",
       "</style>\n",
       "<table border=\"1\" class=\"dataframe\">\n",
       "  <thead>\n",
       "    <tr style=\"text-align: right;\">\n",
       "      <th></th>\n",
       "      <th>To Best 10% of spectral twinness</th>\n",
       "      <th>To 10-20%</th>\n",
       "      <th>To 20-50%</th>\n",
       "      <th>To Worst 50% of spectral twinness</th>\n",
       "    </tr>\n",
       "  </thead>\n",
       "  <tbody>\n",
       "    <tr>\n",
       "      <th>From Best 10% of spectral twinness</th>\n",
       "      <td>0.573813</td>\n",
       "      <td>0.311938</td>\n",
       "      <td>0.114249</td>\n",
       "      <td>0.000000</td>\n",
       "    </tr>\n",
       "    <tr>\n",
       "      <th>From 10-20%</th>\n",
       "      <td>0.178548</td>\n",
       "      <td>0.301863</td>\n",
       "      <td>0.518304</td>\n",
       "      <td>0.001285</td>\n",
       "    </tr>\n",
       "    <tr>\n",
       "      <th>From 20-50%</th>\n",
       "      <td>0.062701</td>\n",
       "      <td>0.104858</td>\n",
       "      <td>0.584849</td>\n",
       "      <td>0.247593</td>\n",
       "    </tr>\n",
       "    <tr>\n",
       "      <th>From Worst 50% of spectral twinness</th>\n",
       "      <td>0.011943</td>\n",
       "      <td>0.014255</td>\n",
       "      <td>0.122640</td>\n",
       "      <td>0.851162</td>\n",
       "    </tr>\n",
       "  </tbody>\n",
       "</table>\n",
       "</div>"
      ],
      "text/plain": [
       "                                     To Best 10% of spectral twinness  \\\n",
       "From Best 10% of spectral twinness                           0.573813   \n",
       "From 10-20%                                                  0.178548   \n",
       "From 20-50%                                                  0.062701   \n",
       "From Worst 50% of spectral twinness                          0.011943   \n",
       "\n",
       "                                     To 10-20%  To 20-50%  \\\n",
       "From Best 10% of spectral twinness    0.311938   0.114249   \n",
       "From 10-20%                           0.301863   0.518304   \n",
       "From 20-50%                           0.104858   0.584849   \n",
       "From Worst 50% of spectral twinness   0.014255   0.122640   \n",
       "\n",
       "                                     To Worst 50% of spectral twinness  \n",
       "From Best 10% of spectral twinness                            0.000000  \n",
       "From 10-20%                                                   0.001285  \n",
       "From 20-50%                                                   0.247593  \n",
       "From Worst 50% of spectral twinness                           0.851162  "
      ]
     },
     "metadata": {},
     "output_type": "display_data"
    },
    {
     "name": "stderr",
     "output_type": "stream",
     "text": [
      "/home/kyle/supernova/snfactory/manifold_twins/analysis/manifold_twins.py:1619: RuntimeWarning: More than 20 figures have been opened. Figures created through the pyplot interface (`matplotlib.pyplot.figure`) are retained until explicitly closed and may consume too much memory. (To control this warning, see the rcParam `figure.max_open_warning`).\n",
      "  plt.figure(figsize=figsize)\n"
     ]
    },
    {
     "data": {
      "application/vnd.jupyter.widget-view+json": {
       "model_id": "12e765a21bcd4e8f8a52cfff0181ed68",
       "version_major": 2,
       "version_minor": 0
      },
      "text/plain": [
       "Canvas(toolbar=Toolbar(toolitems=[('Home', 'Reset original view', 'home', 'home'), ('Back', 'Back to previous …"
      ]
     },
     "metadata": {},
     "output_type": "display_data"
    },
    {
     "data": {
      "text/html": [
       "<div>\n",
       "<style scoped>\n",
       "    .dataframe tbody tr th:only-of-type {\n",
       "        vertical-align: middle;\n",
       "    }\n",
       "\n",
       "    .dataframe tbody tr th {\n",
       "        vertical-align: top;\n",
       "    }\n",
       "\n",
       "    .dataframe thead th {\n",
       "        text-align: right;\n",
       "    }\n",
       "</style>\n",
       "<table border=\"1\" class=\"dataframe\">\n",
       "  <thead>\n",
       "    <tr style=\"text-align: right;\">\n",
       "      <th></th>\n",
       "      <th>To Best 10% of spectral twinness</th>\n",
       "      <th>To 10-20%</th>\n",
       "      <th>To 20-50%</th>\n",
       "      <th>To Worst 50% of spectral twinness</th>\n",
       "    </tr>\n",
       "  </thead>\n",
       "  <tbody>\n",
       "    <tr>\n",
       "      <th>From Best 10% of spectral twinness</th>\n",
       "      <td>0.726573</td>\n",
       "      <td>0.239409</td>\n",
       "      <td>0.034018</td>\n",
       "      <td>0.00000</td>\n",
       "    </tr>\n",
       "    <tr>\n",
       "      <th>From 10-20%</th>\n",
       "      <td>0.204239</td>\n",
       "      <td>0.423892</td>\n",
       "      <td>0.371869</td>\n",
       "      <td>0.00000</td>\n",
       "    </tr>\n",
       "    <tr>\n",
       "      <th>From 20-50%</th>\n",
       "      <td>0.021186</td>\n",
       "      <td>0.106998</td>\n",
       "      <td>0.697197</td>\n",
       "      <td>0.17462</td>\n",
       "    </tr>\n",
       "    <tr>\n",
       "      <th>From Worst 50% of spectral twinness</th>\n",
       "      <td>0.001156</td>\n",
       "      <td>0.003082</td>\n",
       "      <td>0.100552</td>\n",
       "      <td>0.89521</td>\n",
       "    </tr>\n",
       "  </tbody>\n",
       "</table>\n",
       "</div>"
      ],
      "text/plain": [
       "                                     To Best 10% of spectral twinness  \\\n",
       "From Best 10% of spectral twinness                           0.726573   \n",
       "From 10-20%                                                  0.204239   \n",
       "From 20-50%                                                  0.021186   \n",
       "From Worst 50% of spectral twinness                          0.001156   \n",
       "\n",
       "                                     To 10-20%  To 20-50%  \\\n",
       "From Best 10% of spectral twinness    0.239409   0.034018   \n",
       "From 10-20%                           0.423892   0.371869   \n",
       "From 20-50%                           0.106998   0.697197   \n",
       "From Worst 50% of spectral twinness   0.003082   0.100552   \n",
       "\n",
       "                                     To Worst 50% of spectral twinness  \n",
       "From Best 10% of spectral twinness                             0.00000  \n",
       "From 10-20%                                                    0.00000  \n",
       "From 20-50%                                                    0.17462  \n",
       "From Worst 50% of spectral twinness                            0.89521  "
      ]
     },
     "metadata": {},
     "output_type": "display_data"
    },
    {
     "name": "stderr",
     "output_type": "stream",
     "text": [
      "/home/kyle/supernova/snfactory/manifold_twins/analysis/manifold_twins.py:1619: RuntimeWarning: More than 20 figures have been opened. Figures created through the pyplot interface (`matplotlib.pyplot.figure`) are retained until explicitly closed and may consume too much memory. (To control this warning, see the rcParam `figure.max_open_warning`).\n",
      "  plt.figure(figsize=figsize)\n"
     ]
    },
    {
     "data": {
      "application/vnd.jupyter.widget-view+json": {
       "model_id": "359fd2913322411ab91441c96db5be05",
       "version_major": 2,
       "version_minor": 0
      },
      "text/plain": [
       "Canvas(toolbar=Toolbar(toolitems=[('Home', 'Reset original view', 'home', 'home'), ('Back', 'Back to previous …"
      ]
     },
     "metadata": {},
     "output_type": "display_data"
    },
    {
     "data": {
      "text/html": [
       "<div>\n",
       "<style scoped>\n",
       "    .dataframe tbody tr th:only-of-type {\n",
       "        vertical-align: middle;\n",
       "    }\n",
       "\n",
       "    .dataframe tbody tr th {\n",
       "        vertical-align: top;\n",
       "    }\n",
       "\n",
       "    .dataframe thead th {\n",
       "        text-align: right;\n",
       "    }\n",
       "</style>\n",
       "<table border=\"1\" class=\"dataframe\">\n",
       "  <thead>\n",
       "    <tr style=\"text-align: right;\">\n",
       "      <th></th>\n",
       "      <th>To Best 10% of spectral twinness</th>\n",
       "      <th>To 10-20%</th>\n",
       "      <th>To 20-50%</th>\n",
       "      <th>To Worst 50% of spectral twinness</th>\n",
       "    </tr>\n",
       "  </thead>\n",
       "  <tbody>\n",
       "    <tr>\n",
       "      <th>From Best 10% of spectral twinness</th>\n",
       "      <td>0.750963</td>\n",
       "      <td>0.221438</td>\n",
       "      <td>0.027599</td>\n",
       "      <td>0.000000</td>\n",
       "    </tr>\n",
       "    <tr>\n",
       "      <th>From 10-20%</th>\n",
       "      <td>0.184971</td>\n",
       "      <td>0.459216</td>\n",
       "      <td>0.355812</td>\n",
       "      <td>0.000000</td>\n",
       "    </tr>\n",
       "    <tr>\n",
       "      <th>From 20-50%</th>\n",
       "      <td>0.018832</td>\n",
       "      <td>0.101862</td>\n",
       "      <td>0.713888</td>\n",
       "      <td>0.165418</td>\n",
       "    </tr>\n",
       "    <tr>\n",
       "      <th>From Worst 50% of spectral twinness</th>\n",
       "      <td>0.001541</td>\n",
       "      <td>0.002697</td>\n",
       "      <td>0.095030</td>\n",
       "      <td>0.900732</td>\n",
       "    </tr>\n",
       "  </tbody>\n",
       "</table>\n",
       "</div>"
      ],
      "text/plain": [
       "                                     To Best 10% of spectral twinness  \\\n",
       "From Best 10% of spectral twinness                           0.750963   \n",
       "From 10-20%                                                  0.184971   \n",
       "From 20-50%                                                  0.018832   \n",
       "From Worst 50% of spectral twinness                          0.001541   \n",
       "\n",
       "                                     To 10-20%  To 20-50%  \\\n",
       "From Best 10% of spectral twinness    0.221438   0.027599   \n",
       "From 10-20%                           0.459216   0.355812   \n",
       "From 20-50%                           0.101862   0.713888   \n",
       "From Worst 50% of spectral twinness   0.002697   0.095030   \n",
       "\n",
       "                                     To Worst 50% of spectral twinness  \n",
       "From Best 10% of spectral twinness                            0.000000  \n",
       "From 10-20%                                                   0.000000  \n",
       "From 20-50%                                                   0.165418  \n",
       "From Worst 50% of spectral twinness                           0.900732  "
      ]
     },
     "metadata": {},
     "output_type": "display_data"
    },
    {
     "name": "stderr",
     "output_type": "stream",
     "text": [
      "/home/kyle/supernova/snfactory/manifold_twins/analysis/manifold_twins.py:1619: RuntimeWarning: More than 20 figures have been opened. Figures created through the pyplot interface (`matplotlib.pyplot.figure`) are retained until explicitly closed and may consume too much memory. (To control this warning, see the rcParam `figure.max_open_warning`).\n",
      "  plt.figure(figsize=figsize)\n"
     ]
    },
    {
     "data": {
      "application/vnd.jupyter.widget-view+json": {
       "model_id": "c2a9d4056e334bdbb13a951f33e74bca",
       "version_major": 2,
       "version_minor": 0
      },
      "text/plain": [
       "Canvas(toolbar=Toolbar(toolitems=[('Home', 'Reset original view', 'home', 'home'), ('Back', 'Back to previous …"
      ]
     },
     "metadata": {},
     "output_type": "display_data"
    },
    {
     "data": {
      "text/html": [
       "<div>\n",
       "<style scoped>\n",
       "    .dataframe tbody tr th:only-of-type {\n",
       "        vertical-align: middle;\n",
       "    }\n",
       "\n",
       "    .dataframe tbody tr th {\n",
       "        vertical-align: top;\n",
       "    }\n",
       "\n",
       "    .dataframe thead th {\n",
       "        text-align: right;\n",
       "    }\n",
       "</style>\n",
       "<table border=\"1\" class=\"dataframe\">\n",
       "  <thead>\n",
       "    <tr style=\"text-align: right;\">\n",
       "      <th></th>\n",
       "      <th>To Best 10% of spectral twinness</th>\n",
       "      <th>To 10-20%</th>\n",
       "      <th>To 20-50%</th>\n",
       "      <th>To Worst 50% of spectral twinness</th>\n",
       "    </tr>\n",
       "  </thead>\n",
       "  <tbody>\n",
       "    <tr>\n",
       "      <th>From Best 10% of spectral twinness</th>\n",
       "      <td>0.759307</td>\n",
       "      <td>0.209243</td>\n",
       "      <td>0.031451</td>\n",
       "      <td>0.000000</td>\n",
       "    </tr>\n",
       "    <tr>\n",
       "      <th>From 10-20%</th>\n",
       "      <td>0.183687</td>\n",
       "      <td>0.462428</td>\n",
       "      <td>0.353886</td>\n",
       "      <td>0.000000</td>\n",
       "    </tr>\n",
       "    <tr>\n",
       "      <th>From 20-50%</th>\n",
       "      <td>0.017334</td>\n",
       "      <td>0.105928</td>\n",
       "      <td>0.713032</td>\n",
       "      <td>0.163706</td>\n",
       "    </tr>\n",
       "    <tr>\n",
       "      <th>From Worst 50% of spectral twinness</th>\n",
       "      <td>0.001027</td>\n",
       "      <td>0.002055</td>\n",
       "      <td>0.095159</td>\n",
       "      <td>0.901631</td>\n",
       "    </tr>\n",
       "  </tbody>\n",
       "</table>\n",
       "</div>"
      ],
      "text/plain": [
       "                                     To Best 10% of spectral twinness  \\\n",
       "From Best 10% of spectral twinness                           0.759307   \n",
       "From 10-20%                                                  0.183687   \n",
       "From 20-50%                                                  0.017334   \n",
       "From Worst 50% of spectral twinness                          0.001027   \n",
       "\n",
       "                                     To 10-20%  To 20-50%  \\\n",
       "From Best 10% of spectral twinness    0.209243   0.031451   \n",
       "From 10-20%                           0.462428   0.353886   \n",
       "From 20-50%                           0.105928   0.713032   \n",
       "From Worst 50% of spectral twinness   0.002055   0.095159   \n",
       "\n",
       "                                     To Worst 50% of spectral twinness  \n",
       "From Best 10% of spectral twinness                            0.000000  \n",
       "From 10-20%                                                   0.000000  \n",
       "From 20-50%                                                   0.163706  \n",
       "From Worst 50% of spectral twinness                           0.901631  "
      ]
     },
     "metadata": {},
     "output_type": "display_data"
    },
    {
     "name": "stderr",
     "output_type": "stream",
     "text": [
      "/home/kyle/packages/conda/lib/python3.7/site-packages/ipykernel_launcher.py:20: RuntimeWarning: More than 20 figures have been opened. Figures created through the pyplot interface (`matplotlib.pyplot.figure`) are retained until explicitly closed and may consume too much memory. (To control this warning, see the rcParam `figure.max_open_warning`).\n"
     ]
    },
    {
     "data": {
      "application/vnd.jupyter.widget-view+json": {
       "model_id": "ec600988b3dd42ddacccd350f8dfa0f0",
       "version_major": 2,
       "version_minor": 0
      },
      "text/plain": [
       "Canvas(toolbar=Toolbar(toolitems=[('Home', 'Reset original view', 'home', 'home'), ('Back', 'Back to previous …"
      ]
     },
     "metadata": {},
     "output_type": "display_data"
    }
   ],
   "source": [
    "# Plot where twins and non-twins end up for different number of components.\n",
    "# We also make a summary plot.\n",
    "confused_fraction = []\n",
    "\n",
    "plot_components = np.arange(1, 6)\n",
    "for n_components in plot_components:\n",
    "    a.do_embedding(n_components=n_components)\n",
    "    leakage_matrix = a.plot_twin_distances(figsize=(5, 4))\n",
    "    if n_components == 1:\n",
    "        title = '1 Component + Color'\n",
    "    else:\n",
    "        title = '%d Components + Color' % n_components\n",
    "    plt.title(title)\n",
    "    plt.xlabel('Recovered twinness percentile in the embedded space')\n",
    "    plt.tight_layout()\n",
    "    plt.savefig('./figures/twins_recovery_%d_components.pdf' % n_components)\n",
    "    \n",
    "    confused_fraction.append(leakage_matrix[3, 0] + leakage_matrix[3, 1])\n",
    "\n",
    "plt.figure()\n",
    "plt.scatter(np.arange(len(confused_fraction)) + 1, confused_fraction)\n",
    "plt.xticks(plot_components, plot_components)\n",
    "plt.ylim(0, 0.1)\n",
    "plt.xlabel('Number of components (in addition to color)')\n",
    "plt.ylabel('Fraction of non-twins confused as twins')\n",
    "plt.savefig('./figures/twins_confusion.pdf')"
   ]
  },
  {
   "cell_type": "markdown",
   "metadata": {},
   "source": [
    "## Plot slices through the manifold"
   ]
  },
  {
   "cell_type": "code",
   "execution_count": 76,
   "metadata": {},
   "outputs": [],
   "source": [
    "a.do_embedding()\n",
    "\n",
    "def plot_slice(scan_component, closest_count=10, max_dist=1., loc=np.zeros(a.embedding.shape[1] - 1)):\n",
    "    loc = np.asarray(loc)\n",
    "    mask = a.interp_mask\n",
    "\n",
    "    use_embedding = a.embedding[mask]\n",
    "    use_flux = a.scale_flux[mask]\n",
    "\n",
    "    other_embedding = np.delete(use_embedding, scan_component, axis=1)\n",
    "    dists = np.sqrt(np.sum((other_embedding - loc)**2, axis=1))\n",
    "\n",
    "    dist_limit = np.min([np.sort(dists)[closest_count], max_dist])\n",
    "    scan_cut = dists < dist_limit\n",
    "    \n",
    "    scan_embedding = use_embedding[scan_cut, scan_component]\n",
    "    \n",
    "    sort_embedding = np.sort(scan_embedding)\n",
    "    min_comp = sort_embedding[0]\n",
    "    max_comp = sort_embedding[-1]\n",
    "    # min_comp = np.min(scan_embedding)\n",
    "    # max_comp = np.max(scan_embedding)\n",
    "    # cmap = plt.cm.viridis\n",
    "    cmap = plt.cm.coolwarm\n",
    "\n",
    "    plt.figure(figsize=(8, 5))\n",
    "    for spec, val in zip(use_flux[scan_cut], scan_embedding):\n",
    "        plt.plot(a.wave, spec, c=cmap((val - min_comp) / (max_comp - min_comp)))\n",
    "\n",
    "    plt.xlabel('Wavelength ($\\AA$)')\n",
    "    plt.ylabel('Normalized flux')\n",
    "\n",
    "    sm = plt.cm.ScalarMappable(cmap=cmap, norm=plt.Normalize(vmin=min_comp, vmax=max_comp))\n",
    "    sm._A = []\n",
    "    plt.colorbar(sm, label='Value of Component %d' % (scan_component + 1))\n",
    "    plt.title('Component %d' % (scan_component + 1))\n",
    "    \n",
    "    plt.savefig('./figures/component_%d_effect.pdf' % (scan_component + 1))"
   ]
  },
  {
   "cell_type": "code",
   "execution_count": 77,
   "metadata": {},
   "outputs": [
    {
     "name": "stderr",
     "output_type": "stream",
     "text": [
      "/home/kyle/supernova/snfactory/manifold_twins/analysis/manifold_twins.py:667: RuntimeWarning: More than 20 figures have been opened. Figures created through the pyplot interface (`matplotlib.pyplot.figure`) are retained until explicitly closed and may consume too much memory. (To control this warning, see the rcParam `figure.max_open_warning`).\n",
      "  plt.figure()\n"
     ]
    },
    {
     "data": {
      "application/vnd.jupyter.widget-view+json": {
       "model_id": "bd7417f6e57848ca8fe9850dcc520503",
       "version_major": 2,
       "version_minor": 0
      },
      "text/plain": [
       "Canvas(toolbar=Toolbar(toolitems=[('Home', 'Reset original view', 'home', 'home'), ('Back', 'Back to previous …"
      ]
     },
     "metadata": {},
     "output_type": "display_data"
    }
   ],
   "source": [
    "a.do_component_blondin_plot()"
   ]
  },
  {
   "cell_type": "code",
   "execution_count": 78,
   "metadata": {},
   "outputs": [
    {
     "name": "stderr",
     "output_type": "stream",
     "text": [
      "/home/kyle/packages/conda/lib/python3.7/site-packages/ipykernel_launcher.py:26: RuntimeWarning: More than 20 figures have been opened. Figures created through the pyplot interface (`matplotlib.pyplot.figure`) are retained until explicitly closed and may consume too much memory. (To control this warning, see the rcParam `figure.max_open_warning`).\n"
     ]
    },
    {
     "data": {
      "application/vnd.jupyter.widget-view+json": {
       "model_id": "1e94dbd46a1f4a9aba873b3b50f7bf25",
       "version_major": 2,
       "version_minor": 0
      },
      "text/plain": [
       "Canvas(toolbar=Toolbar(toolitems=[('Home', 'Reset original view', 'home', 'home'), ('Back', 'Back to previous …"
      ]
     },
     "metadata": {},
     "output_type": "display_data"
    },
    {
     "name": "stderr",
     "output_type": "stream",
     "text": [
      "/home/kyle/packages/conda/lib/python3.7/site-packages/ipykernel_launcher.py:26: RuntimeWarning: More than 20 figures have been opened. Figures created through the pyplot interface (`matplotlib.pyplot.figure`) are retained until explicitly closed and may consume too much memory. (To control this warning, see the rcParam `figure.max_open_warning`).\n"
     ]
    },
    {
     "data": {
      "application/vnd.jupyter.widget-view+json": {
       "model_id": "a5d46dd76ccf4661a15ef9e466ca6703",
       "version_major": 2,
       "version_minor": 0
      },
      "text/plain": [
       "Canvas(toolbar=Toolbar(toolitems=[('Home', 'Reset original view', 'home', 'home'), ('Back', 'Back to previous …"
      ]
     },
     "metadata": {},
     "output_type": "display_data"
    },
    {
     "name": "stderr",
     "output_type": "stream",
     "text": [
      "/home/kyle/packages/conda/lib/python3.7/site-packages/ipykernel_launcher.py:26: RuntimeWarning: More than 20 figures have been opened. Figures created through the pyplot interface (`matplotlib.pyplot.figure`) are retained until explicitly closed and may consume too much memory. (To control this warning, see the rcParam `figure.max_open_warning`).\n"
     ]
    },
    {
     "data": {
      "application/vnd.jupyter.widget-view+json": {
       "model_id": "a7c664d5d75743c7a76ea23ef9124a43",
       "version_major": 2,
       "version_minor": 0
      },
      "text/plain": [
       "Canvas(toolbar=Toolbar(toolitems=[('Home', 'Reset original view', 'home', 'home'), ('Back', 'Back to previous …"
      ]
     },
     "metadata": {},
     "output_type": "display_data"
    }
   ],
   "source": [
    "plot_slice(0, loc=[-0.5, -0.5])\n",
    "plot_slice(1)\n",
    "plot_slice(2, loc=[0, 1])"
   ]
  },
  {
   "cell_type": "markdown",
   "metadata": {},
   "source": [
    "## Plot steps through a components values"
   ]
  },
  {
   "cell_type": "code",
   "execution_count": 79,
   "metadata": {},
   "outputs": [],
   "source": [
    "# a.do_embedding()\n",
    "\n",
    "def plot_steps(component, num_steps=10, xlim=None):\n",
    "    mask = a.interp_mask\n",
    "\n",
    "    use_embedding = a.embedding[mask, component]\n",
    "    use_flux = a.scale_flux[mask]\n",
    "    \n",
    "    min_embedding = np.percentile(use_embedding, 5)\n",
    "    max_embedding = np.percentile(use_embedding, 95)\n",
    "    \n",
    "    bin_edges = np.linspace(min_embedding, max_embedding, num_steps+1)\n",
    "    \n",
    "    bin_edges[0] = -1e20\n",
    "    bin_edges[-1] = 1e20\n",
    "    \n",
    "    plt.figure(figsize=(9, 4))\n",
    "    \n",
    "    cmap = plt.cm.coolwarm\n",
    "    sm = plt.cm.ScalarMappable(cmap=cmap, norm=plt.Normalize(vmin=min_embedding, vmax=max_embedding))\n",
    "    sm._A = []\n",
    "\n",
    "    if xlim is not None:\n",
    "        wave_mask = (a.wave > xlim[0] - 50) & (a.wave < xlim[1] + 50)\n",
    "    else:\n",
    "        wave_mask = np.ones(len(a.wave), dtype=bool)\n",
    "    \n",
    "    for step in range(num_steps):\n",
    "        step_mask = (use_embedding >= bin_edges[step]) & (use_embedding < bin_edges[step+1])\n",
    "        step_embedding = use_embedding[step_mask]\n",
    "\n",
    "        mean_val = np.mean(step_embedding)\n",
    "        step_flux = np.median(use_flux[step_mask], axis=0)\n",
    "        \n",
    "        # if step == 0:\n",
    "            # label = 'Median spectra in each component bin'\n",
    "        # else:\n",
    "            # label = ''\n",
    "        \n",
    "        # plt.plot(a.wave[wave_mask], step_flux[wave_mask], c=sm.to_rgba(mean_val), label=label)\n",
    "        plt.plot(a.wave[wave_mask], step_flux[wave_mask], c=sm.to_rgba(mean_val))\n",
    "        \n",
    "    if xlim is not None:\n",
    "        plt.xlim(*xlim)\n",
    "        \n",
    "    plt.colorbar(sm, label='Value of Component %d' % (component + 1))\n",
    "    plt.title('Component %d' % (component + 1))\n",
    "    \n",
    "    plt.xlabel('Wavelength ($\\AA$)')\n",
    "    plt.ylabel('Normalized flux')\n",
    "    plt.ylim(0, None)\n",
    "    \n",
    "    # plt.legend()\n",
    "    \n",
    "    plt.tight_layout()\n",
    "    \n",
    "    if xlim is None:\n",
    "        plt.savefig('./figures/component_%d_steps.pdf' % (component + 1))\n",
    "    else:\n",
    "        plt.savefig('./figures/component_%d_steps_zoom_%d_%d.pdf' % (component + 1, xlim[0], xlim[1]))"
   ]
  },
  {
   "cell_type": "code",
   "execution_count": 80,
   "metadata": {},
   "outputs": [
    {
     "name": "stderr",
     "output_type": "stream",
     "text": [
      "/home/kyle/packages/conda/lib/python3.7/site-packages/ipykernel_launcher.py:17: RuntimeWarning: More than 20 figures have been opened. Figures created through the pyplot interface (`matplotlib.pyplot.figure`) are retained until explicitly closed and may consume too much memory. (To control this warning, see the rcParam `figure.max_open_warning`).\n"
     ]
    },
    {
     "data": {
      "application/vnd.jupyter.widget-view+json": {
       "model_id": "3bad8120251e43529b8ce5763b7dd25d",
       "version_major": 2,
       "version_minor": 0
      },
      "text/plain": [
       "Canvas(toolbar=Toolbar(toolitems=[('Home', 'Reset original view', 'home', 'home'), ('Back', 'Back to previous …"
      ]
     },
     "metadata": {},
     "output_type": "display_data"
    },
    {
     "name": "stderr",
     "output_type": "stream",
     "text": [
      "/home/kyle/packages/conda/lib/python3.7/site-packages/ipykernel_launcher.py:17: RuntimeWarning: More than 20 figures have been opened. Figures created through the pyplot interface (`matplotlib.pyplot.figure`) are retained until explicitly closed and may consume too much memory. (To control this warning, see the rcParam `figure.max_open_warning`).\n"
     ]
    },
    {
     "data": {
      "application/vnd.jupyter.widget-view+json": {
       "model_id": "4bae26c2bb1d454f88c9308a52b0133d",
       "version_major": 2,
       "version_minor": 0
      },
      "text/plain": [
       "Canvas(toolbar=Toolbar(toolitems=[('Home', 'Reset original view', 'home', 'home'), ('Back', 'Back to previous …"
      ]
     },
     "metadata": {},
     "output_type": "display_data"
    },
    {
     "name": "stderr",
     "output_type": "stream",
     "text": [
      "/home/kyle/packages/conda/lib/python3.7/site-packages/ipykernel_launcher.py:17: RuntimeWarning: More than 20 figures have been opened. Figures created through the pyplot interface (`matplotlib.pyplot.figure`) are retained until explicitly closed and may consume too much memory. (To control this warning, see the rcParam `figure.max_open_warning`).\n"
     ]
    },
    {
     "data": {
      "application/vnd.jupyter.widget-view+json": {
       "model_id": "c4f6fa9db95840a2a28fc34efae5487e",
       "version_major": 2,
       "version_minor": 0
      },
      "text/plain": [
       "Canvas(toolbar=Toolbar(toolitems=[('Home', 'Reset original view', 'home', 'home'), ('Back', 'Back to previous …"
      ]
     },
     "metadata": {},
     "output_type": "display_data"
    },
    {
     "name": "stderr",
     "output_type": "stream",
     "text": [
      "/home/kyle/packages/conda/lib/python3.7/site-packages/ipykernel_launcher.py:17: RuntimeWarning: More than 20 figures have been opened. Figures created through the pyplot interface (`matplotlib.pyplot.figure`) are retained until explicitly closed and may consume too much memory. (To control this warning, see the rcParam `figure.max_open_warning`).\n"
     ]
    },
    {
     "data": {
      "application/vnd.jupyter.widget-view+json": {
       "model_id": "a2a3a4805e6c4b4198277435e0e9e088",
       "version_major": 2,
       "version_minor": 0
      },
      "text/plain": [
       "Canvas(toolbar=Toolbar(toolitems=[('Home', 'Reset original view', 'home', 'home'), ('Back', 'Back to previous …"
      ]
     },
     "metadata": {},
     "output_type": "display_data"
    },
    {
     "name": "stderr",
     "output_type": "stream",
     "text": [
      "/home/kyle/packages/conda/lib/python3.7/site-packages/ipykernel_launcher.py:17: RuntimeWarning: More than 20 figures have been opened. Figures created through the pyplot interface (`matplotlib.pyplot.figure`) are retained until explicitly closed and may consume too much memory. (To control this warning, see the rcParam `figure.max_open_warning`).\n"
     ]
    },
    {
     "data": {
      "application/vnd.jupyter.widget-view+json": {
       "model_id": "f2690c5ba9084feeaefa1e0390ea56d8",
       "version_major": 2,
       "version_minor": 0
      },
      "text/plain": [
       "Canvas(toolbar=Toolbar(toolitems=[('Home', 'Reset original view', 'home', 'home'), ('Back', 'Back to previous …"
      ]
     },
     "metadata": {},
     "output_type": "display_data"
    },
    {
     "name": "stderr",
     "output_type": "stream",
     "text": [
      "/home/kyle/packages/conda/lib/python3.7/site-packages/ipykernel_launcher.py:17: RuntimeWarning: More than 20 figures have been opened. Figures created through the pyplot interface (`matplotlib.pyplot.figure`) are retained until explicitly closed and may consume too much memory. (To control this warning, see the rcParam `figure.max_open_warning`).\n"
     ]
    },
    {
     "data": {
      "application/vnd.jupyter.widget-view+json": {
       "model_id": "a8c8bab842924f648b3a1cb0e7c78b19",
       "version_major": 2,
       "version_minor": 0
      },
      "text/plain": [
       "Canvas(toolbar=Toolbar(toolitems=[('Home', 'Reset original view', 'home', 'home'), ('Back', 'Back to previous …"
      ]
     },
     "metadata": {},
     "output_type": "display_data"
    },
    {
     "name": "stderr",
     "output_type": "stream",
     "text": [
      "/home/kyle/packages/conda/lib/python3.7/site-packages/ipykernel_launcher.py:17: RuntimeWarning: More than 20 figures have been opened. Figures created through the pyplot interface (`matplotlib.pyplot.figure`) are retained until explicitly closed and may consume too much memory. (To control this warning, see the rcParam `figure.max_open_warning`).\n"
     ]
    },
    {
     "data": {
      "application/vnd.jupyter.widget-view+json": {
       "model_id": "65479664c1ee4f4ab588894ae9f6c6a3",
       "version_major": 2,
       "version_minor": 0
      },
      "text/plain": [
       "Canvas(toolbar=Toolbar(toolitems=[('Home', 'Reset original view', 'home', 'home'), ('Back', 'Back to previous …"
      ]
     },
     "metadata": {},
     "output_type": "display_data"
    },
    {
     "name": "stderr",
     "output_type": "stream",
     "text": [
      "/home/kyle/packages/conda/lib/python3.7/site-packages/ipykernel_launcher.py:17: RuntimeWarning: More than 20 figures have been opened. Figures created through the pyplot interface (`matplotlib.pyplot.figure`) are retained until explicitly closed and may consume too much memory. (To control this warning, see the rcParam `figure.max_open_warning`).\n"
     ]
    },
    {
     "data": {
      "application/vnd.jupyter.widget-view+json": {
       "model_id": "c4440edd0bea4b5cb96368e7de8a9c30",
       "version_major": 2,
       "version_minor": 0
      },
      "text/plain": [
       "Canvas(toolbar=Toolbar(toolitems=[('Home', 'Reset original view', 'home', 'home'), ('Back', 'Back to previous …"
      ]
     },
     "metadata": {},
     "output_type": "display_data"
    },
    {
     "name": "stderr",
     "output_type": "stream",
     "text": [
      "/home/kyle/packages/conda/lib/python3.7/site-packages/ipykernel_launcher.py:17: RuntimeWarning: More than 20 figures have been opened. Figures created through the pyplot interface (`matplotlib.pyplot.figure`) are retained until explicitly closed and may consume too much memory. (To control this warning, see the rcParam `figure.max_open_warning`).\n"
     ]
    },
    {
     "data": {
      "application/vnd.jupyter.widget-view+json": {
       "model_id": "b0b67348d21546c2b37b7daabdc7f861",
       "version_major": 2,
       "version_minor": 0
      },
      "text/plain": [
       "Canvas(toolbar=Toolbar(toolitems=[('Home', 'Reset original view', 'home', 'home'), ('Back', 'Back to previous …"
      ]
     },
     "metadata": {},
     "output_type": "display_data"
    },
    {
     "name": "stderr",
     "output_type": "stream",
     "text": [
      "/home/kyle/packages/conda/lib/python3.7/site-packages/ipykernel_launcher.py:17: RuntimeWarning: More than 20 figures have been opened. Figures created through the pyplot interface (`matplotlib.pyplot.figure`) are retained until explicitly closed and may consume too much memory. (To control this warning, see the rcParam `figure.max_open_warning`).\n"
     ]
    },
    {
     "data": {
      "application/vnd.jupyter.widget-view+json": {
       "model_id": "3556d62905fb46beab136b75af97ac83",
       "version_major": 2,
       "version_minor": 0
      },
      "text/plain": [
       "Canvas(toolbar=Toolbar(toolitems=[('Home', 'Reset original view', 'home', 'home'), ('Back', 'Back to previous …"
      ]
     },
     "metadata": {},
     "output_type": "display_data"
    },
    {
     "name": "stderr",
     "output_type": "stream",
     "text": [
      "/home/kyle/packages/conda/lib/python3.7/site-packages/ipykernel_launcher.py:17: RuntimeWarning: More than 20 figures have been opened. Figures created through the pyplot interface (`matplotlib.pyplot.figure`) are retained until explicitly closed and may consume too much memory. (To control this warning, see the rcParam `figure.max_open_warning`).\n"
     ]
    },
    {
     "data": {
      "application/vnd.jupyter.widget-view+json": {
       "model_id": "921b0309d9ba4a0392a1323c7d5fcc59",
       "version_major": 2,
       "version_minor": 0
      },
      "text/plain": [
       "Canvas(toolbar=Toolbar(toolitems=[('Home', 'Reset original view', 'home', 'home'), ('Back', 'Back to previous …"
      ]
     },
     "metadata": {},
     "output_type": "display_data"
    },
    {
     "name": "stderr",
     "output_type": "stream",
     "text": [
      "/home/kyle/packages/conda/lib/python3.7/site-packages/ipykernel_launcher.py:17: RuntimeWarning: More than 20 figures have been opened. Figures created through the pyplot interface (`matplotlib.pyplot.figure`) are retained until explicitly closed and may consume too much memory. (To control this warning, see the rcParam `figure.max_open_warning`).\n"
     ]
    },
    {
     "data": {
      "application/vnd.jupyter.widget-view+json": {
       "model_id": "bc73cd4709c0418aa4b8c0f0e782cb31",
       "version_major": 2,
       "version_minor": 0
      },
      "text/plain": [
       "Canvas(toolbar=Toolbar(toolitems=[('Home', 'Reset original view', 'home', 'home'), ('Back', 'Back to previous …"
      ]
     },
     "metadata": {},
     "output_type": "display_data"
    }
   ],
   "source": [
    "for component in range(3):\n",
    "    plot_steps(component)\n",
    "    plot_steps(component, xlim=(3300, 4500))\n",
    "    plot_steps(component, xlim=(4900, 6700))\n",
    "    plot_steps(component, xlim=(7200, 8600))"
   ]
  },
  {
   "cell_type": "markdown",
   "metadata": {
    "toc-hr-collapsed": false
   },
   "source": [
    "## Comparison to original twins"
   ]
  },
  {
   "cell_type": "code",
   "execution_count": 81,
   "metadata": {},
   "outputs": [],
   "source": [
    "hannah_list = np.genfromtxt('./data/fakhouri_atmax_list.txt', dtype='str')\n",
    "twins_mask = np.array([i.name in hannah_list for i in a.targets])"
   ]
  },
  {
   "cell_type": "code",
   "execution_count": 82,
   "metadata": {},
   "outputs": [
    {
     "name": "stdout",
     "output_type": "stream",
     "text": [
      "RMS  20%: 0.10241635885739103\n",
      "NMAD 20%: 0.09379011862452236\n"
     ]
    },
    {
     "name": "stderr",
     "output_type": "stream",
     "text": [
      "/home/kyle/supernova/snfactory/manifold_twins/analysis/manifold_twins.py:1682: RuntimeWarning: More than 20 figures have been opened. Figures created through the pyplot interface (`matplotlib.pyplot.figure`) are retained until explicitly closed and may consume too much memory. (To control this warning, see the rcParam `figure.max_open_warning`).\n",
      "  plt.figure()\n"
     ]
    },
    {
     "data": {
      "application/vnd.jupyter.widget-view+json": {
       "model_id": "e837c315a66f4960b03d5f21d734e8c8",
       "version_major": 2,
       "version_minor": 0
      },
      "text/plain": [
       "Canvas(toolbar=Toolbar(toolitems=[('Home', 'Reset original view', 'home', 'home'), ('Back', 'Back to previous …"
      ]
     },
     "metadata": {},
     "output_type": "display_data"
    }
   ],
   "source": [
    "a.plot_twin_pairings()\n",
    "plt.xlim(0, 100)\n",
    "plt.ylim(0, None)\n",
    "plt.savefig('./figures/twin_dispersion.pdf')"
   ]
  },
  {
   "cell_type": "markdown",
   "metadata": {},
   "source": [
    "## Twins that are poor brightness matches"
   ]
  },
  {
   "cell_type": "code",
   "execution_count": 83,
   "metadata": {},
   "outputs": [],
   "source": [
    "from scipy.spatial.distance import pdist, squareform\n",
    "\n",
    "mask = a.good_mag_mask\n",
    "\n",
    "raw_spec_dists = pdist(a.iso_diffs[mask])\n",
    "spec_dists = squareform(raw_spec_dists)\n",
    "mag_diffs = squareform(pdist(a.mags[mask][:, None]))"
   ]
  },
  {
   "cell_type": "code",
   "execution_count": 84,
   "metadata": {},
   "outputs": [
    {
     "name": "stderr",
     "output_type": "stream",
     "text": [
      "/home/kyle/packages/conda/lib/python3.7/site-packages/ipykernel_launcher.py:2: RuntimeWarning: More than 20 figures have been opened. Figures created through the pyplot interface (`matplotlib.pyplot.figure`) are retained until explicitly closed and may consume too much memory. (To control this warning, see the rcParam `figure.max_open_warning`).\n",
      "  \n"
     ]
    },
    {
     "data": {
      "application/vnd.jupyter.widget-view+json": {
       "model_id": "242e6646b7ec4e48ba9a130c5d2ffa51",
       "version_major": 2,
       "version_minor": 0
      },
      "text/plain": [
       "Canvas(toolbar=Toolbar(toolitems=[('Home', 'Reset original view', 'home', 'home'), ('Back', 'Back to previous …"
      ]
     },
     "metadata": {},
     "output_type": "display_data"
    },
    {
     "data": {
      "text/plain": [
       "(array([463., 234., 188., 138.,  74.,  40.,  34.,  12.,   0.,   2.]),\n",
       " array([0.        , 0.05245902, 0.10491805, 0.15737707, 0.2098361 ,\n",
       "        0.26229512, 0.31475415, 0.36721317, 0.4196722 , 0.47213122,\n",
       "        0.52459025]),\n",
       " <a list of 10 Patch objects>)"
      ]
     },
     "execution_count": 84,
     "metadata": {},
     "output_type": "execute_result"
    }
   ],
   "source": [
    "dist_mask = spec_dists < np.percentile(raw_spec_dists, 20)\n",
    "plt.figure()\n",
    "plt.hist(mag_diffs[dist_mask])"
   ]
  },
  {
   "cell_type": "code",
   "execution_count": 85,
   "metadata": {},
   "outputs": [
    {
     "name": "stdout",
     "output_type": "stream",
     "text": [
      "       target_1        target_2     redshift_1      redshift_2        color_1         color_2          mag_1           mag_2     salt_mag_1      salt_mag_2     trans[0]_1      trans[0]_2\n",
      "   CSS110918_02 SNF20080612-003          0.038           0.033         -0.211          -0.178          0.063          -0.290         -0.000          -0.228          0.302          -0.376\n",
      "       PTF11drz SNF20080612-003          0.057           0.033         -0.089          -0.178          0.092          -0.290          0.089          -0.228         -1.581          -0.376\n",
      "       PTF12jqh SNF20080612-003          0.047           0.033         -0.279          -0.178          0.101          -0.290          0.078          -0.228         -1.703          -0.376\n",
      "       SN2005hc        SN2007kk          0.045           0.041         -0.369          -0.237          0.234          -0.181          0.148          -0.202         -1.310          -2.487\n",
      "       SN2005hc SNF20060512-002          0.045           0.051         -0.369          -0.025          0.234          -0.167          0.148          -0.402         -1.310          -2.034\n",
      "       SN2005hc SNF20070330-024          0.045           0.042         -0.369          -0.392          0.234          -0.121          0.148          -0.217         -1.310          -1.083\n",
      "       SN2005hc SNF20080612-003          0.045           0.033         -0.369          -0.178          0.234          -0.290          0.148          -0.228         -1.310          -0.376\n",
      "       SN2007bd SNF20080612-003          0.031           0.033         -0.195          -0.178          0.070          -0.290          0.016          -0.228         -1.071          -0.376\n",
      "SNF20061022-005 SNF20080723-012          0.078           0.075         -0.096          -0.203         -0.077          -0.429         -0.075          -0.551          4.130           4.686\n",
      "SNF20080514-002 SNF20080825-010          0.023           0.040         -0.223          -0.117          0.253          -0.122          0.113          -0.248          1.577          -0.177\n",
      "SNF20080612-003 SNF20080725-004          0.033           0.054         -0.178          -0.128         -0.290           0.103         -0.228           0.152         -0.376          -1.408\n",
      "SNF20080612-003 SNF20080918-000          0.033           0.065         -0.178           0.107         -0.290           0.077         -0.228           0.151         -0.376          -1.975\n",
      "SNF20080825-010        SNhunt89          0.040           0.033         -0.117           0.314         -0.122           0.236         -0.248           0.338         -0.177          -0.943\n"
     ]
    }
   ],
   "source": [
    "idx1, idx2 = np.where(dist_mask & (mag_diffs > 0.35))\n",
    "idx_mask = idx1 < idx2\n",
    "idx1 = idx1[idx_mask]\n",
    "idx2 = idx2[idx_mask]\n",
    "\n",
    "def print_pairs(vals):\n",
    "    for val_name, val in vals.items():\n",
    "        print(\"%13s_1\" % val_name, \"%13s_2\" % val_name, end='')\n",
    "    print('')\n",
    "        \n",
    "    for i, j in zip(idx1, idx2):\n",
    "        for val_name, val in vals.items():\n",
    "            try:\n",
    "                print('%15.3f' % val[mask][i], '%15.3f' % val[mask][j], end='')\n",
    "            except TypeError:\n",
    "                print('%15s' % val[mask][i], '%15s' % val[mask][j], end='')\n",
    "        print('')\n",
    "\n",
    "print_pairs({\n",
    "    'target': a.targets,\n",
    "    'redshift': a.redshifts,\n",
    "    'color': a.colors,\n",
    "    'mag': a.mags,\n",
    "    'salt_mag': a.salt_hr,\n",
    "    'embedding[0]': a.embedding[:, 0],\n",
    "})"
   ]
  },
  {
   "cell_type": "markdown",
   "metadata": {},
   "source": [
    "## Comparision to Branch classifications"
   ]
  },
  {
   "cell_type": "code",
   "execution_count": 86,
   "metadata": {},
   "outputs": [
    {
     "name": "stderr",
     "output_type": "stream",
     "text": [
      "/home/kyle/supernova/snfactory/manifold_twins/analysis/manifold_twins.py:713: RuntimeWarning: More than 20 figures have been opened. Figures created through the pyplot interface (`matplotlib.pyplot.figure`) are retained until explicitly closed and may consume too much memory. (To control this warning, see the rcParam `figure.max_open_warning`).\n",
      "  plt.figure()\n"
     ]
    },
    {
     "data": {
      "application/vnd.jupyter.widget-view+json": {
       "model_id": "4ce0499b7197414ea427db3f10210ef0",
       "version_major": 2,
       "version_minor": 0
      },
      "text/plain": [
       "Canvas(toolbar=Toolbar(toolitems=[('Home', 'Reset original view', 'home', 'home'), ('Back', 'Back to previous …"
      ]
     },
     "metadata": {},
     "output_type": "display_data"
    }
   ],
   "source": [
    "a.do_blondin_plot()\n",
    "plt.savefig('./figures/branch_classification.pdf')"
   ]
  },
  {
   "cell_type": "code",
   "execution_count": 87,
   "metadata": {},
   "outputs": [
    {
     "name": "stderr",
     "output_type": "stream",
     "text": [
      "/home/kyle/supernova/snfactory/manifold_twins/analysis/manifold_twins.py:667: RuntimeWarning: More than 20 figures have been opened. Figures created through the pyplot interface (`matplotlib.pyplot.figure`) are retained until explicitly closed and may consume too much memory. (To control this warning, see the rcParam `figure.max_open_warning`).\n",
      "  plt.figure()\n"
     ]
    },
    {
     "data": {
      "application/vnd.jupyter.widget-view+json": {
       "model_id": "9526a553362a4b2f96ddf2f8d3bb8495",
       "version_major": 2,
       "version_minor": 0
      },
      "text/plain": [
       "Canvas(toolbar=Toolbar(toolitems=[('Home', 'Reset original view', 'home', 'home'), ('Back', 'Back to previous …"
      ]
     },
     "metadata": {},
     "output_type": "display_data"
    }
   ],
   "source": [
    "a.do_component_blondin_plot()\n",
    "plt.savefig('./figures/branch_labels_isomap.pdf')"
   ]
  },
  {
   "cell_type": "code",
   "execution_count": 88,
   "metadata": {},
   "outputs": [
    {
     "name": "stderr",
     "output_type": "stream",
     "text": [
      "/home/kyle/packages/conda/lib/python3.7/site-packages/ipykernel_launcher.py:25: RuntimeWarning: More than 20 figures have been opened. Figures created through the pyplot interface (`matplotlib.pyplot.figure`) are retained until explicitly closed and may consume too much memory. (To control this warning, see the rcParam `figure.max_open_warning`).\n"
     ]
    },
    {
     "data": {
      "application/vnd.jupyter.widget-view+json": {
       "model_id": "ff313d0f54ed48fb97208410167f28ac",
       "version_major": 2,
       "version_minor": 0
      },
      "text/plain": [
       "Canvas(toolbar=Toolbar(toolitems=[('Home', 'Reset original view', 'home', 'home'), ('Back', 'Back to previous …"
      ]
     },
     "metadata": {},
     "output_type": "display_data"
    },
    {
     "name": "stdout",
     "output_type": "stream",
     "text": [
      "11\n",
      "17\n",
      "6\n",
      "10\n"
     ]
    },
    {
     "name": "stderr",
     "output_type": "stream",
     "text": [
      "/home/kyle/packages/conda/lib/python3.7/site-packages/ipykernel_launcher.py:14: RuntimeWarning: invalid value encountered in less\n",
      "  \n"
     ]
    }
   ],
   "source": [
    "coord_1 = (-1.3, -2.1)\n",
    "coord_2 = (2.2, 1.1)\n",
    "\n",
    "def plot_spec(frac, radius=0.7):\n",
    "    val_0 = coord_1[0] + (coord_2[0] - coord_1[0]) * frac\n",
    "    val_1 = coord_1[1] + (coord_2[1] - coord_1[1]) * frac\n",
    "    \n",
    "    dist = np.sqrt(\n",
    "        (a.embedding[:, 0] - val_0)**2\n",
    "        + (a.embedding[:, 1] - val_1)**2\n",
    "    )\n",
    "    \n",
    "    t = a.embedding\n",
    "    cut = dist < radius\n",
    "    \n",
    "    print(np.sum(cut))\n",
    "    \n",
    "    f = np.median(a.scale_flux[cut], axis=0)\n",
    "    \n",
    "    # c = plt.cm.coolwarm((val_0 + 2) / 4)\n",
    "    c = plt.cm.coolwarm(i)\n",
    "    \n",
    "    plt.plot(a.wave, f, label='Median of spectra near (%.1f, %.1f)' % (val_0, val_1), c=c)\n",
    "    \n",
    "plt.figure(figsize=(8, 5))\n",
    "for i in np.linspace(0, 1, 4):\n",
    "    plot_spec(i)\n",
    "plt.xlabel('Wavelength ($\\AA$)')\n",
    "plt.ylabel('Flux (arbitrary units)')\n",
    "plt.legend()\n",
    "plt.savefig('./figures/core_normal_comparison.pdf')"
   ]
  },
  {
   "cell_type": "markdown",
   "metadata": {},
   "source": [
    "## Color comparison"
   ]
  },
  {
   "cell_type": "code",
   "execution_count": 89,
   "metadata": {},
   "outputs": [
    {
     "name": "stderr",
     "output_type": "stream",
     "text": [
      "/home/kyle/supernova/snfactory/manifold_twins/analysis/manifold_twins.py:836: RuntimeWarning: More than 20 figures have been opened. Figures created through the pyplot interface (`matplotlib.pyplot.figure`) are retained until explicitly closed and may consume too much memory. (To control this warning, see the rcParam `figure.max_open_warning`).\n",
      "  fig = plt.figure()\n"
     ]
    },
    {
     "data": {
      "application/vnd.jupyter.widget-view+json": {
       "model_id": "a9966f9d6eb2435ba01bf964fa4b2640",
       "version_major": 2,
       "version_minor": 0
      },
      "text/plain": [
       "Canvas(toolbar=Toolbar(toolitems=[('Home', 'Reset original view', 'home', 'home'), ('Back', 'Back to previous …"
      ]
     },
     "metadata": {},
     "output_type": "display_data"
    }
   ],
   "source": [
    "a.scatter(a.colors, vmin=-0.5, vmax=0.5)"
   ]
  },
  {
   "cell_type": "code",
   "execution_count": 90,
   "metadata": {},
   "outputs": [
    {
     "name": "stderr",
     "output_type": "stream",
     "text": [
      "/home/kyle/packages/conda/lib/python3.7/site-packages/ipykernel_launcher.py:1: RuntimeWarning: More than 20 figures have been opened. Figures created through the pyplot interface (`matplotlib.pyplot.figure`) are retained until explicitly closed and may consume too much memory. (To control this warning, see the rcParam `figure.max_open_warning`).\n",
      "  \"\"\"Entry point for launching an IPython kernel.\n"
     ]
    },
    {
     "data": {
      "application/vnd.jupyter.widget-view+json": {
       "model_id": "186bd163d3d045adb6db58103b954d10",
       "version_major": 2,
       "version_minor": 0
      },
      "text/plain": [
       "Canvas(toolbar=Toolbar(toolitems=[('Home', 'Reset original view', 'home', 'home'), ('Back', 'Back to previous …"
      ]
     },
     "metadata": {},
     "output_type": "display_data"
    },
    {
     "data": {
      "text/plain": [
       "<matplotlib.collections.PathCollection at 0x7fbf25e1fd10>"
      ]
     },
     "execution_count": 90,
     "metadata": {},
     "output_type": "execute_result"
    }
   ],
   "source": [
    "plt.figure()\n",
    "plt.scatter(a.embedding[:, 1], a.colors, c=a.embedding[:, 0])"
   ]
  },
  {
   "cell_type": "markdown",
   "metadata": {},
   "source": [
    "# Standardization "
   ]
  },
  {
   "cell_type": "markdown",
   "metadata": {},
   "source": [
    "## Raw magnitudes"
   ]
  },
  {
   "cell_type": "code",
   "execution_count": 91,
   "metadata": {},
   "outputs": [
    {
     "name": "stderr",
     "output_type": "stream",
     "text": [
      "/home/kyle/supernova/snfactory/manifold_twins/analysis/manifold_twins.py:836: RuntimeWarning: More than 20 figures have been opened. Figures created through the pyplot interface (`matplotlib.pyplot.figure`) are retained until explicitly closed and may consume too much memory. (To control this warning, see the rcParam `figure.max_open_warning`).\n",
      "  fig = plt.figure()\n"
     ]
    },
    {
     "data": {
      "application/vnd.jupyter.widget-view+json": {
       "model_id": "ad4c40599d074c6c82aeca632038bf09",
       "version_major": 2,
       "version_minor": 0
      },
      "text/plain": [
       "Canvas(toolbar=Toolbar(toolitems=[('Home', 'Reset original view', 'home', 'home'), ('Back', 'Back to previous …"
      ]
     },
     "metadata": {},
     "output_type": "display_data"
    }
   ],
   "source": [
    "a.scatter(a.mags, a.good_mag_mask, vmin=-0.2, vmax=0.2, label='Residual magnitude', invert_colorbar=True)\n",
    "plt.savefig('./figures/components_12_residual_magnitude.pdf')"
   ]
  },
  {
   "cell_type": "code",
   "execution_count": 92,
   "metadata": {},
   "outputs": [
    {
     "name": "stderr",
     "output_type": "stream",
     "text": [
      "/home/kyle/supernova/snfactory/manifold_twins/analysis/manifold_twins.py:836: RuntimeWarning: More than 20 figures have been opened. Figures created through the pyplot interface (`matplotlib.pyplot.figure`) are retained until explicitly closed and may consume too much memory. (To control this warning, see the rcParam `figure.max_open_warning`).\n",
      "  fig = plt.figure()\n"
     ]
    },
    {
     "data": {
      "application/vnd.jupyter.widget-view+json": {
       "model_id": "3567414d154d4ab1a49a3ecffaef16f3",
       "version_major": 2,
       "version_minor": 0
      },
      "text/plain": [
       "Canvas(toolbar=Toolbar(toolitems=[('Home', 'Reset original view', 'home', 'home'), ('Back', 'Back to previous …"
      ]
     },
     "metadata": {},
     "output_type": "display_data"
    }
   ],
   "source": [
    "a.scatter(a.mags, a.good_mag_mask, vmin=-0.2, vmax=0.2, axis_1=0, axis_2=2, label='Residual magnitude', invert_colorbar=True)\n",
    "plt.savefig('./figures/components_13_residual_magnitude.pdf')"
   ]
  },
  {
   "cell_type": "code",
   "execution_count": 93,
   "metadata": {},
   "outputs": [
    {
     "name": "stderr",
     "output_type": "stream",
     "text": [
      "/home/kyle/supernova/snfactory/manifold_twins/analysis/manifold_twins.py:836: RuntimeWarning: More than 20 figures have been opened. Figures created through the pyplot interface (`matplotlib.pyplot.figure`) are retained until explicitly closed and may consume too much memory. (To control this warning, see the rcParam `figure.max_open_warning`).\n",
      "  fig = plt.figure()\n"
     ]
    },
    {
     "data": {
      "application/vnd.jupyter.widget-view+json": {
       "model_id": "bcd70f7882dd47a38837962b96266d43",
       "version_major": 2,
       "version_minor": 0
      },
      "text/plain": [
       "Canvas(toolbar=Toolbar(toolitems=[('Home', 'Reset original view', 'home', 'home'), ('Back', 'Back to previous …"
      ]
     },
     "metadata": {},
     "output_type": "display_data"
    }
   ],
   "source": [
    "a.scatter(a.mags, a.good_mag_mask, vmin=-0.2, vmax=0.2, axis_1=1, axis_2=2, label='Residual magnitude', invert_colorbar=True)\n",
    "plt.savefig('./figures/components_23_residual_magnitude.pdf')"
   ]
  },
  {
   "cell_type": "markdown",
   "metadata": {},
   "source": [
    "## GP standardization"
   ]
  },
  {
   "cell_type": "code",
   "execution_count": 94,
   "metadata": {},
   "outputs": [
    {
     "name": "stdout",
     "output_type": "stream",
     "text": [
      "Fitting GP hyperparameters...\n",
      "Fit result:\n",
      "      fun: -60.581679263571836\n",
      " hess_inv: array([[ 0.01362433, -0.00157846,  0.00145199, -0.00682461],\n",
      "       [-0.00157846,  0.00042307, -0.00039574,  0.00117954],\n",
      "       [ 0.00145199, -0.00039574,  0.00097157, -0.0001324 ],\n",
      "       [-0.00682461,  0.00117954, -0.0001324 ,  0.04600174]])\n",
      "      jac: array([ 7.15255737e-06, -5.14984131e-05,  3.33786011e-06, -1.90734863e-06])\n",
      "  message: 'Desired error not necessarily achieved due to precision loss.'\n",
      "     nfev: 151\n",
      "      nit: 18\n",
      "     njev: 25\n",
      "   status: 2\n",
      "  success: False\n",
      "        x: array([-0.01267059,  0.0717383 ,  0.10495641,  2.7701184 ])\n",
      "Finite difference covariance step sizes: [1.60e-04 2.00e-05 4.00e-05 2.56e-03]\n",
      "Fit uncertainty: [0.072039   0.01213764 0.03502084 1.7357127 ]\n",
      "Fit NMAD:        0.0795786131480306\n",
      "Fit std:         0.09785320904372313\n"
     ]
    }
   ],
   "source": [
    "# Reset to defaults in case things got messed up\n",
    "a.do_embedding()\n",
    "a.fit_gp()"
   ]
  },
  {
   "cell_type": "code",
   "execution_count": 95,
   "metadata": {},
   "outputs": [
    {
     "name": "stderr",
     "output_type": "stream",
     "text": [
      "/home/kyle/supernova/snfactory/manifold_twins/analysis/manifold_twins.py:836: RuntimeWarning: More than 20 figures have been opened. Figures created through the pyplot interface (`matplotlib.pyplot.figure`) are retained until explicitly closed and may consume too much memory. (To control this warning, see the rcParam `figure.max_open_warning`).\n",
      "  fig = plt.figure()\n"
     ]
    },
    {
     "data": {
      "application/vnd.jupyter.widget-view+json": {
       "model_id": "84f93043da21496ca9b01c358bb89fae",
       "version_major": 2,
       "version_minor": 0
      },
      "text/plain": [
       "Canvas(toolbar=Toolbar(toolitems=[('Home', 'Reset original view', 'home', 'home'), ('Back', 'Back to previous …"
      ]
     },
     "metadata": {},
     "output_type": "display_data"
    },
    {
     "name": "stderr",
     "output_type": "stream",
     "text": [
      "/home/kyle/supernova/snfactory/manifold_twins/analysis/manifold_twins.py:836: RuntimeWarning: More than 20 figures have been opened. Figures created through the pyplot interface (`matplotlib.pyplot.figure`) are retained until explicitly closed and may consume too much memory. (To control this warning, see the rcParam `figure.max_open_warning`).\n",
      "  fig = plt.figure()\n"
     ]
    },
    {
     "data": {
      "application/vnd.jupyter.widget-view+json": {
       "model_id": "96e604295b4b4b85adc80b1ea07189d0",
       "version_major": 2,
       "version_minor": 0
      },
      "text/plain": [
       "Canvas(toolbar=Toolbar(toolitems=[('Home', 'Reset original view', 'home', 'home'), ('Back', 'Back to previous …"
      ]
     },
     "metadata": {},
     "output_type": "display_data"
    },
    {
     "name": "stderr",
     "output_type": "stream",
     "text": [
      "/home/kyle/supernova/snfactory/manifold_twins/analysis/manifold_twins.py:836: RuntimeWarning: More than 20 figures have been opened. Figures created through the pyplot interface (`matplotlib.pyplot.figure`) are retained until explicitly closed and may consume too much memory. (To control this warning, see the rcParam `figure.max_open_warning`).\n",
      "  fig = plt.figure()\n"
     ]
    },
    {
     "data": {
      "application/vnd.jupyter.widget-view+json": {
       "model_id": "8d1516e09c7b450aab302f5e07ebe0e2",
       "version_major": 2,
       "version_minor": 0
      },
      "text/plain": [
       "Canvas(toolbar=Toolbar(toolitems=[('Home', 'Reset original view', 'home', 'home'), ('Back', 'Back to previous …"
      ]
     },
     "metadata": {},
     "output_type": "display_data"
    }
   ],
   "source": [
    "a.plot_gp(axis_1=0, axis_2=1)\n",
    "plt.savefig('./figures/gp_mag_components_12.pdf')\n",
    "\n",
    "a.plot_gp(axis_1=0, axis_2=2)\n",
    "plt.savefig('./figures/gp_mag_components_13.pdf')\n",
    "\n",
    "a.plot_gp(axis_1=1, axis_2=2)\n",
    "plt.savefig('./figures/gp_mag_components_23.pdf')"
   ]
  },
  {
   "cell_type": "code",
   "execution_count": 96,
   "metadata": {},
   "outputs": [
    {
     "name": "stderr",
     "output_type": "stream",
     "text": [
      "/home/kyle/supernova/snfactory/manifold_twins/analysis/manifold_twins.py:836: RuntimeWarning: More than 20 figures have been opened. Figures created through the pyplot interface (`matplotlib.pyplot.figure`) are retained until explicitly closed and may consume too much memory. (To control this warning, see the rcParam `figure.max_open_warning`).\n",
      "  fig = plt.figure()\n"
     ]
    },
    {
     "data": {
      "application/vnd.jupyter.widget-view+json": {
       "model_id": "9a625ef1c8eb4493b05704c74b967b4a",
       "version_major": 2,
       "version_minor": 0
      },
      "text/plain": [
       "Canvas(toolbar=Toolbar(toolitems=[('Home', 'Reset original view', 'home', 'home'), ('Back', 'Back to previous …"
      ]
     },
     "metadata": {},
     "output_type": "display_data"
    }
   ],
   "source": [
    "a.scatter(a.colors, vmin=-0.2, vmax=0.2)"
   ]
  },
  {
   "cell_type": "markdown",
   "metadata": {},
   "source": [
    "## Check vs phases of original spectra"
   ]
  },
  {
   "cell_type": "code",
   "execution_count": 97,
   "metadata": {},
   "outputs": [
    {
     "name": "stdout",
     "output_type": "stream",
     "text": [
      "Fitting GP hyperparameters...\n",
      "Fit result:\n",
      "      fun: -60.581679263571836\n",
      " hess_inv: array([[ 0.01362433, -0.00157846,  0.00145199, -0.00682461],\n",
      "       [-0.00157846,  0.00042307, -0.00039574,  0.00117954],\n",
      "       [ 0.00145199, -0.00039574,  0.00097157, -0.0001324 ],\n",
      "       [-0.00682461,  0.00117954, -0.0001324 ,  0.04600174]])\n",
      "      jac: array([ 7.15255737e-06, -5.14984131e-05,  3.33786011e-06, -1.90734863e-06])\n",
      "  message: 'Desired error not necessarily achieved due to precision loss.'\n",
      "     nfev: 151\n",
      "      nit: 18\n",
      "     njev: 25\n",
      "   status: 2\n",
      "  success: False\n",
      "        x: array([-0.01267059,  0.0717383 ,  0.10495641,  2.7701184 ])\n",
      "Finite difference covariance step sizes: [1.60e-04 2.00e-05 4.00e-05 2.56e-03]\n",
      "Fit uncertainty: [0.072039   0.01213764 0.03502084 1.7357127 ]\n",
      "Fit NMAD:        0.0795786131480306\n",
      "Fit std:         0.09785320904372313\n"
     ]
    }
   ],
   "source": [
    "a.fit_gp()"
   ]
  },
  {
   "cell_type": "code",
   "execution_count": 98,
   "metadata": {},
   "outputs": [
    {
     "name": "stderr",
     "output_type": "stream",
     "text": [
      "/home/kyle/packages/conda/lib/python3.7/site-packages/ipykernel_launcher.py:1: RuntimeWarning: More than 20 figures have been opened. Figures created through the pyplot interface (`matplotlib.pyplot.figure`) are retained until explicitly closed and may consume too much memory. (To control this warning, see the rcParam `figure.max_open_warning`).\n",
      "  \"\"\"Entry point for launching an IPython kernel.\n"
     ]
    },
    {
     "data": {
      "application/vnd.jupyter.widget-view+json": {
       "model_id": "83759afe0ac948f4be818d3c2b3b589a",
       "version_major": 2,
       "version_minor": 0
      },
      "text/plain": [
       "Canvas(toolbar=Toolbar(toolitems=[('Home', 'Reset original view', 'home', 'home'), ('Back', 'Back to previous …"
      ]
     },
     "metadata": {},
     "output_type": "display_data"
    },
    {
     "data": {
      "text/plain": [
       "<matplotlib.legend.Legend at 0x7fbf257e0990>"
      ]
     },
     "execution_count": 98,
     "metadata": {},
     "output_type": "execute_result"
    }
   ],
   "source": [
    "plt.figure()\n",
    "plt.scatter(a.salt_phases[a.center_mask][a.good_mag_mask], a.corr_mags[a.good_mag_mask], label='Individual observations')\n",
    "math.plot_binned_mean(a.salt_phases[a.center_mask][a.good_mag_mask], a.corr_mags[a.good_mag_mask], c='C2', label='Binned mean')\n",
    "plt.xlabel('Phase of closest spectrum to maximum (days)')\n",
    "plt.ylabel('Residual magnitude')\n",
    "plt.gca().invert_yaxis()\n",
    "plt.legend()"
   ]
  },
  {
   "cell_type": "markdown",
   "metadata": {},
   "source": [
    "# SALT2 comparison"
   ]
  },
  {
   "cell_type": "code",
   "execution_count": 99,
   "metadata": {},
   "outputs": [
    {
     "name": "stdout",
     "output_type": "stream",
     "text": [
      "Pass 0, MB=-10.430, alpha=0.146, beta=2.859\n",
      "  -> new intrinsic_dispersion=0.060\n",
      "Pass 1, MB=-10.430, alpha=0.146, beta=2.849\n",
      "  -> new intrinsic_dispersion=0.061\n",
      "Pass 2, MB=-10.430, alpha=0.146, beta=2.849\n",
      "  -> new intrinsic_dispersion=0.061\n",
      "Pass 3, MB=-10.430, alpha=0.146, beta=2.849\n",
      "  -> new intrinsic_dispersion=0.061\n",
      "Pass 4, MB=-10.430, alpha=0.146, beta=2.849\n",
      "  -> new intrinsic_dispersion=0.061\n",
      "SALT2 Hubble fit: \n",
      "    MB:    -10.429800911064664\n",
      "    alpha: 0.14614847400720346\n",
      "    beta:  2.8494438881071957\n",
      "    σ_int: 0.06054515590321616\n",
      "    RMS:   0.14844754353549483\n",
      "    NMAD:  0.12352716751123487\n",
      "    WRMS:  0.14645166479123886\n"
     ]
    }
   ],
   "source": [
    "# Load SALT2 Hubble residuals\n",
    "a.calculate_salt_hubble_residuals()"
   ]
  },
  {
   "cell_type": "markdown",
   "metadata": {},
   "source": [
    "## SALT2 colors"
   ]
  },
  {
   "cell_type": "code",
   "execution_count": 100,
   "metadata": {},
   "outputs": [
    {
     "name": "stderr",
     "output_type": "stream",
     "text": [
      "/home/kyle/packages/conda/lib/python3.7/site-packages/ipykernel_launcher.py:1: RuntimeWarning: More than 20 figures have been opened. Figures created through the pyplot interface (`matplotlib.pyplot.figure`) are retained until explicitly closed and may consume too much memory. (To control this warning, see the rcParam `figure.max_open_warning`).\n",
      "  \"\"\"Entry point for launching an IPython kernel.\n"
     ]
    },
    {
     "data": {
      "application/vnd.jupyter.widget-view+json": {
       "model_id": "193e98960fb54774b1183ea7249c8cdd",
       "version_major": 2,
       "version_minor": 0
      },
      "text/plain": [
       "Canvas(toolbar=Toolbar(toolitems=[('Home', 'Reset original view', 'home', 'home'), ('Back', 'Back to previous …"
      ]
     },
     "metadata": {},
     "output_type": "display_data"
    }
   ],
   "source": [
    "plt.figure()\n",
    "plt.scatter(a.salt_color, a.colors, s=5)\n",
    "plt.xlabel('SALT2 Color ($c$)')\n",
    "plt.ylabel('RBTL Color ($A_V$)')\n",
    "plt.tight_layout()\n",
    "\n",
    "plt.savefig('./figures/salt2_color_comparison.pdf')"
   ]
  },
  {
   "cell_type": "markdown",
   "metadata": {},
   "source": [
    "## SALT2 X1"
   ]
  },
  {
   "cell_type": "code",
   "execution_count": 101,
   "metadata": {},
   "outputs": [
    {
     "name": "stderr",
     "output_type": "stream",
     "text": [
      "/home/kyle/supernova/snfactory/manifold_twins/analysis/manifold_twins.py:836: RuntimeWarning: More than 20 figures have been opened. Figures created through the pyplot interface (`matplotlib.pyplot.figure`) are retained until explicitly closed and may consume too much memory. (To control this warning, see the rcParam `figure.max_open_warning`).\n",
      "  fig = plt.figure()\n"
     ]
    },
    {
     "data": {
      "application/vnd.jupyter.widget-view+json": {
       "model_id": "ad5f494b24194f09a70d1c330e8a1262",
       "version_major": 2,
       "version_minor": 0
      },
      "text/plain": [
       "Canvas(toolbar=Toolbar(toolitems=[('Home', 'Reset original view', 'home', 'home'), ('Back', 'Back to previous …"
      ]
     },
     "metadata": {},
     "output_type": "display_data"
    }
   ],
   "source": [
    "a.scatter(a.salt_x1, a.interp_mask, label='SALT $x_1$')\n",
    "plt.savefig('./figures/salt2_x1_components.pdf')"
   ]
  },
  {
   "cell_type": "code",
   "execution_count": 103,
   "metadata": {},
   "outputs": [
    {
     "name": "stdout",
     "output_type": "stream",
     "text": [
      "[ 0.21070948 -0.96283285 -0.16898052]\n"
     ]
    },
    {
     "name": "stderr",
     "output_type": "stream",
     "text": [
      "/home/kyle/packages/conda/lib/python3.7/site-packages/ipykernel_launcher.py:11: RuntimeWarning: More than 20 figures have been opened. Figures created through the pyplot interface (`matplotlib.pyplot.figure`) are retained until explicitly closed and may consume too much memory. (To control this warning, see the rcParam `figure.max_open_warning`).\n",
      "  # This is added back by InteractiveShellApp.init_path()\n"
     ]
    },
    {
     "data": {
      "application/vnd.jupyter.widget-view+json": {
       "model_id": "e484565ce0f04d0da3aeca6a15644a14",
       "version_major": 2,
       "version_minor": 0
      },
      "text/plain": [
       "Canvas(toolbar=Toolbar(toolitems=[('Home', 'Reset original view', 'home', 'home'), ('Back', 'Back to previous …"
      ]
     },
     "metadata": {},
     "output_type": "display_data"
    },
    {
     "name": "stdout",
     "output_type": "stream",
     "text": [
      "[[1.         0.81948099]\n",
      " [0.81948099 1.        ]]\n"
     ]
    }
   ],
   "source": [
    "# Find the best predictor of x1\n",
    "def to_min(x):\n",
    "    diff = a.salt_x1 - a.embedding.dot(x)\n",
    "    return np.nanstd(diff[a.salt_mask])\n",
    "\n",
    "res = minimize(to_min, [0, 0, 0])\n",
    "\n",
    "norm_x = res.x / np.sqrt(np.sum(res.x**2))\n",
    "print(norm_x)\n",
    "\n",
    "plt.figure()\n",
    "# plt.scatter(a.embedding.dot(res.x), a.salt_x1, c=a.salt_mask)\n",
    "plt.scatter(a.embedding.dot(res.x)[~a.salt_mask], a.salt_x1[~a.salt_mask], c='C3', s=30, label='\"Bad\" SALT2 fits', alpha=0.8)\n",
    "plt.scatter(a.embedding.dot(res.x)[a.salt_mask], a.salt_x1[a.salt_mask], c='C0', s=30, label='\"Good\" SALT2 fits', alpha=0.8)\n",
    "plt.plot([-3, 3], [-3, 3], ls='--', c='k', label='One-to-one line')\n",
    "plt.xlim(-3, 3)\n",
    "plt.ylim(-3, 3)\n",
    "plt.xlabel('Rotated Isomap components')\n",
    "plt.ylabel('SALT2 $x_1$')\n",
    "plt.legend()\n",
    "plt.savefig('./figures/rotated_isomap_salt_x1.pdf')\n",
    "\n",
    "\n",
    "print(np.corrcoef(a.embedding.dot(res.x)[a.interp_mask & a.salt_mask], a.salt_x1[a.interp_mask & a.salt_mask]))"
   ]
  },
  {
   "cell_type": "markdown",
   "metadata": {},
   "source": [
    "## SALT2 outliers (Type Iax)"
   ]
  },
  {
   "cell_type": "code",
   "execution_count": 104,
   "metadata": {},
   "outputs": [
    {
     "data": {
      "text/plain": [
       "array([Target(name=\"SN2005cc\"), Target(name=\"SN2011ay\")], dtype=object)"
      ]
     },
     "execution_count": 104,
     "metadata": {},
     "output_type": "execute_result"
    }
   ],
   "source": [
    "a.targets[(a.embedding[:, 0] > 4.) & (a.embedding[:, 1] < -3)]"
   ]
  },
  {
   "cell_type": "code",
   "execution_count": 105,
   "metadata": {},
   "outputs": [
    {
     "name": "stdout",
     "output_type": "stream",
     "text": [
      "[Target(name=\"SN2005cc\") Target(name=\"SN2011ay\")]\n",
      "[1.15559577 1.03167635]\n",
      "[0.00785178 0.02125125]\n",
      "[ 1.43131201 -0.49525916]\n"
     ]
    },
    {
     "name": "stderr",
     "output_type": "stream",
     "text": [
      "/home/kyle/packages/conda/lib/python3.7/site-packages/ipykernel_launcher.py:16: RuntimeWarning: More than 20 figures have been opened. Figures created through the pyplot interface (`matplotlib.pyplot.figure`) are retained until explicitly closed and may consume too much memory. (To control this warning, see the rcParam `figure.max_open_warning`).\n",
      "  app.launch_new_instance()\n"
     ]
    },
    {
     "data": {
      "application/vnd.jupyter.widget-view+json": {
       "model_id": "4c3319036acd45d4b8fcd72a88d308c0",
       "version_major": 2,
       "version_minor": 0
      },
      "text/plain": [
       "Canvas(toolbar=Toolbar(toolitems=[('Home', 'Reset original view', 'home', 'home'), ('Back', 'Back to previous …"
      ]
     },
     "metadata": {},
     "output_type": "display_data"
    },
    {
     "name": "stdout",
     "output_type": "stream",
     "text": [
      "[ 5.16103866 -1.19708043 -0.7113846 ]\n"
     ]
    }
   ],
   "source": [
    "# Outlier spectra\n",
    "mask = (a.embedding[:, 0] > 4) & (a.embedding[:, 1] < -2)\n",
    "print(a.targets[mask])\n",
    "print(a.colors[mask])\n",
    "print(a.redshifts[mask])\n",
    "print(a.mags[mask])\n",
    "\n",
    "# Ref spectrum\n",
    "ref_target = 'SNF20070803-005'\n",
    "for idx2, target in enumerate(a.targets):\n",
    "    if target.name == ref_target:\n",
    "        break\n",
    "        \n",
    "# idx2 = np.where((a.embedding[:, 0] > 4.8) & (a.embedding[:, 1] < 2))[0][0]\n",
    "\n",
    "plt.figure()\n",
    "for i in np.where(mask)[0]:\n",
    "    plt.plot(a.wave, a.scale_flux[i], label=a.targets[i].name)\n",
    "    \n",
    "plt.plot(a.wave, a.scale_flux[idx2], c='k', ls='--', label=a.targets[idx2].name)\n",
    "print(a.embedding[idx2])\n",
    "\n",
    "plt.legend()\n",
    "\n",
    "plt.xlabel('Wavelength ($\\AA$)')\n",
    "plt.ylabel('Flux (arbitrary units)')\n",
    "\n",
    "plt.savefig('./figures/type_iax_comparison.pdf')"
   ]
  },
  {
   "cell_type": "markdown",
   "metadata": {},
   "source": [
    "## SALT2 magnitudes vs components"
   ]
  },
  {
   "cell_type": "code",
   "execution_count": 106,
   "metadata": {},
   "outputs": [
    {
     "name": "stderr",
     "output_type": "stream",
     "text": [
      "/home/kyle/supernova/snfactory/manifold_twins/analysis/manifold_twins.py:836: RuntimeWarning: More than 20 figures have been opened. Figures created through the pyplot interface (`matplotlib.pyplot.figure`) are retained until explicitly closed and may consume too much memory. (To control this warning, see the rcParam `figure.max_open_warning`).\n",
      "  fig = plt.figure()\n"
     ]
    },
    {
     "data": {
      "application/vnd.jupyter.widget-view+json": {
       "model_id": "86bc6f087f0c4d5d84a4785b990acf38",
       "version_major": 2,
       "version_minor": 0
      },
      "text/plain": [
       "Canvas(toolbar=Toolbar(toolitems=[('Home', 'Reset original view', 'home', 'home'), ('Back', 'Back to previous …"
      ]
     },
     "metadata": {},
     "output_type": "display_data"
    }
   ],
   "source": [
    "a.scatter(a.salt_hr, mask=a.good_salt_mask & a.interp_mask, vmin=-0.3, vmax=0.3, label='SALT2-corrected residual magnitude', invert_colorbar=True)\n",
    "# a.scatter(a.salt_hr, mask=a.good_salt_mask & a.interp_mask, vmin=-0.3, vmax=0.3, label='SALT2 Hubble residuals', invert_colorbar=True)\n",
    "plt.savefig('./figures/salt2_hr_components.pdf')"
   ]
  },
  {
   "cell_type": "code",
   "execution_count": 107,
   "metadata": {},
   "outputs": [
    {
     "name": "stderr",
     "output_type": "stream",
     "text": [
      "/home/kyle/packages/conda/lib/python3.7/site-packages/ipykernel_launcher.py:1: RuntimeWarning: More than 20 figures have been opened. Figures created through the pyplot interface (`matplotlib.pyplot.figure`) are retained until explicitly closed and may consume too much memory. (To control this warning, see the rcParam `figure.max_open_warning`).\n",
      "  \"\"\"Entry point for launching an IPython kernel.\n"
     ]
    },
    {
     "data": {
      "application/vnd.jupyter.widget-view+json": {
       "model_id": "d67087e558584ef6b0bf96ad79fb0f58",
       "version_major": 2,
       "version_minor": 0
      },
      "text/plain": [
       "Canvas(toolbar=Toolbar(toolitems=[('Home', 'Reset original view', 'home', 'home'), ('Back', 'Back to previous …"
      ]
     },
     "metadata": {},
     "output_type": "display_data"
    },
    {
     "name": "stderr",
     "output_type": "stream",
     "text": [
      "/home/kyle/packages/conda/lib/python3.7/site-packages/ipykernel_launcher.py:18: RuntimeWarning: More than 20 figures have been opened. Figures created through the pyplot interface (`matplotlib.pyplot.figure`) are retained until explicitly closed and may consume too much memory. (To control this warning, see the rcParam `figure.max_open_warning`).\n"
     ]
    },
    {
     "data": {
      "application/vnd.jupyter.widget-view+json": {
       "model_id": "79335b081d7b4b60a3cd698f86b148be",
       "version_major": 2,
       "version_minor": 0
      },
      "text/plain": [
       "Canvas(toolbar=Toolbar(toolitems=[('Home', 'Reset original view', 'home', 'home'), ('Back', 'Back to previous …"
      ]
     },
     "metadata": {},
     "output_type": "display_data"
    }
   ],
   "source": [
    "plt.figure()\n",
    "\n",
    "use_x = a.embedding[:, 0]\n",
    "\n",
    "mask = a.salt_mask & a.redshift_color_mask & a.interp_mask\n",
    "plt.scatter(use_x[mask], a.salt_hr[mask], label='Individual supernovae')\n",
    "math.plot_binned_mean(use_x[mask], a.salt_hr[mask], c='C2', lw=2, label='Binned mean')\n",
    "plt.legend()\n",
    "\n",
    "plt.gca().invert_yaxis()\n",
    "\n",
    "plt.xlabel('Component 1')\n",
    "plt.ylabel('SALT2-corrected residual magnitude')\n",
    "\n",
    "plt.tight_layout()\n",
    "plt.savefig('./figures/salt2_hr_component_1.pdf')\n",
    "\n",
    "plt.figure()\n",
    "plt.hist(a.salt_hr[(use_x < 2) & mask], 10, (-0.6, 0.4), alpha=0.3, color='C0', label='Component 1 < 2', density=True)\n",
    "plt.hist(a.salt_hr[(use_x < 2) & mask], 10, (-0.6, 0.4), histtype='step', lw=2, color='C0', density=True)\n",
    "plt.hist(a.salt_hr[(use_x > 2) & mask], 10, (-0.6, 0.4), alpha=0.3, color='C1', label='Component 1 > 2', density=True)\n",
    "plt.hist(a.salt_hr[(use_x > 2) & mask], 10, (-0.6, 0.4), histtype='step', lw=2, color='C1', density=True)\n",
    "\n",
    "plt.gca().invert_xaxis()\n",
    "\n",
    "plt.xlabel('SALT2 residual magnitude')\n",
    "plt.ylabel('Normalized counts')\n",
    "plt.legend()\n",
    "\n",
    "plt.tight_layout()\n",
    "plt.savefig('./figures/salt2_hr_hist.pdf')"
   ]
  },
  {
   "cell_type": "markdown",
   "metadata": {},
   "source": [
    "## SALT2 + Isomap standardization"
   ]
  },
  {
   "cell_type": "code",
   "execution_count": 115,
   "metadata": {},
   "outputs": [
    {
     "name": "stdout",
     "output_type": "stream",
     "text": [
      "Fitting GP hyperparameters...\n",
      "Fit result:\n",
      "      fun: -84.54178986772008\n",
      " hess_inv: array([[ 1.83420612e-02, -2.44134640e-04, -1.66486099e-03,\n",
      "         1.00531615e-03],\n",
      "       [-2.44134640e-04,  6.31372864e-05,  8.11372426e-05,\n",
      "        -1.46236085e-04],\n",
      "       [-1.66486099e-03,  8.11372426e-05,  4.14684419e-03,\n",
      "        -2.43232210e-03],\n",
      "       [ 1.00531615e-03, -1.46236085e-04, -2.43232210e-03,\n",
      "         2.56787638e-03]])\n",
      "      jac: array([ 2.86102295e-06, -1.04904175e-05,  2.95639038e-05,  3.05175781e-05])\n",
      "  message: 'Desired error not necessarily achieved due to precision loss.'\n",
      "     nfev: 996\n",
      "      nit: 44\n",
      "     njev: 164\n",
      "   status: 2\n",
      "  success: False\n",
      "        x: array([ 2.83209164,  0.09115336, -0.45166565,  9.19249767])\n",
      "Finite difference covariance step sizes: [3.20e-04 2.00e-05 1.60e-04 2.56e-03]\n",
      "Fit uncertainty: [0.14575785 0.0087175  0.27255561 5.33591983]\n",
      "Fit NMAD:        0.10645415401213752\n",
      "Fit std:         0.11639661580869723\n"
     ]
    },
    {
     "name": "stderr",
     "output_type": "stream",
     "text": [
      "/home/kyle/supernova/snfactory/manifold_twins/analysis/manifold_twins.py:836: RuntimeWarning: More than 20 figures have been opened. Figures created through the pyplot interface (`matplotlib.pyplot.figure`) are retained until explicitly closed and may consume too much memory. (To control this warning, see the rcParam `figure.max_open_warning`).\n",
      "  fig = plt.figure()\n"
     ]
    },
    {
     "data": {
      "application/vnd.jupyter.widget-view+json": {
       "model_id": "27c0c91e13a24eadbc88f99c370baf27",
       "version_major": 2,
       "version_minor": 0
      },
      "text/plain": [
       "Canvas(toolbar=Toolbar(toolitems=[('Home', 'Reset original view', 'home', 'home'), ('Back', 'Back to previous …"
      ]
     },
     "metadata": {},
     "output_type": "display_data"
    }
   ],
   "source": [
    "a.fit_gp(kind='salt_raw')\n",
    "a.plot_gp(kind='salt_raw', vmin=-0.5, vmax=0.5)\n",
    "\n",
    "plt.savefig('./figures/salt_gp_component_12.pdf')"
   ]
  },
  {
   "cell_type": "code",
   "execution_count": 116,
   "metadata": {},
   "outputs": [
    {
     "name": "stderr",
     "output_type": "stream",
     "text": [
      "/home/kyle/packages/conda/lib/python3.7/site-packages/ipykernel_launcher.py:1: RuntimeWarning: More than 20 figures have been opened. Figures created through the pyplot interface (`matplotlib.pyplot.figure`) are retained until explicitly closed and may consume too much memory. (To control this warning, see the rcParam `figure.max_open_warning`).\n",
      "  \"\"\"Entry point for launching an IPython kernel.\n"
     ]
    },
    {
     "data": {
      "application/vnd.jupyter.widget-view+json": {
       "model_id": "79dae2ff2da044439d2c95f4fed1b645",
       "version_major": 2,
       "version_minor": 0
      },
      "text/plain": [
       "Canvas(toolbar=Toolbar(toolitems=[('Home', 'Reset original view', 'home', 'home'), ('Back', 'Back to previous …"
      ]
     },
     "metadata": {},
     "output_type": "display_data"
    }
   ],
   "source": [
    "plt.figure()\n",
    "m = a.good_salt_mask & a.interp_mask\n",
    "plt.scatter(a.salt_x1[m], (a.corr_mags - a.salt_hr)[m], c=a.embedding[m, 0], cmap=plt.cm.coolwarm, vmin=-3, vmax=3)\n",
    "plt.gca().invert_yaxis()\n",
    "plt.colorbar(label='Value of Isomap component 1')\n",
    "plt.xlabel('SALT2 $x_1$')\n",
    "plt.ylabel('Difference between SALT2 and\\nSALT2 + Isomap standardization (mag)')\n",
    "plt.tight_layout()\n",
    "plt.savefig('./figures/salt_isomap_difference.pdf')"
   ]
  },
  {
   "cell_type": "code",
   "execution_count": 117,
   "metadata": {},
   "outputs": [
    {
     "name": "stdout",
     "output_type": "stream",
     "text": [
      "Fitting GP hyperparameters...\n",
      "Fit result:\n",
      "      fun: -84.54178986772008\n",
      " hess_inv: array([[ 1.83420612e-02, -2.44134640e-04, -1.66486099e-03,\n",
      "         1.00531615e-03],\n",
      "       [-2.44134640e-04,  6.31372864e-05,  8.11372426e-05,\n",
      "        -1.46236085e-04],\n",
      "       [-1.66486099e-03,  8.11372426e-05,  4.14684419e-03,\n",
      "        -2.43232210e-03],\n",
      "       [ 1.00531615e-03, -1.46236085e-04, -2.43232210e-03,\n",
      "         2.56787638e-03]])\n",
      "      jac: array([ 2.86102295e-06, -1.04904175e-05,  2.95639038e-05,  3.05175781e-05])\n",
      "  message: 'Desired error not necessarily achieved due to precision loss.'\n",
      "     nfev: 996\n",
      "      nit: 44\n",
      "     njev: 164\n",
      "   status: 2\n",
      "  success: False\n",
      "        x: array([ 2.83209164,  0.09115336, -0.45166565,  9.19249767])\n",
      "Finite difference covariance step sizes: [3.20e-04 2.00e-05 1.60e-04 2.56e-03]\n",
      "Fit uncertainty: [0.14575785 0.0087175  0.27255561 5.33591983]\n",
      "Fit NMAD:        0.10645415401213752\n",
      "Fit std:         0.11639661580869723\n"
     ]
    }
   ],
   "source": [
    "a.fit_gp(kind='salt_raw')"
   ]
  },
  {
   "cell_type": "code",
   "execution_count": 118,
   "metadata": {},
   "outputs": [
    {
     "name": "stderr",
     "output_type": "stream",
     "text": [
      "/home/kyle/supernova/snfactory/manifold_twins/analysis/manifold_twins.py:667: RuntimeWarning: More than 20 figures have been opened. Figures created through the pyplot interface (`matplotlib.pyplot.figure`) are retained until explicitly closed and may consume too much memory. (To control this warning, see the rcParam `figure.max_open_warning`).\n",
      "  plt.figure()\n"
     ]
    },
    {
     "data": {
      "application/vnd.jupyter.widget-view+json": {
       "model_id": "074ef15fe9f94895aa854db91c472d2f",
       "version_major": 2,
       "version_minor": 0
      },
      "text/plain": [
       "Canvas(toolbar=Toolbar(toolitems=[('Home', 'Reset original view', 'home', 'home'), ('Back', 'Back to previous …"
      ]
     },
     "metadata": {},
     "output_type": "display_data"
    }
   ],
   "source": [
    "a.do_component_blondin_plot()"
   ]
  },
  {
   "cell_type": "code",
   "execution_count": 119,
   "metadata": {},
   "outputs": [
    {
     "name": "stderr",
     "output_type": "stream",
     "text": [
      "/home/kyle/supernova/snfactory/manifold_twins/analysis/manifold_twins.py:836: RuntimeWarning: More than 20 figures have been opened. Figures created through the pyplot interface (`matplotlib.pyplot.figure`) are retained until explicitly closed and may consume too much memory. (To control this warning, see the rcParam `figure.max_open_warning`).\n",
      "  fig = plt.figure()\n"
     ]
    },
    {
     "data": {
      "application/vnd.jupyter.widget-view+json": {
       "model_id": "97d022c5d1fa4820844d06c45541d99f",
       "version_major": 2,
       "version_minor": 0
      },
      "text/plain": [
       "Canvas(toolbar=Toolbar(toolitems=[('Home', 'Reset original view', 'home', 'home'), ('Back', 'Back to previous …"
      ]
     },
     "metadata": {},
     "output_type": "display_data"
    }
   ],
   "source": [
    "a.plot_gp(0, 1)"
   ]
  },
  {
   "cell_type": "code",
   "execution_count": 120,
   "metadata": {},
   "outputs": [
    {
     "name": "stdout",
     "output_type": "stream",
     "text": [
      "target:        SNBOSS38\n",
      "isomap coord:  [ 2.51422933  2.18692745 -1.81835255]\n",
      "SALT x1:       1.4419367231774203\n",
      "GP prediction: 0.45809011333312627\n",
      "SALT2 pred:    0.11566306284643671\n",
      "pred diff:     -0.34242705048668953\n"
     ]
    }
   ],
   "source": [
    "target = 'BOSS38'\n",
    "\n",
    "for j, i in enumerate(a.targets):\n",
    "    if target in i.name:\n",
    "        idx = j\n",
    "        break\n",
    "else:\n",
    "    raise Exception(f\"No target {target} found!\")\n",
    "    \n",
    "print(f\"target:        {a.targets[idx].name}\")\n",
    "print(f\"isomap coord:  {a.embedding[idx]}\")\n",
    "print(f\"SALT x1:       {a.salt_x1[idx]}\")\n",
    "\n",
    "gp_pred = a.predict_gp(a.embedding[idx], a.salt_color[idx], kind='salt_raw')[0]\n",
    "# salt_pred = a.salt_alpha * a.salt_x1[idx] - a.salt_beta * a.salt_color[idx]\n",
    "salt_pred = a.salt_hr_raw[idx] - a.salt_hr[idx]\n",
    "\n",
    "print(f\"GP prediction: {gp_pred}\")\n",
    "print(f\"SALT2 pred:    {salt_pred}\")\n",
    "print(f\"pred diff:     {salt_pred - gp_pred}\")\n",
    "\n",
    "# print(f\"HR difference: {(a.corr_mags - a.salt_hr)[idx]}\")"
   ]
  },
  {
   "cell_type": "markdown",
   "metadata": {},
   "source": [
    "## Same SALT2 parameters but not at the same location in the manifold"
   ]
  },
  {
   "cell_type": "code",
   "execution_count": 354,
   "metadata": {},
   "outputs": [],
   "source": [
    "def outer_diff(x):\n",
    "    return (x - x[:, None])\n",
    "\n",
    "count = np.array([len(i.spectra) for i in a.targets])\n",
    "first_phase = np.array([i.spectra[0].phase for i in a.targets])\n",
    "mask = (count > 8) & (a.redshifts > 0.03) & (first_phase < -2)\n",
    "\n",
    "salt_x1_diff = outer_diff(a.salt_x1)\n",
    "salt_c_diff = outer_diff(a.salt_color)\n",
    "salt_diff = outer_diff(a.salt_x1)**2 + 100 * outer_diff(a.salt_color)**2\n",
    "manif_diff = outer_diff(a.embedding[:, 0])**2 + outer_diff(a.embedding[:, 1])**2 + outer_diff(a.embedding[:, 2])**2\n",
    "\n",
    "phase_diff = outer_diff(a.salt_phases[a.center_mask])\n",
    "\n",
    "np.fill_diagonal(salt_diff, np.nan)\n",
    "np.fill_diagonal(manif_diff, np.nan)\n",
    "\n",
    "salt_diff[~mask] = np.nan\n",
    "salt_diff[:, ~mask] = np.nan\n",
    "manif_diff[~mask] = np.nan\n",
    "manif_diff[:, ~mask] = np.nan"
   ]
  },
  {
   "cell_type": "code",
   "execution_count": 375,
   "metadata": {},
   "outputs": [
    {
     "name": "stdout",
     "output_type": "stream",
     "text": [
      "Num objects:  3\n",
      "target 1:     SNIC3573\n",
      "target 2:     PTF11mkx\n",
      "redshifts:    0.0670, 0.0536\n",
      "x_1 values:   +0.558, +0.729\n",
      "c values:     +0.047, +0.035\n",
      "mags:         -0.195, nan\n",
      "salt HRs:     -0.201, -0.511\n",
      "corr mags:    -0.145, -0.219\n",
      "trans 1:      [-0.14072518 -1.44239144  2.94944758]\n",
      "trans 2:      [ 5.09677022 -1.15869851 -0.51807872]\n",
      "mag_diff:     0.310 +/- 0.059\n"
     ]
    },
    {
     "name": "stderr",
     "output_type": "stream",
     "text": [
      "/home/kyle/packages/conda/lib/python3.7/site-packages/ipykernel_launcher.py:1: RuntimeWarning: invalid value encountered in greater\n",
      "  \"\"\"Entry point for launching an IPython kernel.\n"
     ]
    }
   ],
   "source": [
    "cut = (salt_x1_diff > 0) & (salt_x1_diff < 0.2) & (np.abs(salt_c_diff) < 0.02) & (manif_diff > 30) & (np.abs(phase_diff) < 1.0)\n",
    "print(\"Num objects:  %s\" % np.sum(cut))\n",
    "salt_diff_idx = [i[2] for i in np.where(cut)]\n",
    "\n",
    "t1 = a.targets[salt_diff_idx[0]]\n",
    "t2 = a.targets[salt_diff_idx[1]]\n",
    "\n",
    "print(\"target 1:     %s\" % t1)\n",
    "print(\"target 2:     %s\" % t2)\n",
    "print(\"redshifts:    %.4f, %.4f\" % (a.redshifts[salt_diff_idx[0]], a.redshifts[salt_diff_idx[1]]))\n",
    "print(\"x_1 values:   %+.3f, %+.3f\" % (a.salt_x1[salt_diff_idx[0]], a.salt_x1[salt_diff_idx[1]]))\n",
    "print(\"c values:     %+.3f, %+.3f\" % (a.salt_color[salt_diff_idx[0]], a.salt_color[salt_diff_idx[1]]))\n",
    "print(\"mags:         %.3f, %.3f\" % (a.mags[salt_diff_idx[0]], a.mags[salt_diff_idx[1]]))\n",
    "print(\"salt HRs:     %.3f, %.3f\" % (a.salt_hr[salt_diff_idx[0]], a.salt_hr[salt_diff_idx[1]]))\n",
    "print(\"corr mags:    %.3f, %.3f\" % (a.corr_mags[salt_diff_idx[0]], a.corr_mags[salt_diff_idx[1]]))\n",
    "print(\"embedding 1:  %s\" % a.embedding[salt_diff_idx[0]])\n",
    "print(\"embedding 2:  %s\" % a.embedding[salt_diff_idx[1]])\n",
    "\n",
    "salt_comparision_mb_diff = np.abs(\n",
    "    a.salt_hr[salt_diff_idx[0]]\n",
    "    - a.salt_hr[salt_diff_idx[1]]\n",
    ")\n",
    "dm_1 = frac_to_mag(t1.salt_fit['x0_err'] / t1.salt_fit['x0'])\n",
    "dm_2 = frac_to_mag(t2.salt_fit['x0_err'] / t2.salt_fit['x0'])\n",
    "\n",
    "salt_comparison_mb_diff_err = np.sqrt(dm_1**2 + dm_2**2)\n",
    "print(\"mag_diff:     %.3f +/- %.3f\" % (salt_comparision_mb_diff, salt_comparison_mb_diff_err))"
   ]
  },
  {
   "cell_type": "code",
   "execution_count": 376,
   "metadata": {},
   "outputs": [
    {
     "name": "stderr",
     "output_type": "stream",
     "text": [
      "/home/kyle/packages/conda/lib/python3.7/site-packages/ipykernel_launcher.py:55: RuntimeWarning: More than 20 figures have been opened. Figures created through the pyplot interface (`matplotlib.pyplot.figure`) are retained until explicitly closed and may consume too much memory. (To control this warning, see the rcParam `figure.max_open_warning`).\n"
     ]
    },
    {
     "data": {
      "application/vnd.jupyter.widget-view+json": {
       "model_id": "259b16ea33c44bbe9c03a34791176366",
       "version_major": 2,
       "version_minor": 0
      },
      "text/plain": [
       "Canvas(toolbar=Toolbar(toolitems=[('Home', 'Reset original view', 'home', 'home'), ('Back', 'Back to previous …"
      ]
     },
     "metadata": {},
     "output_type": "display_data"
    },
    {
     "name": "stdout",
     "output_type": "stream",
     "text": [
      "WARNING: Filter with edges 7607, 9200 is not contained within the spectrum (bounds: 3094, 9104)\n",
      "WARNING: Filter with edges 7607, 9200 is not contained within the spectrum (bounds: 3094, 9104)\n",
      "WARNING: Filter with edges 7607, 9200 is not contained within the spectrum (bounds: 3094, 9104)\n",
      "WARNING: Filter with edges 7607, 9200 is not contained within the spectrum (bounds: 3094, 9104)\n",
      "WARNING: Filter with edges 7607, 9200 is not contained within the spectrum (bounds: 3094, 9104)\n",
      "WARNING: Filter with edges 7607, 9200 is not contained within the spectrum (bounds: 3094, 9104)\n",
      "WARNING: Filter with edges 7607, 9200 is not contained within the spectrum (bounds: 3094, 9104)\n",
      "WARNING: Filter with edges 7607, 9200 is not contained within the spectrum (bounds: 3094, 9104)\n",
      "WARNING: Filter with edges 7607, 9200 is not contained within the spectrum (bounds: 3094, 9104)\n",
      "WARNING: Filter with edges 7607, 9200 is not contained within the spectrum (bounds: 3094, 9104)\n",
      "WARNING: Filter with edges 7607, 9200 is not contained within the spectrum (bounds: 3094, 9104)\n",
      "WARNING: Filter with edges 7607, 9200 is not contained within the spectrum (bounds: 3126, 9198)\n",
      "WARNING: Filter with edges 7607, 9200 is not contained within the spectrum (bounds: 3126, 9198)\n",
      "WARNING: Filter with edges 7607, 9200 is not contained within the spectrum (bounds: 3126, 9198)\n",
      "WARNING: Filter with edges 7607, 9200 is not contained within the spectrum (bounds: 3126, 9198)\n",
      "WARNING: Filter with edges 7607, 9200 is not contained within the spectrum (bounds: 3126, 9198)\n",
      "WARNING: Filter with edges 7607, 9200 is not contained within the spectrum (bounds: 3126, 9198)\n",
      "WARNING: Filter with edges 7607, 9200 is not contained within the spectrum (bounds: 3126, 9198)\n",
      "WARNING: Filter with edges 7607, 9200 is not contained within the spectrum (bounds: 3126, 9198)\n",
      "WARNING: Filter with edges 7607, 9200 is not contained within the spectrum (bounds: 3126, 9198)\n",
      "WARNING: Filter with edges 7607, 9200 is not contained within the spectrum (bounds: 3126, 9198)\n",
      "WARNING: Filter with edges 7607, 9200 is not contained within the spectrum (bounds: 3126, 9198)\n",
      "WARNING: Filter with edges 7607, 9200 is not contained within the spectrum (bounds: 3126, 9198)\n",
      "WARNING: Filter with edges 7607, 9200 is not contained within the spectrum (bounds: 3126, 9198)\n",
      "WARNING: Filter with edges 7607, 9200 is not contained within the spectrum (bounds: 3126, 9198)\n",
      "WARNING: Filter with edges 7607, 9200 is not contained within the spectrum (bounds: 3126, 9198)\n",
      "WARNING: Filter with edges 7607, 9200 is not contained within the spectrum (bounds: 3126, 9198)\n",
      "WARNING: Filter with edges 7607, 9200 is not contained within the spectrum (bounds: 3126, 9198)\n",
      "WARNING: Filter with edges 7607, 9200 is not contained within the spectrum (bounds: 3126, 9198)\n"
     ]
    }
   ],
   "source": [
    "bands = ['U', 'B', 'V', 'R', 'I']\n",
    "\n",
    "band_colors = {\n",
    "    'U': 'C4',\n",
    "    'B': 'C0',\n",
    "    'V': 'C2',\n",
    "    'R': 'C3',\n",
    "    'I': 'C1',\n",
    "}\n",
    "\n",
    "gap = 1.\n",
    "\n",
    "def plot_lightcurve(target, marker='o', ls='--', mfc='none', label_bands=True):\n",
    "    photometry = target.get_photometry(bands, clip_filter=True)\n",
    "    \n",
    "    # Cut late phases\n",
    "    photometry = photometry[photometry['time'] < 30]\n",
    "        \n",
    "    ref_mag = target.salt_fit['fitted_model'].source_peakmag('snfb', 'ab')\n",
    "    \n",
    "    for offset, band in enumerate(bands):\n",
    "        band_photometry = photometry[photometry['band'] == 'snf%s' % band.lower()]\n",
    "        \n",
    "        if band == 'B':\n",
    "            label = target.name\n",
    "        else:\n",
    "            label = ''\n",
    "            \n",
    "        color = band_colors[band]\n",
    "        \n",
    "        phases = band_photometry['time']\n",
    "        mags = -2.5*np.log10(band_photometry['flux']) - ref_mag - (offset - 1) * gap\n",
    "        magerrs = band_photometry['magerr']\n",
    "    \n",
    "        plt.errorbar(phases, mags, magerrs, fmt='none', c=color)\n",
    "        plt.plot(phases, mags, label=label, marker=marker, c=color, mfc=mfc, ls=ls)\n",
    "        \n",
    "        if label_bands:\n",
    "            plt.text(phases[-1] + 2, mags[-1] + 0.2, '%s%+d' % (band, offset - 1), c=color)\n",
    "            plt.xlim(None, phases[-1] + 9)\n",
    "            \n",
    "def plot_salt_lightcurve(target, phase_min=-6, phase_max=50):\n",
    "    model = target.salt_fit['fitted_model']\n",
    "    phases = np.linspace(phase_min, phase_max, 200)\n",
    "    \n",
    "    # Compute the reference magnitude for B-band at max.\n",
    "    ref_mag = model.source_peakmag('snfb', 'ab')\n",
    "\n",
    "    # Plot each light curve\n",
    "    for offset, band in enumerate(bands):\n",
    "        mags = model.bandmag('snf%s' % band.lower(), 'ab', phases) - ref_mag - (offset - 1) * gap\n",
    "        plt.plot(phases, mags, c='k')\n",
    "\n",
    "\n",
    "plt.figure(figsize=(6, 6))\n",
    "plot_lightcurve(t1, marker='^', ls='', mfc=None, label_bands=False)\n",
    "plot_lightcurve(t2, marker='o', ls='', mfc='none', label_bands=True)\n",
    "# plot_salt_lightcurve(t1)\n",
    "plt.legend()\n",
    "plt.xlabel('Phase (days)')\n",
    "plt.ylabel('Normalized magnitude + offset')\n",
    "plt.ylim(4.8, -2.5)\n",
    "\n",
    "plt.savefig('./figures/same_salt_comparison.pdf')\n",
    "\n",
    "# plt.gca().invert_yaxis()"
   ]
  },
  {
   "cell_type": "code",
   "execution_count": 377,
   "metadata": {},
   "outputs": [
    {
     "name": "stderr",
     "output_type": "stream",
     "text": [
      "/home/kyle/packages/conda/lib/python3.7/site-packages/ipykernel_launcher.py:1: RuntimeWarning: More than 20 figures have been opened. Figures created through the pyplot interface (`matplotlib.pyplot.figure`) are retained until explicitly closed and may consume too much memory. (To control this warning, see the rcParam `figure.max_open_warning`).\n",
      "  \"\"\"Entry point for launching an IPython kernel.\n"
     ]
    },
    {
     "data": {
      "application/vnd.jupyter.widget-view+json": {
       "model_id": "62e6baeea73b492a8ee620f3745273f5",
       "version_major": 2,
       "version_minor": 0
      },
      "text/plain": [
       "Canvas(toolbar=Toolbar(toolitems=[('Home', 'Reset original view', 'home', 'home'), ('Back', 'Back to previous …"
      ]
     },
     "metadata": {},
     "output_type": "display_data"
    }
   ],
   "source": [
    "plt.figure()\n",
    "\n",
    "def plot_spec(idx, scale=1):\n",
    "    spec = a.spectra[a.center_mask][idx]\n",
    "    \n",
    "    label = '%s, %.2f days' % (spec.target.name, spec.phase)\n",
    "    \n",
    "    # if scale != 1:\n",
    "        # label += ' (x%d)' % scale\n",
    "    \n",
    "    plt.plot(a.wave, spec.flux * scale, label=label)\n",
    "\n",
    "plot_spec(salt_diff_idx[0], 1.3)\n",
    "plot_spec(salt_diff_idx[1], 1.)\n",
    "\n",
    "plt.legend()\n",
    "\n",
    "plt.xlabel('Restframe wavelength ($\\AA$)')\n",
    "plt.ylabel('Flux (arbitrary scale)')\n",
    "\n",
    "plt.savefig('./figures/same_salt_spectra.pdf')"
   ]
  },
  {
   "cell_type": "markdown",
   "metadata": {},
   "source": [
    "# Host galaxy correlations"
   ]
  },
  {
   "cell_type": "code",
   "execution_count": 378,
   "metadata": {},
   "outputs": [],
   "source": [
    "a.fit_gp(kind='rbtl', verbose=False)\n",
    "rbtl_isomap_mags = a.corr_mags\n",
    "a.fit_gp(kind='salt_raw', verbose=False)\n",
    "salt_isomap_mags = a.corr_mags"
   ]
  },
  {
   "cell_type": "code",
   "execution_count": 379,
   "metadata": {},
   "outputs": [],
   "source": [
    "def calc_step(sample, sides, errs, axis=None):\n",
    "    vals_1 = np.average(sample, weights=sides / errs**2, axis=axis)\n",
    "    vals_2 = np.average(sample, weights=(1-sides) / errs**2, axis=axis)\n",
    "    \n",
    "    return vals_1, vals_2, vals_2 - vals_1\n",
    "\n",
    "def bootstrap_step(sample, sides, errs=1):\n",
    "    return math.bootstrap_statistic(calc_step, sample, sides, errs)\n",
    "\n",
    "def likelihood_step(residuals, prob, errs=1.):\n",
    "    def calc_likelihood(x):\n",
    "        s1, s2, err1, err2 = x\n",
    "        \n",
    "        var1 = errs**2 + err1**2\n",
    "        var2 = errs**2 + err2**2\n",
    "\n",
    "        likelihood = np.sum(-np.log(\n",
    "            prob * 1 / np.sqrt(2 * np.pi * var1) * np.exp(-(residuals - s1)**2 / var1)\n",
    "            + (1 - prob) * 1 / np.sqrt(2 * np.pi * var2) * np.exp(-(residuals - s2)**2 / var2)\n",
    "        ))\n",
    "        \n",
    "        return likelihood\n",
    "    \n",
    "    res = minimize(calc_likelihood, [0., 0., 0.1, 0.1], method='BFGS')\n",
    "    param_errs = np.sqrt(np.diag(res.hess_inv))\n",
    "\n",
    "    # Estimate the variances with the intrinsic components.\n",
    "    total_vars = errs**2 + prob * res.x[2]**2 + (1 - prob) * res.x[3]**2\n",
    "\n",
    "    step_means = (res.x[0], res.x[1], res.x[1] - res.x[0])\n",
    "    step_errs = (param_errs[0], param_errs[1], np.sqrt(param_errs[0]**2 + param_errs[1]**2))\n",
    "    \n",
    "    return step_means, step_errs, total_vars\n",
    "    \n",
    "\n",
    "def int_disp(vals, pec_vel_disps, axis=None):\n",
    "    std = np.std(vals, ddof=1, axis=axis)\n",
    "    corr = np.mean(pec_vel_disps**2, axis=axis)\n",
    "    corr_std = np.sqrt(np.clip(std**2 - corr, 0, None))\n",
    "\n",
    "    return corr_std\n",
    "\n",
    "def analyze_host_variable(variable, mags, mask, uncertainties=None, threshold=None, use_probability=True, plot=True, y_label='Residual magnitudes'):\n",
    "    use_mask = mask & a.host_mask\n",
    "    host_data = a.host_data[use_mask]\n",
    "    use_mags = mags[use_mask]\n",
    "            \n",
    "    # Default thresholds from Rigault et al. 2019\n",
    "    if threshold is None:\n",
    "        if variable == 'lssfr':\n",
    "            threshold = -10.8\n",
    "        elif variable == 'gmass':\n",
    "            threshold = 10\n",
    "        else:\n",
    "            raise Exception(\"Must specify threshold!\")\n",
    "            \n",
    "    use_var = host_data[variable]\n",
    "    use_var_low = host_data[variable + '_low']\n",
    "    use_var_high = host_data[variable + '_up']\n",
    "    \n",
    "    # Figure out labels.\n",
    "    if variable == 'lssfr':\n",
    "        x_label = 'log(lsSFR)'\n",
    "    elif variable == 'gmass':\n",
    "        x_label = 'log($M_* / M_\\odot$) (global)'\n",
    "            \n",
    "    # Figure out which weights to use for the step. We want to actually use\n",
    "    # the probabilities if they are available rather than hard cuts as is done\n",
    "    # in Rigault et al. 2018.\n",
    "    label = variable\n",
    "    use_weights = None\n",
    "\n",
    "    if use_probability:\n",
    "        if variable == 'lssfr':\n",
    "            plot_color = host_data['p_young']\n",
    "            use_weights = 1 - host_data['p_young'] / 100\n",
    "            label = '$P_{Young}$'\n",
    "        elif variable == 'gmass':\n",
    "            plot_color = host_data['p_highmass']\n",
    "            use_weights = 1 - host_data['p_highmass'] / 100\n",
    "            label = '$P_{high\\ mass}$'\n",
    "\n",
    "    if use_weights is None:\n",
    "        # Backup: do hard cuts.\n",
    "        use_weights = use_var < threshold\n",
    "        plot_color = use_weights\n",
    "\n",
    "    if uncertainties is None:\n",
    "        # If we don't have explicit uncertainties, just use the peculiar velocity contributions.\n",
    "        uncertainties = a.get_peculiar_velocity_uncertainty()\n",
    "\n",
    "    use_uncertainties = uncertainties[use_mask]\n",
    "    \n",
    "    step_means, step_errs, total_var = likelihood_step(use_mags, use_weights, use_uncertainties)\n",
    "\n",
    "    if plot:\n",
    "        print(\"Step size: %.3f ± %.3f mag\" % (step_means[2], step_errs[2]))\n",
    "        plt.figure(figsize=(6, 4))\n",
    "        plt.errorbar(use_var, use_mags, xerr=(-use_var_low, use_var_high), yerr=np.sqrt(total_var), fmt='.', c='gray', alpha=0.5, zorder=-2)\n",
    "        plt.scatter(use_var, use_mags, s=100, c=plot_color, edgecolors='gray', cmap=plt.cm.viridis_r)\n",
    "        \n",
    "        # Threshold\n",
    "        plt.axvline(threshold, c='k', lw=2, ls='--')\n",
    "        \n",
    "        # Show means of each side\n",
    "        plot_min, plot_max = plt.xlim()\n",
    "        mean_low, mean_high, mean_diff = step_means\n",
    "        mean_low_err, mean_high_err, mean_diff_err = step_errs\n",
    "        plt.plot([plot_min, threshold], [mean_low, mean_low], c='k', zorder=-1)\n",
    "        plt.fill_between([plot_min, threshold], [mean_low - mean_low_err, mean_low - mean_low_err], [mean_low + mean_low_err, mean_low + mean_low_err], color=plt.cm.viridis(1000), alpha=0.5, zorder=-3)\n",
    "        plt.plot([threshold, plot_max], [mean_high, mean_high], c='k', zorder=-1)\n",
    "        plt.fill_between([threshold, plot_max], [mean_high - mean_high_err, mean_high - mean_high_err], [mean_high + mean_high_err, mean_high + mean_high_err], color=plt.cm.viridis(0), alpha=0.5, zorder=-3)\n",
    "\n",
    "        plt.xlabel(x_label)\n",
    "        plt.ylabel(y_label)\n",
    "\n",
    "        plt.xlim(plot_min, plot_max)\n",
    "        plt.ylim(-0.6, 0.6)\n",
    "\n",
    "\n",
    "        plt.colorbar(label=label)\n",
    "        plt.tight_layout()\n",
    "\n",
    "    return step_means[-1], step_errs[-1]"
   ]
  },
  {
   "cell_type": "markdown",
   "metadata": {},
   "source": [
    "## lsSFR plots"
   ]
  },
  {
   "cell_type": "code",
   "execution_count": 380,
   "metadata": {},
   "outputs": [
    {
     "name": "stdout",
     "output_type": "stream",
     "text": [
      "Step size: 0.113 ± 0.023 mag\n"
     ]
    },
    {
     "name": "stderr",
     "output_type": "stream",
     "text": [
      "/home/kyle/packages/conda/lib/python3.7/site-packages/ipykernel_launcher.py:98: RuntimeWarning: More than 20 figures have been opened. Figures created through the pyplot interface (`matplotlib.pyplot.figure`) are retained until explicitly closed and may consume too much memory. (To control this warning, see the rcParam `figure.max_open_warning`).\n"
     ]
    },
    {
     "data": {
      "application/vnd.jupyter.widget-view+json": {
       "model_id": "c1745d002e584d05a5313d68b43f866a",
       "version_major": 2,
       "version_minor": 0
      },
      "text/plain": [
       "Canvas(toolbar=Toolbar(toolitems=[('Home', 'Reset original view', 'home', 'home'), ('Back', 'Back to previous …"
      ]
     },
     "metadata": {},
     "output_type": "display_data"
    }
   ],
   "source": [
    "analyze_host_variable('lssfr', a.salt_hr, a.good_salt_mask, a.salt_hr_raw_uncertainties, y_label='SALT2 + $x_1$ residual magnitudes')\n",
    "plt.savefig('./figures/lssfr_salt_x1.pdf')"
   ]
  },
  {
   "cell_type": "code",
   "execution_count": 381,
   "metadata": {},
   "outputs": [
    {
     "name": "stdout",
     "output_type": "stream",
     "text": [
      "Step size: 0.084 ± 0.034 mag\n"
     ]
    },
    {
     "name": "stderr",
     "output_type": "stream",
     "text": [
      "/home/kyle/packages/conda/lib/python3.7/site-packages/ipykernel_launcher.py:98: RuntimeWarning: More than 20 figures have been opened. Figures created through the pyplot interface (`matplotlib.pyplot.figure`) are retained until explicitly closed and may consume too much memory. (To control this warning, see the rcParam `figure.max_open_warning`).\n"
     ]
    },
    {
     "data": {
      "application/vnd.jupyter.widget-view+json": {
       "model_id": "08d6ab15fc524f0990bdfe3f27493ae7",
       "version_major": 2,
       "version_minor": 0
      },
      "text/plain": [
       "Canvas(toolbar=Toolbar(toolitems=[('Home', 'Reset original view', 'home', 'home'), ('Back', 'Back to previous …"
      ]
     },
     "metadata": {},
     "output_type": "display_data"
    },
    {
     "name": "stdout",
     "output_type": "stream",
     "text": [
      "Step size: 0.047 ± 0.027 mag\n"
     ]
    },
    {
     "name": "stderr",
     "output_type": "stream",
     "text": [
      "/home/kyle/packages/conda/lib/python3.7/site-packages/ipykernel_launcher.py:98: RuntimeWarning: More than 20 figures have been opened. Figures created through the pyplot interface (`matplotlib.pyplot.figure`) are retained until explicitly closed and may consume too much memory. (To control this warning, see the rcParam `figure.max_open_warning`).\n"
     ]
    },
    {
     "data": {
      "application/vnd.jupyter.widget-view+json": {
       "model_id": "2e125fff8f9b453bb857b28d5d9e9a4a",
       "version_major": 2,
       "version_minor": 0
      },
      "text/plain": [
       "Canvas(toolbar=Toolbar(toolitems=[('Home', 'Reset original view', 'home', 'home'), ('Back', 'Back to previous …"
      ]
     },
     "metadata": {},
     "output_type": "display_data"
    },
    {
     "name": "stdout",
     "output_type": "stream",
     "text": [
      "Step size: 0.026 ± 0.032 mag\n"
     ]
    },
    {
     "name": "stderr",
     "output_type": "stream",
     "text": [
      "/home/kyle/packages/conda/lib/python3.7/site-packages/ipykernel_launcher.py:98: RuntimeWarning: More than 20 figures have been opened. Figures created through the pyplot interface (`matplotlib.pyplot.figure`) are retained until explicitly closed and may consume too much memory. (To control this warning, see the rcParam `figure.max_open_warning`).\n"
     ]
    },
    {
     "data": {
      "application/vnd.jupyter.widget-view+json": {
       "model_id": "edc7a5bb842749e08b7926b02f0c2bee",
       "version_major": 2,
       "version_minor": 0
      },
      "text/plain": [
       "Canvas(toolbar=Toolbar(toolitems=[('Home', 'Reset original view', 'home', 'home'), ('Back', 'Back to previous …"
      ]
     },
     "metadata": {},
     "output_type": "display_data"
    }
   ],
   "source": [
    "analyze_host_variable('lssfr', a.salt_hr, a.good_salt_mask & a.good_mag_mask, a.salt_hr_raw_uncertainties, y_label='SALT2 + $x_1$ residual magnitudes')\n",
    "plt.savefig('./figures/lssfr_salt_x1_cuts.pdf')\n",
    "analyze_host_variable('lssfr', rbtl_isomap_mags, a.good_salt_mask & a.good_mag_mask, y_label='RBTL + Isomap residual magnitudes')\n",
    "plt.savefig('./figures/lssfr_rbtl_isomap_cuts.pdf')\n",
    "analyze_host_variable('lssfr', salt_isomap_mags, a.good_salt_mask & a.good_mag_mask, a.salt_hr_raw_uncertainties, y_label='SALT2 + Isomap residual magnitudes')\n",
    "plt.savefig('./figures/lssfr_salt_isomap_cuts.pdf')"
   ]
  },
  {
   "cell_type": "code",
   "execution_count": 382,
   "metadata": {},
   "outputs": [
    {
     "name": "stdout",
     "output_type": "stream",
     "text": [
      "Fitting GP hyperparameters...\n",
      "Fit result:\n",
      "      fun: -60.581679263571836\n",
      " hess_inv: array([[ 0.01362433, -0.00157846,  0.00145199, -0.00682461],\n",
      "       [-0.00157846,  0.00042307, -0.00039574,  0.00117954],\n",
      "       [ 0.00145199, -0.00039574,  0.00097157, -0.0001324 ],\n",
      "       [-0.00682461,  0.00117954, -0.0001324 ,  0.04600174]])\n",
      "      jac: array([ 7.15255737e-06, -5.14984131e-05,  3.33786011e-06, -1.90734863e-06])\n",
      "  message: 'Desired error not necessarily achieved due to precision loss.'\n",
      "     nfev: 151\n",
      "      nit: 18\n",
      "     njev: 25\n",
      "   status: 2\n",
      "  success: False\n",
      "        x: array([-0.01267059,  0.0717383 ,  0.10495641,  2.7701184 ])\n",
      "Finite difference covariance step sizes: [1.60e-04 2.00e-05 4.00e-05 2.56e-03]\n",
      "Fit uncertainty: [0.072039   0.01213764 0.03502084 1.7357127 ]\n",
      "Fit NMAD:        0.0795786131480306\n",
      "Fit std:         0.09785320904372313\n"
     ]
    }
   ],
   "source": [
    "a.fit_gp()"
   ]
  },
  {
   "cell_type": "markdown",
   "metadata": {},
   "source": [
    "## Global mass plots"
   ]
  },
  {
   "cell_type": "code",
   "execution_count": 383,
   "metadata": {},
   "outputs": [
    {
     "name": "stdout",
     "output_type": "stream",
     "text": [
      "Step size: -0.101 ± 0.023 mag\n"
     ]
    },
    {
     "name": "stderr",
     "output_type": "stream",
     "text": [
      "/home/kyle/packages/conda/lib/python3.7/site-packages/ipykernel_launcher.py:98: RuntimeWarning: More than 20 figures have been opened. Figures created through the pyplot interface (`matplotlib.pyplot.figure`) are retained until explicitly closed and may consume too much memory. (To control this warning, see the rcParam `figure.max_open_warning`).\n"
     ]
    },
    {
     "data": {
      "application/vnd.jupyter.widget-view+json": {
       "model_id": "826c7b0b69b742c5aaf41084edbbda50",
       "version_major": 2,
       "version_minor": 0
      },
      "text/plain": [
       "Canvas(toolbar=Toolbar(toolitems=[('Home', 'Reset original view', 'home', 'home'), ('Back', 'Back to previous …"
      ]
     },
     "metadata": {},
     "output_type": "display_data"
    }
   ],
   "source": [
    "analyze_host_variable('gmass', a.salt_hr, a.good_salt_mask, a.salt_hr_raw_uncertainties, y_label='SALT2 + $x_1$ residual magnitudes')\n",
    "plt.savefig('./figures/gmass_salt_x1.pdf')"
   ]
  },
  {
   "cell_type": "code",
   "execution_count": 384,
   "metadata": {},
   "outputs": [
    {
     "name": "stdout",
     "output_type": "stream",
     "text": [
      "Step size: -0.072 ± 0.033 mag\n"
     ]
    },
    {
     "name": "stderr",
     "output_type": "stream",
     "text": [
      "/home/kyle/packages/conda/lib/python3.7/site-packages/ipykernel_launcher.py:98: RuntimeWarning: More than 20 figures have been opened. Figures created through the pyplot interface (`matplotlib.pyplot.figure`) are retained until explicitly closed and may consume too much memory. (To control this warning, see the rcParam `figure.max_open_warning`).\n"
     ]
    },
    {
     "data": {
      "application/vnd.jupyter.widget-view+json": {
       "model_id": "91762a955a2f4af79b063bdcd207ec26",
       "version_major": 2,
       "version_minor": 0
      },
      "text/plain": [
       "Canvas(toolbar=Toolbar(toolitems=[('Home', 'Reset original view', 'home', 'home'), ('Back', 'Back to previous …"
      ]
     },
     "metadata": {},
     "output_type": "display_data"
    },
    {
     "name": "stdout",
     "output_type": "stream",
     "text": [
      "Step size: -0.029 ± 0.025 mag\n"
     ]
    },
    {
     "name": "stderr",
     "output_type": "stream",
     "text": [
      "/home/kyle/packages/conda/lib/python3.7/site-packages/ipykernel_launcher.py:98: RuntimeWarning: More than 20 figures have been opened. Figures created through the pyplot interface (`matplotlib.pyplot.figure`) are retained until explicitly closed and may consume too much memory. (To control this warning, see the rcParam `figure.max_open_warning`).\n"
     ]
    },
    {
     "data": {
      "application/vnd.jupyter.widget-view+json": {
       "model_id": "70fb86af30014998bdff2402352b4cc9",
       "version_major": 2,
       "version_minor": 0
      },
      "text/plain": [
       "Canvas(toolbar=Toolbar(toolitems=[('Home', 'Reset original view', 'home', 'home'), ('Back', 'Back to previous …"
      ]
     },
     "metadata": {},
     "output_type": "display_data"
    },
    {
     "name": "stdout",
     "output_type": "stream",
     "text": [
      "Step size: 0.001 ± 0.035 mag\n"
     ]
    },
    {
     "name": "stderr",
     "output_type": "stream",
     "text": [
      "/home/kyle/packages/conda/lib/python3.7/site-packages/ipykernel_launcher.py:98: RuntimeWarning: More than 20 figures have been opened. Figures created through the pyplot interface (`matplotlib.pyplot.figure`) are retained until explicitly closed and may consume too much memory. (To control this warning, see the rcParam `figure.max_open_warning`).\n"
     ]
    },
    {
     "data": {
      "application/vnd.jupyter.widget-view+json": {
       "model_id": "9281daf9ec4f47fbbb96e89df55b382a",
       "version_major": 2,
       "version_minor": 0
      },
      "text/plain": [
       "Canvas(toolbar=Toolbar(toolitems=[('Home', 'Reset original view', 'home', 'home'), ('Back', 'Back to previous …"
      ]
     },
     "metadata": {},
     "output_type": "display_data"
    }
   ],
   "source": [
    "analyze_host_variable('gmass', a.salt_hr, a.good_salt_mask & a.good_mag_mask, y_label='SALT2 + $x_1$ residual magnitudes')\n",
    "plt.savefig('./figures/gmass_salt_x1_cuts.pdf')\n",
    "analyze_host_variable('gmass', rbtl_isomap_mags, a.good_salt_mask & a.good_mag_mask, y_label='RBTL + Isomap residual magnitudes')\n",
    "plt.savefig('./figures/gmass_rbtl_isomap_cuts.pdf')\n",
    "analyze_host_variable('gmass', salt_isomap_mags, a.good_salt_mask & a.good_mag_mask, y_label='SALT2 + Isomap residual magnitudes')\n",
    "plt.savefig('./figures/gmass_salt_isomap_cuts.pdf')"
   ]
  },
  {
   "cell_type": "markdown",
   "metadata": {},
   "source": [
    "## Summary plots"
   ]
  },
  {
   "cell_type": "code",
   "execution_count": 385,
   "metadata": {},
   "outputs": [
    {
     "data": {
      "text/plain": [
       "(0.030259571552653887, 0.03229067567104885)"
      ]
     },
     "execution_count": 385,
     "metadata": {},
     "output_type": "execute_result"
    }
   ],
   "source": [
    "analyze_host_variable('lssfr', salt_isomap_mags, a.good_mag_mask & a.interp_mask & a.good_salt_mask, plot=False)"
   ]
  },
  {
   "cell_type": "code",
   "execution_count": 386,
   "metadata": {},
   "outputs": [
    {
     "data": {
      "text/plain": [
       "(0.03233525257036619, 0.024623614070543205)"
      ]
     },
     "execution_count": 386,
     "metadata": {},
     "output_type": "execute_result"
    }
   ],
   "source": [
    "analyze_host_variable('lssfr', salt_isomap_mags, a.interp_mask & a.good_salt_mask, plot=False)"
   ]
  },
  {
   "cell_type": "code",
   "execution_count": 387,
   "metadata": {},
   "outputs": [
    {
     "name": "stderr",
     "output_type": "stream",
     "text": [
      "/home/kyle/packages/conda/lib/python3.7/site-packages/ipykernel_launcher.py:13: RuntimeWarning: More than 20 figures have been opened. Figures created through the pyplot interface (`matplotlib.pyplot.figure`) are retained until explicitly closed and may consume too much memory. (To control this warning, see the rcParam `figure.max_open_warning`).\n",
      "  del sys.path[0]\n"
     ]
    },
    {
     "data": {
      "application/vnd.jupyter.widget-view+json": {
       "model_id": "97c28eae6749499abb2ee5d38774d014",
       "version_major": 2,
       "version_minor": 0
      },
      "text/plain": [
       "Canvas(toolbar=Toolbar(toolitems=[('Home', 'Reset original view', 'home', 'home'), ('Back', 'Back to previous …"
      ]
     },
     "metadata": {},
     "output_type": "display_data"
    },
    {
     "data": {
      "text/plain": [
       "<matplotlib.legend.Legend at 0x7ff007ab4c10>"
      ]
     },
     "execution_count": 387,
     "metadata": {},
     "output_type": "execute_result"
    }
   ],
   "source": [
    "host_results = {\n",
    "    # 'Local Mass':  [0.008,  0.04,   -0.02,  0.028],\n",
    "    # 'Local SFR':   [0.013,  -0.007, -0.018, 0.015],\n",
    "    # 'Local SSFR':  [0.058,  0.0956, 0.029,  0.070],\n",
    "    # 'Global Mass': [0.0258,  0.061, -0.0136,-0.008],\n",
    "    'Local Mass':  [-0.0041,  0.0488],\n",
    "    'Local SSFR':  [0.0164,  0.0744],\n",
    "    'Global Mass': [-0.0121,  0.0517],\n",
    "}\n",
    "\n",
    "err = 0.025\n",
    "\n",
    "plt.figure()\n",
    "labels = []\n",
    "for idx, (key, values) in enumerate(host_results.items()):\n",
    "    for val_idx, value in enumerate(values):\n",
    "        if val_idx >= 2:\n",
    "            continue\n",
    "        marker = 'oovv'[val_idx]\n",
    "        # color = 'C%d' % (val_idx % 2)\n",
    "        color = 'C%d' % (val_idx % 2)\n",
    "        if idx == 0:\n",
    "            label = ['Manifold twins', 'SALT2', 'Manifold twins color cut', 'SALT2 color cut'][val_idx]\n",
    "        else:\n",
    "            label = None\n",
    "        gap = 0.1\n",
    "        # xpos = idx - 3.*gap + 2*gap * val_idx + gap * (val_idx // 2)\n",
    "        # xpos = idx - 1.5*gap + gap * val_idx\n",
    "        xpos = idx - 0.5*gap + gap * val_idx\n",
    "        plt.errorbar(xpos, value, err, c=color, alpha=1.)\n",
    "        plt.plot(xpos, value, marker=marker, c=color, label=label)\n",
    "        \n",
    "    labels.append(key)\n",
    "\n",
    "plt.xticks(np.arange(len(labels)), labels=labels)\n",
    "plt.axhline(0., c='k')\n",
    "plt.xlim(-0.5, 2.5)\n",
    "# plt.ylim(-0.05, 0.13)\n",
    "\n",
    "plt.ylabel('Step size (mag)')\n",
    "plt.legend(loc=2)"
   ]
  },
  {
   "cell_type": "code",
   "execution_count": 113,
   "metadata": {},
   "outputs": [
    {
     "name": "stderr",
     "output_type": "stream",
     "text": [
      "WARNING:matplotlib.backends.backend_ps:The PostScript backend does not support transparency; partially transparent artists will be rendered opaque.\n",
      "WARNING:matplotlib.backends.backend_ps:The PostScript backend does not support transparency; partially transparent artists will be rendered opaque.\n"
     ]
    }
   ],
   "source": [
    "plt.savefig('host_correlations.eps')"
   ]
  },
  {
   "cell_type": "code",
   "execution_count": 114,
   "metadata": {},
   "outputs": [
    {
     "name": "stderr",
     "output_type": "stream",
     "text": [
      "/home/kyle/packages/conda/lib/python3.7/site-packages/ipykernel_launcher.py:14: RuntimeWarning: More than 20 figures have been opened. Figures created through the pyplot interface (`matplotlib.pyplot.figure`) are retained until explicitly closed and may consume too much memory. (To control this warning, see the rcParam `figure.max_open_warning`).\n",
      "  \n"
     ]
    },
    {
     "data": {
      "application/vnd.jupyter.widget-view+json": {
       "model_id": "70103b18514f48ce816c77ecd6a10e8b",
       "version_major": 2,
       "version_minor": 0
      },
      "text/plain": [
       "Canvas(toolbar=Toolbar(toolitems=[('Home', 'Reset original view', 'home', 'home'), ('Back', 'Back to previous …"
      ]
     },
     "metadata": {},
     "output_type": "display_data"
    },
    {
     "data": {
      "text/plain": [
       "<matplotlib.legend.Legend at 0x7f30f6cc9c50>"
      ]
     },
     "execution_count": 114,
     "metadata": {},
     "output_type": "execute_result"
    }
   ],
   "source": [
    "host_results = {\n",
    "    # 'Local Mass':  [0.008,  0.04,   -0.02,  0.028],\n",
    "    # 'Local SFR':   [0.013,  -0.007, -0.018, 0.015],\n",
    "    # 'Local SSFR':  [0.058,  0.0956, 0.029,  0.070],\n",
    "    # 'Global Mass': [0.0258,  0.061, -0.0136,-0.008],\n",
    "    'Local Mass':  [0.008,  0.04,   -0.004, 0.051],\n",
    "    'Local SFR':   [0.013,  -0.007, 0.0047, -0.031],\n",
    "    'Local SSFR':  [0.058,  0.0956, 0.027, 0.065],\n",
    "    'Global Mass': [0.0258,  0.061, -0.001, 0.040],\n",
    "}\n",
    "\n",
    "err = 0.025\n",
    "\n",
    "plt.figure()\n",
    "labels = []\n",
    "for idx, (key, values) in enumerate(host_results.items()):\n",
    "    for val_idx, value in enumerate(values):\n",
    "        if val_idx >= 2:\n",
    "            continue\n",
    "        marker = 'oovv'[val_idx]\n",
    "        # color = 'C%d' % (val_idx % 2)\n",
    "        color = 'C%d' % (val_idx % 2)\n",
    "        if idx == 0:\n",
    "            label = ['Manifold twins', 'SALT2', 'Manifold twins color cut', 'SALT2 color cut'][val_idx]\n",
    "        else:\n",
    "            label = None\n",
    "        gap = 0.1\n",
    "        # xpos = idx - 3.*gap + 2*gap * val_idx + gap * (val_idx // 2)\n",
    "        # xpos = idx - 1.5*gap + gap * val_idx\n",
    "        xpos = idx - 0.5*gap + gap * val_idx\n",
    "        plt.errorbar(xpos, value, err, c=color, alpha=0.3)\n",
    "        plt.plot(xpos, value, marker=marker, c=color, label=label)\n",
    "        \n",
    "    labels.append(key)\n",
    "\n",
    "plt.xticks(np.arange(len(labels)), labels=labels)\n",
    "plt.axhline(0., c='k')\n",
    "# plt.ylim(-0.05, 0.13)\n",
    "\n",
    "plt.ylabel('Step size (mag)')\n",
    "plt.legend(loc=2)"
   ]
  },
  {
   "cell_type": "markdown",
   "metadata": {},
   "source": [
    "# Attrition and LaTeX variables for things"
   ]
  },
  {
   "cell_type": "code",
   "execution_count": 388,
   "metadata": {},
   "outputs": [],
   "source": [
    "# Define a bunch of functions to make things easier.\n",
    "\n",
    "def latex_print(file, text):\n",
    "    print(text)\n",
    "    print(text, file=file)\n",
    "\n",
    "def latex_command(file, name, formatstr, val):\n",
    "    latex_print(file, \"\\\\newcommand{\\\\%s}{%s}\" % (name, formatstr % val))\n",
    "\n",
    "def latex_std(file, name, val):\n",
    "    std, std_err = math.bootstrap_statistic(np.std, val, ddof=1)\n",
    "    latex_command(file, name, '%.3f $\\\\pm$ %.3f', (std, std_err))\n",
    "    \n",
    "def latex_nmad(file, name, val):\n",
    "    nmad, nmad_err = math.bootstrap_statistic(math.nmad, val)\n",
    "    latex_command(file, name, '%.3f $\\\\pm$ %.3f', (nmad, nmad_err))\n",
    "    \n",
    "def latex_host_step(file, name, var, mags, mask):\n",
    "    step, step_err = analyze_host_variable(var, mags, mask, plot=False)\n",
    "    latex_command(file, name, '%.3f $\\\\pm$ %.3f', (np.abs(step), step_err))"
   ]
  },
  {
   "cell_type": "code",
   "execution_count": 389,
   "metadata": {},
   "outputs": [
    {
     "name": "stdout",
     "output_type": "stream",
     "text": [
      "\\textbf{General selection requirements} & \\\\\n",
      "Initial sample                                        & 415 \\\\\n",
      "More than 5 spectra                                   & 280 \\\\\n",
      "SALT2 date of maximum light uncertainty < 1 day       & 272 \\\\\n",
      "At least one spectrum within 5 days of maximum light  & 251 \\\\\n",
      "At least one spectrum with S/N 3300-3800~\\AA\\ > 100   & 203 \\\\\n",
      "\\hline\n",
      "\\textbf{Estimation of the spectra at maximum light} & \\\\\n",
      "\\textbf{(Section~\\ref{sec:int_disp_uncertainty})} & \\\\\n",
      "Spectrum uncertainty < 10\\% of intrinsic power        & 177 \\\\\n",
      "\\hline\n",
      "\\textbf{Valid supernova brightness requirements} & \\\\\n",
      "\\textbf{(Section~\\ref{sec:magnitude_requirements})} & \\\\\n",
      "Host galaxy redshift available                        & 172 \\\\\n",
      "Host galaxy redshift above 0.02                       & 148 \\\\\n",
      "Measured $A_V$ < 0.5 mag                              & 138 \\\\\n",
      "Blinded training subsample                            & 75 \\\\\n",
      "\\hline\n",
      "\\textbf{Comparisons to SALT2 fits} & \\\\\n",
      "\\textbf{(Section~\\ref{sec:salt2_standardization})} & \\\\\n",
      "SNfactory SALT2 selection requirements                & 181 \\\\\n",
      "Passes host galaxy redshift and color requirements    & 152 \\\\\n",
      "Has a valid interpolation to maximum light            & 131 \\\\\n",
      "Blinded training subsample                            & 68 \\\\\n"
     ]
    }
   ],
   "source": [
    "# Attrition\n",
    "with open('./latex/attrition.tex', 'w') as f:\n",
    "    latex_print(f, \"\\\\textbf{General selection requirements} & \\\\\\\\\")\n",
    "    latex_print(f, \"Initial sample                                        & %d \\\\\\\\\" % len(a.dataset.targets))\n",
    "    latex_print(f, \"More than 5 spectra                                   & %d \\\\\\\\\" % a.attrition_enough_spectra)\n",
    "    latex_print(f, \"SALT2 date of maximum light uncertainty < 1 day       & %d \\\\\\\\\" % a.attrition_salt_daymax)\n",
    "    latex_print(f, \"At least one spectrum within 5 days of maximum light  & %d \\\\\\\\\" % a.attrition_range)\n",
    "    latex_print(f, \"At least one spectrum with S/N 3300-3800~\\AA\\ > 100   & %d \\\\\\\\\" % a.attrition_usable)\n",
    "    latex_print(f, \"\\hline\")\n",
    "    latex_print(f, \"\\\\textbf{Estimation of the spectra at maximum light} & \\\\\\\\\")\n",
    "    latex_print(f, r\"\\textbf{(Section~\\ref{sec:int_disp_uncertainty})} & \\\\\")\n",
    "    latex_print(f, \"Spectrum uncertainty < 10\\\\%% of intrinsic power        & %d \\\\\\\\\" % np.sum(a.interp_mask))\n",
    "    latex_print(f, \"\\hline\")\n",
    "    latex_print(f, \"\\\\textbf{Valid supernova brightness requirements} & \\\\\\\\\")\n",
    "    latex_print(f, r\"\\textbf{(Section~\\ref{sec:magnitude_requirements})} & \\\\\")\n",
    "    latex_print(f, \"Host galaxy redshift available                        & %d \\\\\\\\\" % np.sum(a.interp_mask & (a.redshift_errs < 0.004)))\n",
    "    latex_print(f, \"Host galaxy redshift above 0.02                       & %d \\\\\\\\\" % np.sum(a.interp_mask & (a.redshift_errs < 0.004) & (a.redshifts > 0.02)))\n",
    "    latex_print(f, \"Measured $A_V$ < 0.5 mag                              & %d \\\\\\\\\" % np.sum(a.interp_mask & a.redshift_color_mask))\n",
    "    latex_print(f, \"Blinded training subsample                            & %d \\\\\\\\\" % np.sum(a.good_mag_mask))\n",
    "    latex_print(f, \"\\hline\")\n",
    "    latex_print(f, \"\\\\textbf{Comparisons to SALT2 fits} & \\\\\\\\\")\n",
    "    latex_print(f, r\"\\textbf{(Section~\\ref{sec:salt2_standardization})} & \\\\\")\n",
    "    latex_print(f, \"SNfactory SALT2 selection requirements                & %d \\\\\\\\\"% np.sum(a.salt_mask))\n",
    "    latex_print(f, \"Passes host galaxy redshift and color requirements    & %d \\\\\\\\\"% np.sum(a.good_salt_mask))\n",
    "    latex_print(f, \"Has a valid interpolation to maximum light            & %d \\\\\\\\\"% np.sum(a.good_salt_mask & a.interp_mask))\n",
    "    latex_print(f, \"Blinded training subsample                            & %d \\\\\\\\\"% np.sum(a.good_salt_mask & a.good_mag_mask))"
   ]
  },
  {
   "cell_type": "code",
   "execution_count": 390,
   "metadata": {},
   "outputs": [
    {
     "name": "stdout",
     "output_type": "stream",
     "text": [
      "\n",
      "\\newcommand{\\numdatasetsne}{415}\n",
      "\\newcommand{\\numdatasetspectra}{3945}\n",
      "\n",
      "\\newcommand{\\nummanifoldsne}{203}\n",
      "\\newcommand{\\nummanifoldspectra}{598}\n",
      "\\newcommand{\\numinterpsne}{177}\n",
      "\n",
      "\\newcommand{\\numsnftrain}{80}\n",
      "\\newcommand{\\numsnfvalid}{78}\n",
      "\\newcommand{\\numsnfother}{19}\n",
      "\n",
      "\\newcommand{\\numsnredshift}{5}\n",
      "\\newcommand{\\numlowredshift}{24}\n",
      "\\newcommand{\\numhighav}{18}\n",
      "\n",
      "\\newcommand{\\nummagsne}{138}\n",
      "\\newcommand{\\nummagsnetrain}{75}\n",
      "\\newcommand{\\nummagsnevalidation}{63}\n",
      "\n",
      "\\newcommand{\\saltparammb}{-10.43}\n",
      "\\newcommand{\\saltparamalpha}{0.146}\n",
      "\\newcommand{\\saltparambeta}{2.85}\n",
      "\\newcommand{\\saltparamsigmaint}{0.061}\n",
      "\\newcommand{\\saltparamrms}{0.149 $\\pm$ 0.011}\n",
      "\\newcommand{\\saltparamnmad}{0.124 $\\pm$ 0.014}\n",
      "\\newcommand{\\saltparamwrms}{0.146}\n",
      "\\newcommand{\\saltparammindisp}{0.13}\n",
      "\\newcommand{\\saltparammaxdisp}{0.22}\n",
      "\n",
      "\\newcommand{\\rawrbtlmagstd}{0.123 $\\pm$ 0.013}\n",
      "\\newcommand{\\rawrbtlmagnmad}{0.101 $\\pm$ 0.017}\n",
      "\n"
     ]
    },
    {
     "ename": "AttributeError",
     "evalue": "'ManifoldTwinsAnalysis' object has no attribute 'twins_rms'",
     "output_type": "error",
     "traceback": [
      "\u001b[0;31m---------------------------------------------------------------------------\u001b[0m",
      "\u001b[0;31mAttributeError\u001b[0m                            Traceback (most recent call last)",
      "\u001b[0;32m<ipython-input-390-98794e729a4b>\u001b[0m in \u001b[0;36m<module>\u001b[0;34m\u001b[0m\n\u001b[1;32m     40\u001b[0m     \u001b[0mlatex_nmad\u001b[0m\u001b[0;34m(\u001b[0m\u001b[0mf\u001b[0m\u001b[0;34m,\u001b[0m \u001b[0;34m'rawrbtlmagnmad'\u001b[0m\u001b[0;34m,\u001b[0m \u001b[0ma\u001b[0m\u001b[0;34m.\u001b[0m\u001b[0mmags\u001b[0m\u001b[0;34m[\u001b[0m\u001b[0ma\u001b[0m\u001b[0;34m.\u001b[0m\u001b[0mgood_mag_mask\u001b[0m\u001b[0;34m]\u001b[0m\u001b[0;34m)\u001b[0m\u001b[0;34m\u001b[0m\u001b[0;34m\u001b[0m\u001b[0m\n\u001b[1;32m     41\u001b[0m     \u001b[0mlatex_print\u001b[0m\u001b[0;34m(\u001b[0m\u001b[0mf\u001b[0m\u001b[0;34m,\u001b[0m \u001b[0;34m\"\"\u001b[0m\u001b[0;34m)\u001b[0m\u001b[0;34m\u001b[0m\u001b[0;34m\u001b[0m\u001b[0m\n\u001b[0;32m---> 42\u001b[0;31m     \u001b[0mlatex_command\u001b[0m\u001b[0;34m(\u001b[0m\u001b[0mf\u001b[0m\u001b[0;34m,\u001b[0m \u001b[0;34m'twinrbtlmagstd'\u001b[0m\u001b[0;34m,\u001b[0m \u001b[0;34m'%.3f'\u001b[0m\u001b[0;34m,\u001b[0m \u001b[0ma\u001b[0m\u001b[0;34m.\u001b[0m\u001b[0mtwins_rms\u001b[0m\u001b[0;34m)\u001b[0m\u001b[0;34m\u001b[0m\u001b[0;34m\u001b[0m\u001b[0m\n\u001b[0m\u001b[1;32m     43\u001b[0m     \u001b[0mlatex_command\u001b[0m\u001b[0;34m(\u001b[0m\u001b[0mf\u001b[0m\u001b[0;34m,\u001b[0m \u001b[0;34m'twinrbtlmagnmad'\u001b[0m\u001b[0;34m,\u001b[0m \u001b[0;34m'%.3f'\u001b[0m\u001b[0;34m,\u001b[0m \u001b[0ma\u001b[0m\u001b[0;34m.\u001b[0m\u001b[0mtwins_nmad\u001b[0m\u001b[0;34m)\u001b[0m\u001b[0;34m\u001b[0m\u001b[0;34m\u001b[0m\u001b[0m\n\u001b[1;32m     44\u001b[0m     \u001b[0mlatex_print\u001b[0m\u001b[0;34m(\u001b[0m\u001b[0mf\u001b[0m\u001b[0;34m,\u001b[0m \u001b[0;34m\"\"\u001b[0m\u001b[0;34m)\u001b[0m\u001b[0;34m\u001b[0m\u001b[0;34m\u001b[0m\u001b[0m\n",
      "\u001b[0;31mAttributeError\u001b[0m: 'ManifoldTwinsAnalysis' object has no attribute 'twins_rms'"
     ]
    }
   ],
   "source": [
    "a.fit_gp(kind='salt_raw', verbose=False)\n",
    "salt_isomap_mags = a.corr_mags.copy()\n",
    "\n",
    "a.fit_gp(verbose=False)\n",
    "rbtl_isomap_mags = a.corr_mags.copy()\n",
    "\n",
    "with open('latex/commands.tex', 'w') as f:\n",
    "    latex_print(f, \"\")\n",
    "    latex_command(f, 'numdatasetsne', '%d', len(a.dataset.targets))\n",
    "    latex_command(f, 'numdatasetspectra', '%d', np.sum([len(i.spectra) for i in a.dataset.targets]))\n",
    "    latex_print(f, \"\")\n",
    "    latex_command(f, 'nummanifoldsne', '%d', len(a.targets))\n",
    "    latex_command(f, 'nummanifoldspectra', '%d', len(a.spectra))\n",
    "    latex_command(f, 'numinterpsne', '%d', np.sum(a.interp_mask))\n",
    "    latex_print(f, \"\")\n",
    "    latex_command(f, 'numsnftrain', '%d', np.sum([i.subset == 'training' for i in a.targets[a.interp_mask]]))\n",
    "    latex_command(f, 'numsnfvalid', '%d', np.sum([i.subset == 'validation' for i in a.targets[a.interp_mask]]))\n",
    "    latex_command(f, 'numsnfother', '%d', np.sum([i.subset not in ['training', 'validation'] for i in a.targets[a.interp_mask]]))\n",
    "    latex_print(f, \"\")\n",
    "    latex_command(f, 'numsnredshift', '%d', np.sum(a.interp_mask & (a.redshift_errs >= 0.004)))\n",
    "    latex_command(f, 'numlowredshift', '%d', np.sum(a.interp_mask & (a.redshifts <= 0.02)))\n",
    "    latex_command(f, 'numhighav', '%d', np.sum(a.interp_mask & (a.colors - np.nanmedian(a.colors) >= 0.5)))\n",
    "    latex_print(f, \"\")\n",
    "    latex_command(f, 'nummagsne', '%d', np.sum(a.interp_mask & a.redshift_color_mask))\n",
    "    latex_command(f, 'nummagsnetrain', '%d', np.sum(a.good_mag_mask))\n",
    "    latex_command(f, 'nummagsnevalidation', '%d', np.sum(a.interp_mask & a.redshift_color_mask & ~a.good_mag_mask))\n",
    "    latex_print(f, \"\")\n",
    "    latex_command(f, 'saltparammb', '%.2f', a.salt_MB)\n",
    "    latex_command(f, 'saltparamalpha', '%.3f', a.salt_alpha)\n",
    "    latex_command(f, 'saltparambeta', '%.2f', a.salt_beta)\n",
    "    latex_command(f, 'saltparamsigmaint', '%.3f', a.salt_intrinsic_dispersion)\n",
    "    # latex_command(f, 'saltparamrms', '%.3f', np.std(a.salt_hr[a.good_salt_mask]))\n",
    "    latex_std(f, 'saltparamrms', a.salt_hr[a.good_salt_mask])\n",
    "    latex_nmad(f, 'saltparamnmad', a.salt_hr[a.good_salt_mask])\n",
    "    latex_command(f, 'saltparamwrms', '%.3f', a.salt_wrms)\n",
    "    latex_command(f, 'saltparammindisp', '%.2f', np.min(a.salt_hr_uncertainties[a.good_salt_mask]))\n",
    "    latex_command(f, 'saltparammaxdisp', '%.2f', np.max(a.salt_hr_uncertainties[a.good_salt_mask]))\n",
    "    latex_print(f, \"\")\n",
    "    latex_std(f, 'rawrbtlmagstd', a.mags[a.good_mag_mask])\n",
    "    latex_nmad(f, 'rawrbtlmagnmad', a.mags[a.good_mag_mask])\n",
    "    latex_print(f, \"\")\n",
    "    latex_command(f, 'twinrbtlmagstd', '%.3f', a.twins_rms)\n",
    "    latex_command(f, 'twinrbtlmagnmad', '%.3f', a.twins_nmad)\n",
    "    latex_print(f, \"\")\n",
    "    latex_std(f, 'saltcomprawrbtlmagstd', a.mags[a.good_mag_mask & a.good_salt_mask])\n",
    "    latex_std(f, 'saltcompsaltmagstd', a.salt_hr[a.good_mag_mask & a.good_salt_mask])\n",
    "\n",
    "    a.fit_gp(verbose=False, kind='salt_raw')\n",
    "    gp_uncertainties = np.sqrt(np.diag(a.gp_hyperparameter_covariance))\n",
    "    latex_print(f, \"\")\n",
    "    latex_command(f, 'saltgpcolor', '%.2f $\\\\pm$ %.2f', (a.gp_hyperparameters[0], gp_uncertainties[0]))\n",
    "    latex_command(f, 'saltgpintdisp', '%.3f $\\\\pm$ %.3f', (a.gp_hyperparameters[1], gp_uncertainties[1]))\n",
    "    latex_command(f, 'saltgpkernelamp', '%.3f $\\\\pm$ %.3f', (np.abs(a.gp_hyperparameters[2]), gp_uncertainties[2]))\n",
    "    latex_command(f, 'saltgpkernellengthscale', '%.2f $\\\\pm$ %.2f', (a.gp_hyperparameters[3], gp_uncertainties[3]))\n",
    "    latex_std(f, 'saltgprms', a.corr_mags[a.good_salt_mask & a.interp_mask])\n",
    "    latex_std(f, 'saltgpcompsaltrms', a.salt_hr[a.good_salt_mask & a.interp_mask])\n",
    "\n",
    "    a.fit_gp(verbose=False)\n",
    "    gp_uncertainties = np.sqrt(np.diag(a.gp_hyperparameter_covariance))\n",
    "    latex_print(f, \"\")\n",
    "    latex_command(f, 'rbtlgpcolor', '%.2f $\\\\pm$ %.2f', (a.fiducial_rv * (1 + a.gp_hyperparameters[0]), a.fiducial_rv * gp_uncertainties[0]))\n",
    "    latex_command(f, 'rbtlgpintdisp', '%.3f $\\\\pm$ %.3f', (a.gp_hyperparameters[1], gp_uncertainties[1]))\n",
    "    latex_command(f, 'rbtlgpkernelamp', '%.3f $\\\\pm$ %.3f', (np.abs(a.gp_hyperparameters[2]), gp_uncertainties[2]))\n",
    "    latex_command(f, 'rbtlgpkernellengthscale', '%.2f $\\\\pm$ %.2f', (a.gp_hyperparameters[3], gp_uncertainties[3]))\n",
    "\n",
    "    latex_print(f, \"\")\n",
    "    latex_std(f, 'rbtlgprms', a.corr_mags[a.good_mag_mask])\n",
    "    latex_command(f, 'rbtlgpnmad', '%.3f', math.nmad(a.corr_mags[a.good_mag_mask]))\n",
    "\n",
    "    latex_print(f, \"\")\n",
    "    x1 = a.salt_hr[(a.embedding[:, 0] < 2) & a.good_salt_mask & a.interp_mask]\n",
    "    x2 = a.salt_hr[(a.embedding[:, 0] > 2) & a.good_salt_mask & a.interp_mask]\n",
    "    m1 = np.mean(x1)\n",
    "    m2 = np.mean(x2)\n",
    "    err1 = np.std(x1) / np.sqrt(len(x1))\n",
    "    err2 = np.std(x2) / np.sqrt(len(x2))\n",
    "    latex_command(f, 'saltisomapdiff', '%.3f $\\\\pm$ %.3f', (np.abs(m1-m2), np.sqrt(err1**2 + err2**2)))\n",
    "\n",
    "    latex_print(f, \"\")\n",
    "    latex_command(f, 'pecvelcontribution', '%.3f', np.sqrt(np.mean(a.get_peculiar_velocity_uncertainty()[a.good_mag_mask & a.good_salt_mask]**2)))\n",
    "\n",
    "    latex_print(f, \"\")\n",
    "    latex_host_step(f, 'lssfrsaltxifull', 'lssfr', a.salt_hr, a.good_salt_mask)\n",
    "    latex_host_step(f, 'gmasssaltxifull', 'gmass', a.salt_hr, a.good_salt_mask)\n",
    "    latex_host_step(f, 'lssfrsaltxicut', 'lssfr', a.salt_hr, a.good_salt_mask & a.good_mag_mask)\n",
    "    latex_host_step(f, 'gmasssaltxicut', 'gmass', a.salt_hr, a.good_salt_mask & a.good_mag_mask)\n",
    "    latex_host_step(f, 'lssfrsaltisomapcut', 'lssfr', salt_isomap_mags, a.good_salt_mask & a.good_mag_mask)\n",
    "    latex_host_step(f, 'gmasssaltisomapcut', 'gmass', salt_isomap_mags, a.good_salt_mask & a.good_mag_mask)\n",
    "    latex_host_step(f, 'lssfrrbtlisomapcut', 'lssfr', a.corr_mags, a.good_salt_mask & a.good_mag_mask)\n",
    "    latex_host_step(f, 'gmassrbtlisomapcut', 'gmass', a.corr_mags, a.good_salt_mask & a.good_mag_mask)\n",
    "    latex_command(f, 'hostcutsnsnetrain', '%d', np.sum(a.good_mag_mask & a.good_salt_mask & a.host_mask))\n",
    "    latex_command(f, 'hostcutsnsnefull', '%d', np.sum(a.redshift_color_mask & a.interp_mask & a.good_salt_mask & a.host_mask))\n",
    "    \n",
    "    latex_print(f, \"\")\n",
    "    t1 = a.targets[salt_diff_idx[0]]\n",
    "    t2 = a.targets[salt_diff_idx[1]]\n",
    "    latex_command(f, 'saltcompnamea', '%s', t1.name)\n",
    "    latex_command(f, 'saltcompnameb', '%s', t2.name)\n",
    "    latex_command(f, 'saltcompxonea', '%.3f $\\\\pm$ %.3f', (t1['salt2.X1'], t1['salt2.X1.err']))\n",
    "    latex_command(f, 'saltcompxoneb', '%.3f $\\\\pm$ %.3f', (t2['salt2.X1'], t2['salt2.X1.err']))\n",
    "    latex_command(f, 'saltcompca', '%.3f $\\\\pm$ %.3f', (t1['salt2.Color'], t1['salt2.Color.err']))\n",
    "    latex_command(f, 'saltcompcb', '%.3f $\\\\pm$ %.3f', (t2['salt2.Color'], t2['salt2.Color.err']))\n",
    "    latex_command(f, 'saltcomptzeroa', '%.2f', a.embedding[salt_diff_idx[0], 0])\n",
    "    latex_command(f, 'saltcomptzerob', '%.2f', a.embedding[salt_diff_idx[1], 0])\n",
    "    latex_command(f, 'saltcompmagbdiff', '%.3f $\\\\pm$ %.3f', (salt_comparision_mb_diff, salt_comparison_mb_diff_err))"
   ]
  },
  {
   "cell_type": "markdown",
   "metadata": {},
   "source": [
    "## Standardization comparison"
   ]
  },
  {
   "cell_type": "code",
   "execution_count": 315,
   "metadata": {},
   "outputs": [
    {
     "name": "stdout",
     "output_type": "stream",
     "text": [
      "    Maximum spectrum &    73 &                 NMAD &   0.092 $\\pm$  0.017 &  0.079 $\\pm$  0.014 &                  -- &                  -- \\\\\n",
      "     + training cuts &       &   Standard deviation &   0.123 $\\pm$  0.012 &  0.100 $\\pm$  0.010 &                  -- &                  -- \\\\\n",
      "                     &       &    Pec. vel. removed &   0.109 $\\pm$  0.014 &  0.082 $\\pm$  0.013 &                  -- &                  -- \\\\\n",
      "\\hline\n",
      "      SALT2 fit cuts &   152 &                 NMAD &                   -- &                  -- &  0.115 $\\pm$  0.013 &                  -- \\\\\n",
      "                     &       &   Standard deviation &                   -- &                  -- &  0.149 $\\pm$  0.011 &                  -- \\\\\n",
      "                     &       &    Pec. vel. removed &                   -- &                  -- &  0.140 $\\pm$  0.012 &                  -- \\\\\n",
      "\\hline\n",
      "    Maximum spectrum &   128 &                 NMAD &                   -- &                  -- &  0.103 $\\pm$  0.014 &  0.119 $\\pm$  0.012 \\\\\n",
      "    + SALT2 fit cuts &       &   Standard deviation &                   -- &                  -- &  0.145 $\\pm$  0.012 &  0.116 $\\pm$  0.007 \\\\\n",
      "                     &       &    Pec. vel. removed &                   -- &                  -- &  0.135 $\\pm$  0.013 &  0.103 $\\pm$  0.008 \\\\\n",
      "\\hline\n",
      "            All cuts &    66 &                 NMAD &   0.106 $\\pm$  0.016 &  0.074 $\\pm$  0.013 &  0.101 $\\pm$  0.021 &  0.103 $\\pm$  0.015 \\\\\n",
      "                     &       &   Standard deviation &   0.114 $\\pm$  0.010 &  0.095 $\\pm$  0.010 &  0.134 $\\pm$  0.014 &  0.112 $\\pm$  0.011 \\\\\n",
      "                     &       &    Pec. vel. removed &   0.100 $\\pm$  0.012 &  0.078 $\\pm$  0.013 &  0.123 $\\pm$  0.015 &  0.098 $\\pm$  0.013 \\\\\n"
     ]
    }
   ],
   "source": [
    "def int_disp(vals, pec_vel_disps, axis=None):\n",
    "    std = np.std(vals, ddof=1, axis=axis)\n",
    "    corr = np.mean(pec_vel_disps**2, axis=axis)\n",
    "    corr_std = np.sqrt(np.clip(std**2 - corr, 0, None))\n",
    "\n",
    "    return corr_std\n",
    "\n",
    "def get_stat_str(all_mags, cut, function, *args):\n",
    "    line_str = \"\"\n",
    "    for mags in all_mags:\n",
    "        if line_str:\n",
    "            line_str += \" &\"\n",
    "            \n",
    "        use_mags = mags[cut]\n",
    "        if np.any(np.isnan(use_mags)):\n",
    "            line_str += \"%20s\" % \"--\"\n",
    "        else:\n",
    "            res, res_err = math.bootstrap_statistic(function, use_mags, *args)\n",
    "            line_str += \"%7.3f $\\pm$ %6.3f\" % (res, res_err)\n",
    "    \n",
    "    line_str += \" \\\\\\\\\"\n",
    "    \n",
    "    return line_str\n",
    "\n",
    "def make_table(f, all_mags, cut, label):\n",
    "    stats = {\n",
    "        'NMAD': (math.nmad,),\n",
    "        'Standard deviation': (np.std,),\n",
    "        'Pec. vel. removed': (int_disp, a.get_peculiar_velocity_uncertainty()[cut]),\n",
    "    }\n",
    "    for i, (stat_name, stat_args) in enumerate(stats.items()):\n",
    "        if len(label) > i:\n",
    "            prefix = label[i]\n",
    "        else:\n",
    "            prefix = \"\"\n",
    "            \n",
    "        if i == 0:\n",
    "            num_sne = \"%d\" % np.sum(cut)\n",
    "        else:\n",
    "            num_sne = \"\"\n",
    "            \n",
    "        stat_str = get_stat_str(all_mags, cut, *stat_args)\n",
    "        latex_print(f, \"%20s & %5s & %20s & %s\" % (prefix, num_sne, stat_name, stat_str))\n",
    "        \n",
    "# RBTL only\n",
    "rbtl_mags = a.mags.copy()\n",
    "rbtl_mags[~a.good_mag_mask] = np.nan\n",
    "        \n",
    "# RBTL + Isomap\n",
    "a.fit_gp(verbose=False)\n",
    "rbtl_isomap_mags = a.corr_mags.copy()\n",
    "rbtl_isomap_mags[~a.good_mag_mask] = np.nan\n",
    "\n",
    "# SALT2\n",
    "salt_mags = a.salt_hr.copy()\n",
    "salt_mags[~a.good_salt_mask] = np.nan\n",
    "\n",
    "# SALT2 + Isomap\n",
    "a.fit_gp(kind='salt_raw', verbose=False)\n",
    "salt_isomap_mags = a.corr_mags.copy()\n",
    "salt_isomap_mags[~a.good_salt_mask] = np.nan\n",
    "salt_isomap_mags[~a.interp_mask] = np.nan\n",
    "\n",
    "all_mags = [rbtl_mags, rbtl_isomap_mags, salt_mags, salt_isomap_mags]\n",
    "\n",
    "with open('./latex/dispersions.tex', 'w') as f:\n",
    "    # RBTL only\n",
    "    make_table(f, all_mags, a.interp_mask & a.redshift_color_mask & a.train_mask, ['Maximum spectrum', '+ training cuts'])\n",
    "    latex_print(f, \"\\hline\")\n",
    "\n",
    "    # SALT2 only\n",
    "    make_table(f, all_mags, a.good_salt_mask, ['SALT2 fit cuts'])\n",
    "    latex_print(f, \"\\hline\")\n",
    "\n",
    "    # SALT2 + Isomap\n",
    "    make_table(f, all_mags, a.good_salt_mask & a.interp_mask, ['Maximum spectrum', '+ SALT2 fit cuts'])\n",
    "    latex_print(f, \"\\hline\")\n",
    "\n",
    "    # All\n",
    "    make_table(f, all_mags, a.interp_mask & a.redshift_color_mask & a.salt_mask & a.train_mask, ['All cuts'])"
   ]
  },
  {
   "cell_type": "markdown",
   "metadata": {},
   "source": [
    "## Host galaxy steps"
   ]
  },
  {
   "cell_type": "code",
   "execution_count": 114,
   "metadata": {},
   "outputs": [
    {
     "name": "stdout",
     "output_type": "stream",
     "text": [
      "       SALT2 + $x_1$ &                SALT2 & 0.112 $\\pm$ 0.024 & 0.093 $\\pm$ 0.024 \\\\\n",
      "       SALT2 + $x_1$ &  SALT2 + max + train & 0.111 $\\pm$ 0.034 & 0.078 $\\pm$ 0.035 \\\\\n",
      "       RBTL + Isomap &  SALT2 + max + train & 0.060 $\\pm$ 0.026 & 0.045 $\\pm$ 0.025 \\\\\n",
      "      SALT2 + Isomap &  SALT2 + max + train & 0.043 $\\pm$ 0.033 & 0.012 $\\pm$ 0.034 \\\\\n"
     ]
    }
   ],
   "source": [
    "# All of these functions are defined in the Host galaxy correlations section. Make\n",
    "# sure to run that first.\n",
    "def print_row(f, mags, cut, label, cut_label):\n",
    "    step_vars = [\n",
    "        ('lssfr', '$\\\\Delta_{lsSFR}$', +1),\n",
    "        ('gmass', '$\\\\Delta_{mass}$', -1),\n",
    "    ]\n",
    "    stat_str = \"%20s & %20s\" % (label, cut_label)\n",
    "    for i, (var_name, var_label, var_sign) in enumerate(step_vars):\n",
    "        var, var_err = analyze_host_variable(var_name, mags, cut, plot=False)\n",
    "        stat_str += \" & %.3f $\\pm$ %.3f\" % (var_sign * var, var_err)\n",
    "        \n",
    "    stat_str += \" \\\\\\\\\"\n",
    "    latex_print(f, stat_str)\n",
    "    \n",
    "with open('./latex/host_steps.tex', 'w') as f:\n",
    "    print_row(f, a.salt_hr, a.good_salt_mask, 'SALT2 + $x_1$', 'SALT2')\n",
    "    print_row(f, a.salt_hr, a.good_salt_mask & a.good_mag_mask, 'SALT2 + $x_1$', 'SALT2 + max + train')\n",
    "    print_row(f, rbtl_isomap_mags, a.good_salt_mask & a.good_mag_mask, 'RBTL + Isomap', 'SALT2 + max + train')\n",
    "    print_row(f, salt_isomap_mags, a.good_salt_mask & a.good_mag_mask, 'SALT2 + Isomap', 'SALT2 + max + train')"
   ]
  },
  {
   "cell_type": "markdown",
   "metadata": {},
   "source": [
    "# Dump parameters"
   ]
  },
  {
   "cell_type": "code",
   "execution_count": 115,
   "metadata": {},
   "outputs": [],
   "source": [
    "import pandas as pd"
   ]
  },
  {
   "cell_type": "code",
   "execution_count": 116,
   "metadata": {},
   "outputs": [],
   "source": [
    "pd.DataFrame({\n",
    "    'name': [i.name for i in a.targets],\n",
    "    't1': a.embedding[:, 0],\n",
    "    't2': a.embedding[:, 1],\n",
    "    't3': a.embedding[:, 2],\n",
    "    'salt_x1': a.salt_x1,\n",
    "    'salt_mag': a.salt_hr,\n",
    "}).to_csv('./manifold_parameters.csv')"
   ]
  },
  {
   "cell_type": "markdown",
   "metadata": {},
   "source": [
    "# Comparison to Rigault18 method of host corrections"
   ]
  },
  {
   "cell_type": "code",
   "execution_count": 101,
   "metadata": {},
   "outputs": [],
   "source": [
    "host_data = Table.read('./data/host_properties_rigault_2019.txt', format='ascii')\n",
    "hd = host_data"
   ]
  },
  {
   "cell_type": "code",
   "execution_count": 102,
   "metadata": {},
   "outputs": [
    {
     "name": "stdout",
     "output_type": "stream",
     "text": [
      "Mass\n",
      "    Step size, x1/alpha fit: 0.1033 ± 0.0240\n",
      "        var1=0.017, var2=0.021\n",
      "        alpha=-0.009, beta=-0.124\n",
      "    Step size, fixed x1/alpha: 0.1017 ± 0.0238\n",
      "        var1=0.018, var2=0.021\n",
      "    Raw step size: 0.0939\n",
      "\n",
      "lSSFR\n"
     ]
    },
    {
     "name": "stderr",
     "output_type": "stream",
     "text": [
      "/home/kyle/packages/conda/lib/python3.7/site-packages/ipykernel_launcher.py:22: RuntimeWarning: divide by zero encountered in log\n",
      "/home/kyle/packages/conda/lib/python3.7/site-packages/scipy/optimize/optimize.py:696: RuntimeWarning: invalid value encountered in double_scalars\n",
      "  grad[k] = (f(*((xk + d,) + args)) - f0) / d[k]\n",
      "/home/kyle/packages/conda/lib/python3.7/site-packages/ipykernel_launcher.py:22: RuntimeWarning: divide by zero encountered in log\n"
     ]
    },
    {
     "name": "stdout",
     "output_type": "stream",
     "text": [
      "    Step size, x1/alpha fit: 0.1382 ± 0.0239\n",
      "        var1=0.013, var2=0.017\n",
      "        alpha=-0.020, beta=-0.133\n",
      "    Step size, fixed x1/alpha: 0.1245 ± 0.0226\n",
      "        var1=0.013, var2=0.019\n",
      "    Raw step size: 0.0968\n"
     ]
    }
   ],
   "source": [
    "hd = host_data\n",
    "\n",
    "def do_fit(p):\n",
    "    def calc_chi2(x):\n",
    "        if len(x) == 6:\n",
    "            s1, s2, v1, v2, alpha, beta = x\n",
    "        else:\n",
    "            s1, s2, v1, v2 = x\n",
    "            alpha = 0\n",
    "            beta = 0\n",
    "\n",
    "        model1 = alpha * hd['x1'] + beta * hd['c'] + s1\n",
    "        model2 = alpha * hd['x1'] + beta * hd['c'] + s2\n",
    "        \n",
    "        tv1 = np.clip(v1 + hd['dmb_err']**2, 0.0001, None)\n",
    "        tv2 = np.clip(v2 + hd['dmb_err']**2, 0.0001, None)\n",
    "        # tv1 = hd['dmb_err']**2\n",
    "        # tv2 = hd['dmb_err']**2\n",
    "\n",
    "        likelihood = np.sum(-np.log(\n",
    "            p * np.exp(-(hd['dmb'] - model1)**2 / tv1) / np.sqrt(2 * np.pi * tv1)\n",
    "            + (1 - p) * np.exp(-(hd['dmb'] - model2)**2 / tv2) / np.sqrt(2 * np.pi * tv2)\n",
    "        ))\n",
    "        \n",
    "        return likelihood\n",
    "    \n",
    "    res = minimize(calc_chi2, [0., 0., 0.01, 0.01, 0., 0.])\n",
    "    res_var = np.diag(res.hess_inv)\n",
    "    step_err = np.sqrt(res_var[0] + res_var[1])\n",
    "    print(\"    Step size, x1/alpha fit: %.4f ± %.4f\" % (np.abs(res.x[0] - res.x[1]), step_err))\n",
    "    print(\"        var1=%.3f, var2=%.3f\" % (res.x[2], res.x[3]))\n",
    "    print(\"        alpha=%.3f, beta=%.3f\" % (res.x[4], res.x[5]))\n",
    "    \n",
    "    res = minimize(calc_chi2, [0., 0., 0.01, 0.01])\n",
    "    res_var = np.diag(res.hess_inv)\n",
    "    step_err = np.sqrt(res_var[0] + res_var[1])\n",
    "    print(\"    Step size, fixed x1/alpha: %.4f ± %.4f\" % (np.abs(res.x[0] - res.x[1]), step_err))\n",
    "    print(\"        var1=%.3f, var2=%.3f\" % (res.x[2], res.x[3]))\n",
    "    \n",
    "    val1 = np.sum(hd['dmb'] * p) / np.sum(p)\n",
    "    val2 = np.sum(hd['dmb'] * (1 - p)) / np.sum(1 - p)\n",
    "    \n",
    "    print(\"    Raw step size: %.4f\" % np.abs(val1 - val2))\n",
    "\n",
    "print(\"Mass\")\n",
    "do_fit(hd['p_highmass'] / 100.)\n",
    "print(\"\")\n",
    "\n",
    "print(\"lSSFR\")\n",
    "do_fit(hd['p_young'] / 100.)"
   ]
  },
  {
   "cell_type": "code",
   "execution_count": 103,
   "metadata": {},
   "outputs": [
    {
     "name": "stdout",
     "output_type": "stream",
     "text": [
      "((0.041956693081730355, -0.08249440709218889, -0.12445110017391925), (0.015257827315081319, 0.017027026649807323, 0.022863091018278575))\n",
      "((0.029708693588360247, -0.06798043604465988, -0.09768912963302012), (0.08494233509584201, 0.08401115794570718, 0.11946997510216897))\n"
     ]
    }
   ],
   "source": [
    "print(likelihood_step(hd['dmb'], hd['p_young'] / 100., hd['dmb_err'])[:2])\n",
    "print(likelihood_step(hd['dmb'], hd['p_young'] / 100.)[:2])"
   ]
  },
  {
   "cell_type": "code",
   "execution_count": 104,
   "metadata": {},
   "outputs": [
    {
     "name": "stdout",
     "output_type": "stream",
     "text": [
      "((0.03273877131607066, -0.08994387880849528, -0.12268265012456595), (0.01533102476227663, 0.019751508200136887, 0.02500324771787885))\n",
      "((0.021594728332160685, -0.0766799633884625, -0.09827469172062318), (0.09428334499703768, 0.09875735812604883, 0.13653704599070207))\n",
      "((0.05236789309547884, -0.06205267930967671, -0.11442057240515555), (0.014828136980749078, 0.018901898635115277, 0.02402405915602172))\n",
      "((0.04401846403467435, -0.0504233322149958, -0.09444179624967014), (0.09426762033082844, 0.09870020628713029, 0.13648485250737274))\n",
      "((0.05150344031009194, -0.06180248633437112, -0.11330592664446307), (0.014806306928443156, 0.018307247214582746, 0.023545318546053087))\n",
      "((0.04401846403467435, -0.0504233322149958, -0.09444179624967014), (0.09426762033082844, 0.09870020628713029, 0.13648485250737274))\n"
     ]
    }
   ],
   "source": [
    "hh = a.host_data[a.host_mask]\n",
    "print(likelihood_step(hh['dmb'], hh['p_young'] / 100., hh['dmb_err'])[:2])\n",
    "print(likelihood_step(hh['dmb'], hh['p_young'] / 100.)[:2])\n",
    "print(likelihood_step(a.salt_hr[a.host_mask], hh['p_young'] / 100., hh['dmb_err'])[:2])\n",
    "print(likelihood_step(a.salt_hr[a.host_mask], hh['p_young'] / 100.)[:2])\n",
    "print(likelihood_step(a.salt_hr[a.host_mask], hh['p_young'] / 100., a.salt_hr_raw_uncertainties[a.host_mask])[:2])\n",
    "print(likelihood_step(a.salt_hr[a.host_mask], hh['p_young'] / 100.)[:2])"
   ]
  },
  {
   "cell_type": "code",
   "execution_count": 105,
   "metadata": {},
   "outputs": [
    {
     "name": "stderr",
     "output_type": "stream",
     "text": [
      "/home/kyle/packages/conda/lib/python3.7/site-packages/ipykernel_launcher.py:1: RuntimeWarning: More than 20 figures have been opened. Figures created through the pyplot interface (`matplotlib.pyplot.figure`) are retained until explicitly closed and may consume too much memory. (To control this warning, see the rcParam `figure.max_open_warning`).\n",
      "  \"\"\"Entry point for launching an IPython kernel.\n"
     ]
    },
    {
     "data": {
      "application/vnd.jupyter.widget-view+json": {
       "model_id": "99c72ab548424c20b54cf965d5a45b09",
       "version_major": 2,
       "version_minor": 0
      },
      "text/plain": [
       "Canvas(toolbar=Toolbar(toolitems=[('Home', 'Reset original view', 'home', 'home'), ('Back', 'Back to previous …"
      ]
     },
     "metadata": {},
     "output_type": "display_data"
    },
    {
     "data": {
      "text/plain": [
       "<matplotlib.collections.PathCollection at 0x7fccd9e58f90>"
      ]
     },
     "execution_count": 105,
     "metadata": {},
     "output_type": "execute_result"
    }
   ],
   "source": [
    "plt.figure()\n",
    "plt.scatter(a.salt_hr_uncertainties, a.host_data['dmb_err'])"
   ]
  },
  {
   "cell_type": "code",
   "execution_count": null,
   "metadata": {},
   "outputs": [],
   "source": []
  },
  {
   "cell_type": "markdown",
   "metadata": {},
   "source": [
    "# Modeling the full timeseries"
   ]
  },
  {
   "cell_type": "code",
   "execution_count": 115,
   "metadata": {},
   "outputs": [
    {
     "name": "stderr",
     "output_type": "stream",
     "text": [
      "  5%|▍         | 10/207 [00:03<01:17,  2.56it/s]\n"
     ]
    },
    {
     "ename": "KeyboardInterrupt",
     "evalue": "",
     "output_type": "error",
     "traceback": [
      "\u001b[0;31m---------------------------------------------------------------------------\u001b[0m",
      "\u001b[0;31mKeyboardInterrupt\u001b[0m                         Traceback (most recent call last)",
      "\u001b[0;32m<ipython-input-115-3e214c6302cb>\u001b[0m in \u001b[0;36m<module>\u001b[0;34m\u001b[0m\n\u001b[1;32m     15\u001b[0m \u001b[0;34m\u001b[0m\u001b[0m\n\u001b[1;32m     16\u001b[0m     \u001b[0;32mfor\u001b[0m \u001b[0mraw_spectrum\u001b[0m \u001b[0;32min\u001b[0m \u001b[0mtarget\u001b[0m\u001b[0;34m.\u001b[0m\u001b[0mspectra\u001b[0m\u001b[0;34m:\u001b[0m\u001b[0;34m\u001b[0m\u001b[0;34m\u001b[0m\u001b[0m\n\u001b[0;32m---> 17\u001b[0;31m         \u001b[0mspectrum\u001b[0m \u001b[0;34m=\u001b[0m \u001b[0mraw_spectrum\u001b[0m\u001b[0;34m.\u001b[0m\u001b[0mbin_by_velocity\u001b[0m\u001b[0;34m(\u001b[0m\u001b[0;36m1000\u001b[0m\u001b[0;34m)\u001b[0m\u001b[0;34m.\u001b[0m\u001b[0mapply_scale\u001b[0m\u001b[0;34m(\u001b[0m\u001b[0mscale\u001b[0m\u001b[0;34m)\u001b[0m\u001b[0;34m\u001b[0m\u001b[0;34m\u001b[0m\u001b[0m\n\u001b[0m\u001b[1;32m     18\u001b[0m \u001b[0;34m\u001b[0m\u001b[0m\n\u001b[1;32m     19\u001b[0m         \u001b[0mall_phases\u001b[0m\u001b[0;34m.\u001b[0m\u001b[0mappend\u001b[0m\u001b[0;34m(\u001b[0m\u001b[0mspectrum\u001b[0m\u001b[0;34m.\u001b[0m\u001b[0mphase\u001b[0m\u001b[0;34m)\u001b[0m\u001b[0;34m\u001b[0m\u001b[0;34m\u001b[0m\u001b[0m\n",
      "\u001b[0;32m~/supernova/snfactory/idrtools/idrtools/spectrum.py\u001b[0m in \u001b[0;36mbin_by_velocity\u001b[0;34m(self, velocity, min_wave, max_wave, **kwargs)\u001b[0m\n\u001b[1;32m    699\u001b[0m         )\n\u001b[1;32m    700\u001b[0m \u001b[0;34m\u001b[0m\u001b[0m\n\u001b[0;32m--> 701\u001b[0;31m         \u001b[0;32mreturn\u001b[0m \u001b[0mself\u001b[0m\u001b[0;34m.\u001b[0m\u001b[0mapply_binning\u001b[0m\u001b[0;34m(\u001b[0m\u001b[0mmodification\u001b[0m\u001b[0;34m,\u001b[0m \u001b[0mbin_edges\u001b[0m\u001b[0;34m=\u001b[0m\u001b[0mbin_edges\u001b[0m\u001b[0;34m,\u001b[0m \u001b[0;34m**\u001b[0m\u001b[0mkwargs\u001b[0m\u001b[0;34m)\u001b[0m\u001b[0;34m\u001b[0m\u001b[0;34m\u001b[0m\u001b[0m\n\u001b[0m\u001b[1;32m    702\u001b[0m \u001b[0;34m\u001b[0m\u001b[0m\n\u001b[1;32m    703\u001b[0m     \u001b[0;32mdef\u001b[0m \u001b[0mapply_reddening\u001b[0m\u001b[0;34m(\u001b[0m\u001b[0mself\u001b[0m\u001b[0;34m,\u001b[0m \u001b[0mrv\u001b[0m\u001b[0;34m,\u001b[0m \u001b[0mebv\u001b[0m\u001b[0;34m,\u001b[0m \u001b[0mcolor_law\u001b[0m\u001b[0;34m=\u001b[0m\u001b[0;34m'CCM'\u001b[0m\u001b[0;34m)\u001b[0m\u001b[0;34m:\u001b[0m\u001b[0;34m\u001b[0m\u001b[0;34m\u001b[0m\u001b[0m\n",
      "\u001b[0;32m~/supernova/snfactory/idrtools/idrtools/spectrum.py\u001b[0m in \u001b[0;36mapply_binning\u001b[0;34m(self, modification, method, weighting, integrate, interpolate, **binning_data)\u001b[0m\n\u001b[1;32m    546\u001b[0m             \u001b[0;32mraise\u001b[0m \u001b[0mIdrToolsException\u001b[0m\u001b[0;34m(\u001b[0m\u001b[0;34m'Unsupported binning method %s'\u001b[0m \u001b[0;34m%\u001b[0m \u001b[0mmethod\u001b[0m\u001b[0;34m)\u001b[0m\u001b[0;34m\u001b[0m\u001b[0;34m\u001b[0m\u001b[0m\n\u001b[1;32m    547\u001b[0m \u001b[0;34m\u001b[0m\u001b[0m\n\u001b[0;32m--> 548\u001b[0;31m         \u001b[0mold_bin_starts\u001b[0m \u001b[0;34m=\u001b[0m \u001b[0mself\u001b[0m\u001b[0;34m.\u001b[0m\u001b[0mbin_starts\u001b[0m\u001b[0;34m\u001b[0m\u001b[0;34m\u001b[0m\u001b[0m\n\u001b[0m\u001b[1;32m    549\u001b[0m         \u001b[0mold_bin_ends\u001b[0m \u001b[0;34m=\u001b[0m \u001b[0mself\u001b[0m\u001b[0;34m.\u001b[0m\u001b[0mbin_ends\u001b[0m\u001b[0;34m\u001b[0m\u001b[0;34m\u001b[0m\u001b[0m\n\u001b[1;32m    550\u001b[0m         \u001b[0mold_flux\u001b[0m \u001b[0;34m=\u001b[0m \u001b[0mself\u001b[0m\u001b[0;34m.\u001b[0m\u001b[0mflux\u001b[0m\u001b[0;34m\u001b[0m\u001b[0;34m\u001b[0m\u001b[0m\n",
      "\u001b[0;32m~/supernova/snfactory/idrtools/idrtools/spectrum.py\u001b[0m in \u001b[0;36mbin_starts\u001b[0;34m(self)\u001b[0m\n\u001b[1;32m   1092\u001b[0m     \u001b[0;34m@\u001b[0m\u001b[0mproperty\u001b[0m\u001b[0;34m\u001b[0m\u001b[0;34m\u001b[0m\u001b[0m\n\u001b[1;32m   1093\u001b[0m     \u001b[0;32mdef\u001b[0m \u001b[0mbin_starts\u001b[0m\u001b[0;34m(\u001b[0m\u001b[0mself\u001b[0m\u001b[0;34m)\u001b[0m\u001b[0;34m:\u001b[0m\u001b[0;34m\u001b[0m\u001b[0;34m\u001b[0m\u001b[0m\n\u001b[0;32m-> 1094\u001b[0;31m         \u001b[0mself\u001b[0m\u001b[0;34m.\u001b[0m\u001b[0mdo_lazyload\u001b[0m\u001b[0;34m(\u001b[0m\u001b[0;34m)\u001b[0m\u001b[0;34m\u001b[0m\u001b[0;34m\u001b[0m\u001b[0m\n\u001b[0m\u001b[1;32m   1095\u001b[0m         \u001b[0;32mreturn\u001b[0m \u001b[0msuper\u001b[0m\u001b[0;34m(\u001b[0m\u001b[0mIdrSpectrum\u001b[0m\u001b[0;34m,\u001b[0m \u001b[0mself\u001b[0m\u001b[0;34m)\u001b[0m\u001b[0;34m.\u001b[0m\u001b[0mbin_starts\u001b[0m\u001b[0;34m\u001b[0m\u001b[0;34m\u001b[0m\u001b[0m\n\u001b[1;32m   1096\u001b[0m \u001b[0;34m\u001b[0m\u001b[0m\n",
      "\u001b[0;32m~/supernova/snfactory/idrtools/idrtools/spectrum.py\u001b[0m in \u001b[0;36mdo_lazyload\u001b[0;34m(self)\u001b[0m\n\u001b[1;32m   1058\u001b[0m             \u001b[0mself\u001b[0m\u001b[0;34m.\u001b[0m\u001b[0m_fluxvar\u001b[0m \u001b[0;34m=\u001b[0m \u001b[0mnp\u001b[0m\u001b[0;34m.\u001b[0m\u001b[0mcopy\u001b[0m\u001b[0;34m(\u001b[0m\u001b[0mfits_file\u001b[0m\u001b[0;34m[\u001b[0m\u001b[0;36m1\u001b[0m\u001b[0;34m]\u001b[0m\u001b[0;34m.\u001b[0m\u001b[0mdata\u001b[0m\u001b[0;34m)\u001b[0m\u001b[0;34m\u001b[0m\u001b[0;34m\u001b[0m\u001b[0m\n\u001b[1;32m   1059\u001b[0m \u001b[0;34m\u001b[0m\u001b[0m\n\u001b[0;32m-> 1060\u001b[0;31m             \u001b[0mself\u001b[0m\u001b[0;34m.\u001b[0m\u001b[0m_load_header\u001b[0m\u001b[0;34m(\u001b[0m\u001b[0mheader\u001b[0m\u001b[0;34m)\u001b[0m\u001b[0;34m\u001b[0m\u001b[0;34m\u001b[0m\u001b[0m\n\u001b[0m\u001b[1;32m   1061\u001b[0m \u001b[0;34m\u001b[0m\u001b[0m\n\u001b[1;32m   1062\u001b[0m             \u001b[0;32mif\u001b[0m \u001b[0mself\u001b[0m\u001b[0;34m.\u001b[0m\u001b[0mload_both_headers\u001b[0m\u001b[0;34m:\u001b[0m\u001b[0;34m\u001b[0m\u001b[0;34m\u001b[0m\u001b[0m\n",
      "\u001b[0;32m~/supernova/snfactory/idrtools/idrtools/spectrum.py\u001b[0m in \u001b[0;36m_load_header\u001b[0;34m(self, header, file_prefix)\u001b[0m\n\u001b[1;32m   1035\u001b[0m                 \u001b[0msuffix\u001b[0m \u001b[0;34m=\u001b[0m \u001b[0mkeyword\u001b[0m\u001b[0;34m\u001b[0m\u001b[0;34m\u001b[0m\u001b[0m\n\u001b[1;32m   1036\u001b[0m \u001b[0;34m\u001b[0m\u001b[0m\n\u001b[0;32m-> 1037\u001b[0;31m             \u001b[0mprefix\u001b[0m \u001b[0;34m=\u001b[0m \u001b[0mprefix\u001b[0m\u001b[0;34m.\u001b[0m\u001b[0mlower\u001b[0m\u001b[0;34m(\u001b[0m\u001b[0;34m)\u001b[0m\u001b[0;34m\u001b[0m\u001b[0;34m\u001b[0m\u001b[0m\n\u001b[0m\u001b[1;32m   1038\u001b[0m             \u001b[0msuffix\u001b[0m \u001b[0;34m=\u001b[0m \u001b[0msuffix\u001b[0m\u001b[0;34m.\u001b[0m\u001b[0mlower\u001b[0m\u001b[0;34m(\u001b[0m\u001b[0;34m)\u001b[0m\u001b[0;34m\u001b[0m\u001b[0;34m\u001b[0m\u001b[0m\n\u001b[1;32m   1039\u001b[0m \u001b[0;34m\u001b[0m\u001b[0m\n",
      "\u001b[0;31mKeyboardInterrupt\u001b[0m: "
     ]
    }
   ],
   "source": [
    "all_phases = []\n",
    "all_embedding = []\n",
    "all_fluxes = []\n",
    "all_spectra = []\n",
    "\n",
    "for idx in tqdm.tqdm(range(len(a.targets))):\n",
    "    if not a.interp_mask[idx]:\n",
    "        continue\n",
    "\n",
    "    target = a.targets[idx]\n",
    "    # scale = a.applied_scale[idx]\n",
    "    # scale = a.scale_flux[idx] / a.interpolation_result['target_flux'][idx]\n",
    "    scale = 1 / a.model_scales[idx]\n",
    "    embedding = a.embedding[idx]\n",
    "\n",
    "    for raw_spectrum in target.spectra:\n",
    "        spectrum = raw_spectrum.bin_by_velocity(1000).apply_scale(scale)\n",
    "        \n",
    "        all_phases.append(spectrum.phase)\n",
    "        all_fluxes.append(spectrum.flux)\n",
    "        all_embedding.append(embedding)\n",
    "        all_spectra.append(spectrum)\n",
    "        \n",
    "all_phases = np.array(all_phases)\n",
    "all_fluxes = np.array(all_fluxes)\n",
    "all_embedding = np.array(all_embedding)\n",
    "all_spectra = np.array(all_spectra)"
   ]
  },
  {
   "cell_type": "code",
   "execution_count": null,
   "metadata": {},
   "outputs": [],
   "source": [
    "plt.figure()\n",
    "plt.scatter(all_phases, all_fluxes[:, 20], c=all_embedding[:, 0])"
   ]
  },
  {
   "cell_type": "code",
   "execution_count": null,
   "metadata": {},
   "outputs": [],
   "source": [
    "wave_idx = 50\n",
    "\n",
    "a.scatter(a.scale_flux[:, wave_idx], label='Flux')\n",
    "plt.title('%d $\\AA$' % a.wave[wave_idx])"
   ]
  },
  {
   "cell_type": "code",
   "execution_count": null,
   "metadata": {},
   "outputs": [],
   "source": [
    "interp_x = np.hstack([all_phases[:, None], all_embedding])"
   ]
  },
  {
   "cell_type": "code",
   "execution_count": null,
   "metadata": {},
   "outputs": [],
   "source": [
    "# Take ratios to the median spectrum and see how components affect things.\n",
    "def do_plot(embedding_idx, wave_idx):\n",
    "    order = np.argsort(all_phases)\n",
    "    x = all_embedding[order, embedding_idx]\n",
    "    y = all_fluxes[order, wave_idx]\n",
    "\n",
    "    mean_func = math.windowed_median(y)\n",
    "    scale_y = y / mean_func\n",
    "\n",
    "    plt.figure()\n",
    "    plt.scatter(x, scale_y, s=10, alpha=0.2)\n",
    "    math.plot_binned_median(x, scale_y)\n",
    "    plt.ylim(0, 2)\n",
    "    # plt.ylim(-1, 2)\n",
    "    # plt.xlim(-30, 50)\n",
    "    \n",
    "from ipywidgets import interact\n",
    "interact(do_plot, embedding_idx=(0, all_embedding.shape[1]-1), wave_idx=(0, all_fluxes.shape[1]-1))"
   ]
  },
  {
   "cell_type": "markdown",
   "metadata": {},
   "source": [
    "## Spline model"
   ]
  },
  {
   "cell_type": "code",
   "execution_count": null,
   "metadata": {},
   "outputs": [],
   "source": [
    "from scipy.interpolate import BSpline\n",
    "\n",
    "min_phase = -15\n",
    "max_phase = 60\n",
    "\n",
    "t = np.arange(min_phase, max_phase, 5)\n",
    "t = np.hstack([t[0], t[0], t, t[-1], t[-1]])\n",
    "k = 3\n",
    "len_c = len(t) - k - 1\n",
    "\n",
    "def super_spline(all_c, phases, embedding):\n",
    "    use_c = all_c\n",
    "\n",
    "    center_spl = BSpline(t, use_c[0], k)\n",
    "    x0_spl = BSpline(t, use_c[1], k)\n",
    "    x1_spl = BSpline(t, use_c[2], k)\n",
    "    x2_spl = BSpline(t, use_c[3], k)\n",
    "    x00_spl = BSpline(t, use_c[4], k)\n",
    "    x01_spl = BSpline(t, use_c[5], k)\n",
    "    x02_spl = BSpline(t, use_c[6], k)\n",
    "    x11_spl = BSpline(t, use_c[7], k)\n",
    "    x12_spl = BSpline(t, use_c[8], k)\n",
    "    x22_spl = BSpline(t, use_c[9], k)\n",
    "    \n",
    "    c0 = embedding[:, 0] / 10.\n",
    "    c1 = embedding[:, 1] / 10.\n",
    "    c2 = embedding[:, 2] / 10.\n",
    "    \n",
    "    model = (\n",
    "        center_spl(phases) +\n",
    "        c0 * x0_spl(phases) +\n",
    "        c1 * x1_spl(phases) +\n",
    "        c2 * x2_spl(phases) +\n",
    "        c0 * c0 * x00_spl(phases) +\n",
    "        c0 * c1 * x01_spl(phases) +\n",
    "        c0 * c2 * x02_spl(phases) +\n",
    "        c1 * c1 * x11_spl(phases) +\n",
    "        c1 * c2 * x12_spl(phases) +\n",
    "        c2 * c2 * x22_spl(phases)\n",
    "    )\n",
    "    \n",
    "    # print(np.max(mag_model), np.min(mag_model))\n",
    "    # model = 10**(-0.4*mag_model)\n",
    "    \n",
    "    return model"
   ]
  },
  {
   "cell_type": "code",
   "execution_count": 83,
   "metadata": {},
   "outputs": [],
   "source": [
    "def build_spline_basis(phases, embedding):\n",
    "    basis = []\n",
    "    \n",
    "    for i in range(10):\n",
    "        for j in range(len_c):\n",
    "            impulse_coeffs = np.zeros((10, len_c))\n",
    "            impulse_coeffs[i, j] = 1.\n",
    "            spl = super_spline(impulse_coeffs, use_phases, use_embedding)\n",
    "            basis.append(spl)\n",
    "            \n",
    "    basis = np.array(basis)\n",
    "    \n",
    "    return basis"
   ]
  },
  {
   "cell_type": "code",
   "execution_count": 84,
   "metadata": {},
   "outputs": [
    {
     "name": "stdout",
     "output_type": "stream",
     "text": [
      "6.334920840029164 -8.832638529547035\n"
     ]
    }
   ],
   "source": [
    "cut = (all_phases > min_phase) & (all_phases < max_phase)\n",
    "use_phases = all_phases[cut]\n",
    "use_embedding = all_embedding[cut]\n",
    "basis = build_spline_basis(use_phases, use_embedding)\n",
    "print(np.max(basis), np.min(basis))"
   ]
  },
  {
   "cell_type": "code",
   "execution_count": 86,
   "metadata": {},
   "outputs": [],
   "source": [
    "all_spl_c = []\n",
    "for wave_idx in range(len(a.wave)):\n",
    "    use_flux = all_fluxes[cut, wave_idx]\n",
    "    coef, residuals, rank, s = np.linalg.lstsq(basis.T, use_flux, rcond=None)\n",
    "    spl_c = coef.reshape((10, len_c))\n",
    "    all_spl_c.append(spl_c)\n",
    "all_spl_c = np.array(all_spl_c)"
   ]
  },
  {
   "cell_type": "code",
   "execution_count": 87,
   "metadata": {},
   "outputs": [
    {
     "name": "stderr",
     "output_type": "stream",
     "text": [
      "/home/kboone/packages/conda/lib/python3.7/site-packages/matplotlib/pyplot.py:514: RuntimeWarning: More than 20 figures have been opened. Figures created through the pyplot interface (`matplotlib.pyplot.figure`) are retained until explicitly closed and may consume too much memory. (To control this warning, see the rcParam `figure.max_open_warning`).\n",
      "  max_open_warning, RuntimeWarning)\n"
     ]
    },
    {
     "data": {
      "application/vnd.jupyter.widget-view+json": {
       "model_id": "c053584d66ac48c5b42f3eb7a5f33a50",
       "version_major": 2,
       "version_minor": 0
      },
      "text/plain": [
       "FigureCanvasNbAgg()"
      ]
     },
     "metadata": {},
     "output_type": "display_data"
    },
    {
     "data": {
      "text/plain": [
       "(-20, 40)"
      ]
     },
     "execution_count": 87,
     "metadata": {},
     "output_type": "execute_result"
    }
   ],
   "source": [
    "vary_idx = 1\n",
    "center_loc = [0, 0, 0.]\n",
    "\n",
    "center_loc = np.array(center_loc, dtype=float)\n",
    "deltas = all_embedding - center_loc\n",
    "diff = np.delete(deltas, vary_idx, axis=1)\n",
    "dist = np.sqrt(np.sum(diff**2, axis=1))\n",
    "close_cut = dist < 1.\n",
    "\n",
    "close_embedding = all_embedding[close_cut, vary_idx]\n",
    "\n",
    "min_vary = np.min(close_embedding)\n",
    "max_vary = np.max(close_embedding)\n",
    "diff = max_vary - min_vary\n",
    "min_vary -= 0.1*diff\n",
    "max_vary += 0.1*diff\n",
    "\n",
    "\n",
    "plt.figure()\n",
    "for plot_loc in np.linspace(min_vary, max_vary, 10):\n",
    "    plot_t = np.linspace(-15, 60, 1000)\n",
    "    loc = center_loc.copy()\n",
    "    loc[vary_idx] = plot_loc\n",
    "    pred_embedding = np.array([loc] * len(plot_t))\n",
    "    \n",
    "    model = super_spline(spl_c, plot_t, pred_embedding)\n",
    "    \n",
    "    plt.plot(\n",
    "        plot_t, model,\n",
    "        c=plt.cm.coolwarm((plot_loc - min_vary) / (max_vary - min_vary)),\n",
    "    )\n",
    "\n",
    "plt.scatter(all_phases[close_cut], all_fluxes[close_cut, wave_idx], c=all_embedding[close_cut, vary_idx],\n",
    "            vmin=min_vary, vmax=max_vary, cmap=plt.cm.coolwarm)\n",
    "plt.xlim(-20, 40)\n",
    "# plt.ylim(-5, 25)"
   ]
  },
  {
   "cell_type": "code",
   "execution_count": 88,
   "metadata": {},
   "outputs": [
    {
     "name": "stderr",
     "output_type": "stream",
     "text": [
      "/home/kboone/packages/conda/lib/python3.7/site-packages/matplotlib/pyplot.py:514: RuntimeWarning: More than 20 figures have been opened. Figures created through the pyplot interface (`matplotlib.pyplot.figure`) are retained until explicitly closed and may consume too much memory. (To control this warning, see the rcParam `figure.max_open_warning`).\n",
      "  max_open_warning, RuntimeWarning)\n"
     ]
    },
    {
     "data": {
      "application/vnd.jupyter.widget-view+json": {
       "model_id": "57dd98194ed140898458da50b6442645",
       "version_major": 2,
       "version_minor": 0
      },
      "text/plain": [
       "FigureCanvasNbAgg()"
      ]
     },
     "metadata": {},
     "output_type": "display_data"
    },
    {
     "name": "stderr",
     "output_type": "stream",
     "text": [
      "/home/kboone/packages/conda/lib/python3.7/site-packages/matplotlib/pyplot.py:514: RuntimeWarning: More than 20 figures have been opened. Figures created through the pyplot interface (`matplotlib.pyplot.figure`) are retained until explicitly closed and may consume too much memory. (To control this warning, see the rcParam `figure.max_open_warning`).\n",
      "  max_open_warning, RuntimeWarning)\n"
     ]
    },
    {
     "data": {
      "application/vnd.jupyter.widget-view+json": {
       "model_id": "714a6910a01f4a71a39e76100185db70",
       "version_major": 2,
       "version_minor": 0
      },
      "text/plain": [
       "FigureCanvasNbAgg()"
      ]
     },
     "metadata": {},
     "output_type": "display_data"
    },
    {
     "name": "stderr",
     "output_type": "stream",
     "text": [
      "/home/kboone/packages/conda/lib/python3.7/site-packages/matplotlib/pyplot.py:514: RuntimeWarning: More than 20 figures have been opened. Figures created through the pyplot interface (`matplotlib.pyplot.figure`) are retained until explicitly closed and may consume too much memory. (To control this warning, see the rcParam `figure.max_open_warning`).\n",
      "  max_open_warning, RuntimeWarning)\n"
     ]
    },
    {
     "data": {
      "application/vnd.jupyter.widget-view+json": {
       "model_id": "cf6903355f91495aaca7012322a97542",
       "version_major": 2,
       "version_minor": 0
      },
      "text/plain": [
       "FigureCanvasNbAgg()"
      ]
     },
     "metadata": {},
     "output_type": "display_data"
    },
    {
     "data": {
      "text/plain": [
       "<matplotlib.collections.PathCollection at 0x7ff6d7098978>"
      ]
     },
     "execution_count": 88,
     "metadata": {},
     "output_type": "execute_result"
    }
   ],
   "source": [
    "# Residuals\n",
    "# phases = np.array([i.phase for i in a.spectra])\n",
    "phases = np.zeros(len(a.targets))\n",
    "a.scatter(a.scale_flux[:, wave_idx], cmap=plt.cm.coolwarm)\n",
    "residuals = a.scale_flux[:, wave_idx] - super_spline(spl_c, phases, a.embedding)\n",
    "scale = np.max(np.abs(residuals))\n",
    "a.scatter(residuals, cmap=plt.cm.coolwarm, vmin=-scale, vmax=scale)\n",
    "\n",
    "plt.figure()\n",
    "plt.scatter(a.embedding[:, 2], residuals)"
   ]
  },
  {
   "cell_type": "code",
   "execution_count": 89,
   "metadata": {},
   "outputs": [
    {
     "name": "stderr",
     "output_type": "stream",
     "text": [
      "/home/kboone/packages/conda/lib/python3.7/site-packages/matplotlib/pyplot.py:514: RuntimeWarning: More than 20 figures have been opened. Figures created through the pyplot interface (`matplotlib.pyplot.figure`) are retained until explicitly closed and may consume too much memory. (To control this warning, see the rcParam `figure.max_open_warning`).\n",
      "  max_open_warning, RuntimeWarning)\n"
     ]
    },
    {
     "data": {
      "application/vnd.jupyter.widget-view+json": {
       "model_id": "abefb70b118d4503924f23a720852df9",
       "version_major": 2,
       "version_minor": 0
      },
      "text/plain": [
       "FigureCanvasNbAgg()"
      ]
     },
     "metadata": {},
     "output_type": "display_data"
    },
    {
     "data": {
      "text/plain": [
       "<matplotlib.collections.PathCollection at 0x7ff6d7048fd0>"
      ]
     },
     "execution_count": 89,
     "metadata": {},
     "output_type": "execute_result"
    }
   ],
   "source": [
    "plt.figure()\n",
    "plt.scatter(residuals[a.good_mag_mask], a.corr_mags[a.good_mag_mask])"
   ]
  },
  {
   "cell_type": "code",
   "execution_count": 90,
   "metadata": {},
   "outputs": [
    {
     "name": "stderr",
     "output_type": "stream",
     "text": [
      "/home/kboone/packages/conda/lib/python3.7/site-packages/matplotlib/pyplot.py:514: RuntimeWarning: More than 20 figures have been opened. Figures created through the pyplot interface (`matplotlib.pyplot.figure`) are retained until explicitly closed and may consume too much memory. (To control this warning, see the rcParam `figure.max_open_warning`).\n",
      "  max_open_warning, RuntimeWarning)\n"
     ]
    },
    {
     "data": {
      "application/vnd.jupyter.widget-view+json": {
       "model_id": "83426f0996e04514ab2a9fd0e852a7c6",
       "version_major": 2,
       "version_minor": 0
      },
      "text/plain": [
       "FigureCanvasNbAgg()"
      ]
     },
     "metadata": {},
     "output_type": "display_data"
    },
    {
     "data": {
      "text/plain": [
       "<matplotlib.collections.PathCollection at 0x7ff6d707ddd8>"
      ]
     },
     "execution_count": 90,
     "metadata": {},
     "output_type": "execute_result"
    }
   ],
   "source": [
    "plt.figure()\n",
    "plt.scatter(all_embedding[:, 1], all_embedding[:, 2])"
   ]
  },
  {
   "cell_type": "code",
   "execution_count": 91,
   "metadata": {},
   "outputs": [
    {
     "name": "stdout",
     "output_type": "stream",
     "text": [
      "-4.888281541471558 1.8264760522886039\n"
     ]
    },
    {
     "name": "stderr",
     "output_type": "stream",
     "text": [
      "/home/kboone/packages/conda/lib/python3.7/site-packages/matplotlib/pyplot.py:514: RuntimeWarning: More than 20 figures have been opened. Figures created through the pyplot interface (`matplotlib.pyplot.figure`) are retained until explicitly closed and may consume too much memory. (To control this warning, see the rcParam `figure.max_open_warning`).\n",
      "  max_open_warning, RuntimeWarning)\n"
     ]
    },
    {
     "data": {
      "application/vnd.jupyter.widget-view+json": {
       "model_id": "c456d60d43e94773a2edd4f4a6ff857e",
       "version_major": 2,
       "version_minor": 0
      },
      "text/plain": [
       "FigureCanvasNbAgg()"
      ]
     },
     "metadata": {},
     "output_type": "display_data"
    },
    {
     "name": "stdout",
     "output_type": "stream",
     "text": [
      "-2.8086984674355437 1.8764957935109705\n"
     ]
    },
    {
     "name": "stderr",
     "output_type": "stream",
     "text": [
      "/home/kboone/packages/conda/lib/python3.7/site-packages/matplotlib/pyplot.py:514: RuntimeWarning: More than 20 figures have been opened. Figures created through the pyplot interface (`matplotlib.pyplot.figure`) are retained until explicitly closed and may consume too much memory. (To control this warning, see the rcParam `figure.max_open_warning`).\n",
      "  max_open_warning, RuntimeWarning)\n"
     ]
    },
    {
     "data": {
      "application/vnd.jupyter.widget-view+json": {
       "model_id": "c1ad67a818ed47e5b16fa34682136c8a",
       "version_major": 2,
       "version_minor": 0
      },
      "text/plain": [
       "FigureCanvasNbAgg()"
      ]
     },
     "metadata": {},
     "output_type": "display_data"
    },
    {
     "name": "stdout",
     "output_type": "stream",
     "text": [
      "-1.6667422865011405 1.5600095830213057\n"
     ]
    },
    {
     "name": "stderr",
     "output_type": "stream",
     "text": [
      "/home/kboone/packages/conda/lib/python3.7/site-packages/matplotlib/pyplot.py:514: RuntimeWarning: More than 20 figures have been opened. Figures created through the pyplot interface (`matplotlib.pyplot.figure`) are retained until explicitly closed and may consume too much memory. (To control this warning, see the rcParam `figure.max_open_warning`).\n",
      "  max_open_warning, RuntimeWarning)\n"
     ]
    },
    {
     "data": {
      "application/vnd.jupyter.widget-view+json": {
       "model_id": "7ccc15b1152c47958a0b70cc7ec93dd8",
       "version_major": 2,
       "version_minor": 0
      },
      "text/plain": [
       "FigureCanvasNbAgg()"
      ]
     },
     "metadata": {},
     "output_type": "display_data"
    }
   ],
   "source": [
    "# Reproduced spectra\n",
    "for vary_idx in range(3):\n",
    "    # center_loc = [-1.4, -0.7, 0.]\n",
    "    # center_loc = [-0.5, 0.5, 0]\n",
    "    center_loc = [0, 0.5, 0]\n",
    "    phase = 0\n",
    "\n",
    "    center_loc = np.array(center_loc, dtype=float)\n",
    "    deltas = all_embedding - center_loc\n",
    "    diff = np.delete(deltas, vary_idx, axis=1)\n",
    "    dist = np.sqrt(np.sum(diff**2, axis=1))\n",
    "    close_cut = dist < 1.\n",
    "\n",
    "    close_embedding = all_embedding[close_cut, vary_idx]\n",
    "\n",
    "    # min_vary = np.clip(np.min(close_embedding), -5, -2)\n",
    "    # max_vary = np.clip(np.max(close_embedding), 2, 5)\n",
    "    min_vary = np.min(close_embedding)\n",
    "    max_vary = np.max(close_embedding)\n",
    "    diff = max_vary - min_vary\n",
    "    min_vary += 0.1*diff\n",
    "    max_vary -= 0.1*diff\n",
    "    vary_loc = np.linspace(min_vary, max_vary, 10)\n",
    "\n",
    "    print(min_vary, max_vary)\n",
    "\n",
    "    plt.figure(figsize=(8, 6))\n",
    "    models = []\n",
    "    for wave_idx in range(len(a.wave)):\n",
    "        plot_t = np.ones(len(vary_loc)) * phase\n",
    "        plot_loc = np.tile(center_loc, (10, 1))\n",
    "        plot_loc[:, vary_idx] = vary_loc\n",
    "\n",
    "        model = super_spline(all_spl_c[wave_idx], plot_t, plot_loc)\n",
    "\n",
    "        models.append(model)\n",
    "\n",
    "    models = np.array(models)\n",
    "    for model, model_loc in zip(models.T, vary_loc):\n",
    "        plt.plot(a.wave, model, c=plt.cm.coolwarm((model_loc - min_vary) / (max_vary - min_vary)))\n",
    "\n",
    "    plt.xlabel('Wavelength ($\\AA$)')\n",
    "    plt.ylabel('Flux')\n",
    "    plt.title('Component %d' % vary_idx)\n",
    "\n",
    "\n",
    "        # plt.plot(\n",
    "            # plot_t, model,\n",
    "            # c=plt.cm.coolwarm((plot_loc - min_vary) / (max_vary - min_vary)),\n",
    "        # )\n",
    "\n",
    "    # plt.scatter(all_phases[close_cut], all_fluxes[close_cut, wave_idx], c=all_embedding[close_cut, vary_idx],\n",
    "                # vmin=min_vary, vmax=max_vary, cmap=plt.cm.coolwarm)\n",
    "    # plt.xlim(-20, 40)\n",
    "    # plt.ylim(-5, 25)"
   ]
  },
  {
   "cell_type": "code",
   "execution_count": 92,
   "metadata": {},
   "outputs": [],
   "source": [
    "from idrtools.tools import snf_filters\n",
    "from idrtools.spectrum import _get_snf_magnitude\n",
    "\n",
    "lc_phases = np.linspace(min_phase, max_phase, 100)\n",
    "\n",
    "def calc_lc(band, loc):\n",
    "    models = []\n",
    "    min_wave, max_wave = snf_filters[band]\n",
    "\n",
    "    min_wave_idx = np.min(np.where(a.wave > min_wave))\n",
    "    max_wave_idx = np.max(np.where(a.wave < max_wave))\n",
    "    for wave_idx in range(min_wave_idx, max_wave_idx+1):\n",
    "        plot_loc = np.tile(loc, (len(lc_phases), 1))\n",
    "        model = super_spline(all_spl_c[wave_idx], lc_phases, plot_loc)\n",
    "        models.append(model)\n",
    "\n",
    "    models = np.array(models)\n",
    "    bandmag = []\n",
    "    for model in models.T:\n",
    "        bandmag.append(_get_snf_magnitude(a.wave[min_wave_idx:max_wave_idx+1], model, band))\n",
    "    bandmag = np.array(bandmag)\n",
    "    # bandflux = np.sum(models, axis=0) / (max_wave - min_wave)\n",
    "    # bandmag = 2.5*np.log10(bandflux)\n",
    "    \n",
    "    return bandmag"
   ]
  },
  {
   "cell_type": "code",
   "execution_count": 93,
   "metadata": {},
   "outputs": [
    {
     "data": {
      "application/vnd.jupyter.widget-view+json": {
       "model_id": "c0a8b11988ee4cb18f2cd7e23ab088be",
       "version_major": 2,
       "version_minor": 0
      },
      "text/plain": [
       "interactive(children=(IntSlider(value=103, description='idx', max=206), Output()), _dom_classes=('widget-inter…"
      ]
     },
     "metadata": {},
     "output_type": "display_data"
    },
    {
     "data": {
      "text/plain": [
       "<function __main__.plot_lc(idx)>"
      ]
     },
     "execution_count": 93,
     "metadata": {},
     "output_type": "execute_result"
    }
   ],
   "source": [
    "colors = {'u': 'C4', 'b': 'C0', 'v': 'C2', 'r': 'C3'}\n",
    "\n",
    "def plot_lc(idx):\n",
    "    loc = a.embedding[idx]\n",
    "\n",
    "    target = a.targets[idx]\n",
    "    scale = 1 / a.model_scales[idx]\n",
    "    \n",
    "    p = []\n",
    "    m = []\n",
    "    e = []\n",
    "    c = []\n",
    "    for raw_spectrum in target.spectra:\n",
    "        spectrum = raw_spectrum.bin_by_velocity(1000).apply_scale(scale)\n",
    "        for band in ['u', 'b', 'v', 'r']:\n",
    "            p.append(spectrum.phase)\n",
    "            mag, err = spectrum.get_snf_magnitude(band, calculate_error=True)\n",
    "            m.append(mag)\n",
    "            e.append(err)\n",
    "            c.append(colors[band])\n",
    "            \n",
    "    print(target)\n",
    "    print(target.subset)\n",
    "    print(a.embedding[idx])\n",
    "            \n",
    "    plt.figure()\n",
    "    plt.scatter(p, m, c=c)\n",
    "    plt.errorbar(p, m, e, c=c)\n",
    "        \n",
    "    for band in ['u', 'b', 'v', 'r']:\n",
    "        plt.plot(lc_phases, calc_lc(band, loc), c=colors[band])\n",
    "\n",
    "    plt.xlim(min_phase, max_phase)\n",
    "    plt.ylim(-15, -20)\n",
    "    plt.xlabel('Phase')\n",
    "    plt.ylabel('Mag')\n",
    "        \n",
    "interact(plot_lc, idx=(0, len(a.targets)-1))\n",
    "    \n",
    "    \n",
    "# loc = [0, 0, 0]\n",
    "\n",
    "# u = calc_lc('u', loc)\n",
    "# b = calc_lc('b', loc)\n",
    "# v = calc_lc('v', loc)\n",
    "# r = calc_lc('r', loc)\n",
    "\n",
    "# plt.figure()\n",
    "# plt.plot(lc_phases, u, c='C4', label='u')\n",
    "# plt.plot(lc_phases, b, c='C0', label='b')\n",
    "# plt.plot(lc_phases, v, c='C2', label='v')\n",
    "# plt.plot(lc_phases, r, c='C3', label='r')\n",
    "\n",
    "# plt.legend()\n"
   ]
  },
  {
   "cell_type": "code",
   "execution_count": 94,
   "metadata": {},
   "outputs": [
    {
     "name": "stdout",
     "output_type": "stream",
     "text": [
      "-4.070665055156181 2.5518786413778347\n"
     ]
    },
    {
     "name": "stderr",
     "output_type": "stream",
     "text": [
      "/home/kboone/packages/conda/lib/python3.7/site-packages/matplotlib/pyplot.py:514: RuntimeWarning: More than 20 figures have been opened. Figures created through the pyplot interface (`matplotlib.pyplot.figure`) are retained until explicitly closed and may consume too much memory. (To control this warning, see the rcParam `figure.max_open_warning`).\n",
      "  max_open_warning, RuntimeWarning)\n"
     ]
    },
    {
     "data": {
      "application/vnd.jupyter.widget-view+json": {
       "model_id": "e27eacc61c3e4c1ebe6f6aa020946a9d",
       "version_major": 2,
       "version_minor": 0
      },
      "text/plain": [
       "FigureCanvasNbAgg()"
      ]
     },
     "metadata": {},
     "output_type": "display_data"
    },
    {
     "name": "stderr",
     "output_type": "stream",
     "text": [
      "/home/scpdata06/kboone/snfactory/idrtools/idrtools/spectrum.py:86: RuntimeWarning: invalid value encountered in log10\n",
      "  mag = -2.5*np.log10(band_flux)\n"
     ]
    },
    {
     "data": {
      "text/plain": [
       "(-15, 60)"
      ]
     },
     "execution_count": 94,
     "metadata": {},
     "output_type": "execute_result"
    }
   ],
   "source": [
    "vary_idx = 0\n",
    "band = 'v'\n",
    "\n",
    "# center_loc = [-1.5, -2.1, 0.]\n",
    "center_loc = [0, 0, 0.]\n",
    "\n",
    "center_loc = np.array(center_loc, dtype=float)\n",
    "deltas = all_embedding - center_loc\n",
    "diff = np.delete(deltas, vary_idx, axis=1)\n",
    "dist = np.sqrt(np.sum(diff**2, axis=1))\n",
    "close_cut = dist < 0.5\n",
    "\n",
    "close_embedding = all_embedding[close_cut, vary_idx]\n",
    "\n",
    "if len(close_embedding) > 0:\n",
    "    min_vary = np.clip(np.min(close_embedding), -5, -2)\n",
    "    max_vary = np.clip(np.max(close_embedding), 2, 5)\n",
    "else:\n",
    "    print(\"WARNING: NO DATA IN RANGE\")\n",
    "    min_vary = -2\n",
    "    max_vary = 2\n",
    "    \n",
    "diff = max_vary - min_vary\n",
    "min_vary -= 0.1*diff\n",
    "max_vary += 0.1*diff\n",
    "vary_loc = np.linspace(min_vary, max_vary, 10)\n",
    "\n",
    "print(min_vary, max_vary)\n",
    "\n",
    "plt.figure()\n",
    "\n",
    "for plot_loc in vary_loc:\n",
    "    use_loc = center_loc.copy()\n",
    "    use_loc[vary_idx] = plot_loc\n",
    "    mag = calc_lc(band, use_loc)\n",
    "    \n",
    "    plt.plot(\n",
    "        lc_phases, mag,\n",
    "        c=plt.cm.coolwarm((plot_loc - min_vary) / (max_vary - min_vary)),\n",
    "        zorder=-1,\n",
    "    )\n",
    "    \n",
    "# Overplot real data\n",
    "plot_phases = []\n",
    "plot_mags = []\n",
    "plot_colors = []\n",
    "for idx in np.where(close_cut)[0]:\n",
    "    phase = all_phases[idx]\n",
    "    spectrum = all_spectra[idx]\n",
    "    val = all_embedding[idx, vary_idx]\n",
    "    \n",
    "    mag = spectrum.get_snf_magnitude(band)\n",
    "    \n",
    "    color = plt.cm.coolwarm((val - min_vary) / (max_vary - min_vary))\n",
    "    \n",
    "    plot_phases.append(phase)\n",
    "    plot_mags.append(mag)\n",
    "    plot_colors.append(color)\n",
    "    \n",
    "plt.scatter(plot_phases, plot_mags, c=plot_colors, s=30, edgecolors='k')\n",
    "\n",
    "plt.ylim(np.nanpercentile(plot_mags, 90) + 0.5, np.nanpercentile(plot_mags, 10) - 0.5)\n",
    "plt.xlim(min_phase, max_phase)\n",
    "# plt.ylim(-4, 0)\n",
    "\n",
    "# plt.legend()"
   ]
  },
  {
   "cell_type": "code",
   "execution_count": 96,
   "metadata": {},
   "outputs": [
    {
     "name": "stderr",
     "output_type": "stream",
     "text": [
      "/home/kboone/packages/conda/lib/python3.7/site-packages/matplotlib/pyplot.py:514: RuntimeWarning: More than 20 figures have been opened. Figures created through the pyplot interface (`matplotlib.pyplot.figure`) are retained until explicitly closed and may consume too much memory. (To control this warning, see the rcParam `figure.max_open_warning`).\n",
      "  max_open_warning, RuntimeWarning)\n"
     ]
    },
    {
     "data": {
      "application/vnd.jupyter.widget-view+json": {
       "model_id": "3dc113363d5f4bd389b9d5b4ad02dd08",
       "version_major": 2,
       "version_minor": 0
      },
      "text/plain": [
       "FigureCanvasNbAgg()"
      ]
     },
     "metadata": {},
     "output_type": "display_data"
    },
    {
     "name": "stderr",
     "output_type": "stream",
     "text": [
      "/home/kboone/packages/conda/lib/python3.7/site-packages/matplotlib/pyplot.py:514: RuntimeWarning: More than 20 figures have been opened. Figures created through the pyplot interface (`matplotlib.pyplot.figure`) are retained until explicitly closed and may consume too much memory. (To control this warning, see the rcParam `figure.max_open_warning`).\n",
      "  max_open_warning, RuntimeWarning)\n"
     ]
    },
    {
     "data": {
      "application/vnd.jupyter.widget-view+json": {
       "model_id": "da506512c1d54b0482944822d796971d",
       "version_major": 2,
       "version_minor": 0
      },
      "text/plain": [
       "FigureCanvasNbAgg()"
      ]
     },
     "metadata": {},
     "output_type": "display_data"
    },
    {
     "data": {
      "text/plain": [
       "(-20, 40)"
      ]
     },
     "execution_count": 96,
     "metadata": {},
     "output_type": "execute_result"
    }
   ],
   "source": [
    "# Reproduced spectra\n",
    "vary_idx = 1\n",
    "center_loc = [0., 0., 0.]\n",
    "phase = 0\n",
    "\n",
    "center_loc = np.array(center_loc, dtype=float)\n",
    "\n",
    "all_model = []\n",
    "\n",
    "for wave_idx in range(len(a.wave)):\n",
    "    loc = center_loc.copy()\n",
    "    loc[vary_idx] = plot_loc\n",
    "    model = super_spline(all_spl_c[wave_idx], phase, loc[None, :])\n",
    "    all_model.append(model)\n",
    "    \n",
    "plt.figure()\n",
    "plt.plot(a.wave, all_model)\n",
    "\n",
    "vary_idx = 1\n",
    "center_loc = [0., 0., 0.]\n",
    "\n",
    "center_loc = np.array(center_loc, dtype=float)\n",
    "deltas = all_embedding - center_loc\n",
    "diff = np.delete(deltas, vary_idx, axis=1)\n",
    "dist = np.sqrt(np.sum(diff**2, axis=1))\n",
    "close_cut = dist < 1.0\n",
    "\n",
    "close_embedding = all_embedding[close_cut, vary_idx]\n",
    "\n",
    "min_vary = np.min(close_embedding)\n",
    "max_vary = np.max(close_embedding)\n",
    "diff = max_vary - min_vary\n",
    "min_vary -= 0.1*diff\n",
    "max_vary += 0.1*diff\n",
    "\n",
    "\n",
    "plt.figure()\n",
    "for plot_loc in np.linspace(min_vary, max_vary, 10):\n",
    "    plot_t = np.linspace(-15, 60, 1000)\n",
    "    loc = center_loc.copy()\n",
    "    loc[vary_idx] = plot_loc\n",
    "    pred_embedding = np.array([loc] * len(plot_t))\n",
    "    \n",
    "    model = super_spline(spl_c, plot_t, pred_embedding)\n",
    "    \n",
    "    plt.plot(\n",
    "        plot_t, model,\n",
    "        c=plt.cm.coolwarm((plot_loc - min_vary) / (max_vary - min_vary)),\n",
    "    )\n",
    "\n",
    "plt.scatter(all_phases[close_cut], all_fluxes[close_cut, wave_idx], c=all_embedding[close_cut, vary_idx],\n",
    "            vmin=min_vary, vmax=max_vary, cmap=plt.cm.coolwarm)\n",
    "plt.xlim(-20, 40)\n",
    "# plt.ylim(-5, 25)"
   ]
  },
  {
   "cell_type": "markdown",
   "metadata": {},
   "source": [
    "# Twins bias"
   ]
  },
  {
   "cell_type": "code",
   "execution_count": 36,
   "metadata": {},
   "outputs": [
    {
     "name": "stderr",
     "output_type": "stream",
     "text": [
      "/home/kboone/packages/conda/lib/python3.7/site-packages/matplotlib/pyplot.py:514: RuntimeWarning: More than 20 figures have been opened. Figures created through the pyplot interface (`matplotlib.pyplot.figure`) are retained until explicitly closed and may consume too much memory. (To control this warning, see the rcParam `figure.max_open_warning`).\n",
      "  max_open_warning, RuntimeWarning)\n"
     ]
    },
    {
     "data": {
      "application/vnd.jupyter.widget-view+json": {
       "model_id": "44eb9e0d40924232b5f9e3a52e08d30a",
       "version_major": 2,
       "version_minor": 0
      },
      "text/plain": [
       "FigureCanvasNbAgg()"
      ]
     },
     "metadata": {},
     "output_type": "display_data"
    }
   ],
   "source": [
    "plt.figure()\n",
    "np.random.seed(6)\n",
    "x = np.random.normal(size=50)\n",
    "y = np.random.normal(size=50)\n",
    "\n",
    "plt.scatter(x, y, label='Reference sample')\n",
    "\n",
    "for i in range(4):\n",
    "    if i == 0:\n",
    "        sel = np.argmin(x)\n",
    "    elif i == 1:\n",
    "        sel = np.argmax(x)\n",
    "    elif i == 2:\n",
    "        sel = np.argmin(y)\n",
    "    elif i == 3:\n",
    "        sel = np.argmax(y)\n",
    "\n",
    "    if i == 0:\n",
    "        label = 'New objects'\n",
    "    else:\n",
    "        label = ''\n",
    "\n",
    "    plt.scatter(x[sel], y[sel], label=label, c='C1')\n",
    "\n",
    "    twins = np.where((x - x[sel])**2 + (y - y[sel])**2 < 2)[0]\n",
    "\n",
    "    sum_x = 0\n",
    "    sum_y = 0\n",
    "\n",
    "    for twin_idx in twins:\n",
    "        if sel == twin_idx:\n",
    "            continue\n",
    "\n",
    "        if sum_x == 0 and i == 0:\n",
    "            label = 'Twins'\n",
    "        else:\n",
    "            label = ''\n",
    "        plt.plot([x[sel], x[twin_idx]], [y[sel], y[twin_idx]], label=label, c='C2', zorder=0)\n",
    "\n",
    "        sum_x += x[twin_idx]\n",
    "        sum_y += y[twin_idx]\n",
    "\n",
    "    twin_x = sum_x / (len(twins) - 1)\n",
    "    twin_y = sum_y / (len(twins) - 1)\n",
    "    \n",
    "    if i == 0:\n",
    "        label = 'Twin-recovered locations'\n",
    "    else:\n",
    "        label = ''\n",
    "\n",
    "    plt.scatter(twin_x, twin_y, c='C3', label=label, marker='*')\n",
    "\n",
    "plt.gca().set_aspect(1)\n",
    "plt.xlim(-3, 5)\n",
    "plt.ylim(-3, 3)\n",
    "\n",
    "plt.xlabel('Simulated component 1')\n",
    "plt.ylabel('Simulated component 2')\n",
    "\n",
    "plt.tight_layout()\n",
    "\n",
    "plt.legend(loc=4)\n",
    "\n",
    "plt.savefig('./figures/twins_simulation.pdf')"
   ]
  },
  {
   "cell_type": "code",
   "execution_count": 98,
   "metadata": {},
   "outputs": [],
   "source": [
    "inds = a.get_indicators()"
   ]
  },
  {
   "cell_type": "code",
   "execution_count": 99,
   "metadata": {},
   "outputs": [
    {
     "data": {
      "text/plain": [
       "['EWCaIIHK',\n",
       " 'EWSiII4000',\n",
       " 'EWSiII5972',\n",
       " 'EWSiII6355',\n",
       " 'lamCaIIHK',\n",
       " 'lamSiII6355',\n",
       " 'vCaIIHK',\n",
       " 'vSiII6355']"
      ]
     },
     "execution_count": 99,
     "metadata": {},
     "output_type": "execute_result"
    }
   ],
   "source": [
    "inds.keys()"
   ]
  },
  {
   "cell_type": "code",
   "execution_count": 100,
   "metadata": {},
   "outputs": [
    {
     "name": "stderr",
     "output_type": "stream",
     "text": [
      "/home/kboone/packages/conda/lib/python3.7/site-packages/matplotlib/pyplot.py:514: RuntimeWarning: More than 20 figures have been opened. Figures created through the pyplot interface (`matplotlib.pyplot.figure`) are retained until explicitly closed and may consume too much memory. (To control this warning, see the rcParam `figure.max_open_warning`).\n",
      "  max_open_warning, RuntimeWarning)\n"
     ]
    },
    {
     "data": {
      "application/vnd.jupyter.widget-view+json": {
       "model_id": "87249d61d1d74a389c22aa54fe645519",
       "version_major": 2,
       "version_minor": 0
      },
      "text/plain": [
       "FigureCanvasNbAgg()"
      ]
     },
     "metadata": {},
     "output_type": "display_data"
    },
    {
     "data": {
      "text/plain": [
       "(array([11., 46., 63., 43., 18.,  9.,  8.,  4.,  3.,  2.]),\n",
       " array([-2.94732875,  3.15358617,  9.25450109, 15.35541601, 21.45633093,\n",
       "        27.55724585, 33.65816077, 39.75907569, 45.85999061, 51.96090553,\n",
       "        58.06182045]),\n",
       " <a list of 10 Patch objects>)"
      ]
     },
     "execution_count": 100,
     "metadata": {},
     "output_type": "execute_result"
    }
   ],
   "source": [
    "plt.figure()\n",
    "plt.hist(inds['EWSiII5972'])"
   ]
  },
  {
   "cell_type": "code",
   "execution_count": 101,
   "metadata": {},
   "outputs": [
    {
     "name": "stderr",
     "output_type": "stream",
     "text": [
      "/home/kboone/packages/conda/lib/python3.7/site-packages/matplotlib/pyplot.py:514: RuntimeWarning: More than 20 figures have been opened. Figures created through the pyplot interface (`matplotlib.pyplot.figure`) are retained until explicitly closed and may consume too much memory. (To control this warning, see the rcParam `figure.max_open_warning`).\n",
      "  max_open_warning, RuntimeWarning)\n"
     ]
    },
    {
     "data": {
      "application/vnd.jupyter.widget-view+json": {
       "model_id": "ac8df76cdecc4f079ac71a737bb1ce3e",
       "version_major": 2,
       "version_minor": 0
      },
      "text/plain": [
       "FigureCanvasNbAgg()"
      ]
     },
     "metadata": {},
     "output_type": "display_data"
    },
    {
     "data": {
      "text/plain": [
       "Text(0, 0.5, 'SiII 6355 Equivalent Width')"
      ]
     },
     "execution_count": 101,
     "metadata": {},
     "output_type": "execute_result"
    }
   ],
   "source": [
    "plt.figure()\n",
    "plt.scatter(inds['EWSiII4000'], inds['EWSiII6355'], c=inds['EWSiII5972'], cmap=plt.cm.coolwarm, vmin=0, vmax=30)\n",
    "plt.xlabel('SiII 4000 Equivalent Width')\n",
    "plt.ylabel('SiII 6355 Equivalent Width')"
   ]
  },
  {
   "cell_type": "markdown",
   "metadata": {},
   "source": [
    "# Comparison to linear models"
   ]
  },
  {
   "cell_type": "code",
   "execution_count": 91,
   "metadata": {},
   "outputs": [
    {
     "name": "stderr",
     "output_type": "stream",
     "text": [
      "/home/kyle/packages/conda/lib/python3.7/site-packages/ipykernel_launcher.py:10: RuntimeWarning: More than 20 figures have been opened. Figures created through the pyplot interface (`matplotlib.pyplot.figure`) are retained until explicitly closed and may consume too much memory. (To control this warning, see the rcParam `figure.max_open_warning`).\n",
      "  # Remove the CWD from sys.path while we load stuff.\n"
     ]
    },
    {
     "data": {
      "application/vnd.jupyter.widget-view+json": {
       "model_id": "f38528eea735440584acb3d686ad0e98",
       "version_major": 2,
       "version_minor": 0
      },
      "text/plain": [
       "Canvas(toolbar=Toolbar(toolitems=[('Home', 'Reset original view', 'home', 'home'), ('Back', 'Back to previous …"
      ]
     },
     "metadata": {},
     "output_type": "display_data"
    }
   ],
   "source": [
    "from sklearn.decomposition import PCA\n",
    "\n",
    "num_show = 5\n",
    "\n",
    "pca = PCA()\n",
    "pca_embedding = fill_mask(pca.fit_transform(a.iso_diffs[a.interp_mask]), a.interp_mask)\n",
    "\n",
    "ref_scale = pca.explained_variance_ratio_[0]\n",
    "\n",
    "plt.figure()\n",
    "# plt.scatter(np.arange(num_show), variances[:num_show] / ref_var, label='Explained variance of each component')\n",
    "plt.scatter(np.arange(num_show), pca.explained_variance_ratio_[:num_show] / ref_scale, label='Explained variance of each component')\n",
    "plt.axhline(0.1 / ref_scale, label='Approximate uncertainty cut', ls='--', c='C3')\n",
    "plt.axhline(np.mean(a.interp_power_fraction[a.interp_mask]) / ref_scale, label='Approximate mean uncertainty', ls='--', c='C2')\n",
    "plt.ylim(0, None)\n",
    "plt.xlabel('Component number')\n",
    "plt.ylabel('Fraction of total variance')\n",
    "plt.xticks(np.arange(num_show), np.arange(num_show) + 1)\n",
    "plt.legend()\n",
    "plt.tight_layout()\n",
    "\n",
    "plt.savefig('./figures/pca_component_variance.pdf')"
   ]
  },
  {
   "cell_type": "code",
   "execution_count": 92,
   "metadata": {},
   "outputs": [
    {
     "name": "stderr",
     "output_type": "stream",
     "text": [
      "/home/kyle/supernova/snfactory/manifold_twins/analysis/manifold_twins.py:896: RuntimeWarning: More than 20 figures have been opened. Figures created through the pyplot interface (`matplotlib.pyplot.figure`) are retained until explicitly closed and may consume too much memory. (To control this warning, see the rcParam `figure.max_open_warning`).\n",
      "  fig = plt.figure()\n"
     ]
    },
    {
     "data": {
      "application/vnd.jupyter.widget-view+json": {
       "model_id": "099ba804b2994d1c8f46c427d747f6d0",
       "version_major": 2,
       "version_minor": 0
      },
      "text/plain": [
       "Canvas(toolbar=Toolbar(toolitems=[('Home', 'Reset original view', 'home', 'home'), ('Back', 'Back to previous …"
      ]
     },
     "metadata": {},
     "output_type": "display_data"
    }
   ],
   "source": [
    "a.do_embedding()\n",
    "# a.do_component_blondin_plot()\n",
    "a.scatter(a.salt_x1)"
   ]
  },
  {
   "cell_type": "code",
   "execution_count": 93,
   "metadata": {},
   "outputs": [
    {
     "name": "stderr",
     "output_type": "stream",
     "text": [
      "/home/kyle/supernova/snfactory/manifold_twins/analysis/manifold_twins.py:896: RuntimeWarning: More than 20 figures have been opened. Figures created through the pyplot interface (`matplotlib.pyplot.figure`) are retained until explicitly closed and may consume too much memory. (To control this warning, see the rcParam `figure.max_open_warning`).\n",
      "  fig = plt.figure()\n"
     ]
    },
    {
     "data": {
      "application/vnd.jupyter.widget-view+json": {
       "model_id": "8040e122a0c24f32a87b9826e59c03dd",
       "version_major": 2,
       "version_minor": 0
      },
      "text/plain": [
       "Canvas(toolbar=Toolbar(toolitems=[('Home', 'Reset original view', 'home', 'home'), ('Back', 'Back to previous …"
      ]
     },
     "metadata": {},
     "output_type": "display_data"
    }
   ],
   "source": [
    "embedding_bak = a.embedding\n",
    "a.embedding = pca_embedding.copy()\n",
    "a.embedding[:, 1] = - a.embedding[:, 1]\n",
    "a.scatter(a.salt_x1)\n",
    "# a.scatter(a.embedding[:, 2])\n",
    "# a.do_component_blondin_plot()\n",
    "\n",
    "a.embedding = embedding_bak"
   ]
  },
  {
   "cell_type": "code",
   "execution_count": 94,
   "metadata": {},
   "outputs": [
    {
     "name": "stderr",
     "output_type": "stream",
     "text": [
      "/home/kyle/packages/conda/lib/python3.7/site-packages/ipykernel_launcher.py:1: RuntimeWarning: More than 20 figures have been opened. Figures created through the pyplot interface (`matplotlib.pyplot.figure`) are retained until explicitly closed and may consume too much memory. (To control this warning, see the rcParam `figure.max_open_warning`).\n",
      "  \"\"\"Entry point for launching an IPython kernel.\n"
     ]
    },
    {
     "data": {
      "application/vnd.jupyter.widget-view+json": {
       "model_id": "4f799f8655d740aaa28f3e5697d4d2b8",
       "version_major": 2,
       "version_minor": 0
      },
      "text/plain": [
       "Canvas(toolbar=Toolbar(toolitems=[('Home', 'Reset original view', 'home', 'home'), ('Back', 'Back to previous …"
      ]
     },
     "metadata": {},
     "output_type": "display_data"
    }
   ],
   "source": [
    "plt.figure()\n",
    "plt.scatter(pca_embedding[:, 1], pca_embedding[:, 2], s=20)\n",
    "plt.xlabel('PCA Component 2')\n",
    "plt.ylabel('PCA Component 3')\n",
    "plt.tight_layout()\n",
    "plt.savefig('./figures/pca_component_2_3_bad.pdf')"
   ]
  },
  {
   "cell_type": "code",
   "execution_count": 95,
   "metadata": {},
   "outputs": [
    {
     "name": "stderr",
     "output_type": "stream",
     "text": [
      "/home/kyle/packages/conda/lib/python3.7/site-packages/ipykernel_launcher.py:1: RuntimeWarning: More than 20 figures have been opened. Figures created through the pyplot interface (`matplotlib.pyplot.figure`) are retained until explicitly closed and may consume too much memory. (To control this warning, see the rcParam `figure.max_open_warning`).\n",
      "  \"\"\"Entry point for launching an IPython kernel.\n"
     ]
    },
    {
     "data": {
      "application/vnd.jupyter.widget-view+json": {
       "model_id": "2bc22e6f42894f17af3bc7627796b6cf",
       "version_major": 2,
       "version_minor": 0
      },
      "text/plain": [
       "Canvas(toolbar=Toolbar(toolitems=[('Home', 'Reset original view', 'home', 'home'), ('Back', 'Back to previous …"
      ]
     },
     "metadata": {},
     "output_type": "display_data"
    }
   ],
   "source": [
    "plt.figure()\n",
    "plt.scatter(a.embedding[:, 1], a.embedding[:, 2], s=20)\n",
    "plt.xlabel('Isomap Component 2')\n",
    "plt.ylabel('Isomap Component 3')\n",
    "plt.tight_layout()\n",
    "plt.savefig('./figures/isomap_component_2_3.pdf')"
   ]
  }
 ],
 "metadata": {
  "kernelspec": {
   "display_name": "Python 3",
   "language": "python",
   "name": "python3"
  },
  "language_info": {
   "codemirror_mode": {
    "name": "ipython",
    "version": 3
   },
   "file_extension": ".py",
   "mimetype": "text/x-python",
   "name": "python",
   "nbconvert_exporter": "python",
   "pygments_lexer": "ipython3",
   "version": "3.7.4"
  },
  "toc-autonumbering": true,
  "toc-showmarkdowntxt": false
 },
 "nbformat": 4,
 "nbformat_minor": 4
}
