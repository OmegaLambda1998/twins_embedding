{
 "cells": [
  {
   "cell_type": "markdown",
   "metadata": {},
   "source": [
    "# Load the dataset"
   ]
  },
  {
   "cell_type": "code",
   "execution_count": 1,
   "metadata": {},
   "outputs": [],
   "source": [
    "run manifold_twins"
   ]
  },
  {
   "cell_type": "code",
   "execution_count": 2,
   "metadata": {},
   "outputs": [],
   "source": [
    "%matplotlib ipympl"
   ]
  },
  {
   "cell_type": "code",
   "execution_count": 3,
   "metadata": {},
   "outputs": [],
   "source": [
    "# Default settings for matplotlib figures\n",
    "#import matplotlib as mpl\n",
    "\n",
    "# Choose how big to make figures. This will scale the text size.\n",
    "# mpl.rcParams['figure.figsize'] = (5, 4)\n",
    "\n",
    "# Set the DPI. This will change how big things appear in Jupyter lab\n",
    "# mpl.rcParams['figure.dpi'] = 120"
   ]
  },
  {
   "cell_type": "code",
   "execution_count": 4,
   "metadata": {},
   "outputs": [
    {
     "name": "stdout",
     "output_type": "stream",
     "text": [
      "Loading dataset...\n",
      "IDR:          CASCAD\n",
      "Phase range: [-5.0, 5.0]\n",
      "Center phase: 0.0\n",
      "Bin velocity: 1000.0\n",
      "Cutting SNe:  ['PTF12ecm', 'PTF11mty']\n"
     ]
    },
    {
     "name": "stderr",
     "output_type": "stream",
     "text": [
      "/home/kboone/packages/conda/lib/python3.7/site-packages/astropy/table/column.py:965: RuntimeWarning: invalid value encountered in greater\n",
      "  return getattr(self.data, op)(other)\n",
      "100%|██████████| 438/438 [00:19<00:00, 22.34it/s]\n"
     ]
    }
   ],
   "source": [
    "# a = ManifoldTwinsAnalysis(idr='HICKORY', verbosity=1)\n",
    "a = ManifoldTwinsAnalysis(idr='CASCAD', verbosity=1)\n",
    "# a = ManifoldTwinsAnalysis(idr='CASCAD', verbosity=1, bin_velocity=2000, max_count=100)"
   ]
  },
  {
   "cell_type": "markdown",
   "metadata": {},
   "source": [
    "# Run the analysis"
   ]
  },
  {
   "cell_type": "markdown",
   "metadata": {},
   "source": [
    "## Interpolate the spectra"
   ]
  },
  {
   "cell_type": "code",
   "execution_count": 5,
   "metadata": {},
   "outputs": [],
   "source": [
    "# Choose how much of the model to refit. For a full analysis, use 'refit' mode.\n",
    "# If you already ran everything with the exact same configuration, 'cached' will\n",
    "# load the previous result. If anything changed, 'cached_uncertainty' can be used\n",
    "# to keep the uncertainty model from the last fit (which takes a long time to fit,\n",
    "# and is very stable) but refit everything else. Don't use cached_uncertainty for\n",
    "# the final analysis, it is only for debugging!\n",
    "\n",
    "# fit_type = 'refit'              # Refit everything\n",
    "fit_type = 'cached'             # Use a full cached model that was previously fit.\n",
    "# fit_type = 'cached_uncertainty' # Use only the uncertainty from a cached model."
   ]
  },
  {
   "cell_type": "code",
   "execution_count": 6,
   "metadata": {},
   "outputs": [
    {
     "name": "stdout",
     "output_type": "stream",
     "text": [
      "Modeling maximum spectra with fit type 'cached'\n",
      "Using saved interpolation result\n",
      "Done!\n"
     ]
    }
   ],
   "source": [
    "print(\"Modeling maximum spectra with fit type '%s'\" % fit_type)\n",
    "\n",
    "if fit_type == 'refit':\n",
    "    a.model_maximum_spectra(use_cache=False)\n",
    "elif fit_type == 'cached':\n",
    "    a.model_maximum_spectra(use_cache=True)\n",
    "elif fit_type == 'cached_uncertainty':\n",
    "    a.model_maximum_spectra(use_cached_model_uncertainty=True)\n",
    "else:\n",
    "    print(\"Unknown fit type! Can't handle\")\n",
    "    \n",
    "print(\"Done!\")"
   ]
  },
  {
   "cell_type": "markdown",
   "metadata": {},
   "source": [
    "## Read between the lines"
   ]
  },
  {
   "cell_type": "code",
   "execution_count": 7,
   "metadata": {},
   "outputs": [
    {
     "name": "stdout",
     "output_type": "stream",
     "text": [
      "Loaded cached stan model\n",
      "Masking 24/202 targets whose interpolation uncertainty power is more than 0.100 of the intrinsic power.\n",
      "Done!\n"
     ]
    }
   ],
   "source": [
    "a.read_between_the_lines(fiducial_rv=2.8)\n",
    "\n",
    "print(\"Done!\")"
   ]
  },
  {
   "cell_type": "markdown",
   "metadata": {},
   "source": [
    "## Do embedding"
   ]
  },
  {
   "cell_type": "code",
   "execution_count": 8,
   "metadata": {},
   "outputs": [],
   "source": [
    "a.do_embedding()"
   ]
  },
  {
   "cell_type": "markdown",
   "metadata": {},
   "source": [
    "## Apply standardization"
   ]
  },
  {
   "cell_type": "code",
   "execution_count": 9,
   "metadata": {},
   "outputs": [
    {
     "name": "stdout",
     "output_type": "stream",
     "text": [
      "Fitting GP hyperparameters...\n",
      "Fit result:\n",
      "      fun: -59.26127018578216\n",
      " hess_inv: array([[ 4.98245421e-03,  3.23904835e-06, -6.30946395e-04,\n",
      "        -3.05735506e-02],\n",
      "       [ 3.23904835e-06,  1.61370479e-04,  2.64752292e-05,\n",
      "         1.04339917e-02],\n",
      "       [-6.30946395e-04,  2.64752292e-05,  1.17696783e-03,\n",
      "         4.34280822e-02],\n",
      "       [-3.05735506e-02,  1.04339917e-02,  4.34280822e-02,\n",
      "         3.55195095e+00]])\n",
      "      jac: array([-2.86102295e-06, -9.05990601e-06,  2.38418579e-06, -5.72204590e-06])\n",
      "  message: 'Optimization terminated successfully.'\n",
      "     nfev: 132\n",
      "      nit: 15\n",
      "     njev: 22\n",
      "   status: 0\n",
      "  success: True\n",
      "        x: array([-0.046595  ,  0.07682295,  0.10195705,  2.69551498])\n",
      "Finite difference covariance step sizes: [1.60e-04 2.00e-05 4.00e-05 2.56e-03]\n",
      "Fit uncertainty: [0.07023724 0.01255326 0.03414024 1.8833214 ]\n",
      "Fit NMAD:        0.08971590237637203\n",
      "Fit std:         0.10109691316372353\n"
     ]
    },
    {
     "data": {
      "application/vnd.jupyter.widget-view+json": {
       "model_id": "873d1255e8024bc88b5b8b6503fc558f",
       "version_major": 2,
       "version_minor": 0
      },
      "text/plain": [
       "FigureCanvasNbAgg()"
      ]
     },
     "metadata": {},
     "output_type": "display_data"
    }
   ],
   "source": [
    "a.fit_gp()\n",
    "# a.apply_polynomial_standardization(1)\n",
    "\n",
    "a.plot_gp()\n",
    "# a.plot_gp(show_mask=True)"
   ]
  },
  {
   "cell_type": "markdown",
   "metadata": {},
   "source": [
    "## Calculate SALT2 Hubble Residuals"
   ]
  },
  {
   "cell_type": "code",
   "execution_count": 10,
   "metadata": {},
   "outputs": [
    {
     "name": "stdout",
     "output_type": "stream",
     "text": [
      "Pass 0, MB=-19.071, alpha=0.127, beta=2.983\n",
      "  -> new intrinsic_dispersion=0.107\n",
      "Pass 1, MB=-19.070, alpha=0.127, beta=2.984\n",
      "  -> new intrinsic_dispersion=0.107\n",
      "Pass 2, MB=-19.070, alpha=0.127, beta=2.984\n",
      "  -> new intrinsic_dispersion=0.107\n",
      "Pass 3, MB=-19.070, alpha=0.127, beta=2.984\n",
      "  -> new intrinsic_dispersion=0.107\n",
      "Pass 4, MB=-19.070, alpha=0.127, beta=2.984\n",
      "  -> new intrinsic_dispersion=0.107\n",
      "SALT2 Hubble fit: \n",
      "    MB:    -19.070499921667995\n",
      "    alpha: 0.12740083248355008\n",
      "    beta:  2.9837638512608176\n",
      "    σ_int: 0.10720876144031752\n",
      "    RMS:   0.15081021570900285\n",
      "    NMAD:  0.11006123624560227\n",
      "    WRMS:  0.1499260868916875\n"
     ]
    }
   ],
   "source": [
    "a.calculate_salt_hubble_residuals()"
   ]
  },
  {
   "cell_type": "markdown",
   "metadata": {},
   "source": [
    "## Load host galaxy data"
   ]
  },
  {
   "cell_type": "code",
   "execution_count": 13,
   "metadata": {},
   "outputs": [],
   "source": [
    "a.load_host_data()"
   ]
  },
  {
   "cell_type": "markdown",
   "metadata": {},
   "source": [
    "# Interpolation plots"
   ]
  },
  {
   "cell_type": "markdown",
   "metadata": {},
   "source": [
    "## Examples of interpolations"
   ]
  },
  {
   "cell_type": "code",
   "execution_count": 14,
   "metadata": {},
   "outputs": [
    {
     "data": {
      "application/vnd.jupyter.widget-view+json": {
       "model_id": "b6cfc1caf82544bbbf9f2bda099f6fc1",
       "version_major": 2,
       "version_minor": 0
      },
      "text/plain": [
       "interactive(children=(IntSlider(value=100, description='idx', max=201), Checkbox(value=False, description='sav…"
      ]
     },
     "metadata": {},
     "output_type": "display_data"
    },
    {
     "data": {
      "text/plain": [
       "<function __main__.plot_same_night(idx, save=False)>"
      ]
     },
     "execution_count": 14,
     "metadata": {},
     "output_type": "execute_result"
    }
   ],
   "source": [
    "def plot_same_night(idx, save=False):\n",
    "    night_flux = a.flux[a.target_map == idx]\n",
    "    phases = a.salt_phases[a.target_map == idx]\n",
    "    model = a.interpolation_result['maximum_flux'][idx]\n",
    "    model_err = a.interpolation_result['maximum_fluxerr'][idx]\n",
    "    plt.figure()\n",
    "    for flux, phase in zip(night_flux, phases):\n",
    "        plt.plot(a.wave, flux, label='%.2f days' % phase)\n",
    "    plt.plot(a.wave, model, c='k', ls='--', label='Model')\n",
    "    plt.fill_between(a.wave, model - model_err, model + model_err, facecolor='k', alpha=0.3)\n",
    "    plt.legend()\n",
    "    plt.title(a.targets[idx])\n",
    "    plt.xlabel('Wavelength ($\\AA$)')\n",
    "    plt.ylabel('Flux')\n",
    "    \n",
    "    if save:\n",
    "        plt.savefig('./figures/interpolation_model_%s.pdf' % a.targets[idx])\n",
    "    \n",
    "    # plt.figure()\n",
    "    # shift_frac = (a.interpolation_result['shift_fluxerr'] / a.interpolation_result['shift_flux'])[a.target_map == idx]\n",
    "    # plt.plot(a.wave, shift_frac.T)\n",
    "    # orig_frac = (a.fluxerr / a.flux)[a.target_map == idx]\n",
    "    # plt.plot(a.wave, orig_frac.T, ls='--')\n",
    "    \n",
    "    \n",
    "    phase_slope = a.interpolation_result['phase_slope']\n",
    "    phase_quadratic = a.interpolation_result['phase_quadratic']\n",
    "    gray_offsets = a.interpolation_result['gray_offsets'][a.target_map == idx]\n",
    "    model_diffs = a.interpolation_result['model_diffs'][a.target_map == idx]\n",
    "    \n",
    "    plt.figure()\n",
    "    for i, (flux, phase, gray_offset, model_diff) in enumerate(zip(night_flux, phases, gray_offsets, model_diffs)):\n",
    "        plt.plot(a.wave, -2.5*np.log10(flux / model), label='Data %.2f days' % phase, c='C%d' % i)\n",
    "    for i, (flux, phase, gray_offset, model_diff) in enumerate(zip(night_flux, phases, gray_offsets, model_diffs)):\n",
    "        plt.plot(a.wave, model_diff, label='Model %.2f days' % phase, c='C%d' % i, ls='--')\n",
    "    plt.legend(ncol=2, loc=1)\n",
    "    plt.title(a.targets[idx])\n",
    "    plt.xlabel('Wavelength ($\\AA$)')\n",
    "    plt.ylabel('Difference from maximum light (mag)')\n",
    "    \n",
    "    if save:\n",
    "        plt.savefig('./figures/interpolation_difference_%s.pdf' % a.targets[idx])\n",
    "    \n",
    "    plt.figure()\n",
    "    for i, (flux, phase, gray_offset, model_diff) in enumerate(zip(night_flux, phases, gray_offsets, model_diffs)):\n",
    "        plt.plot(a.wave, -2.5*np.log10(flux / model) - model_diff, label='Residuals %.2f days' % phase, c='C%d' % i)\n",
    "    plt.legend()\n",
    "    plt.title(a.targets[idx])\n",
    "    plt.xlabel('Wavelength ($\\AA$)')\n",
    "    plt.ylabel('Interpolation residuals (mag)')\n",
    "    \n",
    "    if save:\n",
    "        plt.savefig('./figures/interpolation_residuals_%s.pdf' % a.targets[idx])\n",
    "    \n",
    "from ipywidgets import interact\n",
    "interact(plot_same_night, idx=(0, len(a.targets)-1))"
   ]
  },
  {
   "cell_type": "code",
   "execution_count": 133,
   "metadata": {},
   "outputs": [
    {
     "name": "stderr",
     "output_type": "stream",
     "text": [
      "/home/kboone/packages/conda/lib/python3.7/site-packages/matplotlib/pyplot.py:514: RuntimeWarning: More than 20 figures have been opened. Figures created through the pyplot interface (`matplotlib.pyplot.figure`) are retained until explicitly closed and may consume too much memory. (To control this warning, see the rcParam `figure.max_open_warning`).\n",
      "  max_open_warning, RuntimeWarning)\n"
     ]
    },
    {
     "data": {
      "application/vnd.jupyter.widget-view+json": {
       "model_id": "d056f7702e0849b09e49f6410cbe33aa",
       "version_major": 2,
       "version_minor": 0
      },
      "text/plain": [
       "FigureCanvasNbAgg()"
      ]
     },
     "metadata": {},
     "output_type": "display_data"
    },
    {
     "name": "stderr",
     "output_type": "stream",
     "text": [
      "/home/kboone/packages/conda/lib/python3.7/site-packages/matplotlib/pyplot.py:514: RuntimeWarning: More than 20 figures have been opened. Figures created through the pyplot interface (`matplotlib.pyplot.figure`) are retained until explicitly closed and may consume too much memory. (To control this warning, see the rcParam `figure.max_open_warning`).\n",
      "  max_open_warning, RuntimeWarning)\n"
     ]
    },
    {
     "data": {
      "application/vnd.jupyter.widget-view+json": {
       "model_id": "143bffafd08046bb92abd71276828fcf",
       "version_major": 2,
       "version_minor": 0
      },
      "text/plain": [
       "FigureCanvasNbAgg()"
      ]
     },
     "metadata": {},
     "output_type": "display_data"
    },
    {
     "name": "stderr",
     "output_type": "stream",
     "text": [
      "/home/kboone/packages/conda/lib/python3.7/site-packages/matplotlib/pyplot.py:514: RuntimeWarning: More than 20 figures have been opened. Figures created through the pyplot interface (`matplotlib.pyplot.figure`) are retained until explicitly closed and may consume too much memory. (To control this warning, see the rcParam `figure.max_open_warning`).\n",
      "  max_open_warning, RuntimeWarning)\n"
     ]
    },
    {
     "data": {
      "application/vnd.jupyter.widget-view+json": {
       "model_id": "906a059648f54055a6ff2240fc6280ef",
       "version_major": 2,
       "version_minor": 0
      },
      "text/plain": [
       "FigureCanvasNbAgg()"
      ]
     },
     "metadata": {},
     "output_type": "display_data"
    },
    {
     "name": "stderr",
     "output_type": "stream",
     "text": [
      "/home/kboone/packages/conda/lib/python3.7/site-packages/matplotlib/pyplot.py:514: RuntimeWarning: More than 20 figures have been opened. Figures created through the pyplot interface (`matplotlib.pyplot.figure`) are retained until explicitly closed and may consume too much memory. (To control this warning, see the rcParam `figure.max_open_warning`).\n",
      "  max_open_warning, RuntimeWarning)\n"
     ]
    },
    {
     "data": {
      "application/vnd.jupyter.widget-view+json": {
       "model_id": "d3087aec804240eeba01fe58aeeb40e6",
       "version_major": 2,
       "version_minor": 0
      },
      "text/plain": [
       "FigureCanvasNbAgg()"
      ]
     },
     "metadata": {},
     "output_type": "display_data"
    },
    {
     "name": "stderr",
     "output_type": "stream",
     "text": [
      "/home/kboone/packages/conda/lib/python3.7/site-packages/matplotlib/pyplot.py:514: RuntimeWarning: More than 20 figures have been opened. Figures created through the pyplot interface (`matplotlib.pyplot.figure`) are retained until explicitly closed and may consume too much memory. (To control this warning, see the rcParam `figure.max_open_warning`).\n",
      "  max_open_warning, RuntimeWarning)\n"
     ]
    },
    {
     "data": {
      "application/vnd.jupyter.widget-view+json": {
       "model_id": "f271f3671f0b4a1ab49df0612f3e6392",
       "version_major": 2,
       "version_minor": 0
      },
      "text/plain": [
       "FigureCanvasNbAgg()"
      ]
     },
     "metadata": {},
     "output_type": "display_data"
    },
    {
     "name": "stderr",
     "output_type": "stream",
     "text": [
      "/home/kboone/packages/conda/lib/python3.7/site-packages/matplotlib/pyplot.py:514: RuntimeWarning: More than 20 figures have been opened. Figures created through the pyplot interface (`matplotlib.pyplot.figure`) are retained until explicitly closed and may consume too much memory. (To control this warning, see the rcParam `figure.max_open_warning`).\n",
      "  max_open_warning, RuntimeWarning)\n"
     ]
    },
    {
     "data": {
      "application/vnd.jupyter.widget-view+json": {
       "model_id": "d40312f42cb9412ba4cf59f8635f762a",
       "version_major": 2,
       "version_minor": 0
      },
      "text/plain": [
       "FigureCanvasNbAgg()"
      ]
     },
     "metadata": {},
     "output_type": "display_data"
    }
   ],
   "source": [
    "plot_targets = ['PTF13ayw', 'SN2004gc']\n",
    "for plot_target in plot_targets:\n",
    "    target_names = np.array([i.name for i in a.targets])\n",
    "    plot_idx = np.where(target_names == plot_target)[0][0]\n",
    "\n",
    "    plot_same_night(plot_idx, save=True)"
   ]
  },
  {
   "cell_type": "markdown",
   "metadata": {},
   "source": [
    "## Interpolation model"
   ]
  },
  {
   "cell_type": "code",
   "execution_count": 142,
   "metadata": {},
   "outputs": [
    {
     "name": "stderr",
     "output_type": "stream",
     "text": [
      "/home/kboone/packages/conda/lib/python3.7/site-packages/matplotlib/pyplot.py:514: RuntimeWarning: More than 20 figures have been opened. Figures created through the pyplot interface (`matplotlib.pyplot.figure`) are retained until explicitly closed and may consume too much memory. (To control this warning, see the rcParam `figure.max_open_warning`).\n",
      "  max_open_warning, RuntimeWarning)\n"
     ]
    },
    {
     "data": {
      "application/vnd.jupyter.widget-view+json": {
       "model_id": "12994388b16f444d941706d5ff54be83",
       "version_major": 2,
       "version_minor": 0
      },
      "text/plain": [
       "FigureCanvasNbAgg()"
      ]
     },
     "metadata": {},
     "output_type": "display_data"
    },
    {
     "name": "stderr",
     "output_type": "stream",
     "text": [
      "/home/kboone/packages/conda/lib/python3.7/site-packages/matplotlib/pyplot.py:514: RuntimeWarning: More than 20 figures have been opened. Figures created through the pyplot interface (`matplotlib.pyplot.figure`) are retained until explicitly closed and may consume too much memory. (To control this warning, see the rcParam `figure.max_open_warning`).\n",
      "  max_open_warning, RuntimeWarning)\n"
     ]
    },
    {
     "data": {
      "application/vnd.jupyter.widget-view+json": {
       "model_id": "21f44fa57c3b444b9286346d24b68387",
       "version_major": 2,
       "version_minor": 0
      },
      "text/plain": [
       "FigureCanvasNbAgg()"
      ]
     },
     "metadata": {},
     "output_type": "display_data"
    },
    {
     "name": "stderr",
     "output_type": "stream",
     "text": [
      "/home/kboone/packages/conda/lib/python3.7/site-packages/matplotlib/pyplot.py:514: RuntimeWarning: More than 20 figures have been opened. Figures created through the pyplot interface (`matplotlib.pyplot.figure`) are retained until explicitly closed and may consume too much memory. (To control this warning, see the rcParam `figure.max_open_warning`).\n",
      "  max_open_warning, RuntimeWarning)\n"
     ]
    },
    {
     "data": {
      "application/vnd.jupyter.widget-view+json": {
       "model_id": "c28c69f704eb4202b9f876a7962e2403",
       "version_major": 2,
       "version_minor": 0
      },
      "text/plain": [
       "FigureCanvasNbAgg()"
      ]
     },
     "metadata": {},
     "output_type": "display_data"
    },
    {
     "name": "stderr",
     "output_type": "stream",
     "text": [
      "/home/kboone/packages/conda/lib/python3.7/site-packages/matplotlib/pyplot.py:514: RuntimeWarning: More than 20 figures have been opened. Figures created through the pyplot interface (`matplotlib.pyplot.figure`) are retained until explicitly closed and may consume too much memory. (To control this warning, see the rcParam `figure.max_open_warning`).\n",
      "  max_open_warning, RuntimeWarning)\n"
     ]
    },
    {
     "data": {
      "application/vnd.jupyter.widget-view+json": {
       "model_id": "b940a18edba2495d86624e937ad69e8e",
       "version_major": 2,
       "version_minor": 0
      },
      "text/plain": [
       "FigureCanvasNbAgg()"
      ]
     },
     "metadata": {},
     "output_type": "display_data"
    },
    {
     "name": "stderr",
     "output_type": "stream",
     "text": [
      "/home/kboone/packages/conda/lib/python3.7/site-packages/matplotlib/pyplot.py:514: RuntimeWarning: More than 20 figures have been opened. Figures created through the pyplot interface (`matplotlib.pyplot.figure`) are retained until explicitly closed and may consume too much memory. (To control this warning, see the rcParam `figure.max_open_warning`).\n",
      "  max_open_warning, RuntimeWarning)\n"
     ]
    },
    {
     "data": {
      "application/vnd.jupyter.widget-view+json": {
       "model_id": "5926b8fc28f64d059660f3bc17c4052a",
       "version_major": 2,
       "version_minor": 0
      },
      "text/plain": [
       "FigureCanvasNbAgg()"
      ]
     },
     "metadata": {},
     "output_type": "display_data"
    },
    {
     "name": "stderr",
     "output_type": "stream",
     "text": [
      "/home/kboone/packages/conda/lib/python3.7/site-packages/matplotlib/pyplot.py:514: RuntimeWarning: More than 20 figures have been opened. Figures created through the pyplot interface (`matplotlib.pyplot.figure`) are retained until explicitly closed and may consume too much memory. (To control this warning, see the rcParam `figure.max_open_warning`).\n",
      "  max_open_warning, RuntimeWarning)\n"
     ]
    },
    {
     "data": {
      "application/vnd.jupyter.widget-view+json": {
       "model_id": "bb96c120529d4f1985c29c29d3901b43",
       "version_major": 2,
       "version_minor": 0
      },
      "text/plain": [
       "FigureCanvasNbAgg()"
      ]
     },
     "metadata": {},
     "output_type": "display_data"
    },
    {
     "name": "stderr",
     "output_type": "stream",
     "text": [
      "/home/kboone/packages/conda/lib/python3.7/site-packages/matplotlib/pyplot.py:514: RuntimeWarning: More than 20 figures have been opened. Figures created through the pyplot interface (`matplotlib.pyplot.figure`) are retained until explicitly closed and may consume too much memory. (To control this warning, see the rcParam `figure.max_open_warning`).\n",
      "  max_open_warning, RuntimeWarning)\n"
     ]
    },
    {
     "data": {
      "application/vnd.jupyter.widget-view+json": {
       "model_id": "830f3de75b0f4a7881a45841b112d210",
       "version_major": 2,
       "version_minor": 0
      },
      "text/plain": [
       "FigureCanvasNbAgg()"
      ]
     },
     "metadata": {},
     "output_type": "display_data"
    }
   ],
   "source": [
    "phase_slope = a.interpolation_result['phase_slope']\n",
    "phase_quadratic = a.interpolation_result['phase_quadratic']\n",
    "phase_slope_x1 = a.interpolation_result['phase_slope_x1']\n",
    "phase_quadratic_x1 = a.interpolation_result['phase_quadratic_x1']\n",
    "\n",
    "def evaluate_phase_difference(phase, x1=0):\n",
    "    phase_difference = (\n",
    "        phase_slope * phase\n",
    "        + phase_quadratic * phase * phase\n",
    "        + phase_slope_x1 * x1 * phase\n",
    "        + phase_quadratic_x1 * x1 * phase * phase\n",
    "    )\n",
    "    \n",
    "    return phase_difference\n",
    "\n",
    "# Look at change in phase for the same x1\n",
    "max_phase = a.phase_width\n",
    "min_phase = -a.phase_width\n",
    "num_phases = 10\n",
    "phases = np.linspace(min_phase, max_phase, num_phases)\n",
    "\n",
    "plt.figure(figsize=(8, 5))\n",
    "norm = plt.Normalize(vmin=min_phase, vmax=max_phase)\n",
    "cmap = plt.cm.Spectral_r\n",
    "sm = plt.cm.ScalarMappable(cmap=cmap, norm=norm)\n",
    "sm.set_array(phases)\n",
    "\n",
    "for phase in phases:\n",
    "    plt.plot(a.wave, evaluate_phase_difference(phase), c=cmap(norm(phase)))\n",
    "    \n",
    "plt.colorbar(sm, label='Phase (days)')\n",
    "\n",
    "# plt.xlim(-5.2, 5.2)\n",
    "plt.xlabel('Wavelength ($\\AA$)')\n",
    "plt.ylabel('Difference relative to maximum light (mag)')\n",
    "plt.gca().invert_yaxis()\n",
    "plt.tight_layout()\n",
    "plt.savefig('./figures/interpolation_phase_difference.pdf')\n",
    "\n",
    "\n",
    "def plot_x1_difference(phase):\n",
    "    # Look at change in phase for the same x1\n",
    "    min_x1 = -2\n",
    "    max_x1 = 2\n",
    "    num_x1s = 10\n",
    "    x1s = np.linspace(min_x1, max_x1, num_x1s)\n",
    "\n",
    "    plt.figure(figsize=(6, 4))\n",
    "    norm = plt.Normalize(vmin=min_x1, vmax=max_x1)\n",
    "    cmap = plt.cm.Spectral_r\n",
    "    sm = plt.cm.ScalarMappable(cmap=cmap, norm=norm)\n",
    "    sm.set_array(x1s)\n",
    "\n",
    "    for x1 in x1s:\n",
    "        plt.plot(a.wave, evaluate_phase_difference(phase, x1) - evaluate_phase_difference(phase, 0), c=cmap(norm(x1)))\n",
    "\n",
    "    plt.colorbar(sm, label='SALT2 $x_1$')\n",
    "\n",
    "    plt.xlabel('Wavelength ($\\AA$)')\n",
    "    plt.ylabel('Difference relative to $x_1=0$ (mag)')\n",
    "    plt.title('Difference in interpolation at %+d days' % phase)\n",
    "    # plt.gca().invert_yaxis()\n",
    "    plt.ylim(0.4, -0.4)\n",
    "    plt.tight_layout()\n",
    "    plt.savefig('./figures/interpolation_x1_difference_phase_%d.pdf' % phase)\n",
    "    \n",
    "for phase in [-5, -3, -1, 1, 3, 5]:\n",
    "    plot_x1_difference(phase)"
   ]
  },
  {
   "cell_type": "markdown",
   "metadata": {},
   "source": [
    "## Gray dispersion"
   ]
  },
  {
   "cell_type": "code",
   "execution_count": 153,
   "metadata": {},
   "outputs": [
    {
     "name": "stdout",
     "output_type": "stream",
     "text": [
      "0.02659528944914929\n"
     ]
    }
   ],
   "source": [
    "print(a.interpolation_result['gray_dispersion_scale'])"
   ]
  },
  {
   "cell_type": "code",
   "execution_count": 182,
   "metadata": {},
   "outputs": [
    {
     "name": "stderr",
     "output_type": "stream",
     "text": [
      "/home/kboone/packages/conda/lib/python3.7/site-packages/matplotlib/pyplot.py:514: RuntimeWarning: More than 20 figures have been opened. Figures created through the pyplot interface (`matplotlib.pyplot.figure`) are retained until explicitly closed and may consume too much memory. (To control this warning, see the rcParam `figure.max_open_warning`).\n",
      "  max_open_warning, RuntimeWarning)\n"
     ]
    },
    {
     "data": {
      "application/vnd.jupyter.widget-view+json": {
       "model_id": "cc705f8b26694030b54c78bb4839db5b",
       "version_major": 2,
       "version_minor": 0
      },
      "text/plain": [
       "FigureCanvasNbAgg()"
      ]
     },
     "metadata": {},
     "output_type": "display_data"
    }
   ],
   "source": [
    "plt.figure()\n",
    "plt.scatter(a.salt_phases, a.interpolation_result['gray_offsets'], s=3, label='Individual spectra')\n",
    "math.plot_binned_mean(a.salt_phases, a.interpolation_result['gray_offsets'], c='C2', lw=2, label='Binned mean')\n",
    "math.plot_binned_rms(a.salt_phases, a.interpolation_result['gray_offsets'], c='C3', lw=2, label='Binned RMS')\n",
    "plt.xlabel('SALT2 Phase (days)')\n",
    "plt.ylabel('Gray offset (mag)')\n",
    "plt.legend()\n",
    "plt.savefig('./figures/gray_offset_vs_phase.pdf')"
   ]
  },
  {
   "cell_type": "code",
   "execution_count": 192,
   "metadata": {},
   "outputs": [
    {
     "name": "stdout",
     "output_type": "stream",
     "text": [
      "[ModifiedSpectrum(target=\"PTF09dnp\", name=\"PTF09dnp_P004498\")\n",
      " ModifiedSpectrum(target=\"PTF09fox\", name=\"PTF09fox_M004455\")\n",
      " ModifiedSpectrum(target=\"PTF09fox\", name=\"PTF09fox_M002596\")\n",
      " ModifiedSpectrum(target=\"PTF09fox\", name=\"PTF09fox_P000163\")\n",
      " ModifiedSpectrum(target=\"PTF09fox\", name=\"PTF09fox_P002071\")\n",
      " ModifiedSpectrum(target=\"PTF09fox\", name=\"PTF09fox_P002093\")\n",
      " ModifiedSpectrum(target=\"PTF09foz\", name=\"PTF09foz_M004182\")\n",
      " ModifiedSpectrum(target=\"PTF09foz\", name=\"PTF09foz_M002288\")\n",
      " ModifiedSpectrum(target=\"PTF09foz\", name=\"PTF09foz_P000521\")\n",
      " ModifiedSpectrum(target=\"PTF10hmv\", name=\"PTF10hmv_M002117\")]\n",
      "[ 0.03453738  0.06016092  0.04791748 -0.17384663 -0.04604238  0.01668082]\n"
     ]
    }
   ],
   "source": [
    "minloc = np.argmin(a.interpolation_result['gray_offsets'])\n",
    "print(a.spectra[minloc-5:minloc+5])\n",
    "print(a.interpolation_result['gray_offsets'][minloc-3:minloc+3])"
   ]
  },
  {
   "cell_type": "code",
   "execution_count": 191,
   "metadata": {},
   "outputs": [
    {
     "name": "stderr",
     "output_type": "stream",
     "text": [
      "/home/kboone/packages/conda/lib/python3.7/site-packages/matplotlib/pyplot.py:514: RuntimeWarning: More than 20 figures have been opened. Figures created through the pyplot interface (`matplotlib.pyplot.figure`) are retained until explicitly closed and may consume too much memory. (To control this warning, see the rcParam `figure.max_open_warning`).\n",
      "  max_open_warning, RuntimeWarning)\n"
     ]
    },
    {
     "data": {
      "application/vnd.jupyter.widget-view+json": {
       "model_id": "75c968504dfe4b45b50096e2b7057f7a",
       "version_major": 2,
       "version_minor": 0
      },
      "text/plain": [
       "FigureCanvasNbAgg()"
      ]
     },
     "metadata": {},
     "output_type": "display_data"
    },
    {
     "data": {
      "text/plain": [
       "[<matplotlib.lines.Line2D at 0x7f5f7b69bcc0>]"
      ]
     },
     "execution_count": 191,
     "metadata": {},
     "output_type": "execute_result"
    }
   ],
   "source": [
    "plt.figure()\n",
    "plt.plot(a.wave, -2.5*np.log10(a.spectra[minloc].flux / a.spectra[minloc-1].flux))"
   ]
  },
  {
   "cell_type": "markdown",
   "metadata": {},
   "source": [
    "## Interpolation uncertainty"
   ]
  },
  {
   "cell_type": "code",
   "execution_count": 45,
   "metadata": {},
   "outputs": [
    {
     "data": {
      "application/vnd.jupyter.widget-view+json": {
       "model_id": "9d49224ec48746a3b45223899560d82e",
       "version_major": 2,
       "version_minor": 0
      },
      "text/plain": [
       "FigureCanvasNbAgg()"
      ]
     },
     "metadata": {},
     "output_type": "display_data"
    },
    {
     "data": {
      "application/vnd.jupyter.widget-view+json": {
       "model_id": "26262e7b58614dc09f8cee0ce3a103b4",
       "version_major": 2,
       "version_minor": 0
      },
      "text/plain": [
       "FigureCanvasNbAgg()"
      ]
     },
     "metadata": {},
     "output_type": "display_data"
    }
   ],
   "source": [
    "try:\n",
    "    coefs = a.interpolation_result['phase_dispersion_coefficients']\n",
    "except KeyError:\n",
    "    coefs = a.stan_data['phase_dispersion_coefficients']\n",
    "num_phase_coefficients = len(coefs)\n",
    "\n",
    "def evaluate_phase_dispersion(phase):\n",
    "    phase_scale = np.abs((num_phase_coefficients / 2) * (phase / a.phase_width))\n",
    "    full_bins = int(np.floor(phase_scale))\n",
    "    remainder = phase_scale - full_bins\n",
    "    \n",
    "    phase_coefficients = np.zeros(num_phase_coefficients)\n",
    "    \n",
    "    for j in range(full_bins + 1):\n",
    "        if j == full_bins:\n",
    "            weight = remainder\n",
    "        else:\n",
    "            weight = 1\n",
    "            \n",
    "        if weight == 0:\n",
    "            break\n",
    "            \n",
    "        if phase > 0:\n",
    "            phase_bin = num_phase_coefficients // 2 + j\n",
    "        else:\n",
    "            phase_bin = num_phase_coefficients // 2 - 1 - j\n",
    "            \n",
    "        phase_coefficients[phase_bin] = weight\n",
    "        \n",
    "    fractional_dispersion = phase_coefficients.dot(coefs)\n",
    "    \n",
    "    # Convert to magnitudes\n",
    "    mag_dispersion = frac_to_mag(fractional_dispersion)\n",
    "    \n",
    "    return mag_dispersion\n",
    "\n",
    "phases = np.linspace(-a.phase_width, a.phase_width, 1 + num_phase_coefficients)\n",
    "\n",
    "eval_coefs = np.array([evaluate_phase_dispersion(phase) for phase in phases])\n",
    "\n",
    "# Uncertainties for different wavelengths\n",
    "plt.figure()\n",
    "num_wave = 10\n",
    "for i in range(num_wave):\n",
    "    min_wave = a.wave[0]\n",
    "    max_wave = a.wave[-1]\n",
    "    wave_range = max_wave - min_wave\n",
    "    target_wave = min_wave + wave_range * i / (num_wave - 1)\n",
    "    idx = np.argmin(np.abs(a.wave - target_wave))\n",
    "    use_wave = a.wave[idx]\n",
    "    color = plt.cm.rainbow((use_wave - min_wave) / wave_range)\n",
    "    plt.plot(phases, eval_coefs[:, idx], label='%d $\\AA$' % use_wave, c=color)\n",
    "    \n",
    "plt.xlim(-5.2, 5.2)\n",
    "plt.xlabel('Phase (days)')\n",
    "plt.ylabel('Interpolation uncertainty (mag)')\n",
    "plt.legend()\n",
    "plt.savefig('./figures/interpolation_uncertainty_phase.pdf')\n",
    "\n",
    "plt.figure()\n",
    "for i in range(len(phases)):\n",
    "    plt.plot(a.wave, eval_coefs[i], label='%.2f days' % phases[i])\n",
    "plt.legend()\n",
    "plt.xlabel('Wavelength $(\\AA$)')\n",
    "plt.ylabel('Interpolation uncertainty (mag)')\n",
    "plt.savefig('./figures/interpolation_uncertainty_wavelength.pdf')"
   ]
  },
  {
   "cell_type": "markdown",
   "metadata": {},
   "source": [
    "## Model accuracy"
   ]
  },
  {
   "cell_type": "code",
   "execution_count": 226,
   "metadata": {},
   "outputs": [
    {
     "name": "stderr",
     "output_type": "stream",
     "text": [
      "/home/kboone/packages/conda/lib/python3.7/site-packages/matplotlib/pyplot.py:514: RuntimeWarning: More than 20 figures have been opened. Figures created through the pyplot interface (`matplotlib.pyplot.figure`) are retained until explicitly closed and may consume too much memory. (To control this warning, see the rcParam `figure.max_open_warning`).\n",
      "  max_open_warning, RuntimeWarning)\n"
     ]
    },
    {
     "data": {
      "application/vnd.jupyter.widget-view+json": {
       "model_id": "e76bd7dc79e0455b97f5484bc3f995e6",
       "version_major": 2,
       "version_minor": 0
      },
      "text/plain": [
       "FigureCanvasNbAgg()"
      ]
     },
     "metadata": {},
     "output_type": "display_data"
    },
    {
     "name": "stderr",
     "output_type": "stream",
     "text": [
      "/home/kboone/packages/conda/lib/python3.7/site-packages/matplotlib/pyplot.py:514: RuntimeWarning: More than 20 figures have been opened. Figures created through the pyplot interface (`matplotlib.pyplot.figure`) are retained until explicitly closed and may consume too much memory. (To control this warning, see the rcParam `figure.max_open_warning`).\n",
      "  max_open_warning, RuntimeWarning)\n"
     ]
    },
    {
     "data": {
      "application/vnd.jupyter.widget-view+json": {
       "model_id": "5da13e4eb2884510a129267ea6513f83",
       "version_major": 2,
       "version_minor": 0
      },
      "text/plain": [
       "FigureCanvasNbAgg()"
      ]
     },
     "metadata": {},
     "output_type": "display_data"
    },
    {
     "name": "stderr",
     "output_type": "stream",
     "text": [
      "/home/kboone/packages/conda/lib/python3.7/site-packages/matplotlib/pyplot.py:514: RuntimeWarning: More than 20 figures have been opened. Figures created through the pyplot interface (`matplotlib.pyplot.figure`) are retained until explicitly closed and may consume too much memory. (To control this warning, see the rcParam `figure.max_open_warning`).\n",
      "  max_open_warning, RuntimeWarning)\n"
     ]
    },
    {
     "data": {
      "application/vnd.jupyter.widget-view+json": {
       "model_id": "9532f11e2ca64077abf77e41e48cc5d7",
       "version_major": 2,
       "version_minor": 0
      },
      "text/plain": [
       "FigureCanvasNbAgg()"
      ]
     },
     "metadata": {},
     "output_type": "display_data"
    },
    {
     "name": "stderr",
     "output_type": "stream",
     "text": [
      "/home/kboone/packages/conda/lib/python3.7/site-packages/matplotlib/pyplot.py:514: RuntimeWarning: More than 20 figures have been opened. Figures created through the pyplot interface (`matplotlib.pyplot.figure`) are retained until explicitly closed and may consume too much memory. (To control this warning, see the rcParam `figure.max_open_warning`).\n",
      "  max_open_warning, RuntimeWarning)\n"
     ]
    },
    {
     "data": {
      "application/vnd.jupyter.widget-view+json": {
       "model_id": "20a379322ad44afcaf977afde89ec52f",
       "version_major": 2,
       "version_minor": 0
      },
      "text/plain": [
       "FigureCanvasNbAgg()"
      ]
     },
     "metadata": {},
     "output_type": "display_data"
    }
   ],
   "source": [
    "max_flux = a.interpolation_result['maximum_flux']\n",
    "max_fluxerr = a.interpolation_result['maximum_fluxerr']\n",
    "\n",
    "max_magerr = frac_to_mag(max_fluxerr / max_flux)\n",
    "\n",
    "rbtl_dispersion = frac_to_mag(a.rbtl_result['fractional_dispersion'])\n",
    "\n",
    "def plot_uncertainties(show_rbtl=False):\n",
    "    plt.figure(figsize=(8, 5))\n",
    "    offset = 29\n",
    "    \n",
    "    # Make sure that we include the worst offender.\n",
    "    max_loc = np.argmax(np.sum(max_magerr**2, axis=1))\n",
    "    start = max_loc % offset\n",
    "    \n",
    "    for idx in range(start, len(a.targets), offset):\n",
    "        plt.plot(a.wave, max_magerr[idx], label=a.targets[idx].name)\n",
    "    plt.legend(ncol=2)\n",
    "    \n",
    "    plt.xlabel('Wavelength ($\\AA$)')\n",
    "    \n",
    "    if show_rbtl:\n",
    "        plt.plot(a.wave, rbtl_dispersion, label='Supernova intrinsic dispersion', c='k', lw=2, ls='--')\n",
    "        plt.ylabel('Dispersion (mag)')\n",
    "        path = './figures/interpolation_uncertainty_rbtl.pdf'\n",
    "    else:\n",
    "        plt.ylabel('Uncertainty on $f_{max}$ (mag)')\n",
    "        path = './figures/interpolation_uncertainty_norbtl.pdf'\n",
    "        \n",
    "    plt.legend(ncol=2)\n",
    "    plt.tight_layout()\n",
    "    plt.savefig(path)\n",
    "        \n",
    "plot_uncertainties(False)\n",
    "plot_uncertainties(True)\n",
    "\n",
    "\n",
    "plt.figure(figsize=(8, 5))\n",
    "for idx in range(len(a.targets)):\n",
    "    if idx == 0:\n",
    "        label = 'Individual uncertainties of $f_{max}$'\n",
    "    else:\n",
    "        label = ''\n",
    "    plt.plot(a.wave, max_magerr[idx], label=label, alpha=0.02, c='C0')\n",
    "plt.plot(a.wave, rbtl_dispersion, label='Supernova intrinsic dispersion', lw=2, ls='--', c='k')\n",
    "plt.plot(a.wave, np.median(max_magerr, axis=0), label='Median uncertainty on $f_{max}$', lw=2, ls='--', c='C0')\n",
    "plt.plot(a.wave, np.max(max_magerr, axis=0), label='Maximum uncertainty on $f_{max}$', c='C1')\n",
    "plt.legend()\n",
    "plt.ylabel('Dispersion (magnitude)')\n",
    "plt.xlabel('Wavelength ($\\AA$)')\n",
    "plt.tight_layout()\n",
    "plt.savefig('./figures/interpolation_uncertainty_median.pdf')\n",
    "\n",
    "plt.figure(figsize=(8, 5))\n",
    "plt.plot(a.wave, rbtl_dispersion, label='Supernova intrinsic dispersion', lw=2, ls='--', c='k')\n",
    "plt.plot(a.wave, np.min(max_magerr, axis=0), label='Lowest uncertainty on $f_{max}$')\n",
    "for percentile in (25, 50, 75):\n",
    "    plt.plot(a.wave, np.percentile(max_magerr, percentile, axis=0), label='%dth percentile uncertainty on $f_{max}$' % percentile)\n",
    "plt.plot(a.wave, np.max(max_magerr, axis=0), label='Highest uncertainty on $f_{max}$')\n",
    "plt.legend(ncol=2)\n",
    "plt.ylabel('Dispersion (magnitude)')\n",
    "plt.xlabel('Wavelength ($\\AA$)')\n",
    "plt.tight_layout()\n",
    "plt.savefig('./figures/interpolation_uncertainty_percentile.pdf')"
   ]
  },
  {
   "cell_type": "markdown",
   "metadata": {},
   "source": [
    "## Contribution to the total interpolation uncertainty from various sources"
   ]
  },
  {
   "cell_type": "code",
   "execution_count": 44,
   "metadata": {},
   "outputs": [
    {
     "data": {
      "text/plain": [
       "202"
      ]
     },
     "execution_count": 44,
     "metadata": {},
     "output_type": "execute_result"
    }
   ],
   "source": [
    "len(a.salt_x1)"
   ]
  },
  {
   "cell_type": "code",
   "execution_count": 145,
   "metadata": {},
   "outputs": [
    {
     "name": "stdout",
     "output_type": "stream",
     "text": [
      "-2.32898376265\n",
      "1.22872789967\n"
     ]
    },
    {
     "name": "stderr",
     "output_type": "stream",
     "text": [
      "/home/kboone/packages/conda/lib/python3.7/site-packages/matplotlib/pyplot.py:514: RuntimeWarning: More than 20 figures have been opened. Figures created through the pyplot interface (`matplotlib.pyplot.figure`) are retained until explicitly closed and may consume too much memory. (To control this warning, see the rcParam `figure.max_open_warning`).\n",
      "  max_open_warning, RuntimeWarning)\n"
     ]
    },
    {
     "data": {
      "application/vnd.jupyter.widget-view+json": {
       "model_id": "94704a9dc98e4f9fb716c94aa66e5b1c",
       "version_major": 2,
       "version_minor": 0
      },
      "text/plain": [
       "FigureCanvasNbAgg()"
      ]
     },
     "metadata": {},
     "output_type": "display_data"
    },
    {
     "name": "stdout",
     "output_type": "stream",
     "text": [
      "-2.32898376265\n",
      "1.22872789967\n"
     ]
    },
    {
     "name": "stderr",
     "output_type": "stream",
     "text": [
      "/home/kboone/packages/conda/lib/python3.7/site-packages/matplotlib/pyplot.py:514: RuntimeWarning: More than 20 figures have been opened. Figures created through the pyplot interface (`matplotlib.pyplot.figure`) are retained until explicitly closed and may consume too much memory. (To control this warning, see the rcParam `figure.max_open_warning`).\n",
      "  max_open_warning, RuntimeWarning)\n"
     ]
    },
    {
     "data": {
      "application/vnd.jupyter.widget-view+json": {
       "model_id": "cf8d20d34e304e099f5532d5210f562d",
       "version_major": 2,
       "version_minor": 0
      },
      "text/plain": [
       "FigureCanvasNbAgg()"
      ]
     },
     "metadata": {},
     "output_type": "display_data"
    },
    {
     "name": "stdout",
     "output_type": "stream",
     "text": [
      "-2.32898376265\n",
      "1.22872789967\n"
     ]
    },
    {
     "name": "stderr",
     "output_type": "stream",
     "text": [
      "/home/kboone/packages/conda/lib/python3.7/site-packages/matplotlib/pyplot.py:514: RuntimeWarning: More than 20 figures have been opened. Figures created through the pyplot interface (`matplotlib.pyplot.figure`) are retained until explicitly closed and may consume too much memory. (To control this warning, see the rcParam `figure.max_open_warning`).\n",
      "  max_open_warning, RuntimeWarning)\n"
     ]
    },
    {
     "data": {
      "application/vnd.jupyter.widget-view+json": {
       "model_id": "98ea7b544f3d44fbb258b1872f436db9",
       "version_major": 2,
       "version_minor": 0
      },
      "text/plain": [
       "FigureCanvasNbAgg()"
      ]
     },
     "metadata": {},
     "output_type": "display_data"
    },
    {
     "name": "stdout",
     "output_type": "stream",
     "text": [
      "Interpolation of 0.0-1.5 days:\n",
      "                 Raw: std=0.050, NMAD=0.037\n",
      "               Phase: std=0.045, NMAD=0.036\n",
      "          Phase + x1: std=0.045, NMAD=0.037\n",
      "        Phase + gray: std=0.033, NMAD=0.015\n",
      "   Phase + x1 + gray: std=0.032, NMAD=0.015\n",
      "\n",
      "Interpolation of 1.5-2.5 days:\n",
      "                 Raw: std=0.116, NMAD=0.084\n",
      "               Phase: std=0.078, NMAD=0.060\n",
      "          Phase + x1: std=0.076, NMAD=0.057\n",
      "        Phase + gray: std=0.061, NMAD=0.044\n",
      "   Phase + x1 + gray: std=0.059, NMAD=0.041\n",
      "\n",
      "Interpolation of 2.5-5.5 days:\n",
      "                 Raw: std=0.180, NMAD=0.126\n",
      "               Phase: std=0.094, NMAD=0.072\n",
      "          Phase + x1: std=0.086, NMAD=0.068\n",
      "        Phase + gray: std=0.082, NMAD=0.057\n",
      "   Phase + x1 + gray: std=0.074, NMAD=0.050\n",
      "\n",
      "Interpolation of 5.5-10.5 days:\n",
      "                 Raw: std=0.282, NMAD=0.196\n",
      "               Phase: std=0.143, NMAD=0.097\n",
      "          Phase + x1: std=0.142, NMAD=0.103\n",
      "        Phase + gray: std=0.133, NMAD=0.082\n",
      "   Phase + x1 + gray: std=0.131, NMAD=0.077\n",
      "\n"
     ]
    }
   ],
   "source": [
    "targets = []\n",
    "diffs = []\n",
    "phases_1 = []\n",
    "phases_2 = []\n",
    "x1s = []\n",
    "gray_differences = []\n",
    "\n",
    "gray_offsets = a.interpolation_result['gray_offsets']\n",
    "\n",
    "center_specs = a.spectra[a.center_mask]\n",
    "center_gray_offsets = gray_offsets[a.center_mask]\n",
    "for target_idx in range(len(a.targets)):\n",
    "    near_max_spec = center_specs[target_idx]\n",
    "    \n",
    "    target_mask = (a.target_map == target_idx) & (~a.center_mask)\n",
    "    target_specs = a.spectra[target_mask]\n",
    "    target_gray_offsets = gray_offsets[target_mask]\n",
    "    \n",
    "    for spec_idx, target_spec in enumerate(target_specs):\n",
    "        phase_diff = target_spec.phase - near_max_spec.phase\n",
    "        # if np.abs(phase_diff) < 1:\n",
    "            # continue\n",
    "\n",
    "        targets.append(a.targets[target_idx])\n",
    "        diff = -2.5*np.log10(target_spec.flux / near_max_spec.flux)\n",
    "        diffs.append(diff)\n",
    "        phases_1.append(near_max_spec.phase)\n",
    "        phases_2.append(target_spec.phase)\n",
    "        x1s.append(a.salt_x1[target_idx])\n",
    "        \n",
    "        gray_differences.append(target_gray_offsets[spec_idx] - center_gray_offsets[target_idx])\n",
    "\n",
    "targets = np.array(targets)\n",
    "diffs = np.array(diffs)\n",
    "phases_1 = np.array(phases_1)\n",
    "phases_2 = np.array(phases_2)\n",
    "x1s = np.array(x1s)\n",
    "gray_differences = np.array(gray_differences)\n",
    "\n",
    "phase_diffs = phases_2 - phases_1\n",
    "\n",
    "def plot_diffs(diffs):\n",
    "    sel_mask = np.zeros(len(diffs), dtype=bool)\n",
    "    sel_mask[4::50] = True\n",
    "    sel_mask[np.abs(phase_diffs) < 1] = False\n",
    "    \n",
    "    print(np.min(x1s[sel_mask]))\n",
    "    print(np.max(x1s[sel_mask]))\n",
    "    \n",
    "    plt.figure(figsize=(8, 5))\n",
    "    \n",
    "    for use_idx in np.where(sel_mask)[0]:\n",
    "        target = targets[use_idx]\n",
    "        phase_1 = phases_1[use_idx]\n",
    "        phase_2 = phases_2[use_idx]\n",
    "        \n",
    "        if phase_1 > phase_2:\n",
    "            phase_1, phase_2 = phase_2, phase_1\n",
    "        \n",
    "        label = '%s, %.1f to %.1f days' % (target, phase_1, phase_2)\n",
    "        \n",
    "        plt.plot(a.wave, diffs[use_idx] / phase_diffs[use_idx], alpha=0.5, label=label)\n",
    "        \n",
    "    plt.legend(ncol=2)\n",
    "\n",
    "    plt.ylim(-0.25, 0.25)\n",
    "    plt.xlabel('Wavelength ($\\AA$)')\n",
    "    plt.ylabel('Magnitudes per day')\n",
    "    plt.tight_layout()\n",
    "\n",
    "plot_diffs(diffs)\n",
    "plt.savefig('./figures/raw_phase_difference.pdf')\n",
    "\n",
    "residuals_no_x1 = []\n",
    "residuals_x1 = []\n",
    "for diff, phase_1, phase_2, x1 in zip(diffs, phases_1, phases_2, x1s):\n",
    "    model_no_x1 = evaluate_phase_difference(phase_2, 0) - evaluate_phase_difference(phase_1, 0)\n",
    "    model_x1 = evaluate_phase_difference(phase_2, x1) - evaluate_phase_difference(phase_1, x1)\n",
    "    residuals_no_x1.append(diff - model_no_x1)\n",
    "    residuals_x1.append(diff - model_x1)\n",
    "    \n",
    "residuals_no_x1 = np.array(residuals_no_x1)\n",
    "residuals_x1 = np.array(residuals_x1)\n",
    "\n",
    "residuals_gray_no_x1 = residuals_no_x1 - gray_differences[:, None]\n",
    "residuals_gray_x1 = residuals_x1 - gray_differences[:, None]\n",
    "\n",
    "plot_diffs(residuals_gray_no_x1)\n",
    "plt.savefig('./figures/corr_phase_difference_no_x1.pdf')\n",
    "\n",
    "plot_diffs(residuals_gray_x1)\n",
    "plt.savefig('./figures/corr_phase_difference_x1.pdf')\n",
    "\n",
    "def print_interpolation_residuals(min_days, max_days):\n",
    "    cut = (np.abs(phase_diffs) < max_days) & (np.abs(phase_diffs) > min_days)\n",
    "\n",
    "    def do_print(label, vals, cut):\n",
    "        cut_vals = vals[cut]\n",
    "        print('%20s: std=%.3f, NMAD=%.3f' % (label, math.rms(cut_vals), math.nmad(cut_vals)))\n",
    "\n",
    "    print(\"Interpolation of %.1f-%.1f days:\" % (min_days, max_days))\n",
    "    do_print('Raw', diffs, cut)    \n",
    "    do_print('Phase', residuals_no_x1, cut)    \n",
    "    do_print('Phase + x1', residuals_x1, cut)    \n",
    "    do_print('Phase + gray', residuals_gray_no_x1, cut)    \n",
    "    do_print('Phase + x1 + gray', residuals_gray_x1, cut)    \n",
    "    print(\"\")\n",
    "    \n",
    "print_interpolation_residuals(0., 1.5)\n",
    "print_interpolation_residuals(1.5, 2.5)\n",
    "print_interpolation_residuals(2.5, 5.5)\n",
    "print_interpolation_residuals(5.5, 10.5)"
   ]
  },
  {
   "cell_type": "code",
   "execution_count": 55,
   "metadata": {},
   "outputs": [
    {
     "data": {
      "text/plain": [
       "129.74659428623275"
      ]
     },
     "execution_count": 55,
     "metadata": {},
     "output_type": "execute_result"
    }
   ],
   "source": [
    "np.mean(a.flux / a.fluxerr)"
   ]
  },
  {
   "cell_type": "markdown",
   "metadata": {},
   "source": [
    "# Reading between the lines plots"
   ]
  },
  {
   "cell_type": "markdown",
   "metadata": {},
   "source": [
    "## Show spectra before and after"
   ]
  },
  {
   "cell_type": "code",
   "execution_count": 229,
   "metadata": {},
   "outputs": [
    {
     "name": "stderr",
     "output_type": "stream",
     "text": [
      "/home/kboone/packages/conda/lib/python3.7/site-packages/matplotlib/pyplot.py:514: RuntimeWarning: More than 20 figures have been opened. Figures created through the pyplot interface (`matplotlib.pyplot.figure`) are retained until explicitly closed and may consume too much memory. (To control this warning, see the rcParam `figure.max_open_warning`).\n",
      "  max_open_warning, RuntimeWarning)\n"
     ]
    },
    {
     "data": {
      "application/vnd.jupyter.widget-view+json": {
       "model_id": "55840e16ccba40c99e2f12a6293f053a",
       "version_major": 2,
       "version_minor": 0
      },
      "text/plain": [
       "FigureCanvasNbAgg()"
      ]
     },
     "metadata": {},
     "output_type": "display_data"
    },
    {
     "name": "stderr",
     "output_type": "stream",
     "text": [
      "/home/kboone/packages/conda/lib/python3.7/site-packages/matplotlib/pyplot.py:514: RuntimeWarning: More than 20 figures have been opened. Figures created through the pyplot interface (`matplotlib.pyplot.figure`) are retained until explicitly closed and may consume too much memory. (To control this warning, see the rcParam `figure.max_open_warning`).\n",
      "  max_open_warning, RuntimeWarning)\n"
     ]
    },
    {
     "data": {
      "application/vnd.jupyter.widget-view+json": {
       "model_id": "f8e82afaa40a4aad96751f5c14023712",
       "version_major": 2,
       "version_minor": 0
      },
      "text/plain": [
       "FigureCanvasNbAgg()"
      ]
     },
     "metadata": {},
     "output_type": "display_data"
    },
    {
     "name": "stderr",
     "output_type": "stream",
     "text": [
      "/home/kboone/packages/conda/lib/python3.7/site-packages/matplotlib/pyplot.py:514: RuntimeWarning: More than 20 figures have been opened. Figures created through the pyplot interface (`matplotlib.pyplot.figure`) are retained until explicitly closed and may consume too much memory. (To control this warning, see the rcParam `figure.max_open_warning`).\n",
      "  max_open_warning, RuntimeWarning)\n"
     ]
    },
    {
     "data": {
      "application/vnd.jupyter.widget-view+json": {
       "model_id": "8299121c8eaa4e048c7e83e2e0e01efd",
       "version_major": 2,
       "version_minor": 0
      },
      "text/plain": [
       "FigureCanvasNbAgg()"
      ]
     },
     "metadata": {},
     "output_type": "display_data"
    },
    {
     "name": "stderr",
     "output_type": "stream",
     "text": [
      "/home/kboone/packages/conda/lib/python3.7/site-packages/matplotlib/pyplot.py:514: RuntimeWarning: More than 20 figures have been opened. Figures created through the pyplot interface (`matplotlib.pyplot.figure`) are retained until explicitly closed and may consume too much memory. (To control this warning, see the rcParam `figure.max_open_warning`).\n",
      "  max_open_warning, RuntimeWarning)\n"
     ]
    },
    {
     "data": {
      "application/vnd.jupyter.widget-view+json": {
       "model_id": "d6c9834a20d7432380313b1be7f6287c",
       "version_major": 2,
       "version_minor": 0
      },
      "text/plain": [
       "FigureCanvasNbAgg()"
      ]
     },
     "metadata": {},
     "output_type": "display_data"
    }
   ],
   "source": [
    "plt.figure(figsize=(8, 5))\n",
    "plt.plot(a.wave, a.maximum_flux[a.interp_mask][0], alpha=1, lw=0.5, label='Individual spectra')\n",
    "plt.plot(a.wave, a.maximum_flux[a.interp_mask][1:].T, lw=0.5)\n",
    "plt.xlabel('Wavelength ($\\AA$)')\n",
    "plt.ylabel('Flux (arbitrary units)')\n",
    "plt.legend()\n",
    "plt.tight_layout()\n",
    "plt.savefig('./figures/spectra_at_maximum.pdf')\n",
    "\n",
    "plt.figure(figsize=(8, 5))\n",
    "plt.plot(a.wave, a.scale_flux[a.interp_mask][0], alpha=1, lw=0.5, label='Individual spectra')\n",
    "plt.plot(a.wave, a.scale_flux[a.interp_mask][1:].T, alpha=1., lw=0.5)\n",
    "plt.plot(a.wave, a.mean_flux, c='k', lw=2, ls='--', label='Mean spectrum')\n",
    "plt.legend()\n",
    "plt.xlabel('Wavelength ($\\AA$)')\n",
    "plt.ylabel('Flux (arbitrary units)')\n",
    "plt.tight_layout()\n",
    "plt.savefig('./figures/scale_spectra.pdf')\n",
    "\n",
    "plt.figure(figsize=(8, 5))\n",
    "fractional_dispersion = a.rbtl_result['fractional_dispersion']\n",
    "plt.plot(a.wave, a.mean_flux, c='k', lw=2, ls='--', label='Mean spectrum')\n",
    "plt.fill_between(a.wave, a.mean_flux * (1 - fractional_dispersion), a.mean_flux * (1 + fractional_dispersion), label='Supernova intrinsic dispersion', alpha=0.5)\n",
    "plt.legend()\n",
    "plt.xlabel('Wavelength ($\\AA$)')\n",
    "plt.ylabel('Flux (arbitrary units)')\n",
    "plt.tight_layout()\n",
    "plt.savefig('./figures/scale_spectra_model.pdf')\n",
    "\n",
    "plt.figure(figsize=(8, 5))\n",
    "intrinsic_dispersion = frac_to_mag(a.rbtl_result['fractional_dispersion'])\n",
    "plt.plot(a.wave, intrinsic_dispersion, c='k', lw=2, label='Supernova intrinsic dispersion')\n",
    "plt.legend()\n",
    "plt.xlabel('Wavelength ($\\AA$)')\n",
    "plt.ylabel('Intrinsic dispersion (mag)')\n",
    "plt.tight_layout()\n",
    "plt.savefig('./figures/rbtl_intrinsic_dispersion.pdf')"
   ]
  },
  {
   "cell_type": "markdown",
   "metadata": {},
   "source": [
    "## Magnitudes"
   ]
  },
  {
   "cell_type": "code",
   "execution_count": 271,
   "metadata": {},
   "outputs": [
    {
     "name": "stderr",
     "output_type": "stream",
     "text": [
      "/home/kboone/packages/conda/lib/python3.7/site-packages/matplotlib/pyplot.py:514: RuntimeWarning: More than 20 figures have been opened. Figures created through the pyplot interface (`matplotlib.pyplot.figure`) are retained until explicitly closed and may consume too much memory. (To control this warning, see the rcParam `figure.max_open_warning`).\n",
      "  max_open_warning, RuntimeWarning)\n"
     ]
    },
    {
     "data": {
      "application/vnd.jupyter.widget-view+json": {
       "model_id": "4256130235b44fdbb6bae4ac5fbba66f",
       "version_major": 2,
       "version_minor": 0
      },
      "text/plain": [
       "FigureCanvasNbAgg()"
      ]
     },
     "metadata": {},
     "output_type": "display_data"
    }
   ],
   "source": [
    "plt.figure(figsize=spec_figsize)\n",
    "\n",
    "plt.scatter(a.redshifts[a.interp_mask], a.mags[a.interp_mask], s=15, c='C3', label='Supernovae rejected by cuts')\n",
    "plt.scatter(a.redshifts[a.good_mag_mask], a.mags[a.good_mag_mask], s=15, c='C0', label='Supernovae passing cuts')\n",
    "\n",
    "z_range = np.linspace(0.001, 0.09, 100)\n",
    "pec_vel_disp = 0.00217 / z_range\n",
    "plt.fill_between(z_range, -pec_vel_disp, pec_vel_disp, alpha=0.2, label='Peculiar velocity dispersion')\n",
    "plt.axvline(0.02, lw=1, ls='--', c='k', label='Redshift cutoff')\n",
    "\n",
    "plt.xlim(0.001, 0.09)\n",
    "plt.ylim(-1, 1.5)\n",
    "plt.xlabel('Redshift')\n",
    "plt.ylabel('RBTL measured magnitude')\n",
    "plt.legend()\n",
    "plt.tight_layout()\n",
    "plt.savefig('./figures/rbtl_magnitude.pdf')"
   ]
  },
  {
   "cell_type": "code",
   "execution_count": 272,
   "metadata": {},
   "outputs": [
    {
     "name": "stderr",
     "output_type": "stream",
     "text": [
      "/home/kboone/packages/conda/lib/python3.7/site-packages/matplotlib/pyplot.py:514: RuntimeWarning: More than 20 figures have been opened. Figures created through the pyplot interface (`matplotlib.pyplot.figure`) are retained until explicitly closed and may consume too much memory. (To control this warning, see the rcParam `figure.max_open_warning`).\n",
      "  max_open_warning, RuntimeWarning)\n"
     ]
    },
    {
     "data": {
      "application/vnd.jupyter.widget-view+json": {
       "model_id": "ad224677906f4e81847f0211c3e442fa",
       "version_major": 2,
       "version_minor": 0
      },
      "text/plain": [
       "FigureCanvasNbAgg()"
      ]
     },
     "metadata": {},
     "output_type": "display_data"
    }
   ],
   "source": [
    "plt.figure(figsize=spec_figsize)\n",
    "\n",
    "plt.scatter(a.redshifts[a.good_mag_mask], a.mags[a.good_mag_mask], s=15, c='C0', label='Supernovae passing cuts')\n",
    "plt.xlabel('Redshift')\n",
    "plt.ylabel('RBTL measured magnitude')\n",
    "\n",
    "\n",
    "z_range = np.linspace(0.001, 0.09, 100)\n",
    "pec_vel_disp = 0.00217 / z_range\n",
    "plt.fill_between(z_range, -pec_vel_disp, pec_vel_disp, alpha=0.2, label='Peculiar velocity dispersion')\n",
    "\n",
    "plt.legend()\n",
    "plt.tight_layout()\n",
    "plt.xlim(0.01, 0.09)\n",
    "plt.ylim(-0.5, 0.5)\n",
    "plt.savefig('./figures/rbtl_magnitude_cut.pdf')"
   ]
  },
  {
   "cell_type": "code",
   "execution_count": 273,
   "metadata": {},
   "outputs": [
    {
     "name": "stdout",
     "output_type": "stream",
     "text": [
      "Raw RBTL mag std:  0.123 mag\n",
      "Raw RBTL mag NMAD: 0.112 mag\n"
     ]
    }
   ],
   "source": [
    "print(\"Raw RBTL mag std:  %.3f mag\" % np.std(a.mags[a.good_mag_mask]))\n",
    "print(\"Raw RBTL mag NMAD: %.3f mag\" % math.nmad(a.mags[a.good_mag_mask]))"
   ]
  },
  {
   "cell_type": "code",
   "execution_count": 294,
   "metadata": {},
   "outputs": [
    {
     "name": "stderr",
     "output_type": "stream",
     "text": [
      "/home/kboone/packages/conda/lib/python3.7/site-packages/matplotlib/pyplot.py:514: RuntimeWarning: More than 20 figures have been opened. Figures created through the pyplot interface (`matplotlib.pyplot.figure`) are retained until explicitly closed and may consume too much memory. (To control this warning, see the rcParam `figure.max_open_warning`).\n",
      "  max_open_warning, RuntimeWarning)\n"
     ]
    },
    {
     "data": {
      "application/vnd.jupyter.widget-view+json": {
       "model_id": "48d856b4b85349eb8124a1b894aeba00",
       "version_major": 2,
       "version_minor": 0
      },
      "text/plain": [
       "FigureCanvasNbAgg()"
      ]
     },
     "metadata": {},
     "output_type": "display_data"
    }
   ],
   "source": [
    "plt.figure(figsize=spec_figsize)\n",
    "\n",
    "plt.scatter(a.redshifts[a.good_mag_mask], a.corr_mags[a.good_mag_mask], s=15, c='C0', label='Supernovae passing cuts')\n",
    "plt.xlabel('Redshift')\n",
    "plt.ylabel('RBTL measured magnitude')\n",
    "\n",
    "\n",
    "z_range = np.linspace(0.001, 0.09, 100)\n",
    "pec_vel_disp = 0.00217 / z_range\n",
    "plt.fill_between(z_range, -pec_vel_disp, pec_vel_disp, alpha=0.2, label='Peculiar velocity dispersion')\n",
    "\n",
    "plt.legend()\n",
    "plt.tight_layout()\n",
    "plt.xlim(0.01, 0.09)\n",
    "plt.ylim(-0.5, 0.5)\n",
    "plt.savefig('./figures/rbtl_magnitude_cut.pdf')"
   ]
  },
  {
   "cell_type": "markdown",
   "metadata": {},
   "source": [
    "# Manifold learning plots"
   ]
  },
  {
   "cell_type": "markdown",
   "metadata": {},
   "source": [
    "## Reconstruction uncertainty"
   ]
  },
  {
   "cell_type": "code",
   "execution_count": 739,
   "metadata": {},
   "outputs": [
    {
     "name": "stdout",
     "output_type": "stream",
     "text": [
      "[1.         0.62284067 0.30493579 0.10871492 0.0968748  0.07069073\n",
      " 0.06639156 0.04895932 0.04520822 0.03151806]\n",
      "[1.         0.38379656 0.15818006 0.05338344 0.04540936 0.032073\n",
      " 0.02924161 0.02110855 0.01911863 0.01315371]\n"
     ]
    },
    {
     "name": "stderr",
     "output_type": "stream",
     "text": [
      "/home/kboone/packages/conda/lib/python3.7/site-packages/matplotlib/pyplot.py:514: RuntimeWarning: More than 20 figures have been opened. Figures created through the pyplot interface (`matplotlib.pyplot.figure`) are retained until explicitly closed and may consume too much memory. (To control this warning, see the rcParam `figure.max_open_warning`).\n",
      "  max_open_warning, RuntimeWarning)\n"
     ]
    },
    {
     "data": {
      "application/vnd.jupyter.widget-view+json": {
       "model_id": "28cda493346240dca032e6d2b20fd449",
       "version_major": 2,
       "version_minor": 0
      },
      "text/plain": [
       "FigureCanvasNbAgg()"
      ]
     },
     "metadata": {},
     "output_type": "display_data"
    }
   ],
   "source": [
    "# Note: the total variance isn't defined for Isomap. The variances of the transfomed components\n",
    "# do map onto the variance of real components though. We provide a very rough estimate of the\n",
    "# measurement variance for comparison purposes... not sure how much it can be trusted...\n",
    "\n",
    "num_show = 5\n",
    "\n",
    "# Do an initial embedding with as many components as possible to get the full variance.\n",
    "a.do_embedding(n_components=None)\n",
    "variances = np.var(a.trans[a.interp_mask], axis=0)\n",
    "\n",
    "ref_var = np.sum(variances[:10])\n",
    "\n",
    "plot_ref = variances[0]\n",
    "\n",
    "print(variances[:10] / plot_ref)\n",
    "print(variances[:10] / np.cumsum(variances[:10]))\n",
    "\n",
    "plt.figure()\n",
    "plt.scatter(np.arange(num_show), variances[:num_show] / plot_ref, label='Contributed variance of each component')\n",
    "plt.axhline(0.1 * ref_var / plot_ref, label='Approximate measurement variance cut', ls='--', c='C3')\n",
    "plt.axhline(np.mean(a.interp_power_fraction[a.interp_mask]) * ref_var / plot_ref, label='Approximate mean measurement variance', ls='--', c='C2')\n",
    "plt.ylim(0, None)\n",
    "plt.xlabel('Component number')\n",
    "plt.ylabel('Relative variance (Normalized to Component 1)')\n",
    "plt.xticks(np.arange(num_show), np.arange(num_show) + 1)\n",
    "plt.legend()\n",
    "plt.tight_layout()\n",
    "\n",
    "plt.savefig('./figures/isomap_component_variance.pdf')"
   ]
  },
  {
   "cell_type": "markdown",
   "metadata": {},
   "source": [
    "## Twin reconstruction"
   ]
  },
  {
   "cell_type": "code",
   "execution_count": 12,
   "metadata": {},
   "outputs": [
    {
     "data": {
      "application/vnd.jupyter.widget-view+json": {
       "model_id": "b2261081711743b7986c6d9821e5ae89",
       "version_major": 2,
       "version_minor": 0
      },
      "text/plain": [
       "FigureCanvasNbAgg()"
      ]
     },
     "metadata": {},
     "output_type": "display_data"
    },
    {
     "data": {
      "text/html": [
       "<div>\n",
       "<style scoped>\n",
       "    .dataframe tbody tr th:only-of-type {\n",
       "        vertical-align: middle;\n",
       "    }\n",
       "\n",
       "    .dataframe tbody tr th {\n",
       "        vertical-align: top;\n",
       "    }\n",
       "\n",
       "    .dataframe thead th {\n",
       "        text-align: right;\n",
       "    }\n",
       "</style>\n",
       "<table border=\"1\" class=\"dataframe\">\n",
       "  <thead>\n",
       "    <tr style=\"text-align: right;\">\n",
       "      <th></th>\n",
       "      <th>To Best 10% of spectral twinness</th>\n",
       "      <th>To 10-20%</th>\n",
       "      <th>To 20-50%</th>\n",
       "      <th>To Worst 50% of spectral twinness</th>\n",
       "    </tr>\n",
       "  </thead>\n",
       "  <tbody>\n",
       "    <tr>\n",
       "      <th>From Best 10% of spectral twinness</th>\n",
       "      <td>0.299492</td>\n",
       "      <td>0.271574</td>\n",
       "      <td>0.421954</td>\n",
       "      <td>0.006980</td>\n",
       "    </tr>\n",
       "    <tr>\n",
       "      <th>From 10-20%</th>\n",
       "      <td>0.162540</td>\n",
       "      <td>0.186667</td>\n",
       "      <td>0.557460</td>\n",
       "      <td>0.093333</td>\n",
       "    </tr>\n",
       "    <tr>\n",
       "      <th>From 20-50%</th>\n",
       "      <td>0.112381</td>\n",
       "      <td>0.105185</td>\n",
       "      <td>0.419259</td>\n",
       "      <td>0.363175</td>\n",
       "    </tr>\n",
       "    <tr>\n",
       "      <th>From Worst 50% of spectral twinness</th>\n",
       "      <td>0.040249</td>\n",
       "      <td>0.045201</td>\n",
       "      <td>0.152489</td>\n",
       "      <td>0.762062</td>\n",
       "    </tr>\n",
       "  </tbody>\n",
       "</table>\n",
       "</div>"
      ],
      "text/plain": [
       "                                     To Best 10% of spectral twinness  \\\n",
       "From Best 10% of spectral twinness                           0.299492   \n",
       "From 10-20%                                                  0.162540   \n",
       "From 20-50%                                                  0.112381   \n",
       "From Worst 50% of spectral twinness                          0.040249   \n",
       "\n",
       "                                     To 10-20%  To 20-50%  \\\n",
       "From Best 10% of spectral twinness    0.271574   0.421954   \n",
       "From 10-20%                           0.186667   0.557460   \n",
       "From 20-50%                           0.105185   0.419259   \n",
       "From Worst 50% of spectral twinness   0.045201   0.152489   \n",
       "\n",
       "                                     To Worst 50% of spectral twinness  \n",
       "From Best 10% of spectral twinness                            0.006980  \n",
       "From 10-20%                                                   0.093333  \n",
       "From 20-50%                                                   0.363175  \n",
       "From Worst 50% of spectral twinness                           0.762062  "
      ]
     },
     "metadata": {},
     "output_type": "display_data"
    },
    {
     "data": {
      "application/vnd.jupyter.widget-view+json": {
       "model_id": "af9179e2f50a432c898885fe703df2a2",
       "version_major": 2,
       "version_minor": 0
      },
      "text/plain": [
       "FigureCanvasNbAgg()"
      ]
     },
     "metadata": {},
     "output_type": "display_data"
    },
    {
     "data": {
      "text/html": [
       "<div>\n",
       "<style scoped>\n",
       "    .dataframe tbody tr th:only-of-type {\n",
       "        vertical-align: middle;\n",
       "    }\n",
       "\n",
       "    .dataframe tbody tr th {\n",
       "        vertical-align: top;\n",
       "    }\n",
       "\n",
       "    .dataframe thead th {\n",
       "        text-align: right;\n",
       "    }\n",
       "</style>\n",
       "<table border=\"1\" class=\"dataframe\">\n",
       "  <thead>\n",
       "    <tr style=\"text-align: right;\">\n",
       "      <th></th>\n",
       "      <th>To Best 10% of spectral twinness</th>\n",
       "      <th>To 10-20%</th>\n",
       "      <th>To 20-50%</th>\n",
       "      <th>To Worst 50% of spectral twinness</th>\n",
       "    </tr>\n",
       "  </thead>\n",
       "  <tbody>\n",
       "    <tr>\n",
       "      <th>From Best 10% of spectral twinness</th>\n",
       "      <td>0.592005</td>\n",
       "      <td>0.296320</td>\n",
       "      <td>0.111675</td>\n",
       "      <td>0.000000</td>\n",
       "    </tr>\n",
       "    <tr>\n",
       "      <th>From 10-20%</th>\n",
       "      <td>0.187302</td>\n",
       "      <td>0.312381</td>\n",
       "      <td>0.496508</td>\n",
       "      <td>0.003810</td>\n",
       "    </tr>\n",
       "    <tr>\n",
       "      <th>From 20-50%</th>\n",
       "      <td>0.055873</td>\n",
       "      <td>0.111111</td>\n",
       "      <td>0.597460</td>\n",
       "      <td>0.235556</td>\n",
       "    </tr>\n",
       "    <tr>\n",
       "      <th>From Worst 50% of spectral twinness</th>\n",
       "      <td>0.010665</td>\n",
       "      <td>0.011554</td>\n",
       "      <td>0.119858</td>\n",
       "      <td>0.857796</td>\n",
       "    </tr>\n",
       "  </tbody>\n",
       "</table>\n",
       "</div>"
      ],
      "text/plain": [
       "                                     To Best 10% of spectral twinness  \\\n",
       "From Best 10% of spectral twinness                           0.592005   \n",
       "From 10-20%                                                  0.187302   \n",
       "From 20-50%                                                  0.055873   \n",
       "From Worst 50% of spectral twinness                          0.010665   \n",
       "\n",
       "                                     To 10-20%  To 20-50%  \\\n",
       "From Best 10% of spectral twinness    0.296320   0.111675   \n",
       "From 10-20%                           0.312381   0.496508   \n",
       "From 20-50%                           0.111111   0.597460   \n",
       "From Worst 50% of spectral twinness   0.011554   0.119858   \n",
       "\n",
       "                                     To Worst 50% of spectral twinness  \n",
       "From Best 10% of spectral twinness                            0.000000  \n",
       "From 10-20%                                                   0.003810  \n",
       "From 20-50%                                                   0.235556  \n",
       "From Worst 50% of spectral twinness                           0.857796  "
      ]
     },
     "metadata": {},
     "output_type": "display_data"
    },
    {
     "data": {
      "application/vnd.jupyter.widget-view+json": {
       "model_id": "bfe3d5fd8f674d7aad71411e57b6f678",
       "version_major": 2,
       "version_minor": 0
      },
      "text/plain": [
       "FigureCanvasNbAgg()"
      ]
     },
     "metadata": {},
     "output_type": "display_data"
    },
    {
     "data": {
      "text/html": [
       "<div>\n",
       "<style scoped>\n",
       "    .dataframe tbody tr th:only-of-type {\n",
       "        vertical-align: middle;\n",
       "    }\n",
       "\n",
       "    .dataframe tbody tr th {\n",
       "        vertical-align: top;\n",
       "    }\n",
       "\n",
       "    .dataframe thead th {\n",
       "        text-align: right;\n",
       "    }\n",
       "</style>\n",
       "<table border=\"1\" class=\"dataframe\">\n",
       "  <thead>\n",
       "    <tr style=\"text-align: right;\">\n",
       "      <th></th>\n",
       "      <th>To Best 10% of spectral twinness</th>\n",
       "      <th>To 10-20%</th>\n",
       "      <th>To 20-50%</th>\n",
       "      <th>To Worst 50% of spectral twinness</th>\n",
       "    </tr>\n",
       "  </thead>\n",
       "  <tbody>\n",
       "    <tr>\n",
       "      <th>From Best 10% of spectral twinness</th>\n",
       "      <td>0.727157</td>\n",
       "      <td>0.236041</td>\n",
       "      <td>0.036802</td>\n",
       "      <td>0.000000</td>\n",
       "    </tr>\n",
       "    <tr>\n",
       "      <th>From 10-20%</th>\n",
       "      <td>0.198730</td>\n",
       "      <td>0.426667</td>\n",
       "      <td>0.374603</td>\n",
       "      <td>0.000000</td>\n",
       "    </tr>\n",
       "    <tr>\n",
       "      <th>From 20-50%</th>\n",
       "      <td>0.023069</td>\n",
       "      <td>0.106878</td>\n",
       "      <td>0.703069</td>\n",
       "      <td>0.166984</td>\n",
       "    </tr>\n",
       "    <tr>\n",
       "      <th>From Worst 50% of spectral twinness</th>\n",
       "      <td>0.001016</td>\n",
       "      <td>0.003301</td>\n",
       "      <td>0.095861</td>\n",
       "      <td>0.899822</td>\n",
       "    </tr>\n",
       "  </tbody>\n",
       "</table>\n",
       "</div>"
      ],
      "text/plain": [
       "                                     To Best 10% of spectral twinness  \\\n",
       "From Best 10% of spectral twinness                           0.727157   \n",
       "From 10-20%                                                  0.198730   \n",
       "From 20-50%                                                  0.023069   \n",
       "From Worst 50% of spectral twinness                          0.001016   \n",
       "\n",
       "                                     To 10-20%  To 20-50%  \\\n",
       "From Best 10% of spectral twinness    0.236041   0.036802   \n",
       "From 10-20%                           0.426667   0.374603   \n",
       "From 20-50%                           0.106878   0.703069   \n",
       "From Worst 50% of spectral twinness   0.003301   0.095861   \n",
       "\n",
       "                                     To Worst 50% of spectral twinness  \n",
       "From Best 10% of spectral twinness                            0.000000  \n",
       "From 10-20%                                                   0.000000  \n",
       "From 20-50%                                                   0.166984  \n",
       "From Worst 50% of spectral twinness                           0.899822  "
      ]
     },
     "metadata": {},
     "output_type": "display_data"
    },
    {
     "data": {
      "application/vnd.jupyter.widget-view+json": {
       "model_id": "cffebf00c18a43f1a74497b13fea47ee",
       "version_major": 2,
       "version_minor": 0
      },
      "text/plain": [
       "FigureCanvasNbAgg()"
      ]
     },
     "metadata": {},
     "output_type": "display_data"
    },
    {
     "data": {
      "text/html": [
       "<div>\n",
       "<style scoped>\n",
       "    .dataframe tbody tr th:only-of-type {\n",
       "        vertical-align: middle;\n",
       "    }\n",
       "\n",
       "    .dataframe tbody tr th {\n",
       "        vertical-align: top;\n",
       "    }\n",
       "\n",
       "    .dataframe thead th {\n",
       "        text-align: right;\n",
       "    }\n",
       "</style>\n",
       "<table border=\"1\" class=\"dataframe\">\n",
       "  <thead>\n",
       "    <tr style=\"text-align: right;\">\n",
       "      <th></th>\n",
       "      <th>To Best 10% of spectral twinness</th>\n",
       "      <th>To 10-20%</th>\n",
       "      <th>To 20-50%</th>\n",
       "      <th>To Worst 50% of spectral twinness</th>\n",
       "    </tr>\n",
       "  </thead>\n",
       "  <tbody>\n",
       "    <tr>\n",
       "      <th>From Best 10% of spectral twinness</th>\n",
       "      <td>0.750000</td>\n",
       "      <td>0.224619</td>\n",
       "      <td>0.025381</td>\n",
       "      <td>0.000000</td>\n",
       "    </tr>\n",
       "    <tr>\n",
       "      <th>From 10-20%</th>\n",
       "      <td>0.189841</td>\n",
       "      <td>0.455238</td>\n",
       "      <td>0.354921</td>\n",
       "      <td>0.000000</td>\n",
       "    </tr>\n",
       "    <tr>\n",
       "      <th>From 20-50%</th>\n",
       "      <td>0.017989</td>\n",
       "      <td>0.102434</td>\n",
       "      <td>0.725503</td>\n",
       "      <td>0.154074</td>\n",
       "    </tr>\n",
       "    <tr>\n",
       "      <th>From Worst 50% of spectral twinness</th>\n",
       "      <td>0.001270</td>\n",
       "      <td>0.002539</td>\n",
       "      <td>0.088624</td>\n",
       "      <td>0.907567</td>\n",
       "    </tr>\n",
       "  </tbody>\n",
       "</table>\n",
       "</div>"
      ],
      "text/plain": [
       "                                     To Best 10% of spectral twinness  \\\n",
       "From Best 10% of spectral twinness                           0.750000   \n",
       "From 10-20%                                                  0.189841   \n",
       "From 20-50%                                                  0.017989   \n",
       "From Worst 50% of spectral twinness                          0.001270   \n",
       "\n",
       "                                     To 10-20%  To 20-50%  \\\n",
       "From Best 10% of spectral twinness    0.224619   0.025381   \n",
       "From 10-20%                           0.455238   0.354921   \n",
       "From 20-50%                           0.102434   0.725503   \n",
       "From Worst 50% of spectral twinness   0.002539   0.088624   \n",
       "\n",
       "                                     To Worst 50% of spectral twinness  \n",
       "From Best 10% of spectral twinness                            0.000000  \n",
       "From 10-20%                                                   0.000000  \n",
       "From 20-50%                                                   0.154074  \n",
       "From Worst 50% of spectral twinness                           0.907567  "
      ]
     },
     "metadata": {},
     "output_type": "display_data"
    },
    {
     "data": {
      "application/vnd.jupyter.widget-view+json": {
       "model_id": "49a5d9d6f38c49e4be8b3d6be5d98121",
       "version_major": 2,
       "version_minor": 0
      },
      "text/plain": [
       "FigureCanvasNbAgg()"
      ]
     },
     "metadata": {},
     "output_type": "display_data"
    },
    {
     "data": {
      "text/html": [
       "<div>\n",
       "<style scoped>\n",
       "    .dataframe tbody tr th:only-of-type {\n",
       "        vertical-align: middle;\n",
       "    }\n",
       "\n",
       "    .dataframe tbody tr th {\n",
       "        vertical-align: top;\n",
       "    }\n",
       "\n",
       "    .dataframe thead th {\n",
       "        text-align: right;\n",
       "    }\n",
       "</style>\n",
       "<table border=\"1\" class=\"dataframe\">\n",
       "  <thead>\n",
       "    <tr style=\"text-align: right;\">\n",
       "      <th></th>\n",
       "      <th>To Best 10% of spectral twinness</th>\n",
       "      <th>To 10-20%</th>\n",
       "      <th>To 20-50%</th>\n",
       "      <th>To Worst 50% of spectral twinness</th>\n",
       "    </tr>\n",
       "  </thead>\n",
       "  <tbody>\n",
       "    <tr>\n",
       "      <th>From Best 10% of spectral twinness</th>\n",
       "      <td>0.759518</td>\n",
       "      <td>0.211294</td>\n",
       "      <td>0.029188</td>\n",
       "      <td>0.000000</td>\n",
       "    </tr>\n",
       "    <tr>\n",
       "      <th>From 10-20%</th>\n",
       "      <td>0.187302</td>\n",
       "      <td>0.466667</td>\n",
       "      <td>0.344762</td>\n",
       "      <td>0.001270</td>\n",
       "    </tr>\n",
       "    <tr>\n",
       "      <th>From 20-50%</th>\n",
       "      <td>0.016296</td>\n",
       "      <td>0.103492</td>\n",
       "      <td>0.725291</td>\n",
       "      <td>0.154921</td>\n",
       "    </tr>\n",
       "    <tr>\n",
       "      <th>From Worst 50% of spectral twinness</th>\n",
       "      <td>0.000889</td>\n",
       "      <td>0.002285</td>\n",
       "      <td>0.090020</td>\n",
       "      <td>0.906679</td>\n",
       "    </tr>\n",
       "  </tbody>\n",
       "</table>\n",
       "</div>"
      ],
      "text/plain": [
       "                                     To Best 10% of spectral twinness  \\\n",
       "From Best 10% of spectral twinness                           0.759518   \n",
       "From 10-20%                                                  0.187302   \n",
       "From 20-50%                                                  0.016296   \n",
       "From Worst 50% of spectral twinness                          0.000889   \n",
       "\n",
       "                                     To 10-20%  To 20-50%  \\\n",
       "From Best 10% of spectral twinness    0.211294   0.029188   \n",
       "From 10-20%                           0.466667   0.344762   \n",
       "From 20-50%                           0.103492   0.725291   \n",
       "From Worst 50% of spectral twinness   0.002285   0.090020   \n",
       "\n",
       "                                     To Worst 50% of spectral twinness  \n",
       "From Best 10% of spectral twinness                            0.000000  \n",
       "From 10-20%                                                   0.001270  \n",
       "From 20-50%                                                   0.154921  \n",
       "From Worst 50% of spectral twinness                           0.906679  "
      ]
     },
     "metadata": {},
     "output_type": "display_data"
    },
    {
     "data": {
      "application/vnd.jupyter.widget-view+json": {
       "model_id": "fba76b7b42d44cc5abdfd12b49431d3b",
       "version_major": 2,
       "version_minor": 0
      },
      "text/plain": [
       "FigureCanvasNbAgg()"
      ]
     },
     "metadata": {},
     "output_type": "display_data"
    }
   ],
   "source": [
    "# Plot where twins and non-twins end up for different number of components.\n",
    "# We also make a summary plot.\n",
    "confused_fraction = []\n",
    "\n",
    "plot_components = np.arange(1, 6)\n",
    "for n_components in plot_components:\n",
    "    a.do_embedding(n_components=n_components)\n",
    "    leakage_matrix = a.plot_twin_distances(figsize=(5, 4))\n",
    "    if n_components == 1:\n",
    "        title = '1 Component + Color'\n",
    "    else:\n",
    "        title = '%d Components + Color' % n_components\n",
    "    plt.title(title)\n",
    "    plt.xlabel('Recovered twinness percentile in the embedded space')\n",
    "    plt.tight_layout()\n",
    "    plt.savefig('./figures/twins_recovery_%d_components.pdf' % n_components)\n",
    "    \n",
    "    confused_fraction.append(leakage_matrix[3, 0] + leakage_matrix[3, 1])\n",
    "\n",
    "plt.figure()\n",
    "plt.scatter(np.arange(len(confused_fraction)) + 1, confused_fraction)\n",
    "plt.xticks(plot_components, plot_components)\n",
    "plt.ylim(0, 0.1)\n",
    "plt.xlabel('Number of components (in addition to color)')\n",
    "plt.ylabel('Fraction of non-twins confused as twins')\n",
    "plt.savefig('./figures/twins_confusion.pdf')"
   ]
  },
  {
   "cell_type": "markdown",
   "metadata": {},
   "source": [
    "## Plot slices through the manifold"
   ]
  },
  {
   "cell_type": "code",
   "execution_count": 18,
   "metadata": {},
   "outputs": [],
   "source": [
    "a.do_embedding()\n",
    "\n",
    "def plot_slice(scan_component, closest_count=10, max_dist=1., loc=np.zeros(a.trans.shape[1] - 1)):\n",
    "    loc = np.asarray(loc)\n",
    "    mask = a.interp_mask\n",
    "\n",
    "    use_trans = a.trans[mask]\n",
    "    use_flux = a.scale_flux[mask]\n",
    "\n",
    "    other_trans = np.delete(use_trans, scan_component, axis=1)\n",
    "    dists = np.sqrt(np.sum((other_trans - loc)**2, axis=1))\n",
    "\n",
    "    dist_limit = np.min([np.sort(dists)[closest_count], max_dist])\n",
    "    scan_cut = dists < dist_limit\n",
    "    \n",
    "    scan_trans = use_trans[scan_cut, scan_component]\n",
    "    \n",
    "    sort_trans = np.sort(scan_trans)\n",
    "    min_comp = sort_trans[0]\n",
    "    max_comp = sort_trans[-1]\n",
    "    # min_comp = np.min(scan_trans)\n",
    "    # max_comp = np.max(scan_trans)\n",
    "    # cmap = plt.cm.viridis\n",
    "    cmap = plt.cm.coolwarm\n",
    "\n",
    "    plt.figure(figsize=(8, 5))\n",
    "    for spec, val in zip(use_flux[scan_cut], scan_trans):\n",
    "        plt.plot(a.wave, spec, c=cmap((val - min_comp) / (max_comp - min_comp)))\n",
    "\n",
    "    plt.xlabel('Wavelength ($\\AA$)')\n",
    "    plt.ylabel('Normalized flux')\n",
    "\n",
    "    sm = plt.cm.ScalarMappable(cmap=cmap, norm=plt.Normalize(vmin=min_comp, vmax=max_comp))\n",
    "    sm._A = []\n",
    "    plt.colorbar(sm, label='Value of Component %d' % (scan_component + 1))\n",
    "    plt.title('Component %d' % (scan_component + 1))\n",
    "    \n",
    "    plt.savefig('./figures/component_%d_effect.pdf' % (scan_component + 1))"
   ]
  },
  {
   "cell_type": "code",
   "execution_count": 19,
   "metadata": {},
   "outputs": [
    {
     "data": {
      "application/vnd.jupyter.widget-view+json": {
       "model_id": "6c6aa763544249479ec9c09ccc5a98ac",
       "version_major": 2,
       "version_minor": 0
      },
      "text/plain": [
       "FigureCanvasNbAgg()"
      ]
     },
     "metadata": {},
     "output_type": "display_data"
    },
    {
     "data": {
      "application/vnd.jupyter.widget-view+json": {
       "model_id": "a34b9a13bb694fbc977cb9c1623258e4",
       "version_major": 2,
       "version_minor": 0
      },
      "text/plain": [
       "FigureCanvasNbAgg()"
      ]
     },
     "metadata": {},
     "output_type": "display_data"
    },
    {
     "data": {
      "application/vnd.jupyter.widget-view+json": {
       "model_id": "5368dba8e04c47ab8a01f35dd9391214",
       "version_major": 2,
       "version_minor": 0
      },
      "text/plain": [
       "FigureCanvasNbAgg()"
      ]
     },
     "metadata": {},
     "output_type": "display_data"
    }
   ],
   "source": [
    "plot_slice(0, loc=[0.5, -0.5])\n",
    "plot_slice(1)\n",
    "plot_slice(2, loc=[0, 1])"
   ]
  },
  {
   "cell_type": "markdown",
   "metadata": {},
   "source": [
    "## Plot steps through a components values"
   ]
  },
  {
   "cell_type": "code",
   "execution_count": 32,
   "metadata": {},
   "outputs": [],
   "source": [
    "# a.do_embedding()\n",
    "\n",
    "def plot_steps(component, num_steps=10, xlim=None):\n",
    "    mask = a.interp_mask\n",
    "\n",
    "    use_trans = a.trans[mask, component]\n",
    "    use_flux = a.scale_flux[mask]\n",
    "    \n",
    "    min_trans = np.percentile(use_trans, 5)\n",
    "    max_trans = np.percentile(use_trans, 95)\n",
    "    \n",
    "    bin_edges = np.linspace(min_trans, max_trans, num_steps+1)\n",
    "    \n",
    "    bin_edges[0] = -1e20\n",
    "    bin_edges[-1] = 1e20\n",
    "    \n",
    "    plt.figure(figsize=(9, 4))\n",
    "    \n",
    "    cmap = plt.cm.coolwarm\n",
    "    sm = plt.cm.ScalarMappable(cmap=cmap, norm=plt.Normalize(vmin=min_trans, vmax=max_trans))\n",
    "    sm._A = []\n",
    "\n",
    "    if xlim is not None:\n",
    "        wave_mask = (a.wave > xlim[0] - 50) & (a.wave < xlim[1] + 50)\n",
    "    else:\n",
    "        wave_mask = np.ones(len(a.wave), dtype=bool)\n",
    "    \n",
    "    for step in range(num_steps):\n",
    "        step_mask = (use_trans >= bin_edges[step]) & (use_trans < bin_edges[step+1])\n",
    "        step_trans = use_trans[step_mask]\n",
    "\n",
    "        mean_val = np.mean(step_trans)\n",
    "        step_flux = np.median(use_flux[step_mask], axis=0)\n",
    "        \n",
    "        if step == 0:\n",
    "            label = 'Median spectra in each component bin'\n",
    "        else:\n",
    "            label = ''\n",
    "        \n",
    "        plt.plot(a.wave[wave_mask], step_flux[wave_mask], c=sm.to_rgba(mean_val), label=label)\n",
    "        \n",
    "    if xlim is not None:\n",
    "        plt.xlim(*xlim)\n",
    "        \n",
    "    plt.colorbar(sm, label='Value of Component %d' % (component + 1))\n",
    "    plt.title('Component %d' % (component + 1))\n",
    "    \n",
    "    plt.xlabel('Wavelength ($\\AA$)')\n",
    "    plt.ylabel('Normalized flux')\n",
    "    plt.ylim(0, None)\n",
    "    \n",
    "    plt.legend()\n",
    "    \n",
    "    plt.tight_layout()\n",
    "    \n",
    "    if xlim is None:\n",
    "        plt.savefig('./figures/component_%d_steps.pdf' % (component + 1))\n",
    "    else:\n",
    "        plt.savefig('./figures/component_%d_steps_zoom_%d_%d.pdf' % (component + 1, xlim[0], xlim[1]))"
   ]
  },
  {
   "cell_type": "code",
   "execution_count": 34,
   "metadata": {},
   "outputs": [
    {
     "name": "stderr",
     "output_type": "stream",
     "text": [
      "/home/kboone/packages/conda/lib/python3.7/site-packages/matplotlib/pyplot.py:514: RuntimeWarning: More than 20 figures have been opened. Figures created through the pyplot interface (`matplotlib.pyplot.figure`) are retained until explicitly closed and may consume too much memory. (To control this warning, see the rcParam `figure.max_open_warning`).\n",
      "  max_open_warning, RuntimeWarning)\n"
     ]
    },
    {
     "data": {
      "application/vnd.jupyter.widget-view+json": {
       "model_id": "68b48a90e0714aabbb7f7c358aa74107",
       "version_major": 2,
       "version_minor": 0
      },
      "text/plain": [
       "FigureCanvasNbAgg()"
      ]
     },
     "metadata": {},
     "output_type": "display_data"
    },
    {
     "name": "stderr",
     "output_type": "stream",
     "text": [
      "/home/kboone/packages/conda/lib/python3.7/site-packages/matplotlib/pyplot.py:514: RuntimeWarning: More than 20 figures have been opened. Figures created through the pyplot interface (`matplotlib.pyplot.figure`) are retained until explicitly closed and may consume too much memory. (To control this warning, see the rcParam `figure.max_open_warning`).\n",
      "  max_open_warning, RuntimeWarning)\n"
     ]
    },
    {
     "data": {
      "application/vnd.jupyter.widget-view+json": {
       "model_id": "4936e8ae23f24138ade79be028b087c6",
       "version_major": 2,
       "version_minor": 0
      },
      "text/plain": [
       "FigureCanvasNbAgg()"
      ]
     },
     "metadata": {},
     "output_type": "display_data"
    },
    {
     "name": "stderr",
     "output_type": "stream",
     "text": [
      "/home/kboone/packages/conda/lib/python3.7/site-packages/matplotlib/pyplot.py:514: RuntimeWarning: More than 20 figures have been opened. Figures created through the pyplot interface (`matplotlib.pyplot.figure`) are retained until explicitly closed and may consume too much memory. (To control this warning, see the rcParam `figure.max_open_warning`).\n",
      "  max_open_warning, RuntimeWarning)\n"
     ]
    },
    {
     "data": {
      "application/vnd.jupyter.widget-view+json": {
       "model_id": "dc1ad6fd3b774e5c990a777822f86e1c",
       "version_major": 2,
       "version_minor": 0
      },
      "text/plain": [
       "FigureCanvasNbAgg()"
      ]
     },
     "metadata": {},
     "output_type": "display_data"
    },
    {
     "name": "stderr",
     "output_type": "stream",
     "text": [
      "/home/kboone/packages/conda/lib/python3.7/site-packages/matplotlib/pyplot.py:514: RuntimeWarning: More than 20 figures have been opened. Figures created through the pyplot interface (`matplotlib.pyplot.figure`) are retained until explicitly closed and may consume too much memory. (To control this warning, see the rcParam `figure.max_open_warning`).\n",
      "  max_open_warning, RuntimeWarning)\n"
     ]
    },
    {
     "data": {
      "application/vnd.jupyter.widget-view+json": {
       "model_id": "235482b4a8b346eeb1daa159ac7e69f2",
       "version_major": 2,
       "version_minor": 0
      },
      "text/plain": [
       "FigureCanvasNbAgg()"
      ]
     },
     "metadata": {},
     "output_type": "display_data"
    },
    {
     "name": "stderr",
     "output_type": "stream",
     "text": [
      "/home/kboone/packages/conda/lib/python3.7/site-packages/matplotlib/pyplot.py:514: RuntimeWarning: More than 20 figures have been opened. Figures created through the pyplot interface (`matplotlib.pyplot.figure`) are retained until explicitly closed and may consume too much memory. (To control this warning, see the rcParam `figure.max_open_warning`).\n",
      "  max_open_warning, RuntimeWarning)\n"
     ]
    },
    {
     "data": {
      "application/vnd.jupyter.widget-view+json": {
       "model_id": "71b1ef8080594c0aa2fa90f91586a47c",
       "version_major": 2,
       "version_minor": 0
      },
      "text/plain": [
       "FigureCanvasNbAgg()"
      ]
     },
     "metadata": {},
     "output_type": "display_data"
    },
    {
     "name": "stderr",
     "output_type": "stream",
     "text": [
      "/home/kboone/packages/conda/lib/python3.7/site-packages/matplotlib/pyplot.py:514: RuntimeWarning: More than 20 figures have been opened. Figures created through the pyplot interface (`matplotlib.pyplot.figure`) are retained until explicitly closed and may consume too much memory. (To control this warning, see the rcParam `figure.max_open_warning`).\n",
      "  max_open_warning, RuntimeWarning)\n"
     ]
    },
    {
     "data": {
      "application/vnd.jupyter.widget-view+json": {
       "model_id": "fddfd449bcd94bd9b1adafb9f2d03663",
       "version_major": 2,
       "version_minor": 0
      },
      "text/plain": [
       "FigureCanvasNbAgg()"
      ]
     },
     "metadata": {},
     "output_type": "display_data"
    },
    {
     "name": "stderr",
     "output_type": "stream",
     "text": [
      "/home/kboone/packages/conda/lib/python3.7/site-packages/matplotlib/pyplot.py:514: RuntimeWarning: More than 20 figures have been opened. Figures created through the pyplot interface (`matplotlib.pyplot.figure`) are retained until explicitly closed and may consume too much memory. (To control this warning, see the rcParam `figure.max_open_warning`).\n",
      "  max_open_warning, RuntimeWarning)\n"
     ]
    },
    {
     "data": {
      "application/vnd.jupyter.widget-view+json": {
       "model_id": "2042a2c159ef45bd90187c3085d4c1d9",
       "version_major": 2,
       "version_minor": 0
      },
      "text/plain": [
       "FigureCanvasNbAgg()"
      ]
     },
     "metadata": {},
     "output_type": "display_data"
    },
    {
     "name": "stderr",
     "output_type": "stream",
     "text": [
      "/home/kboone/packages/conda/lib/python3.7/site-packages/matplotlib/pyplot.py:514: RuntimeWarning: More than 20 figures have been opened. Figures created through the pyplot interface (`matplotlib.pyplot.figure`) are retained until explicitly closed and may consume too much memory. (To control this warning, see the rcParam `figure.max_open_warning`).\n",
      "  max_open_warning, RuntimeWarning)\n"
     ]
    },
    {
     "data": {
      "application/vnd.jupyter.widget-view+json": {
       "model_id": "70507a9d068146838d02b381073d4fbe",
       "version_major": 2,
       "version_minor": 0
      },
      "text/plain": [
       "FigureCanvasNbAgg()"
      ]
     },
     "metadata": {},
     "output_type": "display_data"
    },
    {
     "name": "stderr",
     "output_type": "stream",
     "text": [
      "/home/kboone/packages/conda/lib/python3.7/site-packages/matplotlib/pyplot.py:514: RuntimeWarning: More than 20 figures have been opened. Figures created through the pyplot interface (`matplotlib.pyplot.figure`) are retained until explicitly closed and may consume too much memory. (To control this warning, see the rcParam `figure.max_open_warning`).\n",
      "  max_open_warning, RuntimeWarning)\n"
     ]
    },
    {
     "data": {
      "application/vnd.jupyter.widget-view+json": {
       "model_id": "78093312a3204b9b996689e924370901",
       "version_major": 2,
       "version_minor": 0
      },
      "text/plain": [
       "FigureCanvasNbAgg()"
      ]
     },
     "metadata": {},
     "output_type": "display_data"
    },
    {
     "name": "stderr",
     "output_type": "stream",
     "text": [
      "/home/kboone/packages/conda/lib/python3.7/site-packages/matplotlib/pyplot.py:514: RuntimeWarning: More than 20 figures have been opened. Figures created through the pyplot interface (`matplotlib.pyplot.figure`) are retained until explicitly closed and may consume too much memory. (To control this warning, see the rcParam `figure.max_open_warning`).\n",
      "  max_open_warning, RuntimeWarning)\n"
     ]
    },
    {
     "data": {
      "application/vnd.jupyter.widget-view+json": {
       "model_id": "461cb762c0e9432286bfe4dc90458093",
       "version_major": 2,
       "version_minor": 0
      },
      "text/plain": [
       "FigureCanvasNbAgg()"
      ]
     },
     "metadata": {},
     "output_type": "display_data"
    },
    {
     "name": "stderr",
     "output_type": "stream",
     "text": [
      "/home/kboone/packages/conda/lib/python3.7/site-packages/matplotlib/pyplot.py:514: RuntimeWarning: More than 20 figures have been opened. Figures created through the pyplot interface (`matplotlib.pyplot.figure`) are retained until explicitly closed and may consume too much memory. (To control this warning, see the rcParam `figure.max_open_warning`).\n",
      "  max_open_warning, RuntimeWarning)\n"
     ]
    },
    {
     "data": {
      "application/vnd.jupyter.widget-view+json": {
       "model_id": "1b9170c3b00b490baeb54363ae6d7bf2",
       "version_major": 2,
       "version_minor": 0
      },
      "text/plain": [
       "FigureCanvasNbAgg()"
      ]
     },
     "metadata": {},
     "output_type": "display_data"
    },
    {
     "name": "stderr",
     "output_type": "stream",
     "text": [
      "/home/kboone/packages/conda/lib/python3.7/site-packages/matplotlib/pyplot.py:514: RuntimeWarning: More than 20 figures have been opened. Figures created through the pyplot interface (`matplotlib.pyplot.figure`) are retained until explicitly closed and may consume too much memory. (To control this warning, see the rcParam `figure.max_open_warning`).\n",
      "  max_open_warning, RuntimeWarning)\n"
     ]
    },
    {
     "data": {
      "application/vnd.jupyter.widget-view+json": {
       "model_id": "c210d4b551fe492da7e4fd5d3f96b69e",
       "version_major": 2,
       "version_minor": 0
      },
      "text/plain": [
       "FigureCanvasNbAgg()"
      ]
     },
     "metadata": {},
     "output_type": "display_data"
    }
   ],
   "source": [
    "for component in range(3):\n",
    "    plot_steps(component)\n",
    "    plot_steps(component, xlim=(3300, 4500))\n",
    "    plot_steps(component, xlim=(4900, 6700))\n",
    "    plot_steps(component, xlim=(7200, 8600))"
   ]
  },
  {
   "cell_type": "markdown",
   "metadata": {
    "toc-hr-collapsed": false
   },
   "source": [
    "## Comparison to original twins"
   ]
  },
  {
   "cell_type": "code",
   "execution_count": 15,
   "metadata": {},
   "outputs": [],
   "source": [
    "hannah_list = np.genfromtxt('./data/fakhouri_atmax_list.txt', dtype='str')\n",
    "twins_mask = np.array([i.name in hannah_list for i in a.targets])"
   ]
  },
  {
   "cell_type": "code",
   "execution_count": 16,
   "metadata": {},
   "outputs": [
    {
     "name": "stdout",
     "output_type": "stream",
     "text": [
      "RMS  20%: 0.1045176399407426\n",
      "NMAD 20%: 0.09740618077278954\n"
     ]
    },
    {
     "data": {
      "application/vnd.jupyter.widget-view+json": {
       "model_id": "0995c345065c4f70adde9106a70f65cb",
       "version_major": 2,
       "version_minor": 0
      },
      "text/plain": [
       "FigureCanvasNbAgg()"
      ]
     },
     "metadata": {},
     "output_type": "display_data"
    }
   ],
   "source": [
    "a.plot_twin_pairings()\n",
    "plt.xlim(0, 100)\n",
    "plt.ylim(0, None)\n",
    "plt.savefig('./figures/twin_dispersion.pdf')"
   ]
  },
  {
   "cell_type": "markdown",
   "metadata": {},
   "source": [
    "## Twins that are poor brightness matches"
   ]
  },
  {
   "cell_type": "code",
   "execution_count": 17,
   "metadata": {},
   "outputs": [],
   "source": [
    "from scipy.spatial.distance import pdist, squareform\n",
    "\n",
    "mask = a.good_mag_mask\n",
    "\n",
    "raw_spec_dists = pdist(a.iso_diffs[mask])\n",
    "spec_dists = squareform(raw_spec_dists)\n",
    "mag_diffs = squareform(pdist(a.mags[mask][:, None]))"
   ]
  },
  {
   "cell_type": "code",
   "execution_count": 18,
   "metadata": {},
   "outputs": [
    {
     "data": {
      "application/vnd.jupyter.widget-view+json": {
       "model_id": "022972492cf741a2b5df0e0a0ed48868",
       "version_major": 2,
       "version_minor": 0
      },
      "text/plain": [
       "FigureCanvasNbAgg()"
      ]
     },
     "metadata": {},
     "output_type": "display_data"
    },
    {
     "data": {
      "text/plain": [
       "(array([380., 314., 210., 138.,  72.,  44.,  36.,  18.,   0.,   4.]),\n",
       " array([0.        , 0.05152395, 0.10304789, 0.15457184, 0.20609578,\n",
       "        0.25761973, 0.30914367, 0.36066762, 0.41219156, 0.46371551,\n",
       "        0.51523946]),\n",
       " <a list of 10 Patch objects>)"
      ]
     },
     "execution_count": 18,
     "metadata": {},
     "output_type": "execute_result"
    }
   ],
   "source": [
    "dist_mask = spec_dists < np.percentile(raw_spec_dists, 20)\n",
    "plt.figure()\n",
    "plt.hist(mag_diffs[dist_mask])"
   ]
  },
  {
   "cell_type": "code",
   "execution_count": 19,
   "metadata": {},
   "outputs": [
    {
     "name": "stdout",
     "output_type": "stream",
     "text": [
      "       target_1        target_2     redshift_1      redshift_2        color_1         color_2          mag_1           mag_2     salt_mag_1      salt_mag_2     trans[0]_1      trans[0]_2\n",
      "   CSS130502_01 SNF20080612-003          0.034           0.033         -0.321          -0.174          0.213          -0.286          0.182          -0.234          1.805          -0.294\n",
      "       PTF10wnm SNF20080612-003          0.065           0.033         -0.246          -0.174          0.117          -0.286          0.079          -0.234          0.676          -0.294\n",
      "       PTF11drz SNF20080612-003          0.057           0.033         -0.086          -0.174          0.093          -0.286          0.099          -0.234         -1.618          -0.294\n",
      "       PTF11pdk SNF20080612-003          0.085           0.033         -0.267          -0.174          0.100          -0.286          0.064          -0.234          0.240          -0.294\n",
      "       PTF12jqh SNF20080612-003          0.047           0.033         -0.296          -0.174          0.108          -0.286          0.088          -0.234         -1.495          -0.294\n",
      "       SN2005hc        SN2007kk          0.045           0.041         -0.381          -0.230          0.229          -0.172          0.139          -0.184         -0.865          -2.572\n",
      "       SN2005hc SNF20070330-024          0.045           0.042         -0.381          -0.383          0.229          -0.125          0.139          -0.223         -0.865          -1.043\n",
      "       SN2005hc SNF20080612-003          0.045           0.033         -0.381          -0.174          0.229          -0.286          0.139          -0.234         -0.865          -0.294\n",
      "       SN2007bd SNF20080612-003          0.031           0.033         -0.213          -0.174          0.095          -0.286          0.054          -0.234         -1.413          -0.294\n",
      "SNF20061022-005 SNF20080723-012          0.078           0.075         -0.105          -0.186         -0.071          -0.450         -0.102          -0.647          3.614           4.490\n",
      "SNF20061030-010 SNF20080612-003          0.028           0.033          0.121          -0.174          0.102          -0.286          0.112          -0.234         -2.376          -0.294\n",
      "SNF20080514-002 SNF20080825-010          0.023           0.040         -0.230          -0.126          0.259          -0.102          0.185          -0.192          1.269          -0.448\n",
      "SNF20080612-003 SNF20080725-004          0.033           0.054         -0.174          -0.120         -0.286           0.081         -0.234           0.099         -0.294          -1.083\n",
      "SNF20080612-003 SNF20080918-000          0.033           0.065         -0.174           0.104         -0.286           0.067         -0.234           0.119         -0.294          -1.640\n",
      "SNF20080723-012 SNF20080822-005          0.075           0.070         -0.186          -0.273         -0.450          -0.097         -0.647          -0.185          4.490           2.688\n"
     ]
    }
   ],
   "source": [
    "idx1, idx2 = np.where(dist_mask & (mag_diffs > 0.35))\n",
    "idx_mask = idx1 < idx2\n",
    "idx1 = idx1[idx_mask]\n",
    "idx2 = idx2[idx_mask]\n",
    "\n",
    "def print_pairs(vals):\n",
    "    for val_name, val in vals.items():\n",
    "        print(\"%13s_1\" % val_name, \"%13s_2\" % val_name, end='')\n",
    "    print('')\n",
    "        \n",
    "    for i, j in zip(idx1, idx2):\n",
    "        for val_name, val in vals.items():\n",
    "            try:\n",
    "                print('%15.3f' % val[mask][i], '%15.3f' % val[mask][j], end='')\n",
    "            except TypeError:\n",
    "                print('%15s' % val[mask][i], '%15s' % val[mask][j], end='')\n",
    "        print('')\n",
    "\n",
    "print_pairs({\n",
    "    'target': a.targets,\n",
    "    'redshift': a.redshifts,\n",
    "    'color': a.colors,\n",
    "    'mag': a.mags,\n",
    "    'salt_mag': a.salt_hr,\n",
    "    'trans[0]': a.trans[:, 0],\n",
    "})"
   ]
  },
  {
   "cell_type": "markdown",
   "metadata": {},
   "source": [
    "## Comparision to previous spectral classifications"
   ]
  },
  {
   "cell_type": "code",
   "execution_count": 21,
   "metadata": {},
   "outputs": [
    {
     "data": {
      "application/vnd.jupyter.widget-view+json": {
       "model_id": "b575785595c24b9691238b05b328d38c",
       "version_major": 2,
       "version_minor": 0
      },
      "text/plain": [
       "FigureCanvasNbAgg()"
      ]
     },
     "metadata": {},
     "output_type": "display_data"
    }
   ],
   "source": [
    "a.do_blondin_plot()\n",
    "plt.savefig('./figures/branch_classification.pdf')"
   ]
  },
  {
   "cell_type": "code",
   "execution_count": 22,
   "metadata": {},
   "outputs": [
    {
     "data": {
      "application/vnd.jupyter.widget-view+json": {
       "model_id": "34b03370010444eeba1d6a8acdd63bb9",
       "version_major": 2,
       "version_minor": 0
      },
      "text/plain": [
       "FigureCanvasNbAgg()"
      ]
     },
     "metadata": {},
     "output_type": "display_data"
    }
   ],
   "source": [
    "a.do_component_blondin_plot()\n",
    "plt.savefig('./figures/branch_labels_isomap.pdf')"
   ]
  },
  {
   "cell_type": "code",
   "execution_count": 109,
   "metadata": {},
   "outputs": [
    {
     "name": "stderr",
     "output_type": "stream",
     "text": [
      "/home/kboone/packages/conda/lib/python3.7/site-packages/matplotlib/pyplot.py:514: RuntimeWarning: More than 20 figures have been opened. Figures created through the pyplot interface (`matplotlib.pyplot.figure`) are retained until explicitly closed and may consume too much memory. (To control this warning, see the rcParam `figure.max_open_warning`).\n",
      "  max_open_warning, RuntimeWarning)\n"
     ]
    },
    {
     "data": {
      "application/vnd.jupyter.widget-view+json": {
       "model_id": "ef0a9e9440434c61a5c0b378e2ea6964",
       "version_major": 2,
       "version_minor": 0
      },
      "text/plain": [
       "FigureCanvasNbAgg()"
      ]
     },
     "metadata": {},
     "output_type": "display_data"
    },
    {
     "name": "stdout",
     "output_type": "stream",
     "text": [
      "16\n",
      "27\n",
      "12\n",
      "16\n"
     ]
    },
    {
     "name": "stderr",
     "output_type": "stream",
     "text": [
      "/home/kboone/packages/conda/lib/python3.7/site-packages/ipykernel_launcher.py:11: RuntimeWarning: invalid value encountered in less\n",
      "  # This is added back by InteractiveShellApp.init_path()\n"
     ]
    }
   ],
   "source": [
    "def plot_spec(frac, radius=1.):\n",
    "    val_0 = -1.7 + (2.2 - -1.7) * frac\n",
    "    val_1 = 2.2 + (-1.4 - 2.2) * frac\n",
    "    \n",
    "    dist = np.sqrt(\n",
    "        (a.trans[:, 0] - val_0)**2\n",
    "        + (a.trans[:, 1] - val_1)**2\n",
    "    )\n",
    "    \n",
    "    t = a.trans\n",
    "    cut = dist < radius\n",
    "    \n",
    "    print(np.sum(cut))\n",
    "    \n",
    "    f = np.median(a.scale_flux[cut], axis=0)\n",
    "    \n",
    "    # c = plt.cm.coolwarm((val_0 + 2) / 4)\n",
    "    c = plt.cm.coolwarm(i)\n",
    "    \n",
    "    plt.plot(a.wave, f, label='Median of spectra near (%.1f, %.1f)' % (val_0, val_1), c=c)\n",
    "    \n",
    "plt.figure(figsize=(8, 5))\n",
    "for i in np.linspace(0, 1, 4):\n",
    "    plot_spec(i)\n",
    "plt.xlabel('Wavelength ($\\AA$)')\n",
    "plt.ylabel('Flux (arbitrary units)')\n",
    "plt.legend()\n",
    "plt.savefig('./figures/core_normal_comparison.pdf')"
   ]
  },
  {
   "cell_type": "markdown",
   "metadata": {},
   "source": [
    "## Color comparison"
   ]
  },
  {
   "cell_type": "code",
   "execution_count": 50,
   "metadata": {},
   "outputs": [
    {
     "name": "stderr",
     "output_type": "stream",
     "text": [
      "/home/kboone/packages/conda/lib/python3.7/site-packages/matplotlib/pyplot.py:514: RuntimeWarning: More than 20 figures have been opened. Figures created through the pyplot interface (`matplotlib.pyplot.figure`) are retained until explicitly closed and may consume too much memory. (To control this warning, see the rcParam `figure.max_open_warning`).\n",
      "  max_open_warning, RuntimeWarning)\n"
     ]
    },
    {
     "data": {
      "application/vnd.jupyter.widget-view+json": {
       "model_id": "da62d959a70b4cf7a4530097a699d862",
       "version_major": 2,
       "version_minor": 0
      },
      "text/plain": [
       "FigureCanvasNbAgg()"
      ]
     },
     "metadata": {},
     "output_type": "display_data"
    }
   ],
   "source": [
    "a.scatter(a.colors, vmin=-0.5, vmax=0.5)"
   ]
  },
  {
   "cell_type": "markdown",
   "metadata": {},
   "source": [
    "# Standardization "
   ]
  },
  {
   "cell_type": "markdown",
   "metadata": {},
   "source": [
    "## Raw magnitudes"
   ]
  },
  {
   "cell_type": "code",
   "execution_count": 22,
   "metadata": {},
   "outputs": [
    {
     "data": {
      "application/vnd.jupyter.widget-view+json": {
       "model_id": "ba42a3ea80d74880894dd46c522a91de",
       "version_major": 2,
       "version_minor": 0
      },
      "text/plain": [
       "FigureCanvasNbAgg()"
      ]
     },
     "metadata": {},
     "output_type": "display_data"
    }
   ],
   "source": [
    "a.scatter(a.mags, a.good_mag_mask, vmin=-0.2, vmax=0.2, label='Residual magnitude', invert_colorbar=True)\n",
    "plt.savefig('./figures/components_12_residual_magnitude.pdf')"
   ]
  },
  {
   "cell_type": "code",
   "execution_count": 23,
   "metadata": {},
   "outputs": [
    {
     "data": {
      "application/vnd.jupyter.widget-view+json": {
       "model_id": "38461ae93b6943d596eebe9243732f3a",
       "version_major": 2,
       "version_minor": 0
      },
      "text/plain": [
       "FigureCanvasNbAgg()"
      ]
     },
     "metadata": {},
     "output_type": "display_data"
    }
   ],
   "source": [
    "a.scatter(a.mags, a.good_mag_mask, vmin=-0.2, vmax=0.2, axis_1=0, axis_2=2, label='Residual magnitude', invert_colorbar=True)\n",
    "plt.savefig('./figures/components_13_residual_magnitude.pdf')"
   ]
  },
  {
   "cell_type": "code",
   "execution_count": 24,
   "metadata": {},
   "outputs": [
    {
     "data": {
      "application/vnd.jupyter.widget-view+json": {
       "model_id": "2b1b4a09967342b0ae3b0748cf980729",
       "version_major": 2,
       "version_minor": 0
      },
      "text/plain": [
       "FigureCanvasNbAgg()"
      ]
     },
     "metadata": {},
     "output_type": "display_data"
    }
   ],
   "source": [
    "a.scatter(a.mags, a.good_mag_mask, vmin=-0.2, vmax=0.2, axis_1=1, axis_2=2, label='Residual magnitude', invert_colorbar=True)\n",
    "plt.savefig('./figures/components_23_residual_magnitude.pdf')"
   ]
  },
  {
   "cell_type": "markdown",
   "metadata": {},
   "source": [
    "## GP standardization"
   ]
  },
  {
   "cell_type": "code",
   "execution_count": 47,
   "metadata": {},
   "outputs": [
    {
     "name": "stdout",
     "output_type": "stream",
     "text": [
      "Fitting GP hyperparameters...\n",
      "Fit result:\n",
      "      fun: -59.26127018578216\n",
      " hess_inv: array([[ 4.98245421e-03,  3.23904835e-06, -6.30946395e-04,\n",
      "        -3.05735506e-02],\n",
      "       [ 3.23904835e-06,  1.61370479e-04,  2.64752292e-05,\n",
      "         1.04339917e-02],\n",
      "       [-6.30946395e-04,  2.64752292e-05,  1.17696783e-03,\n",
      "         4.34280822e-02],\n",
      "       [-3.05735506e-02,  1.04339917e-02,  4.34280822e-02,\n",
      "         3.55195095e+00]])\n",
      "      jac: array([-2.86102295e-06, -9.05990601e-06,  2.38418579e-06, -5.72204590e-06])\n",
      "  message: 'Optimization terminated successfully.'\n",
      "     nfev: 132\n",
      "      nit: 15\n",
      "     njev: 22\n",
      "   status: 0\n",
      "  success: True\n",
      "        x: array([-0.046595  ,  0.07682295,  0.10195705,  2.69551498])\n",
      "Finite difference covariance step sizes: [1.60e-04 2.00e-05 4.00e-05 2.56e-03]\n",
      "Fit uncertainty: [0.07023724 0.01255326 0.03414024 1.8833214 ]\n",
      "Fit NMAD:        0.08971590237637203\n",
      "Fit std:         0.10109691316372353\n"
     ]
    }
   ],
   "source": [
    "# Reset to defaults in case things got messed up\n",
    "a.do_embedding()\n",
    "a.fit_gp()"
   ]
  },
  {
   "cell_type": "code",
   "execution_count": 41,
   "metadata": {},
   "outputs": [
    {
     "name": "stdout",
     "output_type": "stream",
     "text": [
      "Fitting GP hyperparameters...\n",
      "Fit result:\n",
      "      fun: -81.60244487218607\n",
      " hess_inv: array([[ 2.59577051e-02, -1.04250891e-04, -9.82967154e-04,\n",
      "        -8.26180244e-03],\n",
      "       [-1.04250891e-04,  7.86249046e-05,  1.25693295e-04,\n",
      "         2.85355060e-04],\n",
      "       [-9.82967154e-04,  1.25693295e-04,  3.46500706e-03,\n",
      "         6.37116495e-03],\n",
      "       [-8.26180244e-03,  2.85355060e-04,  6.37116495e-03,\n",
      "         1.33836705e-02]])\n",
      "      jac: array([ 0.00000000e+00,  3.81469727e-06, -1.90734863e-06, -6.67572021e-06])\n",
      "  message: 'Optimization terminated successfully.'\n",
      "     nfev: 450\n",
      "      nit: 33\n",
      "     njev: 75\n",
      "   status: 0\n",
      "  success: True\n",
      "        x: array([ 3.10484818,  0.0884479 , -0.30768032,  6.25696017])\n",
      "Fit NMAD:        0.14270963860704455\n",
      "Fit std:         0.15181864902995143\n"
     ]
    }
   ],
   "source": [
    "a.fit_gp(kind='salt_raw')"
   ]
  },
  {
   "cell_type": "code",
   "execution_count": 57,
   "metadata": {},
   "outputs": [
    {
     "name": "stdout",
     "output_type": "stream",
     "text": [
      "Fitted coefficients:\n",
      "[-0.10088315  2.84020783 -0.04884191 -0.07415973  0.02167978]\n",
      "Fit NMAD:        0.1302191752040881\n",
      "Fit std:         0.12547577023620432\n"
     ]
    }
   ],
   "source": [
    "a.apply_polynomial_standardization(kind='salt_raw')"
   ]
  },
  {
   "cell_type": "code",
   "execution_count": 40,
   "metadata": {},
   "outputs": [
    {
     "data": {
      "application/vnd.jupyter.widget-view+json": {
       "model_id": "6a74714fca834448afde283bfd1a77dc",
       "version_major": 2,
       "version_minor": 0
      },
      "text/plain": [
       "FigureCanvasNbAgg()"
      ]
     },
     "metadata": {},
     "output_type": "display_data"
    },
    {
     "name": "stdout",
     "output_type": "stream",
     "text": [
      "      fun: 0.12155185608365733\n",
      " hess_inv: array([[4.83633085]])\n",
      "      jac: array([-1.8319115e-06])\n",
      "  message: 'Optimization terminated successfully.'\n",
      "     nfev: 24\n",
      "      nit: 6\n",
      "     njev: 8\n",
      "   status: 0\n",
      "  success: True\n",
      "        x: array([2.64308055])\n"
     ]
    },
    {
     "data": {
      "text/plain": [
       "<matplotlib.collections.PathCollection at 0x7f2f4ab80748>"
      ]
     },
     "execution_count": 40,
     "metadata": {},
     "output_type": "execute_result"
    }
   ],
   "source": [
    "plt.figure()\n",
    "def f(x):\n",
    "    return np.std(a.colors - a.salt_color * x[0])\n",
    "\n",
    "res = minimize(f, [1])\n",
    "print(res)\n",
    "\n",
    "plt.scatter(a.salt_color, a.colors / a.salt_color)"
   ]
  },
  {
   "cell_type": "code",
   "execution_count": 50,
   "metadata": {},
   "outputs": [
    {
     "data": {
      "application/vnd.jupyter.widget-view+json": {
       "model_id": "7f039b07dbb6451c8eac18cc33ba738b",
       "version_major": 2,
       "version_minor": 0
      },
      "text/plain": [
       "FigureCanvasNbAgg()"
      ]
     },
     "metadata": {},
     "output_type": "display_data"
    },
    {
     "data": {
      "application/vnd.jupyter.widget-view+json": {
       "model_id": "dd9442ae7b0543e0b4db226bc1c46a42",
       "version_major": 2,
       "version_minor": 0
      },
      "text/plain": [
       "FigureCanvasNbAgg()"
      ]
     },
     "metadata": {},
     "output_type": "display_data"
    },
    {
     "name": "stderr",
     "output_type": "stream",
     "text": [
      "/home/kboone/packages/conda/lib/python3.7/site-packages/matplotlib/pyplot.py:514: RuntimeWarning: More than 20 figures have been opened. Figures created through the pyplot interface (`matplotlib.pyplot.figure`) are retained until explicitly closed and may consume too much memory. (To control this warning, see the rcParam `figure.max_open_warning`).\n",
      "  max_open_warning, RuntimeWarning)\n"
     ]
    },
    {
     "data": {
      "application/vnd.jupyter.widget-view+json": {
       "model_id": "751d5661f6cd4e82bcaeda41079b9ae3",
       "version_major": 2,
       "version_minor": 0
      },
      "text/plain": [
       "FigureCanvasNbAgg()"
      ]
     },
     "metadata": {},
     "output_type": "display_data"
    }
   ],
   "source": [
    "a.plot_gp(axis_1=0, axis_2=1)\n",
    "plt.savefig('./figures/gp_mag_components_12.pdf')\n",
    "\n",
    "a.plot_gp(axis_1=0, axis_2=2)\n",
    "plt.savefig('./figures/gp_mag_components_13.pdf')\n",
    "\n",
    "a.plot_gp(axis_1=1, axis_2=2)\n",
    "plt.savefig('./figures/gp_mag_components_23.pdf')"
   ]
  },
  {
   "cell_type": "code",
   "execution_count": 31,
   "metadata": {},
   "outputs": [
    {
     "data": {
      "application/vnd.jupyter.widget-view+json": {
       "model_id": "453eb5d1d7ac4dc8a3c6af7f3288911c",
       "version_major": 2,
       "version_minor": 0
      },
      "text/plain": [
       "FigureCanvasNbAgg()"
      ]
     },
     "metadata": {},
     "output_type": "display_data"
    }
   ],
   "source": [
    "a.scatter(a.colors, vmin=-0.2, vmax=0.2)"
   ]
  },
  {
   "cell_type": "markdown",
   "metadata": {},
   "source": [
    "## Check vs phases of original spectra"
   ]
  },
  {
   "cell_type": "code",
   "execution_count": 39,
   "metadata": {},
   "outputs": [
    {
     "name": "stdout",
     "output_type": "stream",
     "text": [
      "Fitting GP hyperparameters...\n",
      "Fit result:\n",
      "      fun: -59.26127018578216\n",
      " hess_inv: array([[ 4.98245421e-03,  3.23904835e-06, -6.30946395e-04,\n",
      "        -3.05735506e-02],\n",
      "       [ 3.23904835e-06,  1.61370479e-04,  2.64752292e-05,\n",
      "         1.04339917e-02],\n",
      "       [-6.30946395e-04,  2.64752292e-05,  1.17696783e-03,\n",
      "         4.34280822e-02],\n",
      "       [-3.05735506e-02,  1.04339917e-02,  4.34280822e-02,\n",
      "         3.55195095e+00]])\n",
      "      jac: array([-2.86102295e-06, -9.05990601e-06,  2.38418579e-06, -5.72204590e-06])\n",
      "  message: 'Optimization terminated successfully.'\n",
      "     nfev: 132\n",
      "      nit: 15\n",
      "     njev: 22\n",
      "   status: 0\n",
      "  success: True\n",
      "        x: array([-0.046595  ,  0.07682295,  0.10195705,  2.69551498])\n",
      "Fit NMAD:        0.08882869659158774\n",
      "Fit std:         0.10137719908554844\n"
     ]
    }
   ],
   "source": [
    "a.fit_gp()"
   ]
  },
  {
   "cell_type": "code",
   "execution_count": 47,
   "metadata": {},
   "outputs": [
    {
     "name": "stderr",
     "output_type": "stream",
     "text": [
      "/home/kboone/packages/conda/lib/python3.7/site-packages/matplotlib/pyplot.py:514: RuntimeWarning: More than 20 figures have been opened. Figures created through the pyplot interface (`matplotlib.pyplot.figure`) are retained until explicitly closed and may consume too much memory. (To control this warning, see the rcParam `figure.max_open_warning`).\n",
      "  max_open_warning, RuntimeWarning)\n"
     ]
    },
    {
     "data": {
      "application/vnd.jupyter.widget-view+json": {
       "model_id": "e1bc57f067f34de88d7a91313a97f0c9",
       "version_major": 2,
       "version_minor": 0
      },
      "text/plain": [
       "FigureCanvasNbAgg()"
      ]
     },
     "metadata": {},
     "output_type": "display_data"
    },
    {
     "data": {
      "text/plain": [
       "<matplotlib.legend.Legend at 0x7fe4f9c51f28>"
      ]
     },
     "execution_count": 47,
     "metadata": {},
     "output_type": "execute_result"
    }
   ],
   "source": [
    "plt.figure()\n",
    "plt.scatter(a.salt_phases[a.center_mask][a.good_mag_mask], a.mags[a.good_mag_mask], label='Individual observations')\n",
    "math.plot_binned_mean(a.salt_phases[a.center_mask][a.good_mag_mask], a.mags[a.good_mag_mask], c='C2', label='Binned mean')\n",
    "plt.xlabel('Phase of closest spectrum to maximum (days)')\n",
    "plt.ylabel('Residual magnitude')\n",
    "plt.gca().invert_yaxis()\n",
    "plt.legend()"
   ]
  },
  {
   "cell_type": "markdown",
   "metadata": {},
   "source": [
    "# SALT2 comparison"
   ]
  },
  {
   "cell_type": "code",
   "execution_count": 287,
   "metadata": {},
   "outputs": [
    {
     "name": "stdout",
     "output_type": "stream",
     "text": [
      "Pass 0, MB=-19.149, alpha=0.129, beta=2.985\n",
      "  -> new intrinsic_dispersion=0.119\n",
      "Pass 1, MB=-19.149, alpha=0.129, beta=2.987\n",
      "  -> new intrinsic_dispersion=0.119\n",
      "Pass 2, MB=-19.149, alpha=0.129, beta=2.987\n",
      "  -> new intrinsic_dispersion=0.119\n",
      "Pass 3, MB=-19.149, alpha=0.129, beta=2.987\n",
      "  -> new intrinsic_dispersion=0.119\n",
      "Pass 4, MB=-19.149, alpha=0.129, beta=2.987\n",
      "  -> new intrinsic_dispersion=0.119\n",
      "SALT2 Hubble fit: \n",
      "    MB:    -19.14936035870967\n",
      "    alpha: 0.12912169654736533\n",
      "    beta:  2.986549046949107\n",
      "    σ_int: 0.11893666801711794\n",
      "    std:   0.1506544775204048\n",
      "    NMAD:  0.10991458888441766\n"
     ]
    }
   ],
   "source": [
    "# Load SALT2 Hubble residuals\n",
    "a.calculate_salt_hubble_residuals()"
   ]
  },
  {
   "cell_type": "markdown",
   "metadata": {},
   "source": [
    "## SALT2 colors"
   ]
  },
  {
   "cell_type": "code",
   "execution_count": 285,
   "metadata": {},
   "outputs": [
    {
     "name": "stderr",
     "output_type": "stream",
     "text": [
      "/home/kboone/packages/conda/lib/python3.7/site-packages/matplotlib/pyplot.py:514: RuntimeWarning: More than 20 figures have been opened. Figures created through the pyplot interface (`matplotlib.pyplot.figure`) are retained until explicitly closed and may consume too much memory. (To control this warning, see the rcParam `figure.max_open_warning`).\n",
      "  max_open_warning, RuntimeWarning)\n"
     ]
    },
    {
     "data": {
      "application/vnd.jupyter.widget-view+json": {
       "model_id": "e5c77ca136c1484093728a4e9425c313",
       "version_major": 2,
       "version_minor": 0
      },
      "text/plain": [
       "FigureCanvasNbAgg()"
      ]
     },
     "metadata": {},
     "output_type": "display_data"
    }
   ],
   "source": [
    "plt.figure()\n",
    "plt.scatter(a.salt_color, a.colors, s=5)\n",
    "plt.xlabel('SALT2 Color ($c$)')\n",
    "plt.ylabel('RBTL Color ($A_V$)')\n",
    "plt.tight_layout()\n",
    "\n",
    "plt.savefig('./figures/salt2_color_comparison.pdf')"
   ]
  },
  {
   "cell_type": "markdown",
   "metadata": {},
   "source": [
    "## SALT2 X1"
   ]
  },
  {
   "cell_type": "code",
   "execution_count": 97,
   "metadata": {},
   "outputs": [
    {
     "name": "stderr",
     "output_type": "stream",
     "text": [
      "/home/kboone/packages/conda/lib/python3.7/site-packages/matplotlib/pyplot.py:514: RuntimeWarning: More than 20 figures have been opened. Figures created through the pyplot interface (`matplotlib.pyplot.figure`) are retained until explicitly closed and may consume too much memory. (To control this warning, see the rcParam `figure.max_open_warning`).\n",
      "  max_open_warning, RuntimeWarning)\n"
     ]
    },
    {
     "data": {
      "application/vnd.jupyter.widget-view+json": {
       "model_id": "d30227a741454622b5f1abf452cd58c5",
       "version_major": 2,
       "version_minor": 0
      },
      "text/plain": [
       "FigureCanvasNbAgg()"
      ]
     },
     "metadata": {},
     "output_type": "display_data"
    }
   ],
   "source": [
    "a.scatter(a.salt_x1, a.interp_mask, label='SALT $x_1$')\n",
    "plt.savefig('./figures/salt2_x1_components.pdf')"
   ]
  },
  {
   "cell_type": "code",
   "execution_count": 26,
   "metadata": {},
   "outputs": [
    {
     "name": "stdout",
     "output_type": "stream",
     "text": [
      "[ 0.35367054  0.91044673 -0.2144852 ]\n"
     ]
    },
    {
     "data": {
      "application/vnd.jupyter.widget-view+json": {
       "model_id": "d9324f639fa54b6b950d2d628cdf09f9",
       "version_major": 2,
       "version_minor": 0
      },
      "text/plain": [
       "FigureCanvasNbAgg()"
      ]
     },
     "metadata": {},
     "output_type": "display_data"
    },
    {
     "name": "stdout",
     "output_type": "stream",
     "text": [
      "[[1.         0.78539571]\n",
      " [0.78539571 1.        ]]\n"
     ]
    }
   ],
   "source": [
    "# Find the best predictor of x1\n",
    "def to_min(x):\n",
    "    diff = a.salt_x1 - a.trans.dot(x)\n",
    "    return np.nanstd(diff[a.salt_mask])\n",
    "\n",
    "res = minimize(to_min, [0, 0, 0])\n",
    "\n",
    "norm_x = res.x / np.sqrt(np.sum(res.x**2))\n",
    "print(norm_x)\n",
    "\n",
    "plt.figure()\n",
    "# plt.scatter(a.trans.dot(res.x), a.salt_x1, c=a.salt_mask)\n",
    "plt.scatter(a.trans.dot(res.x)[~a.salt_mask], a.salt_x1[~a.salt_mask], c='C3', s=30, label='\"Bad\" SALT2 fits', alpha=0.8)\n",
    "plt.scatter(a.trans.dot(res.x)[a.salt_mask], a.salt_x1[a.salt_mask], c='C0', s=30, label='\"Good\" SALT2 fits', alpha=0.8)\n",
    "plt.plot([-3, 3], [-3, 3], ls='--', c='k', label='One-to-one line')\n",
    "plt.xlim(-3, 3)\n",
    "plt.ylim(-3, 3)\n",
    "plt.xlabel('Rotated Isomap components')\n",
    "plt.ylabel('SALT2 $x_1$')\n",
    "plt.legend()\n",
    "plt.savefig('./figures/rotated_isomap_salt_x1.pdf')\n",
    "\n",
    "\n",
    "print(np.corrcoef(a.trans.dot(res.x)[a.interp_mask & a.salt_mask], a.salt_x1[a.interp_mask & a.salt_mask]))"
   ]
  },
  {
   "cell_type": "markdown",
   "metadata": {},
   "source": [
    "## SALT2 outliers (Type Iax)"
   ]
  },
  {
   "cell_type": "code",
   "execution_count": 28,
   "metadata": {},
   "outputs": [
    {
     "name": "stdout",
     "output_type": "stream",
     "text": [
      "[Target(name=\"LSQ12fhs\") Target(name=\"SN2005cc\") Target(name=\"SN2011ay\")]\n",
      "[1.00445401 1.14540576 1.0136129 ]\n",
      "[0.03202726 0.00785178 0.02125125]\n",
      "[ 0.23935881  1.43149462 -0.45383737]\n"
     ]
    },
    {
     "data": {
      "application/vnd.jupyter.widget-view+json": {
       "model_id": "23017a32ee214b749d4881f041d598ad",
       "version_major": 2,
       "version_minor": 0
      },
      "text/plain": [
       "FigureCanvasNbAgg()"
      ]
     },
     "metadata": {},
     "output_type": "display_data"
    },
    {
     "name": "stdout",
     "output_type": "stream",
     "text": [
      "[ 5.08567677  0.81677272 -0.92275992]\n"
     ]
    }
   ],
   "source": [
    "# Outlier spectra\n",
    "mask = (a.trans[:, 0] > 5) & (a.trans[:, 1] > 2)\n",
    "print(a.targets[mask])\n",
    "print(a.colors[mask])\n",
    "print(a.redshifts[mask])\n",
    "print(a.mags[mask])\n",
    "\n",
    "idx2 = np.where((a.trans[:, 0] > 5) & (a.trans[:, 1] < 2))[0][0]\n",
    "\n",
    "plt.figure()\n",
    "for i in np.where(mask)[0]:\n",
    "    plt.plot(a.wave, a.scale_flux[i], label=a.targets[i].name)\n",
    "    \n",
    "plt.plot(a.wave, a.scale_flux[idx2], c='k', ls='--', label=a.targets[idx2].name)\n",
    "print(a.trans[idx2])\n",
    "\n",
    "plt.legend()\n",
    "\n",
    "plt.xlabel('Wavelength ($\\AA$)')\n",
    "plt.ylabel('Flux (arbitrary units)')\n",
    "\n",
    "plt.savefig('./figures/type_iax_comparison.pdf')"
   ]
  },
  {
   "cell_type": "markdown",
   "metadata": {},
   "source": [
    "## SALT2 magnitudes vs components"
   ]
  },
  {
   "cell_type": "code",
   "execution_count": 121,
   "metadata": {},
   "outputs": [
    {
     "name": "stderr",
     "output_type": "stream",
     "text": [
      "/home/kboone/packages/conda/lib/python3.7/site-packages/matplotlib/pyplot.py:514: RuntimeWarning: More than 20 figures have been opened. Figures created through the pyplot interface (`matplotlib.pyplot.figure`) are retained until explicitly closed and may consume too much memory. (To control this warning, see the rcParam `figure.max_open_warning`).\n",
      "  max_open_warning, RuntimeWarning)\n"
     ]
    },
    {
     "data": {
      "application/vnd.jupyter.widget-view+json": {
       "model_id": "c4a67e3684e14b6a93003718e3b02667",
       "version_major": 2,
       "version_minor": 0
      },
      "text/plain": [
       "FigureCanvasNbAgg()"
      ]
     },
     "metadata": {},
     "output_type": "display_data"
    }
   ],
   "source": [
    "a.scatter(a.salt_hr, mask=a.good_salt_mask & a.interp_mask, vmin=-0.3, vmax=0.3, label='SALT2-corrected residual magnitude', invert_colorbar=True)\n",
    "# a.scatter(a.salt_hr, mask=a.good_salt_mask & a.interp_mask, vmin=-0.3, vmax=0.3, label='SALT2 Hubble residuals', invert_colorbar=True)\n",
    "plt.savefig('./figures/salt2_hr_components.pdf')"
   ]
  },
  {
   "cell_type": "code",
   "execution_count": 122,
   "metadata": {},
   "outputs": [
    {
     "name": "stderr",
     "output_type": "stream",
     "text": [
      "/home/kboone/packages/conda/lib/python3.7/site-packages/matplotlib/pyplot.py:514: RuntimeWarning: More than 20 figures have been opened. Figures created through the pyplot interface (`matplotlib.pyplot.figure`) are retained until explicitly closed and may consume too much memory. (To control this warning, see the rcParam `figure.max_open_warning`).\n",
      "  max_open_warning, RuntimeWarning)\n"
     ]
    },
    {
     "data": {
      "application/vnd.jupyter.widget-view+json": {
       "model_id": "59e935a04b764b089ce1a808b61b8af7",
       "version_major": 2,
       "version_minor": 0
      },
      "text/plain": [
       "FigureCanvasNbAgg()"
      ]
     },
     "metadata": {},
     "output_type": "display_data"
    },
    {
     "name": "stderr",
     "output_type": "stream",
     "text": [
      "/home/kboone/packages/conda/lib/python3.7/site-packages/matplotlib/pyplot.py:514: RuntimeWarning: More than 20 figures have been opened. Figures created through the pyplot interface (`matplotlib.pyplot.figure`) are retained until explicitly closed and may consume too much memory. (To control this warning, see the rcParam `figure.max_open_warning`).\n",
      "  max_open_warning, RuntimeWarning)\n"
     ]
    },
    {
     "data": {
      "application/vnd.jupyter.widget-view+json": {
       "model_id": "ef3437c38980400fa861942acf4ffab5",
       "version_major": 2,
       "version_minor": 0
      },
      "text/plain": [
       "FigureCanvasNbAgg()"
      ]
     },
     "metadata": {},
     "output_type": "display_data"
    }
   ],
   "source": [
    "plt.figure()\n",
    "\n",
    "use_x = a.trans[:, 0]\n",
    "\n",
    "mask = a.salt_mask & a.redshift_color_mask & a.interp_mask\n",
    "plt.scatter(use_x[mask], a.salt_hr[mask], label='Individual supernovae')\n",
    "math.plot_binned_mean(use_x[mask], a.salt_hr[mask], c='C2', lw=2, label='Binned mean')\n",
    "plt.legend()\n",
    "\n",
    "plt.gca().invert_yaxis()\n",
    "\n",
    "plt.xlabel('Component 1')\n",
    "plt.ylabel('SALT2-corrected residual magnitude')\n",
    "\n",
    "plt.tight_layout()\n",
    "plt.savefig('./figures/salt2_hr_component_1.pdf')\n",
    "\n",
    "plt.figure()\n",
    "plt.hist(a.salt_hr[(use_x < 2) & mask], 10, (-0.6, 0.4), alpha=0.3, color='C0', label='Component 1 < 2', density=True)\n",
    "plt.hist(a.salt_hr[(use_x < 2) & mask], 10, (-0.6, 0.4), histtype='step', lw=2, color='C0', density=True)\n",
    "plt.hist(a.salt_hr[(use_x > 2) & mask], 10, (-0.6, 0.4), alpha=0.3, color='C1', label='Component 1 > 2', density=True)\n",
    "plt.hist(a.salt_hr[(use_x > 2) & mask], 10, (-0.6, 0.4), histtype='step', lw=2, color='C1', density=True)\n",
    "\n",
    "plt.gca().invert_xaxis()\n",
    "\n",
    "plt.xlabel('SALT2 residual magnitude')\n",
    "plt.ylabel('Normalized counts')\n",
    "plt.legend()\n",
    "\n",
    "plt.tight_layout()\n",
    "plt.savefig('./figures/salt2_hr_hist.pdf')"
   ]
  },
  {
   "cell_type": "markdown",
   "metadata": {},
   "source": [
    "## SALT2 + Isomap standardization"
   ]
  },
  {
   "cell_type": "code",
   "execution_count": 45,
   "metadata": {},
   "outputs": [
    {
     "name": "stdout",
     "output_type": "stream",
     "text": [
      "Fitting GP hyperparameters...\n",
      "Fit result:\n",
      "      fun: -81.60244487218607\n",
      " hess_inv: array([[ 2.59577051e-02, -1.04250891e-04, -9.82967154e-04,\n",
      "        -8.26180244e-03],\n",
      "       [-1.04250891e-04,  7.86249046e-05,  1.25693295e-04,\n",
      "         2.85355060e-04],\n",
      "       [-9.82967154e-04,  1.25693295e-04,  3.46500706e-03,\n",
      "         6.37116495e-03],\n",
      "       [-8.26180244e-03,  2.85355060e-04,  6.37116495e-03,\n",
      "         1.33836705e-02]])\n",
      "      jac: array([ 0.00000000e+00,  3.81469727e-06, -1.90734863e-06, -6.67572021e-06])\n",
      "  message: 'Optimization terminated successfully.'\n",
      "     nfev: 450\n",
      "      nit: 33\n",
      "     njev: 75\n",
      "   status: 0\n",
      "  success: True\n",
      "        x: array([ 3.10484818,  0.0884479 , -0.30768032,  6.25696017])\n",
      "Finite difference covariance step sizes: [3.20e-04 2.00e-05 1.60e-04 2.56e-03]\n",
      "Fit uncertainty: [0.16192743 0.00931934 0.14512514 3.21787536]\n",
      "Fit NMAD:        0.11275838379102883\n",
      "Fit std:         0.11720230579451736\n"
     ]
    },
    {
     "name": "stderr",
     "output_type": "stream",
     "text": [
      "/home/kboone/packages/conda/lib/python3.7/site-packages/matplotlib/pyplot.py:514: RuntimeWarning: More than 20 figures have been opened. Figures created through the pyplot interface (`matplotlib.pyplot.figure`) are retained until explicitly closed and may consume too much memory. (To control this warning, see the rcParam `figure.max_open_warning`).\n",
      "  max_open_warning, RuntimeWarning)\n"
     ]
    },
    {
     "data": {
      "application/vnd.jupyter.widget-view+json": {
       "model_id": "fc37b991a26e4a4fa473b4d88812ac15",
       "version_major": 2,
       "version_minor": 0
      },
      "text/plain": [
       "FigureCanvasNbAgg()"
      ]
     },
     "metadata": {},
     "output_type": "display_data"
    }
   ],
   "source": [
    "a.fit_gp(kind='salt_raw')\n",
    "a.plot_gp(kind='salt_raw', vmin=-0.5, vmax=0.5)\n",
    "\n",
    "plt.savefig('./figures/salt_gp_component_12.pdf')"
   ]
  },
  {
   "cell_type": "code",
   "execution_count": 63,
   "metadata": {},
   "outputs": [
    {
     "name": "stderr",
     "output_type": "stream",
     "text": [
      "/home/kboone/packages/conda/lib/python3.7/site-packages/matplotlib/pyplot.py:514: RuntimeWarning: More than 20 figures have been opened. Figures created through the pyplot interface (`matplotlib.pyplot.figure`) are retained until explicitly closed and may consume too much memory. (To control this warning, see the rcParam `figure.max_open_warning`).\n",
      "  max_open_warning, RuntimeWarning)\n"
     ]
    },
    {
     "data": {
      "application/vnd.jupyter.widget-view+json": {
       "model_id": "4ca65e9b65554cc88f3fd15f169dd7f4",
       "version_major": 2,
       "version_minor": 0
      },
      "text/plain": [
       "FigureCanvasNbAgg()"
      ]
     },
     "metadata": {},
     "output_type": "display_data"
    }
   ],
   "source": [
    "plt.figure()\n",
    "m = a.good_salt_mask & a.interp_mask\n",
    "plt.scatter(a.salt_x1[m], (a.corr_mags - a.salt_hr)[m], c=a.trans[m, 0], cmap=plt.cm.coolwarm, vmin=-3, vmax=3)\n",
    "plt.gca().invert_yaxis()\n",
    "plt.colorbar(label='Value of Isomap component 1')\n",
    "plt.xlabel('SALT2 $x_1$')\n",
    "plt.ylabel('Difference between SALT2 and\\nSALT2 + Isomap standardization (mag)')\n",
    "plt.tight_layout()\n",
    "plt.savefig('./figures/salt_isomap_difference.pdf')"
   ]
  },
  {
   "cell_type": "code",
   "execution_count": 53,
   "metadata": {},
   "outputs": [
    {
     "name": "stderr",
     "output_type": "stream",
     "text": [
      "/home/kboone/packages/conda/lib/python3.7/site-packages/matplotlib/pyplot.py:514: RuntimeWarning: More than 20 figures have been opened. Figures created through the pyplot interface (`matplotlib.pyplot.figure`) are retained until explicitly closed and may consume too much memory. (To control this warning, see the rcParam `figure.max_open_warning`).\n",
      "  max_open_warning, RuntimeWarning)\n"
     ]
    },
    {
     "data": {
      "application/vnd.jupyter.widget-view+json": {
       "model_id": "1386dfa846e2498abc7839f9894c56a3",
       "version_major": 2,
       "version_minor": 0
      },
      "text/plain": [
       "FigureCanvasNbAgg()"
      ]
     },
     "metadata": {},
     "output_type": "display_data"
    },
    {
     "data": {
      "text/plain": [
       "<matplotlib.collections.PathCollection at 0x7fafdbdad518>"
      ]
     },
     "execution_count": 53,
     "metadata": {},
     "output_type": "execute_result"
    }
   ],
   "source": [
    "plt.figure()\n",
    "plt.scatter(a.salt_x1[a.good_salt_mask], a.corr_mags[a.good_salt_mask])"
   ]
  },
  {
   "cell_type": "markdown",
   "metadata": {},
   "source": [
    "# Host galaxy correlations"
   ]
  },
  {
   "cell_type": "code",
   "execution_count": 527,
   "metadata": {},
   "outputs": [],
   "source": [
    "def apply_bootstrap_mask(vals, mask):\n",
    "    if len(np.shape(vals)) != 1 or len(vals) != mask.shape[0]:\n",
    "        # Not something to apply the bootstrap to\n",
    "        return vals\n",
    "    \n",
    "    else:\n",
    "        return vals[mask]\n",
    "\n",
    "def bootstrap_statistic(statistic, vals, *args, num_resamples=10000, **kwargs):\n",
    "    stat = statistic(vals, *args, **kwargs)\n",
    "    \n",
    "    if len(np.shape(vals)) != 1:\n",
    "        raise Exception(\"bootstrap_statistic only supported for 1-D inputs.\")\n",
    "        \n",
    "    bootstrap_idx = np.random.choice(len(vals), (len(vals), num_resamples))\n",
    "\n",
    "    bootstrap_vals = vals[bootstrap_idx]\n",
    "    \n",
    "    bootstrap_args = []\n",
    "    for arg in args:\n",
    "        bootstrap_args.append(apply_bootstrap_mask(arg, bootstrap_idx))\n",
    "        \n",
    "    bootstrap_kwargs = {}\n",
    "    for arg_name, arg in kwargs.items():\n",
    "        bootstrap_kwargs[arg_name] = apply_bootstrap_mask(arg, bootstrap_idx)\n",
    "        \n",
    "    bootstrap_stat = statistic(bootstrap_vals, *bootstrap_args, axis=0, **bootstrap_kwargs)\n",
    "    stat_err = np.std(bootstrap_stat, axis=-1)\n",
    "    \n",
    "    if len(np.shape(stat_err)) > 0:\n",
    "        stat = np.array(stat)\n",
    "    \n",
    "    return stat, stat_err"
   ]
  },
  {
   "cell_type": "code",
   "execution_count": 523,
   "metadata": {},
   "outputs": [],
   "source": [
    "def calc_step(sample, weights, axis=None):\n",
    "    vals_1 = np.average(sample, weights=weights, axis=axis)\n",
    "    vals_2 = np.average(sample, weights=1-weights, axis=axis)\n",
    "    \n",
    "    return vals_1, vals_2, vals_2 - vals_1"
   ]
  },
  {
   "cell_type": "code",
   "execution_count": 524,
   "metadata": {},
   "outputs": [
    {
     "data": {
      "text/plain": [
       "(array([ 0.00866794, -0.0158116 , -0.02447954]),\n",
       " array([0.01758642, 0.02692721, 0.03154575]))"
      ]
     },
     "execution_count": 524,
     "metadata": {},
     "output_type": "execute_result"
    }
   ],
   "source": [
    "m = a.good_salt_mask & a.host_mask & a.interp_mask & a.good_mag_mask\n",
    "bootstrap_statistic(calc_step, salt_isomap_mags[m], a.host_data['p_young'][m] / 100)"
   ]
  },
  {
   "cell_type": "code",
   "execution_count": 525,
   "metadata": {},
   "outputs": [
    {
     "data": {
      "text/plain": [
       "(array([ 0.01484403, -0.02815389, -0.04299793]),\n",
       " array([0.01490948, 0.02197723, 0.02588642]))"
      ]
     },
     "execution_count": 525,
     "metadata": {},
     "output_type": "execute_result"
    }
   ],
   "source": [
    "m = a.good_mag_mask & a.host_mask\n",
    "calc_step(rbtl_isomap_mags[m], a.host_data['p_young'][m] / 100)\n",
    "bootstrap_statistic(calc_step, rbtl_isomap_mags[m], a.host_data['p_young'][m] / 100)"
   ]
  },
  {
   "cell_type": "code",
   "execution_count": 526,
   "metadata": {},
   "outputs": [
    {
     "name": "stdout",
     "output_type": "stream",
     "text": [
      "(0.003795664125211102, 0.013938931998063548)\n",
      "(-0.0033917121161430638, 0.021066102679448633)\n"
     ]
    }
   ],
   "source": [
    "weights = np.ones(len(a.mags))\n",
    "weights[::2] = 0\n",
    "print(bootstrap_statistic(np.average, a.mags[a.good_mag_mask]))\n",
    "print(bootstrap_statistic(np.average, a.mags[a.good_mag_mask], weights=weights[a.good_mag_mask]))"
   ]
  },
  {
   "cell_type": "code",
   "execution_count": 513,
   "metadata": {},
   "outputs": [
    {
     "ename": "SyntaxError",
     "evalue": "invalid syntax (<ipython-input-513-1ecc715ad164>, line 19)",
     "output_type": "error",
     "traceback": [
      "\u001b[0;36m  File \u001b[0;32m\"<ipython-input-513-1ecc715ad164>\"\u001b[0;36m, line \u001b[0;32m19\u001b[0m\n\u001b[0;31m    val, val_err =\u001b[0m\n\u001b[0m                   ^\u001b[0m\n\u001b[0;31mSyntaxError\u001b[0m\u001b[0;31m:\u001b[0m invalid syntax\n"
     ]
    }
   ],
   "source": [
    "def analyze_host_variable(variable, mags, mask, threshold=None, sign=+1, plot=True):\n",
    "    # Default thresholds from Rigault et al. 2019\n",
    "    if threshold is None:\n",
    "        if variable == 'lssfr':\n",
    "            threshold = -10.8\n",
    "        elif variable == 'gmass':\n",
    "            threshold = 10\n",
    "        elif variable == 'p_young' or variable == 'p_highmass':\n",
    "            threshold = None\n",
    "        else:\n",
    "            raise Exception(\"Must specify threshold!\")\n",
    "\n",
    "    use_mask = mask & a.host_mask\n",
    "    use_var = a.host_data[variable][use_mask]\n",
    "    use_mags = mags[use_mask]\n",
    "    \n",
    "    if threshold is None:\n",
    "        # Do weighted probability\n",
    "        val, val_err = \n",
    "        \n",
    "    else:\n",
    "        # Do a flat cut\n",
    "        cut = use_var < threshold\n",
    "\n",
    "        sample_1 = use_mags[use_var < threshold]\n",
    "        sample_2 = use_mags[use_var > threshold]\n",
    "\n",
    "        mean_1 = np.mean(sample_1)\n",
    "        mean_2 = np.mean(sample_2)\n",
    "\n",
    "        err_1 = np.std(sample_1) / np.sqrt(len(sample_1) - 1)\n",
    "        err_2 = np.std(sample_2) / np.sqrt(len(sample_2) - 1)\n",
    "    \n",
    "    diff = sign * (mean_1 - mean_2)\n",
    "    err = np.sqrt(err_1**2 + err_2**2)\n",
    "    \n",
    "    if plot:\n",
    "        plt.figure()\n",
    "        plt.scatter(use_var, use_mags)\n",
    "\n",
    "    return diff, err"
   ]
  },
  {
   "cell_type": "code",
   "execution_count": 291,
   "metadata": {},
   "outputs": [
    {
     "name": "stderr",
     "output_type": "stream",
     "text": [
      "/home/kboone/packages/conda/lib/python3.7/site-packages/matplotlib/pyplot.py:514: RuntimeWarning: More than 20 figures have been opened. Figures created through the pyplot interface (`matplotlib.pyplot.figure`) are retained until explicitly closed and may consume too much memory. (To control this warning, see the rcParam `figure.max_open_warning`).\n",
      "  max_open_warning, RuntimeWarning)\n"
     ]
    },
    {
     "data": {
      "application/vnd.jupyter.widget-view+json": {
       "model_id": "9407e7a63b044aa0b320b2e8edc729ae",
       "version_major": 2,
       "version_minor": 0
      },
      "text/plain": [
       "FigureCanvasNbAgg()"
      ]
     },
     "metadata": {},
     "output_type": "display_data"
    },
    {
     "data": {
      "text/plain": [
       "(-0.08893440034210678, 0.03585147424242947)"
      ]
     },
     "execution_count": 291,
     "metadata": {},
     "output_type": "execute_result"
    }
   ],
   "source": [
    "analyze_host_variable('lssfr', a.salt_hr, a.good_mag_mask)"
   ]
  },
  {
   "cell_type": "code",
   "execution_count": 288,
   "metadata": {},
   "outputs": [],
   "source": [
    "a.fit_gp(kind='rbtl', verbose=False)\n",
    "rbtl_isomap_mags = a.corr_mags\n",
    "a.fit_gp(kind='salt_raw', verbose=False)\n",
    "salt_isomap_mags = a.corr_mags"
   ]
  },
  {
   "cell_type": "code",
   "execution_count": 289,
   "metadata": {},
   "outputs": [
    {
     "name": "stdout",
     "output_type": "stream",
     "text": [
      "(0.003409867206575488, 0.029479132230884747)\n",
      "(-0.04669787576565154, 0.028422318831935123)\n"
     ]
    }
   ],
   "source": [
    "print(analyze_host_variable('gmass', rbtl_isomap_mags, a.good_mag_mask, plot=False))\n",
    "print(analyze_host_variable('lssfr', rbtl_isomap_mags, a.good_mag_mask, plot=False))"
   ]
  },
  {
   "cell_type": "code",
   "execution_count": 283,
   "metadata": {},
   "outputs": [
    {
     "name": "stdout",
     "output_type": "stream",
     "text": [
      "(0.08609509248116043, 0.026609260908795625)\n",
      "(-0.1129230676134455, 0.02553876837067687)\n",
      "(0.016822469717758807, 0.027493506148109824)\n",
      "(-0.03812162386466404, 0.026798952470804296)\n"
     ]
    }
   ],
   "source": [
    "print(analyze_host_variable('gmass', a.salt_hr, a.good_salt_mask, 10., plot=False))\n",
    "print(analyze_host_variable('lssfr', a.salt_hr, a.good_salt_mask, -10.8, plot=False))\n",
    "a.fit_gp(kind='salt_raw', verbose=False)\n",
    "print(analyze_host_variable('gmass', salt_isomap_mags, a.good_salt_mask & a.interp_mask, 10., plot=False))\n",
    "print(analyze_host_variable('lssfr', salt_isomap_mags, a.good_salt_mask & a.interp_mask, -10.8, plot=False))"
   ]
  },
  {
   "cell_type": "code",
   "execution_count": 284,
   "metadata": {},
   "outputs": [
    {
     "name": "stdout",
     "output_type": "stream",
     "text": [
      "(0.04201185552896323, 0.03590401974521659)\n",
      "(-0.08955416488636746, 0.034637835085661955)\n",
      "(-0.008161766604542717, 0.030782657597718432)\n",
      "(-0.04504729901030638, 0.02993385879369351)\n",
      "(-0.028081582076588254, 0.034075502304940795)\n",
      "(-0.02959087554328841, 0.033854281769135644)\n"
     ]
    }
   ],
   "source": [
    "print(analyze_host_variable('gmass', a.salt_hr, a.good_mag_mask & a.good_salt_mask, 10., plot=False))\n",
    "print(analyze_host_variable('lssfr', a.salt_hr, a.good_mag_mask & a.good_salt_mask, -10.8, plot=False))\n",
    "a.fit_gp(kind='rbtl', verbose=False)\n",
    "print(analyze_host_variable('gmass', rbtl_isomap_mags, a.good_mag_mask & a.good_salt_mask, 10., plot=False))\n",
    "print(analyze_host_variable('lssfr', rbtl_isomap_mags, a.good_mag_mask & a.good_salt_mask, -10.8, plot=False))\n",
    "a.fit_gp(kind='salt_raw', verbose=False)\n",
    "print(analyze_host_variable('gmass', salt_isomap_mags, a.good_mag_mask & a.good_salt_mask, 10., plot=False))\n",
    "print(analyze_host_variable('lssfr', salt_isomap_mags, a.good_mag_mask & a.good_salt_mask, -10.8, plot=False))"
   ]
  },
  {
   "cell_type": "code",
   "execution_count": null,
   "metadata": {},
   "outputs": [],
   "source": [
    "host_results = {\n",
    "    # 'Local Mass':  [0.008,  0.04,   -0.02,  0.028],\n",
    "    # 'Local SFR':   [0.013,  -0.007, -0.018, 0.015],\n",
    "    # 'Local SSFR':  [0.058,  0.0956, 0.029,  0.070],\n",
    "    # 'Global Mass': [0.0258,  0.061, -0.0136,-0.008],\n",
    "    'Local Mass':  [-0.0041,  0.0488],\n",
    "    'Local SSFR':  [0.0164,  0.0744],\n",
    "    'Global Mass': [-0.0121,  0.0517],\n",
    "}\n",
    "\n",
    "err = 0.025\n",
    "\n",
    "plt.figure()\n",
    "labels = []\n",
    "for idx, (key, values) in enumerate(host_results.items()):\n",
    "    for val_idx, value in enumerate(values):\n",
    "        if val_idx >= 2:\n",
    "            continue\n",
    "        marker = 'oovv'[val_idx]\n",
    "        # color = 'C%d' % (val_idx % 2)\n",
    "        color = 'C%d' % (val_idx % 2)\n",
    "        if idx == 0:\n",
    "            label = ['Manifold twins', 'SALT2', 'Manifold twins color cut', 'SALT2 color cut'][val_idx]\n",
    "        else:\n",
    "            label = None\n",
    "        gap = 0.1\n",
    "        # xpos = idx - 3.*gap + 2*gap * val_idx + gap * (val_idx // 2)\n",
    "        # xpos = idx - 1.5*gap + gap * val_idx\n",
    "        xpos = idx - 0.5*gap + gap * val_idx\n",
    "        plt.errorbar(xpos, value, err, c=color, alpha=1.)\n",
    "        plt.plot(xpos, value, marker=marker, c=color, label=label)\n",
    "        \n",
    "    labels.append(key)\n",
    "\n",
    "plt.xticks(np.arange(len(labels)), labels=labels)\n",
    "plt.axhline(0., c='k')\n",
    "plt.xlim(-0.5, 2.5)\n",
    "# plt.ylim(-0.05, 0.13)\n",
    "\n",
    "plt.ylabel('Step size (mag)')\n",
    "plt.legend(loc=2)"
   ]
  },
  {
   "cell_type": "code",
   "execution_count": null,
   "metadata": {},
   "outputs": [],
   "source": [
    "plt.savefig('host_correlations.eps')"
   ]
  },
  {
   "cell_type": "code",
   "execution_count": null,
   "metadata": {},
   "outputs": [],
   "source": [
    "host_results = {\n",
    "    # 'Local Mass':  [0.008,  0.04,   -0.02,  0.028],\n",
    "    # 'Local SFR':   [0.013,  -0.007, -0.018, 0.015],\n",
    "    # 'Local SSFR':  [0.058,  0.0956, 0.029,  0.070],\n",
    "    # 'Global Mass': [0.0258,  0.061, -0.0136,-0.008],\n",
    "    'Local Mass':  [0.008,  0.04,   -0.004, 0.051],\n",
    "    'Local SFR':   [0.013,  -0.007, 0.0047, -0.031],\n",
    "    'Local SSFR':  [0.058,  0.0956, 0.027, 0.065],\n",
    "    'Global Mass': [0.0258,  0.061, -0.001, 0.040],\n",
    "}\n",
    "\n",
    "err = 0.025\n",
    "\n",
    "plt.figure()\n",
    "labels = []\n",
    "for idx, (key, values) in enumerate(host_results.items()):\n",
    "    for val_idx, value in enumerate(values):\n",
    "        if val_idx >= 2:\n",
    "            continue\n",
    "        marker = 'oovv'[val_idx]\n",
    "        # color = 'C%d' % (val_idx % 2)\n",
    "        color = 'C%d' % (val_idx % 2)\n",
    "        if idx == 0:\n",
    "            label = ['Manifold twins', 'SALT2', 'Manifold twins color cut', 'SALT2 color cut'][val_idx]\n",
    "        else:\n",
    "            label = None\n",
    "        gap = 0.1\n",
    "        # xpos = idx - 3.*gap + 2*gap * val_idx + gap * (val_idx // 2)\n",
    "        # xpos = idx - 1.5*gap + gap * val_idx\n",
    "        xpos = idx - 0.5*gap + gap * val_idx\n",
    "        plt.errorbar(xpos, value, err, c=color, alpha=0.3)\n",
    "        plt.plot(xpos, value, marker=marker, c=color, label=label)\n",
    "        \n",
    "    labels.append(key)\n",
    "\n",
    "plt.xticks(np.arange(len(labels)), labels=labels)\n",
    "plt.axhline(0., c='k')\n",
    "# plt.ylim(-0.05, 0.13)\n",
    "\n",
    "plt.ylabel('Step size (mag)')\n",
    "plt.legend(loc=2)"
   ]
  },
  {
   "cell_type": "code",
   "execution_count": null,
   "metadata": {},
   "outputs": [],
   "source": [
    "plt.figure()\n",
    "\n",
    "c1 = (a.host_data['lssfr'][a.train_cut[a.host_mask]] > -11)[:, 0]\n",
    "c2 = (a.corr_mags[a.host_mask[a.train_cut]] > 0.05)\n",
    "cc = c1 + 2*c2\n",
    "\n",
    "x = a.trans[:, 0][a.train_cut & a.host_mask]\n",
    "y = a.trans[:, 1][a.train_cut & a.host_mask]\n",
    "plt.scatter(x, y, c=cc, cmap=plt.cm.jet)\n",
    "plt.colorbar()"
   ]
  },
  {
   "cell_type": "code",
   "execution_count": null,
   "metadata": {},
   "outputs": [],
   "source": [
    "a.host_mask & a.train_cut"
   ]
  },
  {
   "cell_type": "code",
   "execution_count": null,
   "metadata": {},
   "outputs": [],
   "source": [
    "plt.figure()\n",
    "\n",
    "lssfr = a.host_data['lssfr'][a.train_cut[a.host_mask]]\n",
    "mag1 = a.salt_hr[a.host_mask & a.train_cut]\n",
    "mag2 = a.corr_mags[a.host_mask[a.train_cut]]\n",
    "\n",
    "for i in range(len(lssfr)):\n",
    "    bigger = mag1[i] > mag2[i]\n",
    "    if bigger:\n",
    "        c = 'C3'\n",
    "    else:\n",
    "        c = 'C0'\n",
    "    \n",
    "    plt.arrow(lssfr[i], mag1[i], 0, mag2[i] - mag1[i], width=0.01, head_width=0.1, head_length=0.03, edgecolor=c, facecolor=c)\n",
    "    \n",
    "plt.xlim(np.min(lssfr) - 0.5, np.max(lssfr) + 0.5)\n",
    "plt.ylim(-0.4, 0.4)\n",
    "\n",
    "plt.figure()\n",
    "plt.scatter(lssfr, mag1)\n",
    "\n",
    "plt.figure()\n",
    "plt.scatter(lssfr, mag2)"
   ]
  },
  {
   "cell_type": "markdown",
   "metadata": {},
   "source": [
    "# Modeling the full timeseries"
   ]
  },
  {
   "cell_type": "code",
   "execution_count": null,
   "metadata": {},
   "outputs": [],
   "source": [
    "all_phases = []\n",
    "all_trans = []\n",
    "all_fluxes = []\n",
    "all_spectra = []\n",
    "\n",
    "for idx in tqdm.tqdm(range(len(a.targets))):\n",
    "    target = a.targets[idx]\n",
    "    # scale = a.applied_scale[idx]\n",
    "    # scale = a.scale_flux[idx] / a.interpolation_result['target_flux'][idx]\n",
    "    scale = 1 / a.model_scales[idx]\n",
    "    trans = a.trans[idx]\n",
    "\n",
    "    for raw_spectrum in target.spectra:\n",
    "        spectrum = raw_spectrum.bin_by_velocity(1000).apply_scale(scale)\n",
    "        \n",
    "        all_phases.append(spectrum.phase)\n",
    "        all_fluxes.append(spectrum.flux)\n",
    "        all_trans.append(trans)\n",
    "        all_spectra.append(spectrum)\n",
    "        \n",
    "all_phases = np.array(all_phases)\n",
    "all_fluxes = np.array(all_fluxes)\n",
    "all_trans = np.array(all_trans)\n",
    "all_spectra = np.array(all_spectra)"
   ]
  },
  {
   "cell_type": "code",
   "execution_count": null,
   "metadata": {},
   "outputs": [],
   "source": [
    "plt.figure()\n",
    "plt.scatter(all_phases, all_fluxes[:, 20], c=all_trans[:, 0])"
   ]
  },
  {
   "cell_type": "code",
   "execution_count": null,
   "metadata": {},
   "outputs": [],
   "source": [
    "wave_idx = 50\n",
    "\n",
    "a.scatter(a.scale_flux[:, wave_idx], label='Flux')\n",
    "plt.title('%d $\\AA$' % a.wave[wave_idx])"
   ]
  },
  {
   "cell_type": "code",
   "execution_count": null,
   "metadata": {},
   "outputs": [],
   "source": [
    "interp_x = np.hstack([all_phases[:, None], all_trans])"
   ]
  },
  {
   "cell_type": "code",
   "execution_count": null,
   "metadata": {},
   "outputs": [],
   "source": [
    "# Take ratios to the median spectrum and see how components affect things.\n",
    "def do_plot(trans_idx, wave_idx):\n",
    "    order = np.argsort(all_phases)\n",
    "    x = all_trans[order, trans_idx]\n",
    "    y = all_fluxes[order, wave_idx]\n",
    "\n",
    "    mean_func = math.windowed_median(y)\n",
    "    scale_y = y / mean_func\n",
    "\n",
    "    plt.figure()\n",
    "    plt.scatter(x, scale_y, s=10, alpha=0.2)\n",
    "    math.plot_binned_median(x, scale_y, mode='error')\n",
    "    plt.ylim(0, 2)\n",
    "    # plt.ylim(-1, 2)\n",
    "    # plt.xlim(-30, 50)\n",
    "    \n",
    "from ipywidgets import interact\n",
    "interact(do_plot, trans_idx=(0, all_trans.shape[1]-1), wave_idx=(0, all_fluxes.shape[1]-1))"
   ]
  },
  {
   "cell_type": "markdown",
   "metadata": {},
   "source": [
    "## Spline model"
   ]
  },
  {
   "cell_type": "code",
   "execution_count": null,
   "metadata": {},
   "outputs": [],
   "source": [
    "from scipy.interpolate import BSpline\n",
    "\n",
    "min_phase = -15\n",
    "max_phase = 60\n",
    "\n",
    "t = np.arange(min_phase, max_phase, 5)\n",
    "t = np.hstack([t[0], t[0], t, t[-1], t[-1]])\n",
    "k = 3\n",
    "len_c = len(t) - k - 1\n",
    "\n",
    "def super_spline(all_c, phases, trans):\n",
    "    use_c = all_c\n",
    "\n",
    "    center_spl = BSpline(t, use_c[0], k)\n",
    "    x0_spl = BSpline(t, use_c[1], k)\n",
    "    x1_spl = BSpline(t, use_c[2], k)\n",
    "    x2_spl = BSpline(t, use_c[3], k)\n",
    "    x00_spl = BSpline(t, use_c[4], k)\n",
    "    x01_spl = BSpline(t, use_c[5], k)\n",
    "    x02_spl = BSpline(t, use_c[6], k)\n",
    "    x11_spl = BSpline(t, use_c[7], k)\n",
    "    x12_spl = BSpline(t, use_c[8], k)\n",
    "    x22_spl = BSpline(t, use_c[9], k)\n",
    "    \n",
    "    c0 = trans[:, 0] / 10.\n",
    "    c1 = trans[:, 1] / 10.\n",
    "    c2 = trans[:, 2] / 10.\n",
    "    \n",
    "    model = (\n",
    "        center_spl(phases) +\n",
    "        c0 * x0_spl(phases) +\n",
    "        c1 * x1_spl(phases) +\n",
    "        c2 * x2_spl(phases) +\n",
    "        c0 * c0 * x00_spl(phases) +\n",
    "        c0 * c1 * x01_spl(phases) +\n",
    "        c0 * c2 * x02_spl(phases) +\n",
    "        c1 * c1 * x11_spl(phases) +\n",
    "        c1 * c2 * x12_spl(phases) +\n",
    "        c2 * c2 * x22_spl(phases)\n",
    "    )\n",
    "    \n",
    "    # print(np.max(mag_model), np.min(mag_model))\n",
    "    # model = 10**(-0.4*mag_model)\n",
    "    \n",
    "    return model"
   ]
  },
  {
   "cell_type": "code",
   "execution_count": null,
   "metadata": {},
   "outputs": [],
   "source": [
    "def build_spline_basis(phases, trans):\n",
    "    basis = []\n",
    "    \n",
    "    for i in range(10):\n",
    "        for j in range(len_c):\n",
    "            impulse_coeffs = np.zeros((10, len_c))\n",
    "            impulse_coeffs[i, j] = 1.\n",
    "            spl = super_spline(impulse_coeffs, use_phases, use_trans)\n",
    "            basis.append(spl)\n",
    "            \n",
    "    basis = np.array(basis)\n",
    "    \n",
    "    return basis"
   ]
  },
  {
   "cell_type": "code",
   "execution_count": null,
   "metadata": {},
   "outputs": [],
   "source": [
    "cut = (all_phases > min_phase) & (all_phases < max_phase)\n",
    "use_phases = all_phases[cut]\n",
    "use_trans = all_trans[cut]\n",
    "basis = build_spline_basis(use_phases, use_trans)\n",
    "print(np.max(basis), np.min(basis))"
   ]
  },
  {
   "cell_type": "code",
   "execution_count": null,
   "metadata": {},
   "outputs": [],
   "source": [
    "all_spl_c = []\n",
    "for wave_idx in range(len(a.wave)):\n",
    "    use_flux = all_fluxes[cut, wave_idx]\n",
    "    coef, residuals, rank, s = np.linalg.lstsq(basis.T, use_flux, rcond=None)\n",
    "    spl_c = coef.reshape((10, len_c))\n",
    "    all_spl_c.append(spl_c)\n",
    "all_spl_c = np.array(all_spl_c)"
   ]
  },
  {
   "cell_type": "code",
   "execution_count": null,
   "metadata": {},
   "outputs": [],
   "source": [
    "np.max(a.trans)"
   ]
  },
  {
   "cell_type": "code",
   "execution_count": null,
   "metadata": {},
   "outputs": [],
   "source": [
    "vary_idx = 1\n",
    "center_loc = [0, 0, 0.]\n",
    "\n",
    "center_loc = np.array(center_loc, dtype=float)\n",
    "deltas = all_trans - center_loc\n",
    "diff = np.delete(deltas, vary_idx, axis=1)\n",
    "dist = np.sqrt(np.sum(diff**2, axis=1))\n",
    "close_cut = dist < 1.\n",
    "\n",
    "close_trans = all_trans[close_cut, vary_idx]\n",
    "\n",
    "min_vary = np.min(close_trans)\n",
    "max_vary = np.max(close_trans)\n",
    "diff = max_vary - min_vary\n",
    "min_vary -= 0.1*diff\n",
    "max_vary += 0.1*diff\n",
    "\n",
    "\n",
    "plt.figure()\n",
    "for plot_loc in np.linspace(min_vary, max_vary, 10):\n",
    "    plot_t = np.linspace(-15, 60, 1000)\n",
    "    loc = center_loc.copy()\n",
    "    loc[vary_idx] = plot_loc\n",
    "    pred_trans = np.array([loc] * len(plot_t))\n",
    "    \n",
    "    model = super_spline(spl_c, plot_t, pred_trans)\n",
    "    \n",
    "    plt.plot(\n",
    "        plot_t, model,\n",
    "        c=plt.cm.coolwarm((plot_loc - min_vary) / (max_vary - min_vary)),\n",
    "    )\n",
    "\n",
    "plt.scatter(all_phases[close_cut], all_fluxes[close_cut, wave_idx], c=all_trans[close_cut, vary_idx],\n",
    "            vmin=min_vary, vmax=max_vary, cmap=plt.cm.coolwarm)\n",
    "plt.xlim(-20, 40)\n",
    "# plt.ylim(-5, 25)"
   ]
  },
  {
   "cell_type": "code",
   "execution_count": null,
   "metadata": {},
   "outputs": [],
   "source": [
    "# Residuals\n",
    "# phases = np.array([i.phase for i in a.spectra])\n",
    "phases = np.zeros(len(a.targets))\n",
    "a.scatter(a.scale_flux[:, wave_idx], cmap=plt.cm.coolwarm)\n",
    "residuals = a.scale_flux[:, wave_idx] - super_spline(spl_c, phases, a.trans)\n",
    "scale = np.max(np.abs(residuals))\n",
    "a.scatter(residuals, cmap=plt.cm.coolwarm, vmin=-scale, vmax=scale)\n",
    "\n",
    "plt.figure()\n",
    "plt.scatter(a.trans[:, 2], residuals)"
   ]
  },
  {
   "cell_type": "code",
   "execution_count": null,
   "metadata": {},
   "outputs": [],
   "source": [
    "plt.figure()\n",
    "plt.scatter(residuals[a.train_cut & a.mag_cut], a.corr_mags[a.mag_cut[a.train_cut]])"
   ]
  },
  {
   "cell_type": "code",
   "execution_count": null,
   "metadata": {},
   "outputs": [],
   "source": [
    "plt.figure()\n",
    "plt.scatter(all_trans[:, 1], all_trans[:, 2])"
   ]
  },
  {
   "cell_type": "code",
   "execution_count": null,
   "metadata": {},
   "outputs": [],
   "source": [
    "# Reproduced spectra\n",
    "for vary_idx in range(3):\n",
    "    # center_loc = [-1.4, -0.7, 0.]\n",
    "    # center_loc = [-0.5, 0.5, 0]\n",
    "    center_loc = [0, 0.5, 0]\n",
    "    phase = 0\n",
    "\n",
    "    center_loc = np.array(center_loc, dtype=float)\n",
    "    deltas = all_trans - center_loc\n",
    "    diff = np.delete(deltas, vary_idx, axis=1)\n",
    "    dist = np.sqrt(np.sum(diff**2, axis=1))\n",
    "    close_cut = dist < 1.\n",
    "\n",
    "    close_trans = all_trans[close_cut, vary_idx]\n",
    "\n",
    "    # min_vary = np.clip(np.min(close_trans), -5, -2)\n",
    "    # max_vary = np.clip(np.max(close_trans), 2, 5)\n",
    "    min_vary = np.min(close_trans)\n",
    "    max_vary = np.max(close_trans)\n",
    "    diff = max_vary - min_vary\n",
    "    min_vary += 0.1*diff\n",
    "    max_vary -= 0.1*diff\n",
    "    vary_loc = np.linspace(min_vary, max_vary, 10)\n",
    "\n",
    "    print(min_vary, max_vary)\n",
    "\n",
    "    plt.figure(figsize=(8, 6))\n",
    "    models = []\n",
    "    for wave_idx in range(len(a.wave)):\n",
    "        plot_t = np.ones(len(vary_loc)) * phase\n",
    "        plot_loc = np.tile(center_loc, (10, 1))\n",
    "        plot_loc[:, vary_idx] = vary_loc\n",
    "\n",
    "        model = super_spline(all_spl_c[wave_idx], plot_t, plot_loc)\n",
    "\n",
    "        models.append(model)\n",
    "\n",
    "    models = np.array(models)\n",
    "    for model, model_loc in zip(models.T, vary_loc):\n",
    "        plt.plot(a.wave, model, c=plt.cm.coolwarm((model_loc - min_vary) / (max_vary - min_vary)))\n",
    "\n",
    "    plt.xlabel('Wavelength ($\\AA$)')\n",
    "    plt.ylabel('Flux')\n",
    "    plt.title('Component %d' % vary_idx)\n",
    "\n",
    "\n",
    "        # plt.plot(\n",
    "            # plot_t, model,\n",
    "            # c=plt.cm.coolwarm((plot_loc - min_vary) / (max_vary - min_vary)),\n",
    "        # )\n",
    "\n",
    "    # plt.scatter(all_phases[close_cut], all_fluxes[close_cut, wave_idx], c=all_trans[close_cut, vary_idx],\n",
    "                # vmin=min_vary, vmax=max_vary, cmap=plt.cm.coolwarm)\n",
    "    # plt.xlim(-20, 40)\n",
    "    # plt.ylim(-5, 25)"
   ]
  },
  {
   "cell_type": "code",
   "execution_count": null,
   "metadata": {},
   "outputs": [],
   "source": [
    "from idrtools.tools import snf_filters\n",
    "from idrtools.spectrum import _get_snf_magnitude\n",
    "\n",
    "lc_phases = np.linspace(min_phase, max_phase, 100)\n",
    "\n",
    "def calc_lc(band, loc):\n",
    "    models = []\n",
    "    min_wave, max_wave = snf_filters[band]\n",
    "\n",
    "    min_wave_idx = np.min(np.where(a.wave > min_wave))\n",
    "    max_wave_idx = np.max(np.where(a.wave < max_wave))\n",
    "    for wave_idx in range(min_wave_idx, max_wave_idx+1):\n",
    "        plot_loc = np.tile(loc, (len(lc_phases), 1))\n",
    "        model = super_spline(all_spl_c[wave_idx], lc_phases, plot_loc)\n",
    "        models.append(model)\n",
    "\n",
    "    models = np.array(models)\n",
    "    bandmag = []\n",
    "    for model in models.T:\n",
    "        bandmag.append(_get_snf_magnitude(a.wave[min_wave_idx:max_wave_idx+1], model, band))\n",
    "    bandmag = np.array(bandmag)\n",
    "    # bandflux = np.sum(models, axis=0) / (max_wave - min_wave)\n",
    "    # bandmag = 2.5*np.log10(bandflux)\n",
    "    \n",
    "    return bandmag"
   ]
  },
  {
   "cell_type": "code",
   "execution_count": null,
   "metadata": {},
   "outputs": [],
   "source": [
    "colors = {'u': 'C4', 'b': 'C0', 'v': 'C2', 'r': 'C3'}\n",
    "\n",
    "def plot_lc(idx):\n",
    "    loc = a.trans[idx]\n",
    "\n",
    "    target = a.targets[idx]\n",
    "    scale = 1 / a.model_scales[idx]\n",
    "    \n",
    "    p = []\n",
    "    m = []\n",
    "    e = []\n",
    "    c = []\n",
    "    for raw_spectrum in target.spectra:\n",
    "        spectrum = raw_spectrum.bin_by_velocity(1000).apply_scale(scale)\n",
    "        for band in ['u', 'b', 'v', 'r']:\n",
    "            p.append(spectrum.phase)\n",
    "            mag, err = spectrum.get_snf_magnitude(band, calculate_error=True)\n",
    "            m.append(mag)\n",
    "            e.append(err)\n",
    "            c.append(colors[band])\n",
    "            \n",
    "    print(target)\n",
    "    print(target.subset)\n",
    "    print(a.trans[idx])\n",
    "            \n",
    "    plt.figure()\n",
    "    plt.scatter(p, m, c=c)\n",
    "    plt.errorbar(p, m, e, c=c)\n",
    "        \n",
    "    for band in ['u', 'b', 'v', 'r']:\n",
    "        plt.plot(lc_phases, calc_lc(band, loc), c=colors[band])\n",
    "\n",
    "    plt.xlim(min_phase, max_phase)\n",
    "    plt.ylim(-15, -20)\n",
    "    plt.xlabel('Phase')\n",
    "    plt.ylabel('Mag')\n",
    "        \n",
    "interact(plot_lc, idx=(0, len(a.targets)-1))\n",
    "    \n",
    "    \n",
    "# loc = [0, 0, 0]\n",
    "\n",
    "# u = calc_lc('u', loc)\n",
    "# b = calc_lc('b', loc)\n",
    "# v = calc_lc('v', loc)\n",
    "# r = calc_lc('r', loc)\n",
    "\n",
    "# plt.figure()\n",
    "# plt.plot(lc_phases, u, c='C4', label='u')\n",
    "# plt.plot(lc_phases, b, c='C0', label='b')\n",
    "# plt.plot(lc_phases, v, c='C2', label='v')\n",
    "# plt.plot(lc_phases, r, c='C3', label='r')\n",
    "\n",
    "# plt.legend()\n"
   ]
  },
  {
   "cell_type": "code",
   "execution_count": null,
   "metadata": {},
   "outputs": [],
   "source": [
    "a.spectra[13]"
   ]
  },
  {
   "cell_type": "code",
   "execution_count": null,
   "metadata": {},
   "outputs": [],
   "source": [
    "dists = np.sum((a.trans - a.trans[13])**2, axis=1)"
   ]
  },
  {
   "cell_type": "code",
   "execution_count": null,
   "metadata": {},
   "outputs": [],
   "source": [
    "np.argsort(dists)"
   ]
  },
  {
   "cell_type": "code",
   "execution_count": null,
   "metadata": {},
   "outputs": [],
   "source": [
    "vary_idx = 0\n",
    "band = 'v'\n",
    "\n",
    "# center_loc = [-1.5, -2.1, 0.]\n",
    "center_loc = [0, 1, -1.]\n",
    "\n",
    "center_loc = np.array(center_loc, dtype=float)\n",
    "deltas = all_trans - center_loc\n",
    "diff = np.delete(deltas, vary_idx, axis=1)\n",
    "dist = np.sqrt(np.sum(diff**2, axis=1))\n",
    "close_cut = dist < 0.5\n",
    "\n",
    "close_trans = all_trans[close_cut, vary_idx]\n",
    "\n",
    "if len(close_trans) > 0:\n",
    "    min_vary = np.clip(np.min(close_trans), -5, -2)\n",
    "    max_vary = np.clip(np.max(close_trans), 2, 5)\n",
    "else:\n",
    "    print(\"WARNING: NO DATA IN RANGE\")\n",
    "    min_vary = -2\n",
    "    max_vary = 2\n",
    "    \n",
    "diff = max_vary - min_vary\n",
    "min_vary -= 0.1*diff\n",
    "max_vary += 0.1*diff\n",
    "vary_loc = np.linspace(min_vary, max_vary, 10)\n",
    "\n",
    "print(min_vary, max_vary)\n",
    "\n",
    "plt.figure()\n",
    "\n",
    "for plot_loc in vary_loc:\n",
    "    use_loc = center_loc.copy()\n",
    "    use_loc[vary_idx] = plot_loc\n",
    "    mag = calc_lc(band, use_loc)\n",
    "    \n",
    "    plt.plot(\n",
    "        lc_phases, mag,\n",
    "        c=plt.cm.coolwarm((plot_loc - min_vary) / (max_vary - min_vary)),\n",
    "        zorder=-1,\n",
    "    )\n",
    "    \n",
    "# Overplot real data\n",
    "plot_phases = []\n",
    "plot_mags = []\n",
    "plot_colors = []\n",
    "for idx in np.where(close_cut)[0]:\n",
    "    phase = all_phases[idx]\n",
    "    spectrum = all_spectra[idx]\n",
    "    val = all_trans[idx, vary_idx]\n",
    "    \n",
    "    mag = spectrum.get_snf_magnitude(band)\n",
    "    \n",
    "    color = plt.cm.coolwarm((val - min_vary) / (max_vary - min_vary))\n",
    "    \n",
    "    plot_phases.append(phase)\n",
    "    plot_mags.append(mag)\n",
    "    plot_colors.append(color)\n",
    "    \n",
    "plt.scatter(plot_phases, plot_mags, c=plot_colors, s=30, edgecolors='k')\n",
    "\n",
    "plt.ylim(np.nanpercentile(plot_mags, 90) + 0.5, np.nanpercentile(plot_mags, 10) - 0.5)\n",
    "plt.xlim(min_phase, max_phase)\n",
    "# plt.ylim(-4, 0)\n",
    "\n",
    "# plt.legend()"
   ]
  },
  {
   "cell_type": "code",
   "execution_count": null,
   "metadata": {},
   "outputs": [],
   "source": [
    "# Reproduced spectra\n",
    "vary_idx = 1\n",
    "center_loc = [0., 0., 0.]\n",
    "phase = 0\n",
    "\n",
    "center_loc = np.array(center_loc, dtype=float)\n",
    "\n",
    "all_model = []\n",
    "\n",
    "for wave_idx in range(len(a.wave)):\n",
    "    loc = center_loc.copy()\n",
    "    loc[vary_idx] = plot_loc\n",
    "    model = super_spline(all_spl_c[wave_idx], phase, loc)\n",
    "    all_model.append(model)\n",
    "    \n",
    "plt.figure()\n",
    "plt.plot(a.wave, all_model)\n",
    "\n",
    "vary_idx = 1\n",
    "center_loc = [0., 0., 0.]\n",
    "\n",
    "center_loc = np.array(center_loc, dtype=float)\n",
    "deltas = all_trans - center_loc\n",
    "diff = np.delete(deltas, vary_idx, axis=1)\n",
    "dist = np.sqrt(np.sum(diff**2, axis=1))\n",
    "close_cut = dist < 1.0\n",
    "\n",
    "close_trans = all_trans[close_cut, vary_idx]\n",
    "\n",
    "min_vary = np.min(close_trans)\n",
    "max_vary = np.max(close_trans)\n",
    "diff = max_vary - min_vary\n",
    "min_vary -= 0.1*diff\n",
    "max_vary += 0.1*diff\n",
    "\n",
    "\n",
    "plt.figure()\n",
    "for plot_loc in np.linspace(min_vary, max_vary, 10):\n",
    "    plot_t = np.linspace(-15, 60, 1000)\n",
    "    loc = center_loc.copy()\n",
    "    loc[vary_idx] = plot_loc\n",
    "    pred_trans = np.array([loc] * len(plot_t))\n",
    "    \n",
    "    model = super_spline(spl_c, plot_t, pred_trans)\n",
    "    \n",
    "    plt.plot(\n",
    "        plot_t, model,\n",
    "        c=plt.cm.coolwarm((plot_loc - min_vary) / (max_vary - min_vary)),\n",
    "    )\n",
    "\n",
    "plt.scatter(all_phases[close_cut], all_fluxes[close_cut, wave_idx], c=all_trans[close_cut, vary_idx],\n",
    "            vmin=min_vary, vmax=max_vary, cmap=plt.cm.coolwarm)\n",
    "plt.xlim(-20, 40)\n",
    "# plt.ylim(-5, 25)"
   ]
  },
  {
   "cell_type": "code",
   "execution_count": null,
   "metadata": {},
   "outputs": [],
   "source": [
    "a.spectra[(np.abs(a.trans[:, 0] - 0.73) < 0.1) & (np.abs(a.trans[:, 1] - 1.8) < 0.1)]"
   ]
  },
  {
   "cell_type": "markdown",
   "metadata": {},
   "source": [
    "## GP model"
   ]
  },
  {
   "cell_type": "code",
   "execution_count": null,
   "metadata": {},
   "outputs": [],
   "source": [
    "import george\n",
    "from george import kernels\n",
    "\n",
    "def build_gp(x):\n",
    "    kernel = x[0]**2 * kernels.Matern32Kernel([x[1]**2, x[2]**2, x[2]**2], ndim=3)\n",
    "    gp = george.GP(kernel)\n",
    "    yerr = x[3] * np.ones(all_fluxes.shape[0])\n",
    "    gp.compute(interp_x, yerr)\n",
    "    \n",
    "    return gp\n",
    "\n",
    "def to_min(x):\n",
    "    gp = build_gp(x)\n",
    "    \n",
    "    nll = -gp.log_likelihood(all_fluxes[:, 20])\n",
    "    # gnll = - gp.grad_log_likelihood(all_fluxes[:, 20])\n",
    "\n",
    "    print(nll, x)\n",
    "    return nll#, gnll\n",
    "\n",
    "res = minimize(to_min, [10, 5, 5, 1])#, jac=True)\n",
    "\n",
    "gp = build_gp([20, 5, 5, 1])"
   ]
  },
  {
   "cell_type": "code",
   "execution_count": null,
   "metadata": {},
   "outputs": [],
   "source": [
    "gp = build_gp([-7.3473681, 28.69758488,-2.5888035,  0.65813375])"
   ]
  },
  {
   "cell_type": "code",
   "execution_count": null,
   "metadata": {},
   "outputs": [],
   "source": [
    "res"
   ]
  },
  {
   "cell_type": "code",
   "execution_count": null,
   "metadata": {},
   "outputs": [],
   "source": [
    "pred_phase = 0\n",
    "wave_idx = 110\n",
    "\n",
    "min_x = np.min(a.trans[:, 0]) - 0.5\n",
    "max_x = np.max(a.trans[:, 0]) + 0.5\n",
    "min_y = np.min(a.trans[:, 1]) - 0.5\n",
    "max_y = np.max(a.trans[:, 1]) + 0.5\n",
    "\n",
    "num_points = 50\n",
    "\n",
    "plot_x, plot_y = np.meshgrid(np.linspace(min_x, max_x, num_points),\n",
    "                             np.linspace(min_y, max_y, num_points))\n",
    "\n",
    "flat_plot_x = plot_x.flatten()\n",
    "flat_plot_y = plot_y.flatten()\n",
    "flat_phases = pred_phase * np.ones(len(flat_plot_x))\n",
    "\n",
    "plot_coords = np.array([flat_phases, flat_plot_x, flat_plot_y]).T\n",
    "\n",
    "pred = gp.predict(all_fluxes[:, wave_idx], plot_coords, return_cov=False)\n",
    "pred = pred.reshape(plot_x.shape)\n",
    "\n",
    "cut = (all_phases - pred_phase) < 2.5\n",
    "scatter_fluxes = all_fluxes[cut, wave_idx]\n",
    "\n",
    "vmin = np.percentile(scatter_fluxes, 5)\n",
    "vmax = np.percentile(scatter_fluxes, 95)\n",
    "\n",
    "plt.figure()\n",
    "plt.imshow(pred[::-1], extent=(min_x, max_x, min_y, max_y), vmin=vmin, vmax=vmax)\n",
    "\n",
    "plt.scatter(all_trans[cut, 0], all_trans[cut, 1], c=scatter_fluxes,\n",
    "            edgecolors='k', vmin=vmin, vmax=vmax)\n",
    "\n",
    "\n",
    "plt.colorbar()"
   ]
  },
  {
   "cell_type": "code",
   "execution_count": null,
   "metadata": {},
   "outputs": [],
   "source": [
    "interp_x.shape"
   ]
  },
  {
   "cell_type": "code",
   "execution_count": null,
   "metadata": {},
   "outputs": [],
   "source": [
    "all_fluxes.shape"
   ]
  },
  {
   "cell_type": "code",
   "execution_count": null,
   "metadata": {},
   "outputs": [],
   "source": [
    "pred_x.shape"
   ]
  },
  {
   "cell_type": "code",
   "execution_count": null,
   "metadata": {},
   "outputs": [],
   "source": [
    "plot_coords.shape"
   ]
  },
  {
   "cell_type": "code",
   "execution_count": null,
   "metadata": {},
   "outputs": [],
   "source": [
    "for transval in np.linspace(-3, 3, 10):\n",
    "    pred_phases = np.arange(0, 1)\n",
    "    loc = [0, transval]\n",
    "    pred_trans = np.array([loc] * len(pred_phases))\n",
    "    pred_x = np.hstack([pred_phases[:, None], pred_trans])\n",
    "\n",
    "    all_vals = []\n",
    "    for i in range(all_fluxes.shape[1]):\n",
    "        vals, cov = gp.predict(all_fluxes[:, i], pred_x)\n",
    "        all_vals.append(vals)\n",
    "\n",
    "    all_vals = np.array(all_vals)\n",
    "    plt.plot(all_vals, label=loc)\n",
    "    plt.legend()"
   ]
  },
  {
   "cell_type": "code",
   "execution_count": null,
   "metadata": {},
   "outputs": [],
   "source": [
    "plt.figure()"
   ]
  },
  {
   "cell_type": "code",
   "execution_count": null,
   "metadata": {},
   "outputs": [],
   "source": [
    "plt.figure()\n",
    "all_vals = np.array(all_vals)\n",
    "plt.plot(all_vals)\n",
    "# plt.plot(pred_phases, all_vals)"
   ]
  },
  {
   "cell_type": "code",
   "execution_count": null,
   "metadata": {},
   "outputs": [],
   "source": [
    "x = np.arange(100)\n",
    "y1 = (x < 50).astype(float)\n",
    "y2 = (x >= 50).astype(float)\n",
    "\n",
    "in_coefs = np.random.normal(size=(1000, 2))\n",
    "in_coefs[:, 1] *= 0.5\n",
    "in_funcs = in_coefs.dot([y1, y2])\n",
    "\n",
    "in_funcs += np.random.normal(0, 0.1, size=in_funcs.shape)\n",
    "\n",
    "iso = Isomap(n_components=2, n_neighbors=10)\n",
    "trans = iso.fit_transform(in_funcs)"
   ]
  },
  {
   "cell_type": "code",
   "execution_count": null,
   "metadata": {},
   "outputs": [],
   "source": [
    "plt.figure()\n",
    "plt.scatter(in_coefs[:, 1], trans[:, 1])"
   ]
  },
  {
   "cell_type": "code",
   "execution_count": null,
   "metadata": {},
   "outputs": [],
   "source": [
    "iso.kernel_pca_.lambdas_"
   ]
  },
  {
   "cell_type": "code",
   "execution_count": null,
   "metadata": {},
   "outputs": [],
   "source": [
    "print(np.std(in_coefs, axis=0))\n",
    "print(np.std(trans, axis=0))"
   ]
  },
  {
   "cell_type": "code",
   "execution_count": null,
   "metadata": {},
   "outputs": [],
   "source": []
  },
  {
   "cell_type": "markdown",
   "metadata": {},
   "source": [
    "# Twins bias"
   ]
  },
  {
   "cell_type": "code",
   "execution_count": 149,
   "metadata": {},
   "outputs": [
    {
     "name": "stderr",
     "output_type": "stream",
     "text": [
      "/home/kboone/packages/conda/lib/python3.7/site-packages/matplotlib/pyplot.py:514: RuntimeWarning: More than 20 figures have been opened. Figures created through the pyplot interface (`matplotlib.pyplot.figure`) are retained until explicitly closed and may consume too much memory. (To control this warning, see the rcParam `figure.max_open_warning`).\n",
      "  max_open_warning, RuntimeWarning)\n"
     ]
    },
    {
     "data": {
      "application/vnd.jupyter.widget-view+json": {
       "model_id": "f30813a5eded4ae19d55e472ea8775c3",
       "version_major": 2,
       "version_minor": 0
      },
      "text/plain": [
       "FigureCanvasNbAgg()"
      ]
     },
     "metadata": {},
     "output_type": "display_data"
    }
   ],
   "source": [
    "plt.figure()\n",
    "np.random.seed(6)\n",
    "x = np.random.normal(size=50)\n",
    "y = np.random.normal(size=50)\n",
    "\n",
    "plt.scatter(x, y, label='Reference sample')\n",
    "\n",
    "for i in range(4):\n",
    "    if i == 0:\n",
    "        sel = np.argmin(x)\n",
    "    elif i == 1:\n",
    "        sel = np.argmax(x)\n",
    "    elif i == 2:\n",
    "        sel = np.argmin(y)\n",
    "    elif i == 3:\n",
    "        sel = np.argmax(y)\n",
    "\n",
    "    if i == 0:\n",
    "        label = 'New objects'\n",
    "    else:\n",
    "        label = ''\n",
    "\n",
    "    plt.scatter(x[sel], y[sel], label=label, c='C1')\n",
    "\n",
    "    twins = np.where((x - x[sel])**2 + (y - y[sel])**2 < 2)[0]\n",
    "\n",
    "    sum_x = 0\n",
    "    sum_y = 0\n",
    "\n",
    "    for twin_idx in twins:\n",
    "        if sel == twin_idx:\n",
    "            continue\n",
    "\n",
    "        if sum_x == 0 and i == 0:\n",
    "            label = 'Twins'\n",
    "        else:\n",
    "            label = ''\n",
    "        plt.plot([x[sel], x[twin_idx]], [y[sel], y[twin_idx]], label=label, c='C2', zorder=0)\n",
    "\n",
    "        sum_x += x[twin_idx]\n",
    "        sum_y += y[twin_idx]\n",
    "\n",
    "    twin_x = sum_x / (len(twins) - 1)\n",
    "    twin_y = sum_y / (len(twins) - 1)\n",
    "    \n",
    "    if i == 0:\n",
    "        label = 'Twin-recovered locations'\n",
    "    else:\n",
    "        label = ''\n",
    "\n",
    "    plt.scatter(twin_x, twin_y, c='C3', label=label, marker='*')\n",
    "\n",
    "plt.gca().set_aspect(1)\n",
    "plt.xlim(-3, 5)\n",
    "plt.ylim(-3, 3)\n",
    "\n",
    "plt.xlabel('Simulated component 1')\n",
    "plt.ylabel('Simulated component 2')\n",
    "\n",
    "plt.tight_layout()\n",
    "\n",
    "plt.legend(loc=4)\n",
    "\n",
    "plt.savefig('./figures/twins_simulation.pdf')"
   ]
  },
  {
   "cell_type": "code",
   "execution_count": 151,
   "metadata": {},
   "outputs": [],
   "source": [
    "inds = a.get_indicators()"
   ]
  },
  {
   "cell_type": "code",
   "execution_count": 155,
   "metadata": {},
   "outputs": [
    {
     "data": {
      "text/plain": [
       "['EWCaIIHK',\n",
       " 'EWSiII4000',\n",
       " 'EWSiII5972',\n",
       " 'EWSiII6355',\n",
       " 'lamCaIIHK',\n",
       " 'lamSiII6355',\n",
       " 'vCaIIHK',\n",
       " 'vSiII6355']"
      ]
     },
     "execution_count": 155,
     "metadata": {},
     "output_type": "execute_result"
    }
   ],
   "source": [
    "inds.keys()"
   ]
  },
  {
   "cell_type": "code",
   "execution_count": 162,
   "metadata": {},
   "outputs": [
    {
     "name": "stderr",
     "output_type": "stream",
     "text": [
      "/home/kboone/packages/conda/lib/python3.7/site-packages/matplotlib/pyplot.py:514: RuntimeWarning: More than 20 figures have been opened. Figures created through the pyplot interface (`matplotlib.pyplot.figure`) are retained until explicitly closed and may consume too much memory. (To control this warning, see the rcParam `figure.max_open_warning`).\n",
      "  max_open_warning, RuntimeWarning)\n"
     ]
    },
    {
     "data": {
      "application/vnd.jupyter.widget-view+json": {
       "model_id": "f927548a1e734d269f4f9f5c33f8c115",
       "version_major": 2,
       "version_minor": 0
      },
      "text/plain": [
       "FigureCanvasNbAgg()"
      ]
     },
     "metadata": {},
     "output_type": "display_data"
    },
    {
     "data": {
      "text/plain": [
       "(array([10., 50., 51., 48., 20.,  7.,  7.,  4.,  2.,  3.]),\n",
       " array([-3.02241679,  3.17477715,  9.37197109, 15.56916502, 21.76635896,\n",
       "        27.9635529 , 34.16074684, 40.35794078, 46.55513472, 52.75232866,\n",
       "        58.9495226 ]),\n",
       " <a list of 10 Patch objects>)"
      ]
     },
     "execution_count": 162,
     "metadata": {},
     "output_type": "execute_result"
    }
   ],
   "source": [
    "plt.figure()\n",
    "plt.hist(inds['EWSiII5972'])"
   ]
  },
  {
   "cell_type": "code",
   "execution_count": 163,
   "metadata": {},
   "outputs": [
    {
     "name": "stderr",
     "output_type": "stream",
     "text": [
      "/home/kboone/packages/conda/lib/python3.7/site-packages/matplotlib/pyplot.py:514: RuntimeWarning: More than 20 figures have been opened. Figures created through the pyplot interface (`matplotlib.pyplot.figure`) are retained until explicitly closed and may consume too much memory. (To control this warning, see the rcParam `figure.max_open_warning`).\n",
      "  max_open_warning, RuntimeWarning)\n"
     ]
    },
    {
     "data": {
      "application/vnd.jupyter.widget-view+json": {
       "model_id": "4813a763b18542d5bea441c96e867259",
       "version_major": 2,
       "version_minor": 0
      },
      "text/plain": [
       "FigureCanvasNbAgg()"
      ]
     },
     "metadata": {},
     "output_type": "display_data"
    },
    {
     "data": {
      "text/plain": [
       "Text(0, 0.5, 'SiII 6355 Equivalent Width')"
      ]
     },
     "execution_count": 163,
     "metadata": {},
     "output_type": "execute_result"
    }
   ],
   "source": [
    "plt.figure()\n",
    "plt.scatter(inds['EWSiII4000'], inds['EWSiII6355'], c=inds['EWSiII5972'], cmap=plt.cm.coolwarm, vmin=0, vmax=30)\n",
    "plt.xlabel('SiII 4000 Equivalent Width')\n",
    "plt.ylabel('SiII 6355 Equivalent Width')"
   ]
  },
  {
   "cell_type": "markdown",
   "metadata": {},
   "source": [
    "# Comparison to linear models"
   ]
  },
  {
   "cell_type": "code",
   "execution_count": 63,
   "metadata": {},
   "outputs": [
    {
     "name": "stderr",
     "output_type": "stream",
     "text": [
      "/home/kboone/packages/conda/lib/python3.7/site-packages/matplotlib/pyplot.py:514: RuntimeWarning: More than 20 figures have been opened. Figures created through the pyplot interface (`matplotlib.pyplot.figure`) are retained until explicitly closed and may consume too much memory. (To control this warning, see the rcParam `figure.max_open_warning`).\n",
      "  max_open_warning, RuntimeWarning)\n"
     ]
    },
    {
     "data": {
      "application/vnd.jupyter.widget-view+json": {
       "model_id": "062ae2cf3c684b538d2b0d0eaf289486",
       "version_major": 2,
       "version_minor": 0
      },
      "text/plain": [
       "FigureCanvasNbAgg()"
      ]
     },
     "metadata": {},
     "output_type": "display_data"
    }
   ],
   "source": [
    "from sklearn.decomposition import PCA\n",
    "\n",
    "num_show = 5\n",
    "\n",
    "pca = PCA()\n",
    "pca_trans = fill_mask(pca.fit_transform(a.iso_diffs[a.interp_mask]), a.interp_mask)\n",
    "\n",
    "ref_scale = pca.explained_variance_ratio_[0]\n",
    "\n",
    "plt.figure()\n",
    "# plt.scatter(np.arange(num_show), variances[:num_show] / ref_var, label='Explained variance of each component')\n",
    "plt.scatter(np.arange(num_show), pca.explained_variance_ratio_[:num_show] / ref_scale, label='Explained variance of each component')\n",
    "plt.axhline(0.1 / ref_scale, label='Approximate uncertainty cut', ls='--', c='C3')\n",
    "plt.axhline(np.mean(a.interp_power_fraction[a.interp_mask]) / ref_scale, label='Approximate mean uncertainty', ls='--', c='C2')\n",
    "plt.ylim(0, None)\n",
    "plt.xlabel('Component number')\n",
    "plt.ylabel('Fraction of total variance')\n",
    "plt.xticks(np.arange(num_show), np.arange(num_show) + 1)\n",
    "plt.legend()\n",
    "plt.tight_layout()\n",
    "\n",
    "plt.savefig('./figures/isomap_component_variance.pdf')"
   ]
  },
  {
   "cell_type": "code",
   "execution_count": 62,
   "metadata": {},
   "outputs": [
    {
     "name": "stderr",
     "output_type": "stream",
     "text": [
      "/home/kboone/packages/conda/lib/python3.7/site-packages/matplotlib/pyplot.py:514: RuntimeWarning: More than 20 figures have been opened. Figures created through the pyplot interface (`matplotlib.pyplot.figure`) are retained until explicitly closed and may consume too much memory. (To control this warning, see the rcParam `figure.max_open_warning`).\n",
      "  max_open_warning, RuntimeWarning)\n"
     ]
    },
    {
     "data": {
      "application/vnd.jupyter.widget-view+json": {
       "model_id": "5c93a7ce65974dbcacff667b0df14ce8",
       "version_major": 2,
       "version_minor": 0
      },
      "text/plain": [
       "FigureCanvasNbAgg()"
      ]
     },
     "metadata": {},
     "output_type": "display_data"
    }
   ],
   "source": [
    "a.do_embedding()\n",
    "# a.do_component_blondin_plot()\n",
    "a.scatter(a.salt_x1)"
   ]
  },
  {
   "cell_type": "code",
   "execution_count": 64,
   "metadata": {},
   "outputs": [
    {
     "name": "stderr",
     "output_type": "stream",
     "text": [
      "/home/kboone/packages/conda/lib/python3.7/site-packages/matplotlib/pyplot.py:514: RuntimeWarning: More than 20 figures have been opened. Figures created through the pyplot interface (`matplotlib.pyplot.figure`) are retained until explicitly closed and may consume too much memory. (To control this warning, see the rcParam `figure.max_open_warning`).\n",
      "  max_open_warning, RuntimeWarning)\n"
     ]
    },
    {
     "data": {
      "application/vnd.jupyter.widget-view+json": {
       "model_id": "4d463d58905346fababd06def683c806",
       "version_major": 2,
       "version_minor": 0
      },
      "text/plain": [
       "FigureCanvasNbAgg()"
      ]
     },
     "metadata": {},
     "output_type": "display_data"
    }
   ],
   "source": [
    "trans_bak = a.trans\n",
    "a.trans = pca_trans.copy()\n",
    "a.trans[:, 1] = - a.trans[:, 1]\n",
    "a.scatter(a.salt_x1)\n",
    "# a.scatter(a.trans[:, 2])\n",
    "# a.do_component_blondin_plot()\n",
    "\n",
    "a.trans = trans_bak"
   ]
  },
  {
   "cell_type": "code",
   "execution_count": 65,
   "metadata": {},
   "outputs": [
    {
     "name": "stderr",
     "output_type": "stream",
     "text": [
      "/home/kboone/packages/conda/lib/python3.7/site-packages/matplotlib/pyplot.py:514: RuntimeWarning: More than 20 figures have been opened. Figures created through the pyplot interface (`matplotlib.pyplot.figure`) are retained until explicitly closed and may consume too much memory. (To control this warning, see the rcParam `figure.max_open_warning`).\n",
      "  max_open_warning, RuntimeWarning)\n"
     ]
    },
    {
     "data": {
      "application/vnd.jupyter.widget-view+json": {
       "model_id": "742ee432009e4c5fbe8435984db38434",
       "version_major": 2,
       "version_minor": 0
      },
      "text/plain": [
       "FigureCanvasNbAgg()"
      ]
     },
     "metadata": {},
     "output_type": "display_data"
    }
   ],
   "source": [
    "plt.figure()\n",
    "plt.scatter(pca_trans[:, 1], pca_trans[:, 2], s=20)\n",
    "plt.xlabel('PCA Component 2')\n",
    "plt.ylabel('PCA Component 3')\n",
    "plt.tight_layout()\n",
    "plt.savefig('./figures/pca_component_2_3_bad.pdf')"
   ]
  },
  {
   "cell_type": "code",
   "execution_count": 66,
   "metadata": {},
   "outputs": [
    {
     "name": "stderr",
     "output_type": "stream",
     "text": [
      "/home/kboone/packages/conda/lib/python3.7/site-packages/matplotlib/pyplot.py:514: RuntimeWarning: More than 20 figures have been opened. Figures created through the pyplot interface (`matplotlib.pyplot.figure`) are retained until explicitly closed and may consume too much memory. (To control this warning, see the rcParam `figure.max_open_warning`).\n",
      "  max_open_warning, RuntimeWarning)\n"
     ]
    },
    {
     "data": {
      "application/vnd.jupyter.widget-view+json": {
       "model_id": "bc7af607ca64495eb6ce6e2fd9b56c01",
       "version_major": 2,
       "version_minor": 0
      },
      "text/plain": [
       "FigureCanvasNbAgg()"
      ]
     },
     "metadata": {},
     "output_type": "display_data"
    }
   ],
   "source": [
    "plt.figure()\n",
    "plt.scatter(a.trans[:, 1], a.trans[:, 2], s=20)\n",
    "plt.xlabel('Isomap Component 2')\n",
    "plt.ylabel('Isomap Component 3')\n",
    "plt.tight_layout()\n",
    "plt.savefig('./figures/isomap_component_2_3.pdf')"
   ]
  },
  {
   "cell_type": "markdown",
   "metadata": {},
   "source": [
    "# Attrition and LaTeX variables for things"
   ]
  },
  {
   "cell_type": "code",
   "execution_count": 268,
   "metadata": {},
   "outputs": [
    {
     "data": {
      "text/plain": [
       "(0.10176866084040756, 0.010124521582186663)"
      ]
     },
     "execution_count": 268,
     "metadata": {},
     "output_type": "execute_result"
    }
   ],
   "source": [
    "math.bootstrap_statistic(np.std, a.corr_mags[a.good_mag_mask], ddof=1)"
   ]
  },
  {
   "cell_type": "code",
   "execution_count": 271,
   "metadata": {},
   "outputs": [
    {
     "name": "stdout",
     "output_type": "stream",
     "text": [
      "\\textbf{General selection requirements} & \\\\\n",
      "Initial sample                                        & 438 \\\\\n",
      "More than 5 spectra                                   & 280 \\\\\n",
      "SALT2 date of maximum light uncertainty < 1 day       & 277 \\\\\n",
      "At least one spectrum within 5 days of maximum light  & 252 \\\\\n",
      "At least one spectrum with S/N 3300-3800~\\AA\\ > 100   & 204 \\\\\n",
      "Host galaxy model converged                           & 202 \\\\\n",
      "\\hline\n",
      "\\textbf{Estimation of the spectra at maximum light} & \\\\\n",
      "Spectrum uncertainty < 10\\% of intrinsic power        & 178 \\\\\n",
      "\\hline\n",
      "\\textbf{Valid supernova brightness requirements} & \\\\\n",
      "Host galaxy redshift available                        & 173 \\\\\n",
      "Host galaxy redshift above 0.02                       & 149 \\\\\n",
      "Measured $A_V$ < 0.5 mag                              & 138 \\\\\n",
      "Blinded training subsample                            & 76 \\\\\n",
      "\\hline\n",
      "\\textbf{Comparisons to SALT2 fits} & \\\\\n",
      "SNfactory SALT2 selection requirements                & 175 \\\\\n",
      "Passes host galaxy redshift and color requirements    & 144 \\\\\n",
      "Has a valid interpolation to maximum light            & 126 \\\\\n",
      "Blinded training subsample                            & 64 \\\\\n",
      "\n",
      "\\newcommand{\\nummanifoldsne}{202}\n",
      "\\newcommand{\\nummanifoldspectra}{591}\n",
      "\\newcommand{\\numinterpsne}{178}\n",
      "\n",
      "\\newcommand{\\numsnftrain}{77}\n",
      "\\newcommand{\\numsnfvalid}{76}\n",
      "\\newcommand{\\numsnfother}{25}\n",
      "\n",
      "\\newcommand{\\numsnredshift}{5}\n",
      "\\newcommand{\\numlowredshift}{24}\n",
      "\\newcommand{\\numhighav}{19}\n",
      "\n",
      "\\newcommand{\\nummagsne}{138}\n",
      "\\newcommand{\\nummagsnetrain}{76}\n",
      "\\newcommand{\\nummagsnevalidation}{62}\n",
      "\n",
      "\\newcommand{\\saltparammb}{-19.07}\n",
      "\\newcommand{\\saltparamalpha}{0.127}\n",
      "\\newcommand{\\saltparambeta}{2.98}\n",
      "\\newcommand{\\saltparamsigmaint}{0.107}\n",
      "\\newcommand{\\saltparamrms}{0.151 $\\pm$ 0.011}\n",
      "\\newcommand{\\saltparamnmad}{0.110 $\\pm$ 0.013}\n",
      "\\newcommand{\\saltparamwrms}{0.150}\n",
      "\\newcommand{\\saltparammindisp}{0.14}\n",
      "\\newcommand{\\saltparammaxdisp}{0.19}\n",
      "\n",
      "\\newcommand{\\rawrbtlmagstd}{0.124 $\\pm$ 0.013}\n",
      "\\newcommand{\\rawrbtlmagnmad}{0.112 $\\pm$ 0.014}\n",
      "\n",
      "\\newcommand{\\twinrbtlmagstd}{0.105}\n",
      "\\newcommand{\\twinrbtlmagnmad}{0.097}\n",
      "\n",
      "\\newcommand{\\saltcomprawrbtlmagstd}{0.112 $\\pm$ 0.010}\n",
      "\\newcommand{\\saltcompsaltmagstd}{0.136 $\\pm$ 0.014}\n",
      "\n",
      "\\newcommand{\\saltgpcolor}{3.10 $\\pm$ 0.16}\n",
      "\\newcommand{\\saltgpintdisp}{0.088 $\\pm$ 0.009}\n",
      "\\newcommand{\\saltgpkernelamp}{0.308 $\\pm$ 0.145}\n",
      "\\newcommand{\\saltgpkernellengthscale}{6.26 $\\pm$ 3.22}\n",
      "\\newcommand{\\saltgprms}{0.118 $\\pm$ 0.008}\n",
      "\\newcommand{\\saltgpcompsaltrms}{0.145 $\\pm$ 0.013}\n",
      "\n",
      "\\newcommand{\\rbtlgpcolor}{2.67 $\\pm$ 0.20}\n",
      "\\newcommand{\\rbtlgpintdisp}{0.077 $\\pm$ 0.013}\n",
      "\\newcommand{\\rbtlgpkernelamp}{0.102 $\\pm$ 0.034}\n",
      "\\newcommand{\\rbtlgpkernellengthscale}{2.70 $\\pm$ 1.88}\n",
      "\n",
      "\\newcommand{\\rbtlgprms}{0.102 $\\pm$ 0.010}\n",
      "\\newcommand{\\rbtlgpnmad}{0.090}\n",
      "\n",
      "\\newcommand{\\saltisomapdiff}{0.175 $\\pm$ 0.039}\n",
      "\n",
      "\\newcommand{\\pecvelcontribution}{0.056}\n"
     ]
    }
   ],
   "source": [
    "print(\"\\\\textbf{General selection requirements} & \\\\\\\\\")\n",
    "print(\"Initial sample                                        & %d \\\\\\\\\" % len(a.dataset.targets))\n",
    "print(\"More than 5 spectra                                   & %d \\\\\\\\\" % a.attrition_enough_spectra)\n",
    "print(\"SALT2 date of maximum light uncertainty < 1 day       & %d \\\\\\\\\" % a.attrition_salt_daymax)\n",
    "print(\"At least one spectrum within 5 days of maximum light  & %d \\\\\\\\\" % a.attrition_range)\n",
    "print(\"At least one spectrum with S/N 3300-3800~\\AA\\ > 100   & %d \\\\\\\\\" % a.attrition_usable)\n",
    "print(\"Host galaxy model converged                           & %d \\\\\\\\\" % a.attrition_explicit)\n",
    "print(\"\\hline\")\n",
    "print(\"\\\\textbf{Estimation of the spectra at maximum light} & \\\\\\\\\")\n",
    "print(\"Spectrum uncertainty < 10\\\\%% of intrinsic power        & %d \\\\\\\\\" % np.sum(a.interp_mask))\n",
    "print(\"\\hline\")\n",
    "print(\"\\\\textbf{Valid supernova brightness requirements} & \\\\\\\\\")\n",
    "print(\"Host galaxy redshift available                        & %d \\\\\\\\\" % np.sum(a.interp_mask & (a.redshift_errs < 0.004)))\n",
    "print(\"Host galaxy redshift above 0.02                       & %d \\\\\\\\\" % np.sum(a.interp_mask & (a.redshift_errs < 0.004) & (a.redshifts > 0.02)))\n",
    "print(\"Measured $A_V$ < 0.5 mag                              & %d \\\\\\\\\" % np.sum(a.interp_mask & a.redshift_color_mask))\n",
    "print(\"Blinded training subsample                            & %d \\\\\\\\\" % np.sum(a.good_mag_mask))\n",
    "print(\"\\hline\")\n",
    "print(\"\\\\textbf{Comparisons to SALT2 fits} & \\\\\\\\\")\n",
    "print(\"SNfactory SALT2 selection requirements                & %d \\\\\\\\\"% np.sum(a.salt_mask))\n",
    "print(\"Passes host galaxy redshift and color requirements    & %d \\\\\\\\\"% np.sum(a.good_salt_mask))\n",
    "print(\"Has a valid interpolation to maximum light            & %d \\\\\\\\\"% np.sum(a.good_salt_mask & a.interp_mask))\n",
    "print(\"Blinded training subsample                            & %d \\\\\\\\\"% np.sum(a.good_salt_mask & a.good_mag_mask))\n",
    "\n",
    "def latex_command(name, formatstr, val):\n",
    "    print(\"\\\\newcommand{\\\\%s}{%s}\" % (name, formatstr % val))\n",
    "    \n",
    "def latex_std(name, val):\n",
    "    std, std_err = math.bootstrap_statistic(np.std, val, ddof=1)\n",
    "    latex_command(name, '%.3f $\\\\pm$ %.3f', (std, std_err))\n",
    "    \n",
    "def latex_nmad(name, val):\n",
    "    nmad, nmad_err = math.bootstrap_statistic(math.nmad, val)\n",
    "    latex_command(name, '%.3f $\\\\pm$ %.3f', (nmad, nmad_err))\n",
    "\n",
    "print(\"\")\n",
    "\n",
    "latex_command('nummanifoldsne', '%d', len(a.targets))\n",
    "latex_command('nummanifoldspectra', '%d', len(a.spectra))\n",
    "latex_command('numinterpsne', '%d', np.sum(a.interp_mask))\n",
    "print(\"\")\n",
    "latex_command('numsnftrain', '%d', np.sum([i.subset == 'training' for i in a.targets[a.interp_mask]]))\n",
    "latex_command('numsnfvalid', '%d', np.sum([i.subset == 'validation' for i in a.targets[a.interp_mask]]))\n",
    "latex_command('numsnfother', '%d', np.sum([i.subset not in ['training', 'validation'] for i in a.targets[a.interp_mask]]))\n",
    "print(\"\")\n",
    "latex_command('numsnredshift', '%d', np.sum(a.interp_mask & (a.redshift_errs >= 0.004)))\n",
    "latex_command('numlowredshift', '%d', np.sum(a.interp_mask & (a.redshifts <= 0.02)))\n",
    "latex_command('numhighav', '%d', np.sum(a.interp_mask & (a.colors - np.nanmedian(a.colors) >= 0.5)))\n",
    "print(\"\")\n",
    "latex_command('nummagsne', '%d', np.sum(a.interp_mask & a.redshift_color_mask))\n",
    "latex_command('nummagsnetrain', '%d', np.sum(a.good_mag_mask))\n",
    "latex_command('nummagsnevalidation', '%d', np.sum(a.interp_mask & a.redshift_color_mask & ~a.good_mag_mask))\n",
    "print(\"\")\n",
    "latex_command('saltparammb', '%.2f', a.salt_MB)\n",
    "latex_command('saltparamalpha', '%.3f', a.salt_alpha)\n",
    "latex_command('saltparambeta', '%.2f', a.salt_beta)\n",
    "latex_command('saltparamsigmaint', '%.3f', a.salt_intrinsic_dispersion)\n",
    "# latex_command('saltparamrms', '%.3f', np.std(a.salt_hr[a.good_salt_mask]))\n",
    "latex_std('saltparamrms', a.salt_hr[a.good_salt_mask])\n",
    "latex_nmad('saltparamnmad', a.salt_hr[a.good_salt_mask])\n",
    "latex_command('saltparamwrms', '%.3f', a.salt_wrms)\n",
    "latex_command('saltparammindisp', '%.2f', np.min(a.salt_hr_uncertainties[a.good_salt_mask]))\n",
    "latex_command('saltparammaxdisp', '%.2f', np.max(a.salt_hr_uncertainties[a.good_salt_mask]))\n",
    "print(\"\")\n",
    "latex_std('rawrbtlmagstd', a.mags[a.good_mag_mask])\n",
    "latex_nmad('rawrbtlmagnmad', a.mags[a.good_mag_mask])\n",
    "print(\"\")\n",
    "latex_command('twinrbtlmagstd', '%.3f', a.twins_rms)\n",
    "latex_command('twinrbtlmagnmad', '%.3f', a.twins_nmad)\n",
    "print(\"\")\n",
    "latex_std('saltcomprawrbtlmagstd', a.mags[a.good_mag_mask & a.good_salt_mask])\n",
    "latex_std('saltcompsaltmagstd', a.salt_hr[a.good_mag_mask & a.good_salt_mask])\n",
    "\n",
    "a.fit_gp(verbose=False, kind='salt_raw')\n",
    "gp_uncertainties = np.sqrt(np.diag(a.gp_hyperparameter_covariance))\n",
    "print(\"\")\n",
    "latex_command('saltgpcolor', '%.2f $\\\\pm$ %.2f', (a.gp_hyperparameters[0], gp_uncertainties[0]))\n",
    "latex_command('saltgpintdisp', '%.3f $\\\\pm$ %.3f', (a.gp_hyperparameters[1], gp_uncertainties[1]))\n",
    "latex_command('saltgpkernelamp', '%.3f $\\\\pm$ %.3f', (np.abs(a.gp_hyperparameters[2]), gp_uncertainties[2]))\n",
    "latex_command('saltgpkernellengthscale', '%.2f $\\\\pm$ %.2f', (a.gp_hyperparameters[3], gp_uncertainties[3]))\n",
    "latex_std('saltgprms', a.corr_mags[a.good_salt_mask & a.interp_mask])\n",
    "latex_std('saltgpcompsaltrms', a.salt_hr[a.good_salt_mask & a.interp_mask])\n",
    "\n",
    "a.fit_gp(verbose=False)\n",
    "gp_uncertainties = np.sqrt(np.diag(a.gp_hyperparameter_covariance))\n",
    "print(\"\")\n",
    "latex_command('rbtlgpcolor', '%.2f $\\\\pm$ %.2f', (a.fiducial_rv * (1 + a.gp_hyperparameters[0]), a.fiducial_rv * gp_uncertainties[0]))\n",
    "latex_command('rbtlgpintdisp', '%.3f $\\\\pm$ %.3f', (a.gp_hyperparameters[1], gp_uncertainties[1]))\n",
    "latex_command('rbtlgpkernelamp', '%.3f $\\\\pm$ %.3f', (np.abs(a.gp_hyperparameters[2]), gp_uncertainties[2]))\n",
    "latex_command('rbtlgpkernellengthscale', '%.2f $\\\\pm$ %.2f', (a.gp_hyperparameters[3], gp_uncertainties[3]))\n",
    "\n",
    "print(\"\")\n",
    "latex_std('rbtlgprms', a.corr_mags[a.good_mag_mask])\n",
    "latex_command('rbtlgpnmad', '%.3f', math.nmad(a.corr_mags[a.good_mag_mask]))\n",
    "\n",
    "print(\"\")\n",
    "x1 = a.salt_hr[(a.trans[:, 0] < 2) & a.good_salt_mask & a.interp_mask]\n",
    "x2 = a.salt_hr[(a.trans[:, 0] > 2) & a.good_salt_mask & a.interp_mask]\n",
    "m1 = np.mean(x1)\n",
    "m2 = np.mean(x2)\n",
    "err1 = np.std(x1) / np.sqrt(len(x1))\n",
    "err2 = np.std(x2) / np.sqrt(len(x2))\n",
    "latex_command('saltisomapdiff', '%.3f $\\\\pm$ %.3f', (np.abs(m1-m2), np.sqrt(err1**2 + err2**2)))\n",
    "\n",
    "print(\"\")\n",
    "latex_command('pecvelcontribution', '%.3f', np.sqrt(np.mean(a.get_peculiar_velocity_uncertainty()[a.good_mag_mask & a.good_salt_mask]**2)))"
   ]
  },
  {
   "cell_type": "markdown",
   "metadata": {},
   "source": [
    "## Standardization comparison"
   ]
  },
  {
   "cell_type": "code",
   "execution_count": 272,
   "metadata": {},
   "outputs": [
    {
     "name": "stdout",
     "output_type": "stream",
     "text": [
      "Fitting GP hyperparameters...\n",
      "Fit result:\n",
      "      fun: -59.26127018578216\n",
      " hess_inv: array([[ 4.98245421e-03,  3.23904835e-06, -6.30946395e-04,\n",
      "        -3.05735506e-02],\n",
      "       [ 3.23904835e-06,  1.61370479e-04,  2.64752292e-05,\n",
      "         1.04339917e-02],\n",
      "       [-6.30946395e-04,  2.64752292e-05,  1.17696783e-03,\n",
      "         4.34280822e-02],\n",
      "       [-3.05735506e-02,  1.04339917e-02,  4.34280822e-02,\n",
      "         3.55195095e+00]])\n",
      "      jac: array([-2.86102295e-06, -9.05990601e-06,  2.38418579e-06, -5.72204590e-06])\n",
      "  message: 'Optimization terminated successfully.'\n",
      "     nfev: 132\n",
      "      nit: 15\n",
      "     njev: 22\n",
      "   status: 0\n",
      "  success: True\n",
      "        x: array([-0.046595  ,  0.07682295,  0.10195705,  2.69551498])\n",
      "Finite difference covariance step sizes: [1.60e-04 2.00e-05 4.00e-05 2.56e-03]\n",
      "Fit uncertainty: [0.07023724 0.01255326 0.03414024 1.8833214 ]\n",
      "Fit NMAD:        0.08971590237637203\n",
      "Fit std:         0.10109691316372353\n"
     ]
    }
   ],
   "source": [
    "a.fit_gp()"
   ]
  },
  {
   "cell_type": "code",
   "execution_count": 286,
   "metadata": {},
   "outputs": [],
   "source": [
    "pec_disp = a.get_peculiar_velocity_uncertainty()[a.good_mag_mask]\n",
    "# int_disp()"
   ]
  },
  {
   "cell_type": "code",
   "execution_count": 285,
   "metadata": {},
   "outputs": [
    {
     "data": {
      "text/plain": [
       "\u001b[0;31mSignature:\u001b[0m \u001b[0ma\u001b[0m\u001b[0;34m.\u001b[0m\u001b[0mget_peculiar_velocity_uncertainty\u001b[0m\u001b[0;34m(\u001b[0m\u001b[0mpeculiar_velocity\u001b[0m\u001b[0;34m=\u001b[0m\u001b[0;36m300\u001b[0m\u001b[0;34m)\u001b[0m\u001b[0;34m\u001b[0m\u001b[0;34m\u001b[0m\u001b[0m\n",
       "\u001b[0;31mDocstring:\u001b[0m\n",
       "Calculate dispersion added to the magnitude due to host galaxy\n",
       "peculiar velocity\n",
       "\u001b[0;31mFile:\u001b[0m      /home/scpdata06/kboone/snfactory/manifold_twins/analysis/manifold_twins.py\n",
       "\u001b[0;31mType:\u001b[0m      method\n"
      ]
     },
     "metadata": {},
     "output_type": "display_data"
    }
   ],
   "source": [
    "a.get_peculiar_velocity_uncertainty?"
   ]
  },
  {
   "cell_type": "code",
   "execution_count": 287,
   "metadata": {},
   "outputs": [
    {
     "data": {
      "text/plain": [
       "(76,)"
      ]
     },
     "execution_count": 287,
     "metadata": {},
     "output_type": "execute_result"
    }
   ],
   "source": [
    "pec_disp.shape"
   ]
  },
  {
   "cell_type": "code",
   "execution_count": 290,
   "metadata": {},
   "outputs": [
    {
     "name": "stdout",
     "output_type": "stream",
     "text": [
      "\\hline\n",
      "    Maximum spectrum &    76 &                 NMAD &   0.112 $\\pm$  0.014 &  0.090 $\\pm$  0.013 &                  -- &                  -- \\\\\n",
      "     + training cuts &       &   Standard deviation &   0.124 $\\pm$  0.013 &  0.102 $\\pm$  0.010 &                  -- &                  -- \\\\\n",
      "                     &       &    Pec. vel. removed &   0.110 $\\pm$  0.015 &  0.084 $\\pm$  0.013 &                  -- &                  -- \\\\\n",
      "\\hline\n",
      "      SALT2 fit cuts &   144 &                 NMAD &                   -- &                  -- &  0.110 $\\pm$  0.013 &                  -- \\\\\n",
      "                     &       &   Standard deviation &                   -- &                  -- &  0.152 $\\pm$  0.011 &                  -- \\\\\n",
      "                     &       &    Pec. vel. removed &                   -- &                  -- &  0.142 $\\pm$  0.012 &                  -- \\\\\n",
      "\\hline\n",
      "    Maximum spectrum &   126 &                 NMAD &                   -- &                  -- &  0.101 $\\pm$  0.014 &  0.113 $\\pm$  0.013 \\\\\n",
      "    + SALT2 fit cuts &       &   Standard deviation &                   -- &                  -- &  0.146 $\\pm$  0.013 &  0.118 $\\pm$  0.008 \\\\\n",
      "                     &       &    Pec. vel. removed &                   -- &                  -- &  0.135 $\\pm$  0.013 &  0.105 $\\pm$  0.009 \\\\\n",
      "\\hline\n",
      "            All cuts &    64 &                 NMAD &   0.121 $\\pm$  0.014 &  0.079 $\\pm$  0.014 &  0.102 $\\pm$  0.018 &  0.116 $\\pm$  0.014 \\\\\n",
      "                     &       &   Standard deviation &   0.113 $\\pm$  0.010 &  0.096 $\\pm$  0.010 &  0.137 $\\pm$  0.015 &  0.115 $\\pm$  0.010 \\\\\n",
      "                     &       &    Pec. vel. removed &   0.097 $\\pm$  0.011 &  0.077 $\\pm$  0.012 &  0.124 $\\pm$  0.016 &  0.099 $\\pm$  0.012 \\\\\n",
      "\\hline\n"
     ]
    }
   ],
   "source": [
    "def int_disp(vals, pec_vel_disps, axis=None):\n",
    "    std = np.std(vals, ddof=1, axis=axis)\n",
    "    corr = np.mean(pec_vel_disps**2, axis=axis)\n",
    "    corr_std = np.sqrt(np.clip(std**2 - corr, 0, None))\n",
    "\n",
    "    return corr_std\n",
    "\n",
    "def get_stat_str(all_mags, cut, function, *args):\n",
    "    line_str = \"\"\n",
    "    for mags in all_mags:\n",
    "        if line_str:\n",
    "            line_str += \" &\"\n",
    "            \n",
    "        use_mags = mags[cut]\n",
    "        if np.any(np.isnan(use_mags)):\n",
    "            line_str += \"%20s\" % \"--\"\n",
    "        else:\n",
    "            res, res_err = math.bootstrap_statistic(function, use_mags, *args)\n",
    "            line_str += \"%7.3f $\\pm$ %6.3f\" % (res, res_err)\n",
    "    \n",
    "    line_str += \" \\\\\\\\\"\n",
    "    \n",
    "    return line_str\n",
    "\n",
    "def make_table(all_mags, cut, label):\n",
    "    stats = {\n",
    "        'NMAD': (math.nmad,),\n",
    "        'Standard deviation': (unbiased_std,),\n",
    "        'Pec. vel. removed': (int_disp, a.get_peculiar_velocity_uncertainty()[cut]),\n",
    "    }\n",
    "    for i, (stat_name, stat_args) in enumerate(stats.items()):\n",
    "        if len(label) > i:\n",
    "            prefix = label[i]\n",
    "        else:\n",
    "            prefix = \"\"\n",
    "            \n",
    "        if i == 0:\n",
    "            num_sne = \"%d\" % np.sum(cut)\n",
    "        else:\n",
    "            num_sne = \"\"\n",
    "            \n",
    "        stat_str = get_stat_str(all_mags, cut, *stat_args)\n",
    "        print(\"%20s & %5s & %20s & %s\" % (prefix, num_sne, stat_name, stat_str))\n",
    "        \n",
    "    print(\"\\hline\")\n",
    "    \n",
    "# RBTL only\n",
    "rbtl_mags = a.mags.copy()\n",
    "rbtl_mags[~a.good_mag_mask] = np.nan\n",
    "        \n",
    "# RBTL + Isomap\n",
    "a.fit_gp(verbose=False)\n",
    "rbtl_isomap_mags = a.corr_mags.copy()\n",
    "rbtl_isomap_mags[~a.good_mag_mask] = np.nan\n",
    "\n",
    "# SALT2\n",
    "salt_mags = a.salt_hr.copy()\n",
    "salt_mags[~a.good_salt_mask] = np.nan\n",
    "\n",
    "# SALT2 + Isomap\n",
    "a.fit_gp(kind='salt_raw', verbose=False)\n",
    "salt_isomap_mags = a.corr_mags.copy()\n",
    "salt_isomap_mags[~a.good_salt_mask] = np.nan\n",
    "salt_isomap_mags[~a.interp_mask] = np.nan\n",
    "\n",
    "all_mags = [rbtl_mags, rbtl_isomap_mags, salt_mags, salt_isomap_mags]\n",
    "\n",
    "print(\"\\hline\")\n",
    "\n",
    "# RBTL only\n",
    "make_table(all_mags, a.interp_mask & a.redshift_color_mask & a.train_mask, ['Maximum spectrum', '+ training cuts'])\n",
    "\n",
    "# SALT2 only\n",
    "make_table(all_mags, a.good_salt_mask, ['SALT2 fit cuts'])\n",
    "\n",
    "# SALT2 + Isomap\n",
    "make_table(all_mags, a.good_salt_mask & a.interp_mask, ['Maximum spectrum', '+ SALT2 fit cuts'])\n",
    "\n",
    "# All\n",
    "make_table(all_mags, a.interp_mask & a.redshift_color_mask & a.salt_mask & a.train_mask, ['All cuts'])"
   ]
  },
  {
   "cell_type": "code",
   "execution_count": null,
   "metadata": {},
   "outputs": [],
   "source": []
  }
 ],
 "metadata": {
  "kernelspec": {
   "display_name": "Python 3",
   "language": "python",
   "name": "python3"
  },
  "language_info": {
   "codemirror_mode": {
    "name": "ipython",
    "version": 3
   },
   "file_extension": ".py",
   "mimetype": "text/x-python",
   "name": "python",
   "nbconvert_exporter": "python",
   "pygments_lexer": "ipython3",
   "version": "3.7.2"
  },
  "toc-autonumbering": true,
  "toc-showmarkdowntxt": false
 },
 "nbformat": 4,
 "nbformat_minor": 2
}
